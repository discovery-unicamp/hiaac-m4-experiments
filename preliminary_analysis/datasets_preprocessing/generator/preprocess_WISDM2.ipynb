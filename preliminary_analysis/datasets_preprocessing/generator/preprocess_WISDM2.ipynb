{
 "cells": [
  {
   "cell_type": "code",
   "execution_count": 2,
   "id": "09746a36-7fb7-44ed-8750-7ee66f6e64cc",
   "metadata": {},
   "outputs": [],
   "source": [
    "import numpy as np \n",
    "import pandas as pd\n",
    "import os\n",
    "import plotly.express as px\n",
    "import plotly.graph_objects as go\n",
    "from tqdm.notebook import tqdm\n",
    "from scipy import interpolate\n",
    "from scipy import signal\n",
    "import time\n",
    "import matplotlib.pyplot as plt"
   ]
  },
  {
   "cell_type": "code",
   "execution_count": 3,
   "id": "32fbabde-8b08-4235-bdbc-4327b76828b0",
   "metadata": {},
   "outputs": [],
   "source": [
    "def readWISDM(usuario):\n",
    "    pasta = \"C:\\\\Users\\\\Usuario\\\\Desktop\\\\wisdm-dataset\\\\wisdm-dataset\\\\raw\\\\phone\\\\\"\n",
    "    fileA = 'data_' + str(usuario) + '_accel_phone.txt'\n",
    "    fileG = 'data_' + str(usuario) + '_gyro_phone.txt'\n",
    "    acc = np.loadtxt(pasta+'accel\\\\'+fileA, delimiter=',', comments=';', unpack=True,\n",
    "                     dtype={'names': ('Subject-id', 'Activity Label', 'Timestamp', 'x', 'y', 'z'),\n",
    "                            'formats': ('i4', 'U1', 'u8', 'f8', 'f8', 'f8')})\n",
    "    gyr = np.loadtxt(pasta+'gyro\\\\'+fileG, delimiter=',', comments=';', unpack=True,\n",
    "                     dtype={'names': ('Subject-id', 'Activity Label', 'Timestamp', 'x', 'y', 'z'),\n",
    "                            'formats': ('i4', 'U1', 'u8', 'f8', 'f8', 'f8')})\n",
    "    return acc, gyr"
   ]
  },
  {
   "cell_type": "code",
   "execution_count": 4,
   "id": "15e074c7-a603-4521-8f27-e335b1e52b11",
   "metadata": {},
   "outputs": [
    {
     "data": {
      "text/plain": [
       "array(['A', 'B', 'C', 'D', 'E', 'F', 'G', 'H', 'I', 'J', 'K', 'L', 'M',\n",
       "       'O', 'P', 'Q', 'R', 'S'], dtype='<U1')"
      ]
     },
     "execution_count": 4,
     "metadata": {},
     "output_type": "execute_result"
    }
   ],
   "source": [
    "acc, gyr = readWISDM(1649)\n",
    "labels = np.unique(acc[1])\n",
    "labels"
   ]
  },
  {
   "cell_type": "code",
   "execution_count": 5,
   "id": "ac6f745e-6692-4275-93a8-e370792b5d51",
   "metadata": {},
   "outputs": [],
   "source": [
    "rotulos = np.array(['walking', 'jogging', 'stairs', 'sitting', 'standing'])\n",
    "conversao = [2, 5, 6, 0, 1]\n",
    "# Rótulos WISDM\n",
    "# 0: walking \n",
    "# 1: jogging \n",
    "# 2: stairs\n",
    "# 3: sitting\n",
    "# 4: standing\n",
    "# Rotulos padronizados\n",
    "# 0: Sit\n",
    "# 1: Stand\n",
    "# 2: Walk \n",
    "# 3: Upstairs\n",
    "# 4: Downstairs\n",
    "# 5: Run/Jogging\n",
    "# 6: Stairs"
   ]
  },
  {
   "cell_type": "code",
   "execution_count": 7,
   "id": "2d1890ce-0e39-425d-a158-50369cca18de",
   "metadata": {},
   "outputs": [
    {
     "data": {
      "application/vnd.jupyter.widget-view+json": {
       "model_id": "cc641650c81e44b1bab93498a552495d",
       "version_major": 2,
       "version_minor": 0
      },
      "text/plain": [
       "  0%|          | 0/51 [00:00<?, ?it/s]"
      ]
     },
     "metadata": {},
     "output_type": "display_data"
    }
   ],
   "source": [
    "chunk = np.array()\n",
    "cont = 0\n",
    "\n",
    "mfi1 = []\n",
    "vfi1 = []\n",
    "mfi2 = []\n",
    "vfi2 = []\n",
    "for usuario in tqdm(range(1600,1651)): #1600\n",
    "    acc, gyr = readWISDM(usuario)\n",
    "    A = np.array(acc[3:])\n",
    "    G = np.array(gyr[3:])\n",
    "    for atividade in range(5): #18):\n",
    "        ind1 = acc[1]==labels[atividade]\n",
    "        ind2 = gyr[1]==labels[atividade]\n",
    "        if ~np.all(~ind1) and ~np.all(~ind2):\n",
    "            t1 = acc[2][ind1]/1000000000\n",
    "            t2 = gyr[2][ind2]/1000000000\n",
    "            t1 = t1-t1[0]\n",
    "            t2 = t2-t2[0]\n",
    "            \n",
    "            ### Removendo janelas\n",
    "            if np.any(np.diff(t1)<0):\n",
    "                pos = np.nonzero(np.diff(t1)<0)[0].astype(int)\n",
    "                for k in pos:\n",
    "                    t1[k+1:] = t1[k+1:]+t1[k]+1/20\n",
    "            if np.any(np.diff(t2)<0):\n",
    "                pos = np.nonzero(np.diff(t2)<0)[0].astype(int)\n",
    "                for k in pos:\n",
    "                    t2[k+1:] = t2[k+1:]+t2[k]+1/20\n",
    "\n",
    "            fA = A[:,ind1]\n",
    "            fG = G[:,ind2]\n",
    "\n",
    "            ### Interpolando\n",
    "            intp1 = interpolate.interp1d(t1, fA, kind='cubic')\n",
    "            intp2 = interpolate.interp1d(t2, fG, kind='cubic')\n",
    "            nt1 = np.arange(0,t1[-1],1/20)\n",
    "            nt2 = np.arange(0,t2[-1],1/20)\n",
    "            fA = intp1(nt1)\n",
    "            fG = intp2(nt2)\n",
    "\n",
    "            \n",
    "            # mfi1.append(np.mean(1/np.diff(t1)))\n",
    "            # vfi1.append(np.std(1/np.diff(t1)))\n",
    "            # mfi2.append(np.mean(1/np.diff(t2)))\n",
    "            # vfi2.append(np.std(1/np.diff(t2)))\n",
    "\n",
    "            NJ = min(fA.shape[1]//60, fG.shape[1]//60)\n",
    "            aux = np.zeros(60*6+3)\n",
    "            for i in range(NJ):\n",
    "                aux[:180] = fA[:,i*60:(i+1)*60].reshape(60*3)\n",
    "                aux[180:360] = fG[:,i*60:(i+1)*60].reshape(60*3)\n",
    "                if atividade < 5:\n",
    "                    aux[-1] = conversao[atividade]\n",
    "                aux[-2] = usuario\n",
    "                aux[-3] = atividade\n",
    "                chunk.append(aux)"
   ]
  },
  {
   "cell_type": "code",
   "execution_count": 14,
   "id": "0b60f33c-5c71-4166-b14f-b5bebf1b83d5",
   "metadata": {},
   "outputs": [
    {
     "data": {
      "text/plain": [
       "array([[-3.64761350e-01, -9.00995470e-01,  1.98847712e+00, ...,\n",
       "         0.00000000e+00,  1.60000000e+03,  2.00000000e+00],\n",
       "       [ 8.10018945e-02, -5.95542451e-02,  4.29259811e-01, ...,\n",
       "         0.00000000e+00,  1.60000000e+03,  2.00000000e+00],\n",
       "       [ 1.92588077e-01, -8.55499056e-01, -1.24274639e+00, ...,\n",
       "         0.00000000e+00,  1.60000000e+03,  2.00000000e+00],\n",
       "       ...,\n",
       "       [ 0.00000000e+00,  0.00000000e+00,  0.00000000e+00, ...,\n",
       "         0.00000000e+00,  0.00000000e+00,  0.00000000e+00],\n",
       "       [ 0.00000000e+00,  0.00000000e+00,  0.00000000e+00, ...,\n",
       "         0.00000000e+00,  0.00000000e+00,  0.00000000e+00],\n",
       "       [ 0.00000000e+00,  0.00000000e+00,  0.00000000e+00, ...,\n",
       "         0.00000000e+00,  0.00000000e+00,  0.00000000e+00]])"
      ]
     },
     "execution_count": 14,
     "metadata": {},
     "output_type": "execute_result"
    }
   ],
   "source": [
    "comgravidade = chunk[:15196,:]"
   ]
  },
  {
   "cell_type": "code",
   "execution_count": null,
   "id": "e494d0e6-ef8c-4f6c-820b-fe040e950ced",
   "metadata": {},
   "outputs": [],
   "source": [
    "fig = go.Figure()\n",
    "fig.add_trace(go.Scatter(y=comgravidade[1310,:360], mode='lines'))"
   ]
  },
  {
   "cell_type": "code",
   "execution_count": null,
   "id": "42718c98-f185-475b-bfd2-40472a53089e",
   "metadata": {},
   "outputs": [],
   "source": [
    "px.histogram(comgravidade[:,-3])"
   ]
  },
  {
   "cell_type": "code",
   "execution_count": null,
   "id": "09dc5139-db87-44a8-98ef-a4cce9f19c00",
   "metadata": {},
   "outputs": [],
   "source": [
    "fig = px.scatter(y=mfi1, error_y=vfi1)\n",
    "fig.add_trace(go.Scatter(y=mfi2, \n",
    "        error_y=dict(\n",
    "            type='data', # value of error bar given in data coordinates\n",
    "            array=vfi2,\n",
    "            visible=True), mode='markers', showlegend=False))\n",
    "fig.show()"
   ]
  },
  {
   "cell_type": "code",
   "execution_count": null,
   "id": "b24f2814-2198-4469-bcc2-a34f3d1959eb",
   "metadata": {},
   "outputs": [],
   "source": [
    "colunas = ['accel-x-' + str(x) for x in np.arange(60).tolist()]\n",
    "colunas += ['accel-y-' + str(x) for x in np.arange(60).tolist()]\n",
    "colunas += ['accel-z-' + str(x) for x in np.arange(60).tolist()]\n",
    "colunas += ['gyro-x-' + str(x) for x in np.arange(60).tolist()]\n",
    "colunas += ['gyro-y-' + str(x) for x in np.arange(60).tolist()]\n",
    "colunas += ['gyro-z-' + str(x) for x in np.arange(60).tolist()]\n",
    "colunas += ['activity code']\n",
    "colunas += ['user']\n",
    "colunas += ['standard activity code']\n",
    "colunas"
   ]
  },
  {
   "cell_type": "code",
   "execution_count": null,
   "id": "8479f3f9-3f2b-4cea-8cd4-e64c3e37838e",
   "metadata": {},
   "outputs": [],
   "source": [
    "dfcg = pd.DataFrame(data=comgravidade)\n",
    "dfcg.columns = colunas\n",
    "dfcg = dfcg.astype({\"activity code\": int, \"user\": int, \"standard activity code\": int})"
   ]
  },
  {
   "cell_type": "code",
   "execution_count": null,
   "id": "3e7d117a-c230-48ce-965e-35dd02f2aaea",
   "metadata": {},
   "outputs": [],
   "source": [
    "treinocg = dfcg[dfcg['user']<=1635]\n",
    "testecg = dfcg[dfcg['user']>1635]\n",
    "treinocg.shape[0]/(treinocg.shape[0]+testecg.shape[0])"
   ]
  },
  {
   "cell_type": "code",
   "execution_count": null,
   "id": "ea38d2ec-c205-40c2-b932-b6942fcdfbda",
   "metadata": {},
   "outputs": [],
   "source": [
    "folder = 'C:\\\\Users\\\\Usuario\\\\Desktop\\\\data\\\\WISDM\\\\original_view\\\\'\n",
    "sub = 'WISDM_balanced_20Hz_with_gravity\\\\'\n",
    "treinocg.to_csv(folder+'train.csv',index=False)\n",
    "testecg.to_csv(folder+'test.csv',index=False)"
   ]
  },
  {
   "cell_type": "code",
   "execution_count": null,
   "id": "e113ce46-0df4-48a0-9072-e592f4013dc8",
   "metadata": {},
   "outputs": [],
   "source": [
    "folder = 'C:\\\\Users\\\\Narayana\\\\Desktop\\\\organizando datasets\\\\WISDM organizado\\\\'\n",
    "df0 = pd.read_csv(folder+'WISDM_V0.csv')\n",
    "treino = pd.read_csv(folder+'WISDM_V2_train.csv')\n",
    "teste = pd.read_csv(folder+'WISDM_V2_test.csv')"
   ]
  },
  {
   "cell_type": "code",
   "execution_count": null,
   "id": "bbe4b2d8-5a5b-4465-9784-8e210397e0c7",
   "metadata": {},
   "outputs": [],
   "source": [
    "print('Fração de treino e teste', '\\nTreino: ', treino.shape[0]/(treino.shape[0]+teste.shape[0]),\n",
    "      '\\nTeste: ', teste.shape[0]/(treino.shape[0]+teste.shape[0]))"
   ]
  },
  {
   "cell_type": "code",
   "execution_count": null,
   "id": "c47046f4-16c8-40c9-8489-feafd67a5c0b",
   "metadata": {},
   "outputs": [],
   "source": [
    "treino.to_csv('WISDM_V2_train.csv',index=False)\n",
    "teste.to_csv('WISDM_V2_test.csv',index=False)"
   ]
  },
  {
   "cell_type": "code",
   "execution_count": null,
   "id": "21470ded-ff95-4153-94f6-411281a9f186",
   "metadata": {},
   "outputs": [],
   "source": [
    "from sklearn import svm\n",
    "from sklearn.ensemble import RandomForestClassifier\n",
    "from sklearn.neighbors import KNeighborsClassifier\n",
    "from sklearn.metrics import f1_score\n",
    "from sklearn.metrics import accuracy_score\n",
    "from sklearn.metrics import ConfusionMatrixDisplay\n",
    "from sklearn.model_selection import train_test_split\n",
    "import umap"
   ]
  }
 ],
 "metadata": {
  "kernelspec": {
   "display_name": "Python 3",
   "language": "python",
   "name": "python3"
  },
  "language_info": {
   "codemirror_mode": {
    "name": "ipython",
    "version": 3
   },
   "file_extension": ".py",
   "mimetype": "text/x-python",
   "name": "python",
   "nbconvert_exporter": "python",
   "pygments_lexer": "ipython3",
   "version": "3.9.13"
  },
  "vscode": {
   "interpreter": {
    "hash": "8344beb2e3695cc865366b87c9e795fe295d5e1a75013da0c7029a373688a8d6"
   }
  }
 },
 "nbformat": 4,
 "nbformat_minor": 5
}
