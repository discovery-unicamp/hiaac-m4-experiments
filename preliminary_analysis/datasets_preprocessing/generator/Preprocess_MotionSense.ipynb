{
 "cells": [
  {
   "cell_type": "markdown",
   "id": "ea402ac5-031d-4b8a-b330-b71f2085f956",
   "metadata": {},
   "source": [
    "# Pre-processing MotionSense Dataset and Generate Views - Without Gravity - Filtered - Multiplying Acc by 9.81 m/s² - Resampling to 20 Hz"
   ]
  },
  {
   "cell_type": "code",
   "execution_count": 1,
   "id": "498254b0-ea10-4f02-b718-d26ce855b77b",
   "metadata": {
    "tags": []
   },
   "outputs": [],
   "source": [
    "%load_ext autoreload\n",
    "%autoreload 2"
   ]
  },
  {
   "cell_type": "code",
   "execution_count": 2,
   "id": "fad53baa-1190-4969-9ae9-489321c5966e",
   "metadata": {
    "tags": []
   },
   "outputs": [
    {
     "name": "stderr",
     "output_type": "stream",
     "text": [
      "/home/patrick/.local/lib/python3.8/site-packages/tqdm/auto.py:22: TqdmWarning: IProgress not found. Please update jupyter and ipywidgets. See https://ipywidgets.readthedocs.io/en/stable/user_install.html\n",
      "  from .autonotebook import tqdm as notebook_tqdm\n"
     ]
    }
   ],
   "source": [
    "from pathlib import Path\n",
    "from typing import List\n",
    "import hashlib\n",
    "import pandas as pd\n",
    "\n",
    "from librep.datasets.har.motionsense import (\n",
    "    RawMotionSense,\n",
    "    RawMotionSenseIterator,\n",
    "    MotionSenseDatasetGenerator\n",
    ")\n",
    "from librep.utils.dataset import PandasDatasetsIO\n",
    "\n",
    "%matplotlib inline"
   ]
  },
  {
   "cell_type": "markdown",
   "id": "7e6cf88f",
   "metadata": {},
   "source": [
    "## Raw balanced MotionSense"
   ]
  },
  {
   "cell_type": "code",
   "execution_count": 3,
   "id": "12bf855c-9947-4174-980c-5942527eaf04",
   "metadata": {
    "tags": []
   },
   "outputs": [
    {
     "data": {
      "text/plain": [
       "MotionSense Dataset at: '../../../../../data_2/views/MotionSense/A_DeviceMotion_data'"
      ]
     },
     "execution_count": 3,
     "metadata": {},
     "output_type": "execute_result"
    }
   ],
   "source": [
    "dataset_dir = Path(\"../../../../../data_2/views/MotionSense/A_DeviceMotion_data\")\n",
    "motionsense_dataset = RawMotionSense(dataset_dir, download=False)\n",
    "motionsense_dataset"
   ]
  },
  {
   "cell_type": "code",
   "execution_count": 4,
   "id": "366c2abc",
   "metadata": {
    "tags": []
   },
   "outputs": [
    {
     "data": {
      "text/plain": [
       "['dws', 'ups', 'sit', 'std', 'wlk', 'jog']"
      ]
     },
     "execution_count": 4,
     "metadata": {},
     "output_type": "execute_result"
    }
   ],
   "source": [
    "act_names = [motionsense_dataset.activity_names[i] for i in motionsense_dataset.activities]\n",
    "act_names"
   ]
  },
  {
   "cell_type": "code",
   "execution_count": 5,
   "id": "39ffda3f-7686-49d1-a02d-576e4207b6c9",
   "metadata": {
    "tags": []
   },
   "outputs": [
    {
     "data": {
      "text/plain": [
       "MotionSense Iterator: users=24, activities=6"
      ]
     },
     "execution_count": 5,
     "metadata": {},
     "output_type": "execute_result"
    }
   ],
   "source": [
    "iterator = RawMotionSenseIterator(motionsense_dataset, users_to_select=None, activities_to_select=None)\n",
    "iterator"
   ]
  },
  {
   "cell_type": "code",
   "execution_count": 6,
   "id": "f75a8cb6-5083-44f9-bfbd-50f55836bb75",
   "metadata": {
    "tags": []
   },
   "outputs": [
    {
     "data": {
      "text/plain": [
       "Dataset generator: time_window=150, overlap=0"
      ]
     },
     "execution_count": 6,
     "metadata": {},
     "output_type": "execute_result"
    }
   ],
   "source": [
    "motionsense_raw = MotionSenseDatasetGenerator(iterator, time_window=150, window_overlap=0, add_gravity=False, \n",
    "                                             add_filter=False, resampler=False, change_acc_measure=False)\n",
    "\n",
    "motionsense_raw"
   ]
  },
  {
   "cell_type": "code",
   "execution_count": 7,
   "id": "add044d7-6666-4f31-93e5-d4af57e01e56",
   "metadata": {
    "tags": []
   },
   "outputs": [
    {
     "name": "stderr",
     "output_type": "stream",
     "text": [
      "Generating full df over MotionSense View: 360it [00:15, 23.58it/s]\n"
     ]
    },
    {
     "name": "stdout",
     "output_type": "stream",
     "text": [
      "(9242, 1805)\n"
     ]
    }
   ],
   "source": [
    "train_raw, validation_raw, test_raw = motionsense_raw.create_datasets(\n",
    "    train_size=0.7,\n",
    "    validation_size=0.1,\n",
    "    test_size=0.2,\n",
    "    ensure_distinct_users_per_dataset=True,\n",
    "    balance_samples=True,\n",
    "    seed=0\n",
    ")"
   ]
  },
  {
   "cell_type": "code",
   "execution_count": 8,
   "id": "9f0dcb11-f07e-4e60-a859-ea209900beb0",
   "metadata": {
    "tags": []
   },
   "outputs": [
    {
     "name": "stdout",
     "output_type": "stream",
     "text": [
      "0512b620647e1d62b56cdb34a2330acba29f53c0\n",
      "e3194e06a68bd169d5451dbff7c42648ca2c4289\n",
      "004c02910e8228058c1373f0491d184c26d61ebe\n"
     ]
    }
   ],
   "source": [
    "print(hashlib.sha1(pd.util.hash_pandas_object(train_raw).values).hexdigest())\n",
    "print(hashlib.sha1(pd.util.hash_pandas_object(validation_raw).values).hexdigest())\n",
    "print(hashlib.sha1(pd.util.hash_pandas_object(test_raw).values).hexdigest())"
   ]
  },
  {
   "cell_type": "code",
   "execution_count": 9,
   "id": "c7a9cda8-f111-4715-94c2-e474574149ab",
   "metadata": {
    "tags": []
   },
   "outputs": [
    {
     "data": {
      "text/plain": [
       "PandasDatasetIO at '../../data/views/MotionSense/raw_balanced'"
      ]
     },
     "execution_count": 9,
     "metadata": {},
     "output_type": "execute_result"
    }
   ],
   "source": [
    "output_path = Path(\"../../data/views/MotionSense/raw_balanced\")\n",
    "\n",
    "description = \"\"\"# Raw Balanced MotionSense\n",
    "\n",
    "This view contains train, validation and test subsets in the following proportions:\n",
    "- Train: 70% of samples\n",
    "- Validation: 10% of samples\n",
    "- Test: 20% of samples\n",
    "\n",
    "After splits, the datasets were balanced in relation to the activity code column, that is, each subset have the same number of activitiy samples.\n",
    "\n",
    "**NOTE**: Each subset contain samples from distinct users, that is, samples of one user belongs exclusivelly to one of three subsets.\n",
    "\"\"\"\n",
    "pandas_io = PandasDatasetsIO(output_path)\n",
    "pandas_io"
   ]
  },
  {
   "cell_type": "code",
   "execution_count": 10,
   "id": "4f4a9c1b-beca-4c22-a84a-319fc341e709",
   "metadata": {
    "tags": []
   },
   "outputs": [],
   "source": [
    "pandas_io.save(\n",
    "    train=train_raw, \n",
    "    validation=validation_raw, \n",
    "    test=test_raw, \n",
    "    description=description\n",
    ")"
   ]
  },
  {
   "cell_type": "markdown",
   "id": "6e726e1b",
   "metadata": {},
   "source": [
    "## Normalized balanced MotionSense"
   ]
  },
  {
   "cell_type": "code",
   "execution_count": 11,
   "id": "0af607b2",
   "metadata": {},
   "outputs": [
    {
     "data": {
      "text/plain": [
       "Dataset generator: time_window=60, overlap=0"
      ]
     },
     "execution_count": 11,
     "metadata": {},
     "output_type": "execute_result"
    }
   ],
   "source": [
    "motionsense_normalized = MotionSenseDatasetGenerator(iterator, time_window=60, window_overlap=0, add_gravity=True, \n",
    "                                                     add_filter=True, resampler=True, fs=20, \n",
    "                                                     change_acc_measure=True)\n",
    "\n",
    "motionsense_normalized"
   ]
  },
  {
   "cell_type": "code",
   "execution_count": 12,
   "id": "e67ece36",
   "metadata": {},
   "outputs": [
    {
     "name": "stderr",
     "output_type": "stream",
     "text": [
      "Generating full df over MotionSense View: 360it [00:12, 28.94it/s]\n"
     ]
    },
    {
     "name": "stdout",
     "output_type": "stream",
     "text": [
      "(9242, 725)\n"
     ]
    }
   ],
   "source": [
    "train_normalized, validation_normalized, test_normalized = motionsense_normalized.create_datasets(\n",
    "    train_size=0.7,\n",
    "    validation_size=0.1,\n",
    "    test_size=0.2,\n",
    "    ensure_distinct_users_per_dataset=True,\n",
    "    balance_samples=True,\n",
    "    seed=0\n",
    ")"
   ]
  },
  {
   "cell_type": "code",
   "execution_count": 13,
   "id": "de356dba",
   "metadata": {},
   "outputs": [
    {
     "name": "stdout",
     "output_type": "stream",
     "text": [
      "bad20a4b7ffc7d1f246e00baaf9af24f958ce2d8\n",
      "51ac451d8a7d84ec970c19f36ba028f4f0c3fb7f\n",
      "34ff2de21405078ac40f9d538ce6ad28ba8bf044\n"
     ]
    }
   ],
   "source": [
    "print(hashlib.sha1(pd.util.hash_pandas_object(train_normalized).values).hexdigest())\n",
    "print(hashlib.sha1(pd.util.hash_pandas_object(validation_normalized).values).hexdigest())\n",
    "print(hashlib.sha1(pd.util.hash_pandas_object(test_normalized).values).hexdigest())"
   ]
  },
  {
   "cell_type": "code",
   "execution_count": 14,
   "id": "4fd0fecc",
   "metadata": {},
   "outputs": [
    {
     "data": {
      "text/plain": [
       "PandasDatasetIO at '../../data/views/MotionSense/normalized_balanced'"
      ]
     },
     "execution_count": 14,
     "metadata": {},
     "output_type": "execute_result"
    }
   ],
   "source": [
    "output_path = Path(\"../../data/views/MotionSense/normalized_balanced\")\n",
    "\n",
    "description = \"\"\"# Normalized Balanced MotionSense\n",
    "\n",
    "This view contains train, validation and test subsets in the following proportions:\n",
    "- Train: 70% of samples\n",
    "- Validation: 10% of samples\n",
    "- Test: 20% of samples\n",
    "\n",
    "After splits, the datasets were balanced in relation to the activity code column, that is, each subset have the same number of activitiy samples. In this dataset we sum the user acceleration gravity and apply a high pass Butterworth filter with 0.3 cutoff to remove the user aceleration, and after this we resampler the signal from 50Hz to 20Hz. \n",
    "\n",
    "**NOTE**: Each subset contain samples from distinct users, that is, samples of one user belongs exclusivelly to one of three subsets.\n",
    "\"\"\"\n",
    "pandas_io = PandasDatasetsIO(output_path)\n",
    "pandas_io"
   ]
  },
  {
   "cell_type": "code",
   "execution_count": 15,
   "id": "7dc86997",
   "metadata": {},
   "outputs": [],
   "source": [
    "pandas_io.save(\n",
    "    train=train_normalized, \n",
    "    validation=validation_normalized, \n",
    "    test=test_normalized, \n",
    "    description=description\n",
    ")"
   ]
  },
  {
   "cell_type": "code",
   "execution_count": null,
   "id": "6c17fcfd",
   "metadata": {},
   "outputs": [],
   "source": []
  }
 ],
 "metadata": {
  "kernelspec": {
   "display_name": "Python 3 (ipykernel)",
   "language": "python",
   "name": "python3"
  },
  "language_info": {
   "codemirror_mode": {
    "name": "ipython",
    "version": 3
   },
   "file_extension": ".py",
   "mimetype": "text/x-python",
   "name": "python",
   "nbconvert_exporter": "python",
   "pygments_lexer": "ipython3",
   "version": "3.8.10"
  }
 },
 "nbformat": 4,
 "nbformat_minor": 5
}
