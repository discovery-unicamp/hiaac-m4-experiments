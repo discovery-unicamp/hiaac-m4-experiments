{
 "cells": [
  {
   "attachments": {},
   "cell_type": "markdown",
   "id": "ea402ac5-031d-4b8a-b330-b71f2085f956",
   "metadata": {},
   "source": [
    "# Pre-processing MotionSense Dataset and Generate Views\n",
    "\n",
    "This notebook generates raw motionsense view and another preprocessed. The preprocessing steps includes:\n",
    "- Transform accelerometer unit measure from G to m/s² (multiplying by 9.81)\n",
    "- Remove gravity (using butterworth filter)\n",
    "- Resample to 20Hz"
   ]
  },
  {
   "cell_type": "code",
   "execution_count": 1,
   "id": "fad53baa-1190-4969-9ae9-489321c5966e",
   "metadata": {
    "tags": []
   },
   "outputs": [],
   "source": [
    "from pathlib import Path\n",
    "from typing import List\n",
    "import hashlib\n",
    "import pandas as pd\n",
    "\n",
    "from librep.datasets.har.motionsense import (\n",
    "    RawMotionSense,\n",
    "    RawMotionSenseIterator,\n",
    "    MotionSenseDatasetGenerator\n",
    ")\n",
    "from librep.utils.dataset import PandasDatasetsIO\n",
    "\n",
    "%matplotlib inline"
   ]
  },
  {
   "cell_type": "markdown",
   "id": "7e6cf88f",
   "metadata": {},
   "source": [
    "## Raw balanced MotionSense"
   ]
  },
  {
   "cell_type": "code",
   "execution_count": 2,
   "id": "12bf855c-9947-4174-980c-5942527eaf04",
   "metadata": {
    "tags": []
   },
   "outputs": [
    {
     "data": {
      "text/plain": [
       "MotionSense Dataset at: '../data/raw/MotionSense/A_DeviceMotion_data'"
      ]
     },
     "execution_count": 2,
     "metadata": {},
     "output_type": "execute_result"
    }
   ],
   "source": [
    "dataset_dir = Path(\"../data/raw/MotionSense/A_DeviceMotion_data\")\n",
    "output_dir = Path(\"../data/processed/MotionSense/\")\n",
    "motionsense_dataset = RawMotionSense(dataset_dir, download=False)\n",
    "motionsense_dataset"
   ]
  },
  {
   "cell_type": "code",
   "execution_count": 3,
   "id": "366c2abc",
   "metadata": {
    "tags": []
   },
   "outputs": [
    {
     "data": {
      "text/plain": [
       "['dws', 'ups', 'sit', 'std', 'wlk', 'jog']"
      ]
     },
     "execution_count": 3,
     "metadata": {},
     "output_type": "execute_result"
    }
   ],
   "source": [
    "act_names = [motionsense_dataset.activity_names[i] for i in motionsense_dataset.activities]\n",
    "act_names"
   ]
  },
  {
   "cell_type": "code",
   "execution_count": 4,
   "id": "39ffda3f-7686-49d1-a02d-576e4207b6c9",
   "metadata": {
    "tags": []
   },
   "outputs": [
    {
     "data": {
      "text/plain": [
       "MotionSense Iterator: users=24, activities=6"
      ]
     },
     "execution_count": 4,
     "metadata": {},
     "output_type": "execute_result"
    }
   ],
   "source": [
    "iterator = RawMotionSenseIterator(motionsense_dataset, users_to_select=None, activities_to_select=None)\n",
    "iterator"
   ]
  },
  {
   "cell_type": "code",
   "execution_count": 5,
   "id": "f75a8cb6-5083-44f9-bfbd-50f55836bb75",
   "metadata": {
    "tags": []
   },
   "outputs": [
    {
     "data": {
      "text/plain": [
       "Dataset generator: time_window=150, overlap=0"
      ]
     },
     "execution_count": 5,
     "metadata": {},
     "output_type": "execute_result"
    }
   ],
   "source": [
    "motionsense_raw = MotionSenseDatasetGenerator(iterator, time_window=150, window_overlap=0, add_gravity=False, \n",
    "                                             add_filter=False, resampler=False, change_acc_measure=False)\n",
    "\n",
    "motionsense_raw"
   ]
  },
  {
   "cell_type": "code",
   "execution_count": 6,
   "id": "add044d7-6666-4f31-93e5-d4af57e01e56",
   "metadata": {
    "tags": []
   },
   "outputs": [
    {
     "name": "stderr",
     "output_type": "stream",
     "text": [
      "Generating full df over MotionSense View: 360it [00:22, 15.90it/s]\n"
     ]
    }
   ],
   "source": [
    "train_raw, validation_raw, test_raw = motionsense_raw.create_datasets(\n",
    "    train_size=0.7,\n",
    "    validation_size=0.1,\n",
    "    test_size=0.2,\n",
    "    ensure_distinct_users_per_dataset=True,\n",
    "    balance_samples=True,\n",
    "    seed=0\n",
    ")"
   ]
  },
  {
   "cell_type": "code",
   "execution_count": 7,
   "id": "9f0dcb11-f07e-4e60-a859-ea209900beb0",
   "metadata": {
    "tags": []
   },
   "outputs": [
    {
     "name": "stdout",
     "output_type": "stream",
     "text": [
      "bc25931a783ad4ddc7d5dfaafb6ef7bcc7caf547\n",
      "a2995751f63a981b933a67386208d73cd0ae606a\n",
      "3b3d2dc852908c1f499a2422e605e23a9344cfb2\n"
     ]
    }
   ],
   "source": [
    "print(hashlib.sha1(pd.util.hash_pandas_object(train_raw).values).hexdigest())\n",
    "print(hashlib.sha1(pd.util.hash_pandas_object(validation_raw).values).hexdigest())\n",
    "print(hashlib.sha1(pd.util.hash_pandas_object(test_raw).values).hexdigest())"
   ]
  },
  {
   "cell_type": "code",
   "execution_count": 8,
   "id": "08d48032",
   "metadata": {},
   "outputs": [
    {
     "data": {
      "text/html": [
       "<div>\n",
       "<style scoped>\n",
       "    .dataframe tbody tr th:only-of-type {\n",
       "        vertical-align: middle;\n",
       "    }\n",
       "\n",
       "    .dataframe tbody tr th {\n",
       "        vertical-align: top;\n",
       "    }\n",
       "\n",
       "    .dataframe thead th {\n",
       "        text-align: right;\n",
       "    }\n",
       "</style>\n",
       "<table border=\"1\" class=\"dataframe\">\n",
       "  <thead>\n",
       "    <tr style=\"text-align: right;\">\n",
       "      <th></th>\n",
       "      <th>attitude.roll-0</th>\n",
       "      <th>attitude.roll-1</th>\n",
       "      <th>attitude.roll-2</th>\n",
       "      <th>attitude.roll-3</th>\n",
       "      <th>attitude.roll-4</th>\n",
       "      <th>attitude.roll-5</th>\n",
       "      <th>attitude.roll-6</th>\n",
       "      <th>attitude.roll-7</th>\n",
       "      <th>attitude.roll-8</th>\n",
       "      <th>attitude.roll-9</th>\n",
       "      <th>...</th>\n",
       "      <th>userAcceleration.z-145</th>\n",
       "      <th>userAcceleration.z-146</th>\n",
       "      <th>userAcceleration.z-147</th>\n",
       "      <th>userAcceleration.z-148</th>\n",
       "      <th>userAcceleration.z-149</th>\n",
       "      <th>activity code</th>\n",
       "      <th>length</th>\n",
       "      <th>trial_code</th>\n",
       "      <th>index</th>\n",
       "      <th>user</th>\n",
       "    </tr>\n",
       "  </thead>\n",
       "  <tbody>\n",
       "    <tr>\n",
       "      <th>0</th>\n",
       "      <td>1.311800</td>\n",
       "      <td>1.309805</td>\n",
       "      <td>1.294033</td>\n",
       "      <td>1.259262</td>\n",
       "      <td>1.214031</td>\n",
       "      <td>1.174594</td>\n",
       "      <td>1.150417</td>\n",
       "      <td>1.126066</td>\n",
       "      <td>1.071678</td>\n",
       "      <td>0.984775</td>\n",
       "      <td>...</td>\n",
       "      <td>0.198949</td>\n",
       "      <td>-0.241833</td>\n",
       "      <td>-0.228292</td>\n",
       "      <td>-0.409867</td>\n",
       "      <td>-0.227758</td>\n",
       "      <td>0</td>\n",
       "      <td>150</td>\n",
       "      <td>11</td>\n",
       "      <td>300</td>\n",
       "      <td>16</td>\n",
       "    </tr>\n",
       "    <tr>\n",
       "      <th>1</th>\n",
       "      <td>0.979769</td>\n",
       "      <td>0.853751</td>\n",
       "      <td>0.724747</td>\n",
       "      <td>0.620533</td>\n",
       "      <td>0.563019</td>\n",
       "      <td>0.546236</td>\n",
       "      <td>0.540058</td>\n",
       "      <td>0.531511</td>\n",
       "      <td>0.509747</td>\n",
       "      <td>0.520985</td>\n",
       "      <td>...</td>\n",
       "      <td>0.061945</td>\n",
       "      <td>0.108357</td>\n",
       "      <td>0.042498</td>\n",
       "      <td>-0.119922</td>\n",
       "      <td>-0.535207</td>\n",
       "      <td>0</td>\n",
       "      <td>150</td>\n",
       "      <td>1</td>\n",
       "      <td>750</td>\n",
       "      <td>7</td>\n",
       "    </tr>\n",
       "    <tr>\n",
       "      <th>2</th>\n",
       "      <td>2.457231</td>\n",
       "      <td>2.508876</td>\n",
       "      <td>2.562549</td>\n",
       "      <td>2.610262</td>\n",
       "      <td>2.646260</td>\n",
       "      <td>2.662423</td>\n",
       "      <td>2.663410</td>\n",
       "      <td>2.662757</td>\n",
       "      <td>2.656153</td>\n",
       "      <td>2.639064</td>\n",
       "      <td>...</td>\n",
       "      <td>0.389712</td>\n",
       "      <td>-0.012963</td>\n",
       "      <td>-0.117823</td>\n",
       "      <td>-0.242463</td>\n",
       "      <td>-0.520011</td>\n",
       "      <td>0</td>\n",
       "      <td>150</td>\n",
       "      <td>1</td>\n",
       "      <td>750</td>\n",
       "      <td>11</td>\n",
       "    </tr>\n",
       "    <tr>\n",
       "      <th>3</th>\n",
       "      <td>-0.816211</td>\n",
       "      <td>-0.847936</td>\n",
       "      <td>-0.773849</td>\n",
       "      <td>-0.642674</td>\n",
       "      <td>-0.511272</td>\n",
       "      <td>-0.443049</td>\n",
       "      <td>-0.422701</td>\n",
       "      <td>-0.404203</td>\n",
       "      <td>-0.357625</td>\n",
       "      <td>-0.292546</td>\n",
       "      <td>...</td>\n",
       "      <td>1.096083</td>\n",
       "      <td>0.919155</td>\n",
       "      <td>0.980044</td>\n",
       "      <td>0.167161</td>\n",
       "      <td>0.291327</td>\n",
       "      <td>0</td>\n",
       "      <td>150</td>\n",
       "      <td>1</td>\n",
       "      <td>450</td>\n",
       "      <td>12</td>\n",
       "    </tr>\n",
       "    <tr>\n",
       "      <th>4</th>\n",
       "      <td>0.093224</td>\n",
       "      <td>0.153045</td>\n",
       "      <td>0.230516</td>\n",
       "      <td>0.329710</td>\n",
       "      <td>0.430513</td>\n",
       "      <td>0.511403</td>\n",
       "      <td>0.596036</td>\n",
       "      <td>0.689030</td>\n",
       "      <td>0.762821</td>\n",
       "      <td>0.789000</td>\n",
       "      <td>...</td>\n",
       "      <td>0.559331</td>\n",
       "      <td>0.268818</td>\n",
       "      <td>0.286077</td>\n",
       "      <td>0.244404</td>\n",
       "      <td>0.149644</td>\n",
       "      <td>0</td>\n",
       "      <td>150</td>\n",
       "      <td>1</td>\n",
       "      <td>150</td>\n",
       "      <td>22</td>\n",
       "    </tr>\n",
       "    <tr>\n",
       "      <th>...</th>\n",
       "      <td>...</td>\n",
       "      <td>...</td>\n",
       "      <td>...</td>\n",
       "      <td>...</td>\n",
       "      <td>...</td>\n",
       "      <td>...</td>\n",
       "      <td>...</td>\n",
       "      <td>...</td>\n",
       "      <td>...</td>\n",
       "      <td>...</td>\n",
       "      <td>...</td>\n",
       "      <td>...</td>\n",
       "      <td>...</td>\n",
       "      <td>...</td>\n",
       "      <td>...</td>\n",
       "      <td>...</td>\n",
       "      <td>...</td>\n",
       "      <td>...</td>\n",
       "      <td>...</td>\n",
       "      <td>...</td>\n",
       "      <td>...</td>\n",
       "    </tr>\n",
       "    <tr>\n",
       "      <th>3313</th>\n",
       "      <td>-2.111703</td>\n",
       "      <td>-2.102741</td>\n",
       "      <td>-2.190346</td>\n",
       "      <td>-2.449247</td>\n",
       "      <td>-2.566130</td>\n",
       "      <td>-2.529341</td>\n",
       "      <td>-2.443290</td>\n",
       "      <td>-2.422711</td>\n",
       "      <td>-2.459332</td>\n",
       "      <td>-2.526483</td>\n",
       "      <td>...</td>\n",
       "      <td>0.087716</td>\n",
       "      <td>-0.110435</td>\n",
       "      <td>-0.828552</td>\n",
       "      <td>-1.046646</td>\n",
       "      <td>-0.055499</td>\n",
       "      <td>5</td>\n",
       "      <td>150</td>\n",
       "      <td>9</td>\n",
       "      <td>1500</td>\n",
       "      <td>1</td>\n",
       "    </tr>\n",
       "    <tr>\n",
       "      <th>3314</th>\n",
       "      <td>-1.278602</td>\n",
       "      <td>-1.296929</td>\n",
       "      <td>-1.318944</td>\n",
       "      <td>-1.332741</td>\n",
       "      <td>-1.340593</td>\n",
       "      <td>-1.345565</td>\n",
       "      <td>-1.348499</td>\n",
       "      <td>-1.349254</td>\n",
       "      <td>-1.349257</td>\n",
       "      <td>-1.351391</td>\n",
       "      <td>...</td>\n",
       "      <td>-0.700390</td>\n",
       "      <td>-0.252751</td>\n",
       "      <td>-0.190417</td>\n",
       "      <td>-0.040037</td>\n",
       "      <td>-0.082757</td>\n",
       "      <td>5</td>\n",
       "      <td>150</td>\n",
       "      <td>9</td>\n",
       "      <td>2850</td>\n",
       "      <td>19</td>\n",
       "    </tr>\n",
       "    <tr>\n",
       "      <th>3315</th>\n",
       "      <td>0.836112</td>\n",
       "      <td>0.812902</td>\n",
       "      <td>0.810092</td>\n",
       "      <td>0.824654</td>\n",
       "      <td>0.832589</td>\n",
       "      <td>0.845721</td>\n",
       "      <td>0.838886</td>\n",
       "      <td>0.835931</td>\n",
       "      <td>0.894171</td>\n",
       "      <td>0.984809</td>\n",
       "      <td>...</td>\n",
       "      <td>0.050288</td>\n",
       "      <td>0.044914</td>\n",
       "      <td>-1.069165</td>\n",
       "      <td>0.136681</td>\n",
       "      <td>0.499976</td>\n",
       "      <td>5</td>\n",
       "      <td>150</td>\n",
       "      <td>16</td>\n",
       "      <td>450</td>\n",
       "      <td>16</td>\n",
       "    </tr>\n",
       "    <tr>\n",
       "      <th>3316</th>\n",
       "      <td>-2.773770</td>\n",
       "      <td>-2.700234</td>\n",
       "      <td>-2.523756</td>\n",
       "      <td>-2.319851</td>\n",
       "      <td>-2.587409</td>\n",
       "      <td>-2.997274</td>\n",
       "      <td>2.076503</td>\n",
       "      <td>0.682116</td>\n",
       "      <td>0.555318</td>\n",
       "      <td>0.601072</td>\n",
       "      <td>...</td>\n",
       "      <td>-0.617489</td>\n",
       "      <td>-0.714354</td>\n",
       "      <td>-0.769634</td>\n",
       "      <td>-0.851130</td>\n",
       "      <td>-1.088768</td>\n",
       "      <td>5</td>\n",
       "      <td>150</td>\n",
       "      <td>9</td>\n",
       "      <td>0</td>\n",
       "      <td>11</td>\n",
       "    </tr>\n",
       "    <tr>\n",
       "      <th>3317</th>\n",
       "      <td>-0.540199</td>\n",
       "      <td>-0.401182</td>\n",
       "      <td>-0.228239</td>\n",
       "      <td>-0.092668</td>\n",
       "      <td>-0.115906</td>\n",
       "      <td>-0.118483</td>\n",
       "      <td>-0.078515</td>\n",
       "      <td>0.032843</td>\n",
       "      <td>-0.049470</td>\n",
       "      <td>0.113516</td>\n",
       "      <td>...</td>\n",
       "      <td>-0.726993</td>\n",
       "      <td>0.650807</td>\n",
       "      <td>2.440042</td>\n",
       "      <td>-1.638229</td>\n",
       "      <td>-0.704135</td>\n",
       "      <td>5</td>\n",
       "      <td>150</td>\n",
       "      <td>16</td>\n",
       "      <td>750</td>\n",
       "      <td>15</td>\n",
       "    </tr>\n",
       "  </tbody>\n",
       "</table>\n",
       "<p>3318 rows × 1805 columns</p>\n",
       "</div>"
      ],
      "text/plain": [
       "      attitude.roll-0  attitude.roll-1  attitude.roll-2  attitude.roll-3  \\\n",
       "0            1.311800         1.309805         1.294033         1.259262   \n",
       "1            0.979769         0.853751         0.724747         0.620533   \n",
       "2            2.457231         2.508876         2.562549         2.610262   \n",
       "3           -0.816211        -0.847936        -0.773849        -0.642674   \n",
       "4            0.093224         0.153045         0.230516         0.329710   \n",
       "...               ...              ...              ...              ...   \n",
       "3313        -2.111703        -2.102741        -2.190346        -2.449247   \n",
       "3314        -1.278602        -1.296929        -1.318944        -1.332741   \n",
       "3315         0.836112         0.812902         0.810092         0.824654   \n",
       "3316        -2.773770        -2.700234        -2.523756        -2.319851   \n",
       "3317        -0.540199        -0.401182        -0.228239        -0.092668   \n",
       "\n",
       "      attitude.roll-4  attitude.roll-5  attitude.roll-6  attitude.roll-7  \\\n",
       "0            1.214031         1.174594         1.150417         1.126066   \n",
       "1            0.563019         0.546236         0.540058         0.531511   \n",
       "2            2.646260         2.662423         2.663410         2.662757   \n",
       "3           -0.511272        -0.443049        -0.422701        -0.404203   \n",
       "4            0.430513         0.511403         0.596036         0.689030   \n",
       "...               ...              ...              ...              ...   \n",
       "3313        -2.566130        -2.529341        -2.443290        -2.422711   \n",
       "3314        -1.340593        -1.345565        -1.348499        -1.349254   \n",
       "3315         0.832589         0.845721         0.838886         0.835931   \n",
       "3316        -2.587409        -2.997274         2.076503         0.682116   \n",
       "3317        -0.115906        -0.118483        -0.078515         0.032843   \n",
       "\n",
       "      attitude.roll-8  attitude.roll-9  ...  userAcceleration.z-145  \\\n",
       "0            1.071678         0.984775  ...                0.198949   \n",
       "1            0.509747         0.520985  ...                0.061945   \n",
       "2            2.656153         2.639064  ...                0.389712   \n",
       "3           -0.357625        -0.292546  ...                1.096083   \n",
       "4            0.762821         0.789000  ...                0.559331   \n",
       "...               ...              ...  ...                     ...   \n",
       "3313        -2.459332        -2.526483  ...                0.087716   \n",
       "3314        -1.349257        -1.351391  ...               -0.700390   \n",
       "3315         0.894171         0.984809  ...                0.050288   \n",
       "3316         0.555318         0.601072  ...               -0.617489   \n",
       "3317        -0.049470         0.113516  ...               -0.726993   \n",
       "\n",
       "      userAcceleration.z-146  userAcceleration.z-147  userAcceleration.z-148  \\\n",
       "0                  -0.241833               -0.228292               -0.409867   \n",
       "1                   0.108357                0.042498               -0.119922   \n",
       "2                  -0.012963               -0.117823               -0.242463   \n",
       "3                   0.919155                0.980044                0.167161   \n",
       "4                   0.268818                0.286077                0.244404   \n",
       "...                      ...                     ...                     ...   \n",
       "3313               -0.110435               -0.828552               -1.046646   \n",
       "3314               -0.252751               -0.190417               -0.040037   \n",
       "3315                0.044914               -1.069165                0.136681   \n",
       "3316               -0.714354               -0.769634               -0.851130   \n",
       "3317                0.650807                2.440042               -1.638229   \n",
       "\n",
       "      userAcceleration.z-149  activity code  length  trial_code  index  user  \n",
       "0                  -0.227758              0     150          11    300    16  \n",
       "1                  -0.535207              0     150           1    750     7  \n",
       "2                  -0.520011              0     150           1    750    11  \n",
       "3                   0.291327              0     150           1    450    12  \n",
       "4                   0.149644              0     150           1    150    22  \n",
       "...                      ...            ...     ...         ...    ...   ...  \n",
       "3313               -0.055499              5     150           9   1500     1  \n",
       "3314               -0.082757              5     150           9   2850    19  \n",
       "3315                0.499976              5     150          16    450    16  \n",
       "3316               -1.088768              5     150           9      0    11  \n",
       "3317               -0.704135              5     150          16    750    15  \n",
       "\n",
       "[3318 rows x 1805 columns]"
      ]
     },
     "execution_count": 8,
     "metadata": {},
     "output_type": "execute_result"
    }
   ],
   "source": [
    "train_raw"
   ]
  },
  {
   "cell_type": "code",
   "execution_count": 9,
   "id": "c7a9cda8-f111-4715-94c2-e474574149ab",
   "metadata": {
    "tags": []
   },
   "outputs": [
    {
     "data": {
      "text/plain": [
       "PandasDatasetIO at '../data/processed/MotionSense/balanced'"
      ]
     },
     "execution_count": 9,
     "metadata": {},
     "output_type": "execute_result"
    }
   ],
   "source": [
    "output_path = output_dir / \"balanced\"\n",
    "\n",
    "description = \"\"\"# Raw Balanced MotionSense\n",
    "\n",
    "This view contains train, validation and test subsets in the following proportions:\n",
    "- Train: 70% of samples\n",
    "- Validation: 10% of samples\n",
    "- Test: 20% of samples\n",
    "\n",
    "After splits, the datasets were balanced in relation to the activity code column, that is, each subset have the same number of activitiy samples.\n",
    "\n",
    "**NOTE**: Each subset contain samples from distinct users, that is, samples of one user belongs exclusivelly to one of three subsets.\n",
    "\"\"\"\n",
    "pandas_io = PandasDatasetsIO(output_path)\n",
    "pandas_io"
   ]
  },
  {
   "cell_type": "code",
   "execution_count": 10,
   "id": "4f4a9c1b-beca-4c22-a84a-319fc341e709",
   "metadata": {
    "tags": []
   },
   "outputs": [],
   "source": [
    "pandas_io.save(\n",
    "    train=train_raw, \n",
    "    validation=validation_raw, \n",
    "    test=test_raw, \n",
    "    description=description\n",
    ")"
   ]
  },
  {
   "cell_type": "markdown",
   "id": "6e726e1b",
   "metadata": {},
   "source": [
    "## Normalized balanced MotionSense"
   ]
  },
  {
   "cell_type": "code",
   "execution_count": 11,
   "id": "0af607b2",
   "metadata": {},
   "outputs": [
    {
     "data": {
      "text/plain": [
       "Dataset generator: time_window=60, overlap=0"
      ]
     },
     "execution_count": 11,
     "metadata": {},
     "output_type": "execute_result"
    }
   ],
   "source": [
    "motionsense_normalized = MotionSenseDatasetGenerator(iterator, time_window=60, window_overlap=0, add_gravity=True, \n",
    "                                                     add_filter=True, resampler=True, fs=20, \n",
    "                                                     change_acc_measure=True)\n",
    "\n",
    "motionsense_normalized"
   ]
  },
  {
   "cell_type": "code",
   "execution_count": 12,
   "id": "e67ece36",
   "metadata": {},
   "outputs": [
    {
     "name": "stderr",
     "output_type": "stream",
     "text": [
      "Generating full df over MotionSense View: 360it [00:19, 18.32it/s]\n"
     ]
    }
   ],
   "source": [
    "train_normalized, validation_normalized, test_normalized = motionsense_normalized.create_datasets(\n",
    "    train_size=0.7,\n",
    "    validation_size=0.1,\n",
    "    test_size=0.2,\n",
    "    ensure_distinct_users_per_dataset=True,\n",
    "    balance_samples=True,\n",
    "    seed=0\n",
    ")"
   ]
  },
  {
   "cell_type": "code",
   "execution_count": 13,
   "id": "de356dba",
   "metadata": {},
   "outputs": [
    {
     "name": "stdout",
     "output_type": "stream",
     "text": [
      "96d787a1d103561831c63a54b98a4f474a014152\n",
      "2a82bce8c747679ec3e873cc4676e3eab6ba4fc1\n",
      "e44fd1dca210774114feaf75a00751f1af71dc0b\n"
     ]
    }
   ],
   "source": [
    "print(hashlib.sha1(pd.util.hash_pandas_object(train_normalized).values).hexdigest())\n",
    "print(hashlib.sha1(pd.util.hash_pandas_object(validation_normalized).values).hexdigest())\n",
    "print(hashlib.sha1(pd.util.hash_pandas_object(test_normalized).values).hexdigest())"
   ]
  },
  {
   "cell_type": "code",
   "execution_count": 14,
   "id": "4fd0fecc",
   "metadata": {},
   "outputs": [
    {
     "data": {
      "text/plain": [
       "PandasDatasetIO at '../data/processed/MotionSense/balanced_normalized'"
      ]
     },
     "execution_count": 14,
     "metadata": {},
     "output_type": "execute_result"
    }
   ],
   "source": [
    "output_path = output_dir / \"balanced_normalized\"\n",
    "\n",
    "description = \"\"\"# Normalized Balanced MotionSense\n",
    "\n",
    "This view contains train, validation and test subsets in the following proportions:\n",
    "- Train: 70% of samples\n",
    "- Validation: 10% of samples\n",
    "- Test: 20% of samples\n",
    "\n",
    "After splits, the datasets were balanced in relation to the activity code column, that is, each subset have the same number of activitiy samples. In this dataset we sum the user acceleration gravity and apply a high pass Butterworth filter with 0.3 cutoff to remove the user aceleration, and after this we resampler the signal from 50Hz to 20Hz. \n",
    "\n",
    "**NOTE**: Each subset contain samples from distinct users, that is, samples of one user belongs exclusivelly to one of three subsets.\n",
    "\"\"\"\n",
    "pandas_io = PandasDatasetsIO(output_path)\n",
    "pandas_io"
   ]
  },
  {
   "cell_type": "code",
   "execution_count": 15,
   "id": "7dc86997",
   "metadata": {},
   "outputs": [],
   "source": [
    "pandas_io.save(\n",
    "    train=train_normalized, \n",
    "    validation=validation_normalized, \n",
    "    test=test_normalized, \n",
    "    description=description\n",
    ")"
   ]
  }
 ],
 "metadata": {
  "kernelspec": {
   "display_name": ".librep-venv",
   "language": "python",
   "name": "python3"
  },
  "language_info": {
   "codemirror_mode": {
    "name": "ipython",
    "version": 3
   },
   "file_extension": ".py",
   "mimetype": "text/x-python",
   "name": "python",
   "nbconvert_exporter": "python",
   "pygments_lexer": "ipython3",
   "version": "3.10.6"
  },
  "vscode": {
   "interpreter": {
    "hash": "e57cbd9857f73b6186314efc0497b85fc81e429910d4dfbf03f56c852bfb6a26"
   }
  }
 },
 "nbformat": 4,
 "nbformat_minor": 5
}
