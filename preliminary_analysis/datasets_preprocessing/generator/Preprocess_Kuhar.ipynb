{
 "cells": [
  {
   "cell_type": "code",
   "execution_count": 1,
   "metadata": {},
   "outputs": [],
   "source": [
    "from pathlib import Path\n",
    "from typing import List\n",
    "import hashlib\n",
    "import pandas as pd\n",
    "\n",
    "from librep.datasets.har.kuhar import (\n",
    "    RawKuHar,\n",
    "    RawKuHarIterator,\n",
    "    KuHarDatasetGenerator\n",
    ")\n",
    "from librep.utils.dataset import PandasDatasetsIO\n",
    "\n",
    "%matplotlib inline"
   ]
  },
  {
   "cell_type": "code",
   "execution_count": 2,
   "metadata": {},
   "outputs": [
    {
     "data": {
      "text/plain": [
       "KuHar Dataset at: 'data/KuHar/1.Raw_time_domian_data'"
      ]
     },
     "execution_count": 2,
     "metadata": {},
     "output_type": "execute_result"
    }
   ],
   "source": [
    "dataset_dir = Path(\"./data/KuHar/1.Raw_time_domian_data\")\n",
    "kuhar_dataset = RawKuHar(dataset_dir, download=False)\n",
    "kuhar_dataset"
   ]
  },
  {
   "cell_type": "code",
   "execution_count": 3,
   "metadata": {},
   "outputs": [
    {
     "data": {
      "text/plain": [
       "Kuhar Iterator: users=89, activities=18"
      ]
     },
     "execution_count": 3,
     "metadata": {},
     "output_type": "execute_result"
    }
   ],
   "source": [
    "iterator = RawKuHarIterator(kuhar_dataset)\n",
    "iterator"
   ]
  },
  {
   "cell_type": "code",
   "execution_count": 4,
   "metadata": {},
   "outputs": [
    {
     "data": {
      "text/plain": [
       "Dataset generator: time_window=300, overlap=0"
      ]
     },
     "execution_count": 4,
     "metadata": {},
     "output_type": "execute_result"
    }
   ],
   "source": [
    "kuhar_generator = KuHarDatasetGenerator(iterator, time_window=300, window_overlap=0, fs=None)\n",
    "kuhar_generator"
   ]
  },
  {
   "cell_type": "code",
   "execution_count": 5,
   "metadata": {},
   "outputs": [
    {
     "name": "stderr",
     "output_type": "stream",
     "text": [
      "Generating full df over KuHar View: 1945it [01:23, 23.21it/s]\n"
     ]
    }
   ],
   "source": [
    "train_raw, validation_raw, test_raw = kuhar_generator.create_datasets(\n",
    "    train_size=0.7,\n",
    "    validation_size=0.1,\n",
    "    test_size=0.2,\n",
    "    ensure_distinct_users_per_dataset=True,\n",
    "    balance_samples=True,\n",
    "    seed=0\n",
    ")"
   ]
  },
  {
   "cell_type": "code",
   "execution_count": 6,
   "metadata": {},
   "outputs": [
    {
     "name": "stdout",
     "output_type": "stream",
     "text": [
      "ca61c922fc72ef34f12bb19c954f63e20d552e1c\n",
      "53190325648181a44390dd332815ff82d67b6e66\n",
      "788444769fed9b4a2910739f680a33634a5715dd\n"
     ]
    }
   ],
   "source": [
    "print(hashlib.sha1(pd.util.hash_pandas_object(train_raw).values).hexdigest())\n",
    "print(hashlib.sha1(pd.util.hash_pandas_object(validation_raw).values).hexdigest())\n",
    "print(hashlib.sha1(pd.util.hash_pandas_object(test_raw).values).hexdigest())\n",
    "\n",
    "# ca61c922fc72ef34f12bb19c954f63e20d552e1c\n",
    "# 53190325648181a44390dd332815ff82d67b6e66\n",
    "# 788444769fed9b4a2910739f680a33634a5715dd"
   ]
  },
  {
   "cell_type": "code",
   "execution_count": 7,
   "metadata": {},
   "outputs": [
    {
     "data": {
      "text/html": [
       "<div>\n",
       "<style scoped>\n",
       "    .dataframe tbody tr th:only-of-type {\n",
       "        vertical-align: middle;\n",
       "    }\n",
       "\n",
       "    .dataframe tbody tr th {\n",
       "        vertical-align: top;\n",
       "    }\n",
       "\n",
       "    .dataframe thead th {\n",
       "        text-align: right;\n",
       "    }\n",
       "</style>\n",
       "<table border=\"1\" class=\"dataframe\">\n",
       "  <thead>\n",
       "    <tr style=\"text-align: right;\">\n",
       "      <th></th>\n",
       "      <th>accel-x-0</th>\n",
       "      <th>accel-x-1</th>\n",
       "      <th>accel-x-2</th>\n",
       "      <th>accel-x-3</th>\n",
       "      <th>accel-x-4</th>\n",
       "      <th>accel-x-5</th>\n",
       "      <th>accel-x-6</th>\n",
       "      <th>accel-x-7</th>\n",
       "      <th>accel-x-8</th>\n",
       "      <th>accel-x-9</th>\n",
       "      <th>...</th>\n",
       "      <th>gyro-z-299</th>\n",
       "      <th>accel-start-time</th>\n",
       "      <th>gyro-start-time</th>\n",
       "      <th>accel-end-time</th>\n",
       "      <th>gyro-end-time</th>\n",
       "      <th>activity code</th>\n",
       "      <th>length</th>\n",
       "      <th>serial</th>\n",
       "      <th>index</th>\n",
       "      <th>user</th>\n",
       "    </tr>\n",
       "  </thead>\n",
       "  <tbody>\n",
       "    <tr>\n",
       "      <th>0</th>\n",
       "      <td>-0.056118</td>\n",
       "      <td>0.034403</td>\n",
       "      <td>0.052704</td>\n",
       "      <td>0.070734</td>\n",
       "      <td>0.020224</td>\n",
       "      <td>-0.048252</td>\n",
       "      <td>-0.033161</td>\n",
       "      <td>-0.006543</td>\n",
       "      <td>-0.001562</td>\n",
       "      <td>0.022189</td>\n",
       "      <td>...</td>\n",
       "      <td>-0.005646</td>\n",
       "      <td>30.379</td>\n",
       "      <td>30.331</td>\n",
       "      <td>33.433</td>\n",
       "      <td>33.352</td>\n",
       "      <td>0</td>\n",
       "      <td>300</td>\n",
       "      <td>6</td>\n",
       "      <td>3000</td>\n",
       "      <td>1040</td>\n",
       "    </tr>\n",
       "    <tr>\n",
       "      <th>1</th>\n",
       "      <td>-0.019538</td>\n",
       "      <td>-0.016915</td>\n",
       "      <td>0.021001</td>\n",
       "      <td>0.055937</td>\n",
       "      <td>0.036128</td>\n",
       "      <td>0.004878</td>\n",
       "      <td>-0.032916</td>\n",
       "      <td>-0.044168</td>\n",
       "      <td>-0.048170</td>\n",
       "      <td>-0.035626</td>\n",
       "      <td>...</td>\n",
       "      <td>-0.005636</td>\n",
       "      <td>35.360</td>\n",
       "      <td>35.349</td>\n",
       "      <td>38.380</td>\n",
       "      <td>38.371</td>\n",
       "      <td>0</td>\n",
       "      <td>300</td>\n",
       "      <td>1</td>\n",
       "      <td>3300</td>\n",
       "      <td>1025</td>\n",
       "    </tr>\n",
       "    <tr>\n",
       "      <th>2</th>\n",
       "      <td>0.078851</td>\n",
       "      <td>0.067761</td>\n",
       "      <td>0.042445</td>\n",
       "      <td>-0.016207</td>\n",
       "      <td>-0.060515</td>\n",
       "      <td>-0.052389</td>\n",
       "      <td>-0.039572</td>\n",
       "      <td>-0.020855</td>\n",
       "      <td>-0.020164</td>\n",
       "      <td>0.006835</td>\n",
       "      <td>...</td>\n",
       "      <td>0.000831</td>\n",
       "      <td>0.006</td>\n",
       "      <td>0.009</td>\n",
       "      <td>2.995</td>\n",
       "      <td>2.997</td>\n",
       "      <td>0</td>\n",
       "      <td>300</td>\n",
       "      <td>1</td>\n",
       "      <td>0</td>\n",
       "      <td>1010</td>\n",
       "    </tr>\n",
       "    <tr>\n",
       "      <th>3</th>\n",
       "      <td>-0.067950</td>\n",
       "      <td>0.001450</td>\n",
       "      <td>0.095617</td>\n",
       "      <td>0.070418</td>\n",
       "      <td>-0.008559</td>\n",
       "      <td>-0.001449</td>\n",
       "      <td>-0.013325</td>\n",
       "      <td>-0.036775</td>\n",
       "      <td>-0.043285</td>\n",
       "      <td>-0.014290</td>\n",
       "      <td>...</td>\n",
       "      <td>0.001721</td>\n",
       "      <td>3.045</td>\n",
       "      <td>3.034</td>\n",
       "      <td>6.067</td>\n",
       "      <td>6.057</td>\n",
       "      <td>0</td>\n",
       "      <td>300</td>\n",
       "      <td>1</td>\n",
       "      <td>300</td>\n",
       "      <td>1058</td>\n",
       "    </tr>\n",
       "    <tr>\n",
       "      <th>4</th>\n",
       "      <td>-0.030760</td>\n",
       "      <td>-0.005518</td>\n",
       "      <td>0.005185</td>\n",
       "      <td>0.029851</td>\n",
       "      <td>0.029403</td>\n",
       "      <td>0.007791</td>\n",
       "      <td>0.007751</td>\n",
       "      <td>-0.005227</td>\n",
       "      <td>-0.019164</td>\n",
       "      <td>-0.015232</td>\n",
       "      <td>...</td>\n",
       "      <td>0.011505</td>\n",
       "      <td>0.001</td>\n",
       "      <td>0.001</td>\n",
       "      <td>2.957</td>\n",
       "      <td>2.956</td>\n",
       "      <td>0</td>\n",
       "      <td>300</td>\n",
       "      <td>1</td>\n",
       "      <td>0</td>\n",
       "      <td>1015</td>\n",
       "    </tr>\n",
       "    <tr>\n",
       "      <th>...</th>\n",
       "      <td>...</td>\n",
       "      <td>...</td>\n",
       "      <td>...</td>\n",
       "      <td>...</td>\n",
       "      <td>...</td>\n",
       "      <td>...</td>\n",
       "      <td>...</td>\n",
       "      <td>...</td>\n",
       "      <td>...</td>\n",
       "      <td>...</td>\n",
       "      <td>...</td>\n",
       "      <td>...</td>\n",
       "      <td>...</td>\n",
       "      <td>...</td>\n",
       "      <td>...</td>\n",
       "      <td>...</td>\n",
       "      <td>...</td>\n",
       "      <td>...</td>\n",
       "      <td>...</td>\n",
       "      <td>...</td>\n",
       "      <td>...</td>\n",
       "    </tr>\n",
       "    <tr>\n",
       "      <th>3163</th>\n",
       "      <td>-2.313400</td>\n",
       "      <td>-2.892900</td>\n",
       "      <td>-2.673300</td>\n",
       "      <td>-2.809500</td>\n",
       "      <td>-2.480700</td>\n",
       "      <td>-2.364800</td>\n",
       "      <td>-1.480300</td>\n",
       "      <td>-0.130750</td>\n",
       "      <td>0.720060</td>\n",
       "      <td>1.141000</td>\n",
       "      <td>...</td>\n",
       "      <td>-0.073736</td>\n",
       "      <td>51.553</td>\n",
       "      <td>51.552</td>\n",
       "      <td>54.575</td>\n",
       "      <td>54.577</td>\n",
       "      <td>17</td>\n",
       "      <td>300</td>\n",
       "      <td>2</td>\n",
       "      <td>5100</td>\n",
       "      <td>1088</td>\n",
       "    </tr>\n",
       "    <tr>\n",
       "      <th>3164</th>\n",
       "      <td>12.728562</td>\n",
       "      <td>14.670412</td>\n",
       "      <td>14.441504</td>\n",
       "      <td>12.774478</td>\n",
       "      <td>10.833324</td>\n",
       "      <td>9.047502</td>\n",
       "      <td>7.200125</td>\n",
       "      <td>5.398930</td>\n",
       "      <td>4.047943</td>\n",
       "      <td>3.127044</td>\n",
       "      <td>...</td>\n",
       "      <td>-0.104629</td>\n",
       "      <td>45.494</td>\n",
       "      <td>45.493</td>\n",
       "      <td>48.516</td>\n",
       "      <td>48.515</td>\n",
       "      <td>17</td>\n",
       "      <td>300</td>\n",
       "      <td>2</td>\n",
       "      <td>4500</td>\n",
       "      <td>1086</td>\n",
       "    </tr>\n",
       "    <tr>\n",
       "      <th>3165</th>\n",
       "      <td>-4.490470</td>\n",
       "      <td>-4.377375</td>\n",
       "      <td>-3.154591</td>\n",
       "      <td>-1.199597</td>\n",
       "      <td>0.701107</td>\n",
       "      <td>2.356681</td>\n",
       "      <td>3.743246</td>\n",
       "      <td>4.541451</td>\n",
       "      <td>4.296527</td>\n",
       "      <td>3.414813</td>\n",
       "      <td>...</td>\n",
       "      <td>-0.268679</td>\n",
       "      <td>6.070</td>\n",
       "      <td>6.071</td>\n",
       "      <td>9.091</td>\n",
       "      <td>9.092</td>\n",
       "      <td>17</td>\n",
       "      <td>300</td>\n",
       "      <td>1</td>\n",
       "      <td>600</td>\n",
       "      <td>1087</td>\n",
       "    </tr>\n",
       "    <tr>\n",
       "      <th>3166</th>\n",
       "      <td>-13.566983</td>\n",
       "      <td>-12.306684</td>\n",
       "      <td>-10.653790</td>\n",
       "      <td>-9.129092</td>\n",
       "      <td>-7.738182</td>\n",
       "      <td>-6.136394</td>\n",
       "      <td>-4.105975</td>\n",
       "      <td>-1.504293</td>\n",
       "      <td>1.902500</td>\n",
       "      <td>5.816815</td>\n",
       "      <td>...</td>\n",
       "      <td>0.955308</td>\n",
       "      <td>54.593</td>\n",
       "      <td>54.594</td>\n",
       "      <td>57.617</td>\n",
       "      <td>57.616</td>\n",
       "      <td>17</td>\n",
       "      <td>300</td>\n",
       "      <td>2</td>\n",
       "      <td>5400</td>\n",
       "      <td>1084</td>\n",
       "    </tr>\n",
       "    <tr>\n",
       "      <th>3167</th>\n",
       "      <td>-6.651459</td>\n",
       "      <td>-4.992980</td>\n",
       "      <td>-3.753974</td>\n",
       "      <td>-2.633530</td>\n",
       "      <td>-1.201777</td>\n",
       "      <td>1.332506</td>\n",
       "      <td>4.976964</td>\n",
       "      <td>8.003950</td>\n",
       "      <td>9.435144</td>\n",
       "      <td>10.214921</td>\n",
       "      <td>...</td>\n",
       "      <td>0.898849</td>\n",
       "      <td>57.613</td>\n",
       "      <td>57.624</td>\n",
       "      <td>60.637</td>\n",
       "      <td>60.647</td>\n",
       "      <td>17</td>\n",
       "      <td>300</td>\n",
       "      <td>1</td>\n",
       "      <td>5700</td>\n",
       "      <td>1086</td>\n",
       "    </tr>\n",
       "  </tbody>\n",
       "</table>\n",
       "<p>3168 rows × 1809 columns</p>\n",
       "</div>"
      ],
      "text/plain": [
       "      accel-x-0  accel-x-1  accel-x-2  accel-x-3  accel-x-4  accel-x-5  \\\n",
       "0     -0.056118   0.034403   0.052704   0.070734   0.020224  -0.048252   \n",
       "1     -0.019538  -0.016915   0.021001   0.055937   0.036128   0.004878   \n",
       "2      0.078851   0.067761   0.042445  -0.016207  -0.060515  -0.052389   \n",
       "3     -0.067950   0.001450   0.095617   0.070418  -0.008559  -0.001449   \n",
       "4     -0.030760  -0.005518   0.005185   0.029851   0.029403   0.007791   \n",
       "...         ...        ...        ...        ...        ...        ...   \n",
       "3163  -2.313400  -2.892900  -2.673300  -2.809500  -2.480700  -2.364800   \n",
       "3164  12.728562  14.670412  14.441504  12.774478  10.833324   9.047502   \n",
       "3165  -4.490470  -4.377375  -3.154591  -1.199597   0.701107   2.356681   \n",
       "3166 -13.566983 -12.306684 -10.653790  -9.129092  -7.738182  -6.136394   \n",
       "3167  -6.651459  -4.992980  -3.753974  -2.633530  -1.201777   1.332506   \n",
       "\n",
       "      accel-x-6  accel-x-7  accel-x-8  accel-x-9  ...  gyro-z-299  \\\n",
       "0     -0.033161  -0.006543  -0.001562   0.022189  ...   -0.005646   \n",
       "1     -0.032916  -0.044168  -0.048170  -0.035626  ...   -0.005636   \n",
       "2     -0.039572  -0.020855  -0.020164   0.006835  ...    0.000831   \n",
       "3     -0.013325  -0.036775  -0.043285  -0.014290  ...    0.001721   \n",
       "4      0.007751  -0.005227  -0.019164  -0.015232  ...    0.011505   \n",
       "...         ...        ...        ...        ...  ...         ...   \n",
       "3163  -1.480300  -0.130750   0.720060   1.141000  ...   -0.073736   \n",
       "3164   7.200125   5.398930   4.047943   3.127044  ...   -0.104629   \n",
       "3165   3.743246   4.541451   4.296527   3.414813  ...   -0.268679   \n",
       "3166  -4.105975  -1.504293   1.902500   5.816815  ...    0.955308   \n",
       "3167   4.976964   8.003950   9.435144  10.214921  ...    0.898849   \n",
       "\n",
       "      accel-start-time  gyro-start-time  accel-end-time  gyro-end-time  \\\n",
       "0               30.379           30.331          33.433         33.352   \n",
       "1               35.360           35.349          38.380         38.371   \n",
       "2                0.006            0.009           2.995          2.997   \n",
       "3                3.045            3.034           6.067          6.057   \n",
       "4                0.001            0.001           2.957          2.956   \n",
       "...                ...              ...             ...            ...   \n",
       "3163            51.553           51.552          54.575         54.577   \n",
       "3164            45.494           45.493          48.516         48.515   \n",
       "3165             6.070            6.071           9.091          9.092   \n",
       "3166            54.593           54.594          57.617         57.616   \n",
       "3167            57.613           57.624          60.637         60.647   \n",
       "\n",
       "      activity code  length  serial  index  user  \n",
       "0                 0     300       6   3000  1040  \n",
       "1                 0     300       1   3300  1025  \n",
       "2                 0     300       1      0  1010  \n",
       "3                 0     300       1    300  1058  \n",
       "4                 0     300       1      0  1015  \n",
       "...             ...     ...     ...    ...   ...  \n",
       "3163             17     300       2   5100  1088  \n",
       "3164             17     300       2   4500  1086  \n",
       "3165             17     300       1    600  1087  \n",
       "3166             17     300       2   5400  1084  \n",
       "3167             17     300       1   5700  1086  \n",
       "\n",
       "[3168 rows x 1809 columns]"
      ]
     },
     "execution_count": 7,
     "metadata": {},
     "output_type": "execute_result"
    }
   ],
   "source": [
    "train_raw"
   ]
  },
  {
   "cell_type": "code",
   "execution_count": 8,
   "metadata": {},
   "outputs": [
    {
     "data": {
      "text/plain": [
       "Dataset generator: time_window=60, overlap=0"
      ]
     },
     "execution_count": 8,
     "metadata": {},
     "output_type": "execute_result"
    }
   ],
   "source": [
    "kuhar_generator_normalized = KuHarDatasetGenerator(iterator, time_window=60, window_overlap=0, resampler=True, fs=20)\n",
    "\n",
    "kuhar_generator_normalized"
   ]
  },
  {
   "cell_type": "code",
   "execution_count": 9,
   "metadata": {},
   "outputs": [
    {
     "name": "stderr",
     "output_type": "stream",
     "text": [
      "Generating full df over KuHar View: 1945it [00:48, 40.49it/s]\n"
     ]
    }
   ],
   "source": [
    "train_normalized, validation_normalized, test_normalized = kuhar_generator_normalized.create_datasets(\n",
    "    train_size=0.7,\n",
    "    validation_size=0.1,\n",
    "    test_size=0.2,\n",
    "    ensure_distinct_users_per_dataset=True,\n",
    "    balance_samples=True,\n",
    "    seed=0\n",
    ")"
   ]
  },
  {
   "cell_type": "code",
   "execution_count": 10,
   "metadata": {},
   "outputs": [
    {
     "name": "stdout",
     "output_type": "stream",
     "text": [
      "6c7210b7f49c48c08eddb5853e59221aebdd0868\n",
      "8d61265a5c0426423c36cb8842f3c912d39a0cca\n",
      "55e959d09b58db9d5c59bd88d6f59d50d7a97425\n"
     ]
    }
   ],
   "source": [
    "print(hashlib.sha1(pd.util.hash_pandas_object(train_normalized).values).hexdigest())\n",
    "print(hashlib.sha1(pd.util.hash_pandas_object(validation_normalized).values).hexdigest())\n",
    "print(hashlib.sha1(pd.util.hash_pandas_object(test_normalized).values).hexdigest())\n",
    "\n",
    "# 6326718d4c104d7de03f740dc8f981b62347e8c7\n",
    "# 9d5ecd055c4a17225e672624d984697af91241e3\n",
    "# eeb24af9d8b6dbcdb4db8b2f2153f0302d258b26"
   ]
  },
  {
   "cell_type": "code",
   "execution_count": 11,
   "metadata": {},
   "outputs": [
    {
     "data": {
      "text/plain": [
       "((3168, 1809), (3168, 369))"
      ]
     },
     "execution_count": 11,
     "metadata": {},
     "output_type": "execute_result"
    }
   ],
   "source": [
    "train_raw.shape, train_normalized.shape"
   ]
  },
  {
   "cell_type": "code",
   "execution_count": 41,
   "metadata": {},
   "outputs": [],
   "source": [
    "import numpy as np\n",
    "\n",
    "def compare_metadata(dataset_normal, dataset_resampled, columns, index_a_fraction=1, index_b_fraction=1):\n",
    "\n",
    "    for column in columns:\n",
    "        if column == 'index':\n",
    "            if not np.all(dataset_normal[column]/index_a_fraction == dataset_resampled[column]/index_b_fraction):\n",
    "                return False\n",
    "\n",
    "        else:\n",
    "            if not np.all(dataset_normal[column] == dataset_resampled[column]):\n",
    "                return False\n",
    "    return True\n"
   ]
  },
  {
   "cell_type": "code",
   "execution_count": 44,
   "metadata": {},
   "outputs": [
    {
     "data": {
      "text/plain": [
       "True"
      ]
     },
     "execution_count": 44,
     "metadata": {},
     "output_type": "execute_result"
    }
   ],
   "source": [
    "compare_metadata(train_raw, train_normalized, ['activity code'])"
   ]
  },
  {
   "cell_type": "code",
   "execution_count": 54,
   "metadata": {},
   "outputs": [
    {
     "data": {
      "text/plain": [
       "474"
      ]
     },
     "execution_count": 54,
     "metadata": {},
     "output_type": "execute_result"
    }
   ],
   "source": [
    "len(sorted(np.where(train_raw[\"user\"] != train_normalized[\"user\"])[0]))"
   ]
  },
  {
   "cell_type": "code",
   "execution_count": 47,
   "metadata": {},
   "outputs": [
    {
     "data": {
      "text/plain": [
       "0       1040\n",
       "1       1025\n",
       "2       1010\n",
       "3       1058\n",
       "4       1015\n",
       "        ... \n",
       "3163    1088\n",
       "3164    1086\n",
       "3165    1087\n",
       "3166    1084\n",
       "3167    1086\n",
       "Name: user, Length: 3168, dtype: int64"
      ]
     },
     "execution_count": 47,
     "metadata": {},
     "output_type": "execute_result"
    }
   ],
   "source": [
    "train_raw[\"user\"]"
   ]
  },
  {
   "cell_type": "code",
   "execution_count": 48,
   "metadata": {},
   "outputs": [
    {
     "data": {
      "text/plain": [
       "0       1040\n",
       "1       1025\n",
       "2       1010\n",
       "3       1058\n",
       "4       1015\n",
       "        ... \n",
       "3163    1083\n",
       "3164    1087\n",
       "3165    1086\n",
       "3166    1086\n",
       "3167    1086\n",
       "Name: user, Length: 3168, dtype: int64"
      ]
     },
     "execution_count": 48,
     "metadata": {},
     "output_type": "execute_result"
    }
   ],
   "source": [
    "train_normalized[\"user\"]"
   ]
  }
 ],
 "metadata": {
  "kernelspec": {
   "display_name": ".librep-venv",
   "language": "python",
   "name": "python3"
  },
  "language_info": {
   "codemirror_mode": {
    "name": "ipython",
    "version": 3
   },
   "file_extension": ".py",
   "mimetype": "text/x-python",
   "name": "python",
   "nbconvert_exporter": "python",
   "pygments_lexer": "ipython3",
   "version": "3.10.6"
  },
  "orig_nbformat": 4,
  "vscode": {
   "interpreter": {
    "hash": "e57cbd9857f73b6186314efc0497b85fc81e429910d4dfbf03f56c852bfb6a26"
   }
  }
 },
 "nbformat": 4,
 "nbformat_minor": 2
}
