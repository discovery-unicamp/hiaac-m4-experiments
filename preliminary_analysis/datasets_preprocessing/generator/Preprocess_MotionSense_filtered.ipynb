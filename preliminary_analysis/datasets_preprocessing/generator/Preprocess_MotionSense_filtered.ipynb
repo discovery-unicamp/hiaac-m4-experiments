{
 "cells": [
  {
   "cell_type": "markdown",
   "id": "ea402ac5-031d-4b8a-b330-b71f2085f956",
   "metadata": {},
   "source": [
    "# Pre-processing MotionSense Dataset and Generate Views - Without Gravity - Filtered - Multiplying Acc by 9.81 m/s² - Resampling to 20 Hz"
   ]
  },
  {
   "cell_type": "code",
   "execution_count": 1,
   "id": "498254b0-ea10-4f02-b718-d26ce855b77b",
   "metadata": {
    "tags": []
   },
   "outputs": [],
   "source": [
    "%load_ext autoreload\n",
    "%autoreload 2"
   ]
  },
  {
   "cell_type": "code",
   "execution_count": 2,
   "id": "fad53baa-1190-4969-9ae9-489321c5966e",
   "metadata": {
    "tags": []
   },
   "outputs": [
    {
     "name": "stderr",
     "output_type": "stream",
     "text": [
      "/home/patrick/.local/lib/python3.8/site-packages/tqdm/auto.py:22: TqdmWarning: IProgress not found. Please update jupyter and ipywidgets. See https://ipywidgets.readthedocs.io/en/stable/user_install.html\n",
      "  from .autonotebook import tqdm as notebook_tqdm\n"
     ]
    }
   ],
   "source": [
    "from pathlib import Path\n",
    "from typing import List\n",
    "import hashlib\n",
    "import pandas as pd\n",
    "\n",
    "from librep.datasets.har.motionsense import (\n",
    "    RawMotionSense,\n",
    "    RawMotionSenseIterator,\n",
    "    MotionSenseDatasetGenerator\n",
    ")\n",
    "from librep.utils.dataset import PandasDatasetsIO\n",
    "\n",
    "%matplotlib inline"
   ]
  },
  {
   "cell_type": "code",
   "execution_count": 6,
   "id": "12bf855c-9947-4174-980c-5942527eaf04",
   "metadata": {
    "tags": []
   },
   "outputs": [
    {
     "ename": "NameError",
     "evalue": "name 'download_unzip_check' is not defined",
     "output_type": "error",
     "traceback": [
      "\u001b[0;31m---------------------------------------------------------------------------\u001b[0m",
      "\u001b[0;31mNameError\u001b[0m                                 Traceback (most recent call last)",
      "Cell \u001b[0;32mIn[6], line 2\u001b[0m\n\u001b[1;32m      1\u001b[0m dataset_dir \u001b[38;5;241m=\u001b[39m Path(\u001b[38;5;124m\"\u001b[39m\u001b[38;5;124m../../data_2/views/MotionSense/A_DeviceMotion_data\u001b[39m\u001b[38;5;124m\"\u001b[39m)\n\u001b[0;32m----> 2\u001b[0m motionsense_dataset \u001b[38;5;241m=\u001b[39m \u001b[43mRawMotionSense\u001b[49m\u001b[43m(\u001b[49m\u001b[43mdataset_dir\u001b[49m\u001b[43m,\u001b[49m\u001b[43m \u001b[49m\u001b[43mdownload\u001b[49m\u001b[38;5;241;43m=\u001b[39;49m\u001b[38;5;28;43;01mTrue\u001b[39;49;00m\u001b[43m)\u001b[49m\n\u001b[1;32m      3\u001b[0m motionsense_dataset\n",
      "File \u001b[0;32m~/.local/lib/python3.8/site-packages/librep/datasets/har/motionsense.py:54\u001b[0m, in \u001b[0;36mRawMotionSense.__init__\u001b[0;34m(self, dataset_dir, download)\u001b[0m\n\u001b[1;32m     52\u001b[0m \u001b[38;5;28mself\u001b[39m\u001b[38;5;241m.\u001b[39mdataset_dir \u001b[38;5;241m=\u001b[39m Path(dataset_dir)\n\u001b[1;32m     53\u001b[0m \u001b[38;5;28;01mif\u001b[39;00m download:\n\u001b[0;32m---> 54\u001b[0m     \u001b[38;5;28;43mself\u001b[39;49m\u001b[38;5;241;43m.\u001b[39;49m\u001b[43m__download_and_extract\u001b[49m\u001b[43m(\u001b[49m\u001b[43m)\u001b[49m\n\u001b[1;32m     55\u001b[0m \u001b[38;5;66;03m# Metadata relates activities and users to their respective files.\u001b[39;00m\n\u001b[1;32m     56\u001b[0m \u001b[38;5;28mself\u001b[39m\u001b[38;5;241m.\u001b[39mmetadata_df: pd\u001b[38;5;241m.\u001b[39mDataFrame \u001b[38;5;241m=\u001b[39m \u001b[38;5;28mself\u001b[39m\u001b[38;5;241m.\u001b[39m__read_metadata()\n",
      "File \u001b[0;32m~/.local/lib/python3.8/site-packages/librep/datasets/har/motionsense.py:65\u001b[0m, in \u001b[0;36mRawMotionSense.__download_and_extract\u001b[0;34m(self)\u001b[0m\n\u001b[1;32m     63\u001b[0m \u001b[38;5;28mself\u001b[39m\u001b[38;5;241m.\u001b[39mdataset_dir\u001b[38;5;241m.\u001b[39mmkdir(exist_ok\u001b[38;5;241m=\u001b[39m\u001b[38;5;28;01mTrue\u001b[39;00m, parents\u001b[38;5;241m=\u001b[39m\u001b[38;5;28;01mTrue\u001b[39;00m)\n\u001b[1;32m     64\u001b[0m file_path \u001b[38;5;241m=\u001b[39m \u001b[38;5;28mself\u001b[39m\u001b[38;5;241m.\u001b[39mdataset_dir \u001b[38;5;241m/\u001b[39m \u001b[38;5;124m\"\u001b[39m\u001b[38;5;124mmotionsense.zip\u001b[39m\u001b[38;5;124m\"\u001b[39m\n\u001b[0;32m---> 65\u001b[0m \u001b[43mdownload_unzip_check\u001b[49m(\n\u001b[1;32m     66\u001b[0m     url\u001b[38;5;241m=\u001b[39mRawMotionSense\u001b[38;5;241m.\u001b[39mdataset_url,\n\u001b[1;32m     67\u001b[0m     download_destination\u001b[38;5;241m=\u001b[39mfile_path,\n\u001b[1;32m     68\u001b[0m     unzip_dir\u001b[38;5;241m=\u001b[39m\u001b[38;5;28mself\u001b[39m\u001b[38;5;241m.\u001b[39mdataset_dir,\n\u001b[1;32m     69\u001b[0m )\n",
      "\u001b[0;31mNameError\u001b[0m: name 'download_unzip_check' is not defined"
     ]
    }
   ],
   "source": [
    "dataset_dir = Path(\"../../data_2/views/MotionSense/A_DeviceMotion_data\")\n",
    "motionsense_dataset = RawMotionSense(dataset_dir, download=True)\n",
    "motionsense_dataset"
   ]
  },
  {
   "cell_type": "code",
   "execution_count": 4,
   "id": "366c2abc",
   "metadata": {
    "tags": []
   },
   "outputs": [
    {
     "data": {
      "text/plain": [
       "[]"
      ]
     },
     "execution_count": 4,
     "metadata": {},
     "output_type": "execute_result"
    }
   ],
   "source": [
    "act_names = [motionsense_dataset.activity_names[i] for i in motionsense_dataset.activities]\n",
    "act_names"
   ]
  },
  {
   "cell_type": "code",
   "execution_count": 5,
   "id": "39ffda3f-7686-49d1-a02d-576e4207b6c9",
   "metadata": {
    "tags": []
   },
   "outputs": [
    {
     "data": {
      "text/plain": [
       "MotionSense Iterator: users=0, activities=0"
      ]
     },
     "execution_count": 5,
     "metadata": {},
     "output_type": "execute_result"
    }
   ],
   "source": [
    "iterator = RawMotionSenseIterator(motionsense_dataset, users_to_select=None, activities_to_select=None)\n",
    "iterator"
   ]
  },
  {
   "cell_type": "code",
   "execution_count": null,
   "id": "f75a8cb6-5083-44f9-bfbd-50f55836bb75",
   "metadata": {
    "tags": []
   },
   "outputs": [],
   "source": [
    "motionsense_v1 = MotionSenseDatasetGenerator(iterator, time_window=150, window_overlap=0, add_gravity=False, \n",
    "add_filter=False, resampler=False, change_acc_measure=False)\n",
    "\n",
    "# motionsense_v1 = MotionSenseDatasetGenerator(iterator, time_window=150, window_overlap=0, add_gravity=False, \n",
    "#                                              add_filter=False)\n",
    "motionsense_v1"
   ]
  },
  {
   "cell_type": "code",
   "execution_count": null,
   "id": "add044d7-6666-4f31-93e5-d4af57e01e56",
   "metadata": {
    "tags": []
   },
   "outputs": [],
   "source": [
    "train, validation, test = motionsense_v1.create_datasets(\n",
    "    train_size=0.7,\n",
    "    validation_size=0.1,\n",
    "    test_size=0.2,\n",
    "    ensure_distinct_users_per_dataset=True,\n",
    "    balance_samples=True,\n",
    "    seed=0\n",
    ")\n",
    "print(hashlib.sha1(pd.util.hash_pandas_object(train).values).hexdigest())\n",
    "print(hashlib.sha1(pd.util.hash_pandas_object(validation).values).hexdigest())\n",
    "print(hashlib.sha1(pd.util.hash_pandas_object(test).values).hexdigest())\n",
    "\n",
    "print(sorted(train['user'].unique()))"
   ]
  },
  {
   "cell_type": "code",
   "execution_count": null,
   "id": "14626daa",
   "metadata": {},
   "outputs": [],
   "source": [
    "motionsense_v2 = MotionSenseDatasetGenerator(iterator, time_window=60, window_overlap=0, add_gravity=True, \n",
    "add_filter=True, resampler=True, fs=20, change_acc_measure=True)\n",
    "\n",
    "motionsense_v2"
   ]
  },
  {
   "cell_type": "code",
   "execution_count": null,
   "id": "03c1a2b8",
   "metadata": {},
   "outputs": [],
   "source": [
    "train_v2, validation_v2, test_v2 = motionsense_v2.create_datasets(\n",
    "    train_size=0.7,\n",
    "    validation_size=0.1,\n",
    "    test_size=0.2,\n",
    "    ensure_distinct_users_per_dataset=True,\n",
    "    balance_samples=True,\n",
    "    seed=0\n",
    ")\n",
    "print(hashlib.sha1(pd.util.hash_pandas_object(train_v2).values).hexdigest())\n",
    "print(hashlib.sha1(pd.util.hash_pandas_object(validation_v2).values).hexdigest())\n",
    "print(hashlib.sha1(pd.util.hash_pandas_object(test_v2).values).hexdigest())\n",
    "\n",
    "print(sorted(train_v2['user'].unique()))"
   ]
  },
  {
   "cell_type": "code",
   "execution_count": null,
   "id": "c5808845",
   "metadata": {},
   "outputs": [],
   "source": [
    "import numpy as np\n",
    "np.all(train_v2['index']/20 == train['index']/50)"
   ]
  },
  {
   "cell_type": "code",
   "execution_count": null,
   "id": "8145ca57",
   "metadata": {},
   "outputs": [],
   "source": [
    "import matplotlib.pyplot as plt\n",
    "import scipy\n",
    "from scipy import fftpack\n",
    "\n",
    "ind = 10\n",
    "\n",
    "cols = [f\"userAcceleration.{axis}-{i}\" for axis in [\"x\"] for i in range(150)]\n",
    "sample_raw = train[cols].iloc[ind].values\n",
    "\n",
    "data_raw = fftpack.fft(sample_raw)\n",
    "data_raw = np.abs(data_raw)\n",
    "\n",
    "cols = [f\"userAcceleration.{axis}-{i}\" for axis in [\"x\"] for i in range(60)]\n",
    "sample_norm = train_v2[cols].iloc[ind].values\n",
    "\n",
    "data_norm = fftpack.fft(sample_norm)\n",
    "data_norm = np.abs(data_norm)\n",
    "\n",
    "\n",
    "fig = plt.figure(figsize=(12,8))\n",
    "ax = fig.add_subplot(111)\n",
    "\n",
    "ax.plot(np.arange(30), data_raw[:30], label = 'Raw')\n",
    "ax2 = ax.twinx()\n",
    "ax2.plot(np.arange(30), data_norm[:30], label = 'Norm', color='red')\n",
    "\n",
    "plt.show()"
   ]
  },
  {
   "cell_type": "code",
   "execution_count": null,
   "id": "6c0846d5",
   "metadata": {},
   "outputs": [],
   "source": [
    "from sklearn \n",
    "\n"
   ]
  },
  {
   "cell_type": "code",
   "execution_count": null,
   "id": "9f0dcb11-f07e-4e60-a859-ea209900beb0",
   "metadata": {
    "tags": []
   },
   "outputs": [],
   "source": [
    "print(hashlib.sha1(pd.util.hash_pandas_object(train).values).hexdigest())\n",
    "print(hashlib.sha1(pd.util.hash_pandas_object(validation).values).hexdigest())\n",
    "print(hashlib.sha1(pd.util.hash_pandas_object(test).values).hexdigest())\n",
    "\n",
    "# 3d2e3d49233efdc3dfc138e55b2d44a51cf80c9d\n",
    "# ece6166a183c151a9ac1a3111d300891f2fe1db8\n",
    "# 9a7f20e984b305059b737e8f72cbd0e246345980\n",
    "\n",
    "# 49bf80a87770414b49273263820f63f3c0e816c8\n",
    "# e9f2ec9067ff9f85add9fbbc03fabff34a6b2deb\n",
    "# 70168e3ac19682d6c21757dd9b25ca48dd956298\n",
    "\n",
    "# seed = 42\n",
    "# 52e16cbcf555433634ea7b255caa4769f94f53ad\n",
    "# b8d9b33b2b0c1e5b45ef10d87cacf2515c742dd2\n",
    "# 1db66b9ee2285a1a6232f79c9dc20b9422fd5230"
   ]
  },
  {
   "cell_type": "code",
   "execution_count": null,
   "id": "c7a9cda8-f111-4715-94c2-e474574149ab",
   "metadata": {
    "tags": []
   },
   "outputs": [],
   "source": [
    "output_path = Path(\"../../data_2/views/MotionSense/balanced_view_20Hz_filtered_9.81_acc\")\n",
    "\n",
    "description = \"\"\"# Balanced MotionSense\n",
    "\n",
    "This view contains train, validation and test subsets in the following proportions:\n",
    "- Train: 70% of samples\n",
    "- Validation: 10% of samples\n",
    "- Test: 20% of samples\n",
    "\n",
    "After splits, the datasets were balanced in relation to the activity code column, that is, each subset have the same number of activitiy samples.\n",
    "\n",
    "**NOTE**: Each subset contain samples from distinct users, that is, samples of one user belongs exclusivelly to one of three subsets.\n",
    "\"\"\"\n",
    "pandas_io = PandasDatasetsIO(output_path)\n",
    "pandas_io"
   ]
  },
  {
   "cell_type": "code",
   "execution_count": null,
   "id": "4f4a9c1b-beca-4c22-a84a-319fc341e709",
   "metadata": {
    "tags": []
   },
   "outputs": [],
   "source": [
    "pandas_io.save(\n",
    "    train=train, \n",
    "    validation=validation, \n",
    "    test=test, \n",
    "    description=description\n",
    ")"
   ]
  }
 ],
 "metadata": {
  "kernelspec": {
   "display_name": "Python 3 (ipykernel)",
   "language": "python",
   "name": "python3"
  },
  "language_info": {
   "codemirror_mode": {
    "name": "ipython",
    "version": 3
   },
   "file_extension": ".py",
   "mimetype": "text/x-python",
   "name": "python",
   "nbconvert_exporter": "python",
   "pygments_lexer": "ipython3",
   "version": "3.8.10"
  }
 },
 "nbformat": 4,
 "nbformat_minor": 5
}
