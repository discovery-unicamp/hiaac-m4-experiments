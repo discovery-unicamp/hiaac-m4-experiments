{
 "cells": [
  {
   "cell_type": "code",
   "execution_count": 1,
   "metadata": {
    "scrolled": false
   },
   "outputs": [],
   "source": [
    "import numpy as np\n",
    "import pandas as pd\n",
    "import tqdm\n",
    "from scipy import signal\n",
    "from pathlib import Path\n",
    "\n",
    "from dataset_processor import (\n",
    "    AddGravityColumn,\n",
    "    Convert_G_to_Ms2,\n",
    "    ButterworthFilter,\n",
    "    Resampler,\n",
    "    Windowize,\n",
    "    AddStandardActivityCode,\n",
    "    RenameColumns,\n",
    "    SplitGuaranteeingAllClassesPerSplit,\n",
    "    BalanceToMinimumClass,\n",
    "    Pipeline\n",
    ")"
   ]
  },
  {
   "cell_type": "code",
   "execution_count": 2,
   "metadata": {
    "scrolled": false
   },
   "outputs": [],
   "source": [
    "def read_uci(uci_path):\n",
    "    \"\"\"Le o dataset do motionsense e retorna um dataframe com os dados (vindos de todos os arquivos CSV)\n",
    "    O dataframe retornado possui as seguintes colunas:\n",
    "    - attitude.roll: Rotação em torno do eixo x\n",
    "    - attitude.pitch: Rotação em torno do eixo y\n",
    "    - attitude.yaw: Rotação em torno do eixo z\n",
    "    - gravity.x: Gravidade em torno do eixo x\n",
    "    - gravity.y: Gravidade em torno do eixo y\n",
    "    - gravity.z: Gravidade em torno do eixo z\n",
    "    - rotationRate.x: Velocidade angular em torno do eixo x\n",
    "    - rotationRate.y: Velocidade angular em torno do eixo y\n",
    "    - rotationRate.z: Velocidade angular em torno do eixo z\n",
    "    - userAcceleration.x: Aceleração no eixo x\n",
    "    - userAcceleration.y: Aceleração no eixo y\n",
    "    - userAcceleration.z: Aceleração no eixo z\n",
    "    - activity code: Código da atividade\n",
    "    - index: Índice da amostra vindo do txt\n",
    "    - user: Usuário que realizou a atividade\n",
    "    - serial: Número de série da atividade\n",
    "    - txt: Caminho do txt que contém a atividade\n",
    "\n",
    "    Parameters\n",
    "    ----------\n",
    "    uci_path : str\n",
    "        Caminho para o dataset MotionSense\n",
    "\n",
    "    Returns\n",
    "    -------\n",
    "    pd.DataFrame\n",
    "        Dataframe com os dados do dataset UCI-HAR\n",
    "    \"\"\"\n",
    "    activity_names = {\n",
    "        1: \"WALKING\", \n",
    "        2: \"WALKING_UPSTAIRS\", \n",
    "        3: \"WALKING_DOWNSTAIRS\", \n",
    "        4: \"SITTING\", \n",
    "        5: \"STANDING\", \n",
    "        6: \"LAYING\",\n",
    "        7: \"STAND_TO_SIT\",\n",
    "        8: \"SIT_TO_STAND\",\n",
    "        9: \"SIT_TO_LIE\",\n",
    "        10: \"LIE_TO_SIT\",\n",
    "        11: \"STAND_TO_LIE\",\n",
    "        12: \"LIE_TO_STAND\"\n",
    "    }\n",
    "    activity_codes = {v: k for k, v in activity_names.items()}\n",
    "    \n",
    "    feature_columns = [\n",
    "        \"accel-x\",\n",
    "        \"accel-y\",\n",
    "        \"accel-z\",\n",
    "        \"gyro-x\",\n",
    "        \"gyro-y\",\n",
    "        \"gyro-z\",\n",
    "    ]\n",
    "    \n",
    "#     df_labels = pd.read_csv(\"data/RawData/labels.txt\", header=None, sep=\" \")\n",
    "    df_labels = pd.read_csv(uci_path / \"labels.txt\", header=None, sep=\" \")\n",
    "    df_labels.columns=[\"serial\", \"user\", \"activity code\", \"start\", \"end\"]\n",
    "    \n",
    "    uci_path = Path(uci_path)\n",
    "    \n",
    "    dfs = []\n",
    "    data_path = list(uci_path.glob(\"*.txt\"))\n",
    "    new_data_path = [elem.name.split(\"_\")+[elem] for elem in sorted(data_path)]\n",
    "    df = pd.DataFrame(new_data_path, columns=[\"sensor\", \"serial\", \"user\", \"file\"])\n",
    "    for key, df2 in df.groupby([\"serial\", \"user\"]):\n",
    "        acc, gyr = None, None\n",
    "        for row_index, row in df2.iterrows():\n",
    "            data = pd.read_csv(row[\"file\"], header=None, sep=\" \")\n",
    "            if row[\"sensor\"] == \"acc\":\n",
    "                acc = data\n",
    "            else:\n",
    "                gyr = data\n",
    "        new_df = pd.concat([acc, gyr], axis=1)\n",
    "        new_df.columns = feature_columns\n",
    "        \n",
    "        user = int(key[1].split(\".\")[0][4:])\n",
    "        serial = int(key[0][3:])\n",
    "        \n",
    "        new_df['txt'] = row[\"file\"]\n",
    "        \n",
    "        new_df[\"user\"] = user\n",
    "        new_df[\"serial\"] = serial\n",
    "#         new_df[\"activity code\"] = -1\n",
    "        \n",
    "        for row_index, row in df_labels.loc[(df_labels[\"serial\"] == serial) & (df_labels[\"user\"] == user)].iterrows():\n",
    "            start = row['start']\n",
    "            end = row[\"end\"]+1\n",
    "            activity = row[\"activity code\"]\n",
    "            resumed_df = new_df.loc[start:end].copy()\n",
    "            resumed_df[\"index\"] = [i for i in range(start, end+1)]\n",
    "            resumed_df[\"activity code\"] = activity\n",
    "            \n",
    "            dfs.append(resumed_df)\n",
    "    \n",
    "    df = pd.concat(dfs)\n",
    "    df.reset_index(inplace=True, drop=True)\n",
    "    return df"
   ]
  },
  {
   "cell_type": "code",
   "execution_count": 3,
   "metadata": {
    "scrolled": false
   },
   "outputs": [],
   "source": [
    "# Caminho para o dataset UCI-HAR\n",
    "uci_path = Path(\"data/raw/UCI/RawData/\")\n",
    "# Caminho para salvar o dataset pré-processado\n",
    "output_path = Path(\"data/processed/UCI\")\n",
    "# Cria o caminho de saída se ele não existir\n",
    "output_path.mkdir(parents=True, exist_ok=True)\n",
    "\n",
    "# Lista com as colunas que são features\n",
    "feature_columns = [\n",
    "    \"accel-x\",\n",
    "    \"accel-y\",\n",
    "    \"accel-z\",\n",
    "    \"gyro-x\",\n",
    "    \"gyro-y\",\n",
    "    \"gyro-z\",\n",
    "]\n",
    "\n",
    "# Nome das colunas que serão usada para agrupar as janelas\n",
    "column_group = [\"user\", \"activity code\", \"serial\"]\n",
    "\n",
    "# activity code: standard activity code\n",
    "standard_activity_code_map = {\n",
    "    1: 2, # walk\n",
    "    2: 3, # stair up\n",
    "    3: 4, # stair down\n",
    "    4: 0, # sit\n",
    "    5: 1, # stand\n",
    "    6: -1, # Laying\n",
    "    7: -1, # stand to sit\n",
    "    8: -1, # sit to stand\n",
    "    9: -1, # sit to lie\n",
    "    10: -1, # lie to sit\n",
    "    11: -1, # stand to lie\n",
    "    12: -1 # lie to stand\n",
    "}"
   ]
  },
  {
   "cell_type": "markdown",
   "metadata": {},
   "source": [
    "## Bruto"
   ]
  },
  {
   "cell_type": "markdown",
   "metadata": {},
   "source": [
    "## Normatizado"
   ]
  },
  {
   "cell_type": "code",
   "execution_count": 4,
   "metadata": {
    "scrolled": false
   },
   "outputs": [
    {
     "name": "stdout",
     "output_type": "stream",
     "text": [
      "Executing Resampler\n"
     ]
    },
    {
     "name": "stderr",
     "output_type": "stream",
     "text": [
      "Resampling: 100%|██████████| 714/714 [00:02<00:00, 294.76it/s]\n"
     ]
    },
    {
     "name": "stdout",
     "output_type": "stream",
     "text": [
      "Executing AddStandardActivityCode\n"
     ]
    }
   ],
   "source": [
    "from dataset_processor import (\n",
    "    AddGravityColumn,\n",
    "    Convert_G_to_Ms2,\n",
    "    ButterworthFilter,\n",
    "    Resampler,\n",
    "    Windowize,\n",
    "    AddStandardActivityCode,\n",
    "    RenameColumns,\n",
    "    SplitGuaranteeingAllClassesPerSplit,\n",
    "    BalanceToMinimumClass,\n",
    "    Pipeline\n",
    ")\n",
    "\n",
    "# Lê o dataset\n",
    "dataframe = read_uci(uci_path)\n",
    "\n",
    "# Instancia o objeto que converte a aceleração para m/s²\n",
    "conversor = Convert_G_to_Ms2(\n",
    "    axis_columns=[\"accel-x\", \"accel-y\", \"accel-z\"],             # Nome das colunas do aceletômetro que serão convertidas\n",
    ")\n",
    "\n",
    "# Instancia o objeto que aplica o filtro Butterworth\n",
    "butterworth = ButterworthFilter(\n",
    "    axis_columns=[\"accel-x\", \"accel-y\", \"accel-z\"],             # Nome das colunas do aceletômetro em que o filtro será aplicado\n",
    "    fs=50                                                       # Frequência de amostragem original\n",
    ")\n",
    "\n",
    "# Instacia o objeto que reamostra os dados para 20Hz (supondo que o dataset original é 50Hz, constante)\n",
    "resampler = Resampler(\n",
    "    features_to_select=feature_columns,                         # Nome das colunas que serão usadas como features\n",
    "    original_fs=50,                                             # Frequência de amostragem original\n",
    "    target_fs=20,                                               # Frequência de amostragem desejada\n",
    "    groupby_column=column_group,                                # Agrupa pela coluna do txt. A reamostragem é feita para cada grupo da coluna txt\n",
    ")\n",
    "\n",
    "# Instancia o objeto que cria as janelas\n",
    "windowizer = Windowize(\n",
    "    features_to_select=feature_columns,                         # Nome das colunas que serão usadas como features\n",
    "    samples_per_window=20,                                      # Numero de amostras por janela \n",
    "    samples_per_overlap=0,                                      # Numero de amostras que se sobrepõem\n",
    "    groupby_column=column_group,                                # Agrupa pela coluna do txt. As janelas são criadas para cada grupo da coluna CSV\n",
    ")\n",
    "\n",
    "# Instancia o objeto que adiciona a coluna com o código da atividade\n",
    "standard_label_adder = AddStandardActivityCode(standard_activity_code_map)\n",
    "\n",
    "# Cria o pipeline\n",
    "# 1. Converte a aceleração para m/s²\n",
    "# 2. Aplica o filtro Butterworth\n",
    "# 3. Reamostra os dados para 20Hz\n",
    "# 4. Cria as janelas\n",
    "# 5. Adiciona a coluna com o código da atividade\n",
    "pipeline = Pipeline(\n",
    "    [\n",
    "        # conversor,\n",
    "        # butterworth,\n",
    "        resampler,\n",
    "        # windowizer,\n",
    "        standard_label_adder\n",
    "    ]\n",
    ")\n",
    "\n",
    "# Executa o pipeline\n",
    "new_df_normalized = pipeline(dataframe)\n",
    "# # Salva os dados\n",
    "# new_df_normalized.to_csv(output_path / \"standartized_unbalanced.csv\", index=False)\n",
    "# new_df_normalized"
   ]
  },
  {
   "cell_type": "code",
   "execution_count": 16,
   "metadata": {},
   "outputs": [
    {
     "data": {
      "text/plain": [
       "[<matplotlib.lines.Line2D at 0x7f94ebad5a90>]"
      ]
     },
     "execution_count": 16,
     "metadata": {},
     "output_type": "execute_result"
    },
    {
     "data": {
      "image/png": "[encoded data removed]",
      "text/plain": [
       "<Figure size 640x480 with 1 Axes>"
      ]
     },
     "metadata": {},
     "output_type": "display_data"
    }
   ],
   "source": [
    "import matplotlib.pyplot as plt\n",
    "import plotly.express as px\n",
    "\n",
    "\n",
    "sample = np.array(dataframe['accel-x'])\n",
    "sample2 = np.array(new_df_normalized['accel-x'])\n",
    "\n",
    "\n",
    "\n",
    "plt.plot(sample[:100])\n",
    "plt.plot(sample2[:40])"
   ]
  },
  {
   "cell_type": "code",
   "execution_count": null,
   "metadata": {},
   "outputs": [],
   "source": []
  },
  {
   "cell_type": "code",
   "execution_count": 7,
   "metadata": {},
   "outputs": [
    {
     "data": {
      "text/plain": [
       "(array([1.02083339]), array([1.02051774]))"
      ]
     },
     "execution_count": 7,
     "metadata": {},
     "output_type": "execute_result"
    }
   ],
   "source": [
    "sample[:1], sample2[:1]"
   ]
  },
  {
   "cell_type": "code",
   "execution_count": null,
   "metadata": {},
   "outputs": [],
   "source": []
  }
 ],
 "metadata": {
  "celltoolbar": "Raw Cell Format",
  "kernelspec": {
   "display_name": "Python 3",
   "language": "python",
   "name": "python3"
  },
  "language_info": {
   "codemirror_mode": {
    "name": "ipython",
    "version": 3
   },
   "file_extension": ".py",
   "mimetype": "text/x-python",
   "name": "python",
   "nbconvert_exporter": "python",
   "pygments_lexer": "ipython3",
   "version": "3.8.10"
  },
  "vscode": {
   "interpreter": {
    "hash": "916dbcbb3f70747c44a77c7bcd40155683ae19c65e1c03b4aa3499c5328201f1"
   }
  }
 },
 "nbformat": 4,
 "nbformat_minor": 2
}
