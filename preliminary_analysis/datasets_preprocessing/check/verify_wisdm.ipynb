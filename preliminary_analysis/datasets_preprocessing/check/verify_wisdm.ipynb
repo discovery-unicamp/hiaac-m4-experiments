{
 "cells": [
  {
   "cell_type": "code",
   "execution_count": null,
   "metadata": {
    "notebookRunGroups": {
     "groupValue": "1"
    }
   },
   "outputs": [],
   "source": [
    "from pathlib import Path\n",
    "import random\n",
    "\n",
    "from utils import compare_metadata, generate_plots\n",
    "\n",
    "from librep.datasets.har.loaders import PandasMultiModalLoader\n"
   ]
  },
  {
   "cell_type": "code",
   "execution_count": null,
   "metadata": {},
   "outputs": [],
   "source": [
    "standartized_codes = {\n",
    "    0: \"sit\",\n",
    "    1: \"stand\",\n",
    "    2: \"walk\",\n",
    "    3: \"stair up\",\n",
    "    4: \"stair down\",\n",
    "    5: \"run\",\n",
    "    6: \"stair up and down\"\n",
    "}"
   ]
  },
  {
   "cell_type": "code",
   "execution_count": null,
   "metadata": {},
   "outputs": [],
   "source": [
    "raw_view_path = Path(\"../data/processed/WISDM/raw_balanced\")\n",
    "processed_view_path = Path(\"../data/processed/WISDM/standartized_balanced\")\n",
    "\n",
    "train_raw, validation_raw, test_raw = PandasMultiModalLoader(raw_view_path).load(\n",
    "    label=\"standard activity code\"\n",
    ")\n",
    "train_processed, validation_processed, test_processed = PandasMultiModalLoader(\n",
    "    processed_view_path\n",
    ").load(label=\"standard activity code\")\n"
   ]
  },
  {
   "cell_type": "code",
   "execution_count": null,
   "metadata": {},
   "outputs": [],
   "source": [
    "compare_metadata(\n",
    "    train_raw.data,\n",
    "    train_processed.data,\n",
    "    [\"user\", \"standard activity code\", \"window\"],\n",
    ")"
   ]
  },
  {
   "cell_type": "code",
   "execution_count": null,
   "metadata": {},
   "outputs": [],
   "source": [
    "selected_samples = random.sample(range(len(train_raw)), 5)\n",
    "\n",
    "for i in selected_samples:\n",
    "    label = standartized_codes[train_raw[i][1]]\n",
    "\n",
    "    fig = generate_plots(\n",
    "        train_raw,\n",
    "        train_processed,\n",
    "        sample_no=i,\n",
    "        windows=[\"accel-x\", \"accel-y\", \"accel-z\"],\n",
    "        height=800,\n",
    "        width=1200,\n",
    "        names=[\"Raw\", \"Standartized - ResamplerPlotly\"],\n",
    "        vertical_spacing=0.1,\n",
    "        title=f\"WISDM sample {i} ({label})\",\n",
    "        x_title=\"x (time)\",\n",
    "        y_title=\"y (varies)\",\n",
    "    )\n",
    "    fig.show(\"png\")\n"
   ]
  },
  {
   "cell_type": "code",
   "execution_count": null,
   "metadata": {},
   "outputs": [],
   "source": [
    "from librep.transforms.fft import FFT\n",
    "from librep.datasets.multimodal.operations import DatasetWindowedTransform\n",
    "\n",
    "transformer = DatasetWindowedTransform(transform=FFT(centered=True), do_fit=False, new_suffix=\".fft\")\n",
    "fft_train_raw, fft_validation_raw, fft_test_raw = transformer(train_raw), transformer(validation_raw), transformer(test_raw)\n",
    "fft_train_processed, fft_validation_processed, fft_test_processed = transformer(train_processed), transformer(validation_processed), transformer(test_processed)"
   ]
  },
  {
   "cell_type": "code",
   "execution_count": null,
   "metadata": {},
   "outputs": [],
   "source": [
    "for i in selected_samples:\n",
    "    label = standartized_codes[train_raw[i][1]]\n",
    "\n",
    "    fig = generate_plots(\n",
    "        fft_train_raw,\n",
    "        fft_train_processed,\n",
    "        sample_no=i,\n",
    "        windows=[\"accel-x.fft\", \"accel-y.fft\", \"accel-z.fft\"],\n",
    "        height=800,\n",
    "        width=1200,\n",
    "        names=[\"Raw\", \"Standartized - ResamplerPlotly\"],\n",
    "        vertical_spacing=0.1,\n",
    "        title=f\"WISDM sample {i} ({label}) - FFT\",\n",
    "        x_title=\"x\",\n",
    "        y_title=\"y\",\n",
    "        the_slice=slice(0, 30, 1)\n",
    "    )\n",
    "    fig.show(\"png\")"
   ]
  },
  {
   "cell_type": "code",
   "execution_count": null,
   "metadata": {},
   "outputs": [],
   "source": [
    "from sklearn.ensemble import RandomForestClassifier\n",
    "from umap import UMAP\n",
    "from librep.datasets.multimodal.operations import (\n",
    "    DatasetFitter,\n",
    "    DatasetPredicter,\n",
    "    DatasetWindowedTransform,\n",
    "    DatasetY,\n",
    "    DatasetEvaluator,\n",
    "    DatasetTransformer,\n",
    ")\n",
    "from librep.metrics.report import ClassificationReport\n",
    "\n",
    "\n",
    "def train_rf(train_dset, test_dset, use_umap=False):\n",
    "    if use_umap:\n",
    "        umap_model = UMAP(n_neighbors=5, n_components=5, metric=\"euclidean\")\n",
    "        DatasetFitter(umap_model, use_y=False)(train_dset)\n",
    "        train_dset = DatasetTransformer(umap_model)(train_dset)\n",
    "        test_dset = DatasetTransformer(umap_model)(test_dset)\n",
    "    \n",
    "    model = RandomForestClassifier()\n",
    "    DatasetFitter(model, use_y=True)(train_dset)\n",
    "    y_pred = DatasetPredicter(model)(test_dset)\n",
    "    y_true = DatasetY()(test_dset)\n",
    "    return DatasetEvaluator(ClassificationReport(normalize=\"all\"))(y_true, y_pred)\n"
   ]
  },
  {
   "attachments": {},
   "cell_type": "markdown",
   "metadata": {},
   "source": [
    "# Classification without dimension reduction"
   ]
  },
  {
   "cell_type": "code",
   "execution_count": null,
   "metadata": {},
   "outputs": [],
   "source": [
    "fft_train_validation_raw = fft_train_raw.concatenate(fft_validation_raw)\n",
    "result = train_rf(fft_train_validation_raw, fft_test_raw)\n",
    "print(result)"
   ]
  },
  {
   "cell_type": "code",
   "execution_count": null,
   "metadata": {},
   "outputs": [],
   "source": [
    "fft_train_validation_processed = fft_train_processed.concatenate(fft_validation_processed)\n",
    "result = train_rf(fft_train_validation_processed, fft_test_processed)\n",
    "print(result)"
   ]
  },
  {
   "attachments": {},
   "cell_type": "markdown",
   "metadata": {},
   "source": [
    "# Classification with dimension reduction"
   ]
  },
  {
   "cell_type": "code",
   "execution_count": null,
   "metadata": {},
   "outputs": [],
   "source": [
    "fft_train_validation_raw = fft_train_raw.concatenate(fft_validation_raw)\n",
    "result = train_rf(fft_train_validation_raw, fft_test_raw, use_umap=True)\n",
    "print(result)"
   ]
  },
  {
   "cell_type": "code",
   "execution_count": null,
   "metadata": {},
   "outputs": [],
   "source": [
    "fft_train_validation_processed = fft_train_processed.concatenate(fft_validation_processed)\n",
    "result = train_rf(fft_train_validation_processed, fft_test_processed,   use_umap=True)\n",
    "print(result)"
   ]
  }
 ],
 "metadata": {
  "kernelspec": {
   "display_name": "Python 3",
   "language": "python",
   "name": "python3"
  },
  "language_info": {
   "codemirror_mode": {
    "name": "ipython",
    "version": 3
   },
   "file_extension": ".py",
   "mimetype": "text/x-python",
   "name": "python",
   "nbconvert_exporter": "python",
   "pygments_lexer": "ipython3",
   "version": "3.8.10"
  },
  "orig_nbformat": 4,
  "vscode": {
   "interpreter": {
    "hash": "767d51c1340bd893661ea55ea3124f6de3c7a262a8b4abca0554b478b1e2ff90"
   }
  }
 },
 "nbformat": 4,
 "nbformat_minor": 2
}
