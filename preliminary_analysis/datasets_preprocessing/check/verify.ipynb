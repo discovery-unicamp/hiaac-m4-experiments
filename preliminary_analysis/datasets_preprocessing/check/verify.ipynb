{
 "cells": [
  {
   "cell_type": "markdown",
   "id": "6f55fd37",
   "metadata": {},
   "source": [
    "# Sanity check - MotionSense\n",
    "\n",
    "This notebook is used to check if two balanced views have the same user's subset, the samples from time windows are compatibles, and your trial_code are similar per sample."
   ]
  },
  {
   "cell_type": "code",
   "execution_count": 1,
   "id": "ff51fe2a",
   "metadata": {},
   "outputs": [
    {
     "name": "stderr",
     "output_type": "stream",
     "text": [
      "/home/patrick/.local/lib/python3.8/site-packages/tqdm/auto.py:22: TqdmWarning: IProgress not found. Please update jupyter and ipywidgets. See https://ipywidgets.readthedocs.io/en/stable/user_install.html\n",
      "  from .autonotebook import tqdm as notebook_tqdm\n"
     ]
    }
   ],
   "source": [
    "from utils import compare_metadata\n",
    "from librep.datasets.har import loaders\n",
    "\n",
    "from librep.datasets.har.loaders import (\n",
    "    PandasMultiModalLoader\n",
    ")"
   ]
  },
  {
   "cell_type": "markdown",
   "id": "55099408",
   "metadata": {},
   "source": [
    "## Load raw data"
   ]
  },
  {
   "cell_type": "code",
   "execution_count": 2,
   "id": "18e7557f",
   "metadata": {},
   "outputs": [
    {
     "data": {
      "text/plain": [
       "(PandasMultiModalDataset: samples=3936, features=0, no. window=6, label_columns='standard activity code',\n",
       " PandasMultiModalDataset: samples=1104, features=0, no. window=6, label_columns='standard activity code')"
      ]
     },
     "execution_count": 2,
     "metadata": {},
     "output_type": "execute_result"
    }
   ],
   "source": [
    "Root = \"../../data_2/views/MotionSense/\"\n",
    "loader = PandasMultiModalLoader(\n",
    "    Root+\"raw_balanced\"\n",
    ")\n",
    "train_raw, test_raw = loader.load(concat_train_validation=True, label=\"standard activity code\")\n",
    "train_raw, test_raw"
   ]
  },
  {
   "cell_type": "markdown",
   "id": "ad29a7de",
   "metadata": {},
   "source": [
    "## Load normalized data"
   ]
  },
  {
   "cell_type": "code",
   "execution_count": 3,
   "id": "ad375705",
   "metadata": {},
   "outputs": [
    {
     "data": {
      "text/plain": [
       "(PandasMultiModalDataset: samples=3936, features=0, no. window=6, label_columns='standard activity code',\n",
       " PandasMultiModalDataset: samples=1104, features=0, no. window=6, label_columns='standard activity code')"
      ]
     },
     "execution_count": 3,
     "metadata": {},
     "output_type": "execute_result"
    }
   ],
   "source": [
    "loader = PandasMultiModalLoader(\n",
    "    Root+\"normalized_balanced\"\n",
    ")\n",
    "train_normalized, test_normalized = loader.load(concat_train_validation=True, label=\"standard activity code\")\n",
    "train_normalized, test_normalized"
   ]
  },
  {
   "cell_type": "markdown",
   "id": "709b5c49",
   "metadata": {},
   "source": [
    "## Check"
   ]
  },
  {
   "cell_type": "code",
   "execution_count": 4,
   "id": "e06a6696",
   "metadata": {},
   "outputs": [
    {
     "name": "stdout",
     "output_type": "stream",
     "text": [
      "The check between datasests is ok. There is no divergence.\n"
     ]
    }
   ],
   "source": [
    "columns = ['trial_code', 'index', 'user', 'standard activity code']\n",
    "if compare_metadata(train_raw.data, train_normalized.data, columns, index_a_fraction=50, index_b_fraction=20):\n",
    "    print('The check between datasests is ok. There is no divergence.')\n",
    "else:\n",
    "    print('The check between datasests isn\\'t ok. There is some divergence.')"
   ]
  },
  {
   "cell_type": "code",
   "execution_count": null,
   "id": "1ea0c11f",
   "metadata": {},
   "outputs": [],
   "source": []
  }
 ],
 "metadata": {
  "kernelspec": {
   "display_name": "Python 3 (ipykernel)",
   "language": "python",
   "name": "python3"
  },
  "language_info": {
   "codemirror_mode": {
    "name": "ipython",
    "version": 3
   },
   "file_extension": ".py",
   "mimetype": "text/x-python",
   "name": "python",
   "nbconvert_exporter": "python",
   "pygments_lexer": "ipython3",
   "version": "3.8.10"
  }
 },
 "nbformat": 4,
 "nbformat_minor": 5
}
