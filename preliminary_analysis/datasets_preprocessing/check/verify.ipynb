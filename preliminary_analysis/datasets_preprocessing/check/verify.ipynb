{
 "cells": [
  {
   "cell_type": "markdown",
   "id": "8b0acfba",
   "metadata": {},
   "source": [
    "# Sanity check - MotionSense\n",
    "\n",
    "This notebook is used to check if two balanced views have the same user's subset, the samples from time windows are compatibles, and your trial_code are similar per sample."
   ]
  },
  {
   "cell_type": "code",
   "execution_count": 6,
   "id": "d445e800",
   "metadata": {},
   "outputs": [],
   "source": [
    "from utils import compare_metadata\n",
    "from librep.datasets.har import loaders\n",
    "\n",
    "from librep.datasets.har.loaders import (\n",
    "    PandasMultiModalLoader\n",
    ")"
   ]
  },
  {
   "cell_type": "markdown",
   "id": "e766e8c3",
   "metadata": {},
   "source": [
    "## Load raw data"
   ]
  },
  {
   "cell_type": "code",
   "execution_count": 10,
   "id": "30c41c9d",
   "metadata": {},
   "outputs": [
    {
     "data": {
      "text/plain": [
       "(PandasMultiModalDataset: samples=3936, features=0, no. window=6, label_columns='standard activity code',\n",
       " PandasMultiModalDataset: samples=1104, features=0, no. window=6, label_columns='standard activity code')"
      ]
     },
     "execution_count": 10,
     "metadata": {},
     "output_type": "execute_result"
    }
   ],
   "source": [
    "Root = \"../../data_2/views/MotionSense/\"\n",
    "loader = PandasMultiModalLoader(\n",
    "    Root+\"raw_balanced\"\n",
    ")\n",
    "train_raw, test_raw = loader.load(concat_train_validation=True, label=\"standard activity code\")\n",
    "train_raw, test_raw"
   ]
  },
  {
   "cell_type": "markdown",
   "id": "cf82068c",
   "metadata": {},
   "source": [
    "## Load normalized data"
   ]
  },
  {
   "cell_type": "code",
   "execution_count": 11,
   "id": "ee61aacf",
   "metadata": {},
   "outputs": [
    {
     "data": {
      "text/plain": [
       "(PandasMultiModalDataset: samples=3936, features=0, no. window=6, label_columns='standard activity code',\n",
       " PandasMultiModalDataset: samples=1104, features=0, no. window=6, label_columns='standard activity code')"
      ]
     },
     "execution_count": 11,
     "metadata": {},
     "output_type": "execute_result"
    }
   ],
   "source": [
    "loader = PandasMultiModalLoader(\n",
    "    Root+\"normalized_balanced\"\n",
    ")\n",
    "train_normalized, test_normalized = loader.load(concat_train_validation=True, label=\"standard activity code\")\n",
    "train_normalized, test_normalized"
   ]
  },
  {
   "cell_type": "markdown",
   "id": "d42bb049",
   "metadata": {},
   "source": [
    "## Check"
   ]
  },
  {
   "cell_type": "code",
   "execution_count": 17,
   "id": "61e4c774",
   "metadata": {},
   "outputs": [
    {
     "name": "stdout",
     "output_type": "stream",
     "text": [
      "The check between datasests is ok. There is no divergence.\n"
     ]
    }
   ],
   "source": [
    "columns = ['trial_code', 'index', 'user', 'standard activity code']\n",
    "if compare_metadata(train_raw.data, train_normalized.data, columns):\n",
    "    print('The check between datasests is ok. There is no divergence.')\n",
    "else:\n",
    "    print('The check between datasests isn\\'t ok. There is some divergence.')"
   ]
  },
  {
   "cell_type": "code",
   "execution_count": null,
   "id": "a1228ca3",
   "metadata": {},
   "outputs": [],
   "source": []
  }
 ],
 "metadata": {
  "kernelspec": {
   "display_name": "Python 3 (ipykernel)",
   "language": "python",
   "name": "python3"
  },
  "language_info": {
   "codemirror_mode": {
    "name": "ipython",
    "version": 3
   },
   "file_extension": ".py",
   "mimetype": "text/x-python",
   "name": "python",
   "nbconvert_exporter": "python",
   "pygments_lexer": "ipython3",
   "version": "3.8.10"
  }
 },
 "nbformat": 4,
 "nbformat_minor": 5
}
