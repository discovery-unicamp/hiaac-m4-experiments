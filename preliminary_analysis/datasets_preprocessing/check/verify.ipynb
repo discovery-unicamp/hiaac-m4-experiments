{
 "cells": [
  {
   "cell_type": "code",
   "execution_count": 2,
   "id": "c1307b43",
   "metadata": {},
   "outputs": [],
   "source": [
    "from utils import compare_metadata\n",
    "\n",
    "import pandas as pd\n",
    "\n",
    "from librep.utils.dataset import PandasDatasetsIO\n",
    "\n",
    "%matplotlib inline"
   ]
  },
  {
   "cell_type": "code",
   "execution_count": null,
   "id": "a4538e2a",
   "metadata": {},
   "outputs": [],
   "source": []
  }
 ],
 "metadata": {
  "kernelspec": {
   "display_name": "Python 3 (ipykernel)",
   "language": "python",
   "name": "python3"
  },
  "language_info": {
   "codemirror_mode": {
    "name": "ipython",
    "version": 3
   },
   "file_extension": ".py",
   "mimetype": "text/x-python",
   "name": "python",
   "nbconvert_exporter": "python",
   "pygments_lexer": "ipython3",
   "version": "3.8.10"
  }
 },
 "nbformat": 4,
 "nbformat_minor": 5
}
