{
 "cells": [
  {
   "cell_type": "code",
   "execution_count": 2,
   "id": "cb623923",
   "metadata": {},
   "outputs": [
    {
     "name": "stderr",
     "output_type": "stream",
     "text": [
      "/home/patrick/.local/lib/python3.8/site-packages/tqdm/auto.py:22: TqdmWarning: IProgress not found. Please update jupyter and ipywidgets. See https://ipywidgets.readthedocs.io/en/stable/user_install.html\n",
      "  from .autonotebook import tqdm as notebook_tqdm\n"
     ]
    }
   ],
   "source": [
    "import numpy as np\n",
    "import pandas as pd\n",
    "from umap import UMAP\n",
    "\n",
    "import time\n",
    "import warnings\n",
    "warnings.filterwarnings('ignore')\n",
    "import json\n",
    "\n",
    "# Librep imports\n",
    "from librep.datasets.har.loaders import (\n",
    "    PandasMultiModalLoader\n",
    ")\n",
    "from librep.datasets.multimodal import PandasMultiModalDataset, TransformMultiModalDataset, WindowedTransform\n",
    "from librep.transforms.fft import FFT\n",
    "from librep.utils.workflow import SimpleTrainEvalWorkflow, MultiRunWorkflow\n",
    "from librep.estimators import RandomForestClassifier, SVC, KNeighborsClassifier\n",
    "from librep.metrics.report import ClassificationReport"
   ]
  },
  {
   "cell_type": "code",
   "execution_count": 3,
   "id": "9a9cdbf4",
   "metadata": {},
   "outputs": [
    {
     "data": {
      "text/plain": [
       "(PandasMultiModalDataset: samples=3936, features=900, no. window=6, label_columns='standard activity code',\n",
       " PandasMultiModalDataset: samples=1104, features=900, no. window=6, label_columns='standard activity code')"
      ]
     },
     "execution_count": 3,
     "metadata": {},
     "output_type": "execute_result"
    }
   ],
   "source": [
    "Root = \"../../../../data_2/views/MotionSense/raw_balanced_view_normalized/\"\n",
    "labels_activity = {\n",
    "    0: \"sit\",\n",
    "    1: \"stand\",\n",
    "    2: \"walk\",\n",
    "    3: \"stair up\",\n",
    "    4: \"stair down\",\n",
    "    5: \"run\",\n",
    "    6: \"stair up and down\",\n",
    "}\n",
    "\n",
    "# datasets = ['KuHar', 'RealWorld', 'MotionSense', 'WISDM', 'UCI']\n",
    "datasets = ['MotionSense']\n",
    "\n",
    "classes = list(labels_activity.keys())\n",
    "\n",
    "labels_dataset = {\n",
    "    # 'KuHar': 'KuHar', \n",
    "    # 'RealWorld': 'RealWorld',\n",
    "    'MotionSense': 'MotionSense',\n",
    "    # 'ExtraSensory': 'ExtraSensory',\n",
    "    # 'WISDM': 'WISDM',\n",
    "    # 'UCI': 'UCI',\n",
    "}\n",
    "\n",
    "loader = PandasMultiModalLoader(\n",
    "    Root, \n",
    "    download=False)\n",
    "train_data, test_data = loader.load(concat_train_validation=True, label=\"standard activity code\")\n",
    "train_data, test_data"
   ]
  },
  {
   "cell_type": "code",
   "execution_count": 6,
   "id": "ba5764a9",
   "metadata": {},
   "outputs": [
    {
     "data": {
      "text/plain": [
       "(3936, 900)"
      ]
     },
     "execution_count": 6,
     "metadata": {},
     "output_type": "execute_result"
    }
   ],
   "source": [
    "columns = train_data.feature_columns\n",
    "train_data.data[columns].shape[1]"
   ]
  },
  {
   "cell_type": "code",
   "execution_count": 7,
   "id": "1a5825e3",
   "metadata": {},
   "outputs": [
    {
     "data": {
      "text/plain": [
       "900"
      ]
     },
     "execution_count": 7,
     "metadata": {},
     "output_type": "execute_result"
    }
   ],
   "source": [
    "train_data.window_slices[0][1] * train_data.num_windows\n"
   ]
  },
  {
   "cell_type": "code",
   "execution_count": 9,
   "id": "6c5d8f0c",
   "metadata": {},
   "outputs": [
    {
     "data": {
      "text/plain": [
       "PandasMultiModalDataset: samples=3936, features=900, no. window=6, label_columns='standard activity code'"
      ]
     },
     "execution_count": 9,
     "metadata": {},
     "output_type": "execute_result"
    }
   ],
   "source": [
    "train_data"
   ]
  },
  {
   "cell_type": "code",
   "execution_count": null,
   "id": "b354842b",
   "metadata": {},
   "outputs": [],
   "source": []
  }
 ],
 "metadata": {
  "kernelspec": {
   "display_name": "Python 3 (ipykernel)",
   "language": "python",
   "name": "python3"
  },
  "language_info": {
   "codemirror_mode": {
    "name": "ipython",
    "version": 3
   },
   "file_extension": ".py",
   "mimetype": "text/x-python",
   "name": "python",
   "nbconvert_exporter": "python",
   "pygments_lexer": "ipython3",
   "version": "3.8.10"
  }
 },
 "nbformat": 4,
 "nbformat_minor": 5
}
