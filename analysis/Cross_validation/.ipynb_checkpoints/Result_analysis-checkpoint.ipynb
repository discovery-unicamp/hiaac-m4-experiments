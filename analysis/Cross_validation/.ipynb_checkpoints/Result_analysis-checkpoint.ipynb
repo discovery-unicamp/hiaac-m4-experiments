{
 "cells": [
  {
   "cell_type": "code",
   "execution_count": 1,
   "metadata": {
    "scrolled": false,
    "slideshow": {
     "slide_type": "-"
    }
   },
   "outputs": [],
   "source": [
    "import numpy as np\n",
    "import pandas as pd\n",
    "import pickle\n",
    "import plotly.express as px\n",
    "import plotly.graph_objects as go"
   ]
  },
  {
   "cell_type": "markdown",
   "metadata": {},
   "source": [
    "# Análise das características dos datasets"
   ]
  },
  {
   "cell_type": "markdown",
   "metadata": {
    "heading_collapsed": true
   },
   "source": [
    "## Características dos datasets"
   ]
  },
  {
   "cell_type": "markdown",
   "metadata": {
    "hidden": true
   },
   "source": [
    "- KuHar:\n",
    " - Treino: 3114\n",
    " - Teste: 246\n",
    " - Classes: \n",
    "     - Sit\n",
    "     - Stand\n",
    "     - Walk\n",
    "     - Stair up\n",
    "     - Stair down\n",
    "     - Run\n",
    " \n",
    "- MotionSense:\n",
    " - Treino: 4092\n",
    " - Teste: 936\n",
    " - Classes: \n",
    "     - Sit\n",
    "     - Stand\n",
    "     - Walk\n",
    "     - Stair up\n",
    "     - Stair down\n",
    "     - Run\n",
    " \n",
    "- UCI:\n",
    " - Treino: 2169\n",
    " - Teste: 671\n",
    " - Classes: \n",
    "     - Sit\n",
    "     - Stand\n",
    "     - Walk\n",
    "     - Stair up\n",
    "     - Stair down\n",
    "     \n",
    "- WISDM:\n",
    " - Treino: 12305\n",
    " - Teste: 2891\n",
    " - Classes: \n",
    "     - Sit\n",
    "     - Stand\n",
    "     - Walk\n",
    "     - Stair up and down"
   ]
  },
  {
   "cell_type": "markdown",
   "metadata": {},
   "source": [
    "## Comentários"
   ]
  },
  {
   "cell_type": "markdown",
   "metadata": {},
   "source": [
    "Analisando pelos conjuntos de treinos podemos ver que o WISDM é o dataset com maior número de amostras, sendo que, em termos de quantidade, os datasets ocupam $x \\%$ do WISDM.\n",
    "\n",
    "- KuHar: 25.3\\%\n",
    "- MotionSense: 33.25\\%\n",
    "- UCI: 17.63\\%\n",
    "- WISDM: 100\\%\n",
    "\n",
    "Essa última análise em termos de $\\%$ nos revela que o WISDM tem mais do que o dobro de todos os outros datasets, ou mais ainda, que seu conjunto de treino tem mais amostras do que o KuHar, MotionSense e UCI juntos. Este fator nos leva a levantar algumas possíveis perguntas de pesquisa para analisar os resultados intra/inter dataset:\n",
    "\n",
    "1. O desbalanceamento da quantidade de amostras de um dataset introduz um fator de viés por dataset nos experimentos?\n",
    "\n",
    "2. O que melhora os resultados é a presença de um novo dataset ou o aumento de amostras para o treinamento do modelo?\n",
    "\n",
    "3. O UMAP gera uma boa representação? Se sim, existe um conjunto mínimo de datasets que deixa essa representação boa?\n",
    "\n",
    "4. A melhor maneira de generalizar é no domínio do tempo, frequência ou outro (eg. features handcrafted)?"
   ]
  },
  {
   "cell_type": "markdown",
   "metadata": {},
   "source": [
    "# Carregando resultados"
   ]
  },
  {
   "cell_type": "code",
   "execution_count": 2,
   "metadata": {
    "scrolled": false
   },
   "outputs": [
    {
     "ename": "FileNotFoundError",
     "evalue": "[Errno 2] No such file or directory: 'df_results_fixed.pkl'",
     "output_type": "error",
     "traceback": [
      "\u001b[0;31m---------------------------------------------------------------------------\u001b[0m",
      "\u001b[0;31mFileNotFoundError\u001b[0m                         Traceback (most recent call last)",
      "\u001b[0;32m<ipython-input-2-7710c3d107f9>\u001b[0m in \u001b[0;36m<module>\u001b[0;34m\u001b[0m\n\u001b[1;32m      1\u001b[0m \u001b[0;31m# with open('backup/df_results.pkl', 'rb') as f:\u001b[0m\u001b[0;34m\u001b[0m\u001b[0;34m\u001b[0m\u001b[0;34m\u001b[0m\u001b[0m\n\u001b[0;32m----> 2\u001b[0;31m \u001b[0;32mwith\u001b[0m \u001b[0mopen\u001b[0m\u001b[0;34m(\u001b[0m\u001b[0;34m'df_results_fixed.pkl'\u001b[0m\u001b[0;34m,\u001b[0m \u001b[0;34m'rb'\u001b[0m\u001b[0;34m)\u001b[0m \u001b[0;32mas\u001b[0m \u001b[0mf\u001b[0m\u001b[0;34m:\u001b[0m\u001b[0;34m\u001b[0m\u001b[0;34m\u001b[0m\u001b[0m\n\u001b[0m\u001b[1;32m      3\u001b[0m     \u001b[0mdf_dict\u001b[0m \u001b[0;34m=\u001b[0m \u001b[0mpickle\u001b[0m\u001b[0;34m.\u001b[0m\u001b[0mload\u001b[0m\u001b[0;34m(\u001b[0m\u001b[0mf\u001b[0m\u001b[0;34m)\u001b[0m\u001b[0;34m\u001b[0m\u001b[0;34m\u001b[0m\u001b[0m\n\u001b[1;32m      4\u001b[0m \u001b[0mdf\u001b[0m \u001b[0;34m=\u001b[0m \u001b[0mpd\u001b[0m\u001b[0;34m.\u001b[0m\u001b[0mDataFrame\u001b[0m\u001b[0;34m(\u001b[0m\u001b[0mdf_dict\u001b[0m\u001b[0;34m)\u001b[0m\u001b[0;34m\u001b[0m\u001b[0;34m\u001b[0m\u001b[0m\n\u001b[1;32m      5\u001b[0m \u001b[0mdf\u001b[0m\u001b[0;34m[\u001b[0m\u001b[0;34m'Test'\u001b[0m\u001b[0;34m]\u001b[0m \u001b[0;34m=\u001b[0m \u001b[0mdf\u001b[0m\u001b[0;34m[\u001b[0m\u001b[0;34m'Test'\u001b[0m\u001b[0;34m]\u001b[0m\u001b[0;34m.\u001b[0m\u001b[0mastype\u001b[0m\u001b[0;34m(\u001b[0m\u001b[0mstr\u001b[0m\u001b[0;34m)\u001b[0m\u001b[0;34m\u001b[0m\u001b[0;34m\u001b[0m\u001b[0m\n",
      "\u001b[0;31mFileNotFoundError\u001b[0m: [Errno 2] No such file or directory: 'df_results_fixed.pkl'"
     ]
    }
   ],
   "source": [
    "# with open('backup/df_results.pkl', 'rb') as f:\n",
    "with open('df_results_fixed.pkl', 'rb') as f:\n",
    "    df_dict = pickle.load(f)\n",
    "df = pd.DataFrame(df_dict)\n",
    "df['Test'] = df['Test'].astype(str)\n",
    "df['Train'] = df['Train'].astype(str)\n",
    "df['Umap - 10'] = df['Umap - 10'].astype(str)\n",
    "df"
   ]
  },
  {
   "cell_type": "markdown",
   "metadata": {},
   "source": [
    "## Substituindo os valores NaN por zero"
   ]
  },
  {
   "cell_type": "code",
   "execution_count": null,
   "metadata": {
    "scrolled": false
   },
   "outputs": [],
   "source": [
    "df = df.fillna(0)"
   ]
  },
  {
   "cell_type": "markdown",
   "metadata": {},
   "source": [
    "## Removendo os resultados que possuem o ExtraSensory no conjunto de treino"
   ]
  },
  {
   "cell_type": "code",
   "execution_count": null,
   "metadata": {
    "scrolled": true
   },
   "outputs": [],
   "source": [
    "data = 'ExtraSensory'\n",
    "train = [comb for comb in df['Train'].unique() if data not in comb]\n",
    "df = df.loc[(df['Train'].isin(train)) & (df['Classifier'] == 'RandomForest')]\n",
    "df['Train'].unique()"
   ]
  },
  {
   "cell_type": "code",
   "execution_count": null,
   "metadata": {
    "scrolled": false
   },
   "outputs": [],
   "source": [
    "y = [\n",
    "    'f1-score - mean - sit', \n",
    "    'f1-score - mean - stand',\n",
    "    'f1-score - mean - walk', \n",
    "    'f1-score - mean - run',\n",
    "    'Test'\n",
    "]"
   ]
  },
  {
   "cell_type": "code",
   "execution_count": null,
   "metadata": {
    "scrolled": false
   },
   "outputs": [],
   "source": [
    "aux = []\n",
    "for sample in df[y].values:\n",
    "    aux.append(np.mean(sample[:-1] if sample[-1] != 'UCI' else sample[:-2]))\n",
    "new_column = np.array(aux)\n",
    "df['f1-score - mean - without stair up/down'] = new_column"
   ]
  },
  {
   "cell_type": "code",
   "execution_count": null,
   "metadata": {
    "scrolled": true
   },
   "outputs": [],
   "source": [
    "df"
   ]
  },
  {
   "cell_type": "code",
   "execution_count": null,
   "metadata": {
    "scrolled": false
   },
   "outputs": [],
   "source": [
    "datasets = df['Test'].unique()\n",
    "datasets"
   ]
  },
  {
   "cell_type": "code",
   "execution_count": null,
   "metadata": {
    "scrolled": false
   },
   "outputs": [],
   "source": [
    "def boxplot(df, title, y):\n",
    "    fig = go.Figure()\n",
    "    for elem in y:\n",
    "        fig.add_trace(\n",
    "            go.Box(y=df[elem], name=elem),\n",
    "            # go.Scatter (\n",
    "            #     hovertext=datasets\n",
    "            # )\n",
    "        )\n",
    "    fig.update_layout(\n",
    "        title=title,\n",
    "\n",
    "    )\n",
    "    fig.update_yaxes(range = [0., 1.])\n",
    "    fig.show()"
   ]
  },
  {
   "cell_type": "code",
   "execution_count": null,
   "metadata": {
    "scrolled": false
   },
   "outputs": [],
   "source": [
    "y = [\n",
    "    'accuracy - mean',\n",
    "    'f1 score (weighted) - mean',\n",
    "    'f1-score - mean - sit', \n",
    "    'f1-score - mean - stand',\n",
    "    'f1-score - mean - walk', \n",
    "    'f1-score - mean - stair up',\n",
    "    'f1-score - mean - stair down', \n",
    "    'f1-score - mean - run',\n",
    "    'f1-score - mean - stair up and down',\n",
    "    'f1-score - mean - without stair up/down'\n",
    "]\n"
   ]
  },
  {
   "cell_type": "markdown",
   "metadata": {},
   "source": [
    "## Obs: \n",
    "\n",
    "- The charts below show the dsitributiosns of f1 score mean (total and per class) with/without each test data on train data. Note that we can only calculate the metric score to classes that appear on test data."
   ]
  },
  {
   "cell_type": "code",
   "execution_count": null,
   "metadata": {
    "scrolled": true
   },
   "outputs": [],
   "source": [
    "x = 'Test'\n",
    "for data in datasets:\n",
    "    train = [elem for elem in df['Train'].unique() if data in elem]\n",
    "    new_df = df.loc[(df['Test'] == data) & (df['Train'].isin(train))]\n",
    "    title = f'Boxplot from {data} test data with {data} train data - Classifier: Random Forest'\n",
    "    boxplot(new_df, title, y)"
   ]
  },
  {
   "cell_type": "code",
   "execution_count": null,
   "metadata": {},
   "outputs": [],
   "source": [
    "column = y[-1]\n",
    "data = 'UCI'\n",
    "\n",
    "x = 'Test'\n",
    "train = [elem for elem in df['Train'].unique() if data not in elem]\n",
    "new_df = df.loc[(df['Test'] == data) & (df['Train'].isin(train))]\n",
    "title = f'Boxplot from {data} test data with {data} train data - Classifier: Random Forest'\n",
    "boxplot(new_df, title, [column])\n",
    "\n",
    "Q1 = np.percentile(new_df[[column]], 25, interpolation = 'midpoint')\n",
    "Q3 = np.percentile(new_df[[column]], 75, interpolation = 'midpoint')\n",
    "\n",
    "new_df = new_df.loc[(new_df[column] >= Q3) | (new_df[column] <= Q1)]\n",
    "new_df.sort_values(by='f1-score - mean - without stair up/down')"
   ]
  },
  {
   "cell_type": "code",
   "execution_count": null,
   "metadata": {
    "scrolled": false
   },
   "outputs": [],
   "source": [
    "columns = df.columns\n",
    "df_filtered = pd.DataFrame(columns=columns)\n",
    "for data in datasets:\n",
    "    train = [comb for comb in df['Train'].unique() if data not in comb]\n",
    "    df_aux = df.loc[(df['Test'] == data) & (df['Train'].isin(train))]\n",
    "    df_filtered = pd.concat([df_filtered, df_aux])\n",
    "df_filtered"
   ]
  },
  {
   "cell_type": "code",
   "execution_count": null,
   "metadata": {
    "scrolled": false
   },
   "outputs": [],
   "source": [
    "x = 'Test'\n",
    "for data in datasets:\n",
    "\n",
    "    train = [elem for elem in df['Train'].unique() if data not in elem]\n",
    "    new_df = df.loc[(df['Test'] == data) & (df['Train'].isin(train))]\n",
    "    title = f'Boxplot from {data} test data without {data} train data - Classifier: Random Forest'\n",
    "    # title = f'Dataset: {data}'\n",
    "    boxplot(new_df, title, y)"
   ]
  },
  {
   "cell_type": "code",
   "execution_count": null,
   "metadata": {
    "scrolled": false
   },
   "outputs": [],
   "source": [
    "x = 'Test'\n",
    "for data in datasets:\n",
    "    train = [elem for elem in df_filtered['Train'].unique() if data in elem]\n",
    "    new_df = df_filtered.loc[(df_filtered['Train'].isin(train))]\n",
    "    title = f'Boxplot from {data} in train data'\n",
    "    boxplot(new_df, title, y)"
   ]
  },
  {
   "cell_type": "code",
   "execution_count": null,
   "metadata": {
    "scrolled": true
   },
   "outputs": [],
   "source": [
    "x = 'Test'\n",
    "\n",
    "for data_test in datasets:\n",
    "    for data in datasets:\n",
    "        if data != data_test:\n",
    "            train = [elem for elem in df_filtered['Train'].unique() if data in elem]\n",
    "            new_df = df_filtered.loc[(df_filtered['Train'].isin(train)) & (df_filtered['Test'] == data_test)]\n",
    "            title = f'Boxplot from {data} in train data and {data_test} in test data'\n",
    "            boxplot(new_df, title, y)"
   ]
  },
  {
   "cell_type": "code",
   "execution_count": null,
   "metadata": {
    "scrolled": true
   },
   "outputs": [],
   "source": [
    "data = 'UCI'\n",
    "data_test='MotionSense'\n",
    "train = [elem for elem in df_filtered['Train'].unique() if data in elem]\n",
    "new_df = df_filtered.loc[(df_filtered['Train'].isin(train)) & (df_filtered['Test'] == data_test)]\n",
    "new_df.sort_values(by='f1-score - mean - without stair up/down')"
   ]
  },
  {
   "cell_type": "code",
   "execution_count": null,
   "metadata": {
    "scrolled": true
   },
   "outputs": [],
   "source": [
    "# new_df.sort_values(by='f1-score - mean - without stair up/down')"
   ]
  },
  {
   "cell_type": "markdown",
   "metadata": {
    "jp-MarkdownHeadingCollapsed": true,
    "tags": []
   },
   "source": [
    "## Conclusions\n",
    "\n",
    "1. When the test data don't appear on train data the score down.\n",
    "2. Classes stair up/down sometimes have a terrible score (probably when WISDM appear on train data).\n",
    "3. The best score when data appear on train and test data was with MotionSense - 88.42\\%.\n",
    "4. The worst score when data appear on train and test data was with WISDM - 69.80\\%.\n",
    "5. The best score when data appear only on test data was with UCI-HAR and WISDM - 61\\%.\n",
    "6. The worst score when data appear only on test data was with KuHar and UCI-HAR - 28\\%.\n",
    "7. When it only test with MotionSense and the run score is zero? It probably occurs when we haven't the class run on train data (We just have on train UCI or UCI and ExtraSensory). "
   ]
  },
  {
   "cell_type": "markdown",
   "metadata": {
    "tags": []
   },
   "source": [
    "## Verifying the point 7 above"
   ]
  },
  {
   "cell_type": "code",
   "execution_count": null,
   "metadata": {
    "scrolled": false
   },
   "outputs": [],
   "source": [
    "new_df = df.loc[(df['f1-score - mean - run'] == 0) & (df['Classifier'] == 'RandomForest') & (df['Umap - 10'] != \"['-']\")]\n",
    "new_df.iloc[:,:15]"
   ]
  },
  {
   "cell_type": "code",
   "execution_count": null,
   "metadata": {
    "scrolled": false
   },
   "outputs": [],
   "source": [
    " new_df['Train'].unique()"
   ]
  },
  {
   "cell_type": "markdown",
   "metadata": {
    "tags": []
   },
   "source": [
    "## Questions\n",
    "\n",
    "- Make sense use f1-score or accuracy for crossDatasets? \n",
    "- Is f1-score mean is a good metric to evaluate the experiment? \n",
    "  - R: No, we need look to f1-score per class."
   ]
  },
  {
   "cell_type": "code",
   "execution_count": null,
   "metadata": {
    "scrolled": false
   },
   "outputs": [],
   "source": [
    "new_df = df.loc[(df['Test'] == 'UCI') & (df['Classifier'] == 'RandomForest') & (df['Train'].isin(train)) & (df['Umap - 10'] != \"['-']\") & (df['f1-score - mean - sit'] < 0.5)]\n",
    "new_df"
   ]
  },
  {
   "cell_type": "code",
   "execution_count": null,
   "metadata": {
    "scrolled": false
   },
   "outputs": [],
   "source": [
    "new_df['Train'].unique()"
   ]
  },
  {
   "cell_type": "code",
   "execution_count": null,
   "metadata": {
    "scrolled": false
   },
   "outputs": [],
   "source": [
    "df2 = df.loc[(df['Classifier'] == 'RandomForest') & (df['Umap - 10'] != \"['-']\") & (df['f1-score - mean - sit'] >= 0.5) & (df['f1-score - mean - stand'] >= 0.27) & (df['f1-score - mean - walk'] >= 0.52) & \n",
    "                (df['f1-score - mean - stair up'] >= 0.0) & (df['f1-score - mean - stair down'] >= 0.0) & (df['f1-score - mean - run'] >= 0.82)]\n",
    "df2['Train'].unique()"
   ]
  },
  {
   "cell_type": "code",
   "execution_count": null,
   "metadata": {
    "scrolled": false
   },
   "outputs": [],
   "source": [
    "x = 'Test'\n",
    "for data in datasets:\n",
    "\n",
    "    train = [elem for elem in df2['Train'].unique() if data not in elem]\n",
    "    new_df = df2.loc[(df2['Test'] == data) & (df2['Train'].isin(train))]\n",
    "    title = f'Boxplot from {data} test data and without {data} train data - Classifier: Random Forest'\n",
    "    # title = f'Dataset: {data}'\n",
    "    boxplot(new_df, title, y) if new_df.shape[0] != 0 else print('Empty')"
   ]
  },
  {
   "cell_type": "code",
   "execution_count": null,
   "metadata": {
    "scrolled": false
   },
   "outputs": [],
   "source": [
    "df3 = df.loc[(df['Classifier'] == 'RandomForest') & (df['Umap - 10'] != \"['-']\") & (df['f1-score - mean - sit'] >= 0.5) & (df['f1-score - mean - stand'] >= 0.27) & (df['f1-score - mean - walk'] >= 0.52) & \n",
    "                (df['f1-score - mean - stair up'] >= 0.0) & (df['f1-score - mean - stair down'] >= 0.0) & (df['f1-score - mean - run'] >= 0.82) & (df['Test'].isin(['KuHar', 'MotionSense']))]\n",
    "df3['Train'].unique()"
   ]
  },
  {
   "cell_type": "code",
   "execution_count": null,
   "metadata": {
    "scrolled": false
   },
   "outputs": [],
   "source": [
    "df3"
   ]
  },
  {
   "cell_type": "markdown",
   "metadata": {},
   "source": [
    "## New analyze\n",
    "\n",
    "Now, let's remove KuHar, ExtraSensory, and UCI from train data and analyze results withou test data on train data."
   ]
  },
  {
   "cell_type": "code",
   "execution_count": null,
   "metadata": {
    "scrolled": true
   },
   "outputs": [],
   "source": [
    "x = 'Test'\n",
    "for data in datasets:\n",
    "\n",
    "    train = [elem for elem in df['Train'].unique() if (data not in elem) and ('ExtraSensory' not in elem) and ('WISDM' not in elem)]\n",
    "    new_df = df.loc[(df['Test'] == data) & (df['Classifier'] == 'RandomForest') & (df['Train'].isin(train)) & (df['Umap - 10'] != \"['-']\")]\n",
    "    title = f'Boxplot from {data} test data and without {data}, ExtraSensory, WISDM and UCI on train data - Classifier: Random Forest'\n",
    "    # title = f'Dataset: {data}'\n",
    "    boxplot(new_df, title, y)"
   ]
  },
  {
   "cell_type": "code",
   "execution_count": null,
   "metadata": {},
   "outputs": [],
   "source": []
  }
 ],
 "metadata": {
  "kernelspec": {
   "display_name": "Python 3",
   "language": "python",
   "name": "python3"
  },
  "language_info": {
   "codemirror_mode": {
    "name": "ipython",
    "version": 3
   },
   "file_extension": ".py",
   "mimetype": "text/x-python",
   "name": "python",
   "nbconvert_exporter": "python",
   "pygments_lexer": "ipython3",
   "version": "3.8.10"
  },
  "vscode": {
   "interpreter": {
    "hash": "916dbcbb3f70747c44a77c7bcd40155683ae19c65e1c03b4aa3499c5328201f1"
   }
  }
 },
 "nbformat": 4,
 "nbformat_minor": 5
}
