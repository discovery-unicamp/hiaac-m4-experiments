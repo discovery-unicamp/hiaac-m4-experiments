{
 "cells": [
  {
   "cell_type": "code",
   "execution_count": 2,
   "metadata": {},
   "outputs": [],
   "source": [
    "import itertools\n",
    "from pathlib import Path\n",
    "from typing import List\n",
    "\n",
    "import numpy as np\n",
    "import pandas as pd\n",
    "import plotly.express as px\n",
    "\n",
    "from IPython.display import display, HTML\n",
    "import plotly.graph_objects as go\n",
    "from plotly.subplots import make_subplots"
   ]
  },
  {
   "cell_type": "code",
   "execution_count": 3,
   "metadata": {},
   "outputs": [],
   "source": [
    "pd.set_option('display.max_rows', 20)\n",
    "pd.set_option('display.max_columns', 50)\n",
    "pd.set_option('display.width', 1000)\n",
    "\n",
    "# Let's define some constants\n",
    "\n",
    "datasets = [\n",
    "    \"kuhar\",\n",
    "    \"motionsense\",\n",
    "    \"uci\",\n",
    "    \"wisdm\",\n",
    "    \"realworld\"\n",
    "]\n",
    "\n",
    "\n",
    "labels_activity = {\n",
    "    0: \"sit\",\n",
    "    1: \"stand\",\n",
    "    2: \"walk\",\n",
    "    3: \"stair up\",\n",
    "    4: \"stair down\",\n",
    "    5: \"run\",\n",
    "    6: \"stair up and down\",\n",
    "}\n",
    "\n",
    "colors_map = {\n",
    "    \"plotly-blue\": px.colors.qualitative.Plotly[0],\n",
    "    \"plotly-green\": px.colors.qualitative.Plotly[2],\n",
    "    \"plotly-purple\": px.colors.qualitative.Plotly[3],\n",
    "    \"plotly-orange\": px.colors.qualitative.Plotly[4],\n",
    "    \"plotly-cyan\": px.colors.qualitative.Plotly[5],\n",
    "    \"plotly-pink\": px.colors.qualitative.Plotly[6],\n",
    "    \"plotly-lightgreen\": px.colors.qualitative.Plotly[7],\n",
    "    \"plotly-lightpink\": px.colors.qualitative.Plotly[8],\n",
    "    \"plotly-yellow\": px.colors.qualitative.Plotly[9],\n",
    "    \"plotly-red\": px.colors.qualitative.Plotly[1],\n",
    "}\n",
    "\n",
    "colors = list(colors_map.values())\n",
    "markers = [\"circle\", \"square\", \"diamond\", \"x\", \"triangle-up\", \"triangle-down\", \"pentagon\"]"
   ]
  },
  {
   "cell_type": "code",
   "execution_count": 17,
   "metadata": {},
   "outputs": [],
   "source": [
    "# Let's define some filters related to each of the columns\n",
    "\n",
    "# --- Related to domain ---\n",
    "def filter_domain_fft_only(df):\n",
    "    return df[df[\"transforms\"] == \"fft\"]\n",
    "\n",
    "def filter_domain_time_only(df):\n",
    "    return df.loc[df[\"transforms\"] == \"time\"]\n",
    "\n",
    "\n",
    "# --- Related to features ---\n",
    "def filter_features_all(df):\n",
    "    return df[\n",
    "        df[\"in_use_features\"].str.contains(\"accel-x\")\n",
    "        & df[\"in_use_features\"].str.contains(\"accel-y\")\n",
    "        & df[\"in_use_features\"].str.contains(\"accel-z\")\n",
    "        & df[\"in_use_features\"].str.contains(\"gyro-x\")\n",
    "        & df[\"in_use_features\"].str.contains(\"gyro-y\")\n",
    "        & df[\"in_use_features\"].str.contains(\"gyro-z\")\n",
    "    ]\n",
    "\n",
    "def filter_features_accelerometer_only(df):\n",
    "    return df[\n",
    "        df[\"in_use_features\"].str.contains(\"accel-x\")\n",
    "        & df[\"in_use_features\"].str.contains(\"accel-y\")\n",
    "        & df[\"in_use_features\"].str.contains(\"accel-z\")\n",
    "        & ~df[\"in_use_features\"].str.contains(\"gyro-x\")\n",
    "        & ~df[\"in_use_features\"].str.contains(\"gyro-y\")\n",
    "        & ~df[\"in_use_features\"].str.contains(\"gyro-z\")\n",
    "    ]\n",
    "\n",
    "def filter_features_gyroscope_only(df):\n",
    "    return df[\n",
    "        ~df[\"in_use_features\"].str.contains(\"accel-x\")\n",
    "        & ~df[\"in_use_features\"].str.contains(\"accel-y\")\n",
    "        & ~df[\"in_use_features\"].str.contains(\"accel-z\")\n",
    "        & df[\"in_use_features\"].str.contains(\"gyro-x\")\n",
    "        & df[\"in_use_features\"].str.contains(\"gyro-y\")\n",
    "        & df[\"in_use_features\"].str.contains(\"gyro-z\")\n",
    "    ]\n",
    "\n",
    "# --- Related to how reducer is executed ---\n",
    "def filter_reducer_over_all(df):\n",
    "    return df[df[\"reduce_on\"] == \"all\"]\n",
    "\n",
    "def filter_reducer_over_sensor(df):\n",
    "    return df[df[\"reduce_on\"] == \"sensor\"]\n",
    "\n",
    "def filter_reducer_over_axis(df):\n",
    "    return df[df[\"reduce_on\"] == \"axis\"]\n",
    "\n",
    "# --- Related to the estimator ---\n",
    "def filter_estimator_rf(df):\n",
    "    return df[df[\"estimator\"].str.lower().str.contains(\"randomforest\")]\n",
    "\n",
    "def filter_estimator_svm(df):\n",
    "    return df[df[\"estimator\"].str.lower().str.contains(\"svm\")]\n",
    "\n",
    "def filter_estimator_knn(df):\n",
    "    return df[df[\"estimator\"].str.lower().str.contains(\"knn\")]\n",
    "\n",
    "# --- Related to the scaler ---\n",
    "def filter_scaler_none(df):\n",
    "    return df[df[\"scaler\"] == \"no scaler\"]\n",
    "\n",
    "def filter_scaler_minmax(df):\n",
    "    return df[df[\"scaler\"].str.lower().str.contains(\"minmaxscaler\")]\n",
    "\n",
    "def filter_scaler_std(df):\n",
    "   return df[df[\"scaler\"].str.lower().str.contains(\"standardscaler\")]\n",
    "\n",
    "# --- Related to the view ---\n",
    "def filter_view_standardized_inter_balanced(df):\n",
    "    return df[df[\"view\"] == \"standartized_intra_balanced\"] # typo in the data intra -> inter\n",
    "\n",
    "def filter_view_standardized_balanced(df):\n",
    "    return df[df[\"view\"] == \"standartized\"]\n",
    "\n",
    "def filter_view_raw(df):\n",
    "    return df[df[\"view\"] == \"raw_balanced\"]    \n",
    "\n",
    "# --- Some other useful filters ---\n",
    "def filter_only_reducer_dataset_equals_train_dataset(df):\n",
    "    return df[df[\"reducer_datasets\"] == df[\"train_datasets\"]]\n",
    "\n",
    "def filter_only_reducer_dataset_equals_train_dataset_or_no_reducer(df):\n",
    "    return df[(df[\"reducer_datasets\"] == df[\"train_datasets\"]) | (df[\"reducer_datasets\"] == \"\")]\n",
    "\n",
    "def filter_only_reducer_dataset_diferent_from_train(df):\n",
    "    return df[(df[\"reducer_datasets\"] != df[\"train_datasets\"]) & (df[\"reducer_datasets\"] != \"\")]\n",
    "\n",
    "def filter_same_train_test(df):\n",
    "    return df[df[\"train_datasets\"] == df[\"test_datasets\"]]\n",
    "\n",
    "def filter_different_train_test(df):\n",
    "    return df[df[\"train_datasets\"] != df[\"test_datasets\"]]"
   ]
  },
  {
   "cell_type": "code",
   "execution_count": 16,
   "metadata": {},
   "outputs": [],
   "source": [
    "# Preprocessing steps\n",
    "def rename_datasets(\n",
    "    df, columns: List[str] = (\"reducer_datasets\", \"train_datasets\", \"test_datasets\")\n",
    "):\n",
    "    def rename_row(row):\n",
    "        for col in columns:\n",
    "            names = set()\n",
    "            for name in row[col].split(\",\"):\n",
    "                name = name.strip()\n",
    "                names.add(name.split(\".\")[0])\n",
    "            row[col] = \", \".join(sorted(names))\n",
    "        return row\n",
    "\n",
    "    df = df.apply(rename_row, axis=1)\n",
    "    return df\n",
    "\n",
    "def add_view_name(df, new_column_name: str = \"view\"):\n",
    "    df[new_column_name] = df[\"config_id\"].apply(lambda x: \"_\".join(x.split(\"_\")[:-1]))\n",
    "    return df\n",
    "\n",
    "def match_configs(df, new_column_name: str = \"config_group\"):\n",
    "    group_no = 0\n",
    "    for k, subdf in df.groupby(\n",
    "        [\n",
    "            \"in_use_features\",\n",
    "            \"scale_on\",\n",
    "            \"reduce_on\",\n",
    "            \"transforms\",\n",
    "            \"scaler\",\n",
    "            \"reducer\",\n",
    "            \"umap components\",\n",
    "            \"reducer_datasets\",\n",
    "            \"train_datasets\",\n",
    "            \"test_datasets\",\n",
    "            \"estimator\",\n",
    "        ]\n",
    "    ):\n",
    "        if len(subdf) == 2:\n",
    "            df.loc[subdf.index, new_column_name] = group_no\n",
    "            group_no += 1\n",
    "    return df"
   ]
  },
  {
   "cell_type": "code",
   "execution_count": 6,
   "metadata": {},
   "outputs": [
    {
     "data": {
      "text/html": [
       "<div>\n",
       "<style scoped>\n",
       "    .dataframe tbody tr th:only-of-type {\n",
       "        vertical-align: middle;\n",
       "    }\n",
       "\n",
       "    .dataframe tbody tr th {\n",
       "        vertical-align: top;\n",
       "    }\n",
       "\n",
       "    .dataframe thead th {\n",
       "        text-align: right;\n",
       "    }\n",
       "</style>\n",
       "<table border=\"1\" class=\"dataframe\">\n",
       "  <thead>\n",
       "    <tr style=\"text-align: right;\">\n",
       "      <th></th>\n",
       "      <th>experiment_name</th>\n",
       "      <th>run_name</th>\n",
       "      <th>config_id</th>\n",
       "      <th>reduce_size</th>\n",
       "      <th>train_size</th>\n",
       "      <th>test_size</th>\n",
       "      <th>in_use_features</th>\n",
       "      <th>scale_on</th>\n",
       "      <th>reduce_on</th>\n",
       "      <th>transforms</th>\n",
       "      <th>scaler</th>\n",
       "      <th>reducer</th>\n",
       "      <th>umap components</th>\n",
       "      <th>reducer_datasets</th>\n",
       "      <th>train_datasets</th>\n",
       "      <th>test_datasets</th>\n",
       "      <th>estimator</th>\n",
       "      <th>accuracy (mean)</th>\n",
       "      <th>accuracy (std)</th>\n",
       "      <th>f1-score macro (mean)</th>\n",
       "      <th>f1-score macro (std)</th>\n",
       "      <th>f1-score weighted (mean)</th>\n",
       "      <th>f1-score weighted (std)</th>\n",
       "      <th>view</th>\n",
       "      <th>config_group</th>\n",
       "    </tr>\n",
       "  </thead>\n",
       "  <tbody>\n",
       "    <tr>\n",
       "      <th>0</th>\n",
       "      <td>reducer_comb_1</td>\n",
       "      <td>execution1</td>\n",
       "      <td>standartized_intra_balanced_03744</td>\n",
       "      <td>1794</td>\n",
       "      <td>1495</td>\n",
       "      <td>120</td>\n",
       "      <td>gyro-x, gyro-y, gyro-z</td>\n",
       "      <td>train</td>\n",
       "      <td>sensor</td>\n",
       "      <td></td>\n",
       "      <td></td>\n",
       "      <td>umap-4</td>\n",
       "      <td>4</td>\n",
       "      <td>kuhar</td>\n",
       "      <td>wisdm</td>\n",
       "      <td>wisdm</td>\n",
       "      <td>randomforest-100</td>\n",
       "      <td>0.590000</td>\n",
       "      <td>1.779513e-02</td>\n",
       "      <td>0.589906</td>\n",
       "      <td>1.835340e-02</td>\n",
       "      <td>0.589906</td>\n",
       "      <td>1.835340e-02</td>\n",
       "      <td>standartized_intra_balanced</td>\n",
       "      <td>NaN</td>\n",
       "    </tr>\n",
       "    <tr>\n",
       "      <th>1</th>\n",
       "      <td>reducer_comb_1</td>\n",
       "      <td>execution1</td>\n",
       "      <td>standartized_intra_balanced_03744</td>\n",
       "      <td>1794</td>\n",
       "      <td>1495</td>\n",
       "      <td>120</td>\n",
       "      <td>gyro-x, gyro-y, gyro-z</td>\n",
       "      <td>train</td>\n",
       "      <td>sensor</td>\n",
       "      <td></td>\n",
       "      <td></td>\n",
       "      <td>umap-4</td>\n",
       "      <td>4</td>\n",
       "      <td>kuhar</td>\n",
       "      <td>wisdm</td>\n",
       "      <td>wisdm</td>\n",
       "      <td>KNN-5</td>\n",
       "      <td>0.508333</td>\n",
       "      <td>1.110223e-16</td>\n",
       "      <td>0.490085</td>\n",
       "      <td>0.000000e+00</td>\n",
       "      <td>0.490085</td>\n",
       "      <td>0.000000e+00</td>\n",
       "      <td>standartized_intra_balanced</td>\n",
       "      <td>NaN</td>\n",
       "    </tr>\n",
       "    <tr>\n",
       "      <th>2</th>\n",
       "      <td>reducer_comb_1</td>\n",
       "      <td>execution1</td>\n",
       "      <td>standartized_intra_balanced_03744</td>\n",
       "      <td>1794</td>\n",
       "      <td>1495</td>\n",
       "      <td>120</td>\n",
       "      <td>gyro-x, gyro-y, gyro-z</td>\n",
       "      <td>train</td>\n",
       "      <td>sensor</td>\n",
       "      <td></td>\n",
       "      <td></td>\n",
       "      <td>umap-4</td>\n",
       "      <td>4</td>\n",
       "      <td>kuhar</td>\n",
       "      <td>wisdm</td>\n",
       "      <td>wisdm</td>\n",
       "      <td>SVM-rbf-C1.0</td>\n",
       "      <td>0.475000</td>\n",
       "      <td>5.551115e-17</td>\n",
       "      <td>0.443587</td>\n",
       "      <td>0.000000e+00</td>\n",
       "      <td>0.443587</td>\n",
       "      <td>0.000000e+00</td>\n",
       "      <td>standartized_intra_balanced</td>\n",
       "      <td>NaN</td>\n",
       "    </tr>\n",
       "    <tr>\n",
       "      <th>3</th>\n",
       "      <td>reducer_comb_1</td>\n",
       "      <td>execution1</td>\n",
       "      <td>raw_balanced_00357</td>\n",
       "      <td>36258</td>\n",
       "      <td>36258</td>\n",
       "      <td>8694</td>\n",
       "      <td>gyro-x, gyro-y, gyro-z</td>\n",
       "      <td>train</td>\n",
       "      <td>axis</td>\n",
       "      <td></td>\n",
       "      <td>StandardScaler</td>\n",
       "      <td>umap-3</td>\n",
       "      <td>3</td>\n",
       "      <td>realworld</td>\n",
       "      <td>realworld</td>\n",
       "      <td>realworld</td>\n",
       "      <td>randomforest-100</td>\n",
       "      <td>0.524718</td>\n",
       "      <td>7.052341e-03</td>\n",
       "      <td>0.527988</td>\n",
       "      <td>6.879822e-03</td>\n",
       "      <td>0.527988</td>\n",
       "      <td>6.879822e-03</td>\n",
       "      <td>raw_balanced</td>\n",
       "      <td>NaN</td>\n",
       "    </tr>\n",
       "    <tr>\n",
       "      <th>4</th>\n",
       "      <td>reducer_comb_1</td>\n",
       "      <td>execution1</td>\n",
       "      <td>raw_balanced_00357</td>\n",
       "      <td>36258</td>\n",
       "      <td>36258</td>\n",
       "      <td>8694</td>\n",
       "      <td>gyro-x, gyro-y, gyro-z</td>\n",
       "      <td>train</td>\n",
       "      <td>axis</td>\n",
       "      <td></td>\n",
       "      <td>StandardScaler</td>\n",
       "      <td>umap-3</td>\n",
       "      <td>3</td>\n",
       "      <td>realworld</td>\n",
       "      <td>realworld</td>\n",
       "      <td>realworld</td>\n",
       "      <td>KNN-5</td>\n",
       "      <td>0.486657</td>\n",
       "      <td>5.551115e-17</td>\n",
       "      <td>0.486548</td>\n",
       "      <td>0.000000e+00</td>\n",
       "      <td>0.486548</td>\n",
       "      <td>0.000000e+00</td>\n",
       "      <td>raw_balanced</td>\n",
       "      <td>NaN</td>\n",
       "    </tr>\n",
       "    <tr>\n",
       "      <th>...</th>\n",
       "      <td>...</td>\n",
       "      <td>...</td>\n",
       "      <td>...</td>\n",
       "      <td>...</td>\n",
       "      <td>...</td>\n",
       "      <td>...</td>\n",
       "      <td>...</td>\n",
       "      <td>...</td>\n",
       "      <td>...</td>\n",
       "      <td>...</td>\n",
       "      <td>...</td>\n",
       "      <td>...</td>\n",
       "      <td>...</td>\n",
       "      <td>...</td>\n",
       "      <td>...</td>\n",
       "      <td>...</td>\n",
       "      <td>...</td>\n",
       "      <td>...</td>\n",
       "      <td>...</td>\n",
       "      <td>...</td>\n",
       "      <td>...</td>\n",
       "      <td>...</td>\n",
       "      <td>...</td>\n",
       "      <td>...</td>\n",
       "      <td>...</td>\n",
       "    </tr>\n",
       "    <tr>\n",
       "      <th>255019</th>\n",
       "      <td>reducer_comb_1_not_intra</td>\n",
       "      <td>execution1</td>\n",
       "      <td>standartized_balanced06046</td>\n",
       "      <td>3978</td>\n",
       "      <td>3978</td>\n",
       "      <td>1062</td>\n",
       "      <td>accel-x, accel-y, accel-z</td>\n",
       "      <td>train</td>\n",
       "      <td>all</td>\n",
       "      <td></td>\n",
       "      <td>MinMaxScaler</td>\n",
       "      <td>umap-60</td>\n",
       "      <td>60</td>\n",
       "      <td>motionsense</td>\n",
       "      <td>motionsense</td>\n",
       "      <td>motionsense</td>\n",
       "      <td>KNN-5</td>\n",
       "      <td>0.678908</td>\n",
       "      <td>1.110223e-16</td>\n",
       "      <td>0.667955</td>\n",
       "      <td>0.000000e+00</td>\n",
       "      <td>0.667955</td>\n",
       "      <td>0.000000e+00</td>\n",
       "      <td>standartized</td>\n",
       "      <td>NaN</td>\n",
       "    </tr>\n",
       "    <tr>\n",
       "      <th>255020</th>\n",
       "      <td>reducer_comb_1_not_intra</td>\n",
       "      <td>execution1</td>\n",
       "      <td>standartized_balanced06046</td>\n",
       "      <td>3978</td>\n",
       "      <td>3978</td>\n",
       "      <td>1062</td>\n",
       "      <td>accel-x, accel-y, accel-z</td>\n",
       "      <td>train</td>\n",
       "      <td>all</td>\n",
       "      <td></td>\n",
       "      <td>MinMaxScaler</td>\n",
       "      <td>umap-60</td>\n",
       "      <td>60</td>\n",
       "      <td>motionsense</td>\n",
       "      <td>motionsense</td>\n",
       "      <td>motionsense</td>\n",
       "      <td>SVM-rbf-C1.0</td>\n",
       "      <td>0.670433</td>\n",
       "      <td>0.000000e+00</td>\n",
       "      <td>0.660633</td>\n",
       "      <td>1.110223e-16</td>\n",
       "      <td>0.660633</td>\n",
       "      <td>1.110223e-16</td>\n",
       "      <td>standartized</td>\n",
       "      <td>NaN</td>\n",
       "    </tr>\n",
       "    <tr>\n",
       "      <th>255021</th>\n",
       "      <td>reducer_comb_1_not_intra</td>\n",
       "      <td>execution1</td>\n",
       "      <td>standartized_balanced00441</td>\n",
       "      <td>3978</td>\n",
       "      <td>3978</td>\n",
       "      <td>1062</td>\n",
       "      <td>gyro-x, gyro-y, gyro-z</td>\n",
       "      <td>train</td>\n",
       "      <td>sensor</td>\n",
       "      <td>FFT-centered</td>\n",
       "      <td></td>\n",
       "      <td>umap-3</td>\n",
       "      <td>3</td>\n",
       "      <td>motionsense</td>\n",
       "      <td>motionsense</td>\n",
       "      <td>motionsense</td>\n",
       "      <td>randomforest-100</td>\n",
       "      <td>0.846610</td>\n",
       "      <td>2.246113e-03</td>\n",
       "      <td>0.846194</td>\n",
       "      <td>2.225924e-03</td>\n",
       "      <td>0.846194</td>\n",
       "      <td>2.225924e-03</td>\n",
       "      <td>standartized</td>\n",
       "      <td>NaN</td>\n",
       "    </tr>\n",
       "    <tr>\n",
       "      <th>255022</th>\n",
       "      <td>reducer_comb_1_not_intra</td>\n",
       "      <td>execution1</td>\n",
       "      <td>standartized_balanced00441</td>\n",
       "      <td>3978</td>\n",
       "      <td>3978</td>\n",
       "      <td>1062</td>\n",
       "      <td>gyro-x, gyro-y, gyro-z</td>\n",
       "      <td>train</td>\n",
       "      <td>sensor</td>\n",
       "      <td>FFT-centered</td>\n",
       "      <td></td>\n",
       "      <td>umap-3</td>\n",
       "      <td>3</td>\n",
       "      <td>motionsense</td>\n",
       "      <td>motionsense</td>\n",
       "      <td>motionsense</td>\n",
       "      <td>KNN-5</td>\n",
       "      <td>0.837100</td>\n",
       "      <td>0.000000e+00</td>\n",
       "      <td>0.836378</td>\n",
       "      <td>1.110223e-16</td>\n",
       "      <td>0.836378</td>\n",
       "      <td>0.000000e+00</td>\n",
       "      <td>standartized</td>\n",
       "      <td>NaN</td>\n",
       "    </tr>\n",
       "    <tr>\n",
       "      <th>255023</th>\n",
       "      <td>reducer_comb_1_not_intra</td>\n",
       "      <td>execution1</td>\n",
       "      <td>standartized_balanced00441</td>\n",
       "      <td>3978</td>\n",
       "      <td>3978</td>\n",
       "      <td>1062</td>\n",
       "      <td>gyro-x, gyro-y, gyro-z</td>\n",
       "      <td>train</td>\n",
       "      <td>sensor</td>\n",
       "      <td>FFT-centered</td>\n",
       "      <td></td>\n",
       "      <td>umap-3</td>\n",
       "      <td>3</td>\n",
       "      <td>motionsense</td>\n",
       "      <td>motionsense</td>\n",
       "      <td>motionsense</td>\n",
       "      <td>SVM-rbf-C1.0</td>\n",
       "      <td>0.834275</td>\n",
       "      <td>0.000000e+00</td>\n",
       "      <td>0.832804</td>\n",
       "      <td>0.000000e+00</td>\n",
       "      <td>0.832804</td>\n",
       "      <td>0.000000e+00</td>\n",
       "      <td>standartized</td>\n",
       "      <td>NaN</td>\n",
       "    </tr>\n",
       "  </tbody>\n",
       "</table>\n",
       "<p>255024 rows × 25 columns</p>\n",
       "</div>"
      ],
      "text/plain": [
       "                 experiment_name    run_name                          config_id  reduce_size  train_size  test_size            in_use_features scale_on reduce_on    transforms          scaler  reducer  umap components reducer_datasets train_datasets test_datasets         estimator  accuracy (mean)  accuracy (std)  f1-score macro (mean)  f1-score macro (std)  f1-score weighted (mean)  f1-score weighted (std)                         view  config_group\n",
       "0                 reducer_comb_1  execution1  standartized_intra_balanced_03744         1794        1495        120     gyro-x, gyro-y, gyro-z    train    sensor                                 umap-4                4            kuhar          wisdm         wisdm  randomforest-100         0.590000    1.779513e-02               0.589906          1.835340e-02                  0.589906             1.835340e-02  standartized_intra_balanced           NaN\n",
       "1                 reducer_comb_1  execution1  standartized_intra_balanced_03744         1794        1495        120     gyro-x, gyro-y, gyro-z    train    sensor                                 umap-4                4            kuhar          wisdm         wisdm             KNN-5         0.508333    1.110223e-16               0.490085          0.000000e+00                  0.490085             0.000000e+00  standartized_intra_balanced           NaN\n",
       "2                 reducer_comb_1  execution1  standartized_intra_balanced_03744         1794        1495        120     gyro-x, gyro-y, gyro-z    train    sensor                                 umap-4                4            kuhar          wisdm         wisdm      SVM-rbf-C1.0         0.475000    5.551115e-17               0.443587          0.000000e+00                  0.443587             0.000000e+00  standartized_intra_balanced           NaN\n",
       "3                 reducer_comb_1  execution1                 raw_balanced_00357        36258       36258       8694     gyro-x, gyro-y, gyro-z    train      axis                StandardScaler   umap-3                3        realworld      realworld     realworld  randomforest-100         0.524718    7.052341e-03               0.527988          6.879822e-03                  0.527988             6.879822e-03                 raw_balanced           NaN\n",
       "4                 reducer_comb_1  execution1                 raw_balanced_00357        36258       36258       8694     gyro-x, gyro-y, gyro-z    train      axis                StandardScaler   umap-3                3        realworld      realworld     realworld             KNN-5         0.486657    5.551115e-17               0.486548          0.000000e+00                  0.486548             0.000000e+00                 raw_balanced           NaN\n",
       "...                          ...         ...                                ...          ...         ...        ...                        ...      ...       ...           ...             ...      ...              ...              ...            ...           ...               ...              ...             ...                    ...                   ...                       ...                      ...                          ...           ...\n",
       "255019  reducer_comb_1_not_intra  execution1         standartized_balanced06046         3978        3978       1062  accel-x, accel-y, accel-z    train       all                  MinMaxScaler  umap-60               60      motionsense    motionsense   motionsense             KNN-5         0.678908    1.110223e-16               0.667955          0.000000e+00                  0.667955             0.000000e+00                 standartized           NaN\n",
       "255020  reducer_comb_1_not_intra  execution1         standartized_balanced06046         3978        3978       1062  accel-x, accel-y, accel-z    train       all                  MinMaxScaler  umap-60               60      motionsense    motionsense   motionsense      SVM-rbf-C1.0         0.670433    0.000000e+00               0.660633          1.110223e-16                  0.660633             1.110223e-16                 standartized           NaN\n",
       "255021  reducer_comb_1_not_intra  execution1         standartized_balanced00441         3978        3978       1062     gyro-x, gyro-y, gyro-z    train    sensor  FFT-centered                   umap-3                3      motionsense    motionsense   motionsense  randomforest-100         0.846610    2.246113e-03               0.846194          2.225924e-03                  0.846194             2.225924e-03                 standartized           NaN\n",
       "255022  reducer_comb_1_not_intra  execution1         standartized_balanced00441         3978        3978       1062     gyro-x, gyro-y, gyro-z    train    sensor  FFT-centered                   umap-3                3      motionsense    motionsense   motionsense             KNN-5         0.837100    0.000000e+00               0.836378          1.110223e-16                  0.836378             0.000000e+00                 standartized           NaN\n",
       "255023  reducer_comb_1_not_intra  execution1         standartized_balanced00441         3978        3978       1062     gyro-x, gyro-y, gyro-z    train    sensor  FFT-centered                   umap-3                3      motionsense    motionsense   motionsense      SVM-rbf-C1.0         0.834275    0.000000e+00               0.832804          0.000000e+00                  0.832804             0.000000e+00                 standartized           NaN\n",
       "\n",
       "[255024 rows x 25 columns]"
      ]
     },
     "execution_count": 6,
     "metadata": {},
     "output_type": "execute_result"
    }
   ],
   "source": [
    "results_file = Path(\"results2.csv\")\n",
    "results = pd.read_csv(results_file).fillna(\"\")\n",
    "# Lets transform and add some useful information\n",
    "results = rename_datasets(results)\n",
    "results = add_view_name(results)\n",
    "results = match_configs(results)\n",
    "results"
   ]
  },
  {
   "cell_type": "code",
   "execution_count": 19,
   "metadata": {},
   "outputs": [
    {
     "data": {
      "text/plain": [
       "[2,\n",
       " 3,\n",
       " 4,\n",
       " 5,\n",
       " 6,\n",
       " 7,\n",
       " 8,\n",
       " 9,\n",
       " 10,\n",
       " 15,\n",
       " 18,\n",
       " 20,\n",
       " 21,\n",
       " 24,\n",
       " 27,\n",
       " 30,\n",
       " 33,\n",
       " 36,\n",
       " 42,\n",
       " 48,\n",
       " 54,\n",
       " 60,\n",
       " 900,\n",
       " 1800]"
      ]
     },
     "execution_count": 19,
     "metadata": {},
     "output_type": "execute_result"
    }
   ],
   "source": [
    "df = results.copy()\n",
    "df = filter_view_standardized_inter_balanced(df)\n",
    "sorted(df[\"umap components\"].unique())"
   ]
  },
  {
   "cell_type": "code",
   "execution_count": 6,
   "metadata": {},
   "outputs": [
    {
     "data": {
      "text/plain": [
       "(['experiment_name',\n",
       "  'run_name',\n",
       "  'config_id',\n",
       "  'reduce_size',\n",
       "  'train_size',\n",
       "  'test_size',\n",
       "  'in_use_features',\n",
       "  'scale_on',\n",
       "  'reduce_on',\n",
       "  'transforms',\n",
       "  'scaler',\n",
       "  'reducer',\n",
       "  'umap components',\n",
       "  'reducer_datasets',\n",
       "  'train_datasets',\n",
       "  'test_datasets',\n",
       "  'estimator',\n",
       "  'accuracy (mean)',\n",
       "  'accuracy (std)',\n",
       "  'f1-score macro (mean)',\n",
       "  'f1-score macro (std)',\n",
       "  'f1-score weighted (mean)',\n",
       "  'f1-score weighted (std)',\n",
       "  'view',\n",
       "  'config_group'],\n",
       " (225054, 25))"
      ]
     },
     "execution_count": 6,
     "metadata": {},
     "output_type": "execute_result"
    }
   ],
   "source": [
    "results = results[\n",
    "    ~(results[\"reducer_datasets\"] == \"\")\n",
    "    | (results[\"umap components\"] == 0)\n",
    "]\n",
    "list(results.columns), results.shape"
   ]
  },
  {
   "cell_type": "code",
   "execution_count": 7,
   "metadata": {},
   "outputs": [
    {
     "data": {
      "text/plain": [
       "(['in_use_features',\n",
       "  'reduce_on',\n",
       "  'transforms',\n",
       "  'scaler',\n",
       "  'umap components',\n",
       "  'reducer_datasets',\n",
       "  'train_datasets',\n",
       "  'test_datasets',\n",
       "  'estimator',\n",
       "  'accuracy (mean)',\n",
       "  'accuracy (std)',\n",
       "  'f1-score macro (mean)',\n",
       "  'f1-score macro (std)',\n",
       "  'f1-score weighted (mean)',\n",
       "  'f1-score weighted (std)',\n",
       "  'view',\n",
       "  'config_group'],\n",
       " (225054, 17))"
      ]
     },
     "execution_count": 7,
     "metadata": {},
     "output_type": "execute_result"
    }
   ],
   "source": [
    "# Lets filter out some reduntant lines\n",
    "results = results[\n",
    "    ~(results[\"reducer_datasets\"] == \"\")\n",
    "    | (results[\"umap components\"] == 0)\n",
    "]\n",
    "\n",
    "# As we only use umap, we can drop the reducer column\n",
    "results = results.drop(columns=[\"reducer\"])\n",
    "\n",
    "# As we only use TIME and FFT domains, lets rename the values \"\" of column transforms to \"TIME\"\n",
    "# and \"FFT\" to \"FFT\"\n",
    "results.loc[results[\"transforms\"] == \"\", \"transforms\"] = \"time\" \n",
    "results.loc[results[\"transforms\"] == \"FFT-centered\", \"transforms\"] = \"fft\"\n",
    "\n",
    "# If no scaler is used, lets change the value from \"\" to \"no scaler\"\n",
    "results.loc[results[\"scaler\"] == \"\", \"scaler\"] = \"no scaler\"\n",
    "\n",
    "# As scaler is only used for the train dataset, we can drop the column scale_on\n",
    "results = results.drop(columns=[\"scale_on\"])\n",
    "\n",
    "# Lets drop some meta-columns that we will not use\n",
    "results = results.drop(columns=[\"experiment_name\", \"run_name\", \"config_id\", \"reduce_size\", \"train_size\", \"test_size\"])\n",
    "list(results.columns), results.shape"
   ]
  },
  {
   "cell_type": "code",
   "execution_count": 9,
   "metadata": {},
   "outputs": [
    {
     "data": {
      "text/html": [
       "<div>\n",
       "<style scoped>\n",
       "    .dataframe tbody tr th:only-of-type {\n",
       "        vertical-align: middle;\n",
       "    }\n",
       "\n",
       "    .dataframe tbody tr th {\n",
       "        vertical-align: top;\n",
       "    }\n",
       "\n",
       "    .dataframe thead th {\n",
       "        text-align: right;\n",
       "    }\n",
       "</style>\n",
       "<table border=\"1\" class=\"dataframe\">\n",
       "  <thead>\n",
       "    <tr style=\"text-align: right;\">\n",
       "      <th></th>\n",
       "      <th>in_use_features</th>\n",
       "      <th>reduce_on</th>\n",
       "      <th>transforms</th>\n",
       "      <th>scaler</th>\n",
       "      <th>umap components</th>\n",
       "      <th>reducer_datasets</th>\n",
       "      <th>train_datasets</th>\n",
       "      <th>test_datasets</th>\n",
       "      <th>estimator</th>\n",
       "      <th>accuracy (mean)</th>\n",
       "      <th>accuracy (std)</th>\n",
       "      <th>f1-score macro (mean)</th>\n",
       "      <th>f1-score macro (std)</th>\n",
       "      <th>f1-score weighted (mean)</th>\n",
       "      <th>f1-score weighted (std)</th>\n",
       "      <th>view</th>\n",
       "      <th>config_group</th>\n",
       "    </tr>\n",
       "  </thead>\n",
       "  <tbody>\n",
       "    <tr>\n",
       "      <th>0</th>\n",
       "      <td>gyro-x, gyro-y, gyro-z</td>\n",
       "      <td>sensor</td>\n",
       "      <td>time</td>\n",
       "      <td>no scaler</td>\n",
       "      <td>4</td>\n",
       "      <td>kuhar</td>\n",
       "      <td>wisdm</td>\n",
       "      <td>wisdm</td>\n",
       "      <td>randomforest-100</td>\n",
       "      <td>0.590000</td>\n",
       "      <td>1.779513e-02</td>\n",
       "      <td>0.589906</td>\n",
       "      <td>1.835340e-02</td>\n",
       "      <td>0.589906</td>\n",
       "      <td>1.835340e-02</td>\n",
       "      <td>standartized_intra_balanced</td>\n",
       "      <td>NaN</td>\n",
       "    </tr>\n",
       "    <tr>\n",
       "      <th>1</th>\n",
       "      <td>gyro-x, gyro-y, gyro-z</td>\n",
       "      <td>sensor</td>\n",
       "      <td>time</td>\n",
       "      <td>no scaler</td>\n",
       "      <td>4</td>\n",
       "      <td>kuhar</td>\n",
       "      <td>wisdm</td>\n",
       "      <td>wisdm</td>\n",
       "      <td>KNN-5</td>\n",
       "      <td>0.508333</td>\n",
       "      <td>1.110223e-16</td>\n",
       "      <td>0.490085</td>\n",
       "      <td>0.000000e+00</td>\n",
       "      <td>0.490085</td>\n",
       "      <td>0.000000e+00</td>\n",
       "      <td>standartized_intra_balanced</td>\n",
       "      <td>NaN</td>\n",
       "    </tr>\n",
       "    <tr>\n",
       "      <th>2</th>\n",
       "      <td>gyro-x, gyro-y, gyro-z</td>\n",
       "      <td>sensor</td>\n",
       "      <td>time</td>\n",
       "      <td>no scaler</td>\n",
       "      <td>4</td>\n",
       "      <td>kuhar</td>\n",
       "      <td>wisdm</td>\n",
       "      <td>wisdm</td>\n",
       "      <td>SVM-rbf-C1.0</td>\n",
       "      <td>0.475000</td>\n",
       "      <td>5.551115e-17</td>\n",
       "      <td>0.443587</td>\n",
       "      <td>0.000000e+00</td>\n",
       "      <td>0.443587</td>\n",
       "      <td>0.000000e+00</td>\n",
       "      <td>standartized_intra_balanced</td>\n",
       "      <td>NaN</td>\n",
       "    </tr>\n",
       "    <tr>\n",
       "      <th>6</th>\n",
       "      <td>accel-x, accel-y, accel-z</td>\n",
       "      <td>axis</td>\n",
       "      <td>fft</td>\n",
       "      <td>no scaler</td>\n",
       "      <td>20</td>\n",
       "      <td>motionsense</td>\n",
       "      <td>motionsense</td>\n",
       "      <td>motionsense</td>\n",
       "      <td>randomforest-100</td>\n",
       "      <td>0.873540</td>\n",
       "      <td>4.690173e-03</td>\n",
       "      <td>0.873424</td>\n",
       "      <td>4.649545e-03</td>\n",
       "      <td>0.873424</td>\n",
       "      <td>4.649545e-03</td>\n",
       "      <td>raw_balanced</td>\n",
       "      <td>NaN</td>\n",
       "    </tr>\n",
       "    <tr>\n",
       "      <th>7</th>\n",
       "      <td>accel-x, accel-y, accel-z</td>\n",
       "      <td>axis</td>\n",
       "      <td>fft</td>\n",
       "      <td>no scaler</td>\n",
       "      <td>20</td>\n",
       "      <td>motionsense</td>\n",
       "      <td>motionsense</td>\n",
       "      <td>motionsense</td>\n",
       "      <td>KNN-5</td>\n",
       "      <td>0.843691</td>\n",
       "      <td>1.110223e-16</td>\n",
       "      <td>0.844248</td>\n",
       "      <td>0.000000e+00</td>\n",
       "      <td>0.844248</td>\n",
       "      <td>1.110223e-16</td>\n",
       "      <td>raw_balanced</td>\n",
       "      <td>NaN</td>\n",
       "    </tr>\n",
       "    <tr>\n",
       "      <th>...</th>\n",
       "      <td>...</td>\n",
       "      <td>...</td>\n",
       "      <td>...</td>\n",
       "      <td>...</td>\n",
       "      <td>...</td>\n",
       "      <td>...</td>\n",
       "      <td>...</td>\n",
       "      <td>...</td>\n",
       "      <td>...</td>\n",
       "      <td>...</td>\n",
       "      <td>...</td>\n",
       "      <td>...</td>\n",
       "      <td>...</td>\n",
       "      <td>...</td>\n",
       "      <td>...</td>\n",
       "      <td>...</td>\n",
       "      <td>...</td>\n",
       "    </tr>\n",
       "    <tr>\n",
       "      <th>255019</th>\n",
       "      <td>accel-x, accel-y, accel-z</td>\n",
       "      <td>all</td>\n",
       "      <td>time</td>\n",
       "      <td>MinMaxScaler</td>\n",
       "      <td>60</td>\n",
       "      <td>motionsense</td>\n",
       "      <td>motionsense</td>\n",
       "      <td>motionsense</td>\n",
       "      <td>KNN-5</td>\n",
       "      <td>0.678908</td>\n",
       "      <td>1.110223e-16</td>\n",
       "      <td>0.667955</td>\n",
       "      <td>0.000000e+00</td>\n",
       "      <td>0.667955</td>\n",
       "      <td>0.000000e+00</td>\n",
       "      <td>standartized</td>\n",
       "      <td>NaN</td>\n",
       "    </tr>\n",
       "    <tr>\n",
       "      <th>255020</th>\n",
       "      <td>accel-x, accel-y, accel-z</td>\n",
       "      <td>all</td>\n",
       "      <td>time</td>\n",
       "      <td>MinMaxScaler</td>\n",
       "      <td>60</td>\n",
       "      <td>motionsense</td>\n",
       "      <td>motionsense</td>\n",
       "      <td>motionsense</td>\n",
       "      <td>SVM-rbf-C1.0</td>\n",
       "      <td>0.670433</td>\n",
       "      <td>0.000000e+00</td>\n",
       "      <td>0.660633</td>\n",
       "      <td>1.110223e-16</td>\n",
       "      <td>0.660633</td>\n",
       "      <td>1.110223e-16</td>\n",
       "      <td>standartized</td>\n",
       "      <td>NaN</td>\n",
       "    </tr>\n",
       "    <tr>\n",
       "      <th>255021</th>\n",
       "      <td>gyro-x, gyro-y, gyro-z</td>\n",
       "      <td>sensor</td>\n",
       "      <td>fft</td>\n",
       "      <td>no scaler</td>\n",
       "      <td>3</td>\n",
       "      <td>motionsense</td>\n",
       "      <td>motionsense</td>\n",
       "      <td>motionsense</td>\n",
       "      <td>randomforest-100</td>\n",
       "      <td>0.846610</td>\n",
       "      <td>2.246113e-03</td>\n",
       "      <td>0.846194</td>\n",
       "      <td>2.225924e-03</td>\n",
       "      <td>0.846194</td>\n",
       "      <td>2.225924e-03</td>\n",
       "      <td>standartized</td>\n",
       "      <td>NaN</td>\n",
       "    </tr>\n",
       "    <tr>\n",
       "      <th>255022</th>\n",
       "      <td>gyro-x, gyro-y, gyro-z</td>\n",
       "      <td>sensor</td>\n",
       "      <td>fft</td>\n",
       "      <td>no scaler</td>\n",
       "      <td>3</td>\n",
       "      <td>motionsense</td>\n",
       "      <td>motionsense</td>\n",
       "      <td>motionsense</td>\n",
       "      <td>KNN-5</td>\n",
       "      <td>0.837100</td>\n",
       "      <td>0.000000e+00</td>\n",
       "      <td>0.836378</td>\n",
       "      <td>1.110223e-16</td>\n",
       "      <td>0.836378</td>\n",
       "      <td>0.000000e+00</td>\n",
       "      <td>standartized</td>\n",
       "      <td>NaN</td>\n",
       "    </tr>\n",
       "    <tr>\n",
       "      <th>255023</th>\n",
       "      <td>gyro-x, gyro-y, gyro-z</td>\n",
       "      <td>sensor</td>\n",
       "      <td>fft</td>\n",
       "      <td>no scaler</td>\n",
       "      <td>3</td>\n",
       "      <td>motionsense</td>\n",
       "      <td>motionsense</td>\n",
       "      <td>motionsense</td>\n",
       "      <td>SVM-rbf-C1.0</td>\n",
       "      <td>0.834275</td>\n",
       "      <td>0.000000e+00</td>\n",
       "      <td>0.832804</td>\n",
       "      <td>0.000000e+00</td>\n",
       "      <td>0.832804</td>\n",
       "      <td>0.000000e+00</td>\n",
       "      <td>standartized</td>\n",
       "      <td>NaN</td>\n",
       "    </tr>\n",
       "  </tbody>\n",
       "</table>\n",
       "<p>136251 rows × 17 columns</p>\n",
       "</div>"
      ],
      "text/plain": [
       "                  in_use_features reduce_on transforms        scaler  umap components reducer_datasets train_datasets test_datasets         estimator  accuracy (mean)  accuracy (std)  f1-score macro (mean)  f1-score macro (std)  f1-score weighted (mean)  f1-score weighted (std)                         view  config_group\n",
       "0          gyro-x, gyro-y, gyro-z    sensor       time     no scaler                4            kuhar          wisdm         wisdm  randomforest-100         0.590000    1.779513e-02               0.589906          1.835340e-02                  0.589906             1.835340e-02  standartized_intra_balanced           NaN\n",
       "1          gyro-x, gyro-y, gyro-z    sensor       time     no scaler                4            kuhar          wisdm         wisdm             KNN-5         0.508333    1.110223e-16               0.490085          0.000000e+00                  0.490085             0.000000e+00  standartized_intra_balanced           NaN\n",
       "2          gyro-x, gyro-y, gyro-z    sensor       time     no scaler                4            kuhar          wisdm         wisdm      SVM-rbf-C1.0         0.475000    5.551115e-17               0.443587          0.000000e+00                  0.443587             0.000000e+00  standartized_intra_balanced           NaN\n",
       "6       accel-x, accel-y, accel-z      axis        fft     no scaler               20      motionsense    motionsense   motionsense  randomforest-100         0.873540    4.690173e-03               0.873424          4.649545e-03                  0.873424             4.649545e-03                 raw_balanced           NaN\n",
       "7       accel-x, accel-y, accel-z      axis        fft     no scaler               20      motionsense    motionsense   motionsense             KNN-5         0.843691    1.110223e-16               0.844248          0.000000e+00                  0.844248             1.110223e-16                 raw_balanced           NaN\n",
       "...                           ...       ...        ...           ...              ...              ...            ...           ...               ...              ...             ...                    ...                   ...                       ...                      ...                          ...           ...\n",
       "255019  accel-x, accel-y, accel-z       all       time  MinMaxScaler               60      motionsense    motionsense   motionsense             KNN-5         0.678908    1.110223e-16               0.667955          0.000000e+00                  0.667955             0.000000e+00                 standartized           NaN\n",
       "255020  accel-x, accel-y, accel-z       all       time  MinMaxScaler               60      motionsense    motionsense   motionsense      SVM-rbf-C1.0         0.670433    0.000000e+00               0.660633          1.110223e-16                  0.660633             1.110223e-16                 standartized           NaN\n",
       "255021     gyro-x, gyro-y, gyro-z    sensor        fft     no scaler                3      motionsense    motionsense   motionsense  randomforest-100         0.846610    2.246113e-03               0.846194          2.225924e-03                  0.846194             2.225924e-03                 standartized           NaN\n",
       "255022     gyro-x, gyro-y, gyro-z    sensor        fft     no scaler                3      motionsense    motionsense   motionsense             KNN-5         0.837100    0.000000e+00               0.836378          1.110223e-16                  0.836378             0.000000e+00                 standartized           NaN\n",
       "255023     gyro-x, gyro-y, gyro-z    sensor        fft     no scaler                3      motionsense    motionsense   motionsense      SVM-rbf-C1.0         0.834275    0.000000e+00               0.832804          0.000000e+00                  0.832804             0.000000e+00                 standartized           NaN\n",
       "\n",
       "[136251 rows x 17 columns]"
      ]
     },
     "execution_count": 9,
     "metadata": {},
     "output_type": "execute_result"
    }
   ],
   "source": [
    "results = results[~(results[\"train_datasets\"].str.contains(\"realworld\"))]\n",
    "results = results[~(results[\"reducer_datasets\"].str.contains(\"realworld\"))]\n",
    "results"
   ]
  },
  {
   "cell_type": "code",
   "execution_count": 10,
   "metadata": {},
   "outputs": [
    {
     "data": {
      "text/plain": [
       "True    134955\n",
       "dtype: int64"
      ]
     },
     "execution_count": 10,
     "metadata": {},
     "output_type": "execute_result"
    }
   ],
   "source": [
    "# Grouping by this columns should result in only one row per group\n",
    "# It is a unique tuple that describes each experiment\n",
    "unique_exp_columns = [\n",
    "    \"in_use_features\",\n",
    "    \"reduce_on\",\n",
    "    \"transforms\",\n",
    "    \"scaler\",\n",
    "    \"umap components\",\n",
    "    \"reducer_datasets\",\n",
    "    \"train_datasets\",\n",
    "    \"test_datasets\",\n",
    "    \"estimator\",\n",
    "    \"view\",\n",
    "]\n",
    "\n",
    "lines = []\n",
    "for k, subdf in results.groupby(unique_exp_columns):\n",
    "    lines.append(subdf.iloc[0])\n",
    "results = pd.DataFrame(lines)\n",
    "\n",
    "# Sanity check\n",
    "results.groupby(unique_exp_columns).apply(lambda x: len(x) == 1).value_counts()"
   ]
  },
  {
   "cell_type": "code",
   "execution_count": null,
   "metadata": {},
   "outputs": [],
   "source": [
    "def best_of_each_estimator(df):\n",
    "    experiment_uniq = [c for c in unique_exp_columns if c not in [\"estimator\"]]\n",
    "\n",
    "    best_of_each_dataset = []\n",
    "    for key, subdf in df.groupby(experiment_uniq):\n",
    "        best = subdf.sort_values(by=\"accuracy (mean)\", ascending=False, inplace=False).iloc[0]\n",
    "        best_of_each_dataset.append(best)\n",
    "    return pd.DataFrame(best_of_each_dataset)\n",
    "\n",
    "def best_of_each_umap(df):\n",
    "    experiment_uniq = [c for c in unique_exp_columns if c not in [\"umap components\"]]\n",
    "\n",
    "    best_of_each_dataset = []\n",
    "    for key, subdf in df.groupby(experiment_uniq):\n",
    "        best = subdf.sort_values(by=\"accuracy (mean)\", ascending=False, inplace=False).iloc[0]\n",
    "        best_of_each_dataset.append(best)\n",
    "    return pd.DataFrame(best_of_each_dataset)\n",
    "\n",
    "def best_of_each_estimator_and_umap(df):\n",
    "    experiment_uniq = [c for c in unique_exp_columns if c not in [\"estimator\", \"umap components\"]]\n",
    "\n",
    "    best_of_each_dataset = []\n",
    "    for key, subdf in df.groupby(experiment_uniq):\n",
    "        best = subdf.sort_values(by=\"accuracy (mean)\", ascending=False, inplace=False).iloc[0]\n",
    "        best_of_each_dataset.append(best)\n",
    "    return pd.DataFrame(best_of_each_dataset)"
   ]
  },
  {
   "cell_type": "code",
   "execution_count": 11,
   "metadata": {},
   "outputs": [],
   "source": [
    "def chart_bar_with_error_bars(df, improvement_col: str, groupby: str = \"train_datasets\"):\n",
    "    xs, ys, error_y_min, error_y_max = [], [], [], []\n",
    "    for key, subdf in df.groupby(groupby):\n",
    "        sorted_improvement = sorted(subdf[improvement_col].values)\n",
    "        # print(sorted_improvement)\n",
    "        xs.append(key)\n",
    "        ys.append(sorted_improvement[1])\n",
    "        error_y_min.append(abs(sorted_improvement[0]-sorted_improvement[1]))\n",
    "        error_y_max.append(abs(sorted_improvement[-1]-sorted_improvement[1]))\n",
    "\n",
    "    fig = go.Figure()\n",
    "    fig.add_trace(\n",
    "        go.Bar(\n",
    "            x=xs,\n",
    "            y=ys,\n",
    "            error_y=dict(\n",
    "                type=\"data\",\n",
    "                symmetric=False,\n",
    "                array=error_y_max,\n",
    "                arrayminus=error_y_min\n",
    "            )\n",
    "        )\n",
    "    )\n",
    "    return fig\n",
    "\n",
    "def chart_bar_with_side_by_side(df, improvement_col: str, groupby: str = \"train_datasets\", inner_group: str = \"estimator\"):\n",
    "    fig = go.Figure()\n",
    "\n",
    "    for i, (key, subdf) in enumerate(df.groupby(groupby)):\n",
    "        xs, ys = [], []\n",
    "        for inner_key, inner_subdf in subdf.groupby(inner_group):\n",
    "            xs.append(str(inner_key))\n",
    "            ys.append(inner_subdf[improvement_col].values[0])\n",
    "        \n",
    "        fig.add_trace(\n",
    "            go.Bar(\n",
    "                y=ys,\n",
    "                x=xs,\n",
    "                name=str(key),\n",
    "                marker=dict(color=colors[i])\n",
    "            )\n",
    "        )\n",
    "    return fig"
   ]
  },
  {
   "attachments": {},
   "cell_type": "markdown",
   "metadata": {},
   "source": [
    "## Pergunta 1"
   ]
  },
  {
   "attachments": {},
   "cell_type": "markdown",
   "metadata": {},
   "source": [
    "### a) Qual o impacto no desempenho dos modelos de ML quando o dado de entrada é transformado com o UMAP?\n",
    "\n",
    "Compararemos, para cada tupla <dataset DS; domíno D; modelo de ML M>, qual é a diferença (razão) de desempenho do modelo M na tarefa de HAR com o dado do dataset DS no domínio D com e sem redução de dimensionalidade."
   ]
  },
  {
   "cell_type": "code",
   "execution_count": 20,
   "metadata": {},
   "outputs": [
    {
     "data": {
      "application/vnd.plotly.v1+json": {
       "config": {
        "plotlyServerURL": "https://plot.ly"
       },
       "data": [
        {
         "error_y": {
          "array": [
           0.07564156296344038,
           0.0016134453781511127,
           0.010960390667390185,
           0.05314951545916036
          ],
          "arrayminus": [
           0.06558439857502096,
           0.0781653015636633,
           0.08461501420522921,
           0.03619986065492198
          ],
          "symmetric": false,
          "type": "data"
         },
         "type": "bar",
         "x": [
          "kuhar",
          "motionsense",
          "uci",
          "wisdm"
         ],
         "y": [
          1.010896898575021,
          1.032,
          0.968421052631579,
          1.0263959390862945
         ]
        }
       ],
       "layout": {
        "height": 600,
        "shapes": [
         {
          "line": {
           "color": "magenta",
           "dash": "dash"
          },
          "type": "line",
          "x0": 0,
          "x1": 1,
          "xref": "x domain",
          "y0": 1,
          "y1": 1,
          "yref": "y"
         }
        ],
        "template": {
         "data": {
          "bar": [
           {
            "error_x": {
             "color": "#2a3f5f"
            },
            "error_y": {
             "color": "#2a3f5f"
            },
            "marker": {
             "line": {
              "color": "#E5ECF6",
              "width": 0.5
             },
             "pattern": {
              "fillmode": "overlay",
              "size": 10,
              "solidity": 0.2
             }
            },
            "type": "bar"
           }
          ],
          "barpolar": [
           {
            "marker": {
             "line": {
              "color": "#E5ECF6",
              "width": 0.5
             },
             "pattern": {
              "fillmode": "overlay",
              "size": 10,
              "solidity": 0.2
             }
            },
            "type": "barpolar"
           }
          ],
          "carpet": [
           {
            "aaxis": {
             "endlinecolor": "#2a3f5f",
             "gridcolor": "white",
             "linecolor": "white",
             "minorgridcolor": "white",
             "startlinecolor": "#2a3f5f"
            },
            "baxis": {
             "endlinecolor": "#2a3f5f",
             "gridcolor": "white",
             "linecolor": "white",
             "minorgridcolor": "white",
             "startlinecolor": "#2a3f5f"
            },
            "type": "carpet"
           }
          ],
          "choropleth": [
           {
            "colorbar": {
             "outlinewidth": 0,
             "ticks": ""
            },
            "type": "choropleth"
           }
          ],
          "contour": [
           {
            "colorbar": {
             "outlinewidth": 0,
             "ticks": ""
            },
            "colorscale": [
             [
              0,
              "#0d0887"
             ],
             [
              0.1111111111111111,
              "#46039f"
             ],
             [
              0.2222222222222222,
              "#7201a8"
             ],
             [
              0.3333333333333333,
              "#9c179e"
             ],
             [
              0.4444444444444444,
              "#bd3786"
             ],
             [
              0.5555555555555556,
              "#d8576b"
             ],
             [
              0.6666666666666666,
              "#ed7953"
             ],
             [
              0.7777777777777778,
              "#fb9f3a"
             ],
             [
              0.8888888888888888,
              "#fdca26"
             ],
             [
              1,
              "#f0f921"
             ]
            ],
            "type": "contour"
           }
          ],
          "contourcarpet": [
           {
            "colorbar": {
             "outlinewidth": 0,
             "ticks": ""
            },
            "type": "contourcarpet"
           }
          ],
          "heatmap": [
           {
            "colorbar": {
             "outlinewidth": 0,
             "ticks": ""
            },
            "colorscale": [
             [
              0,
              "#0d0887"
             ],
             [
              0.1111111111111111,
              "#46039f"
             ],
             [
              0.2222222222222222,
              "#7201a8"
             ],
             [
              0.3333333333333333,
              "#9c179e"
             ],
             [
              0.4444444444444444,
              "#bd3786"
             ],
             [
              0.5555555555555556,
              "#d8576b"
             ],
             [
              0.6666666666666666,
              "#ed7953"
             ],
             [
              0.7777777777777778,
              "#fb9f3a"
             ],
             [
              0.8888888888888888,
              "#fdca26"
             ],
             [
              1,
              "#f0f921"
             ]
            ],
            "type": "heatmap"
           }
          ],
          "heatmapgl": [
           {
            "colorbar": {
             "outlinewidth": 0,
             "ticks": ""
            },
            "colorscale": [
             [
              0,
              "#0d0887"
             ],
             [
              0.1111111111111111,
              "#46039f"
             ],
             [
              0.2222222222222222,
              "#7201a8"
             ],
             [
              0.3333333333333333,
              "#9c179e"
             ],
             [
              0.4444444444444444,
              "#bd3786"
             ],
             [
              0.5555555555555556,
              "#d8576b"
             ],
             [
              0.6666666666666666,
              "#ed7953"
             ],
             [
              0.7777777777777778,
              "#fb9f3a"
             ],
             [
              0.8888888888888888,
              "#fdca26"
             ],
             [
              1,
              "#f0f921"
             ]
            ],
            "type": "heatmapgl"
           }
          ],
          "histogram": [
           {
            "marker": {
             "pattern": {
              "fillmode": "overlay",
              "size": 10,
              "solidity": 0.2
             }
            },
            "type": "histogram"
           }
          ],
          "histogram2d": [
           {
            "colorbar": {
             "outlinewidth": 0,
             "ticks": ""
            },
            "colorscale": [
             [
              0,
              "#0d0887"
             ],
             [
              0.1111111111111111,
              "#46039f"
             ],
             [
              0.2222222222222222,
              "#7201a8"
             ],
             [
              0.3333333333333333,
              "#9c179e"
             ],
             [
              0.4444444444444444,
              "#bd3786"
             ],
             [
              0.5555555555555556,
              "#d8576b"
             ],
             [
              0.6666666666666666,
              "#ed7953"
             ],
             [
              0.7777777777777778,
              "#fb9f3a"
             ],
             [
              0.8888888888888888,
              "#fdca26"
             ],
             [
              1,
              "#f0f921"
             ]
            ],
            "type": "histogram2d"
           }
          ],
          "histogram2dcontour": [
           {
            "colorbar": {
             "outlinewidth": 0,
             "ticks": ""
            },
            "colorscale": [
             [
              0,
              "#0d0887"
             ],
             [
              0.1111111111111111,
              "#46039f"
             ],
             [
              0.2222222222222222,
              "#7201a8"
             ],
             [
              0.3333333333333333,
              "#9c179e"
             ],
             [
              0.4444444444444444,
              "#bd3786"
             ],
             [
              0.5555555555555556,
              "#d8576b"
             ],
             [
              0.6666666666666666,
              "#ed7953"
             ],
             [
              0.7777777777777778,
              "#fb9f3a"
             ],
             [
              0.8888888888888888,
              "#fdca26"
             ],
             [
              1,
              "#f0f921"
             ]
            ],
            "type": "histogram2dcontour"
           }
          ],
          "mesh3d": [
           {
            "colorbar": {
             "outlinewidth": 0,
             "ticks": ""
            },
            "type": "mesh3d"
           }
          ],
          "parcoords": [
           {
            "line": {
             "colorbar": {
              "outlinewidth": 0,
              "ticks": ""
             }
            },
            "type": "parcoords"
           }
          ],
          "pie": [
           {
            "automargin": true,
            "type": "pie"
           }
          ],
          "scatter": [
           {
            "fillpattern": {
             "fillmode": "overlay",
             "size": 10,
             "solidity": 0.2
            },
            "type": "scatter"
           }
          ],
          "scatter3d": [
           {
            "line": {
             "colorbar": {
              "outlinewidth": 0,
              "ticks": ""
             }
            },
            "marker": {
             "colorbar": {
              "outlinewidth": 0,
              "ticks": ""
             }
            },
            "type": "scatter3d"
           }
          ],
          "scattercarpet": [
           {
            "marker": {
             "colorbar": {
              "outlinewidth": 0,
              "ticks": ""
             }
            },
            "type": "scattercarpet"
           }
          ],
          "scattergeo": [
           {
            "marker": {
             "colorbar": {
              "outlinewidth": 0,
              "ticks": ""
             }
            },
            "type": "scattergeo"
           }
          ],
          "scattergl": [
           {
            "marker": {
             "colorbar": {
              "outlinewidth": 0,
              "ticks": ""
             }
            },
            "type": "scattergl"
           }
          ],
          "scattermapbox": [
           {
            "marker": {
             "colorbar": {
              "outlinewidth": 0,
              "ticks": ""
             }
            },
            "type": "scattermapbox"
           }
          ],
          "scatterpolar": [
           {
            "marker": {
             "colorbar": {
              "outlinewidth": 0,
              "ticks": ""
             }
            },
            "type": "scatterpolar"
           }
          ],
          "scatterpolargl": [
           {
            "marker": {
             "colorbar": {
              "outlinewidth": 0,
              "ticks": ""
             }
            },
            "type": "scatterpolargl"
           }
          ],
          "scatterternary": [
           {
            "marker": {
             "colorbar": {
              "outlinewidth": 0,
              "ticks": ""
             }
            },
            "type": "scatterternary"
           }
          ],
          "surface": [
           {
            "colorbar": {
             "outlinewidth": 0,
             "ticks": ""
            },
            "colorscale": [
             [
              0,
              "#0d0887"
             ],
             [
              0.1111111111111111,
              "#46039f"
             ],
             [
              0.2222222222222222,
              "#7201a8"
             ],
             [
              0.3333333333333333,
              "#9c179e"
             ],
             [
              0.4444444444444444,
              "#bd3786"
             ],
             [
              0.5555555555555556,
              "#d8576b"
             ],
             [
              0.6666666666666666,
              "#ed7953"
             ],
             [
              0.7777777777777778,
              "#fb9f3a"
             ],
             [
              0.8888888888888888,
              "#fdca26"
             ],
             [
              1,
              "#f0f921"
             ]
            ],
            "type": "surface"
           }
          ],
          "table": [
           {
            "cells": {
             "fill": {
              "color": "#EBF0F8"
             },
             "line": {
              "color": "white"
             }
            },
            "header": {
             "fill": {
              "color": "#C8D4E3"
             },
             "line": {
              "color": "white"
             }
            },
            "type": "table"
           }
          ]
         },
         "layout": {
          "annotationdefaults": {
           "arrowcolor": "#2a3f5f",
           "arrowhead": 0,
           "arrowwidth": 1
          },
          "autotypenumbers": "strict",
          "coloraxis": {
           "colorbar": {
            "outlinewidth": 0,
            "ticks": ""
           }
          },
          "colorscale": {
           "diverging": [
            [
             0,
             "#8e0152"
            ],
            [
             0.1,
             "#c51b7d"
            ],
            [
             0.2,
             "#de77ae"
            ],
            [
             0.3,
             "#f1b6da"
            ],
            [
             0.4,
             "#fde0ef"
            ],
            [
             0.5,
             "#f7f7f7"
            ],
            [
             0.6,
             "#e6f5d0"
            ],
            [
             0.7,
             "#b8e186"
            ],
            [
             0.8,
             "#7fbc41"
            ],
            [
             0.9,
             "#4d9221"
            ],
            [
             1,
             "#276419"
            ]
           ],
           "sequential": [
            [
             0,
             "#0d0887"
            ],
            [
             0.1111111111111111,
             "#46039f"
            ],
            [
             0.2222222222222222,
             "#7201a8"
            ],
            [
             0.3333333333333333,
             "#9c179e"
            ],
            [
             0.4444444444444444,
             "#bd3786"
            ],
            [
             0.5555555555555556,
             "#d8576b"
            ],
            [
             0.6666666666666666,
             "#ed7953"
            ],
            [
             0.7777777777777778,
             "#fb9f3a"
            ],
            [
             0.8888888888888888,
             "#fdca26"
            ],
            [
             1,
             "#f0f921"
            ]
           ],
           "sequentialminus": [
            [
             0,
             "#0d0887"
            ],
            [
             0.1111111111111111,
             "#46039f"
            ],
            [
             0.2222222222222222,
             "#7201a8"
            ],
            [
             0.3333333333333333,
             "#9c179e"
            ],
            [
             0.4444444444444444,
             "#bd3786"
            ],
            [
             0.5555555555555556,
             "#d8576b"
            ],
            [
             0.6666666666666666,
             "#ed7953"
            ],
            [
             0.7777777777777778,
             "#fb9f3a"
            ],
            [
             0.8888888888888888,
             "#fdca26"
            ],
            [
             1,
             "#f0f921"
            ]
           ]
          },
          "colorway": [
           "#636efa",
           "#EF553B",
           "#00cc96",
           "#ab63fa",
           "#FFA15A",
           "#19d3f3",
           "#FF6692",
           "#B6E880",
           "#FF97FF",
           "#FECB52"
          ],
          "font": {
           "color": "#2a3f5f"
          },
          "geo": {
           "bgcolor": "white",
           "lakecolor": "white",
           "landcolor": "#E5ECF6",
           "showlakes": true,
           "showland": true,
           "subunitcolor": "white"
          },
          "hoverlabel": {
           "align": "left"
          },
          "hovermode": "closest",
          "mapbox": {
           "style": "light"
          },
          "paper_bgcolor": "white",
          "plot_bgcolor": "#E5ECF6",
          "polar": {
           "angularaxis": {
            "gridcolor": "white",
            "linecolor": "white",
            "ticks": ""
           },
           "bgcolor": "#E5ECF6",
           "radialaxis": {
            "gridcolor": "white",
            "linecolor": "white",
            "ticks": ""
           }
          },
          "scene": {
           "xaxis": {
            "backgroundcolor": "#E5ECF6",
            "gridcolor": "white",
            "gridwidth": 2,
            "linecolor": "white",
            "showbackground": true,
            "ticks": "",
            "zerolinecolor": "white"
           },
           "yaxis": {
            "backgroundcolor": "#E5ECF6",
            "gridcolor": "white",
            "gridwidth": 2,
            "linecolor": "white",
            "showbackground": true,
            "ticks": "",
            "zerolinecolor": "white"
           },
           "zaxis": {
            "backgroundcolor": "#E5ECF6",
            "gridcolor": "white",
            "gridwidth": 2,
            "linecolor": "white",
            "showbackground": true,
            "ticks": "",
            "zerolinecolor": "white"
           }
          },
          "shapedefaults": {
           "line": {
            "color": "#2a3f5f"
           }
          },
          "ternary": {
           "aaxis": {
            "gridcolor": "white",
            "linecolor": "white",
            "ticks": ""
           },
           "baxis": {
            "gridcolor": "white",
            "linecolor": "white",
            "ticks": ""
           },
           "bgcolor": "#E5ECF6",
           "caxis": {
            "gridcolor": "white",
            "linecolor": "white",
            "ticks": ""
           }
          },
          "title": {
           "x": 0.05
          },
          "xaxis": {
           "automargin": true,
           "gridcolor": "white",
           "linecolor": "white",
           "ticks": "",
           "title": {
            "standoff": 15
           },
           "zerolinecolor": "white",
           "zerolinewidth": 2
          },
          "yaxis": {
           "automargin": true,
           "gridcolor": "white",
           "linecolor": "white",
           "ticks": "",
           "title": {
            "standoff": 15
           },
           "zerolinecolor": "white",
           "zerolinewidth": 2
          }
         }
        },
        "title": {
         "text": "UMAP Improvement for each dataset (best UMAP over no UMAP, per dataset).<br>Error bars comes from different estimators"
        },
        "width": 800,
        "xaxis": {
         "title": {
          "text": "Dataset"
         }
        },
        "yaxis": {
         "title": {
          "text": "Accuracy Improvement over no UMAP"
         }
        }
       }
      }
     },
     "metadata": {},
     "output_type": "display_data"
    },
    {
     "data": {
      "application/vnd.plotly.v1+json": {
       "config": {
        "plotlyServerURL": "https://plot.ly"
       },
       "data": [
        {
         "marker": {
          "color": "#636EFA"
         },
         "name": "KNN-5",
         "type": "bar",
         "x": [
          "kuhar",
          "motionsense",
          "uci",
          "wisdm"
         ],
         "y": [
          0.9453125000000001,
          1.032,
          0.9793814432989691,
          0.9901960784313725
         ]
        },
        {
         "marker": {
          "color": "#00CC96"
         },
         "name": "SVM-rbf-C1.0",
         "type": "bar",
         "x": [
          "kuhar",
          "motionsense",
          "uci",
          "wisdm"
         ],
         "y": [
          1.0865384615384615,
          1.0336134453781511,
          0.968421052631579,
          1.0795454545454548
         ]
        },
        {
         "marker": {
          "color": "#AB63FA"
         },
         "name": "randomforest-100",
         "type": "bar",
         "x": [
          "kuhar",
          "motionsense",
          "uci",
          "wisdm"
         ],
         "y": [
          1.010896898575021,
          0.9538346984363367,
          0.8838060384263497,
          1.0263959390862945
         ]
        }
       ],
       "layout": {
        "height": 600,
        "legend": {
         "title": {
          "text": "Estimator"
         }
        },
        "shapes": [
         {
          "line": {
           "color": "red",
           "dash": "dash"
          },
          "type": "line",
          "x0": 0,
          "x1": 1,
          "xref": "x domain",
          "y0": 1,
          "y1": 1,
          "yref": "y"
         }
        ],
        "template": {
         "data": {
          "bar": [
           {
            "error_x": {
             "color": "#2a3f5f"
            },
            "error_y": {
             "color": "#2a3f5f"
            },
            "marker": {
             "line": {
              "color": "#E5ECF6",
              "width": 0.5
             },
             "pattern": {
              "fillmode": "overlay",
              "size": 10,
              "solidity": 0.2
             }
            },
            "type": "bar"
           }
          ],
          "barpolar": [
           {
            "marker": {
             "line": {
              "color": "#E5ECF6",
              "width": 0.5
             },
             "pattern": {
              "fillmode": "overlay",
              "size": 10,
              "solidity": 0.2
             }
            },
            "type": "barpolar"
           }
          ],
          "carpet": [
           {
            "aaxis": {
             "endlinecolor": "#2a3f5f",
             "gridcolor": "white",
             "linecolor": "white",
             "minorgridcolor": "white",
             "startlinecolor": "#2a3f5f"
            },
            "baxis": {
             "endlinecolor": "#2a3f5f",
             "gridcolor": "white",
             "linecolor": "white",
             "minorgridcolor": "white",
             "startlinecolor": "#2a3f5f"
            },
            "type": "carpet"
           }
          ],
          "choropleth": [
           {
            "colorbar": {
             "outlinewidth": 0,
             "ticks": ""
            },
            "type": "choropleth"
           }
          ],
          "contour": [
           {
            "colorbar": {
             "outlinewidth": 0,
             "ticks": ""
            },
            "colorscale": [
             [
              0,
              "#0d0887"
             ],
             [
              0.1111111111111111,
              "#46039f"
             ],
             [
              0.2222222222222222,
              "#7201a8"
             ],
             [
              0.3333333333333333,
              "#9c179e"
             ],
             [
              0.4444444444444444,
              "#bd3786"
             ],
             [
              0.5555555555555556,
              "#d8576b"
             ],
             [
              0.6666666666666666,
              "#ed7953"
             ],
             [
              0.7777777777777778,
              "#fb9f3a"
             ],
             [
              0.8888888888888888,
              "#fdca26"
             ],
             [
              1,
              "#f0f921"
             ]
            ],
            "type": "contour"
           }
          ],
          "contourcarpet": [
           {
            "colorbar": {
             "outlinewidth": 0,
             "ticks": ""
            },
            "type": "contourcarpet"
           }
          ],
          "heatmap": [
           {
            "colorbar": {
             "outlinewidth": 0,
             "ticks": ""
            },
            "colorscale": [
             [
              0,
              "#0d0887"
             ],
             [
              0.1111111111111111,
              "#46039f"
             ],
             [
              0.2222222222222222,
              "#7201a8"
             ],
             [
              0.3333333333333333,
              "#9c179e"
             ],
             [
              0.4444444444444444,
              "#bd3786"
             ],
             [
              0.5555555555555556,
              "#d8576b"
             ],
             [
              0.6666666666666666,
              "#ed7953"
             ],
             [
              0.7777777777777778,
              "#fb9f3a"
             ],
             [
              0.8888888888888888,
              "#fdca26"
             ],
             [
              1,
              "#f0f921"
             ]
            ],
            "type": "heatmap"
           }
          ],
          "heatmapgl": [
           {
            "colorbar": {
             "outlinewidth": 0,
             "ticks": ""
            },
            "colorscale": [
             [
              0,
              "#0d0887"
             ],
             [
              0.1111111111111111,
              "#46039f"
             ],
             [
              0.2222222222222222,
              "#7201a8"
             ],
             [
              0.3333333333333333,
              "#9c179e"
             ],
             [
              0.4444444444444444,
              "#bd3786"
             ],
             [
              0.5555555555555556,
              "#d8576b"
             ],
             [
              0.6666666666666666,
              "#ed7953"
             ],
             [
              0.7777777777777778,
              "#fb9f3a"
             ],
             [
              0.8888888888888888,
              "#fdca26"
             ],
             [
              1,
              "#f0f921"
             ]
            ],
            "type": "heatmapgl"
           }
          ],
          "histogram": [
           {
            "marker": {
             "pattern": {
              "fillmode": "overlay",
              "size": 10,
              "solidity": 0.2
             }
            },
            "type": "histogram"
           }
          ],
          "histogram2d": [
           {
            "colorbar": {
             "outlinewidth": 0,
             "ticks": ""
            },
            "colorscale": [
             [
              0,
              "#0d0887"
             ],
             [
              0.1111111111111111,
              "#46039f"
             ],
             [
              0.2222222222222222,
              "#7201a8"
             ],
             [
              0.3333333333333333,
              "#9c179e"
             ],
             [
              0.4444444444444444,
              "#bd3786"
             ],
             [
              0.5555555555555556,
              "#d8576b"
             ],
             [
              0.6666666666666666,
              "#ed7953"
             ],
             [
              0.7777777777777778,
              "#fb9f3a"
             ],
             [
              0.8888888888888888,
              "#fdca26"
             ],
             [
              1,
              "#f0f921"
             ]
            ],
            "type": "histogram2d"
           }
          ],
          "histogram2dcontour": [
           {
            "colorbar": {
             "outlinewidth": 0,
             "ticks": ""
            },
            "colorscale": [
             [
              0,
              "#0d0887"
             ],
             [
              0.1111111111111111,
              "#46039f"
             ],
             [
              0.2222222222222222,
              "#7201a8"
             ],
             [
              0.3333333333333333,
              "#9c179e"
             ],
             [
              0.4444444444444444,
              "#bd3786"
             ],
             [
              0.5555555555555556,
              "#d8576b"
             ],
             [
              0.6666666666666666,
              "#ed7953"
             ],
             [
              0.7777777777777778,
              "#fb9f3a"
             ],
             [
              0.8888888888888888,
              "#fdca26"
             ],
             [
              1,
              "#f0f921"
             ]
            ],
            "type": "histogram2dcontour"
           }
          ],
          "mesh3d": [
           {
            "colorbar": {
             "outlinewidth": 0,
             "ticks": ""
            },
            "type": "mesh3d"
           }
          ],
          "parcoords": [
           {
            "line": {
             "colorbar": {
              "outlinewidth": 0,
              "ticks": ""
             }
            },
            "type": "parcoords"
           }
          ],
          "pie": [
           {
            "automargin": true,
            "type": "pie"
           }
          ],
          "scatter": [
           {
            "fillpattern": {
             "fillmode": "overlay",
             "size": 10,
             "solidity": 0.2
            },
            "type": "scatter"
           }
          ],
          "scatter3d": [
           {
            "line": {
             "colorbar": {
              "outlinewidth": 0,
              "ticks": ""
             }
            },
            "marker": {
             "colorbar": {
              "outlinewidth": 0,
              "ticks": ""
             }
            },
            "type": "scatter3d"
           }
          ],
          "scattercarpet": [
           {
            "marker": {
             "colorbar": {
              "outlinewidth": 0,
              "ticks": ""
             }
            },
            "type": "scattercarpet"
           }
          ],
          "scattergeo": [
           {
            "marker": {
             "colorbar": {
              "outlinewidth": 0,
              "ticks": ""
             }
            },
            "type": "scattergeo"
           }
          ],
          "scattergl": [
           {
            "marker": {
             "colorbar": {
              "outlinewidth": 0,
              "ticks": ""
             }
            },
            "type": "scattergl"
           }
          ],
          "scattermapbox": [
           {
            "marker": {
             "colorbar": {
              "outlinewidth": 0,
              "ticks": ""
             }
            },
            "type": "scattermapbox"
           }
          ],
          "scatterpolar": [
           {
            "marker": {
             "colorbar": {
              "outlinewidth": 0,
              "ticks": ""
             }
            },
            "type": "scatterpolar"
           }
          ],
          "scatterpolargl": [
           {
            "marker": {
             "colorbar": {
              "outlinewidth": 0,
              "ticks": ""
             }
            },
            "type": "scatterpolargl"
           }
          ],
          "scatterternary": [
           {
            "marker": {
             "colorbar": {
              "outlinewidth": 0,
              "ticks": ""
             }
            },
            "type": "scatterternary"
           }
          ],
          "surface": [
           {
            "colorbar": {
             "outlinewidth": 0,
             "ticks": ""
            },
            "colorscale": [
             [
              0,
              "#0d0887"
             ],
             [
              0.1111111111111111,
              "#46039f"
             ],
             [
              0.2222222222222222,
              "#7201a8"
             ],
             [
              0.3333333333333333,
              "#9c179e"
             ],
             [
              0.4444444444444444,
              "#bd3786"
             ],
             [
              0.5555555555555556,
              "#d8576b"
             ],
             [
              0.6666666666666666,
              "#ed7953"
             ],
             [
              0.7777777777777778,
              "#fb9f3a"
             ],
             [
              0.8888888888888888,
              "#fdca26"
             ],
             [
              1,
              "#f0f921"
             ]
            ],
            "type": "surface"
           }
          ],
          "table": [
           {
            "cells": {
             "fill": {
              "color": "#EBF0F8"
             },
             "line": {
              "color": "white"
             }
            },
            "header": {
             "fill": {
              "color": "#C8D4E3"
             },
             "line": {
              "color": "white"
             }
            },
            "type": "table"
           }
          ]
         },
         "layout": {
          "annotationdefaults": {
           "arrowcolor": "#2a3f5f",
           "arrowhead": 0,
           "arrowwidth": 1
          },
          "autotypenumbers": "strict",
          "coloraxis": {
           "colorbar": {
            "outlinewidth": 0,
            "ticks": ""
           }
          },
          "colorscale": {
           "diverging": [
            [
             0,
             "#8e0152"
            ],
            [
             0.1,
             "#c51b7d"
            ],
            [
             0.2,
             "#de77ae"
            ],
            [
             0.3,
             "#f1b6da"
            ],
            [
             0.4,
             "#fde0ef"
            ],
            [
             0.5,
             "#f7f7f7"
            ],
            [
             0.6,
             "#e6f5d0"
            ],
            [
             0.7,
             "#b8e186"
            ],
            [
             0.8,
             "#7fbc41"
            ],
            [
             0.9,
             "#4d9221"
            ],
            [
             1,
             "#276419"
            ]
           ],
           "sequential": [
            [
             0,
             "#0d0887"
            ],
            [
             0.1111111111111111,
             "#46039f"
            ],
            [
             0.2222222222222222,
             "#7201a8"
            ],
            [
             0.3333333333333333,
             "#9c179e"
            ],
            [
             0.4444444444444444,
             "#bd3786"
            ],
            [
             0.5555555555555556,
             "#d8576b"
            ],
            [
             0.6666666666666666,
             "#ed7953"
            ],
            [
             0.7777777777777778,
             "#fb9f3a"
            ],
            [
             0.8888888888888888,
             "#fdca26"
            ],
            [
             1,
             "#f0f921"
            ]
           ],
           "sequentialminus": [
            [
             0,
             "#0d0887"
            ],
            [
             0.1111111111111111,
             "#46039f"
            ],
            [
             0.2222222222222222,
             "#7201a8"
            ],
            [
             0.3333333333333333,
             "#9c179e"
            ],
            [
             0.4444444444444444,
             "#bd3786"
            ],
            [
             0.5555555555555556,
             "#d8576b"
            ],
            [
             0.6666666666666666,
             "#ed7953"
            ],
            [
             0.7777777777777778,
             "#fb9f3a"
            ],
            [
             0.8888888888888888,
             "#fdca26"
            ],
            [
             1,
             "#f0f921"
            ]
           ]
          },
          "colorway": [
           "#636efa",
           "#EF553B",
           "#00cc96",
           "#ab63fa",
           "#FFA15A",
           "#19d3f3",
           "#FF6692",
           "#B6E880",
           "#FF97FF",
           "#FECB52"
          ],
          "font": {
           "color": "#2a3f5f"
          },
          "geo": {
           "bgcolor": "white",
           "lakecolor": "white",
           "landcolor": "#E5ECF6",
           "showlakes": true,
           "showland": true,
           "subunitcolor": "white"
          },
          "hoverlabel": {
           "align": "left"
          },
          "hovermode": "closest",
          "mapbox": {
           "style": "light"
          },
          "paper_bgcolor": "white",
          "plot_bgcolor": "#E5ECF6",
          "polar": {
           "angularaxis": {
            "gridcolor": "white",
            "linecolor": "white",
            "ticks": ""
           },
           "bgcolor": "#E5ECF6",
           "radialaxis": {
            "gridcolor": "white",
            "linecolor": "white",
            "ticks": ""
           }
          },
          "scene": {
           "xaxis": {
            "backgroundcolor": "#E5ECF6",
            "gridcolor": "white",
            "gridwidth": 2,
            "linecolor": "white",
            "showbackground": true,
            "ticks": "",
            "zerolinecolor": "white"
           },
           "yaxis": {
            "backgroundcolor": "#E5ECF6",
            "gridcolor": "white",
            "gridwidth": 2,
            "linecolor": "white",
            "showbackground": true,
            "ticks": "",
            "zerolinecolor": "white"
           },
           "zaxis": {
            "backgroundcolor": "#E5ECF6",
            "gridcolor": "white",
            "gridwidth": 2,
            "linecolor": "white",
            "showbackground": true,
            "ticks": "",
            "zerolinecolor": "white"
           }
          },
          "shapedefaults": {
           "line": {
            "color": "#2a3f5f"
           }
          },
          "ternary": {
           "aaxis": {
            "gridcolor": "white",
            "linecolor": "white",
            "ticks": ""
           },
           "baxis": {
            "gridcolor": "white",
            "linecolor": "white",
            "ticks": ""
           },
           "bgcolor": "#E5ECF6",
           "caxis": {
            "gridcolor": "white",
            "linecolor": "white",
            "ticks": ""
           }
          },
          "title": {
           "x": 0.05
          },
          "xaxis": {
           "automargin": true,
           "gridcolor": "white",
           "linecolor": "white",
           "ticks": "",
           "title": {
            "standoff": 15
           },
           "zerolinecolor": "white",
           "zerolinewidth": 2
          },
          "yaxis": {
           "automargin": true,
           "gridcolor": "white",
           "linecolor": "white",
           "ticks": "",
           "title": {
            "standoff": 15
           },
           "zerolinecolor": "white",
           "zerolinewidth": 2
          }
         }
        },
        "title": {
         "text": "UMAP Improvement for each dataset (best UMAP over no UMAP, per dataset)"
        },
        "width": 800,
        "xaxis": {
         "title": {
          "text": "Dataset"
         }
        },
        "yaxis": {
         "title": {
          "text": "Accuracy Improvement over no UMAP"
         }
        }
       }
      }
     },
     "metadata": {},
     "output_type": "display_data"
    }
   ],
   "source": [
    "def get_umap_improvement_over_no_umap(df, new_column_name: str = \"umap improvement\"):\n",
    "    experiment_uniq = [c for c in unique_exp_columns if c not in [\"reducer_datasets\", \"umap components\"]]\n",
    "\n",
    "    zero_umap = {}\n",
    "    for _, subdf in df[df[\"umap components\"] == 0].iterrows():\n",
    "        zero_umap[tuple(subdf[experiment_uniq].values.tolist())] = subdf[\"accuracy (mean)\"]\n",
    "\n",
    "    df[new_column_name] = df.apply(lambda x: x[\"accuracy (mean)\"] / zero_umap.get(tuple(x[experiment_uniq].values.tolist()), np.nan), axis=1)\n",
    "    return df\n",
    "\n",
    "def filter_max_set_only(df, column: str = \"umap improvement\"):\n",
    "    experiment_uniq = [c for c in unique_exp_columns if c not in [\"reducer_datasets\", \"umap components\"]]\n",
    "    df = df.dropna(subset=[column], inplace=False)\n",
    "    df = df[df[\"umap components\"] > 0]\n",
    "    lines = [subdf[subdf[column] == subdf[column].max()].iloc[0] for _, subdf in df.groupby(experiment_uniq)]\n",
    "    df = pd.DataFrame(lines)\n",
    "    return df\n",
    "\n",
    "df = results.copy()\n",
    "df = filter_view_standardized_inter_balanced(df)\n",
    "df = filter_domain_fft_only(df)\n",
    "df = filter_features_all(df)\n",
    "df = filter_reducer_over_all(df)\n",
    "df = filter_scaler_none(df)\n",
    "df = filter_only_reducer_dataset_equals_train_dataset_or_no_reducer(df)\n",
    "df = get_umap_improvement_over_no_umap(df)\n",
    "df = filter_max_set_only(df)\n",
    "\n",
    "fig = chart_bar_with_error_bars(df, improvement_col=\"umap improvement\", groupby=\"train_datasets\")\n",
    "fig.add_hline(y=1.0, line_dash=\"dash\", line_color=\"magenta\")\n",
    "fig.update_layout(\n",
    "    title=\"UMAP Improvement for each dataset (best UMAP over no UMAP, per dataset).<br>Error bars comes from different estimators\",\n",
    "    xaxis_title=\"Dataset\",\n",
    "    yaxis_title=\"Accuracy Improvement over no UMAP\",\n",
    "    width=800,\n",
    "    height=600\n",
    ")\n",
    "fig.show()\n",
    "\n",
    "fig = chart_bar_with_side_by_side(df, improvement_col=\"umap improvement\", groupby=\"estimator\", inner_group=\"train_datasets\")\n",
    "fig.add_hline(y=1.0, line_dash=\"dash\", line_color=\"red\")\n",
    "fig.update_layout(\n",
    "    title=\"UMAP Improvement for each dataset (best UMAP over no UMAP, per dataset)\",\n",
    "    xaxis_title=\"Dataset\",\n",
    "    yaxis_title=\"Accuracy Improvement over no UMAP\",\n",
    "    legend_title=\"Estimator\",\n",
    "    width=800,\n",
    "    height=600\n",
    ")\n",
    "fig.show()"
   ]
  },
  {
   "attachments": {},
   "cell_type": "markdown",
   "metadata": {},
   "source": [
    "### b) Qual é o impacto da dimensionalidade alvo do UMAP no desempenho dos modelos de ML?\n",
    "\n",
    "b .1) UMAP vs No-UMAP"
   ]
  },
  {
   "cell_type": "code",
   "execution_count": 18,
   "metadata": {},
   "outputs": [
    {
     "data": {
      "image/png": "[encoded data removed]"
     },
     "metadata": {},
     "output_type": "display_data"
    }
   ],
   "source": [
    "df = results.copy()\n",
    "df = filter_domain_fft_only(df)\n",
    "df = filter_features_all(df)\n",
    "df = filter_reducer_over_all(df)\n",
    "df = filter_scaler_none(df)\n",
    "df = filter_view_standardized_balanced(df)\n",
    "df = filter_only_reducer_dataset_equals_train_dataset_or_no_reducer(df)\n",
    "df = get_umap_improvement_over_no_umap(df)\n",
    "df = df[(df[\"umap components\"] > 0) & (df[\"umap components\"] <= 10)]\n",
    "df\n",
    "\n",
    "\n",
    "dset_markers = {\n",
    "    name: markers[i]\n",
    "    for i, name in enumerate(df[\"train_datasets\"].unique())\n",
    "}\n",
    "\n",
    "estimator_colors = {\n",
    "    name: colors[i]\n",
    "    for i, name in enumerate(df[\"estimator\"].unique())\n",
    "}\n",
    "\n",
    "fig = go.Figure()\n",
    "for (estimator, dataset), subdf in df.groupby([\"estimator\", \"train_datasets\"]):\n",
    "    subdf = subdf.sort_values(by=\"umap components\")\n",
    "    xs, ys = [], []\n",
    "    for n_components in sorted(subdf[\"umap components\"].unique()):\n",
    "        xs.append(n_components)\n",
    "        ys.append(subdf[subdf[\"umap components\"] <= n_components][\"umap improvement\"].max())\n",
    "    fig.add_trace(\n",
    "        go.Scatter( \n",
    "            x=xs,\n",
    "            y=ys,\n",
    "            name=f\"{estimator} {dataset}\",\n",
    "            mode=\"lines+markers\",\n",
    "            legendgroup=estimator,\n",
    "            # legendgrouptitle=\"Estimator\",\n",
    "            marker=dict(\n",
    "                color=estimator_colors[estimator],\n",
    "                symbol=dset_markers[dataset],\n",
    "                size=8,\n",
    "            ),\n",
    "        )\n",
    "    )\n",
    "    # subdf[\"best umap improvement so far\"] = df[\"umap improvement\"].expanding().max()\n",
    "\n",
    "fig.update_layout(\n",
    "    title=\"UMAP Improvement for each dataset (best UMAP over no UMAP, per dataset)\",\n",
    "    xaxis_title=\"Maximum UMAP Components\",\n",
    "    yaxis_title=\"Accuracy improvement over no UMAP\",\n",
    "    legend_title=\"Estimator\",\n",
    "    width=1200,\n",
    "    height=600,\n",
    "    # xaxis=dict(tickmode=\"linear\")\n",
    ")\n",
    "fig.show(\"png\")"
   ]
  },
  {
   "attachments": {},
   "cell_type": "markdown",
   "metadata": {},
   "source": [
    "b.2) UMAP vs best UMAP"
   ]
  },
  {
   "cell_type": "code",
   "execution_count": 21,
   "metadata": {},
   "outputs": [],
   "source": [
    "def get_umap_improvement_over_best_umap(df, new_column_name: str = \"umap improvement\"):\n",
    "    df = df[df[\"umap components\"] != 0]\n",
    "    experiment_uniq = [c for c in unique_exp_columns if c not in [\"reducer_datasets\", \"umap components\"]]\n",
    "\n",
    "    best_umap = {}\n",
    "    for key, subdf in df.groupby(experiment_uniq):\n",
    "        best_umap[key] = subdf[\"accuracy (mean)\"].max()\n",
    "\n",
    "    for key, subdf in df.groupby(experiment_uniq):\n",
    "        df.loc[subdf.index, new_column_name] = subdf[\"accuracy (mean)\"] / best_umap[key]\n",
    "\n",
    "    return df"
   ]
  },
  {
   "cell_type": "code",
   "execution_count": 22,
   "metadata": {},
   "outputs": [
    {
     "data": {
      "application/vnd.plotly.v1+json": {
       "config": {
        "plotlyServerURL": "https://plot.ly"
       },
       "data": [
        {
         "legendgroup": "KNN-5",
         "marker": {
          "color": "#636EFA",
          "size": 7,
          "symbol": "circle"
         },
         "mode": "lines+markers",
         "name": "KNN-5 kuhar",
         "type": "scatter",
         "x": [
          2,
          3,
          4,
          5,
          6,
          7,
          8,
          9,
          10,
          15,
          18,
          20,
          21,
          24,
          27,
          30,
          33,
          36,
          42,
          48,
          54,
          60,
          900,
          1800
         ],
         "y": [
          0.934426229508197,
          0.934426229508197,
          0.9508196721311477,
          0.975409836065574,
          0.975409836065574,
          0.975409836065574,
          0.975409836065574,
          0.975409836065574,
          1,
          1,
          1,
          1,
          1,
          1,
          1,
          1,
          1,
          1,
          1,
          1,
          1,
          1,
          1,
          1
         ]
        },
        {
         "legendgroup": "KNN-5",
         "marker": {
          "color": "#636EFA",
          "size": 7,
          "symbol": "square"
         },
         "mode": "lines+markers",
         "name": "KNN-5 motionsense",
         "type": "scatter",
         "x": [
          2,
          3,
          4,
          5,
          6,
          7,
          8,
          9,
          10,
          15,
          18,
          20,
          21,
          24,
          27,
          30,
          33,
          36,
          42,
          48,
          54,
          60,
          900,
          1800
         ],
         "y": [
          0.9722792607802875,
          0.9897330595482544,
          0.9897330595482544,
          0.994866529774127,
          0.994866529774127,
          0.994866529774127,
          0.994866529774127,
          0.994866529774127,
          0.994866529774127,
          0.994866529774127,
          0.994866529774127,
          0.9958932238193018,
          0.9958932238193018,
          0.9958932238193018,
          0.9958932238193018,
          0.9958932238193018,
          0.9958932238193018,
          1,
          1,
          1,
          1,
          1,
          1,
          1
         ]
        },
        {
         "legendgroup": "KNN-5",
         "marker": {
          "color": "#636EFA",
          "size": 7,
          "symbol": "diamond"
         },
         "mode": "lines+markers",
         "name": "KNN-5 uci",
         "type": "scatter",
         "x": [
          2,
          3,
          4,
          5,
          6,
          7,
          8,
          9,
          10,
          15,
          18,
          20,
          21,
          24,
          27,
          30,
          33,
          36,
          42,
          48,
          54,
          60,
          900,
          1800
         ],
         "y": [
          0.9023090586145648,
          0.9715808170515098,
          0.975133214920071,
          0.9946714031971581,
          0.9946714031971581,
          0.9946714031971581,
          0.9946714031971581,
          0.9946714031971581,
          0.9946714031971581,
          0.9946714031971581,
          0.9946714031971581,
          0.9946714031971581,
          0.9946714031971581,
          0.9946714031971581,
          0.9946714031971581,
          0.9946714031971581,
          0.9946714031971581,
          0.9946714031971581,
          1,
          1,
          1,
          1,
          1,
          1
         ]
        },
        {
         "legendgroup": "KNN-5",
         "marker": {
          "color": "#636EFA",
          "size": 7,
          "symbol": "x"
         },
         "mode": "lines+markers",
         "name": "KNN-5 wisdm",
         "type": "scatter",
         "x": [
          2,
          3,
          4,
          5,
          6,
          7,
          8,
          9,
          10,
          15,
          18,
          20,
          21,
          24,
          27,
          30,
          33,
          36,
          42,
          48,
          54,
          60,
          900,
          1800
         ],
         "y": [
          0.9361233480176211,
          0.9673274596182085,
          0.9893538913362703,
          0.9915565345080762,
          0.9919236417033774,
          0.9963289280469896,
          0.9963289280469896,
          0.9963289280469896,
          0.9963289280469896,
          1,
          1,
          1,
          1,
          1,
          1,
          1,
          1,
          1,
          1,
          1,
          1,
          1,
          1,
          1
         ]
        },
        {
         "legendgroup": "SVM-rbf-C1.0",
         "marker": {
          "color": "#00CC96",
          "size": 7,
          "symbol": "circle"
         },
         "mode": "lines+markers",
         "name": "SVM-rbf-C1.0 kuhar",
         "type": "scatter",
         "x": [
          2,
          3,
          4,
          5,
          6,
          7,
          8,
          9,
          10,
          15,
          18,
          20,
          21,
          24,
          27,
          30,
          33,
          36,
          42,
          48,
          54,
          60,
          900,
          1800
         ],
         "y": [
          0.927927927927928,
          0.972972972972973,
          0.972972972972973,
          0.981981981981982,
          0.981981981981982,
          0.981981981981982,
          0.981981981981982,
          0.981981981981982,
          0.981981981981982,
          1,
          1,
          1,
          1,
          1,
          1,
          1,
          1,
          1,
          1,
          1,
          1,
          1,
          1,
          1
         ]
        },
        {
         "legendgroup": "SVM-rbf-C1.0",
         "marker": {
          "color": "#00CC96",
          "size": 7,
          "symbol": "square"
         },
         "mode": "lines+markers",
         "name": "SVM-rbf-C1.0 motionsense",
         "type": "scatter",
         "x": [
          2,
          3,
          4,
          5,
          6,
          7,
          8,
          9,
          10,
          15,
          18,
          20,
          21,
          24,
          27,
          30,
          33,
          36,
          42,
          48,
          54,
          60,
          900,
          1800
         ],
         "y": [
          0.9906152241918667,
          1,
          1,
          1,
          1,
          1,
          1,
          1,
          1,
          1,
          1,
          1,
          1,
          1,
          1,
          1,
          1,
          1,
          1,
          1,
          1,
          1,
          1,
          1
         ]
        },
        {
         "legendgroup": "SVM-rbf-C1.0",
         "marker": {
          "color": "#00CC96",
          "size": 7,
          "symbol": "diamond"
         },
         "mode": "lines+markers",
         "name": "SVM-rbf-C1.0 uci",
         "type": "scatter",
         "x": [
          2,
          3,
          4,
          5,
          6,
          7,
          8,
          9,
          10,
          15,
          18,
          20,
          21,
          24,
          27,
          30,
          33,
          36,
          42,
          48,
          54,
          60,
          900,
          1800
         ],
         "y": [
          0.90448343079922,
          0.9863547758284598,
          1,
          1,
          1,
          1,
          1,
          1,
          1,
          1,
          1,
          1,
          1,
          1,
          1,
          1,
          1,
          1,
          1,
          1,
          1,
          1,
          1,
          1
         ]
        },
        {
         "legendgroup": "SVM-rbf-C1.0",
         "marker": {
          "color": "#00CC96",
          "size": 7,
          "symbol": "x"
         },
         "mode": "lines+markers",
         "name": "SVM-rbf-C1.0 wisdm",
         "type": "scatter",
         "x": [
          2,
          3,
          4,
          5,
          6,
          7,
          8,
          9,
          10,
          15,
          18,
          20,
          21,
          24,
          27,
          30,
          33,
          36,
          42,
          48,
          54,
          60,
          900,
          1800
         ],
         "y": [
          0.8938790293371967,
          0.8975009054690329,
          0.9865990583122057,
          0.9887721839913075,
          0.9934806229626946,
          0.9934806229626946,
          0.9934806229626946,
          0.9934806229626946,
          0.9967403114813473,
          0.9967403114813473,
          0.9967403114813473,
          0.9967403114813473,
          0.9967403114813473,
          0.9967403114813473,
          0.9967403114813473,
          0.9967403114813473,
          0.9967403114813473,
          1,
          1,
          1,
          1,
          1,
          1,
          1
         ]
        },
        {
         "legendgroup": "randomforest-100",
         "marker": {
          "color": "#AB63FA",
          "size": 7,
          "symbol": "circle"
         },
         "mode": "lines+markers",
         "name": "randomforest-100 kuhar",
         "type": "scatter",
         "x": [
          2,
          3,
          4,
          5,
          6,
          7,
          8,
          9,
          10,
          15,
          18,
          20,
          21,
          24,
          27,
          30,
          33,
          36,
          42,
          48,
          54,
          60,
          900,
          1800
         ],
         "y": [
          0.9358766233766235,
          0.9488636363636365,
          0.9488636363636365,
          0.9707792207792207,
          0.9707792207792207,
          0.9707792207792207,
          0.9707792207792207,
          0.9707792207792207,
          0.9764610389610389,
          0.9797077922077922,
          0.9797077922077922,
          0.9797077922077922,
          0.9878246753246753,
          0.9878246753246753,
          0.9878246753246753,
          0.9878246753246753,
          0.9878246753246753,
          0.9878246753246753,
          0.9878246753246753,
          0.9878246753246753,
          0.9878246753246753,
          1,
          1,
          1
         ]
        },
        {
         "legendgroup": "randomforest-100",
         "marker": {
          "color": "#AB63FA",
          "size": 7,
          "symbol": "square"
         },
         "mode": "lines+markers",
         "name": "randomforest-100 motionsense",
         "type": "scatter",
         "x": [
          2,
          3,
          4,
          5,
          6,
          7,
          8,
          9,
          10,
          15,
          18,
          20,
          21,
          24,
          27,
          30,
          33,
          36,
          42,
          48,
          54,
          60,
          900,
          1800
         ],
         "y": [
          0.9616834810965047,
          0.9825741363497401,
          0.991032304086416,
          0.991032304086416,
          0.991032304086416,
          0.991032304086416,
          0.991032304086416,
          0.991032304086416,
          0.991032304086416,
          0.991032304086416,
          0.991032304086416,
          0.991032304086416,
          1,
          1,
          1,
          1,
          1,
          1,
          1,
          1,
          1,
          1,
          1,
          1
         ]
        },
        {
         "legendgroup": "randomforest-100",
         "marker": {
          "color": "#AB63FA",
          "size": 7,
          "symbol": "diamond"
         },
         "mode": "lines+markers",
         "name": "randomforest-100 uci",
         "type": "scatter",
         "x": [
          2,
          3,
          4,
          5,
          6,
          7,
          8,
          9,
          10,
          15,
          18,
          20,
          21,
          24,
          27,
          30,
          33,
          36,
          42,
          48,
          54,
          60,
          900,
          1800
         ],
         "y": [
          0.880216518246901,
          0.9594901344508471,
          0.9697922123275715,
          0.990221756591584,
          0.990221756591584,
          0.990221756591584,
          0.990221756591584,
          0.990221756591584,
          0.990221756591584,
          0.990221756591584,
          0.990221756591584,
          0.990221756591584,
          0.990221756591584,
          0.990221756591584,
          0.9966823817007162,
          0.9966823817007162,
          0.9966823817007162,
          0.9966823817007162,
          0.9966823817007162,
          0.9966823817007162,
          0.9966823817007162,
          0.9966823817007162,
          0.9966823817007162,
          1
         ]
        },
        {
         "legendgroup": "randomforest-100",
         "marker": {
          "color": "#AB63FA",
          "size": 7,
          "symbol": "x"
         },
         "mode": "lines+markers",
         "name": "randomforest-100 wisdm",
         "type": "scatter",
         "x": [
          2,
          3,
          4,
          5,
          6,
          7,
          8,
          9,
          10,
          15,
          18,
          20,
          21,
          24,
          27,
          30,
          33,
          36,
          42,
          48,
          54,
          60,
          900,
          1800
         ],
         "y": [
          0.9205309925531533,
          0.9553908695182936,
          0.972982695974386,
          0.9909702485879771,
          0.9909702485879771,
          0.9909702485879771,
          0.9909702485879771,
          0.9909702485879771,
          0.9913299996402488,
          0.9991365974745479,
          0.9991365974745479,
          0.9991365974745479,
          0.9991365974745479,
          0.9991365974745479,
          0.9991365974745479,
          0.9991365974745479,
          0.9991365974745479,
          0.9991365974745479,
          1,
          1,
          1,
          1,
          1,
          1
         ]
        }
       ],
       "layout": {
        "height": 600,
        "legend": {
         "title": {
          "text": "Estimator"
         }
        },
        "template": {
         "data": {
          "bar": [
           {
            "error_x": {
             "color": "#2a3f5f"
            },
            "error_y": {
             "color": "#2a3f5f"
            },
            "marker": {
             "line": {
              "color": "#E5ECF6",
              "width": 0.5
             },
             "pattern": {
              "fillmode": "overlay",
              "size": 10,
              "solidity": 0.2
             }
            },
            "type": "bar"
           }
          ],
          "barpolar": [
           {
            "marker": {
             "line": {
              "color": "#E5ECF6",
              "width": 0.5
             },
             "pattern": {
              "fillmode": "overlay",
              "size": 10,
              "solidity": 0.2
             }
            },
            "type": "barpolar"
           }
          ],
          "carpet": [
           {
            "aaxis": {
             "endlinecolor": "#2a3f5f",
             "gridcolor": "white",
             "linecolor": "white",
             "minorgridcolor": "white",
             "startlinecolor": "#2a3f5f"
            },
            "baxis": {
             "endlinecolor": "#2a3f5f",
             "gridcolor": "white",
             "linecolor": "white",
             "minorgridcolor": "white",
             "startlinecolor": "#2a3f5f"
            },
            "type": "carpet"
           }
          ],
          "choropleth": [
           {
            "colorbar": {
             "outlinewidth": 0,
             "ticks": ""
            },
            "type": "choropleth"
           }
          ],
          "contour": [
           {
            "colorbar": {
             "outlinewidth": 0,
             "ticks": ""
            },
            "colorscale": [
             [
              0,
              "#0d0887"
             ],
             [
              0.1111111111111111,
              "#46039f"
             ],
             [
              0.2222222222222222,
              "#7201a8"
             ],
             [
              0.3333333333333333,
              "#9c179e"
             ],
             [
              0.4444444444444444,
              "#bd3786"
             ],
             [
              0.5555555555555556,
              "#d8576b"
             ],
             [
              0.6666666666666666,
              "#ed7953"
             ],
             [
              0.7777777777777778,
              "#fb9f3a"
             ],
             [
              0.8888888888888888,
              "#fdca26"
             ],
             [
              1,
              "#f0f921"
             ]
            ],
            "type": "contour"
           }
          ],
          "contourcarpet": [
           {
            "colorbar": {
             "outlinewidth": 0,
             "ticks": ""
            },
            "type": "contourcarpet"
           }
          ],
          "heatmap": [
           {
            "colorbar": {
             "outlinewidth": 0,
             "ticks": ""
            },
            "colorscale": [
             [
              0,
              "#0d0887"
             ],
             [
              0.1111111111111111,
              "#46039f"
             ],
             [
              0.2222222222222222,
              "#7201a8"
             ],
             [
              0.3333333333333333,
              "#9c179e"
             ],
             [
              0.4444444444444444,
              "#bd3786"
             ],
             [
              0.5555555555555556,
              "#d8576b"
             ],
             [
              0.6666666666666666,
              "#ed7953"
             ],
             [
              0.7777777777777778,
              "#fb9f3a"
             ],
             [
              0.8888888888888888,
              "#fdca26"
             ],
             [
              1,
              "#f0f921"
             ]
            ],
            "type": "heatmap"
           }
          ],
          "heatmapgl": [
           {
            "colorbar": {
             "outlinewidth": 0,
             "ticks": ""
            },
            "colorscale": [
             [
              0,
              "#0d0887"
             ],
             [
              0.1111111111111111,
              "#46039f"
             ],
             [
              0.2222222222222222,
              "#7201a8"
             ],
             [
              0.3333333333333333,
              "#9c179e"
             ],
             [
              0.4444444444444444,
              "#bd3786"
             ],
             [
              0.5555555555555556,
              "#d8576b"
             ],
             [
              0.6666666666666666,
              "#ed7953"
             ],
             [
              0.7777777777777778,
              "#fb9f3a"
             ],
             [
              0.8888888888888888,
              "#fdca26"
             ],
             [
              1,
              "#f0f921"
             ]
            ],
            "type": "heatmapgl"
           }
          ],
          "histogram": [
           {
            "marker": {
             "pattern": {
              "fillmode": "overlay",
              "size": 10,
              "solidity": 0.2
             }
            },
            "type": "histogram"
           }
          ],
          "histogram2d": [
           {
            "colorbar": {
             "outlinewidth": 0,
             "ticks": ""
            },
            "colorscale": [
             [
              0,
              "#0d0887"
             ],
             [
              0.1111111111111111,
              "#46039f"
             ],
             [
              0.2222222222222222,
              "#7201a8"
             ],
             [
              0.3333333333333333,
              "#9c179e"
             ],
             [
              0.4444444444444444,
              "#bd3786"
             ],
             [
              0.5555555555555556,
              "#d8576b"
             ],
             [
              0.6666666666666666,
              "#ed7953"
             ],
             [
              0.7777777777777778,
              "#fb9f3a"
             ],
             [
              0.8888888888888888,
              "#fdca26"
             ],
             [
              1,
              "#f0f921"
             ]
            ],
            "type": "histogram2d"
           }
          ],
          "histogram2dcontour": [
           {
            "colorbar": {
             "outlinewidth": 0,
             "ticks": ""
            },
            "colorscale": [
             [
              0,
              "#0d0887"
             ],
             [
              0.1111111111111111,
              "#46039f"
             ],
             [
              0.2222222222222222,
              "#7201a8"
             ],
             [
              0.3333333333333333,
              "#9c179e"
             ],
             [
              0.4444444444444444,
              "#bd3786"
             ],
             [
              0.5555555555555556,
              "#d8576b"
             ],
             [
              0.6666666666666666,
              "#ed7953"
             ],
             [
              0.7777777777777778,
              "#fb9f3a"
             ],
             [
              0.8888888888888888,
              "#fdca26"
             ],
             [
              1,
              "#f0f921"
             ]
            ],
            "type": "histogram2dcontour"
           }
          ],
          "mesh3d": [
           {
            "colorbar": {
             "outlinewidth": 0,
             "ticks": ""
            },
            "type": "mesh3d"
           }
          ],
          "parcoords": [
           {
            "line": {
             "colorbar": {
              "outlinewidth": 0,
              "ticks": ""
             }
            },
            "type": "parcoords"
           }
          ],
          "pie": [
           {
            "automargin": true,
            "type": "pie"
           }
          ],
          "scatter": [
           {
            "fillpattern": {
             "fillmode": "overlay",
             "size": 10,
             "solidity": 0.2
            },
            "type": "scatter"
           }
          ],
          "scatter3d": [
           {
            "line": {
             "colorbar": {
              "outlinewidth": 0,
              "ticks": ""
             }
            },
            "marker": {
             "colorbar": {
              "outlinewidth": 0,
              "ticks": ""
             }
            },
            "type": "scatter3d"
           }
          ],
          "scattercarpet": [
           {
            "marker": {
             "colorbar": {
              "outlinewidth": 0,
              "ticks": ""
             }
            },
            "type": "scattercarpet"
           }
          ],
          "scattergeo": [
           {
            "marker": {
             "colorbar": {
              "outlinewidth": 0,
              "ticks": ""
             }
            },
            "type": "scattergeo"
           }
          ],
          "scattergl": [
           {
            "marker": {
             "colorbar": {
              "outlinewidth": 0,
              "ticks": ""
             }
            },
            "type": "scattergl"
           }
          ],
          "scattermapbox": [
           {
            "marker": {
             "colorbar": {
              "outlinewidth": 0,
              "ticks": ""
             }
            },
            "type": "scattermapbox"
           }
          ],
          "scatterpolar": [
           {
            "marker": {
             "colorbar": {
              "outlinewidth": 0,
              "ticks": ""
             }
            },
            "type": "scatterpolar"
           }
          ],
          "scatterpolargl": [
           {
            "marker": {
             "colorbar": {
              "outlinewidth": 0,
              "ticks": ""
             }
            },
            "type": "scatterpolargl"
           }
          ],
          "scatterternary": [
           {
            "marker": {
             "colorbar": {
              "outlinewidth": 0,
              "ticks": ""
             }
            },
            "type": "scatterternary"
           }
          ],
          "surface": [
           {
            "colorbar": {
             "outlinewidth": 0,
             "ticks": ""
            },
            "colorscale": [
             [
              0,
              "#0d0887"
             ],
             [
              0.1111111111111111,
              "#46039f"
             ],
             [
              0.2222222222222222,
              "#7201a8"
             ],
             [
              0.3333333333333333,
              "#9c179e"
             ],
             [
              0.4444444444444444,
              "#bd3786"
             ],
             [
              0.5555555555555556,
              "#d8576b"
             ],
             [
              0.6666666666666666,
              "#ed7953"
             ],
             [
              0.7777777777777778,
              "#fb9f3a"
             ],
             [
              0.8888888888888888,
              "#fdca26"
             ],
             [
              1,
              "#f0f921"
             ]
            ],
            "type": "surface"
           }
          ],
          "table": [
           {
            "cells": {
             "fill": {
              "color": "#EBF0F8"
             },
             "line": {
              "color": "white"
             }
            },
            "header": {
             "fill": {
              "color": "#C8D4E3"
             },
             "line": {
              "color": "white"
             }
            },
            "type": "table"
           }
          ]
         },
         "layout": {
          "annotationdefaults": {
           "arrowcolor": "#2a3f5f",
           "arrowhead": 0,
           "arrowwidth": 1
          },
          "autotypenumbers": "strict",
          "coloraxis": {
           "colorbar": {
            "outlinewidth": 0,
            "ticks": ""
           }
          },
          "colorscale": {
           "diverging": [
            [
             0,
             "#8e0152"
            ],
            [
             0.1,
             "#c51b7d"
            ],
            [
             0.2,
             "#de77ae"
            ],
            [
             0.3,
             "#f1b6da"
            ],
            [
             0.4,
             "#fde0ef"
            ],
            [
             0.5,
             "#f7f7f7"
            ],
            [
             0.6,
             "#e6f5d0"
            ],
            [
             0.7,
             "#b8e186"
            ],
            [
             0.8,
             "#7fbc41"
            ],
            [
             0.9,
             "#4d9221"
            ],
            [
             1,
             "#276419"
            ]
           ],
           "sequential": [
            [
             0,
             "#0d0887"
            ],
            [
             0.1111111111111111,
             "#46039f"
            ],
            [
             0.2222222222222222,
             "#7201a8"
            ],
            [
             0.3333333333333333,
             "#9c179e"
            ],
            [
             0.4444444444444444,
             "#bd3786"
            ],
            [
             0.5555555555555556,
             "#d8576b"
            ],
            [
             0.6666666666666666,
             "#ed7953"
            ],
            [
             0.7777777777777778,
             "#fb9f3a"
            ],
            [
             0.8888888888888888,
             "#fdca26"
            ],
            [
             1,
             "#f0f921"
            ]
           ],
           "sequentialminus": [
            [
             0,
             "#0d0887"
            ],
            [
             0.1111111111111111,
             "#46039f"
            ],
            [
             0.2222222222222222,
             "#7201a8"
            ],
            [
             0.3333333333333333,
             "#9c179e"
            ],
            [
             0.4444444444444444,
             "#bd3786"
            ],
            [
             0.5555555555555556,
             "#d8576b"
            ],
            [
             0.6666666666666666,
             "#ed7953"
            ],
            [
             0.7777777777777778,
             "#fb9f3a"
            ],
            [
             0.8888888888888888,
             "#fdca26"
            ],
            [
             1,
             "#f0f921"
            ]
           ]
          },
          "colorway": [
           "#636efa",
           "#EF553B",
           "#00cc96",
           "#ab63fa",
           "#FFA15A",
           "#19d3f3",
           "#FF6692",
           "#B6E880",
           "#FF97FF",
           "#FECB52"
          ],
          "font": {
           "color": "#2a3f5f"
          },
          "geo": {
           "bgcolor": "white",
           "lakecolor": "white",
           "landcolor": "#E5ECF6",
           "showlakes": true,
           "showland": true,
           "subunitcolor": "white"
          },
          "hoverlabel": {
           "align": "left"
          },
          "hovermode": "closest",
          "mapbox": {
           "style": "light"
          },
          "paper_bgcolor": "white",
          "plot_bgcolor": "#E5ECF6",
          "polar": {
           "angularaxis": {
            "gridcolor": "white",
            "linecolor": "white",
            "ticks": ""
           },
           "bgcolor": "#E5ECF6",
           "radialaxis": {
            "gridcolor": "white",
            "linecolor": "white",
            "ticks": ""
           }
          },
          "scene": {
           "xaxis": {
            "backgroundcolor": "#E5ECF6",
            "gridcolor": "white",
            "gridwidth": 2,
            "linecolor": "white",
            "showbackground": true,
            "ticks": "",
            "zerolinecolor": "white"
           },
           "yaxis": {
            "backgroundcolor": "#E5ECF6",
            "gridcolor": "white",
            "gridwidth": 2,
            "linecolor": "white",
            "showbackground": true,
            "ticks": "",
            "zerolinecolor": "white"
           },
           "zaxis": {
            "backgroundcolor": "#E5ECF6",
            "gridcolor": "white",
            "gridwidth": 2,
            "linecolor": "white",
            "showbackground": true,
            "ticks": "",
            "zerolinecolor": "white"
           }
          },
          "shapedefaults": {
           "line": {
            "color": "#2a3f5f"
           }
          },
          "ternary": {
           "aaxis": {
            "gridcolor": "white",
            "linecolor": "white",
            "ticks": ""
           },
           "baxis": {
            "gridcolor": "white",
            "linecolor": "white",
            "ticks": ""
           },
           "bgcolor": "#E5ECF6",
           "caxis": {
            "gridcolor": "white",
            "linecolor": "white",
            "ticks": ""
           }
          },
          "title": {
           "x": 0.05
          },
          "xaxis": {
           "automargin": true,
           "gridcolor": "white",
           "linecolor": "white",
           "ticks": "",
           "title": {
            "standoff": 15
           },
           "zerolinecolor": "white",
           "zerolinewidth": 2
          },
          "yaxis": {
           "automargin": true,
           "gridcolor": "white",
           "linecolor": "white",
           "ticks": "",
           "title": {
            "standoff": 15
           },
           "zerolinecolor": "white",
           "zerolinewidth": 2
          }
         }
        },
        "title": {
         "text": "UMAP Improvement for each dataset (UMAP over best UMAP, per dataset)"
        },
        "width": 1200,
        "xaxis": {
         "title": {
          "text": "Maximum UMAP Components"
         }
        },
        "yaxis": {
         "title": {
          "text": "Accuracy improvement best UMAP"
         }
        }
       }
      }
     },
     "metadata": {},
     "output_type": "display_data"
    }
   ],
   "source": [
    "df = results.copy()\n",
    "df = filter_domain_fft_only(df)\n",
    "df = filter_features_all(df)\n",
    "df = filter_reducer_over_all(df)\n",
    "df = filter_scaler_none(df)\n",
    "df = filter_view_standardized_balanced(df)\n",
    "df = filter_only_reducer_dataset_equals_train_dataset_or_no_reducer(df)\n",
    "df = get_umap_improvement_over_best_umap(df)\n",
    "# df = df[(df[\"umap components\"] > 0) & (df[\"umap components\"] <= 200)]\n",
    "\n",
    "dset_markers = {\n",
    "    name: markers[i]\n",
    "    for i, name in enumerate(df[\"train_datasets\"].unique())\n",
    "}\n",
    "\n",
    "estimator_colors = {\n",
    "    name: colors[i]\n",
    "    for i, name in enumerate(df[\"estimator\"].unique())\n",
    "}\n",
    "\n",
    "fig = go.Figure()\n",
    "for (estimator, dataset), subdf in df.groupby([\"estimator\", \"train_datasets\"]):\n",
    "    subdf = subdf.sort_values(by=\"umap components\")\n",
    "    xs, ys = [], []\n",
    "    for n_components in sorted(subdf[\"umap components\"].unique()):\n",
    "        xs.append(n_components)\n",
    "        ys.append(subdf[subdf[\"umap components\"] <= n_components][\"umap improvement\"].max())\n",
    "    fig.add_trace(\n",
    "        go.Scatter( \n",
    "            x=xs,\n",
    "            y=ys,\n",
    "            name=f\"{estimator} {dataset}\",\n",
    "            mode=\"lines+markers\",\n",
    "            legendgroup=estimator,\n",
    "            # legendgrouptitle=\"Estimator\",\n",
    "            marker=dict(\n",
    "                color=estimator_colors[estimator],\n",
    "                symbol=dset_markers[dataset],\n",
    "                size=7,\n",
    "            ),\n",
    "        )\n",
    "    )\n",
    "    # subdf[\"best umap improvement so far\"] = df[\"umap improvement\"].expanding().max()\n",
    "\n",
    "fig.update_layout(\n",
    "    title=\"UMAP Improvement for each dataset (UMAP over best UMAP, per dataset)\",\n",
    "    xaxis_title=\"Maximum UMAP Components\",\n",
    "    yaxis_title=\"Accuracy improvement best UMAP\",\n",
    "    legend_title=\"Estimator\",\n",
    "    width=1200,\n",
    "    height=600,\n",
    "    # xaxis=dict(tickmode=\"linear\")\n",
    ")\n",
    "fig.show()"
   ]
  },
  {
   "attachments": {},
   "cell_type": "markdown",
   "metadata": {},
   "source": [
    "### Pergunta 1.c"
   ]
  },
  {
   "cell_type": "code",
   "execution_count": 28,
   "metadata": {},
   "outputs": [
    {
     "name": "stderr",
     "output_type": "stream",
     "text": [
      "/tmp/ipykernel_233155/862335259.py:13: FutureWarning:\n",
      "\n",
      "In a future version of pandas, a length 1 tuple will be returned when iterating over a groupby with a grouper equal to a list of length 1. Don't supply a list with a single grouper to avoid this warning.\n",
      "\n"
     ]
    },
    {
     "data": {
      "application/vnd.plotly.v1+json": {
       "config": {
        "plotlyServerURL": "https://plot.ly"
       },
       "data": [
        {
         "legendgroup": "no umap",
         "marker": {
          "color": "#636EFA"
         },
         "name": "kuhar no umap",
         "type": "bar",
         "x": [
          "kuhar raw (no umap)",
          "kuhar raw (no umap)",
          "kuhar standartized (no umap)",
          "kuhar standartized (no umap)",
          "kuhar standartized (no umap)"
         ],
         "y": [
          null,
          null,
          null,
          null,
          0.888888888888889
         ]
        },
        {
         "legendgroup": "best umap",
         "marker": {
          "color": "#00CC96"
         },
         "name": "kuhar best umap",
         "type": "bar",
         "x": [
          "kuhar raw (best umap)",
          "kuhar raw (best umap)",
          "kuhar standartized (best umap)",
          "kuhar standartized (best umap)",
          "kuhar standartized (best umap)"
         ],
         "y": [
          0.85,
          0.8333333333333334,
          0.8555555555555555,
          0.8541666666666666,
          0.8402777777777779
         ]
        },
        {
         "legendgroup": "no umap",
         "marker": {
          "color": "#636EFA"
         },
         "name": "motionsense no umap",
         "type": "bar",
         "x": [
          "motionsense raw (no umap)",
          "motionsense raw (no umap)",
          "motionsense standartized (no umap)",
          "motionsense standartized (no umap)",
          "motionsense standartized (no umap)"
         ],
         "y": [
          null,
          null,
          null,
          null,
          0.9326388888888888
         ]
        },
        {
         "legendgroup": "best umap",
         "marker": {
          "color": "#00CC96"
         },
         "name": "motionsense best umap",
         "type": "bar",
         "x": [
          "motionsense raw (best umap)",
          "motionsense raw (best umap)",
          "motionsense standartized (best umap)",
          "motionsense standartized (best umap)",
          "motionsense standartized (best umap)"
         ],
         "y": [
          0.9052730696798494,
          0.8990583804143126,
          0.9240112994350282,
          0.9097222222222224,
          0.8958333333333334
         ]
        },
        {
         "legendgroup": "no umap",
         "marker": {
          "color": "#636EFA"
         },
         "name": "realworld no umap",
         "type": "bar",
         "x": [
          "realworld raw (no umap)",
          "realworld raw (no umap)",
          "realworld standartized (no umap)",
          "realworld standartized (no umap)",
          "realworld standartized (no umap)"
         ],
         "y": [
          null,
          null,
          null,
          null,
          0.6944444444444444
         ]
        },
        {
         "legendgroup": "best umap",
         "marker": {
          "color": "#00CC96"
         },
         "name": "realworld best umap",
         "type": "bar",
         "x": [
          "realworld raw (best umap)",
          "realworld raw (best umap)",
          "realworld standartized (best umap)",
          "realworld standartized (best umap)",
          "realworld standartized (best umap)"
         ],
         "y": [
          0.6729928686450426,
          0.6817345295606165,
          0.666839199447895,
          0.6458333333333333,
          0.6527777777777778
         ]
        },
        {
         "legendgroup": "no umap",
         "marker": {
          "color": "#636EFA"
         },
         "name": "uci no umap",
         "type": "bar",
         "x": [
          "uci raw (no umap)",
          "uci raw (no umap)",
          "uci standartized (no umap)",
          "uci standartized (no umap)",
          "uci standartized (no umap)"
         ],
         "y": [
          null,
          null,
          null,
          null,
          0.9108333333333332
         ]
        },
        {
         "legendgroup": "best umap",
         "marker": {
          "color": "#00CC96"
         },
         "name": "uci best umap",
         "type": "bar",
         "x": [
          "uci raw (best umap)",
          "uci raw (best umap)",
          "uci standartized (best umap)",
          "uci standartized (best umap)",
          "uci standartized (best umap)"
         ],
         "y": [
          0.768695652173913,
          0.7726086956521739,
          0.8299999999999998,
          0.7991666666666667,
          0.805
         ]
        },
        {
         "legendgroup": "no umap",
         "marker": {
          "color": "#636EFA"
         },
         "name": "wisdm no umap",
         "type": "bar",
         "x": [
          "wisdm raw (no umap)",
          "wisdm raw (no umap)",
          "wisdm standartized (no umap)",
          "wisdm standartized (no umap)",
          "wisdm standartized (no umap)"
         ],
         "y": [
          null,
          null,
          null,
          null,
          0.85
         ]
        },
        {
         "legendgroup": "best umap",
         "marker": {
          "color": "#00CC96"
         },
         "name": "wisdm best umap",
         "type": "bar",
         "x": [
          "wisdm raw (best umap)",
          "wisdm raw (best umap)",
          "wisdm standartized (best umap)",
          "wisdm standartized (best umap)",
          "wisdm standartized (best umap)"
         ],
         "y": [
          0.8918335901386747,
          0.8847457627118643,
          0.8566101694915254,
          0.8691666666666666,
          0.8424999999999999
         ]
        }
       ],
       "layout": {
        "height": 800,
        "legend": {
         "title": {
          "text": "Estimator"
         }
        },
        "template": {
         "data": {
          "bar": [
           {
            "error_x": {
             "color": "#2a3f5f"
            },
            "error_y": {
             "color": "#2a3f5f"
            },
            "marker": {
             "line": {
              "color": "#E5ECF6",
              "width": 0.5
             },
             "pattern": {
              "fillmode": "overlay",
              "size": 10,
              "solidity": 0.2
             }
            },
            "type": "bar"
           }
          ],
          "barpolar": [
           {
            "marker": {
             "line": {
              "color": "#E5ECF6",
              "width": 0.5
             },
             "pattern": {
              "fillmode": "overlay",
              "size": 10,
              "solidity": 0.2
             }
            },
            "type": "barpolar"
           }
          ],
          "carpet": [
           {
            "aaxis": {
             "endlinecolor": "#2a3f5f",
             "gridcolor": "white",
             "linecolor": "white",
             "minorgridcolor": "white",
             "startlinecolor": "#2a3f5f"
            },
            "baxis": {
             "endlinecolor": "#2a3f5f",
             "gridcolor": "white",
             "linecolor": "white",
             "minorgridcolor": "white",
             "startlinecolor": "#2a3f5f"
            },
            "type": "carpet"
           }
          ],
          "choropleth": [
           {
            "colorbar": {
             "outlinewidth": 0,
             "ticks": ""
            },
            "type": "choropleth"
           }
          ],
          "contour": [
           {
            "colorbar": {
             "outlinewidth": 0,
             "ticks": ""
            },
            "colorscale": [
             [
              0,
              "#0d0887"
             ],
             [
              0.1111111111111111,
              "#46039f"
             ],
             [
              0.2222222222222222,
              "#7201a8"
             ],
             [
              0.3333333333333333,
              "#9c179e"
             ],
             [
              0.4444444444444444,
              "#bd3786"
             ],
             [
              0.5555555555555556,
              "#d8576b"
             ],
             [
              0.6666666666666666,
              "#ed7953"
             ],
             [
              0.7777777777777778,
              "#fb9f3a"
             ],
             [
              0.8888888888888888,
              "#fdca26"
             ],
             [
              1,
              "#f0f921"
             ]
            ],
            "type": "contour"
           }
          ],
          "contourcarpet": [
           {
            "colorbar": {
             "outlinewidth": 0,
             "ticks": ""
            },
            "type": "contourcarpet"
           }
          ],
          "heatmap": [
           {
            "colorbar": {
             "outlinewidth": 0,
             "ticks": ""
            },
            "colorscale": [
             [
              0,
              "#0d0887"
             ],
             [
              0.1111111111111111,
              "#46039f"
             ],
             [
              0.2222222222222222,
              "#7201a8"
             ],
             [
              0.3333333333333333,
              "#9c179e"
             ],
             [
              0.4444444444444444,
              "#bd3786"
             ],
             [
              0.5555555555555556,
              "#d8576b"
             ],
             [
              0.6666666666666666,
              "#ed7953"
             ],
             [
              0.7777777777777778,
              "#fb9f3a"
             ],
             [
              0.8888888888888888,
              "#fdca26"
             ],
             [
              1,
              "#f0f921"
             ]
            ],
            "type": "heatmap"
           }
          ],
          "heatmapgl": [
           {
            "colorbar": {
             "outlinewidth": 0,
             "ticks": ""
            },
            "colorscale": [
             [
              0,
              "#0d0887"
             ],
             [
              0.1111111111111111,
              "#46039f"
             ],
             [
              0.2222222222222222,
              "#7201a8"
             ],
             [
              0.3333333333333333,
              "#9c179e"
             ],
             [
              0.4444444444444444,
              "#bd3786"
             ],
             [
              0.5555555555555556,
              "#d8576b"
             ],
             [
              0.6666666666666666,
              "#ed7953"
             ],
             [
              0.7777777777777778,
              "#fb9f3a"
             ],
             [
              0.8888888888888888,
              "#fdca26"
             ],
             [
              1,
              "#f0f921"
             ]
            ],
            "type": "heatmapgl"
           }
          ],
          "histogram": [
           {
            "marker": {
             "pattern": {
              "fillmode": "overlay",
              "size": 10,
              "solidity": 0.2
             }
            },
            "type": "histogram"
           }
          ],
          "histogram2d": [
           {
            "colorbar": {
             "outlinewidth": 0,
             "ticks": ""
            },
            "colorscale": [
             [
              0,
              "#0d0887"
             ],
             [
              0.1111111111111111,
              "#46039f"
             ],
             [
              0.2222222222222222,
              "#7201a8"
             ],
             [
              0.3333333333333333,
              "#9c179e"
             ],
             [
              0.4444444444444444,
              "#bd3786"
             ],
             [
              0.5555555555555556,
              "#d8576b"
             ],
             [
              0.6666666666666666,
              "#ed7953"
             ],
             [
              0.7777777777777778,
              "#fb9f3a"
             ],
             [
              0.8888888888888888,
              "#fdca26"
             ],
             [
              1,
              "#f0f921"
             ]
            ],
            "type": "histogram2d"
           }
          ],
          "histogram2dcontour": [
           {
            "colorbar": {
             "outlinewidth": 0,
             "ticks": ""
            },
            "colorscale": [
             [
              0,
              "#0d0887"
             ],
             [
              0.1111111111111111,
              "#46039f"
             ],
             [
              0.2222222222222222,
              "#7201a8"
             ],
             [
              0.3333333333333333,
              "#9c179e"
             ],
             [
              0.4444444444444444,
              "#bd3786"
             ],
             [
              0.5555555555555556,
              "#d8576b"
             ],
             [
              0.6666666666666666,
              "#ed7953"
             ],
             [
              0.7777777777777778,
              "#fb9f3a"
             ],
             [
              0.8888888888888888,
              "#fdca26"
             ],
             [
              1,
              "#f0f921"
             ]
            ],
            "type": "histogram2dcontour"
           }
          ],
          "mesh3d": [
           {
            "colorbar": {
             "outlinewidth": 0,
             "ticks": ""
            },
            "type": "mesh3d"
           }
          ],
          "parcoords": [
           {
            "line": {
             "colorbar": {
              "outlinewidth": 0,
              "ticks": ""
             }
            },
            "type": "parcoords"
           }
          ],
          "pie": [
           {
            "automargin": true,
            "type": "pie"
           }
          ],
          "scatter": [
           {
            "fillpattern": {
             "fillmode": "overlay",
             "size": 10,
             "solidity": 0.2
            },
            "type": "scatter"
           }
          ],
          "scatter3d": [
           {
            "line": {
             "colorbar": {
              "outlinewidth": 0,
              "ticks": ""
             }
            },
            "marker": {
             "colorbar": {
              "outlinewidth": 0,
              "ticks": ""
             }
            },
            "type": "scatter3d"
           }
          ],
          "scattercarpet": [
           {
            "marker": {
             "colorbar": {
              "outlinewidth": 0,
              "ticks": ""
             }
            },
            "type": "scattercarpet"
           }
          ],
          "scattergeo": [
           {
            "marker": {
             "colorbar": {
              "outlinewidth": 0,
              "ticks": ""
             }
            },
            "type": "scattergeo"
           }
          ],
          "scattergl": [
           {
            "marker": {
             "colorbar": {
              "outlinewidth": 0,
              "ticks": ""
             }
            },
            "type": "scattergl"
           }
          ],
          "scattermapbox": [
           {
            "marker": {
             "colorbar": {
              "outlinewidth": 0,
              "ticks": ""
             }
            },
            "type": "scattermapbox"
           }
          ],
          "scatterpolar": [
           {
            "marker": {
             "colorbar": {
              "outlinewidth": 0,
              "ticks": ""
             }
            },
            "type": "scatterpolar"
           }
          ],
          "scatterpolargl": [
           {
            "marker": {
             "colorbar": {
              "outlinewidth": 0,
              "ticks": ""
             }
            },
            "type": "scatterpolargl"
           }
          ],
          "scatterternary": [
           {
            "marker": {
             "colorbar": {
              "outlinewidth": 0,
              "ticks": ""
             }
            },
            "type": "scatterternary"
           }
          ],
          "surface": [
           {
            "colorbar": {
             "outlinewidth": 0,
             "ticks": ""
            },
            "colorscale": [
             [
              0,
              "#0d0887"
             ],
             [
              0.1111111111111111,
              "#46039f"
             ],
             [
              0.2222222222222222,
              "#7201a8"
             ],
             [
              0.3333333333333333,
              "#9c179e"
             ],
             [
              0.4444444444444444,
              "#bd3786"
             ],
             [
              0.5555555555555556,
              "#d8576b"
             ],
             [
              0.6666666666666666,
              "#ed7953"
             ],
             [
              0.7777777777777778,
              "#fb9f3a"
             ],
             [
              0.8888888888888888,
              "#fdca26"
             ],
             [
              1,
              "#f0f921"
             ]
            ],
            "type": "surface"
           }
          ],
          "table": [
           {
            "cells": {
             "fill": {
              "color": "#EBF0F8"
             },
             "line": {
              "color": "white"
             }
            },
            "header": {
             "fill": {
              "color": "#C8D4E3"
             },
             "line": {
              "color": "white"
             }
            },
            "type": "table"
           }
          ]
         },
         "layout": {
          "annotationdefaults": {
           "arrowcolor": "#2a3f5f",
           "arrowhead": 0,
           "arrowwidth": 1
          },
          "autotypenumbers": "strict",
          "coloraxis": {
           "colorbar": {
            "outlinewidth": 0,
            "ticks": ""
           }
          },
          "colorscale": {
           "diverging": [
            [
             0,
             "#8e0152"
            ],
            [
             0.1,
             "#c51b7d"
            ],
            [
             0.2,
             "#de77ae"
            ],
            [
             0.3,
             "#f1b6da"
            ],
            [
             0.4,
             "#fde0ef"
            ],
            [
             0.5,
             "#f7f7f7"
            ],
            [
             0.6,
             "#e6f5d0"
            ],
            [
             0.7,
             "#b8e186"
            ],
            [
             0.8,
             "#7fbc41"
            ],
            [
             0.9,
             "#4d9221"
            ],
            [
             1,
             "#276419"
            ]
           ],
           "sequential": [
            [
             0,
             "#0d0887"
            ],
            [
             0.1111111111111111,
             "#46039f"
            ],
            [
             0.2222222222222222,
             "#7201a8"
            ],
            [
             0.3333333333333333,
             "#9c179e"
            ],
            [
             0.4444444444444444,
             "#bd3786"
            ],
            [
             0.5555555555555556,
             "#d8576b"
            ],
            [
             0.6666666666666666,
             "#ed7953"
            ],
            [
             0.7777777777777778,
             "#fb9f3a"
            ],
            [
             0.8888888888888888,
             "#fdca26"
            ],
            [
             1,
             "#f0f921"
            ]
           ],
           "sequentialminus": [
            [
             0,
             "#0d0887"
            ],
            [
             0.1111111111111111,
             "#46039f"
            ],
            [
             0.2222222222222222,
             "#7201a8"
            ],
            [
             0.3333333333333333,
             "#9c179e"
            ],
            [
             0.4444444444444444,
             "#bd3786"
            ],
            [
             0.5555555555555556,
             "#d8576b"
            ],
            [
             0.6666666666666666,
             "#ed7953"
            ],
            [
             0.7777777777777778,
             "#fb9f3a"
            ],
            [
             0.8888888888888888,
             "#fdca26"
            ],
            [
             1,
             "#f0f921"
            ]
           ]
          },
          "colorway": [
           "#636efa",
           "#EF553B",
           "#00cc96",
           "#ab63fa",
           "#FFA15A",
           "#19d3f3",
           "#FF6692",
           "#B6E880",
           "#FF97FF",
           "#FECB52"
          ],
          "font": {
           "color": "#2a3f5f"
          },
          "geo": {
           "bgcolor": "white",
           "lakecolor": "white",
           "landcolor": "#E5ECF6",
           "showlakes": true,
           "showland": true,
           "subunitcolor": "white"
          },
          "hoverlabel": {
           "align": "left"
          },
          "hovermode": "closest",
          "mapbox": {
           "style": "light"
          },
          "paper_bgcolor": "white",
          "plot_bgcolor": "#E5ECF6",
          "polar": {
           "angularaxis": {
            "gridcolor": "white",
            "linecolor": "white",
            "ticks": ""
           },
           "bgcolor": "#E5ECF6",
           "radialaxis": {
            "gridcolor": "white",
            "linecolor": "white",
            "ticks": ""
           }
          },
          "scene": {
           "xaxis": {
            "backgroundcolor": "#E5ECF6",
            "gridcolor": "white",
            "gridwidth": 2,
            "linecolor": "white",
            "showbackground": true,
            "ticks": "",
            "zerolinecolor": "white"
           },
           "yaxis": {
            "backgroundcolor": "#E5ECF6",
            "gridcolor": "white",
            "gridwidth": 2,
            "linecolor": "white",
            "showbackground": true,
            "ticks": "",
            "zerolinecolor": "white"
           },
           "zaxis": {
            "backgroundcolor": "#E5ECF6",
            "gridcolor": "white",
            "gridwidth": 2,
            "linecolor": "white",
            "showbackground": true,
            "ticks": "",
            "zerolinecolor": "white"
           }
          },
          "shapedefaults": {
           "line": {
            "color": "#2a3f5f"
           }
          },
          "ternary": {
           "aaxis": {
            "gridcolor": "white",
            "linecolor": "white",
            "ticks": ""
           },
           "baxis": {
            "gridcolor": "white",
            "linecolor": "white",
            "ticks": ""
           },
           "bgcolor": "#E5ECF6",
           "caxis": {
            "gridcolor": "white",
            "linecolor": "white",
            "ticks": ""
           }
          },
          "title": {
           "x": 0.05
          },
          "xaxis": {
           "automargin": true,
           "gridcolor": "white",
           "linecolor": "white",
           "ticks": "",
           "title": {
            "standoff": 15
           },
           "zerolinecolor": "white",
           "zerolinewidth": 2
          },
          "yaxis": {
           "automargin": true,
           "gridcolor": "white",
           "linecolor": "white",
           "ticks": "",
           "title": {
            "standoff": 15
           },
           "zerolinecolor": "white",
           "zerolinewidth": 2
          }
         }
        },
        "title": {
         "text": "Impact of standardization process on UMAP"
        },
        "width": 1200,
        "xaxis": {
         "tickangle": 90,
         "title": {
          "text": "Dataset view"
         }
        },
        "yaxis": {
         "title": {
          "text": "Accuracy of best UMAP and best classifier"
         }
        }
       }
      }
     },
     "metadata": {},
     "output_type": "display_data"
    }
   ],
   "source": [
    "experiment_uniq = [c for c in unique_exp_columns if c not in [\"train_datasets\", \"view\"]]\n",
    "\n",
    "df = results.copy()\n",
    "df = filter_domain_fft_only(df)\n",
    "df = filter_features_all(df)\n",
    "df = filter_reducer_over_all(df)\n",
    "df = filter_scaler_none(df)\n",
    "df = filter_only_reducer_dataset_equals_train_dataset_or_no_reducer(df)\n",
    "\n",
    "fig = go.Figure()\n",
    "\n",
    "\n",
    "for i, (dset_name, train_df) in enumerate(df.groupby([\"train_datasets\"])):\n",
    "    xs, ys = [], []\n",
    "    for j, (view_name, subdf) in enumerate(train_df.groupby(\"view\")):\n",
    "        umap_0_max = subdf[subdf[\"umap components\"] == 0][\"accuracy (mean)\"].max()\n",
    "        xs.append(f\"{dset_name} {view_name.split('_')[0]} (no umap)\")\n",
    "        ys.append(umap_0_max)\n",
    "    \n",
    "    fig.add_trace(\n",
    "        go.Bar(\n",
    "            x=xs,\n",
    "            y=ys,\n",
    "            name=f\"{dset_name} no umap\",\n",
    "            marker=dict(color=colors[0]),\n",
    "            legendgroup=\"no umap\",\n",
    "        )\n",
    "    )\n",
    "    xs, ys = [], []\n",
    "    for j, (view_name, subdf) in enumerate(train_df.groupby(\"view\")):\n",
    "        umap_best_max = subdf[subdf[\"umap components\"] > 0][\"accuracy (mean)\"].max()\n",
    "        xs.append(f\"{dset_name} {view_name.split('_')[0]} (best umap)\")\n",
    "        ys.append(umap_best_max)\n",
    "    \n",
    "    fig.add_trace(\n",
    "        go.Bar(\n",
    "            x=xs,\n",
    "            y=ys,\n",
    "            name=f\"{dset_name} best umap\",\n",
    "            marker=dict(color=colors[1]),\n",
    "            legendgroup=\"best umap\",\n",
    "        )\n",
    "    )\n",
    "\n",
    "fig.update_layout(\n",
    "    title=\"Impact of standardization process on UMAP\",\n",
    "    xaxis_title=\"Dataset view\",\n",
    "    yaxis_title=\"Accuracy of best UMAP and best classifier\",\n",
    "    legend_title=\"Estimator\",\n",
    "    width=1200,\n",
    "    height=800,\n",
    "    xaxis=dict(tickangle=90)\n",
    ")\n",
    "\n",
    "# fig.update_xaxes(tickangle=75)\n",
    "fig.show()"
   ]
  },
  {
   "attachments": {},
   "cell_type": "markdown",
   "metadata": {},
   "source": [
    "## Pergunta 2\n",
    "\n",
    "Como a escolha do dataset no treinamento do UMAP afeta os resultados da tarefa?\n",
    "\n",
    "- Normalizar pelo melhor do dataset de teste\n",
    "- Marcador por dataset\n",
    "- Comparar MAE"
   ]
  },
  {
   "cell_type": "code",
   "execution_count": 29,
   "metadata": {},
   "outputs": [
    {
     "name": "stderr",
     "output_type": "stream",
     "text": [
      "/tmp/ipykernel_233155/3671092761.py:19: SettingWithCopyWarning:\n",
      "\n",
      "\n",
      "A value is trying to be set on a copy of a slice from a DataFrame\n",
      "\n",
      "See the caveats in the documentation: https://pandas.pydata.org/pandas-docs/stable/user_guide/indexing.html#returning-a-view-versus-a-copy\n",
      "\n"
     ]
    },
    {
     "data": {
      "application/vnd.plotly.v1+json": {
       "config": {
        "plotlyServerURL": "https://plot.ly"
       },
       "data": [
        {
         "marker": {
          "color": "#636EFA",
          "size": 7,
          "symbol": "circle"
         },
         "mode": "lines+markers",
         "name": "UMAP 2 components",
         "type": "scatter",
         "x": [
          0,
          1,
          2,
          3,
          4,
          5,
          6,
          7,
          8,
          9,
          10,
          11,
          12,
          13,
          14,
          15,
          16,
          17,
          18,
          19,
          20,
          21,
          22,
          23,
          24,
          25,
          26,
          27,
          28,
          29,
          30,
          31,
          32,
          33,
          34,
          35,
          36,
          37,
          38,
          39,
          40,
          41,
          42,
          43,
          44,
          45,
          46,
          47,
          48,
          49,
          50,
          51,
          52,
          53,
          54,
          55,
          56,
          57,
          58,
          59,
          60,
          61,
          62,
          63,
          64,
          65,
          66,
          67,
          68,
          69
         ],
         "y": [
          0.513888888888889,
          0.5416666666666667,
          0.5416666666666667,
          0.5458333333333334,
          0.548611111111111,
          0.548611111111111,
          0.5555555555555556,
          0.5694444444444444,
          0.575,
          0.576388888888889,
          0.576388888888889,
          0.576388888888889,
          0.5833333333333333,
          0.5868055555555556,
          0.5902777777777778,
          0.5902777777777778,
          0.5902777777777778,
          0.5916666666666667,
          0.5972222222222222,
          0.5999999999999999,
          0.6041666666666667,
          0.6091666666666666,
          0.6104166666666666,
          0.611111111111111,
          0.6158333333333335,
          0.6319444444444444,
          0.6333333333333332,
          0.6375,
          0.638888888888889,
          0.6416666666666667,
          0.6458333333333333,
          0.6533333333333333,
          0.6583333333333333,
          0.6666666666666667,
          0.6847222222222222,
          0.6908333333333334,
          0.6944444444444444,
          0.7,
          0.7016666666666667,
          0.7222222222222222,
          0.7333333333333333,
          0.75,
          0.75,
          0.75,
          0.7583333333333332,
          0.7590277777777777,
          0.763888888888889,
          0.7666666666666667,
          0.7666666666666667,
          0.7708333333333333,
          0.7770833333333333,
          0.7833333333333333,
          0.785,
          0.7916666666666667,
          0.7916666666666667,
          0.798611111111111,
          0.8,
          0.8025,
          0.8034722222222221,
          0.8055555555555556,
          0.8083333333333333,
          0.8152777777777779,
          0.8166666666666667,
          0.8166666666666667,
          0.8222222222222223,
          0.825,
          0.8333333333333334,
          0.8680555555555556,
          0.8680555555555556,
          0.8958333333333334
         ]
        },
        {
         "marker": {
          "color": "#00CC96",
          "size": 7,
          "symbol": "circle"
         },
         "mode": "lines+markers",
         "name": "UMAP 3 components",
         "type": "scatter",
         "x": [
          0,
          1,
          2,
          3,
          4,
          5,
          6,
          7,
          8,
          9,
          10,
          11,
          12,
          13,
          14,
          15,
          16,
          17,
          18,
          19,
          20,
          21,
          22,
          23,
          24,
          25,
          26,
          27,
          28,
          29,
          30,
          31,
          32,
          33,
          34,
          35,
          36,
          37,
          38,
          39,
          40,
          41,
          42,
          43,
          44,
          45,
          46,
          47,
          48,
          49,
          50,
          51,
          52,
          53,
          54,
          55,
          56,
          57,
          58,
          59,
          60,
          61,
          62,
          63,
          64,
          65,
          66,
          67,
          68,
          69
         ],
         "y": [
          0.5625,
          0.5625,
          0.5631944444444444,
          0.5694444444444444,
          0.5694444444444444,
          0.5783333333333333,
          0.5833333333333333,
          0.5833333333333333,
          0.5833333333333333,
          0.5833333333333333,
          0.5902777777777778,
          0.5923611111111112,
          0.5930555555555556,
          0.5972222222222222,
          0.5972222222222222,
          0.601388888888889,
          0.6041666666666667,
          0.6041666666666667,
          0.6159722222222223,
          0.6229166666666667,
          0.625,
          0.625,
          0.625,
          0.63,
          0.638888888888889,
          0.6416666666666667,
          0.6416666666666667,
          0.6458333333333333,
          0.6500000000000001,
          0.6525000000000001,
          0.6666666666666667,
          0.6791666666666667,
          0.6833333333333333,
          0.6916666666666667,
          0.6958333333333334,
          0.7,
          0.701388888888889,
          0.7152777777777778,
          0.7333333333333333,
          0.7569444444444444,
          0.7583333333333332,
          0.7583333333333332,
          0.7583333333333334,
          0.7666666666666667,
          0.7708333333333333,
          0.7750000000000001,
          0.7777777777777778,
          0.7791666666666667,
          0.7847222222222222,
          0.7868055555555555,
          0.7916666666666667,
          0.7916666666666667,
          0.7916666666666667,
          0.798611111111111,
          0.8,
          0.8074999999999999,
          0.8145833333333334,
          0.8152777777777779,
          0.8166666666666668,
          0.8173611111111111,
          0.8194444444444444,
          0.8208333333333334,
          0.825,
          0.8333333333333334,
          0.8416666666666666,
          0.8466666666666667,
          0.8694444444444445,
          0.875,
          0.8756944444444444,
          0.8805555555555555
         ]
        },
        {
         "marker": {
          "color": "#AB63FA",
          "size": 7,
          "symbol": "circle"
         },
         "mode": "lines+markers",
         "name": "UMAP 4 components",
         "type": "scatter",
         "x": [
          0,
          1,
          2,
          3,
          4,
          5,
          6,
          7,
          8,
          9,
          10,
          11,
          12,
          13,
          14,
          15,
          16,
          17,
          18,
          19,
          20,
          21,
          22,
          23,
          24,
          25,
          26,
          27,
          28,
          29,
          30,
          31,
          32,
          33,
          34,
          35,
          36,
          37,
          38,
          39,
          40,
          41,
          42,
          43,
          44,
          45,
          46,
          47,
          48,
          49,
          50,
          51,
          52,
          53,
          54,
          55,
          56,
          57,
          58,
          59,
          60,
          61,
          62,
          63,
          64,
          65,
          66,
          67,
          68,
          69
         ],
         "y": [
          0.5277777777777778,
          0.5416666666666667,
          0.5783333333333334,
          0.5826388888888889,
          0.5833333333333333,
          0.5840277777777778,
          0.5902777777777778,
          0.5902777777777778,
          0.5902777777777778,
          0.6041666666666667,
          0.6041666666666667,
          0.6090277777777777,
          0.611111111111111,
          0.611111111111111,
          0.611111111111111,
          0.6166666666666666,
          0.6180555555555556,
          0.625,
          0.6275000000000001,
          0.638888888888889,
          0.638888888888889,
          0.6500000000000001,
          0.6520833333333333,
          0.6527777777777778,
          0.6527777777777778,
          0.65625,
          0.6583333333333334,
          0.6631944444444445,
          0.6666666666666667,
          0.675,
          0.6816666666666668,
          0.6849999999999999,
          0.6916666666666667,
          0.6950000000000001,
          0.7083333333333333,
          0.7180555555555556,
          0.7266666666666667,
          0.7291666666666667,
          0.75,
          0.75,
          0.75,
          0.7525,
          0.7649999999999999,
          0.7649999999999999,
          0.7666666666666667,
          0.7666666666666667,
          0.7708333333333333,
          0.7750000000000001,
          0.7777777777777778,
          0.7819444444444444,
          0.7916666666666667,
          0.7916666666666667,
          0.798611111111111,
          0.80625,
          0.8075000000000001,
          0.8083333333333333,
          0.8083333333333333,
          0.8125,
          0.8125,
          0.8173611111111111,
          0.8175000000000001,
          0.826388888888889,
          0.8333333333333334,
          0.8333333333333334,
          0.8508333333333333,
          0.875,
          0.875,
          0.8784722222222221,
          0.8819444444444444,
          0.888888888888889
         ]
        },
        {
         "marker": {
          "color": "#FFA15A",
          "size": 7,
          "symbol": "circle"
         },
         "mode": "lines+markers",
         "name": "UMAP 5 components",
         "type": "scatter",
         "x": [
          0,
          1,
          2,
          3,
          4,
          5,
          6,
          7,
          8,
          9,
          10,
          11,
          12,
          13,
          14,
          15,
          16,
          17,
          18,
          19,
          20,
          21,
          22,
          23,
          24,
          25,
          26,
          27,
          28,
          29,
          30,
          31,
          32,
          33,
          34,
          35,
          36,
          37,
          38,
          39,
          40,
          41,
          42,
          43,
          44,
          45,
          46,
          47,
          48,
          49,
          50,
          51,
          52,
          53,
          54,
          55,
          56,
          57,
          58,
          59,
          60,
          61,
          62,
          63,
          64,
          65,
          66,
          67,
          68,
          69
         ],
         "y": [
          0.5625,
          0.5756944444444444,
          0.576388888888889,
          0.5833333333333333,
          0.5847222222222221,
          0.5895833333333333,
          0.5902777777777778,
          0.5902777777777778,
          0.5902777777777778,
          0.5941666666666666,
          0.5972222222222222,
          0.5972222222222222,
          0.5999999999999999,
          0.6041666666666667,
          0.6083333333333334,
          0.6090277777777778,
          0.611111111111111,
          0.611111111111111,
          0.6159722222222223,
          0.6180555555555556,
          0.6284722222222223,
          0.6479166666666667,
          0.6500000000000001,
          0.6591666666666667,
          0.663888888888889,
          0.6666666666666667,
          0.6729166666666666,
          0.6741666666666666,
          0.6833333333333333,
          0.6854166666666666,
          0.6916666666666667,
          0.6916666666666667,
          0.6991666666666666,
          0.7249999999999999,
          0.7291666666666667,
          0.7333333333333333,
          0.7333333333333333,
          0.7416666666666668,
          0.7416666666666668,
          0.7458333333333333,
          0.75,
          0.7506944444444444,
          0.7534722222222223,
          0.7583333333333332,
          0.7583333333333332,
          0.7750000000000001,
          0.7750000000000001,
          0.7750000000000001,
          0.7847222222222222,
          0.7930555555555555,
          0.7933333333333333,
          0.8,
          0.805,
          0.8076388888888889,
          0.8138888888888889,
          0.8152777777777779,
          0.8166666666666667,
          0.8166666666666667,
          0.82,
          0.8236111111111111,
          0.826388888888889,
          0.8305555555555557,
          0.8333333333333334,
          0.8391666666666666,
          0.84375,
          0.875,
          0.8756944444444444,
          0.8833333333333332,
          0.888888888888889,
          0.888888888888889
         ]
        },
        {
         "marker": {
          "color": "#19D3F3",
          "size": 7,
          "symbol": "circle"
         },
         "mode": "lines+markers",
         "name": "UMAP 6 components",
         "type": "scatter",
         "x": [
          0,
          1,
          2,
          3,
          4,
          5,
          6,
          7,
          8,
          9,
          10,
          11,
          12,
          13,
          14,
          15,
          16,
          17,
          18,
          19,
          20,
          21,
          22,
          23,
          24,
          25,
          26,
          27,
          28,
          29,
          30,
          31,
          32,
          33,
          34,
          35,
          36,
          37,
          38,
          39,
          40,
          41,
          42,
          43,
          44,
          45,
          46,
          47,
          48,
          49,
          50,
          51,
          52,
          53,
          54,
          55,
          56,
          57,
          58,
          59,
          60,
          61,
          62,
          63,
          64,
          65,
          66,
          67,
          68,
          69
         ],
         "y": [
          0.5555555555555556,
          0.5611111111111111,
          0.576388888888889,
          0.5833333333333333,
          0.5868055555555556,
          0.5902777777777778,
          0.5930555555555556,
          0.5972222222222221,
          0.5972222222222222,
          0.6041666666666667,
          0.611111111111111,
          0.611111111111111,
          0.6166666666666667,
          0.6225,
          0.625,
          0.625,
          0.6300000000000001,
          0.6319444444444444,
          0.6319444444444444,
          0.638888888888889,
          0.6458333333333333,
          0.6458333333333333,
          0.6458333333333333,
          0.6562499999999999,
          0.65625,
          0.6658333333333333,
          0.6666666666666667,
          0.6683333333333334,
          0.6833333333333333,
          0.6916666666666667,
          0.7008333333333333,
          0.7116666666666667,
          0.7152777777777778,
          0.7249999999999999,
          0.7333333333333333,
          0.7430555555555556,
          0.7433333333333334,
          0.7479166666666666,
          0.75,
          0.7533333333333333,
          0.7558333333333334,
          0.76,
          0.7666666666666667,
          0.7750000000000001,
          0.7756944444444445,
          0.7791666666666666,
          0.7812500000000001,
          0.7825,
          0.7925000000000001,
          0.7951388888888888,
          0.7965277777777778,
          0.798611111111111,
          0.8,
          0.8006944444444445,
          0.8066666666666666,
          0.8083333333333333,
          0.8083333333333333,
          0.8175000000000001,
          0.825,
          0.8256944444444445,
          0.826388888888889,
          0.829861111111111,
          0.8333333333333334,
          0.8441666666666666,
          0.8451388888888889,
          0.8666666666666668,
          0.875,
          0.8784722222222223,
          0.8958333333333334,
          0.9041666666666666
         ]
        },
        {
         "marker": {
          "color": "#FF6692",
          "size": 7,
          "symbol": "circle"
         },
         "mode": "lines+markers",
         "name": "UMAP 7 components",
         "type": "scatter",
         "x": [
          0,
          1,
          2,
          3,
          4,
          5,
          6,
          7,
          8,
          9,
          10,
          11,
          12,
          13,
          14,
          15,
          16,
          17,
          18,
          19,
          20,
          21,
          22,
          23,
          24,
          25,
          26,
          27,
          28,
          29,
          30,
          31,
          32,
          33,
          34,
          35,
          36,
          37,
          38,
          39,
          40,
          41,
          42,
          43,
          44,
          45,
          46,
          47,
          48,
          49,
          50,
          51,
          52,
          53,
          54,
          55,
          56,
          57,
          58,
          59,
          60,
          61,
          62,
          63,
          64,
          65,
          66,
          67,
          68,
          69
         ],
         "y": [
          0.5361111111111112,
          0.5611111111111111,
          0.576388888888889,
          0.5854166666666667,
          0.5875,
          0.5902777777777778,
          0.5909722222222221,
          0.5972222222222222,
          0.6041666666666667,
          0.6041666666666667,
          0.6138888888888888,
          0.61875,
          0.6201388888888889,
          0.625,
          0.625,
          0.625,
          0.6256944444444444,
          0.6270833333333334,
          0.642361111111111,
          0.6475,
          0.648611111111111,
          0.6508333333333333,
          0.6527777777777778,
          0.6569444444444443,
          0.6625,
          0.6666666666666667,
          0.6666666666666667,
          0.6805555555555556,
          0.6849999999999999,
          0.6858333333333333,
          0.705,
          0.7058333333333333,
          0.7216666666666667,
          0.7225,
          0.7249999999999999,
          0.7325000000000002,
          0.7416666666666668,
          0.7430555555555556,
          0.75,
          0.7527777777777779,
          0.763888888888889,
          0.7666666666666667,
          0.7666666666666667,
          0.7741666666666667,
          0.7750000000000001,
          0.7798611111111111,
          0.7826388888888889,
          0.7833333333333333,
          0.7916666666666667,
          0.7916666666666667,
          0.7916666666666667,
          0.8055555555555556,
          0.8145833333333334,
          0.8145833333333334,
          0.8180555555555555,
          0.81875,
          0.82,
          0.825,
          0.825,
          0.8333333333333334,
          0.8424999999999999,
          0.8466666666666665,
          0.8472222222222221,
          0.8520833333333334,
          0.8566666666666667,
          0.875,
          0.8833333333333334,
          0.8847222222222223,
          0.8958333333333334,
          0.9118055555555556
         ]
        },
        {
         "marker": {
          "color": "#B6E880",
          "size": 7,
          "symbol": "circle"
         },
         "mode": "lines+markers",
         "name": "UMAP 8 components",
         "type": "scatter",
         "x": [
          0,
          1,
          2,
          3,
          4,
          5,
          6,
          7,
          8,
          9,
          10,
          11,
          12,
          13,
          14,
          15,
          16,
          17,
          18,
          19,
          20,
          21,
          22,
          23,
          24,
          25,
          26,
          27,
          28,
          29,
          30,
          31,
          32,
          33,
          34,
          35,
          36,
          37,
          38,
          39,
          40,
          41,
          42,
          43,
          44,
          45,
          46,
          47,
          48,
          49,
          50,
          51,
          52,
          53,
          54,
          55,
          56,
          57,
          58,
          59,
          60,
          61,
          62,
          63,
          64,
          65,
          66,
          67,
          68,
          69
         ],
         "y": [
          0.5465277777777778,
          0.5756944444444445,
          0.5833333333333333,
          0.5883333333333333,
          0.5902777777777778,
          0.5902777777777778,
          0.5972222222222222,
          0.6041666666666667,
          0.607638888888889,
          0.6104166666666667,
          0.611111111111111,
          0.6118055555555555,
          0.6152777777777778,
          0.6166666666666667,
          0.6208333333333333,
          0.6277777777777778,
          0.6319444444444444,
          0.6333333333333332,
          0.6354166666666666,
          0.6423611111111113,
          0.64375,
          0.6444444444444445,
          0.6475000000000001,
          0.6534722222222223,
          0.6597222222222222,
          0.6666666666666667,
          0.6700000000000002,
          0.675,
          0.6791666666666667,
          0.6805555555555556,
          0.6816666666666666,
          0.6858333333333333,
          0.6875000000000001,
          0.6933333333333332,
          0.6966666666666665,
          0.7074999999999999,
          0.7138888888888888,
          0.7472222222222221,
          0.7633333333333333,
          0.763888888888889,
          0.7666666666666667,
          0.7691666666666668,
          0.77,
          0.7729166666666666,
          0.7750000000000001,
          0.7750000000000001,
          0.7808333333333335,
          0.7868055555555555,
          0.7888888888888889,
          0.788888888888889,
          0.7916666666666667,
          0.798611111111111,
          0.8,
          0.8118055555555556,
          0.8166666666666667,
          0.8183333333333334,
          0.8208333333333334,
          0.8215277777777779,
          0.825,
          0.825,
          0.8333333333333334,
          0.8354166666666668,
          0.8400000000000001,
          0.8416666666666666,
          0.8451388888888889,
          0.8680555555555556,
          0.8694444444444445,
          0.8694444444444445,
          0.875,
          0.8951388888888889
         ]
        },
        {
         "marker": {
          "color": "#FF97FF",
          "size": 7,
          "symbol": "circle"
         },
         "mode": "lines+markers",
         "name": "UMAP 9 components",
         "type": "scatter",
         "x": [
          0,
          1,
          2,
          3,
          4,
          5,
          6,
          7,
          8,
          9,
          10,
          11,
          12,
          13,
          14,
          15,
          16,
          17,
          18,
          19,
          20,
          21,
          22,
          23,
          24,
          25,
          26,
          27,
          28,
          29,
          30,
          31,
          32,
          33,
          34,
          35,
          36,
          37,
          38,
          39,
          40,
          41,
          42,
          43,
          44,
          45,
          46,
          47,
          48,
          49,
          50,
          51,
          52,
          53,
          54,
          55,
          56,
          57,
          58,
          59,
          60,
          61,
          62,
          63,
          64,
          65,
          66,
          67,
          68,
          69
         ],
         "y": [
          0.5631944444444444,
          0.5659722222222221,
          0.5694444444444444,
          0.5972222222222222,
          0.5993055555555555,
          0.6041666666666666,
          0.6041666666666667,
          0.6041666666666667,
          0.6055555555555555,
          0.611111111111111,
          0.611111111111111,
          0.615,
          0.6180555555555556,
          0.6180555555555556,
          0.6180555555555556,
          0.6194444444444445,
          0.625,
          0.6256944444444444,
          0.6319444444444444,
          0.6458333333333333,
          0.6569444444444444,
          0.6597222222222222,
          0.6633333333333333,
          0.6666666666666667,
          0.6791666666666666,
          0.6805555555555556,
          0.6808333333333334,
          0.6849999999999999,
          0.6866666666666666,
          0.6875,
          0.6975,
          0.6991666666666666,
          0.7,
          0.705,
          0.72,
          0.7388888888888887,
          0.7491666666666668,
          0.75,
          0.7591666666666667,
          0.7591666666666667,
          0.7708333333333333,
          0.7725,
          0.7783333333333333,
          0.7833333333333333,
          0.7854166666666667,
          0.7888888888888889,
          0.7916666666666667,
          0.7930555555555556,
          0.7941666666666667,
          0.8,
          0.8008333333333333,
          0.8116666666666665,
          0.8116666666666668,
          0.8125,
          0.8159722222222223,
          0.8166666666666667,
          0.8173611111111111,
          0.8194444444444444,
          0.8208333333333332,
          0.8277777777777777,
          0.8305555555555555,
          0.8333333333333334,
          0.8402777777777779,
          0.8416666666666666,
          0.8451388888888889,
          0.8666666666666668,
          0.8791666666666667,
          0.8861111111111113,
          0.8944444444444445,
          0.902777777777778
         ]
        },
        {
         "marker": {
          "color": "#FECB52",
          "size": 7,
          "symbol": "circle"
         },
         "mode": "lines+markers",
         "name": "UMAP 10 components",
         "type": "scatter",
         "x": [
          0,
          1,
          2,
          3,
          4,
          5,
          6,
          7,
          8,
          9,
          10,
          11,
          12,
          13,
          14,
          15,
          16,
          17,
          18,
          19,
          20,
          21,
          22,
          23,
          24,
          25,
          26,
          27,
          28,
          29,
          30,
          31,
          32,
          33,
          34,
          35,
          36,
          37,
          38,
          39,
          40,
          41,
          42,
          43,
          44,
          45,
          46,
          47,
          48,
          49,
          50,
          51,
          52,
          53,
          54,
          55,
          56,
          57,
          58,
          59,
          60,
          61,
          62,
          63,
          64,
          65,
          66,
          67,
          68,
          69
         ],
         "y": [
          0.5694444444444444,
          0.5722222222222222,
          0.576388888888889,
          0.5930555555555556,
          0.601388888888889,
          0.6041666666666667,
          0.6041666666666667,
          0.6097222222222223,
          0.611111111111111,
          0.6131944444444444,
          0.6131944444444445,
          0.6173611111111111,
          0.6180555555555556,
          0.6241666666666668,
          0.6284722222222222,
          0.6298611111111111,
          0.6298611111111111,
          0.6319444444444444,
          0.6319444444444444,
          0.632638888888889,
          0.6340277777777777,
          0.6500000000000001,
          0.6597222222222222,
          0.6666666666666667,
          0.6708333333333333,
          0.6725000000000001,
          0.675,
          0.6783333333333332,
          0.6805555555555556,
          0.6916666666666667,
          0.6925,
          0.7066666666666667,
          0.7083333333333333,
          0.7266666666666667,
          0.7291666666666667,
          0.7433333333333334,
          0.75,
          0.75,
          0.7591666666666665,
          0.7625,
          0.763888888888889,
          0.7641666666666667,
          0.7666666666666667,
          0.7675000000000001,
          0.7680555555555556,
          0.7708333333333333,
          0.7750000000000001,
          0.7833333333333332,
          0.7916666666666667,
          0.7916666666666667,
          0.8008333333333333,
          0.8055555555555556,
          0.8075000000000001,
          0.8116666666666668,
          0.8125,
          0.8173611111111111,
          0.826388888888889,
          0.8291666666666666,
          0.8333333333333334,
          0.8340277777777777,
          0.835,
          0.8388888888888889,
          0.85,
          0.8508333333333333,
          0.8541666666666666,
          0.8666666666666668,
          0.875,
          0.8861111111111111,
          0.8930555555555555,
          0.8979166666666668
         ]
        },
        {
         "marker": {
          "color": "#EF553B",
          "size": 7,
          "symbol": "circle"
         },
         "mode": "lines+markers",
         "name": "UMAP 15 components",
         "type": "scatter",
         "x": [
          0,
          1,
          2,
          3,
          4,
          5,
          6,
          7,
          8,
          9,
          10,
          11,
          12,
          13,
          14,
          15,
          16,
          17,
          18,
          19,
          20,
          21,
          22,
          23,
          24,
          25,
          26,
          27,
          28,
          29,
          30,
          31,
          32,
          33,
          34,
          35,
          36,
          37,
          38,
          39,
          40,
          41,
          42,
          43,
          44,
          45,
          46,
          47,
          48,
          49,
          50,
          51,
          52,
          53,
          54,
          55,
          56,
          57,
          58,
          59,
          60,
          61,
          62,
          63,
          64,
          65,
          66,
          67,
          68,
          69
         ],
         "y": [
          0.5416666666666667,
          0.5569444444444445,
          0.5715277777777779,
          0.5916666666666667,
          0.5965277777777778,
          0.6006944444444444,
          0.611111111111111,
          0.611111111111111,
          0.611111111111111,
          0.6194444444444445,
          0.6215277777777779,
          0.6229166666666666,
          0.625,
          0.625,
          0.6275000000000001,
          0.6316666666666667,
          0.6381944444444445,
          0.638888888888889,
          0.638888888888889,
          0.6416666666666667,
          0.6465277777777777,
          0.6472222222222221,
          0.648611111111111,
          0.648611111111111,
          0.6500000000000001,
          0.6527777777777778,
          0.6631944444444444,
          0.6816666666666666,
          0.6833333333333333,
          0.6933333333333332,
          0.6966666666666665,
          0.7069444444444445,
          0.7074999999999999,
          0.7166666666666667,
          0.7233333333333333,
          0.7249999999999999,
          0.7541666666666667,
          0.7576388888888889,
          0.7608333333333334,
          0.7616666666666665,
          0.7631944444444445,
          0.7638888888888888,
          0.7666666666666667,
          0.7666666666666667,
          0.76875,
          0.7750000000000001,
          0.7758333333333333,
          0.788888888888889,
          0.7916666666666667,
          0.7916666666666667,
          0.7916666666666667,
          0.798611111111111,
          0.798611111111111,
          0.7993055555555555,
          0.8016666666666667,
          0.804861111111111,
          0.8074999999999999,
          0.8083333333333333,
          0.8222222222222222,
          0.8243055555555555,
          0.825,
          0.8316666666666667,
          0.836111111111111,
          0.8395833333333333,
          0.8433333333333334,
          0.8516666666666666,
          0.8854166666666667,
          0.8868055555555555,
          0.8916666666666668,
          0.902777777777778
         ]
        },
        {
         "marker": {
          "color": "#636EFA",
          "size": 7,
          "symbol": "square"
         },
         "mode": "lines+markers",
         "name": "UMAP 20 components",
         "type": "scatter",
         "x": [
          0,
          1,
          2,
          3,
          4,
          5,
          6,
          7,
          8,
          9,
          10,
          11,
          12,
          13,
          14,
          15,
          16,
          17,
          18,
          19,
          20,
          21,
          22,
          23,
          24,
          25,
          26,
          27,
          28,
          29,
          30,
          31,
          32,
          33,
          34,
          35,
          36,
          37,
          38,
          39,
          40,
          41,
          42,
          43,
          44,
          45,
          46,
          47,
          48,
          49,
          50,
          51,
          52,
          53,
          54,
          55,
          56,
          57,
          58,
          59,
          60,
          61,
          62,
          63,
          64,
          65,
          66,
          67,
          68,
          69
         ],
         "y": [
          0.5374999999999999,
          0.5625,
          0.5694444444444444,
          0.5694444444444444,
          0.5840277777777777,
          0.5902777777777778,
          0.5972222222222223,
          0.6041666666666666,
          0.6041666666666667,
          0.6041666666666667,
          0.6041666666666667,
          0.60625,
          0.6069444444444444,
          0.611111111111111,
          0.61875,
          0.6229166666666667,
          0.6319444444444444,
          0.6347222222222222,
          0.6354166666666666,
          0.6486111111111111,
          0.6527777777777779,
          0.6541666666666668,
          0.6558333333333333,
          0.6683333333333333,
          0.6805555555555556,
          0.6808333333333334,
          0.6808333333333334,
          0.6833333333333333,
          0.685,
          0.6875,
          0.6916666666666667,
          0.6991666666666666,
          0.6991666666666667,
          0.7083333333333333,
          0.7222222222222222,
          0.725,
          0.7275,
          0.7416666666666666,
          0.745,
          0.7493055555555554,
          0.75,
          0.7583333333333332,
          0.7683333333333333,
          0.7770833333333332,
          0.7805555555555556,
          0.7841666666666667,
          0.7891666666666667,
          0.7916666666666667,
          0.7925000000000001,
          0.7944444444444445,
          0.798611111111111,
          0.805,
          0.8083333333333333,
          0.8166666666666667,
          0.8194444444444444,
          0.8215277777777779,
          0.8225,
          0.8233333333333333,
          0.8241666666666667,
          0.825,
          0.83125,
          0.8326388888888889,
          0.8333333333333334,
          0.8402777777777777,
          0.8423611111111111,
          0.8583333333333332,
          0.8833333333333334,
          0.8881944444444445,
          0.8895833333333334,
          0.8902777777777778
         ]
        }
       ],
       "layout": {
        "height": 600,
        "legend": {
         "title": {
          "text": "UMAP Components"
         }
        },
        "template": {
         "data": {
          "bar": [
           {
            "error_x": {
             "color": "#2a3f5f"
            },
            "error_y": {
             "color": "#2a3f5f"
            },
            "marker": {
             "line": {
              "color": "#E5ECF6",
              "width": 0.5
             },
             "pattern": {
              "fillmode": "overlay",
              "size": 10,
              "solidity": 0.2
             }
            },
            "type": "bar"
           }
          ],
          "barpolar": [
           {
            "marker": {
             "line": {
              "color": "#E5ECF6",
              "width": 0.5
             },
             "pattern": {
              "fillmode": "overlay",
              "size": 10,
              "solidity": 0.2
             }
            },
            "type": "barpolar"
           }
          ],
          "carpet": [
           {
            "aaxis": {
             "endlinecolor": "#2a3f5f",
             "gridcolor": "white",
             "linecolor": "white",
             "minorgridcolor": "white",
             "startlinecolor": "#2a3f5f"
            },
            "baxis": {
             "endlinecolor": "#2a3f5f",
             "gridcolor": "white",
             "linecolor": "white",
             "minorgridcolor": "white",
             "startlinecolor": "#2a3f5f"
            },
            "type": "carpet"
           }
          ],
          "choropleth": [
           {
            "colorbar": {
             "outlinewidth": 0,
             "ticks": ""
            },
            "type": "choropleth"
           }
          ],
          "contour": [
           {
            "colorbar": {
             "outlinewidth": 0,
             "ticks": ""
            },
            "colorscale": [
             [
              0,
              "#0d0887"
             ],
             [
              0.1111111111111111,
              "#46039f"
             ],
             [
              0.2222222222222222,
              "#7201a8"
             ],
             [
              0.3333333333333333,
              "#9c179e"
             ],
             [
              0.4444444444444444,
              "#bd3786"
             ],
             [
              0.5555555555555556,
              "#d8576b"
             ],
             [
              0.6666666666666666,
              "#ed7953"
             ],
             [
              0.7777777777777778,
              "#fb9f3a"
             ],
             [
              0.8888888888888888,
              "#fdca26"
             ],
             [
              1,
              "#f0f921"
             ]
            ],
            "type": "contour"
           }
          ],
          "contourcarpet": [
           {
            "colorbar": {
             "outlinewidth": 0,
             "ticks": ""
            },
            "type": "contourcarpet"
           }
          ],
          "heatmap": [
           {
            "colorbar": {
             "outlinewidth": 0,
             "ticks": ""
            },
            "colorscale": [
             [
              0,
              "#0d0887"
             ],
             [
              0.1111111111111111,
              "#46039f"
             ],
             [
              0.2222222222222222,
              "#7201a8"
             ],
             [
              0.3333333333333333,
              "#9c179e"
             ],
             [
              0.4444444444444444,
              "#bd3786"
             ],
             [
              0.5555555555555556,
              "#d8576b"
             ],
             [
              0.6666666666666666,
              "#ed7953"
             ],
             [
              0.7777777777777778,
              "#fb9f3a"
             ],
             [
              0.8888888888888888,
              "#fdca26"
             ],
             [
              1,
              "#f0f921"
             ]
            ],
            "type": "heatmap"
           }
          ],
          "heatmapgl": [
           {
            "colorbar": {
             "outlinewidth": 0,
             "ticks": ""
            },
            "colorscale": [
             [
              0,
              "#0d0887"
             ],
             [
              0.1111111111111111,
              "#46039f"
             ],
             [
              0.2222222222222222,
              "#7201a8"
             ],
             [
              0.3333333333333333,
              "#9c179e"
             ],
             [
              0.4444444444444444,
              "#bd3786"
             ],
             [
              0.5555555555555556,
              "#d8576b"
             ],
             [
              0.6666666666666666,
              "#ed7953"
             ],
             [
              0.7777777777777778,
              "#fb9f3a"
             ],
             [
              0.8888888888888888,
              "#fdca26"
             ],
             [
              1,
              "#f0f921"
             ]
            ],
            "type": "heatmapgl"
           }
          ],
          "histogram": [
           {
            "marker": {
             "pattern": {
              "fillmode": "overlay",
              "size": 10,
              "solidity": 0.2
             }
            },
            "type": "histogram"
           }
          ],
          "histogram2d": [
           {
            "colorbar": {
             "outlinewidth": 0,
             "ticks": ""
            },
            "colorscale": [
             [
              0,
              "#0d0887"
             ],
             [
              0.1111111111111111,
              "#46039f"
             ],
             [
              0.2222222222222222,
              "#7201a8"
             ],
             [
              0.3333333333333333,
              "#9c179e"
             ],
             [
              0.4444444444444444,
              "#bd3786"
             ],
             [
              0.5555555555555556,
              "#d8576b"
             ],
             [
              0.6666666666666666,
              "#ed7953"
             ],
             [
              0.7777777777777778,
              "#fb9f3a"
             ],
             [
              0.8888888888888888,
              "#fdca26"
             ],
             [
              1,
              "#f0f921"
             ]
            ],
            "type": "histogram2d"
           }
          ],
          "histogram2dcontour": [
           {
            "colorbar": {
             "outlinewidth": 0,
             "ticks": ""
            },
            "colorscale": [
             [
              0,
              "#0d0887"
             ],
             [
              0.1111111111111111,
              "#46039f"
             ],
             [
              0.2222222222222222,
              "#7201a8"
             ],
             [
              0.3333333333333333,
              "#9c179e"
             ],
             [
              0.4444444444444444,
              "#bd3786"
             ],
             [
              0.5555555555555556,
              "#d8576b"
             ],
             [
              0.6666666666666666,
              "#ed7953"
             ],
             [
              0.7777777777777778,
              "#fb9f3a"
             ],
             [
              0.8888888888888888,
              "#fdca26"
             ],
             [
              1,
              "#f0f921"
             ]
            ],
            "type": "histogram2dcontour"
           }
          ],
          "mesh3d": [
           {
            "colorbar": {
             "outlinewidth": 0,
             "ticks": ""
            },
            "type": "mesh3d"
           }
          ],
          "parcoords": [
           {
            "line": {
             "colorbar": {
              "outlinewidth": 0,
              "ticks": ""
             }
            },
            "type": "parcoords"
           }
          ],
          "pie": [
           {
            "automargin": true,
            "type": "pie"
           }
          ],
          "scatter": [
           {
            "fillpattern": {
             "fillmode": "overlay",
             "size": 10,
             "solidity": 0.2
            },
            "type": "scatter"
           }
          ],
          "scatter3d": [
           {
            "line": {
             "colorbar": {
              "outlinewidth": 0,
              "ticks": ""
             }
            },
            "marker": {
             "colorbar": {
              "outlinewidth": 0,
              "ticks": ""
             }
            },
            "type": "scatter3d"
           }
          ],
          "scattercarpet": [
           {
            "marker": {
             "colorbar": {
              "outlinewidth": 0,
              "ticks": ""
             }
            },
            "type": "scattercarpet"
           }
          ],
          "scattergeo": [
           {
            "marker": {
             "colorbar": {
              "outlinewidth": 0,
              "ticks": ""
             }
            },
            "type": "scattergeo"
           }
          ],
          "scattergl": [
           {
            "marker": {
             "colorbar": {
              "outlinewidth": 0,
              "ticks": ""
             }
            },
            "type": "scattergl"
           }
          ],
          "scattermapbox": [
           {
            "marker": {
             "colorbar": {
              "outlinewidth": 0,
              "ticks": ""
             }
            },
            "type": "scattermapbox"
           }
          ],
          "scatterpolar": [
           {
            "marker": {
             "colorbar": {
              "outlinewidth": 0,
              "ticks": ""
             }
            },
            "type": "scatterpolar"
           }
          ],
          "scatterpolargl": [
           {
            "marker": {
             "colorbar": {
              "outlinewidth": 0,
              "ticks": ""
             }
            },
            "type": "scatterpolargl"
           }
          ],
          "scatterternary": [
           {
            "marker": {
             "colorbar": {
              "outlinewidth": 0,
              "ticks": ""
             }
            },
            "type": "scatterternary"
           }
          ],
          "surface": [
           {
            "colorbar": {
             "outlinewidth": 0,
             "ticks": ""
            },
            "colorscale": [
             [
              0,
              "#0d0887"
             ],
             [
              0.1111111111111111,
              "#46039f"
             ],
             [
              0.2222222222222222,
              "#7201a8"
             ],
             [
              0.3333333333333333,
              "#9c179e"
             ],
             [
              0.4444444444444444,
              "#bd3786"
             ],
             [
              0.5555555555555556,
              "#d8576b"
             ],
             [
              0.6666666666666666,
              "#ed7953"
             ],
             [
              0.7777777777777778,
              "#fb9f3a"
             ],
             [
              0.8888888888888888,
              "#fdca26"
             ],
             [
              1,
              "#f0f921"
             ]
            ],
            "type": "surface"
           }
          ],
          "table": [
           {
            "cells": {
             "fill": {
              "color": "#EBF0F8"
             },
             "line": {
              "color": "white"
             }
            },
            "header": {
             "fill": {
              "color": "#C8D4E3"
             },
             "line": {
              "color": "white"
             }
            },
            "type": "table"
           }
          ]
         },
         "layout": {
          "annotationdefaults": {
           "arrowcolor": "#2a3f5f",
           "arrowhead": 0,
           "arrowwidth": 1
          },
          "autotypenumbers": "strict",
          "coloraxis": {
           "colorbar": {
            "outlinewidth": 0,
            "ticks": ""
           }
          },
          "colorscale": {
           "diverging": [
            [
             0,
             "#8e0152"
            ],
            [
             0.1,
             "#c51b7d"
            ],
            [
             0.2,
             "#de77ae"
            ],
            [
             0.3,
             "#f1b6da"
            ],
            [
             0.4,
             "#fde0ef"
            ],
            [
             0.5,
             "#f7f7f7"
            ],
            [
             0.6,
             "#e6f5d0"
            ],
            [
             0.7,
             "#b8e186"
            ],
            [
             0.8,
             "#7fbc41"
            ],
            [
             0.9,
             "#4d9221"
            ],
            [
             1,
             "#276419"
            ]
           ],
           "sequential": [
            [
             0,
             "#0d0887"
            ],
            [
             0.1111111111111111,
             "#46039f"
            ],
            [
             0.2222222222222222,
             "#7201a8"
            ],
            [
             0.3333333333333333,
             "#9c179e"
            ],
            [
             0.4444444444444444,
             "#bd3786"
            ],
            [
             0.5555555555555556,
             "#d8576b"
            ],
            [
             0.6666666666666666,
             "#ed7953"
            ],
            [
             0.7777777777777778,
             "#fb9f3a"
            ],
            [
             0.8888888888888888,
             "#fdca26"
            ],
            [
             1,
             "#f0f921"
            ]
           ],
           "sequentialminus": [
            [
             0,
             "#0d0887"
            ],
            [
             0.1111111111111111,
             "#46039f"
            ],
            [
             0.2222222222222222,
             "#7201a8"
            ],
            [
             0.3333333333333333,
             "#9c179e"
            ],
            [
             0.4444444444444444,
             "#bd3786"
            ],
            [
             0.5555555555555556,
             "#d8576b"
            ],
            [
             0.6666666666666666,
             "#ed7953"
            ],
            [
             0.7777777777777778,
             "#fb9f3a"
            ],
            [
             0.8888888888888888,
             "#fdca26"
            ],
            [
             1,
             "#f0f921"
            ]
           ]
          },
          "colorway": [
           "#636efa",
           "#EF553B",
           "#00cc96",
           "#ab63fa",
           "#FFA15A",
           "#19d3f3",
           "#FF6692",
           "#B6E880",
           "#FF97FF",
           "#FECB52"
          ],
          "font": {
           "color": "#2a3f5f"
          },
          "geo": {
           "bgcolor": "white",
           "lakecolor": "white",
           "landcolor": "#E5ECF6",
           "showlakes": true,
           "showland": true,
           "subunitcolor": "white"
          },
          "hoverlabel": {
           "align": "left"
          },
          "hovermode": "closest",
          "mapbox": {
           "style": "light"
          },
          "paper_bgcolor": "white",
          "plot_bgcolor": "#E5ECF6",
          "polar": {
           "angularaxis": {
            "gridcolor": "white",
            "linecolor": "white",
            "ticks": ""
           },
           "bgcolor": "#E5ECF6",
           "radialaxis": {
            "gridcolor": "white",
            "linecolor": "white",
            "ticks": ""
           }
          },
          "scene": {
           "xaxis": {
            "backgroundcolor": "#E5ECF6",
            "gridcolor": "white",
            "gridwidth": 2,
            "linecolor": "white",
            "showbackground": true,
            "ticks": "",
            "zerolinecolor": "white"
           },
           "yaxis": {
            "backgroundcolor": "#E5ECF6",
            "gridcolor": "white",
            "gridwidth": 2,
            "linecolor": "white",
            "showbackground": true,
            "ticks": "",
            "zerolinecolor": "white"
           },
           "zaxis": {
            "backgroundcolor": "#E5ECF6",
            "gridcolor": "white",
            "gridwidth": 2,
            "linecolor": "white",
            "showbackground": true,
            "ticks": "",
            "zerolinecolor": "white"
           }
          },
          "shapedefaults": {
           "line": {
            "color": "#2a3f5f"
           }
          },
          "ternary": {
           "aaxis": {
            "gridcolor": "white",
            "linecolor": "white",
            "ticks": ""
           },
           "baxis": {
            "gridcolor": "white",
            "linecolor": "white",
            "ticks": ""
           },
           "bgcolor": "#E5ECF6",
           "caxis": {
            "gridcolor": "white",
            "linecolor": "white",
            "ticks": ""
           }
          },
          "title": {
           "x": 0.05
          },
          "xaxis": {
           "automargin": true,
           "gridcolor": "white",
           "linecolor": "white",
           "ticks": "",
           "title": {
            "standoff": 15
           },
           "zerolinecolor": "white",
           "zerolinewidth": 2
          },
          "yaxis": {
           "automargin": true,
           "gridcolor": "white",
           "linecolor": "white",
           "ticks": "",
           "title": {
            "standoff": 15
           },
           "zerolinecolor": "white",
           "zerolinewidth": 2
          }
         }
        },
        "title": {
         "text": "FFT"
        },
        "width": 1200,
        "xaxis": {
         "title": {
          "text": "Number of experiments"
         }
        },
        "yaxis": {
         "range": [
          0,
          1
         ],
         "title": {
          "text": "Accuracy (best estimator only)"
         }
        }
       }
      }
     },
     "metadata": {},
     "output_type": "display_data"
    }
   ],
   "source": [
    "df = results.copy()\n",
    "df = filter_domain_fft_only(df)\n",
    "df = filter_features_all(df)\n",
    "df = filter_reducer_over_all(df)\n",
    "df = filter_scaler_none(df)\n",
    "df = filter_view_standardized_inter_balanced(df)\n",
    "# df = pd.concat([filter_only_reducer_dataset_diferent_from_train(df), filter_only_reducer_dataset_equals_train_dataset(df)])\n",
    "df = filter_only_reducer_dataset_diferent_from_train(df)\n",
    "df = filter_same_train_test(df)\n",
    "df = best_of_each_estimator(df)\n",
    "\n",
    "marker_colors = list(itertools.product(markers, colors))\n",
    "\n",
    "fig = go.Figure()\n",
    "\n",
    "for i, n_components in enumerate(sorted(df[\"umap components\"].unique())):\n",
    "    df_comp = df[df[\"umap components\"] == n_components]\n",
    "    # df_comp = best_of_each_estimator(df_comp)\n",
    "    df_comp.sort_values(by=\"accuracy (mean)\", inplace=True)\n",
    "    fig.add_trace(\n",
    "        go.Scatter(\n",
    "            x=list(range(len(df_comp))),\n",
    "            y=df_comp[\"accuracy (mean)\"],\n",
    "            name=f\"UMAP {n_components} components\",\n",
    "            mode=\"lines+markers\",\n",
    "            marker=dict(\n",
    "                color=marker_colors[i][1],\n",
    "                symbol=marker_colors[i][0],\n",
    "                size=7,\n",
    "            ),\n",
    "        )\n",
    "    )\n",
    "\n",
    "fig.update_layout(\n",
    "    title=\"FFT\",\n",
    "    xaxis_title=\"Number of experiments\",\n",
    "    yaxis_title=\"Accuracy (best estimator only)\",\n",
    "    legend_title=\"UMAP Components\",\n",
    "    width=1200,\n",
    "    height=600,\n",
    "    yaxis=dict(range=[0, 1]),\n",
    "    # xaxis=dict(tickmode=\"linear\")\n",
    ")\n",
    "fig.show()"
   ]
  },
  {
   "cell_type": "code",
   "execution_count": 25,
   "metadata": {},
   "outputs": [
    {
     "name": "stderr",
     "output_type": "stream",
     "text": [
      "/tmp/ipykernel_490130/2338358819.py:19: SettingWithCopyWarning:\n",
      "\n",
      "\n",
      "A value is trying to be set on a copy of a slice from a DataFrame\n",
      "\n",
      "See the caveats in the documentation: https://pandas.pydata.org/pandas-docs/stable/user_guide/indexing.html#returning-a-view-versus-a-copy\n",
      "\n"
     ]
    },
    {
     "data": {
      "application/vnd.plotly.v1+json": {
       "config": {
        "plotlyServerURL": "https://plot.ly"
       },
       "data": [
        {
         "marker": {
          "color": "#636EFA",
          "size": 7,
          "symbol": "circle"
         },
         "mode": "lines+markers",
         "name": "UMAP 2 components",
         "type": "scatter",
         "x": [
          0,
          1,
          2,
          3,
          4,
          5,
          6,
          7,
          8,
          9,
          10,
          11,
          12,
          13,
          14,
          15,
          16,
          17,
          18,
          19,
          20,
          21,
          22,
          23,
          24,
          25,
          26,
          27,
          28,
          29,
          30,
          31,
          32,
          33,
          34,
          35
         ],
         "y": [
          0.4027777777777778,
          0.4333333333333334,
          0.4416666666666666,
          0.45,
          0.4534722222222222,
          0.4583333333333333,
          0.4638888888888889,
          0.4666666666666667,
          0.4722222222222222,
          0.4758333333333333,
          0.4777777777777777,
          0.4791666666666667,
          0.4833333333333333,
          0.4891666666666666,
          0.5,
          0.5,
          0.5,
          0.5277777777777778,
          0.5277777777777778,
          0.5333333333333333,
          0.5333333333333333,
          0.5374999999999999,
          0.5391666666666666,
          0.5416666666666667,
          0.5416666666666667,
          0.5416666666666667,
          0.5493055555555555,
          0.55,
          0.5694444444444444,
          0.575,
          0.579861111111111,
          0.5858333333333332,
          0.6166666666666667,
          0.6784722222222223,
          0.7152777777777778,
          0.7402777777777778
         ]
        },
        {
         "marker": {
          "color": "#00CC96",
          "size": 7,
          "symbol": "circle"
         },
         "mode": "lines+markers",
         "name": "UMAP 3 components",
         "type": "scatter",
         "x": [
          0,
          1,
          2,
          3,
          4,
          5,
          6,
          7,
          8,
          9,
          10,
          11,
          12,
          13,
          14,
          15,
          16,
          17,
          18,
          19,
          20,
          21,
          22,
          23,
          24,
          25,
          26,
          27,
          28,
          29,
          30,
          31,
          32,
          33,
          34,
          35
         ],
         "y": [
          0.4027777777777778,
          0.4513888888888889,
          0.4583333333333333,
          0.4722222222222222,
          0.475,
          0.486111111111111,
          0.5006944444444444,
          0.5083333333333332,
          0.5091666666666665,
          0.5250000000000001,
          0.5291666666666667,
          0.53125,
          0.535,
          0.5374999999999999,
          0.5391666666666668,
          0.5433333333333333,
          0.5525,
          0.5583333333333333,
          0.5583333333333333,
          0.5666666666666667,
          0.5694444444444444,
          0.5715277777777777,
          0.575,
          0.575,
          0.5861111111111111,
          0.5902777777777778,
          0.5999999999999999,
          0.6000000000000001,
          0.6006944444444444,
          0.6041666666666667,
          0.6166666666666667,
          0.6166666666666668,
          0.6166666666666668,
          0.7465277777777779,
          0.75,
          0.79375
         ]
        },
        {
         "marker": {
          "color": "#AB63FA",
          "size": 7,
          "symbol": "circle"
         },
         "mode": "lines+markers",
         "name": "UMAP 4 components",
         "type": "scatter",
         "x": [
          0,
          1,
          2,
          3,
          4,
          5,
          6,
          7,
          8,
          9,
          10,
          11,
          12,
          13,
          14,
          15,
          16,
          17,
          18,
          19,
          20,
          21,
          22,
          23,
          24,
          25,
          26,
          27,
          28,
          29,
          30,
          31,
          32,
          33,
          34,
          35
         ],
         "y": [
          0.45,
          0.4683333333333332,
          0.486111111111111,
          0.4874999999999999,
          0.4883333333333333,
          0.4993055555555555,
          0.5,
          0.5201388888888888,
          0.5250000000000001,
          0.5399999999999999,
          0.5416666666666667,
          0.5416666666666667,
          0.5441666666666667,
          0.55,
          0.5583333333333333,
          0.5591666666666668,
          0.5638888888888889,
          0.5666666666666667,
          0.5701388888888889,
          0.575,
          0.575,
          0.5756944444444444,
          0.5874999999999999,
          0.5902777777777778,
          0.5916666666666667,
          0.5916666666666667,
          0.6159722222222224,
          0.6166666666666668,
          0.617361111111111,
          0.6174999999999999,
          0.625,
          0.6520833333333333,
          0.6770833333333334,
          0.7486111111111111,
          0.7743055555555556,
          0.8493055555555555
         ]
        },
        {
         "marker": {
          "color": "#FFA15A",
          "size": 7,
          "symbol": "circle"
         },
         "mode": "lines+markers",
         "name": "UMAP 5 components",
         "type": "scatter",
         "x": [
          0,
          1,
          2,
          3,
          4,
          5,
          6,
          7,
          8,
          9,
          10,
          11,
          12,
          13,
          14,
          15,
          16,
          17,
          18,
          19,
          20,
          21,
          22,
          23,
          24,
          25,
          26,
          27,
          28,
          29,
          30,
          31,
          32,
          33,
          34,
          35
         ],
         "y": [
          0.4333333333333334,
          0.4583333333333333,
          0.4868055555555555,
          0.4930555555555555,
          0.5125,
          0.513888888888889,
          0.5250000000000001,
          0.5333333333333333,
          0.5408333333333333,
          0.5527777777777778,
          0.5608333333333333,
          0.5680555555555555,
          0.5725,
          0.5733333333333333,
          0.5777777777777778,
          0.58,
          0.5833333333333333,
          0.5972222222222222,
          0.6034722222222223,
          0.6083333333333333,
          0.6083333333333333,
          0.6083333333333334,
          0.6091666666666666,
          0.6118055555555555,
          0.6166666666666668,
          0.6224999999999999,
          0.6340277777777777,
          0.638888888888889,
          0.6500000000000001,
          0.6516666666666666,
          0.6527777777777778,
          0.6659722222222222,
          0.673611111111111,
          0.7597222222222222,
          0.8125,
          0.8131944444444444
         ]
        },
        {
         "marker": {
          "color": "#19D3F3",
          "size": 7,
          "symbol": "circle"
         },
         "mode": "lines+markers",
         "name": "UMAP 6 components",
         "type": "scatter",
         "x": [
          0,
          1,
          2,
          3,
          4,
          5,
          6,
          7,
          8,
          9,
          10,
          11,
          12,
          13,
          14,
          15,
          16,
          17,
          18,
          19,
          20,
          21,
          22,
          23,
          24,
          25,
          26,
          27,
          28,
          29,
          30,
          31,
          32,
          33,
          34,
          35
         ],
         "y": [
          0.4708333333333333,
          0.4916666666666666,
          0.5166666666666666,
          0.5173611111111112,
          0.5250000000000001,
          0.5284722222222223,
          0.5340277777777778,
          0.5425,
          0.548611111111111,
          0.5527777777777778,
          0.5633333333333332,
          0.5666666666666667,
          0.5666666666666667,
          0.5700000000000001,
          0.570138888888889,
          0.5716666666666665,
          0.5733333333333333,
          0.575,
          0.575,
          0.576388888888889,
          0.5858333333333332,
          0.5991666666666666,
          0.6083333333333333,
          0.611111111111111,
          0.6166666666666668,
          0.6191666666666666,
          0.63,
          0.638888888888889,
          0.6416666666666667,
          0.6597222222222222,
          0.6666666666666667,
          0.6770833333333333,
          0.6833333333333333,
          0.7916666666666667,
          0.820138888888889,
          0.8465277777777777
         ]
        },
        {
         "marker": {
          "color": "#FF6692",
          "size": 7,
          "symbol": "circle"
         },
         "mode": "lines+markers",
         "name": "UMAP 7 components",
         "type": "scatter",
         "x": [
          0,
          1,
          2,
          3,
          4,
          5,
          6,
          7,
          8,
          9,
          10,
          11,
          12,
          13,
          14,
          15,
          16,
          17,
          18,
          19,
          20,
          21,
          22,
          23,
          24,
          25,
          26,
          27,
          28,
          29,
          30,
          31,
          32,
          33,
          34,
          35
         ],
         "y": [
          0.4833333333333333,
          0.4930555555555555,
          0.5,
          0.513888888888889,
          0.5319444444444443,
          0.5425000000000001,
          0.5534722222222224,
          0.5583333333333333,
          0.5708333333333334,
          0.5733333333333334,
          0.5736111111111111,
          0.5833333333333333,
          0.585,
          0.5902777777777778,
          0.5916666666666667,
          0.59375,
          0.5974999999999999,
          0.6055555555555555,
          0.6066666666666667,
          0.6083333333333333,
          0.6100000000000001,
          0.611111111111111,
          0.6116666666666667,
          0.6131944444444445,
          0.615,
          0.6174999999999999,
          0.6194444444444445,
          0.625,
          0.6275000000000001,
          0.6416666666666667,
          0.6493055555555556,
          0.6583333333333333,
          0.6875,
          0.75625,
          0.8111111111111111,
          0.8243055555555555
         ]
        },
        {
         "marker": {
          "color": "#B6E880",
          "size": 7,
          "symbol": "circle"
         },
         "mode": "lines+markers",
         "name": "UMAP 8 components",
         "type": "scatter",
         "x": [
          0,
          1,
          2,
          3,
          4,
          5,
          6,
          7,
          8,
          9,
          10,
          11,
          12,
          13,
          14,
          15,
          16,
          17,
          18,
          19,
          20,
          21,
          22,
          23,
          24,
          25,
          26,
          27,
          28,
          29,
          30,
          31,
          32,
          33,
          34,
          35
         ],
         "y": [
          0.4783333333333333,
          0.5,
          0.5166666666666667,
          0.5236111111111111,
          0.5256944444444444,
          0.5270833333333333,
          0.5555555555555556,
          0.5625,
          0.5694444444444444,
          0.5708333333333333,
          0.5716666666666667,
          0.5725,
          0.5841666666666666,
          0.5866666666666667,
          0.5916666666666667,
          0.5991666666666666,
          0.5999999999999999,
          0.5999999999999999,
          0.6083333333333333,
          0.6108333333333333,
          0.611111111111111,
          0.6141666666666666,
          0.6166666666666668,
          0.6166666666666668,
          0.6191666666666665,
          0.6236111111111111,
          0.6263888888888889,
          0.6270833333333332,
          0.6381944444444445,
          0.6416666666666667,
          0.6527777777777778,
          0.6652777777777779,
          0.7069444444444445,
          0.7840277777777778,
          0.8194444444444444,
          0.826388888888889
         ]
        },
        {
         "marker": {
          "color": "#FF97FF",
          "size": 7,
          "symbol": "circle"
         },
         "mode": "lines+markers",
         "name": "UMAP 9 components",
         "type": "scatter",
         "x": [
          0,
          1,
          2,
          3,
          4,
          5,
          6,
          7,
          8,
          9,
          10,
          11,
          12,
          13,
          14,
          15,
          16,
          17,
          18,
          19,
          20,
          21,
          22,
          23,
          24,
          25,
          26,
          27,
          28,
          29,
          30,
          31,
          32,
          33,
          34,
          35
         ],
         "y": [
          0.4833333333333333,
          0.4833333333333333,
          0.5006944444444444,
          0.5069444444444444,
          0.5402777777777777,
          0.5513888888888889,
          0.5597222222222222,
          0.5633333333333332,
          0.5680555555555554,
          0.5833333333333333,
          0.5891666666666666,
          0.5895833333333333,
          0.5999999999999999,
          0.6024999999999999,
          0.605,
          0.6058333333333332,
          0.6083333333333333,
          0.6116666666666667,
          0.6133333333333334,
          0.6152777777777778,
          0.6180555555555556,
          0.6277777777777778,
          0.6333333333333332,
          0.6333333333333334,
          0.6416666666666667,
          0.6425000000000001,
          0.6430555555555555,
          0.6449999999999999,
          0.6466666666666666,
          0.6479166666666666,
          0.6527777777777778,
          0.670138888888889,
          0.6875,
          0.7951388888888888,
          0.8013888888888889,
          0.8409722222222221
         ]
        },
        {
         "marker": {
          "color": "#FECB52",
          "size": 7,
          "symbol": "circle"
         },
         "mode": "lines+markers",
         "name": "UMAP 10 components",
         "type": "scatter",
         "x": [
          0,
          1,
          2,
          3,
          4,
          5,
          6,
          7,
          8,
          9,
          10,
          11,
          12,
          13,
          14,
          15,
          16,
          17,
          18,
          19,
          20,
          21,
          22,
          23,
          24,
          25,
          26,
          27,
          28,
          29,
          30,
          31,
          32,
          33,
          34,
          35
         ],
         "y": [
          0.4916666666666666,
          0.5027777777777779,
          0.5236111111111111,
          0.5402777777777777,
          0.5408333333333335,
          0.5590277777777778,
          0.5666666666666667,
          0.5770833333333333,
          0.5826388888888889,
          0.5908333333333333,
          0.5944444444444443,
          0.5966666666666666,
          0.5999999999999999,
          0.6,
          0.6033333333333333,
          0.6041666666666666,
          0.6041666666666667,
          0.6083333333333332,
          0.6124999999999999,
          0.6152777777777778,
          0.6194444444444444,
          0.6208333333333333,
          0.6216666666666667,
          0.6216666666666667,
          0.625,
          0.6258333333333332,
          0.6319444444444444,
          0.635,
          0.6416666666666667,
          0.6458333333333333,
          0.6491666666666667,
          0.6722222222222223,
          0.6930555555555555,
          0.8020833333333334,
          0.8381944444444445,
          0.8479166666666667
         ]
        },
        {
         "marker": {
          "color": "#EF553B",
          "size": 7,
          "symbol": "circle"
         },
         "mode": "lines+markers",
         "name": "UMAP 15 components",
         "type": "scatter",
         "x": [
          0,
          1,
          2,
          3,
          4,
          5,
          6,
          7,
          8,
          9,
          10,
          11,
          12,
          13,
          14,
          15,
          16,
          17,
          18,
          19,
          20,
          21,
          22,
          23,
          24,
          25,
          26,
          27,
          28,
          29,
          30,
          31,
          32,
          33,
          34,
          35
         ],
         "y": [
          0.4583333333333333,
          0.5041666666666667,
          0.5125,
          0.5381944444444444,
          0.5423611111111111,
          0.55,
          0.5658333333333333,
          0.5666666666666667,
          0.5741666666666666,
          0.5791666666666667,
          0.5833333333333333,
          0.5858333333333334,
          0.5933333333333333,
          0.5941666666666666,
          0.6041666666666667,
          0.6050000000000001,
          0.6125,
          0.6158333333333333,
          0.6183333333333334,
          0.625,
          0.6283333333333333,
          0.6298611111111111,
          0.6312500000000001,
          0.6325000000000001,
          0.6333333333333332,
          0.6333333333333332,
          0.6375,
          0.638888888888889,
          0.6558333333333333,
          0.6631944444444444,
          0.6680555555555555,
          0.6840277777777778,
          0.701388888888889,
          0.7819444444444444,
          0.8229166666666666,
          0.8319444444444445
         ]
        },
        {
         "marker": {
          "color": "#636EFA",
          "size": 7,
          "symbol": "square"
         },
         "mode": "lines+markers",
         "name": "UMAP 20 components",
         "type": "scatter",
         "x": [
          0,
          1,
          2,
          3,
          4,
          5,
          6,
          7,
          8,
          9,
          10,
          11,
          12,
          13,
          14,
          15,
          16,
          17,
          18,
          19,
          20,
          21,
          22,
          23,
          24,
          25,
          26,
          27,
          28,
          29,
          30,
          31,
          32,
          33,
          34,
          35
         ],
         "y": [
          0.4891666666666666,
          0.5083333333333332,
          0.5208333333333333,
          0.5249999999999999,
          0.554861111111111,
          0.5652777777777779,
          0.5659722222222223,
          0.5683333333333332,
          0.5694444444444444,
          0.5791666666666666,
          0.5866666666666667,
          0.5944444444444444,
          0.6091666666666666,
          0.6091666666666666,
          0.6100000000000001,
          0.6108333333333332,
          0.6149999999999999,
          0.6166666666666668,
          0.6174999999999999,
          0.625,
          0.6291666666666667,
          0.6316666666666666,
          0.6333333333333333,
          0.6375,
          0.6381944444444445,
          0.6451388888888888,
          0.6458333333333333,
          0.6479166666666667,
          0.6500000000000001,
          0.6527777777777778,
          0.655,
          0.6944444444444444,
          0.7034722222222222,
          0.8020833333333333,
          0.8277777777777778,
          0.8465277777777779
         ]
        }
       ],
       "layout": {
        "height": 600,
        "legend": {
         "title": {
          "text": "UMAP Components"
         }
        },
        "template": {
         "data": {
          "bar": [
           {
            "error_x": {
             "color": "#2a3f5f"
            },
            "error_y": {
             "color": "#2a3f5f"
            },
            "marker": {
             "line": {
              "color": "#E5ECF6",
              "width": 0.5
             },
             "pattern": {
              "fillmode": "overlay",
              "size": 10,
              "solidity": 0.2
             }
            },
            "type": "bar"
           }
          ],
          "barpolar": [
           {
            "marker": {
             "line": {
              "color": "#E5ECF6",
              "width": 0.5
             },
             "pattern": {
              "fillmode": "overlay",
              "size": 10,
              "solidity": 0.2
             }
            },
            "type": "barpolar"
           }
          ],
          "carpet": [
           {
            "aaxis": {
             "endlinecolor": "#2a3f5f",
             "gridcolor": "white",
             "linecolor": "white",
             "minorgridcolor": "white",
             "startlinecolor": "#2a3f5f"
            },
            "baxis": {
             "endlinecolor": "#2a3f5f",
             "gridcolor": "white",
             "linecolor": "white",
             "minorgridcolor": "white",
             "startlinecolor": "#2a3f5f"
            },
            "type": "carpet"
           }
          ],
          "choropleth": [
           {
            "colorbar": {
             "outlinewidth": 0,
             "ticks": ""
            },
            "type": "choropleth"
           }
          ],
          "contour": [
           {
            "colorbar": {
             "outlinewidth": 0,
             "ticks": ""
            },
            "colorscale": [
             [
              0,
              "#0d0887"
             ],
             [
              0.1111111111111111,
              "#46039f"
             ],
             [
              0.2222222222222222,
              "#7201a8"
             ],
             [
              0.3333333333333333,
              "#9c179e"
             ],
             [
              0.4444444444444444,
              "#bd3786"
             ],
             [
              0.5555555555555556,
              "#d8576b"
             ],
             [
              0.6666666666666666,
              "#ed7953"
             ],
             [
              0.7777777777777778,
              "#fb9f3a"
             ],
             [
              0.8888888888888888,
              "#fdca26"
             ],
             [
              1,
              "#f0f921"
             ]
            ],
            "type": "contour"
           }
          ],
          "contourcarpet": [
           {
            "colorbar": {
             "outlinewidth": 0,
             "ticks": ""
            },
            "type": "contourcarpet"
           }
          ],
          "heatmap": [
           {
            "colorbar": {
             "outlinewidth": 0,
             "ticks": ""
            },
            "colorscale": [
             [
              0,
              "#0d0887"
             ],
             [
              0.1111111111111111,
              "#46039f"
             ],
             [
              0.2222222222222222,
              "#7201a8"
             ],
             [
              0.3333333333333333,
              "#9c179e"
             ],
             [
              0.4444444444444444,
              "#bd3786"
             ],
             [
              0.5555555555555556,
              "#d8576b"
             ],
             [
              0.6666666666666666,
              "#ed7953"
             ],
             [
              0.7777777777777778,
              "#fb9f3a"
             ],
             [
              0.8888888888888888,
              "#fdca26"
             ],
             [
              1,
              "#f0f921"
             ]
            ],
            "type": "heatmap"
           }
          ],
          "heatmapgl": [
           {
            "colorbar": {
             "outlinewidth": 0,
             "ticks": ""
            },
            "colorscale": [
             [
              0,
              "#0d0887"
             ],
             [
              0.1111111111111111,
              "#46039f"
             ],
             [
              0.2222222222222222,
              "#7201a8"
             ],
             [
              0.3333333333333333,
              "#9c179e"
             ],
             [
              0.4444444444444444,
              "#bd3786"
             ],
             [
              0.5555555555555556,
              "#d8576b"
             ],
             [
              0.6666666666666666,
              "#ed7953"
             ],
             [
              0.7777777777777778,
              "#fb9f3a"
             ],
             [
              0.8888888888888888,
              "#fdca26"
             ],
             [
              1,
              "#f0f921"
             ]
            ],
            "type": "heatmapgl"
           }
          ],
          "histogram": [
           {
            "marker": {
             "pattern": {
              "fillmode": "overlay",
              "size": 10,
              "solidity": 0.2
             }
            },
            "type": "histogram"
           }
          ],
          "histogram2d": [
           {
            "colorbar": {
             "outlinewidth": 0,
             "ticks": ""
            },
            "colorscale": [
             [
              0,
              "#0d0887"
             ],
             [
              0.1111111111111111,
              "#46039f"
             ],
             [
              0.2222222222222222,
              "#7201a8"
             ],
             [
              0.3333333333333333,
              "#9c179e"
             ],
             [
              0.4444444444444444,
              "#bd3786"
             ],
             [
              0.5555555555555556,
              "#d8576b"
             ],
             [
              0.6666666666666666,
              "#ed7953"
             ],
             [
              0.7777777777777778,
              "#fb9f3a"
             ],
             [
              0.8888888888888888,
              "#fdca26"
             ],
             [
              1,
              "#f0f921"
             ]
            ],
            "type": "histogram2d"
           }
          ],
          "histogram2dcontour": [
           {
            "colorbar": {
             "outlinewidth": 0,
             "ticks": ""
            },
            "colorscale": [
             [
              0,
              "#0d0887"
             ],
             [
              0.1111111111111111,
              "#46039f"
             ],
             [
              0.2222222222222222,
              "#7201a8"
             ],
             [
              0.3333333333333333,
              "#9c179e"
             ],
             [
              0.4444444444444444,
              "#bd3786"
             ],
             [
              0.5555555555555556,
              "#d8576b"
             ],
             [
              0.6666666666666666,
              "#ed7953"
             ],
             [
              0.7777777777777778,
              "#fb9f3a"
             ],
             [
              0.8888888888888888,
              "#fdca26"
             ],
             [
              1,
              "#f0f921"
             ]
            ],
            "type": "histogram2dcontour"
           }
          ],
          "mesh3d": [
           {
            "colorbar": {
             "outlinewidth": 0,
             "ticks": ""
            },
            "type": "mesh3d"
           }
          ],
          "parcoords": [
           {
            "line": {
             "colorbar": {
              "outlinewidth": 0,
              "ticks": ""
             }
            },
            "type": "parcoords"
           }
          ],
          "pie": [
           {
            "automargin": true,
            "type": "pie"
           }
          ],
          "scatter": [
           {
            "fillpattern": {
             "fillmode": "overlay",
             "size": 10,
             "solidity": 0.2
            },
            "type": "scatter"
           }
          ],
          "scatter3d": [
           {
            "line": {
             "colorbar": {
              "outlinewidth": 0,
              "ticks": ""
             }
            },
            "marker": {
             "colorbar": {
              "outlinewidth": 0,
              "ticks": ""
             }
            },
            "type": "scatter3d"
           }
          ],
          "scattercarpet": [
           {
            "marker": {
             "colorbar": {
              "outlinewidth": 0,
              "ticks": ""
             }
            },
            "type": "scattercarpet"
           }
          ],
          "scattergeo": [
           {
            "marker": {
             "colorbar": {
              "outlinewidth": 0,
              "ticks": ""
             }
            },
            "type": "scattergeo"
           }
          ],
          "scattergl": [
           {
            "marker": {
             "colorbar": {
              "outlinewidth": 0,
              "ticks": ""
             }
            },
            "type": "scattergl"
           }
          ],
          "scattermapbox": [
           {
            "marker": {
             "colorbar": {
              "outlinewidth": 0,
              "ticks": ""
             }
            },
            "type": "scattermapbox"
           }
          ],
          "scatterpolar": [
           {
            "marker": {
             "colorbar": {
              "outlinewidth": 0,
              "ticks": ""
             }
            },
            "type": "scatterpolar"
           }
          ],
          "scatterpolargl": [
           {
            "marker": {
             "colorbar": {
              "outlinewidth": 0,
              "ticks": ""
             }
            },
            "type": "scatterpolargl"
           }
          ],
          "scatterternary": [
           {
            "marker": {
             "colorbar": {
              "outlinewidth": 0,
              "ticks": ""
             }
            },
            "type": "scatterternary"
           }
          ],
          "surface": [
           {
            "colorbar": {
             "outlinewidth": 0,
             "ticks": ""
            },
            "colorscale": [
             [
              0,
              "#0d0887"
             ],
             [
              0.1111111111111111,
              "#46039f"
             ],
             [
              0.2222222222222222,
              "#7201a8"
             ],
             [
              0.3333333333333333,
              "#9c179e"
             ],
             [
              0.4444444444444444,
              "#bd3786"
             ],
             [
              0.5555555555555556,
              "#d8576b"
             ],
             [
              0.6666666666666666,
              "#ed7953"
             ],
             [
              0.7777777777777778,
              "#fb9f3a"
             ],
             [
              0.8888888888888888,
              "#fdca26"
             ],
             [
              1,
              "#f0f921"
             ]
            ],
            "type": "surface"
           }
          ],
          "table": [
           {
            "cells": {
             "fill": {
              "color": "#EBF0F8"
             },
             "line": {
              "color": "white"
             }
            },
            "header": {
             "fill": {
              "color": "#C8D4E3"
             },
             "line": {
              "color": "white"
             }
            },
            "type": "table"
           }
          ]
         },
         "layout": {
          "annotationdefaults": {
           "arrowcolor": "#2a3f5f",
           "arrowhead": 0,
           "arrowwidth": 1
          },
          "autotypenumbers": "strict",
          "coloraxis": {
           "colorbar": {
            "outlinewidth": 0,
            "ticks": ""
           }
          },
          "colorscale": {
           "diverging": [
            [
             0,
             "#8e0152"
            ],
            [
             0.1,
             "#c51b7d"
            ],
            [
             0.2,
             "#de77ae"
            ],
            [
             0.3,
             "#f1b6da"
            ],
            [
             0.4,
             "#fde0ef"
            ],
            [
             0.5,
             "#f7f7f7"
            ],
            [
             0.6,
             "#e6f5d0"
            ],
            [
             0.7,
             "#b8e186"
            ],
            [
             0.8,
             "#7fbc41"
            ],
            [
             0.9,
             "#4d9221"
            ],
            [
             1,
             "#276419"
            ]
           ],
           "sequential": [
            [
             0,
             "#0d0887"
            ],
            [
             0.1111111111111111,
             "#46039f"
            ],
            [
             0.2222222222222222,
             "#7201a8"
            ],
            [
             0.3333333333333333,
             "#9c179e"
            ],
            [
             0.4444444444444444,
             "#bd3786"
            ],
            [
             0.5555555555555556,
             "#d8576b"
            ],
            [
             0.6666666666666666,
             "#ed7953"
            ],
            [
             0.7777777777777778,
             "#fb9f3a"
            ],
            [
             0.8888888888888888,
             "#fdca26"
            ],
            [
             1,
             "#f0f921"
            ]
           ],
           "sequentialminus": [
            [
             0,
             "#0d0887"
            ],
            [
             0.1111111111111111,
             "#46039f"
            ],
            [
             0.2222222222222222,
             "#7201a8"
            ],
            [
             0.3333333333333333,
             "#9c179e"
            ],
            [
             0.4444444444444444,
             "#bd3786"
            ],
            [
             0.5555555555555556,
             "#d8576b"
            ],
            [
             0.6666666666666666,
             "#ed7953"
            ],
            [
             0.7777777777777778,
             "#fb9f3a"
            ],
            [
             0.8888888888888888,
             "#fdca26"
            ],
            [
             1,
             "#f0f921"
            ]
           ]
          },
          "colorway": [
           "#636efa",
           "#EF553B",
           "#00cc96",
           "#ab63fa",
           "#FFA15A",
           "#19d3f3",
           "#FF6692",
           "#B6E880",
           "#FF97FF",
           "#FECB52"
          ],
          "font": {
           "color": "#2a3f5f"
          },
          "geo": {
           "bgcolor": "white",
           "lakecolor": "white",
           "landcolor": "#E5ECF6",
           "showlakes": true,
           "showland": true,
           "subunitcolor": "white"
          },
          "hoverlabel": {
           "align": "left"
          },
          "hovermode": "closest",
          "mapbox": {
           "style": "light"
          },
          "paper_bgcolor": "white",
          "plot_bgcolor": "#E5ECF6",
          "polar": {
           "angularaxis": {
            "gridcolor": "white",
            "linecolor": "white",
            "ticks": ""
           },
           "bgcolor": "#E5ECF6",
           "radialaxis": {
            "gridcolor": "white",
            "linecolor": "white",
            "ticks": ""
           }
          },
          "scene": {
           "xaxis": {
            "backgroundcolor": "#E5ECF6",
            "gridcolor": "white",
            "gridwidth": 2,
            "linecolor": "white",
            "showbackground": true,
            "ticks": "",
            "zerolinecolor": "white"
           },
           "yaxis": {
            "backgroundcolor": "#E5ECF6",
            "gridcolor": "white",
            "gridwidth": 2,
            "linecolor": "white",
            "showbackground": true,
            "ticks": "",
            "zerolinecolor": "white"
           },
           "zaxis": {
            "backgroundcolor": "#E5ECF6",
            "gridcolor": "white",
            "gridwidth": 2,
            "linecolor": "white",
            "showbackground": true,
            "ticks": "",
            "zerolinecolor": "white"
           }
          },
          "shapedefaults": {
           "line": {
            "color": "#2a3f5f"
           }
          },
          "ternary": {
           "aaxis": {
            "gridcolor": "white",
            "linecolor": "white",
            "ticks": ""
           },
           "baxis": {
            "gridcolor": "white",
            "linecolor": "white",
            "ticks": ""
           },
           "bgcolor": "#E5ECF6",
           "caxis": {
            "gridcolor": "white",
            "linecolor": "white",
            "ticks": ""
           }
          },
          "title": {
           "x": 0.05
          },
          "xaxis": {
           "automargin": true,
           "gridcolor": "white",
           "linecolor": "white",
           "ticks": "",
           "title": {
            "standoff": 15
           },
           "zerolinecolor": "white",
           "zerolinewidth": 2
          },
          "yaxis": {
           "automargin": true,
           "gridcolor": "white",
           "linecolor": "white",
           "ticks": "",
           "title": {
            "standoff": 15
           },
           "zerolinecolor": "white",
           "zerolinewidth": 2
          }
         }
        },
        "title": {
         "text": "Time"
        },
        "width": 1200,
        "xaxis": {
         "title": {
          "text": "Number of experiments"
         }
        },
        "yaxis": {
         "range": [
          0,
          1
         ],
         "title": {
          "text": "Accuracy (best estimator only)"
         }
        }
       }
      }
     },
     "metadata": {},
     "output_type": "display_data"
    }
   ],
   "source": [
    "df = results.copy()\n",
    "df = filter_domain_time_only(df)\n",
    "df = filter_features_all(df)\n",
    "df = filter_reducer_over_all(df)\n",
    "df = filter_scaler_none(df)\n",
    "df = filter_view_standardized_inter_balanced(df)\n",
    "# df = pd.concat([filter_only_reducer_dataset_diferent_from_train(df), filter_only_reducer_dataset_equals_train_dataset(df)])\n",
    "df = filter_only_reducer_dataset_diferent_from_train(df)\n",
    "df = filter_same_train_test(df)\n",
    "df = best_of_each_estimator(df)\n",
    "\n",
    "marker_colors = list(itertools.product(markers, colors))\n",
    "\n",
    "fig = go.Figure()\n",
    "\n",
    "for i, n_components in enumerate(sorted(df[\"umap components\"].unique())):\n",
    "    df_comp = df[df[\"umap components\"] == n_components]\n",
    "    # df_comp = best_of_each_estimator(df_comp)\n",
    "    df_comp.sort_values(by=\"accuracy (mean)\", inplace=True)\n",
    "    fig.add_trace(\n",
    "        go.Scatter(\n",
    "            x=list(range(len(df_comp))),\n",
    "            y=df_comp[\"accuracy (mean)\"],\n",
    "            name=f\"UMAP {n_components} components\",\n",
    "            mode=\"lines+markers\",\n",
    "            marker=dict(\n",
    "                color=marker_colors[i][1],\n",
    "                symbol=marker_colors[i][0],\n",
    "                size=7,\n",
    "            ),\n",
    "        )\n",
    "    )\n",
    "\n",
    "fig.update_layout(\n",
    "    title=\"Time\",\n",
    "    xaxis_title=\"Number of experiments\",\n",
    "    yaxis_title=\"Accuracy (best estimator only)\",\n",
    "    legend_title=\"UMAP Components\",\n",
    "    width=1200,\n",
    "    height=600,\n",
    "    yaxis=dict(range=[0, 1]),\n",
    "    # xaxis=dict(tickmode=\"linear\")\n",
    ")\n",
    "fig.show()"
   ]
  },
  {
   "attachments": {},
   "cell_type": "markdown",
   "metadata": {},
   "source": [
    "## Pergunta 3"
   ]
  },
  {
   "cell_type": "code",
   "execution_count": null,
   "metadata": {},
   "outputs": [],
   "source": []
  },
  {
   "attachments": {},
   "cell_type": "markdown",
   "metadata": {},
   "source": [
    "## Pergunta 4"
   ]
  },
  {
   "cell_type": "code",
   "execution_count": null,
   "metadata": {},
   "outputs": [],
   "source": []
  },
  {
   "attachments": {},
   "cell_type": "markdown",
   "metadata": {},
   "source": [
    "## Pergunta 5\n",
    "\n",
    "É mais vantajoso reduzir a dimensionalidade dos dados dos sensores de forma individual (aplicando o UMAP a um sensor, ou eixo, por vez) ou de forma agregada (como estamos fazendo)?"
   ]
  },
  {
   "cell_type": "code",
   "execution_count": 26,
   "metadata": {},
   "outputs": [],
   "source": [
    "def get_reduce_on_improvement(df):\n",
    "    experiment_uniq = [c for c in unique_exp_columns if c not in [\"reduce_on\", \"umap components\"]]\n",
    "\n",
    "    all_values = {}\n",
    "    for _, subdf in df[df[\"reduce_on\"] == \"all\"].iterrows():\n",
    "        all_values[tuple(subdf[experiment_uniq].values.tolist())] = subdf[\"accuracy (mean)\"]\n",
    "\n",
    "    df[\"umap improvement\"] = df.apply(lambda x: x[\"accuracy (mean)\"] / all_values.get(tuple(x[experiment_uniq].values.tolist()), np.nan), axis=1)\n",
    "    df = df.dropna(subset=[\"umap improvement\"], inplace=False)\n",
    "    df = df[df[\"reduce_on\"] != \"all\"]\n",
    "    lines = [subdf[subdf[\"umap improvement\"] == subdf[\"umap improvement\"].max()].iloc[0] for _, subdf in df.groupby(experiment_uniq)]\n",
    "    df = pd.DataFrame(lines)\n",
    "    return df\n",
    "\n",
    "# results = add_umap_improvement(results)\n",
    "#df = only_standardized_view(no_scaler(using_all_features(only_fft(only_reduce_on_all(only_reducer_equals_train(df))))))"
   ]
  },
  {
   "cell_type": "code",
   "execution_count": 37,
   "metadata": {},
   "outputs": [
    {
     "data": {
      "application/vnd.plotly.v1+json": {
       "config": {
        "plotlyServerURL": "https://plot.ly"
       },
       "data": [
        {
         "marker": {
          "color": "#636EFA"
         },
         "name": "KNN-5",
         "type": "bar",
         "x": [
          "('kuhar', 'axis')",
          "('motionsense', 'axis')",
          "('uci', 'axis')",
          "('wisdm', 'sensor')"
         ],
         "y": [
          1.0737704918032787,
          1.0061601642710472,
          1.1207815275310835,
          0.9897209985315711
         ]
        },
        {
         "marker": {
          "color": "#00CC96"
         },
         "name": "SVM-rbf-C1.0",
         "type": "bar",
         "x": [
          "('kuhar', 'axis')",
          "('motionsense', 'axis')",
          "('uci', 'axis')",
          "('wisdm', 'axis')"
         ],
         "y": [
          1.1531531531531534,
          1.0333680917622523,
          1.2222222222222223,
          1.0079681274900398
         ]
        },
        {
         "marker": {
          "color": "#AB63FA"
         },
         "name": "randomforest-100",
         "type": "bar",
         "x": [
          "('kuhar', 'axis')",
          "('motionsense', 'axis')",
          "('uci', 'axis')",
          "('wisdm', 'axis')"
         ],
         "y": [
          1.055194805194805,
          1.0197696932640377,
          1.1213549851580236,
          1.0247148972910745
         ]
        }
       ],
       "layout": {
        "height": 600,
        "legend": {
         "title": {
          "text": "Estimator"
         }
        },
        "template": {
         "data": {
          "bar": [
           {
            "error_x": {
             "color": "#2a3f5f"
            },
            "error_y": {
             "color": "#2a3f5f"
            },
            "marker": {
             "line": {
              "color": "#E5ECF6",
              "width": 0.5
             },
             "pattern": {
              "fillmode": "overlay",
              "size": 10,
              "solidity": 0.2
             }
            },
            "type": "bar"
           }
          ],
          "barpolar": [
           {
            "marker": {
             "line": {
              "color": "#E5ECF6",
              "width": 0.5
             },
             "pattern": {
              "fillmode": "overlay",
              "size": 10,
              "solidity": 0.2
             }
            },
            "type": "barpolar"
           }
          ],
          "carpet": [
           {
            "aaxis": {
             "endlinecolor": "#2a3f5f",
             "gridcolor": "white",
             "linecolor": "white",
             "minorgridcolor": "white",
             "startlinecolor": "#2a3f5f"
            },
            "baxis": {
             "endlinecolor": "#2a3f5f",
             "gridcolor": "white",
             "linecolor": "white",
             "minorgridcolor": "white",
             "startlinecolor": "#2a3f5f"
            },
            "type": "carpet"
           }
          ],
          "choropleth": [
           {
            "colorbar": {
             "outlinewidth": 0,
             "ticks": ""
            },
            "type": "choropleth"
           }
          ],
          "contour": [
           {
            "colorbar": {
             "outlinewidth": 0,
             "ticks": ""
            },
            "colorscale": [
             [
              0,
              "#0d0887"
             ],
             [
              0.1111111111111111,
              "#46039f"
             ],
             [
              0.2222222222222222,
              "#7201a8"
             ],
             [
              0.3333333333333333,
              "#9c179e"
             ],
             [
              0.4444444444444444,
              "#bd3786"
             ],
             [
              0.5555555555555556,
              "#d8576b"
             ],
             [
              0.6666666666666666,
              "#ed7953"
             ],
             [
              0.7777777777777778,
              "#fb9f3a"
             ],
             [
              0.8888888888888888,
              "#fdca26"
             ],
             [
              1,
              "#f0f921"
             ]
            ],
            "type": "contour"
           }
          ],
          "contourcarpet": [
           {
            "colorbar": {
             "outlinewidth": 0,
             "ticks": ""
            },
            "type": "contourcarpet"
           }
          ],
          "heatmap": [
           {
            "colorbar": {
             "outlinewidth": 0,
             "ticks": ""
            },
            "colorscale": [
             [
              0,
              "#0d0887"
             ],
             [
              0.1111111111111111,
              "#46039f"
             ],
             [
              0.2222222222222222,
              "#7201a8"
             ],
             [
              0.3333333333333333,
              "#9c179e"
             ],
             [
              0.4444444444444444,
              "#bd3786"
             ],
             [
              0.5555555555555556,
              "#d8576b"
             ],
             [
              0.6666666666666666,
              "#ed7953"
             ],
             [
              0.7777777777777778,
              "#fb9f3a"
             ],
             [
              0.8888888888888888,
              "#fdca26"
             ],
             [
              1,
              "#f0f921"
             ]
            ],
            "type": "heatmap"
           }
          ],
          "heatmapgl": [
           {
            "colorbar": {
             "outlinewidth": 0,
             "ticks": ""
            },
            "colorscale": [
             [
              0,
              "#0d0887"
             ],
             [
              0.1111111111111111,
              "#46039f"
             ],
             [
              0.2222222222222222,
              "#7201a8"
             ],
             [
              0.3333333333333333,
              "#9c179e"
             ],
             [
              0.4444444444444444,
              "#bd3786"
             ],
             [
              0.5555555555555556,
              "#d8576b"
             ],
             [
              0.6666666666666666,
              "#ed7953"
             ],
             [
              0.7777777777777778,
              "#fb9f3a"
             ],
             [
              0.8888888888888888,
              "#fdca26"
             ],
             [
              1,
              "#f0f921"
             ]
            ],
            "type": "heatmapgl"
           }
          ],
          "histogram": [
           {
            "marker": {
             "pattern": {
              "fillmode": "overlay",
              "size": 10,
              "solidity": 0.2
             }
            },
            "type": "histogram"
           }
          ],
          "histogram2d": [
           {
            "colorbar": {
             "outlinewidth": 0,
             "ticks": ""
            },
            "colorscale": [
             [
              0,
              "#0d0887"
             ],
             [
              0.1111111111111111,
              "#46039f"
             ],
             [
              0.2222222222222222,
              "#7201a8"
             ],
             [
              0.3333333333333333,
              "#9c179e"
             ],
             [
              0.4444444444444444,
              "#bd3786"
             ],
             [
              0.5555555555555556,
              "#d8576b"
             ],
             [
              0.6666666666666666,
              "#ed7953"
             ],
             [
              0.7777777777777778,
              "#fb9f3a"
             ],
             [
              0.8888888888888888,
              "#fdca26"
             ],
             [
              1,
              "#f0f921"
             ]
            ],
            "type": "histogram2d"
           }
          ],
          "histogram2dcontour": [
           {
            "colorbar": {
             "outlinewidth": 0,
             "ticks": ""
            },
            "colorscale": [
             [
              0,
              "#0d0887"
             ],
             [
              0.1111111111111111,
              "#46039f"
             ],
             [
              0.2222222222222222,
              "#7201a8"
             ],
             [
              0.3333333333333333,
              "#9c179e"
             ],
             [
              0.4444444444444444,
              "#bd3786"
             ],
             [
              0.5555555555555556,
              "#d8576b"
             ],
             [
              0.6666666666666666,
              "#ed7953"
             ],
             [
              0.7777777777777778,
              "#fb9f3a"
             ],
             [
              0.8888888888888888,
              "#fdca26"
             ],
             [
              1,
              "#f0f921"
             ]
            ],
            "type": "histogram2dcontour"
           }
          ],
          "mesh3d": [
           {
            "colorbar": {
             "outlinewidth": 0,
             "ticks": ""
            },
            "type": "mesh3d"
           }
          ],
          "parcoords": [
           {
            "line": {
             "colorbar": {
              "outlinewidth": 0,
              "ticks": ""
             }
            },
            "type": "parcoords"
           }
          ],
          "pie": [
           {
            "automargin": true,
            "type": "pie"
           }
          ],
          "scatter": [
           {
            "fillpattern": {
             "fillmode": "overlay",
             "size": 10,
             "solidity": 0.2
            },
            "type": "scatter"
           }
          ],
          "scatter3d": [
           {
            "line": {
             "colorbar": {
              "outlinewidth": 0,
              "ticks": ""
             }
            },
            "marker": {
             "colorbar": {
              "outlinewidth": 0,
              "ticks": ""
             }
            },
            "type": "scatter3d"
           }
          ],
          "scattercarpet": [
           {
            "marker": {
             "colorbar": {
              "outlinewidth": 0,
              "ticks": ""
             }
            },
            "type": "scattercarpet"
           }
          ],
          "scattergeo": [
           {
            "marker": {
             "colorbar": {
              "outlinewidth": 0,
              "ticks": ""
             }
            },
            "type": "scattergeo"
           }
          ],
          "scattergl": [
           {
            "marker": {
             "colorbar": {
              "outlinewidth": 0,
              "ticks": ""
             }
            },
            "type": "scattergl"
           }
          ],
          "scattermapbox": [
           {
            "marker": {
             "colorbar": {
              "outlinewidth": 0,
              "ticks": ""
             }
            },
            "type": "scattermapbox"
           }
          ],
          "scatterpolar": [
           {
            "marker": {
             "colorbar": {
              "outlinewidth": 0,
              "ticks": ""
             }
            },
            "type": "scatterpolar"
           }
          ],
          "scatterpolargl": [
           {
            "marker": {
             "colorbar": {
              "outlinewidth": 0,
              "ticks": ""
             }
            },
            "type": "scatterpolargl"
           }
          ],
          "scatterternary": [
           {
            "marker": {
             "colorbar": {
              "outlinewidth": 0,
              "ticks": ""
             }
            },
            "type": "scatterternary"
           }
          ],
          "surface": [
           {
            "colorbar": {
             "outlinewidth": 0,
             "ticks": ""
            },
            "colorscale": [
             [
              0,
              "#0d0887"
             ],
             [
              0.1111111111111111,
              "#46039f"
             ],
             [
              0.2222222222222222,
              "#7201a8"
             ],
             [
              0.3333333333333333,
              "#9c179e"
             ],
             [
              0.4444444444444444,
              "#bd3786"
             ],
             [
              0.5555555555555556,
              "#d8576b"
             ],
             [
              0.6666666666666666,
              "#ed7953"
             ],
             [
              0.7777777777777778,
              "#fb9f3a"
             ],
             [
              0.8888888888888888,
              "#fdca26"
             ],
             [
              1,
              "#f0f921"
             ]
            ],
            "type": "surface"
           }
          ],
          "table": [
           {
            "cells": {
             "fill": {
              "color": "#EBF0F8"
             },
             "line": {
              "color": "white"
             }
            },
            "header": {
             "fill": {
              "color": "#C8D4E3"
             },
             "line": {
              "color": "white"
             }
            },
            "type": "table"
           }
          ]
         },
         "layout": {
          "annotationdefaults": {
           "arrowcolor": "#2a3f5f",
           "arrowhead": 0,
           "arrowwidth": 1
          },
          "autotypenumbers": "strict",
          "coloraxis": {
           "colorbar": {
            "outlinewidth": 0,
            "ticks": ""
           }
          },
          "colorscale": {
           "diverging": [
            [
             0,
             "#8e0152"
            ],
            [
             0.1,
             "#c51b7d"
            ],
            [
             0.2,
             "#de77ae"
            ],
            [
             0.3,
             "#f1b6da"
            ],
            [
             0.4,
             "#fde0ef"
            ],
            [
             0.5,
             "#f7f7f7"
            ],
            [
             0.6,
             "#e6f5d0"
            ],
            [
             0.7,
             "#b8e186"
            ],
            [
             0.8,
             "#7fbc41"
            ],
            [
             0.9,
             "#4d9221"
            ],
            [
             1,
             "#276419"
            ]
           ],
           "sequential": [
            [
             0,
             "#0d0887"
            ],
            [
             0.1111111111111111,
             "#46039f"
            ],
            [
             0.2222222222222222,
             "#7201a8"
            ],
            [
             0.3333333333333333,
             "#9c179e"
            ],
            [
             0.4444444444444444,
             "#bd3786"
            ],
            [
             0.5555555555555556,
             "#d8576b"
            ],
            [
             0.6666666666666666,
             "#ed7953"
            ],
            [
             0.7777777777777778,
             "#fb9f3a"
            ],
            [
             0.8888888888888888,
             "#fdca26"
            ],
            [
             1,
             "#f0f921"
            ]
           ],
           "sequentialminus": [
            [
             0,
             "#0d0887"
            ],
            [
             0.1111111111111111,
             "#46039f"
            ],
            [
             0.2222222222222222,
             "#7201a8"
            ],
            [
             0.3333333333333333,
             "#9c179e"
            ],
            [
             0.4444444444444444,
             "#bd3786"
            ],
            [
             0.5555555555555556,
             "#d8576b"
            ],
            [
             0.6666666666666666,
             "#ed7953"
            ],
            [
             0.7777777777777778,
             "#fb9f3a"
            ],
            [
             0.8888888888888888,
             "#fdca26"
            ],
            [
             1,
             "#f0f921"
            ]
           ]
          },
          "colorway": [
           "#636efa",
           "#EF553B",
           "#00cc96",
           "#ab63fa",
           "#FFA15A",
           "#19d3f3",
           "#FF6692",
           "#B6E880",
           "#FF97FF",
           "#FECB52"
          ],
          "font": {
           "color": "#2a3f5f"
          },
          "geo": {
           "bgcolor": "white",
           "lakecolor": "white",
           "landcolor": "#E5ECF6",
           "showlakes": true,
           "showland": true,
           "subunitcolor": "white"
          },
          "hoverlabel": {
           "align": "left"
          },
          "hovermode": "closest",
          "mapbox": {
           "style": "light"
          },
          "paper_bgcolor": "white",
          "plot_bgcolor": "#E5ECF6",
          "polar": {
           "angularaxis": {
            "gridcolor": "white",
            "linecolor": "white",
            "ticks": ""
           },
           "bgcolor": "#E5ECF6",
           "radialaxis": {
            "gridcolor": "white",
            "linecolor": "white",
            "ticks": ""
           }
          },
          "scene": {
           "xaxis": {
            "backgroundcolor": "#E5ECF6",
            "gridcolor": "white",
            "gridwidth": 2,
            "linecolor": "white",
            "showbackground": true,
            "ticks": "",
            "zerolinecolor": "white"
           },
           "yaxis": {
            "backgroundcolor": "#E5ECF6",
            "gridcolor": "white",
            "gridwidth": 2,
            "linecolor": "white",
            "showbackground": true,
            "ticks": "",
            "zerolinecolor": "white"
           },
           "zaxis": {
            "backgroundcolor": "#E5ECF6",
            "gridcolor": "white",
            "gridwidth": 2,
            "linecolor": "white",
            "showbackground": true,
            "ticks": "",
            "zerolinecolor": "white"
           }
          },
          "shapedefaults": {
           "line": {
            "color": "#2a3f5f"
           }
          },
          "ternary": {
           "aaxis": {
            "gridcolor": "white",
            "linecolor": "white",
            "ticks": ""
           },
           "baxis": {
            "gridcolor": "white",
            "linecolor": "white",
            "ticks": ""
           },
           "bgcolor": "#E5ECF6",
           "caxis": {
            "gridcolor": "white",
            "linecolor": "white",
            "ticks": ""
           }
          },
          "title": {
           "x": 0.05
          },
          "xaxis": {
           "automargin": true,
           "gridcolor": "white",
           "linecolor": "white",
           "ticks": "",
           "title": {
            "standoff": 15
           },
           "zerolinecolor": "white",
           "zerolinewidth": 2
          },
          "yaxis": {
           "automargin": true,
           "gridcolor": "white",
           "linecolor": "white",
           "ticks": "",
           "title": {
            "standoff": 15
           },
           "zerolinecolor": "white",
           "zerolinewidth": 2
          }
         }
        },
        "title": {
         "text": "Improvement using multiple UMAPs to train per sensor and per axis over using all axis of all sensors"
        },
        "width": 1200,
        "xaxis": {
         "title": {
          "text": "reduce_on / dataset"
         }
        },
        "yaxis": {
         "title": {
          "text": "Improvement over using all axis of all sensors (best UMAP)"
         }
        }
       }
      }
     },
     "metadata": {},
     "output_type": "display_data"
    }
   ],
   "source": [
    "df = results.copy()\n",
    "df = filter_domain_fft_only(df)\n",
    "df = filter_features_all(df)\n",
    "# df = filter_reducer_over_all(df)\n",
    "df = filter_scaler_none(df)\n",
    "df = filter_view_standardized_balanced(df)\n",
    "df = best_of_each_umap(df)\n",
    "df = filter_only_reducer_dataset_equals_train_dataset(df)\n",
    "df = get_reduce_on_improvement(df)\n",
    "\n",
    "\n",
    "fig = chart_bar_with_side_by_side(df, improvement_col=\"umap improvement\", groupby=\"estimator\", inner_group=[\"train_datasets\", \"reduce_on\"])\n",
    "fig.update_layout(\n",
    "    title=\"Improvement using multiple UMAPs to train per sensor and per axis over using all axis of all sensors\",\n",
    "    xaxis_title=\"reduce_on / dataset\",\n",
    "    yaxis_title=\"Improvement over using all axis of all sensors (best UMAP)\",\n",
    "    legend_title=\"Estimator\",\n",
    "    width=1200,\n",
    "    height=600\n",
    ")\n",
    "fig.show()\n"
   ]
  },
  {
   "cell_type": "code",
   "execution_count": 36,
   "metadata": {},
   "outputs": [
    {
     "ename": "KeyboardInterrupt",
     "evalue": "",
     "output_type": "error",
     "traceback": [
      "\u001b[0;31m---------------------------------------------------------------------------\u001b[0m",
      "\u001b[0;31mKeyboardInterrupt\u001b[0m                         Traceback (most recent call last)",
      "Cell \u001b[0;32mIn[36], line 46\u001b[0m\n\u001b[1;32m     34\u001b[0m fig[\u001b[39m\"\u001b[39m\u001b[39mlayout\u001b[39m\u001b[39m\"\u001b[39m][\u001b[39m\"\u001b[39m\u001b[39myaxis1\u001b[39m\u001b[39m\"\u001b[39m]\u001b[39m.\u001b[39mupdate(\u001b[39mrange\u001b[39m\u001b[39m=\u001b[39m[\u001b[39m0.5\u001b[39m, \u001b[39m1\u001b[39m])\n\u001b[1;32m     35\u001b[0m fig\u001b[39m.\u001b[39mupdate_layout(\n\u001b[1;32m     36\u001b[0m     title\u001b[39m=\u001b[39m\u001b[39m\"\u001b[39m\u001b[39mUMAP applied to train per sensor and per axis and using all features\u001b[39m\u001b[39m\"\u001b[39m,\n\u001b[1;32m     37\u001b[0m     width\u001b[39m=\u001b[39m\u001b[39m1200\u001b[39m,\n\u001b[0;32m   (...)\u001b[0m\n\u001b[1;32m     43\u001b[0m \n\u001b[1;32m     44\u001b[0m )\n\u001b[0;32m---> 46\u001b[0m fig\u001b[39m.\u001b[39;49mshow(\u001b[39m\"\u001b[39;49m\u001b[39mpng\u001b[39;49m\u001b[39m\"\u001b[39;49m)\n",
      "File \u001b[0;32m~/Documents/Doutorado/UNICAMP/H.IAAC-Meta4/hiaac-librep/.librep-venv/lib/python3.10/site-packages/plotly/basedatatypes.py:3398\u001b[0m, in \u001b[0;36mBaseFigure.show\u001b[0;34m(self, *args, **kwargs)\u001b[0m\n\u001b[1;32m   3365\u001b[0m \u001b[39m\u001b[39m\u001b[39m\"\"\"\u001b[39;00m\n\u001b[1;32m   3366\u001b[0m \u001b[39mShow a figure using either the default renderer(s) or the renderer(s)\u001b[39;00m\n\u001b[1;32m   3367\u001b[0m \u001b[39mspecified by the renderer argument\u001b[39;00m\n\u001b[0;32m   (...)\u001b[0m\n\u001b[1;32m   3394\u001b[0m \u001b[39mNone\u001b[39;00m\n\u001b[1;32m   3395\u001b[0m \u001b[39m\"\"\"\u001b[39;00m\n\u001b[1;32m   3396\u001b[0m \u001b[39mimport\u001b[39;00m \u001b[39mplotly\u001b[39;00m\u001b[39m.\u001b[39;00m\u001b[39mio\u001b[39;00m \u001b[39mas\u001b[39;00m \u001b[39mpio\u001b[39;00m\n\u001b[0;32m-> 3398\u001b[0m \u001b[39mreturn\u001b[39;00m pio\u001b[39m.\u001b[39;49mshow(\u001b[39mself\u001b[39;49m, \u001b[39m*\u001b[39;49margs, \u001b[39m*\u001b[39;49m\u001b[39m*\u001b[39;49mkwargs)\n",
      "File \u001b[0;32m~/Documents/Doutorado/UNICAMP/H.IAAC-Meta4/hiaac-librep/.librep-venv/lib/python3.10/site-packages/plotly/io/_renderers.py:388\u001b[0m, in \u001b[0;36mshow\u001b[0;34m(fig, renderer, validate, **kwargs)\u001b[0m\n\u001b[1;32m    385\u001b[0m fig_dict \u001b[39m=\u001b[39m validate_coerce_fig_to_dict(fig, validate)\n\u001b[1;32m    387\u001b[0m \u001b[39m# Mimetype renderers\u001b[39;00m\n\u001b[0;32m--> 388\u001b[0m bundle \u001b[39m=\u001b[39m renderers\u001b[39m.\u001b[39;49m_build_mime_bundle(fig_dict, renderers_string\u001b[39m=\u001b[39;49mrenderer, \u001b[39m*\u001b[39;49m\u001b[39m*\u001b[39;49mkwargs)\n\u001b[1;32m    389\u001b[0m \u001b[39mif\u001b[39;00m bundle:\n\u001b[1;32m    390\u001b[0m     \u001b[39mif\u001b[39;00m \u001b[39mnot\u001b[39;00m ipython_display:\n",
      "File \u001b[0;32m~/Documents/Doutorado/UNICAMP/H.IAAC-Meta4/hiaac-librep/.librep-venv/lib/python3.10/site-packages/plotly/io/_renderers.py:296\u001b[0m, in \u001b[0;36mRenderersConfig._build_mime_bundle\u001b[0;34m(self, fig_dict, renderers_string, **kwargs)\u001b[0m\n\u001b[1;32m    293\u001b[0m             \u001b[39mif\u001b[39;00m \u001b[39mhasattr\u001b[39m(renderer, k):\n\u001b[1;32m    294\u001b[0m                 \u001b[39msetattr\u001b[39m(renderer, k, v)\n\u001b[0;32m--> 296\u001b[0m         bundle\u001b[39m.\u001b[39mupdate(renderer\u001b[39m.\u001b[39;49mto_mimebundle(fig_dict))\n\u001b[1;32m    298\u001b[0m \u001b[39mreturn\u001b[39;00m bundle\n",
      "File \u001b[0;32m~/Documents/Doutorado/UNICAMP/H.IAAC-Meta4/hiaac-librep/.librep-venv/lib/python3.10/site-packages/plotly/io/_base_renderers.py:127\u001b[0m, in \u001b[0;36mImageRenderer.to_mimebundle\u001b[0;34m(self, fig_dict)\u001b[0m\n\u001b[1;32m    126\u001b[0m \u001b[39mdef\u001b[39;00m \u001b[39mto_mimebundle\u001b[39m(\u001b[39mself\u001b[39m, fig_dict):\n\u001b[0;32m--> 127\u001b[0m     image_bytes \u001b[39m=\u001b[39m to_image(\n\u001b[1;32m    128\u001b[0m         fig_dict,\n\u001b[1;32m    129\u001b[0m         \u001b[39mformat\u001b[39;49m\u001b[39m=\u001b[39;49m\u001b[39mself\u001b[39;49m\u001b[39m.\u001b[39;49mformat,\n\u001b[1;32m    130\u001b[0m         width\u001b[39m=\u001b[39;49m\u001b[39mself\u001b[39;49m\u001b[39m.\u001b[39;49mwidth,\n\u001b[1;32m    131\u001b[0m         height\u001b[39m=\u001b[39;49m\u001b[39mself\u001b[39;49m\u001b[39m.\u001b[39;49mheight,\n\u001b[1;32m    132\u001b[0m         scale\u001b[39m=\u001b[39;49m\u001b[39mself\u001b[39;49m\u001b[39m.\u001b[39;49mscale,\n\u001b[1;32m    133\u001b[0m         validate\u001b[39m=\u001b[39;49m\u001b[39mFalse\u001b[39;49;00m,\n\u001b[1;32m    134\u001b[0m         engine\u001b[39m=\u001b[39;49m\u001b[39mself\u001b[39;49m\u001b[39m.\u001b[39;49mengine,\n\u001b[1;32m    135\u001b[0m     )\n\u001b[1;32m    137\u001b[0m     \u001b[39mif\u001b[39;00m \u001b[39mself\u001b[39m\u001b[39m.\u001b[39mb64_encode:\n\u001b[1;32m    138\u001b[0m         image_str \u001b[39m=\u001b[39m base64\u001b[39m.\u001b[39mb64encode(image_bytes)\u001b[39m.\u001b[39mdecode(\u001b[39m\"\u001b[39m\u001b[39mutf8\u001b[39m\u001b[39m\"\u001b[39m)\n",
      "File \u001b[0;32m~/Documents/Doutorado/UNICAMP/H.IAAC-Meta4/hiaac-librep/.librep-venv/lib/python3.10/site-packages/plotly/io/_kaleido.py:144\u001b[0m, in \u001b[0;36mto_image\u001b[0;34m(fig, format, width, height, scale, validate, engine)\u001b[0m\n\u001b[1;32m    141\u001b[0m \u001b[39m# Validate figure\u001b[39;00m\n\u001b[1;32m    142\u001b[0m \u001b[39m# ---------------\u001b[39;00m\n\u001b[1;32m    143\u001b[0m fig_dict \u001b[39m=\u001b[39m validate_coerce_fig_to_dict(fig, validate)\n\u001b[0;32m--> 144\u001b[0m img_bytes \u001b[39m=\u001b[39m scope\u001b[39m.\u001b[39;49mtransform(\n\u001b[1;32m    145\u001b[0m     fig_dict, \u001b[39mformat\u001b[39;49m\u001b[39m=\u001b[39;49m\u001b[39mformat\u001b[39;49m, width\u001b[39m=\u001b[39;49mwidth, height\u001b[39m=\u001b[39;49mheight, scale\u001b[39m=\u001b[39;49mscale\n\u001b[1;32m    146\u001b[0m )\n\u001b[1;32m    148\u001b[0m \u001b[39mreturn\u001b[39;00m img_bytes\n",
      "File \u001b[0;32m~/Documents/Doutorado/UNICAMP/H.IAAC-Meta4/hiaac-librep/.librep-venv/lib/python3.10/site-packages/kaleido/scopes/plotly.py:153\u001b[0m, in \u001b[0;36mPlotlyScope.transform\u001b[0;34m(self, figure, format, width, height, scale)\u001b[0m\n\u001b[1;32m    142\u001b[0m     \u001b[39mraise\u001b[39;00m \u001b[39mValueError\u001b[39;00m(\n\u001b[1;32m    143\u001b[0m         \u001b[39m\"\u001b[39m\u001b[39mInvalid format \u001b[39m\u001b[39m'\u001b[39m\u001b[39m{original_format}\u001b[39;00m\u001b[39m'\u001b[39m\u001b[39m.\u001b[39m\u001b[39m\\n\u001b[39;00m\u001b[39m\"\u001b[39m\n\u001b[1;32m    144\u001b[0m         \u001b[39m\"\u001b[39m\u001b[39m    Supported formats: \u001b[39m\u001b[39m{supported_formats_str}\u001b[39;00m\u001b[39m\"\u001b[39m\n\u001b[0;32m   (...)\u001b[0m\n\u001b[1;32m    148\u001b[0m         )\n\u001b[1;32m    149\u001b[0m     )\n\u001b[1;32m    151\u001b[0m \u001b[39m# Transform in using _perform_transform rather than superclass so we can access the full\u001b[39;00m\n\u001b[1;32m    152\u001b[0m \u001b[39m# response dict, including error codes.\u001b[39;00m\n\u001b[0;32m--> 153\u001b[0m response \u001b[39m=\u001b[39m \u001b[39mself\u001b[39;49m\u001b[39m.\u001b[39;49m_perform_transform(\n\u001b[1;32m    154\u001b[0m     figure, \u001b[39mformat\u001b[39;49m\u001b[39m=\u001b[39;49m\u001b[39mformat\u001b[39;49m, width\u001b[39m=\u001b[39;49mwidth, height\u001b[39m=\u001b[39;49mheight, scale\u001b[39m=\u001b[39;49mscale\n\u001b[1;32m    155\u001b[0m )\n\u001b[1;32m    157\u001b[0m \u001b[39m# Check for export error, later can customize error messages for plotly Python users\u001b[39;00m\n\u001b[1;32m    158\u001b[0m code \u001b[39m=\u001b[39m response\u001b[39m.\u001b[39mget(\u001b[39m\"\u001b[39m\u001b[39mcode\u001b[39m\u001b[39m\"\u001b[39m, \u001b[39m0\u001b[39m)\n",
      "File \u001b[0;32m~/Documents/Doutorado/UNICAMP/H.IAAC-Meta4/hiaac-librep/.librep-venv/lib/python3.10/site-packages/kaleido/scopes/base.py:308\u001b[0m, in \u001b[0;36mBaseScope._perform_transform\u001b[0;34m(self, data, **kwargs)\u001b[0m\n\u001b[1;32m    306\u001b[0m     \u001b[39mself\u001b[39m\u001b[39m.\u001b[39m_proc\u001b[39m.\u001b[39mstdin\u001b[39m.\u001b[39mwrite(\u001b[39m\"\u001b[39m\u001b[39m\\n\u001b[39;00m\u001b[39m\"\u001b[39m\u001b[39m.\u001b[39mencode(\u001b[39m'\u001b[39m\u001b[39mutf-8\u001b[39m\u001b[39m'\u001b[39m))\n\u001b[1;32m    307\u001b[0m     \u001b[39mself\u001b[39m\u001b[39m.\u001b[39m_proc\u001b[39m.\u001b[39mstdin\u001b[39m.\u001b[39mflush()\n\u001b[0;32m--> 308\u001b[0m     response \u001b[39m=\u001b[39m \u001b[39mself\u001b[39;49m\u001b[39m.\u001b[39;49m_proc\u001b[39m.\u001b[39;49mstdout\u001b[39m.\u001b[39;49mreadline()\n\u001b[1;32m    310\u001b[0m response_string \u001b[39m=\u001b[39m response\u001b[39m.\u001b[39mdecode(\u001b[39m'\u001b[39m\u001b[39mutf-8\u001b[39m\u001b[39m'\u001b[39m)\n\u001b[1;32m    311\u001b[0m \u001b[39mif\u001b[39;00m \u001b[39mnot\u001b[39;00m response_string:\n",
      "\u001b[0;31mKeyboardInterrupt\u001b[0m: "
     ]
    }
   ],
   "source": [
    "df = results.copy()\n",
    "df = filter_domain_fft_only(df)\n",
    "df = filter_features_all(df)\n",
    "# df = filter_reducer_over_all(df)\n",
    "df = filter_scaler_none(df)\n",
    "df = filter_view_standardized_balanced(df)\n",
    "df = best_of_each_estimator(df)\n",
    "df = filter_only_reducer_dataset_equals_train_dataset(df)\n",
    "# df = get_reduce_on_improvement(df)\n",
    "\n",
    "names = []\n",
    "\n",
    "fig = make_subplots(rows=1, cols=3, shared_yaxes=True)\n",
    "for i, (reduce_on, subdf) in enumerate(df.groupby(\"reduce_on\")):\n",
    "    for j, (dataset_name, subsubdf) in enumerate(subdf.groupby(\"train_datasets\")):\n",
    "        subsubdf = subsubdf.sort_values(by=\"umap components\", inplace=False)\n",
    "        fig.add_trace(\n",
    "            go.Scatter(\n",
    "                x=subsubdf[\"umap components\"],\n",
    "                y=subsubdf[\"accuracy (mean)\"],\n",
    "                name=dataset_name,\n",
    "                mode=\"lines+markers\",\n",
    "                marker=dict(color=colors[j]),\n",
    "            ),\n",
    "            row=1, col=i+1\n",
    "        )\n",
    "    names.append(reduce_on)\n",
    "\n",
    "fig[\"layout\"][\"xaxis1\"].update(title=f\"UMAP components ({names[0]})\", tickmode=\"linear\")\n",
    "fig[\"layout\"][\"xaxis2\"].update(title=f\"UMAP components ({names[1]})\", tickmode=\"linear\")\n",
    "fig[\"layout\"][\"xaxis3\"].update(title=f\"UMAP components ({names[2]})\", tickmode=\"linear\")\n",
    "fig[\"layout\"][\"yaxis1\"].update(title=\"Accuracy (mean)\", range=[0.5, 1])\n",
    "fig[\"layout\"][\"yaxis1\"].update(range=[0.5, 1])\n",
    "fig[\"layout\"][\"yaxis1\"].update(range=[0.5, 1])\n",
    "fig.update_layout(\n",
    "    title=\"UMAP applied to train per sensor and per axis and using all features\",\n",
    "    width=1200,\n",
    "    height=600,\n",
    "    legend_title=\"Dataset\",\n",
    "    showlegend=False,\n",
    "    # xaxis=dict(tickmode=\"linear\"),\n",
    "    yaxis=dict(range=[0, 1])\n",
    "\n",
    ")\n",
    "    \n",
    "fig.show(\"png\")"
   ]
  },
  {
   "attachments": {},
   "cell_type": "markdown",
   "metadata": {},
   "source": [
    "## Pergunta 6\n",
    "\n",
    "Há uma mudança significativa entre os diferentes classificadores?"
   ]
  },
  {
   "cell_type": "code",
   "execution_count": 20,
   "metadata": {},
   "outputs": [],
   "source": [
    "# def get_estimator_improvement(df):\n",
    "#     experiment_uniq = [c for c in unique_exp_columns if c not in [\"estimator\"]]\n",
    "#     df = df[df[\"umap components\"] > 0]\n",
    "\n",
    "#     all_values = {}\n",
    "#     for _, subdf in df[df[\"reduce_on\"] == \"all\"].iterrows():\n",
    "#         all_values[tuple(subdf[experiment_uniq].values.tolist())] = subdf[\"accuracy (mean)\"]\n",
    "\n",
    "#     df[\"umap improvement\"] = df.apply(lambda x: x[\"accuracy (mean)\"] / all_values.get(tuple(x[experiment_uniq].values.tolist()), np.nan), axis=1)\n",
    "#     df = df.dropna(subset=[\"umap improvement\"], inplace=False)\n",
    "#     df = df[df[\"reduce_on\"] != \"all\"]\n",
    "#     lines = [subdf[subdf[\"umap improvement\"] == subdf[\"umap improvement\"].max()].iloc[0] for _, subdf in df.groupby(experiment_uniq)]\n",
    "#     df = pd.DataFrame(lines)\n",
    "#     return df\n",
    "\n",
    "# # results = add_umap_improvement(results)\n",
    "# #df = only_standardized_view(no_scaler(using_all_features(only_fft(only_reduce_on_all(only_reducer_equals_train(df))))))"
   ]
  },
  {
   "attachments": {},
   "cell_type": "markdown",
   "metadata": {},
   "source": [
    "## Pergunta 7\n",
    "\n",
    "Melhor no domínio da frequência ou tempo (condicionada à abordagem - manifold learning com UMAP)? (ou wavelet?)\n",
    "\n",
    "- Usar barras de sobreposição\n",
    "- Sem UMAP (tempo e frequencia)\n",
    "- Best(<20) vs UMAP 10"
   ]
  },
  {
   "cell_type": "code",
   "execution_count": 35,
   "metadata": {},
   "outputs": [
    {
     "data": {
      "application/vnd.plotly.v1+json": {
       "config": {
        "plotlyServerURL": "https://plot.ly"
       },
       "data": [
        {
         "marker": {
          "color": "#636EFA"
         },
         "name": "KNN-5",
         "type": "bar",
         "x": [
          "kuhar",
          "motionsense",
          "uci",
          "wisdm"
         ],
         "y": [
          0.8472222222222221,
          0.9171374764595104,
          0.8159420289855073,
          0.8394453004622496
         ]
        },
        {
         "marker": {
          "color": "#00CC96"
         },
         "name": "SVM-rbf-C1.0",
         "type": "bar",
         "x": [
          "kuhar",
          "motionsense",
          "uci",
          "wisdm"
         ],
         "y": [
          0.7708333333333333,
          0.9030131826741996,
          0.7434782608695654,
          0.8508474576271187
         ]
        },
        {
         "marker": {
          "color": "#AB63FA"
         },
         "name": "randomforest-100",
         "type": "bar",
         "x": [
          "kuhar",
          "motionsense",
          "uci",
          "wisdm"
         ],
         "y": [
          0.8555555555555555,
          0.9240112994350282,
          0.8299999999999998,
          0.8566101694915254
         ]
        }
       ],
       "layout": {
        "height": 600,
        "legend": {
         "title": {
          "text": "Estimator"
         }
        },
        "template": {
         "data": {
          "bar": [
           {
            "error_x": {
             "color": "#2a3f5f"
            },
            "error_y": {
             "color": "#2a3f5f"
            },
            "marker": {
             "line": {
              "color": "#E5ECF6",
              "width": 0.5
             },
             "pattern": {
              "fillmode": "overlay",
              "size": 10,
              "solidity": 0.2
             }
            },
            "type": "bar"
           }
          ],
          "barpolar": [
           {
            "marker": {
             "line": {
              "color": "#E5ECF6",
              "width": 0.5
             },
             "pattern": {
              "fillmode": "overlay",
              "size": 10,
              "solidity": 0.2
             }
            },
            "type": "barpolar"
           }
          ],
          "carpet": [
           {
            "aaxis": {
             "endlinecolor": "#2a3f5f",
             "gridcolor": "white",
             "linecolor": "white",
             "minorgridcolor": "white",
             "startlinecolor": "#2a3f5f"
            },
            "baxis": {
             "endlinecolor": "#2a3f5f",
             "gridcolor": "white",
             "linecolor": "white",
             "minorgridcolor": "white",
             "startlinecolor": "#2a3f5f"
            },
            "type": "carpet"
           }
          ],
          "choropleth": [
           {
            "colorbar": {
             "outlinewidth": 0,
             "ticks": ""
            },
            "type": "choropleth"
           }
          ],
          "contour": [
           {
            "colorbar": {
             "outlinewidth": 0,
             "ticks": ""
            },
            "colorscale": [
             [
              0,
              "#0d0887"
             ],
             [
              0.1111111111111111,
              "#46039f"
             ],
             [
              0.2222222222222222,
              "#7201a8"
             ],
             [
              0.3333333333333333,
              "#9c179e"
             ],
             [
              0.4444444444444444,
              "#bd3786"
             ],
             [
              0.5555555555555556,
              "#d8576b"
             ],
             [
              0.6666666666666666,
              "#ed7953"
             ],
             [
              0.7777777777777778,
              "#fb9f3a"
             ],
             [
              0.8888888888888888,
              "#fdca26"
             ],
             [
              1,
              "#f0f921"
             ]
            ],
            "type": "contour"
           }
          ],
          "contourcarpet": [
           {
            "colorbar": {
             "outlinewidth": 0,
             "ticks": ""
            },
            "type": "contourcarpet"
           }
          ],
          "heatmap": [
           {
            "colorbar": {
             "outlinewidth": 0,
             "ticks": ""
            },
            "colorscale": [
             [
              0,
              "#0d0887"
             ],
             [
              0.1111111111111111,
              "#46039f"
             ],
             [
              0.2222222222222222,
              "#7201a8"
             ],
             [
              0.3333333333333333,
              "#9c179e"
             ],
             [
              0.4444444444444444,
              "#bd3786"
             ],
             [
              0.5555555555555556,
              "#d8576b"
             ],
             [
              0.6666666666666666,
              "#ed7953"
             ],
             [
              0.7777777777777778,
              "#fb9f3a"
             ],
             [
              0.8888888888888888,
              "#fdca26"
             ],
             [
              1,
              "#f0f921"
             ]
            ],
            "type": "heatmap"
           }
          ],
          "heatmapgl": [
           {
            "colorbar": {
             "outlinewidth": 0,
             "ticks": ""
            },
            "colorscale": [
             [
              0,
              "#0d0887"
             ],
             [
              0.1111111111111111,
              "#46039f"
             ],
             [
              0.2222222222222222,
              "#7201a8"
             ],
             [
              0.3333333333333333,
              "#9c179e"
             ],
             [
              0.4444444444444444,
              "#bd3786"
             ],
             [
              0.5555555555555556,
              "#d8576b"
             ],
             [
              0.6666666666666666,
              "#ed7953"
             ],
             [
              0.7777777777777778,
              "#fb9f3a"
             ],
             [
              0.8888888888888888,
              "#fdca26"
             ],
             [
              1,
              "#f0f921"
             ]
            ],
            "type": "heatmapgl"
           }
          ],
          "histogram": [
           {
            "marker": {
             "pattern": {
              "fillmode": "overlay",
              "size": 10,
              "solidity": 0.2
             }
            },
            "type": "histogram"
           }
          ],
          "histogram2d": [
           {
            "colorbar": {
             "outlinewidth": 0,
             "ticks": ""
            },
            "colorscale": [
             [
              0,
              "#0d0887"
             ],
             [
              0.1111111111111111,
              "#46039f"
             ],
             [
              0.2222222222222222,
              "#7201a8"
             ],
             [
              0.3333333333333333,
              "#9c179e"
             ],
             [
              0.4444444444444444,
              "#bd3786"
             ],
             [
              0.5555555555555556,
              "#d8576b"
             ],
             [
              0.6666666666666666,
              "#ed7953"
             ],
             [
              0.7777777777777778,
              "#fb9f3a"
             ],
             [
              0.8888888888888888,
              "#fdca26"
             ],
             [
              1,
              "#f0f921"
             ]
            ],
            "type": "histogram2d"
           }
          ],
          "histogram2dcontour": [
           {
            "colorbar": {
             "outlinewidth": 0,
             "ticks": ""
            },
            "colorscale": [
             [
              0,
              "#0d0887"
             ],
             [
              0.1111111111111111,
              "#46039f"
             ],
             [
              0.2222222222222222,
              "#7201a8"
             ],
             [
              0.3333333333333333,
              "#9c179e"
             ],
             [
              0.4444444444444444,
              "#bd3786"
             ],
             [
              0.5555555555555556,
              "#d8576b"
             ],
             [
              0.6666666666666666,
              "#ed7953"
             ],
             [
              0.7777777777777778,
              "#fb9f3a"
             ],
             [
              0.8888888888888888,
              "#fdca26"
             ],
             [
              1,
              "#f0f921"
             ]
            ],
            "type": "histogram2dcontour"
           }
          ],
          "mesh3d": [
           {
            "colorbar": {
             "outlinewidth": 0,
             "ticks": ""
            },
            "type": "mesh3d"
           }
          ],
          "parcoords": [
           {
            "line": {
             "colorbar": {
              "outlinewidth": 0,
              "ticks": ""
             }
            },
            "type": "parcoords"
           }
          ],
          "pie": [
           {
            "automargin": true,
            "type": "pie"
           }
          ],
          "scatter": [
           {
            "fillpattern": {
             "fillmode": "overlay",
             "size": 10,
             "solidity": 0.2
            },
            "type": "scatter"
           }
          ],
          "scatter3d": [
           {
            "line": {
             "colorbar": {
              "outlinewidth": 0,
              "ticks": ""
             }
            },
            "marker": {
             "colorbar": {
              "outlinewidth": 0,
              "ticks": ""
             }
            },
            "type": "scatter3d"
           }
          ],
          "scattercarpet": [
           {
            "marker": {
             "colorbar": {
              "outlinewidth": 0,
              "ticks": ""
             }
            },
            "type": "scattercarpet"
           }
          ],
          "scattergeo": [
           {
            "marker": {
             "colorbar": {
              "outlinewidth": 0,
              "ticks": ""
             }
            },
            "type": "scattergeo"
           }
          ],
          "scattergl": [
           {
            "marker": {
             "colorbar": {
              "outlinewidth": 0,
              "ticks": ""
             }
            },
            "type": "scattergl"
           }
          ],
          "scattermapbox": [
           {
            "marker": {
             "colorbar": {
              "outlinewidth": 0,
              "ticks": ""
             }
            },
            "type": "scattermapbox"
           }
          ],
          "scatterpolar": [
           {
            "marker": {
             "colorbar": {
              "outlinewidth": 0,
              "ticks": ""
             }
            },
            "type": "scatterpolar"
           }
          ],
          "scatterpolargl": [
           {
            "marker": {
             "colorbar": {
              "outlinewidth": 0,
              "ticks": ""
             }
            },
            "type": "scatterpolargl"
           }
          ],
          "scatterternary": [
           {
            "marker": {
             "colorbar": {
              "outlinewidth": 0,
              "ticks": ""
             }
            },
            "type": "scatterternary"
           }
          ],
          "surface": [
           {
            "colorbar": {
             "outlinewidth": 0,
             "ticks": ""
            },
            "colorscale": [
             [
              0,
              "#0d0887"
             ],
             [
              0.1111111111111111,
              "#46039f"
             ],
             [
              0.2222222222222222,
              "#7201a8"
             ],
             [
              0.3333333333333333,
              "#9c179e"
             ],
             [
              0.4444444444444444,
              "#bd3786"
             ],
             [
              0.5555555555555556,
              "#d8576b"
             ],
             [
              0.6666666666666666,
              "#ed7953"
             ],
             [
              0.7777777777777778,
              "#fb9f3a"
             ],
             [
              0.8888888888888888,
              "#fdca26"
             ],
             [
              1,
              "#f0f921"
             ]
            ],
            "type": "surface"
           }
          ],
          "table": [
           {
            "cells": {
             "fill": {
              "color": "#EBF0F8"
             },
             "line": {
              "color": "white"
             }
            },
            "header": {
             "fill": {
              "color": "#C8D4E3"
             },
             "line": {
              "color": "white"
             }
            },
            "type": "table"
           }
          ]
         },
         "layout": {
          "annotationdefaults": {
           "arrowcolor": "#2a3f5f",
           "arrowhead": 0,
           "arrowwidth": 1
          },
          "autotypenumbers": "strict",
          "coloraxis": {
           "colorbar": {
            "outlinewidth": 0,
            "ticks": ""
           }
          },
          "colorscale": {
           "diverging": [
            [
             0,
             "#8e0152"
            ],
            [
             0.1,
             "#c51b7d"
            ],
            [
             0.2,
             "#de77ae"
            ],
            [
             0.3,
             "#f1b6da"
            ],
            [
             0.4,
             "#fde0ef"
            ],
            [
             0.5,
             "#f7f7f7"
            ],
            [
             0.6,
             "#e6f5d0"
            ],
            [
             0.7,
             "#b8e186"
            ],
            [
             0.8,
             "#7fbc41"
            ],
            [
             0.9,
             "#4d9221"
            ],
            [
             1,
             "#276419"
            ]
           ],
           "sequential": [
            [
             0,
             "#0d0887"
            ],
            [
             0.1111111111111111,
             "#46039f"
            ],
            [
             0.2222222222222222,
             "#7201a8"
            ],
            [
             0.3333333333333333,
             "#9c179e"
            ],
            [
             0.4444444444444444,
             "#bd3786"
            ],
            [
             0.5555555555555556,
             "#d8576b"
            ],
            [
             0.6666666666666666,
             "#ed7953"
            ],
            [
             0.7777777777777778,
             "#fb9f3a"
            ],
            [
             0.8888888888888888,
             "#fdca26"
            ],
            [
             1,
             "#f0f921"
            ]
           ],
           "sequentialminus": [
            [
             0,
             "#0d0887"
            ],
            [
             0.1111111111111111,
             "#46039f"
            ],
            [
             0.2222222222222222,
             "#7201a8"
            ],
            [
             0.3333333333333333,
             "#9c179e"
            ],
            [
             0.4444444444444444,
             "#bd3786"
            ],
            [
             0.5555555555555556,
             "#d8576b"
            ],
            [
             0.6666666666666666,
             "#ed7953"
            ],
            [
             0.7777777777777778,
             "#fb9f3a"
            ],
            [
             0.8888888888888888,
             "#fdca26"
            ],
            [
             1,
             "#f0f921"
            ]
           ]
          },
          "colorway": [
           "#636efa",
           "#EF553B",
           "#00cc96",
           "#ab63fa",
           "#FFA15A",
           "#19d3f3",
           "#FF6692",
           "#B6E880",
           "#FF97FF",
           "#FECB52"
          ],
          "font": {
           "color": "#2a3f5f"
          },
          "geo": {
           "bgcolor": "white",
           "lakecolor": "white",
           "landcolor": "#E5ECF6",
           "showlakes": true,
           "showland": true,
           "subunitcolor": "white"
          },
          "hoverlabel": {
           "align": "left"
          },
          "hovermode": "closest",
          "mapbox": {
           "style": "light"
          },
          "paper_bgcolor": "white",
          "plot_bgcolor": "#E5ECF6",
          "polar": {
           "angularaxis": {
            "gridcolor": "white",
            "linecolor": "white",
            "ticks": ""
           },
           "bgcolor": "#E5ECF6",
           "radialaxis": {
            "gridcolor": "white",
            "linecolor": "white",
            "ticks": ""
           }
          },
          "scene": {
           "xaxis": {
            "backgroundcolor": "#E5ECF6",
            "gridcolor": "white",
            "gridwidth": 2,
            "linecolor": "white",
            "showbackground": true,
            "ticks": "",
            "zerolinecolor": "white"
           },
           "yaxis": {
            "backgroundcolor": "#E5ECF6",
            "gridcolor": "white",
            "gridwidth": 2,
            "linecolor": "white",
            "showbackground": true,
            "ticks": "",
            "zerolinecolor": "white"
           },
           "zaxis": {
            "backgroundcolor": "#E5ECF6",
            "gridcolor": "white",
            "gridwidth": 2,
            "linecolor": "white",
            "showbackground": true,
            "ticks": "",
            "zerolinecolor": "white"
           }
          },
          "shapedefaults": {
           "line": {
            "color": "#2a3f5f"
           }
          },
          "ternary": {
           "aaxis": {
            "gridcolor": "white",
            "linecolor": "white",
            "ticks": ""
           },
           "baxis": {
            "gridcolor": "white",
            "linecolor": "white",
            "ticks": ""
           },
           "bgcolor": "#E5ECF6",
           "caxis": {
            "gridcolor": "white",
            "linecolor": "white",
            "ticks": ""
           }
          },
          "title": {
           "x": 0.05
          },
          "xaxis": {
           "automargin": true,
           "gridcolor": "white",
           "linecolor": "white",
           "ticks": "",
           "title": {
            "standoff": 15
           },
           "zerolinecolor": "white",
           "zerolinewidth": 2
          },
          "yaxis": {
           "automargin": true,
           "gridcolor": "white",
           "linecolor": "white",
           "ticks": "",
           "title": {
            "standoff": 15
           },
           "zerolinecolor": "white",
           "zerolinewidth": 2
          }
         }
        },
        "title": {
         "text": "Accuracy using FFT"
        },
        "width": 800,
        "xaxis": {
         "title": {
          "text": "Dataset"
         }
        },
        "yaxis": {
         "title": {
          "text": "Accuracy (mean)"
         }
        }
       }
      }
     },
     "metadata": {},
     "output_type": "display_data"
    }
   ],
   "source": [
    "df = results.copy()\n",
    "df = filter_domain_fft_only(df)\n",
    "df = filter_features_all(df)\n",
    "df = filter_reducer_over_all(df)\n",
    "df = filter_scaler_none(df)\n",
    "df = filter_view_standardized_balanced(df)\n",
    "df = filter_only_reducer_dataset_equals_train_dataset_or_no_reducer(df)\n",
    "# df = get_umap_improvement_over_no_umap(df)\n",
    "df = best_of_each_umap(df)\n",
    "\n",
    "fig = chart_bar_with_side_by_side(df, improvement_col=\"accuracy (mean)\", groupby=\"estimator\", inner_group=\"train_datasets\")\n",
    "# fig.add_hline(y=1.0, line_dash=\"dash\", line_color=\"magenta\")\n",
    "fig.update_layout(\n",
    "    title=\"Accuracy using FFT\",\n",
    "    xaxis_title=\"Dataset\",\n",
    "    yaxis_title=\"Accuracy (mean)\",\n",
    "    legend_title=\"Estimator\",\n",
    "    width=800,\n",
    "    height=600\n",
    ")\n",
    "fig.show()"
   ]
  },
  {
   "cell_type": "code",
   "execution_count": 36,
   "metadata": {},
   "outputs": [
    {
     "data": {
      "application/vnd.plotly.v1+json": {
       "config": {
        "plotlyServerURL": "https://plot.ly"
       },
       "data": [
        {
         "marker": {
          "color": "#636EFA"
         },
         "name": "KNN-5",
         "type": "bar",
         "x": [
          "kuhar",
          "motionsense",
          "uci",
          "wisdm"
         ],
         "y": [
          0.5902777777777778,
          0.6817325800376647,
          0.5869565217391306,
          0.5750385208012326
         ]
        },
        {
         "marker": {
          "color": "#00CC96"
         },
         "name": "SVM-rbf-C1.0",
         "type": "bar",
         "x": [
          "kuhar",
          "motionsense",
          "uci",
          "wisdm"
         ],
         "y": [
          0.5208333333333333,
          0.6930320150659134,
          0.4855072463768116,
          0.5824345146379046
         ]
        },
        {
         "marker": {
          "color": "#AB63FA"
         },
         "name": "randomforest-100",
         "type": "bar",
         "x": [
          "kuhar",
          "motionsense",
          "uci",
          "wisdm"
         ],
         "y": [
          0.5916666666666667,
          0.6890772128060264,
          0.5878260869565217,
          0.5803081664098613
         ]
        }
       ],
       "layout": {
        "height": 600,
        "legend": {
         "title": {
          "text": "Estimator"
         }
        },
        "template": {
         "data": {
          "bar": [
           {
            "error_x": {
             "color": "#2a3f5f"
            },
            "error_y": {
             "color": "#2a3f5f"
            },
            "marker": {
             "line": {
              "color": "#E5ECF6",
              "width": 0.5
             },
             "pattern": {
              "fillmode": "overlay",
              "size": 10,
              "solidity": 0.2
             }
            },
            "type": "bar"
           }
          ],
          "barpolar": [
           {
            "marker": {
             "line": {
              "color": "#E5ECF6",
              "width": 0.5
             },
             "pattern": {
              "fillmode": "overlay",
              "size": 10,
              "solidity": 0.2
             }
            },
            "type": "barpolar"
           }
          ],
          "carpet": [
           {
            "aaxis": {
             "endlinecolor": "#2a3f5f",
             "gridcolor": "white",
             "linecolor": "white",
             "minorgridcolor": "white",
             "startlinecolor": "#2a3f5f"
            },
            "baxis": {
             "endlinecolor": "#2a3f5f",
             "gridcolor": "white",
             "linecolor": "white",
             "minorgridcolor": "white",
             "startlinecolor": "#2a3f5f"
            },
            "type": "carpet"
           }
          ],
          "choropleth": [
           {
            "colorbar": {
             "outlinewidth": 0,
             "ticks": ""
            },
            "type": "choropleth"
           }
          ],
          "contour": [
           {
            "colorbar": {
             "outlinewidth": 0,
             "ticks": ""
            },
            "colorscale": [
             [
              0,
              "#0d0887"
             ],
             [
              0.1111111111111111,
              "#46039f"
             ],
             [
              0.2222222222222222,
              "#7201a8"
             ],
             [
              0.3333333333333333,
              "#9c179e"
             ],
             [
              0.4444444444444444,
              "#bd3786"
             ],
             [
              0.5555555555555556,
              "#d8576b"
             ],
             [
              0.6666666666666666,
              "#ed7953"
             ],
             [
              0.7777777777777778,
              "#fb9f3a"
             ],
             [
              0.8888888888888888,
              "#fdca26"
             ],
             [
              1,
              "#f0f921"
             ]
            ],
            "type": "contour"
           }
          ],
          "contourcarpet": [
           {
            "colorbar": {
             "outlinewidth": 0,
             "ticks": ""
            },
            "type": "contourcarpet"
           }
          ],
          "heatmap": [
           {
            "colorbar": {
             "outlinewidth": 0,
             "ticks": ""
            },
            "colorscale": [
             [
              0,
              "#0d0887"
             ],
             [
              0.1111111111111111,
              "#46039f"
             ],
             [
              0.2222222222222222,
              "#7201a8"
             ],
             [
              0.3333333333333333,
              "#9c179e"
             ],
             [
              0.4444444444444444,
              "#bd3786"
             ],
             [
              0.5555555555555556,
              "#d8576b"
             ],
             [
              0.6666666666666666,
              "#ed7953"
             ],
             [
              0.7777777777777778,
              "#fb9f3a"
             ],
             [
              0.8888888888888888,
              "#fdca26"
             ],
             [
              1,
              "#f0f921"
             ]
            ],
            "type": "heatmap"
           }
          ],
          "heatmapgl": [
           {
            "colorbar": {
             "outlinewidth": 0,
             "ticks": ""
            },
            "colorscale": [
             [
              0,
              "#0d0887"
             ],
             [
              0.1111111111111111,
              "#46039f"
             ],
             [
              0.2222222222222222,
              "#7201a8"
             ],
             [
              0.3333333333333333,
              "#9c179e"
             ],
             [
              0.4444444444444444,
              "#bd3786"
             ],
             [
              0.5555555555555556,
              "#d8576b"
             ],
             [
              0.6666666666666666,
              "#ed7953"
             ],
             [
              0.7777777777777778,
              "#fb9f3a"
             ],
             [
              0.8888888888888888,
              "#fdca26"
             ],
             [
              1,
              "#f0f921"
             ]
            ],
            "type": "heatmapgl"
           }
          ],
          "histogram": [
           {
            "marker": {
             "pattern": {
              "fillmode": "overlay",
              "size": 10,
              "solidity": 0.2
             }
            },
            "type": "histogram"
           }
          ],
          "histogram2d": [
           {
            "colorbar": {
             "outlinewidth": 0,
             "ticks": ""
            },
            "colorscale": [
             [
              0,
              "#0d0887"
             ],
             [
              0.1111111111111111,
              "#46039f"
             ],
             [
              0.2222222222222222,
              "#7201a8"
             ],
             [
              0.3333333333333333,
              "#9c179e"
             ],
             [
              0.4444444444444444,
              "#bd3786"
             ],
             [
              0.5555555555555556,
              "#d8576b"
             ],
             [
              0.6666666666666666,
              "#ed7953"
             ],
             [
              0.7777777777777778,
              "#fb9f3a"
             ],
             [
              0.8888888888888888,
              "#fdca26"
             ],
             [
              1,
              "#f0f921"
             ]
            ],
            "type": "histogram2d"
           }
          ],
          "histogram2dcontour": [
           {
            "colorbar": {
             "outlinewidth": 0,
             "ticks": ""
            },
            "colorscale": [
             [
              0,
              "#0d0887"
             ],
             [
              0.1111111111111111,
              "#46039f"
             ],
             [
              0.2222222222222222,
              "#7201a8"
             ],
             [
              0.3333333333333333,
              "#9c179e"
             ],
             [
              0.4444444444444444,
              "#bd3786"
             ],
             [
              0.5555555555555556,
              "#d8576b"
             ],
             [
              0.6666666666666666,
              "#ed7953"
             ],
             [
              0.7777777777777778,
              "#fb9f3a"
             ],
             [
              0.8888888888888888,
              "#fdca26"
             ],
             [
              1,
              "#f0f921"
             ]
            ],
            "type": "histogram2dcontour"
           }
          ],
          "mesh3d": [
           {
            "colorbar": {
             "outlinewidth": 0,
             "ticks": ""
            },
            "type": "mesh3d"
           }
          ],
          "parcoords": [
           {
            "line": {
             "colorbar": {
              "outlinewidth": 0,
              "ticks": ""
             }
            },
            "type": "parcoords"
           }
          ],
          "pie": [
           {
            "automargin": true,
            "type": "pie"
           }
          ],
          "scatter": [
           {
            "fillpattern": {
             "fillmode": "overlay",
             "size": 10,
             "solidity": 0.2
            },
            "type": "scatter"
           }
          ],
          "scatter3d": [
           {
            "line": {
             "colorbar": {
              "outlinewidth": 0,
              "ticks": ""
             }
            },
            "marker": {
             "colorbar": {
              "outlinewidth": 0,
              "ticks": ""
             }
            },
            "type": "scatter3d"
           }
          ],
          "scattercarpet": [
           {
            "marker": {
             "colorbar": {
              "outlinewidth": 0,
              "ticks": ""
             }
            },
            "type": "scattercarpet"
           }
          ],
          "scattergeo": [
           {
            "marker": {
             "colorbar": {
              "outlinewidth": 0,
              "ticks": ""
             }
            },
            "type": "scattergeo"
           }
          ],
          "scattergl": [
           {
            "marker": {
             "colorbar": {
              "outlinewidth": 0,
              "ticks": ""
             }
            },
            "type": "scattergl"
           }
          ],
          "scattermapbox": [
           {
            "marker": {
             "colorbar": {
              "outlinewidth": 0,
              "ticks": ""
             }
            },
            "type": "scattermapbox"
           }
          ],
          "scatterpolar": [
           {
            "marker": {
             "colorbar": {
              "outlinewidth": 0,
              "ticks": ""
             }
            },
            "type": "scatterpolar"
           }
          ],
          "scatterpolargl": [
           {
            "marker": {
             "colorbar": {
              "outlinewidth": 0,
              "ticks": ""
             }
            },
            "type": "scatterpolargl"
           }
          ],
          "scatterternary": [
           {
            "marker": {
             "colorbar": {
              "outlinewidth": 0,
              "ticks": ""
             }
            },
            "type": "scatterternary"
           }
          ],
          "surface": [
           {
            "colorbar": {
             "outlinewidth": 0,
             "ticks": ""
            },
            "colorscale": [
             [
              0,
              "#0d0887"
             ],
             [
              0.1111111111111111,
              "#46039f"
             ],
             [
              0.2222222222222222,
              "#7201a8"
             ],
             [
              0.3333333333333333,
              "#9c179e"
             ],
             [
              0.4444444444444444,
              "#bd3786"
             ],
             [
              0.5555555555555556,
              "#d8576b"
             ],
             [
              0.6666666666666666,
              "#ed7953"
             ],
             [
              0.7777777777777778,
              "#fb9f3a"
             ],
             [
              0.8888888888888888,
              "#fdca26"
             ],
             [
              1,
              "#f0f921"
             ]
            ],
            "type": "surface"
           }
          ],
          "table": [
           {
            "cells": {
             "fill": {
              "color": "#EBF0F8"
             },
             "line": {
              "color": "white"
             }
            },
            "header": {
             "fill": {
              "color": "#C8D4E3"
             },
             "line": {
              "color": "white"
             }
            },
            "type": "table"
           }
          ]
         },
         "layout": {
          "annotationdefaults": {
           "arrowcolor": "#2a3f5f",
           "arrowhead": 0,
           "arrowwidth": 1
          },
          "autotypenumbers": "strict",
          "coloraxis": {
           "colorbar": {
            "outlinewidth": 0,
            "ticks": ""
           }
          },
          "colorscale": {
           "diverging": [
            [
             0,
             "#8e0152"
            ],
            [
             0.1,
             "#c51b7d"
            ],
            [
             0.2,
             "#de77ae"
            ],
            [
             0.3,
             "#f1b6da"
            ],
            [
             0.4,
             "#fde0ef"
            ],
            [
             0.5,
             "#f7f7f7"
            ],
            [
             0.6,
             "#e6f5d0"
            ],
            [
             0.7,
             "#b8e186"
            ],
            [
             0.8,
             "#7fbc41"
            ],
            [
             0.9,
             "#4d9221"
            ],
            [
             1,
             "#276419"
            ]
           ],
           "sequential": [
            [
             0,
             "#0d0887"
            ],
            [
             0.1111111111111111,
             "#46039f"
            ],
            [
             0.2222222222222222,
             "#7201a8"
            ],
            [
             0.3333333333333333,
             "#9c179e"
            ],
            [
             0.4444444444444444,
             "#bd3786"
            ],
            [
             0.5555555555555556,
             "#d8576b"
            ],
            [
             0.6666666666666666,
             "#ed7953"
            ],
            [
             0.7777777777777778,
             "#fb9f3a"
            ],
            [
             0.8888888888888888,
             "#fdca26"
            ],
            [
             1,
             "#f0f921"
            ]
           ],
           "sequentialminus": [
            [
             0,
             "#0d0887"
            ],
            [
             0.1111111111111111,
             "#46039f"
            ],
            [
             0.2222222222222222,
             "#7201a8"
            ],
            [
             0.3333333333333333,
             "#9c179e"
            ],
            [
             0.4444444444444444,
             "#bd3786"
            ],
            [
             0.5555555555555556,
             "#d8576b"
            ],
            [
             0.6666666666666666,
             "#ed7953"
            ],
            [
             0.7777777777777778,
             "#fb9f3a"
            ],
            [
             0.8888888888888888,
             "#fdca26"
            ],
            [
             1,
             "#f0f921"
            ]
           ]
          },
          "colorway": [
           "#636efa",
           "#EF553B",
           "#00cc96",
           "#ab63fa",
           "#FFA15A",
           "#19d3f3",
           "#FF6692",
           "#B6E880",
           "#FF97FF",
           "#FECB52"
          ],
          "font": {
           "color": "#2a3f5f"
          },
          "geo": {
           "bgcolor": "white",
           "lakecolor": "white",
           "landcolor": "#E5ECF6",
           "showlakes": true,
           "showland": true,
           "subunitcolor": "white"
          },
          "hoverlabel": {
           "align": "left"
          },
          "hovermode": "closest",
          "mapbox": {
           "style": "light"
          },
          "paper_bgcolor": "white",
          "plot_bgcolor": "#E5ECF6",
          "polar": {
           "angularaxis": {
            "gridcolor": "white",
            "linecolor": "white",
            "ticks": ""
           },
           "bgcolor": "#E5ECF6",
           "radialaxis": {
            "gridcolor": "white",
            "linecolor": "white",
            "ticks": ""
           }
          },
          "scene": {
           "xaxis": {
            "backgroundcolor": "#E5ECF6",
            "gridcolor": "white",
            "gridwidth": 2,
            "linecolor": "white",
            "showbackground": true,
            "ticks": "",
            "zerolinecolor": "white"
           },
           "yaxis": {
            "backgroundcolor": "#E5ECF6",
            "gridcolor": "white",
            "gridwidth": 2,
            "linecolor": "white",
            "showbackground": true,
            "ticks": "",
            "zerolinecolor": "white"
           },
           "zaxis": {
            "backgroundcolor": "#E5ECF6",
            "gridcolor": "white",
            "gridwidth": 2,
            "linecolor": "white",
            "showbackground": true,
            "ticks": "",
            "zerolinecolor": "white"
           }
          },
          "shapedefaults": {
           "line": {
            "color": "#2a3f5f"
           }
          },
          "ternary": {
           "aaxis": {
            "gridcolor": "white",
            "linecolor": "white",
            "ticks": ""
           },
           "baxis": {
            "gridcolor": "white",
            "linecolor": "white",
            "ticks": ""
           },
           "bgcolor": "#E5ECF6",
           "caxis": {
            "gridcolor": "white",
            "linecolor": "white",
            "ticks": ""
           }
          },
          "title": {
           "x": 0.05
          },
          "xaxis": {
           "automargin": true,
           "gridcolor": "white",
           "linecolor": "white",
           "ticks": "",
           "title": {
            "standoff": 15
           },
           "zerolinecolor": "white",
           "zerolinewidth": 2
          },
          "yaxis": {
           "automargin": true,
           "gridcolor": "white",
           "linecolor": "white",
           "ticks": "",
           "title": {
            "standoff": 15
           },
           "zerolinecolor": "white",
           "zerolinewidth": 2
          }
         }
        },
        "title": {
         "text": "Accuracy using TIME"
        },
        "width": 800,
        "xaxis": {
         "title": {
          "text": "Dataset"
         }
        },
        "yaxis": {
         "title": {
          "text": "Accuracy (mean)"
         }
        }
       }
      }
     },
     "metadata": {},
     "output_type": "display_data"
    }
   ],
   "source": [
    "df = results.copy()\n",
    "df = filter_domain_time_only(df)\n",
    "df = filter_features_all(df)\n",
    "df = filter_reducer_over_all(df)\n",
    "df = filter_scaler_none(df)\n",
    "df = filter_view_standardized_balanced(df)\n",
    "df = filter_only_reducer_dataset_equals_train_dataset_or_no_reducer(df)\n",
    "# df = get_umap_improvement_over_no_umap(df)\n",
    "df = best_of_each_umap(df)\n",
    "\n",
    "fig = chart_bar_with_side_by_side(df, improvement_col=\"accuracy (mean)\", groupby=\"estimator\", inner_group=\"train_datasets\")\n",
    "# fig.add_hline(y=1.0, line_dash=\"dash\", line_color=\"magenta\")\n",
    "fig.update_layout(\n",
    "    title=\"Accuracy using TIME\",\n",
    "    xaxis_title=\"Dataset\",\n",
    "    yaxis_title=\"Accuracy (mean)\",\n",
    "    legend_title=\"Estimator\",\n",
    "    width=800,\n",
    "    height=600\n",
    ")\n",
    "fig.show()"
   ]
  },
  {
   "attachments": {},
   "cell_type": "markdown",
   "metadata": {},
   "source": [
    "## Pergunta 8"
   ]
  },
  {
   "cell_type": "code",
   "execution_count": null,
   "metadata": {},
   "outputs": [],
   "source": []
  },
  {
   "attachments": {},
   "cell_type": "markdown",
   "metadata": {},
   "source": [
    "## Pergunta 9\n",
    "\n",
    "Normalização traz mais benefícios?"
   ]
  },
  {
   "cell_type": "code",
   "execution_count": 38,
   "metadata": {},
   "outputs": [],
   "source": [
    "def get_scaler_improvement(df):\n",
    "    experiment_uniq = [c for c in unique_exp_columns if c not in [\"scaler\"]]\n",
    "\n",
    "    all_values = {}\n",
    "    for _, subdf in df[df[\"scaler\"] == \"no scaler\"].iterrows():\n",
    "        all_values[tuple(subdf[experiment_uniq].values.tolist())] = subdf[\"accuracy (mean)\"]\n",
    "\n",
    "    df[\"umap improvement\"] = df.apply(lambda x: x[\"accuracy (mean)\"] / all_values.get(tuple(x[experiment_uniq].values.tolist()), np.nan), axis=1)\n",
    "    df = df.dropna(subset=[\"umap improvement\"], inplace=False)\n",
    "    df = df[df[\"scaler\"] != \"no scaler\"]\n",
    "    lines = [subdf[subdf[\"umap improvement\"] == subdf[\"umap improvement\"].max()].iloc[0] for _, subdf in df.groupby(experiment_uniq)]\n",
    "    df = pd.DataFrame(lines)\n",
    "    return df"
   ]
  },
  {
   "cell_type": "code",
   "execution_count": 39,
   "metadata": {},
   "outputs": [
    {
     "data": {
      "application/vnd.plotly.v1+json": {
       "config": {
        "plotlyServerURL": "https://plot.ly"
       },
       "data": [
        {
         "marker": {
          "color": "#636EFA"
         },
         "name": "KNN-5",
         "type": "bar",
         "x": [
          "('kuhar', 'MinMaxScaler')",
          "('kuhar', 'StandardScaler')",
          "('motionsense', 'MinMaxScaler')",
          "('motionsense', 'StandardScaler')",
          "('uci', 'MinMaxScaler')",
          "('uci', 'StandardScaler')",
          "('wisdm', 'MinMaxScaler')",
          "('wisdm', 'StandardScaler')"
         ],
         "y": [
          0.9912280701754385,
          1.0347826086956524,
          0.9936642027455121,
          1.003112033195021,
          0.9910714285714287,
          1.0374015748031495,
          0.9985190670122178,
          1.0301960784313724
         ]
        },
        {
         "marker": {
          "color": "#00CC96"
         },
         "name": "SVM-rbf-C1.0",
         "type": "bar",
         "x": [
          "('kuhar', 'MinMaxScaler')",
          "('kuhar', 'StandardScaler')",
          "('motionsense', 'MinMaxScaler')",
          "('motionsense', 'StandardScaler')",
          "('uci', 'MinMaxScaler')",
          "('uci', 'StandardScaler')",
          "('wisdm', 'MinMaxScaler')",
          "('wisdm', 'StandardScaler')"
         ],
         "y": [
          1.0097087378640777,
          1,
          1.0010460251046027,
          0.986315789473684,
          1.0829959514170042,
          1.043103448275862,
          1.043354943273906,
          1.1041162227602905
         ]
        },
        {
         "marker": {
          "color": "#AB63FA"
         },
         "name": "randomforest-100",
         "type": "bar",
         "x": [
          "('kuhar', 'MinMaxScaler')",
          "('kuhar', 'StandardScaler')",
          "('motionsense', 'MinMaxScaler')",
          "('motionsense', 'StandardScaler')",
          "('uci', 'MinMaxScaler')",
          "('uci', 'StandardScaler')",
          "('wisdm', 'MinMaxScaler')",
          "('wisdm', 'StandardScaler')"
         ],
         "y": [
          1.016464471403813,
          0.9861231569817867,
          1.0017631196847125,
          0.9976687506622867,
          0.9932992417563039,
          1.0271771473913904,
          1.0065142900176975,
          1.025168047522276
         ]
        }
       ],
       "layout": {
        "height": 600,
        "legend": {
         "title": {
          "text": "Estimator"
         }
        },
        "shapes": [
         {
          "line": {
           "color": "red",
           "dash": "dash"
          },
          "type": "line",
          "x0": 0,
          "x1": 1,
          "xref": "x domain",
          "y0": 1,
          "y1": 1,
          "yref": "y"
         }
        ],
        "template": {
         "data": {
          "bar": [
           {
            "error_x": {
             "color": "#2a3f5f"
            },
            "error_y": {
             "color": "#2a3f5f"
            },
            "marker": {
             "line": {
              "color": "#E5ECF6",
              "width": 0.5
             },
             "pattern": {
              "fillmode": "overlay",
              "size": 10,
              "solidity": 0.2
             }
            },
            "type": "bar"
           }
          ],
          "barpolar": [
           {
            "marker": {
             "line": {
              "color": "#E5ECF6",
              "width": 0.5
             },
             "pattern": {
              "fillmode": "overlay",
              "size": 10,
              "solidity": 0.2
             }
            },
            "type": "barpolar"
           }
          ],
          "carpet": [
           {
            "aaxis": {
             "endlinecolor": "#2a3f5f",
             "gridcolor": "white",
             "linecolor": "white",
             "minorgridcolor": "white",
             "startlinecolor": "#2a3f5f"
            },
            "baxis": {
             "endlinecolor": "#2a3f5f",
             "gridcolor": "white",
             "linecolor": "white",
             "minorgridcolor": "white",
             "startlinecolor": "#2a3f5f"
            },
            "type": "carpet"
           }
          ],
          "choropleth": [
           {
            "colorbar": {
             "outlinewidth": 0,
             "ticks": ""
            },
            "type": "choropleth"
           }
          ],
          "contour": [
           {
            "colorbar": {
             "outlinewidth": 0,
             "ticks": ""
            },
            "colorscale": [
             [
              0,
              "#0d0887"
             ],
             [
              0.1111111111111111,
              "#46039f"
             ],
             [
              0.2222222222222222,
              "#7201a8"
             ],
             [
              0.3333333333333333,
              "#9c179e"
             ],
             [
              0.4444444444444444,
              "#bd3786"
             ],
             [
              0.5555555555555556,
              "#d8576b"
             ],
             [
              0.6666666666666666,
              "#ed7953"
             ],
             [
              0.7777777777777778,
              "#fb9f3a"
             ],
             [
              0.8888888888888888,
              "#fdca26"
             ],
             [
              1,
              "#f0f921"
             ]
            ],
            "type": "contour"
           }
          ],
          "contourcarpet": [
           {
            "colorbar": {
             "outlinewidth": 0,
             "ticks": ""
            },
            "type": "contourcarpet"
           }
          ],
          "heatmap": [
           {
            "colorbar": {
             "outlinewidth": 0,
             "ticks": ""
            },
            "colorscale": [
             [
              0,
              "#0d0887"
             ],
             [
              0.1111111111111111,
              "#46039f"
             ],
             [
              0.2222222222222222,
              "#7201a8"
             ],
             [
              0.3333333333333333,
              "#9c179e"
             ],
             [
              0.4444444444444444,
              "#bd3786"
             ],
             [
              0.5555555555555556,
              "#d8576b"
             ],
             [
              0.6666666666666666,
              "#ed7953"
             ],
             [
              0.7777777777777778,
              "#fb9f3a"
             ],
             [
              0.8888888888888888,
              "#fdca26"
             ],
             [
              1,
              "#f0f921"
             ]
            ],
            "type": "heatmap"
           }
          ],
          "heatmapgl": [
           {
            "colorbar": {
             "outlinewidth": 0,
             "ticks": ""
            },
            "colorscale": [
             [
              0,
              "#0d0887"
             ],
             [
              0.1111111111111111,
              "#46039f"
             ],
             [
              0.2222222222222222,
              "#7201a8"
             ],
             [
              0.3333333333333333,
              "#9c179e"
             ],
             [
              0.4444444444444444,
              "#bd3786"
             ],
             [
              0.5555555555555556,
              "#d8576b"
             ],
             [
              0.6666666666666666,
              "#ed7953"
             ],
             [
              0.7777777777777778,
              "#fb9f3a"
             ],
             [
              0.8888888888888888,
              "#fdca26"
             ],
             [
              1,
              "#f0f921"
             ]
            ],
            "type": "heatmapgl"
           }
          ],
          "histogram": [
           {
            "marker": {
             "pattern": {
              "fillmode": "overlay",
              "size": 10,
              "solidity": 0.2
             }
            },
            "type": "histogram"
           }
          ],
          "histogram2d": [
           {
            "colorbar": {
             "outlinewidth": 0,
             "ticks": ""
            },
            "colorscale": [
             [
              0,
              "#0d0887"
             ],
             [
              0.1111111111111111,
              "#46039f"
             ],
             [
              0.2222222222222222,
              "#7201a8"
             ],
             [
              0.3333333333333333,
              "#9c179e"
             ],
             [
              0.4444444444444444,
              "#bd3786"
             ],
             [
              0.5555555555555556,
              "#d8576b"
             ],
             [
              0.6666666666666666,
              "#ed7953"
             ],
             [
              0.7777777777777778,
              "#fb9f3a"
             ],
             [
              0.8888888888888888,
              "#fdca26"
             ],
             [
              1,
              "#f0f921"
             ]
            ],
            "type": "histogram2d"
           }
          ],
          "histogram2dcontour": [
           {
            "colorbar": {
             "outlinewidth": 0,
             "ticks": ""
            },
            "colorscale": [
             [
              0,
              "#0d0887"
             ],
             [
              0.1111111111111111,
              "#46039f"
             ],
             [
              0.2222222222222222,
              "#7201a8"
             ],
             [
              0.3333333333333333,
              "#9c179e"
             ],
             [
              0.4444444444444444,
              "#bd3786"
             ],
             [
              0.5555555555555556,
              "#d8576b"
             ],
             [
              0.6666666666666666,
              "#ed7953"
             ],
             [
              0.7777777777777778,
              "#fb9f3a"
             ],
             [
              0.8888888888888888,
              "#fdca26"
             ],
             [
              1,
              "#f0f921"
             ]
            ],
            "type": "histogram2dcontour"
           }
          ],
          "mesh3d": [
           {
            "colorbar": {
             "outlinewidth": 0,
             "ticks": ""
            },
            "type": "mesh3d"
           }
          ],
          "parcoords": [
           {
            "line": {
             "colorbar": {
              "outlinewidth": 0,
              "ticks": ""
             }
            },
            "type": "parcoords"
           }
          ],
          "pie": [
           {
            "automargin": true,
            "type": "pie"
           }
          ],
          "scatter": [
           {
            "fillpattern": {
             "fillmode": "overlay",
             "size": 10,
             "solidity": 0.2
            },
            "type": "scatter"
           }
          ],
          "scatter3d": [
           {
            "line": {
             "colorbar": {
              "outlinewidth": 0,
              "ticks": ""
             }
            },
            "marker": {
             "colorbar": {
              "outlinewidth": 0,
              "ticks": ""
             }
            },
            "type": "scatter3d"
           }
          ],
          "scattercarpet": [
           {
            "marker": {
             "colorbar": {
              "outlinewidth": 0,
              "ticks": ""
             }
            },
            "type": "scattercarpet"
           }
          ],
          "scattergeo": [
           {
            "marker": {
             "colorbar": {
              "outlinewidth": 0,
              "ticks": ""
             }
            },
            "type": "scattergeo"
           }
          ],
          "scattergl": [
           {
            "marker": {
             "colorbar": {
              "outlinewidth": 0,
              "ticks": ""
             }
            },
            "type": "scattergl"
           }
          ],
          "scattermapbox": [
           {
            "marker": {
             "colorbar": {
              "outlinewidth": 0,
              "ticks": ""
             }
            },
            "type": "scattermapbox"
           }
          ],
          "scatterpolar": [
           {
            "marker": {
             "colorbar": {
              "outlinewidth": 0,
              "ticks": ""
             }
            },
            "type": "scatterpolar"
           }
          ],
          "scatterpolargl": [
           {
            "marker": {
             "colorbar": {
              "outlinewidth": 0,
              "ticks": ""
             }
            },
            "type": "scatterpolargl"
           }
          ],
          "scatterternary": [
           {
            "marker": {
             "colorbar": {
              "outlinewidth": 0,
              "ticks": ""
             }
            },
            "type": "scatterternary"
           }
          ],
          "surface": [
           {
            "colorbar": {
             "outlinewidth": 0,
             "ticks": ""
            },
            "colorscale": [
             [
              0,
              "#0d0887"
             ],
             [
              0.1111111111111111,
              "#46039f"
             ],
             [
              0.2222222222222222,
              "#7201a8"
             ],
             [
              0.3333333333333333,
              "#9c179e"
             ],
             [
              0.4444444444444444,
              "#bd3786"
             ],
             [
              0.5555555555555556,
              "#d8576b"
             ],
             [
              0.6666666666666666,
              "#ed7953"
             ],
             [
              0.7777777777777778,
              "#fb9f3a"
             ],
             [
              0.8888888888888888,
              "#fdca26"
             ],
             [
              1,
              "#f0f921"
             ]
            ],
            "type": "surface"
           }
          ],
          "table": [
           {
            "cells": {
             "fill": {
              "color": "#EBF0F8"
             },
             "line": {
              "color": "white"
             }
            },
            "header": {
             "fill": {
              "color": "#C8D4E3"
             },
             "line": {
              "color": "white"
             }
            },
            "type": "table"
           }
          ]
         },
         "layout": {
          "annotationdefaults": {
           "arrowcolor": "#2a3f5f",
           "arrowhead": 0,
           "arrowwidth": 1
          },
          "autotypenumbers": "strict",
          "coloraxis": {
           "colorbar": {
            "outlinewidth": 0,
            "ticks": ""
           }
          },
          "colorscale": {
           "diverging": [
            [
             0,
             "#8e0152"
            ],
            [
             0.1,
             "#c51b7d"
            ],
            [
             0.2,
             "#de77ae"
            ],
            [
             0.3,
             "#f1b6da"
            ],
            [
             0.4,
             "#fde0ef"
            ],
            [
             0.5,
             "#f7f7f7"
            ],
            [
             0.6,
             "#e6f5d0"
            ],
            [
             0.7,
             "#b8e186"
            ],
            [
             0.8,
             "#7fbc41"
            ],
            [
             0.9,
             "#4d9221"
            ],
            [
             1,
             "#276419"
            ]
           ],
           "sequential": [
            [
             0,
             "#0d0887"
            ],
            [
             0.1111111111111111,
             "#46039f"
            ],
            [
             0.2222222222222222,
             "#7201a8"
            ],
            [
             0.3333333333333333,
             "#9c179e"
            ],
            [
             0.4444444444444444,
             "#bd3786"
            ],
            [
             0.5555555555555556,
             "#d8576b"
            ],
            [
             0.6666666666666666,
             "#ed7953"
            ],
            [
             0.7777777777777778,
             "#fb9f3a"
            ],
            [
             0.8888888888888888,
             "#fdca26"
            ],
            [
             1,
             "#f0f921"
            ]
           ],
           "sequentialminus": [
            [
             0,
             "#0d0887"
            ],
            [
             0.1111111111111111,
             "#46039f"
            ],
            [
             0.2222222222222222,
             "#7201a8"
            ],
            [
             0.3333333333333333,
             "#9c179e"
            ],
            [
             0.4444444444444444,
             "#bd3786"
            ],
            [
             0.5555555555555556,
             "#d8576b"
            ],
            [
             0.6666666666666666,
             "#ed7953"
            ],
            [
             0.7777777777777778,
             "#fb9f3a"
            ],
            [
             0.8888888888888888,
             "#fdca26"
            ],
            [
             1,
             "#f0f921"
            ]
           ]
          },
          "colorway": [
           "#636efa",
           "#EF553B",
           "#00cc96",
           "#ab63fa",
           "#FFA15A",
           "#19d3f3",
           "#FF6692",
           "#B6E880",
           "#FF97FF",
           "#FECB52"
          ],
          "font": {
           "color": "#2a3f5f"
          },
          "geo": {
           "bgcolor": "white",
           "lakecolor": "white",
           "landcolor": "#E5ECF6",
           "showlakes": true,
           "showland": true,
           "subunitcolor": "white"
          },
          "hoverlabel": {
           "align": "left"
          },
          "hovermode": "closest",
          "mapbox": {
           "style": "light"
          },
          "paper_bgcolor": "white",
          "plot_bgcolor": "#E5ECF6",
          "polar": {
           "angularaxis": {
            "gridcolor": "white",
            "linecolor": "white",
            "ticks": ""
           },
           "bgcolor": "#E5ECF6",
           "radialaxis": {
            "gridcolor": "white",
            "linecolor": "white",
            "ticks": ""
           }
          },
          "scene": {
           "xaxis": {
            "backgroundcolor": "#E5ECF6",
            "gridcolor": "white",
            "gridwidth": 2,
            "linecolor": "white",
            "showbackground": true,
            "ticks": "",
            "zerolinecolor": "white"
           },
           "yaxis": {
            "backgroundcolor": "#E5ECF6",
            "gridcolor": "white",
            "gridwidth": 2,
            "linecolor": "white",
            "showbackground": true,
            "ticks": "",
            "zerolinecolor": "white"
           },
           "zaxis": {
            "backgroundcolor": "#E5ECF6",
            "gridcolor": "white",
            "gridwidth": 2,
            "linecolor": "white",
            "showbackground": true,
            "ticks": "",
            "zerolinecolor": "white"
           }
          },
          "shapedefaults": {
           "line": {
            "color": "#2a3f5f"
           }
          },
          "ternary": {
           "aaxis": {
            "gridcolor": "white",
            "linecolor": "white",
            "ticks": ""
           },
           "baxis": {
            "gridcolor": "white",
            "linecolor": "white",
            "ticks": ""
           },
           "bgcolor": "#E5ECF6",
           "caxis": {
            "gridcolor": "white",
            "linecolor": "white",
            "ticks": ""
           }
          },
          "title": {
           "x": 0.05
          },
          "xaxis": {
           "automargin": true,
           "gridcolor": "white",
           "linecolor": "white",
           "ticks": "",
           "title": {
            "standoff": 15
           },
           "zerolinecolor": "white",
           "zerolinewidth": 2
          },
          "yaxis": {
           "automargin": true,
           "gridcolor": "white",
           "linecolor": "white",
           "ticks": "",
           "title": {
            "standoff": 15
           },
           "zerolinecolor": "white",
           "zerolinewidth": 2
          }
         }
        },
        "title": {
         "text": "Improvement using different scalers"
        },
        "width": 1200,
        "xaxis": {
         "title": {
          "text": "dataset / scaler"
         }
        },
        "yaxis": {
         "title": {
          "text": "Improvement over using no scaler"
         }
        }
       }
      }
     },
     "metadata": {},
     "output_type": "display_data"
    }
   ],
   "source": [
    "df = results.copy()\n",
    "df = filter_domain_fft_only(df)\n",
    "df = filter_features_all(df)\n",
    "df = filter_reducer_over_all(df)\n",
    "# df = filter_scaler_none(df)\n",
    "df = filter_view_standardized_balanced(df)\n",
    "# df = best_of_each_umap(df)\n",
    "df = filter_only_reducer_dataset_equals_train_dataset(df)\n",
    "df = get_scaler_improvement(df)\n",
    "\n",
    "fig = chart_bar_with_side_by_side(df, improvement_col=\"umap improvement\", groupby=\"estimator\", inner_group=[\"train_datasets\", \"scaler\"])\n",
    "fig.add_hline(y=1.0, line_dash=\"dash\", line_color=\"red\")\n",
    "fig.update_layout(\n",
    "    title=\"Improvement using different scalers\",\n",
    "    xaxis_title=\"dataset / scaler\",\n",
    "    yaxis_title=\"Improvement over using no scaler\",\n",
    "    legend_title=\"Estimator\",\n",
    "    width=1200,\n",
    "    height=600\n",
    ")\n",
    "fig.show()\n"
   ]
  },
  {
   "attachments": {},
   "cell_type": "markdown",
   "metadata": {},
   "source": [
    "## Pergunta 10\n",
    "\n",
    "Quais os sensores que ajudam mais: acelerômetro, giroscópio, ambos?\n"
   ]
  },
  {
   "cell_type": "code",
   "execution_count": 40,
   "metadata": {},
   "outputs": [],
   "source": [
    "def get_in_use_features_improvement(df):\n",
    "    experiment_uniq = [c for c in unique_exp_columns if c not in [\"in_use_features\"]]\n",
    "\n",
    "    all_values = {}\n",
    "    for _, subdf in df[(df[\"in_use_features\"].str.contains(\"accel-x\")) & (df[\"in_use_features\"].str.contains(\"gyro-x\"))  ].iterrows():\n",
    "        all_values[tuple(subdf[experiment_uniq].values.tolist())] = subdf[\"accuracy (mean)\"]\n",
    "\n",
    "    df[\"umap improvement\"] = df.apply(lambda x: x[\"accuracy (mean)\"] / all_values.get(tuple(x[experiment_uniq].values.tolist()), np.nan), axis=1)\n",
    "    df = df.dropna(subset=[\"umap improvement\"], inplace=False)\n",
    "    df = df.loc[\n",
    "        ~(df[\"in_use_features\"].str.contains(\"accel-y\")\n",
    "        & df[\"in_use_features\"].str.contains(\"accel-z\")\n",
    "        & df[\"in_use_features\"].str.contains(\"gyro-x\")\n",
    "        & df[\"in_use_features\"].str.contains(\"gyro-y\")\n",
    "        & df[\"in_use_features\"].str.contains(\"gyro-z\"))\n",
    "    ]\n",
    "    lines = [subdf[subdf[\"umap improvement\"] == subdf[\"umap improvement\"].max()].iloc[0] for _, subdf in df.groupby(experiment_uniq)]\n",
    "    df = pd.DataFrame(lines)\n",
    "    return df"
   ]
  },
  {
   "cell_type": "code",
   "execution_count": 41,
   "metadata": {},
   "outputs": [
    {
     "data": {
      "application/vnd.plotly.v1+json": {
       "config": {
        "plotlyServerURL": "https://plot.ly"
       },
       "data": [
        {
         "marker": {
          "color": "#636EFA"
         },
         "name": "KNN-5",
         "type": "bar",
         "x": [
          "('kuhar', 'accel-x, accel-y, accel-z')",
          "('kuhar', 'gyro-x, gyro-y, gyro-z')",
          "('motionsense', 'accel-x, accel-y, accel-z')",
          "('uci', 'gyro-x, gyro-y, gyro-z')",
          "('wisdm', 'accel-x, accel-y, accel-z')",
          "('wisdm', 'gyro-x, gyro-y, gyro-z')"
         ],
         "y": [
          0.9658119658119658,
          1.0614035087719298,
          0.9609292502639916,
          1.1043307086614174,
          0.9680890538033393,
          0.9878431372549018
         ]
        },
        {
         "marker": {
          "color": "#00CC96"
         },
         "name": "SVM-rbf-C1.0",
         "type": "bar",
         "x": [
          "('kuhar', 'accel-x, accel-y, accel-z')",
          "('kuhar', 'gyro-x, gyro-y, gyro-z')",
          "('motionsense', 'accel-x, accel-y, accel-z')",
          "('uci', 'gyro-x, gyro-y, gyro-z')",
          "('wisdm', 'accel-x, accel-y, accel-z')",
          "('wisdm', 'gyro-x, gyro-y, gyro-z')"
         ],
         "y": [
          0.9537037037037037,
          1.116504854368932,
          0.9589473684210524,
          1.2068965517241381,
          1.0468119451170297,
          0.9947325769854135
         ]
        },
        {
         "marker": {
          "color": "#AB63FA"
         },
         "name": "randomforest-100",
         "type": "bar",
         "x": [
          "('kuhar', 'accel-x, accel-y, accel-z')",
          "('kuhar', 'gyro-x, gyro-y, gyro-z')",
          "('motionsense', 'accel-x, accel-y, accel-z')",
          "('uci', 'gyro-x, gyro-y, gyro-z')",
          "('wisdm', 'accel-x, accel-y, accel-z')",
          "('wisdm', 'gyro-x, gyro-y, gyro-z')"
         ],
         "y": [
          0.9934264585045192,
          1.0164787510841282,
          0.9676804069089752,
          1.124380083316802,
          0.9770760925830067,
          0.9804205096138816
         ]
        }
       ],
       "layout": {
        "height": 600,
        "legend": {
         "title": {
          "text": "Estimator"
         }
        },
        "shapes": [
         {
          "line": {
           "color": "red",
           "dash": "dash"
          },
          "type": "line",
          "x0": 0,
          "x1": 1,
          "xref": "x domain",
          "y0": 1,
          "y1": 1,
          "yref": "y"
         }
        ],
        "template": {
         "data": {
          "bar": [
           {
            "error_x": {
             "color": "#2a3f5f"
            },
            "error_y": {
             "color": "#2a3f5f"
            },
            "marker": {
             "line": {
              "color": "#E5ECF6",
              "width": 0.5
             },
             "pattern": {
              "fillmode": "overlay",
              "size": 10,
              "solidity": 0.2
             }
            },
            "type": "bar"
           }
          ],
          "barpolar": [
           {
            "marker": {
             "line": {
              "color": "#E5ECF6",
              "width": 0.5
             },
             "pattern": {
              "fillmode": "overlay",
              "size": 10,
              "solidity": 0.2
             }
            },
            "type": "barpolar"
           }
          ],
          "carpet": [
           {
            "aaxis": {
             "endlinecolor": "#2a3f5f",
             "gridcolor": "white",
             "linecolor": "white",
             "minorgridcolor": "white",
             "startlinecolor": "#2a3f5f"
            },
            "baxis": {
             "endlinecolor": "#2a3f5f",
             "gridcolor": "white",
             "linecolor": "white",
             "minorgridcolor": "white",
             "startlinecolor": "#2a3f5f"
            },
            "type": "carpet"
           }
          ],
          "choropleth": [
           {
            "colorbar": {
             "outlinewidth": 0,
             "ticks": ""
            },
            "type": "choropleth"
           }
          ],
          "contour": [
           {
            "colorbar": {
             "outlinewidth": 0,
             "ticks": ""
            },
            "colorscale": [
             [
              0,
              "#0d0887"
             ],
             [
              0.1111111111111111,
              "#46039f"
             ],
             [
              0.2222222222222222,
              "#7201a8"
             ],
             [
              0.3333333333333333,
              "#9c179e"
             ],
             [
              0.4444444444444444,
              "#bd3786"
             ],
             [
              0.5555555555555556,
              "#d8576b"
             ],
             [
              0.6666666666666666,
              "#ed7953"
             ],
             [
              0.7777777777777778,
              "#fb9f3a"
             ],
             [
              0.8888888888888888,
              "#fdca26"
             ],
             [
              1,
              "#f0f921"
             ]
            ],
            "type": "contour"
           }
          ],
          "contourcarpet": [
           {
            "colorbar": {
             "outlinewidth": 0,
             "ticks": ""
            },
            "type": "contourcarpet"
           }
          ],
          "heatmap": [
           {
            "colorbar": {
             "outlinewidth": 0,
             "ticks": ""
            },
            "colorscale": [
             [
              0,
              "#0d0887"
             ],
             [
              0.1111111111111111,
              "#46039f"
             ],
             [
              0.2222222222222222,
              "#7201a8"
             ],
             [
              0.3333333333333333,
              "#9c179e"
             ],
             [
              0.4444444444444444,
              "#bd3786"
             ],
             [
              0.5555555555555556,
              "#d8576b"
             ],
             [
              0.6666666666666666,
              "#ed7953"
             ],
             [
              0.7777777777777778,
              "#fb9f3a"
             ],
             [
              0.8888888888888888,
              "#fdca26"
             ],
             [
              1,
              "#f0f921"
             ]
            ],
            "type": "heatmap"
           }
          ],
          "heatmapgl": [
           {
            "colorbar": {
             "outlinewidth": 0,
             "ticks": ""
            },
            "colorscale": [
             [
              0,
              "#0d0887"
             ],
             [
              0.1111111111111111,
              "#46039f"
             ],
             [
              0.2222222222222222,
              "#7201a8"
             ],
             [
              0.3333333333333333,
              "#9c179e"
             ],
             [
              0.4444444444444444,
              "#bd3786"
             ],
             [
              0.5555555555555556,
              "#d8576b"
             ],
             [
              0.6666666666666666,
              "#ed7953"
             ],
             [
              0.7777777777777778,
              "#fb9f3a"
             ],
             [
              0.8888888888888888,
              "#fdca26"
             ],
             [
              1,
              "#f0f921"
             ]
            ],
            "type": "heatmapgl"
           }
          ],
          "histogram": [
           {
            "marker": {
             "pattern": {
              "fillmode": "overlay",
              "size": 10,
              "solidity": 0.2
             }
            },
            "type": "histogram"
           }
          ],
          "histogram2d": [
           {
            "colorbar": {
             "outlinewidth": 0,
             "ticks": ""
            },
            "colorscale": [
             [
              0,
              "#0d0887"
             ],
             [
              0.1111111111111111,
              "#46039f"
             ],
             [
              0.2222222222222222,
              "#7201a8"
             ],
             [
              0.3333333333333333,
              "#9c179e"
             ],
             [
              0.4444444444444444,
              "#bd3786"
             ],
             [
              0.5555555555555556,
              "#d8576b"
             ],
             [
              0.6666666666666666,
              "#ed7953"
             ],
             [
              0.7777777777777778,
              "#fb9f3a"
             ],
             [
              0.8888888888888888,
              "#fdca26"
             ],
             [
              1,
              "#f0f921"
             ]
            ],
            "type": "histogram2d"
           }
          ],
          "histogram2dcontour": [
           {
            "colorbar": {
             "outlinewidth": 0,
             "ticks": ""
            },
            "colorscale": [
             [
              0,
              "#0d0887"
             ],
             [
              0.1111111111111111,
              "#46039f"
             ],
             [
              0.2222222222222222,
              "#7201a8"
             ],
             [
              0.3333333333333333,
              "#9c179e"
             ],
             [
              0.4444444444444444,
              "#bd3786"
             ],
             [
              0.5555555555555556,
              "#d8576b"
             ],
             [
              0.6666666666666666,
              "#ed7953"
             ],
             [
              0.7777777777777778,
              "#fb9f3a"
             ],
             [
              0.8888888888888888,
              "#fdca26"
             ],
             [
              1,
              "#f0f921"
             ]
            ],
            "type": "histogram2dcontour"
           }
          ],
          "mesh3d": [
           {
            "colorbar": {
             "outlinewidth": 0,
             "ticks": ""
            },
            "type": "mesh3d"
           }
          ],
          "parcoords": [
           {
            "line": {
             "colorbar": {
              "outlinewidth": 0,
              "ticks": ""
             }
            },
            "type": "parcoords"
           }
          ],
          "pie": [
           {
            "automargin": true,
            "type": "pie"
           }
          ],
          "scatter": [
           {
            "fillpattern": {
             "fillmode": "overlay",
             "size": 10,
             "solidity": 0.2
            },
            "type": "scatter"
           }
          ],
          "scatter3d": [
           {
            "line": {
             "colorbar": {
              "outlinewidth": 0,
              "ticks": ""
             }
            },
            "marker": {
             "colorbar": {
              "outlinewidth": 0,
              "ticks": ""
             }
            },
            "type": "scatter3d"
           }
          ],
          "scattercarpet": [
           {
            "marker": {
             "colorbar": {
              "outlinewidth": 0,
              "ticks": ""
             }
            },
            "type": "scattercarpet"
           }
          ],
          "scattergeo": [
           {
            "marker": {
             "colorbar": {
              "outlinewidth": 0,
              "ticks": ""
             }
            },
            "type": "scattergeo"
           }
          ],
          "scattergl": [
           {
            "marker": {
             "colorbar": {
              "outlinewidth": 0,
              "ticks": ""
             }
            },
            "type": "scattergl"
           }
          ],
          "scattermapbox": [
           {
            "marker": {
             "colorbar": {
              "outlinewidth": 0,
              "ticks": ""
             }
            },
            "type": "scattermapbox"
           }
          ],
          "scatterpolar": [
           {
            "marker": {
             "colorbar": {
              "outlinewidth": 0,
              "ticks": ""
             }
            },
            "type": "scatterpolar"
           }
          ],
          "scatterpolargl": [
           {
            "marker": {
             "colorbar": {
              "outlinewidth": 0,
              "ticks": ""
             }
            },
            "type": "scatterpolargl"
           }
          ],
          "scatterternary": [
           {
            "marker": {
             "colorbar": {
              "outlinewidth": 0,
              "ticks": ""
             }
            },
            "type": "scatterternary"
           }
          ],
          "surface": [
           {
            "colorbar": {
             "outlinewidth": 0,
             "ticks": ""
            },
            "colorscale": [
             [
              0,
              "#0d0887"
             ],
             [
              0.1111111111111111,
              "#46039f"
             ],
             [
              0.2222222222222222,
              "#7201a8"
             ],
             [
              0.3333333333333333,
              "#9c179e"
             ],
             [
              0.4444444444444444,
              "#bd3786"
             ],
             [
              0.5555555555555556,
              "#d8576b"
             ],
             [
              0.6666666666666666,
              "#ed7953"
             ],
             [
              0.7777777777777778,
              "#fb9f3a"
             ],
             [
              0.8888888888888888,
              "#fdca26"
             ],
             [
              1,
              "#f0f921"
             ]
            ],
            "type": "surface"
           }
          ],
          "table": [
           {
            "cells": {
             "fill": {
              "color": "#EBF0F8"
             },
             "line": {
              "color": "white"
             }
            },
            "header": {
             "fill": {
              "color": "#C8D4E3"
             },
             "line": {
              "color": "white"
             }
            },
            "type": "table"
           }
          ]
         },
         "layout": {
          "annotationdefaults": {
           "arrowcolor": "#2a3f5f",
           "arrowhead": 0,
           "arrowwidth": 1
          },
          "autotypenumbers": "strict",
          "coloraxis": {
           "colorbar": {
            "outlinewidth": 0,
            "ticks": ""
           }
          },
          "colorscale": {
           "diverging": [
            [
             0,
             "#8e0152"
            ],
            [
             0.1,
             "#c51b7d"
            ],
            [
             0.2,
             "#de77ae"
            ],
            [
             0.3,
             "#f1b6da"
            ],
            [
             0.4,
             "#fde0ef"
            ],
            [
             0.5,
             "#f7f7f7"
            ],
            [
             0.6,
             "#e6f5d0"
            ],
            [
             0.7,
             "#b8e186"
            ],
            [
             0.8,
             "#7fbc41"
            ],
            [
             0.9,
             "#4d9221"
            ],
            [
             1,
             "#276419"
            ]
           ],
           "sequential": [
            [
             0,
             "#0d0887"
            ],
            [
             0.1111111111111111,
             "#46039f"
            ],
            [
             0.2222222222222222,
             "#7201a8"
            ],
            [
             0.3333333333333333,
             "#9c179e"
            ],
            [
             0.4444444444444444,
             "#bd3786"
            ],
            [
             0.5555555555555556,
             "#d8576b"
            ],
            [
             0.6666666666666666,
             "#ed7953"
            ],
            [
             0.7777777777777778,
             "#fb9f3a"
            ],
            [
             0.8888888888888888,
             "#fdca26"
            ],
            [
             1,
             "#f0f921"
            ]
           ],
           "sequentialminus": [
            [
             0,
             "#0d0887"
            ],
            [
             0.1111111111111111,
             "#46039f"
            ],
            [
             0.2222222222222222,
             "#7201a8"
            ],
            [
             0.3333333333333333,
             "#9c179e"
            ],
            [
             0.4444444444444444,
             "#bd3786"
            ],
            [
             0.5555555555555556,
             "#d8576b"
            ],
            [
             0.6666666666666666,
             "#ed7953"
            ],
            [
             0.7777777777777778,
             "#fb9f3a"
            ],
            [
             0.8888888888888888,
             "#fdca26"
            ],
            [
             1,
             "#f0f921"
            ]
           ]
          },
          "colorway": [
           "#636efa",
           "#EF553B",
           "#00cc96",
           "#ab63fa",
           "#FFA15A",
           "#19d3f3",
           "#FF6692",
           "#B6E880",
           "#FF97FF",
           "#FECB52"
          ],
          "font": {
           "color": "#2a3f5f"
          },
          "geo": {
           "bgcolor": "white",
           "lakecolor": "white",
           "landcolor": "#E5ECF6",
           "showlakes": true,
           "showland": true,
           "subunitcolor": "white"
          },
          "hoverlabel": {
           "align": "left"
          },
          "hovermode": "closest",
          "mapbox": {
           "style": "light"
          },
          "paper_bgcolor": "white",
          "plot_bgcolor": "#E5ECF6",
          "polar": {
           "angularaxis": {
            "gridcolor": "white",
            "linecolor": "white",
            "ticks": ""
           },
           "bgcolor": "#E5ECF6",
           "radialaxis": {
            "gridcolor": "white",
            "linecolor": "white",
            "ticks": ""
           }
          },
          "scene": {
           "xaxis": {
            "backgroundcolor": "#E5ECF6",
            "gridcolor": "white",
            "gridwidth": 2,
            "linecolor": "white",
            "showbackground": true,
            "ticks": "",
            "zerolinecolor": "white"
           },
           "yaxis": {
            "backgroundcolor": "#E5ECF6",
            "gridcolor": "white",
            "gridwidth": 2,
            "linecolor": "white",
            "showbackground": true,
            "ticks": "",
            "zerolinecolor": "white"
           },
           "zaxis": {
            "backgroundcolor": "#E5ECF6",
            "gridcolor": "white",
            "gridwidth": 2,
            "linecolor": "white",
            "showbackground": true,
            "ticks": "",
            "zerolinecolor": "white"
           }
          },
          "shapedefaults": {
           "line": {
            "color": "#2a3f5f"
           }
          },
          "ternary": {
           "aaxis": {
            "gridcolor": "white",
            "linecolor": "white",
            "ticks": ""
           },
           "baxis": {
            "gridcolor": "white",
            "linecolor": "white",
            "ticks": ""
           },
           "bgcolor": "#E5ECF6",
           "caxis": {
            "gridcolor": "white",
            "linecolor": "white",
            "ticks": ""
           }
          },
          "title": {
           "x": 0.05
          },
          "xaxis": {
           "automargin": true,
           "gridcolor": "white",
           "linecolor": "white",
           "ticks": "",
           "title": {
            "standoff": 15
           },
           "zerolinecolor": "white",
           "zerolinewidth": 2
          },
          "yaxis": {
           "automargin": true,
           "gridcolor": "white",
           "linecolor": "white",
           "ticks": "",
           "title": {
            "standoff": 15
           },
           "zerolinecolor": "white",
           "zerolinewidth": 2
          }
         }
        },
        "title": {
         "text": "Improvement using different features"
        },
        "width": 1200,
        "xaxis": {
         "title": {
          "text": "dataset /  features"
         }
        },
        "yaxis": {
         "title": {
          "text": "Improvement over using all features"
         }
        }
       }
      }
     },
     "metadata": {},
     "output_type": "display_data"
    }
   ],
   "source": [
    "df = results.copy()\n",
    "df = filter_domain_fft_only(df)\n",
    "# df = filter_features_all(df)\n",
    "df = filter_reducer_over_all(df)\n",
    "df = filter_scaler_none(df)\n",
    "df = filter_view_standardized_balanced(df)\n",
    "# df = best_of_each_umap(df)\n",
    "df = filter_only_reducer_dataset_equals_train_dataset(df)\n",
    "df = get_in_use_features_improvement(df)\n",
    "\n",
    "fig = chart_bar_with_side_by_side(df, improvement_col=\"umap improvement\", groupby=\"estimator\", inner_group=[\"train_datasets\", \"in_use_features\"])\n",
    "fig.add_hline(y=1.0, line_dash=\"dash\", line_color=\"red\")\n",
    "fig.update_layout(\n",
    "    title=\"Improvement using different features\",\n",
    "    xaxis_title=\"dataset /  features\",\n",
    "    yaxis_title=\"Improvement over using all features\",\n",
    "    legend_title=\"Estimator\",\n",
    "    width=1200,\n",
    "    height=600\n",
    ")\n",
    "fig.show()"
   ]
  }
 ],
 "metadata": {
  "kernelspec": {
   "display_name": ".librep-venv",
   "language": "python",
   "name": "python3"
  },
  "language_info": {
   "codemirror_mode": {
    "name": "ipython",
    "version": 3
   },
   "file_extension": ".py",
   "mimetype": "text/x-python",
   "name": "python",
   "nbconvert_exporter": "python",
   "pygments_lexer": "ipython3",
   "version": "3.10.6"
  },
  "orig_nbformat": 4,
  "vscode": {
   "interpreter": {
    "hash": "e57cbd9857f73b6186314efc0497b85fc81e429910d4dfbf03f56c852bfb6a26"
   }
  }
 },
 "nbformat": 4,
 "nbformat_minor": 2
}
