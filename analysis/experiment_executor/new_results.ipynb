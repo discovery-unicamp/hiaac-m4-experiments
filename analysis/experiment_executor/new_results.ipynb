{
 "cells": [
  {
   "cell_type": "code",
   "execution_count": 1,
   "metadata": {},
   "outputs": [],
   "source": [
    "from pathlib import Path\n",
    "from typing import List\n",
    "\n",
    "import numpy as np\n",
    "import pandas as pd\n",
    "import plotly.express as px\n",
    "\n",
    "from IPython.display import display, HTML\n",
    "import plotly.graph_objects as go\n",
    "from plotly.subplots import make_subplots"
   ]
  },
  {
   "cell_type": "code",
   "execution_count": 78,
   "metadata": {},
   "outputs": [],
   "source": [
    "pd.set_option('display.max_rows', 20)\n",
    "pd.set_option('display.max_columns', 50)\n",
    "pd.set_option('display.width', 1000)\n",
    "\n",
    "# Let's define some constants\n",
    "\n",
    "datasets = [\n",
    "    \"kuhar\",\n",
    "    \"motionsense\",\n",
    "    \"uci\",\n",
    "    \"wisdm\",\n",
    "    \"realworld\"\n",
    "]\n",
    "\n",
    "\n",
    "labels_activity = {\n",
    "    0: \"sit\",\n",
    "    1: \"stand\",\n",
    "    2: \"walk\",\n",
    "    3: \"stair up\",\n",
    "    4: \"stair down\",\n",
    "    5: \"run\",\n",
    "    6: \"stair up and down\",\n",
    "}\n",
    "\n",
    "colors_map = {\n",
    "    \"plotly-blue\": px.colors.qualitative.Plotly[0],\n",
    "    \"plotly-red\": px.colors.qualitative.Plotly[1],\n",
    "    \"plotly-green\": px.colors.qualitative.Plotly[2],\n",
    "    \"plotly-purple\": px.colors.qualitative.Plotly[3],\n",
    "    \"plotly-orange\": px.colors.qualitative.Plotly[4],\n",
    "    \"plotly-cyan\": px.colors.qualitative.Plotly[5],\n",
    "    \"plotly-pink\": px.colors.qualitative.Plotly[6],\n",
    "    \"plotly-lightgreen\": px.colors.qualitative.Plotly[7],\n",
    "    \"plotly-lightpink\": px.colors.qualitative.Plotly[8],\n",
    "    \"plotly-yellow\": px.colors.qualitative.Plotly[9],\n",
    "}\n",
    "\n",
    "colors = list(colors_map.values())\n",
    "markers = [\"circle\", \"square\", \"diamond\", \"x\", \"triangle-up\", \"triangle-down\", \"pentagon\"]"
   ]
  },
  {
   "cell_type": "code",
   "execution_count": 3,
   "metadata": {},
   "outputs": [],
   "source": [
    "# Let's define some filters related to each of the columns\n",
    "\n",
    "# --- Related to domain ---\n",
    "def filter_domain_fft_only(df):\n",
    "    return df[df[\"transforms\"] == \"fft\"]\n",
    "\n",
    "def filter_domain_time_only(df):\n",
    "    return df.loc[df[\"transforms\"] == \"time\"]\n",
    "\n",
    "\n",
    "# --- Related to features ---\n",
    "def filter_features_all(df):\n",
    "    return df[\n",
    "        df[\"in_use_features\"].str.contains(\"accel-x\")\n",
    "        & df[\"in_use_features\"].str.contains(\"accel-y\")\n",
    "        & df[\"in_use_features\"].str.contains(\"accel-z\")\n",
    "        & df[\"in_use_features\"].str.contains(\"gyro-x\")\n",
    "        & df[\"in_use_features\"].str.contains(\"gyro-y\")\n",
    "        & df[\"in_use_features\"].str.contains(\"gyro-z\")\n",
    "    ]\n",
    "\n",
    "def filter_features_accelerometer_only(df):\n",
    "    return df[\n",
    "        df[\"in_use_features\"].str.contains(\"accel-x\")\n",
    "        & df[\"in_use_features\"].str.contains(\"accel-y\")\n",
    "        & df[\"in_use_features\"].str.contains(\"accel-z\")\n",
    "        & ~df[\"in_use_features\"].str.contains(\"gyro-x\")\n",
    "        & ~df[\"in_use_features\"].str.contains(\"gyro-y\")\n",
    "        & ~df[\"in_use_features\"].str.contains(\"gyro-z\")\n",
    "    ]\n",
    "\n",
    "def filter_features_gyroscope_only(df):\n",
    "    return df[\n",
    "        ~df[\"in_use_features\"].str.contains(\"accel-x\")\n",
    "        & ~df[\"in_use_features\"].str.contains(\"accel-y\")\n",
    "        & ~df[\"in_use_features\"].str.contains(\"accel-z\")\n",
    "        & df[\"in_use_features\"].str.contains(\"gyro-x\")\n",
    "        & df[\"in_use_features\"].str.contains(\"gyro-y\")\n",
    "        & df[\"in_use_features\"].str.contains(\"gyro-z\")\n",
    "    ]\n",
    "\n",
    "# --- Related to how reducer is executed ---\n",
    "def filter_reducer_over_all(df):\n",
    "    return df[df[\"reduce_on\"] == \"all\"]\n",
    "\n",
    "def filter_reducer_over_sensor(df):\n",
    "    return df[df[\"reduce_on\"] == \"sensor\"]\n",
    "\n",
    "def filter_reducer_over_axis(df):\n",
    "    return df[df[\"reduce_on\"] == \"axis\"]\n",
    "\n",
    "# --- Related to the estimator ---\n",
    "def filter_estimator_rf(df):\n",
    "    return df[df[\"estimator\"].str.lower().str.contains(\"randomforest\")]\n",
    "\n",
    "def filter_estimator_svm(df):\n",
    "    return df[df[\"estimator\"].str.lower().str.contains(\"svm\")]\n",
    "\n",
    "def filter_estimator_knn(df):\n",
    "    return df[df[\"estimator\"].str.lower().str.contains(\"knn\")]\n",
    "\n",
    "# --- Related to the scaler ---\n",
    "def filter_scaler_none(df):\n",
    "    return df[df[\"scaler\"] == \"no scaler\"]\n",
    "\n",
    "def filter_scaler_minmax(df):\n",
    "    return df[df[\"scaler\"].str.lower().str.contains(\"minmaxscaler\")]\n",
    "\n",
    "def filter_scaler_std(df):\n",
    "   return df[df[\"scaler\"].str.lower().str.contains(\"standardscaler\")]\n",
    "\n",
    "# --- Related to the view ---\n",
    "def filter_view_standardized_intra(df):\n",
    "    return df[df[\"view\"] == \"standartized_intra_balanced\"]\n",
    "\n",
    "def filter_view_raw(df):\n",
    "    return df[df[\"view\"] == \"raw_balanced\"]    \n",
    "\n",
    "# --- Some other useful filters ---\n",
    "def filter_only_reducer_dataset_equals_train_dataset(df):\n",
    "    return df[df[\"reducer_datasets\"] == df[\"train_datasets\"]]\n",
    "\n",
    "def filter_only_reducer_dataset_equals_train_dataset_or_no_reducer(df):\n",
    "    return df[(df[\"reducer_datasets\"] == df[\"train_datasets\"]) | (df[\"reducer_datasets\"] == \"\")]"
   ]
  },
  {
   "cell_type": "code",
   "execution_count": 4,
   "metadata": {},
   "outputs": [],
   "source": [
    "# Preprocessing steps\n",
    "def rename_datasets(\n",
    "    df, columns: List[str] = (\"reducer_datasets\", \"train_datasets\", \"test_datasets\")\n",
    "):\n",
    "    def rename_row(row):\n",
    "        for col in columns:\n",
    "            names = set()\n",
    "            for name in row[col].split(\",\"):\n",
    "                name = name.strip()\n",
    "                names.add(name.split(\".\")[0])\n",
    "            row[col] = \", \".join(sorted(names))\n",
    "        return row\n",
    "\n",
    "    df = df.apply(rename_row, axis=1)\n",
    "    return df\n",
    "\n",
    "def add_view_name(df, new_column_name: str = \"view\"):\n",
    "    df[new_column_name] = df[\"config_id\"].apply(lambda x: \"_\".join(x.split(\"_\")[:-1]))\n",
    "    return df\n",
    "\n",
    "def match_configs(df, new_column_name: str = \"config_group\"):\n",
    "    group_no = 0\n",
    "    for k, subdf in df.groupby(\n",
    "        [\n",
    "            \"in_use_features\",\n",
    "            \"scale_on\",\n",
    "            \"reduce_on\",\n",
    "            \"transforms\",\n",
    "            \"scaler\",\n",
    "            \"reducer\",\n",
    "            \"umap components\",\n",
    "            \"reducer_datasets\",\n",
    "            \"train_datasets\",\n",
    "            \"test_datasets\",\n",
    "            \"estimator\",\n",
    "        ]\n",
    "    ):\n",
    "        if len(subdf) == 2:\n",
    "            df.loc[subdf.index, new_column_name] = group_no\n",
    "            group_no += 1\n",
    "    return df"
   ]
  },
  {
   "cell_type": "code",
   "execution_count": 5,
   "metadata": {},
   "outputs": [
    {
     "data": {
      "text/html": [
       "<div>\n",
       "<style scoped>\n",
       "    .dataframe tbody tr th:only-of-type {\n",
       "        vertical-align: middle;\n",
       "    }\n",
       "\n",
       "    .dataframe tbody tr th {\n",
       "        vertical-align: top;\n",
       "    }\n",
       "\n",
       "    .dataframe thead th {\n",
       "        text-align: right;\n",
       "    }\n",
       "</style>\n",
       "<table border=\"1\" class=\"dataframe\">\n",
       "  <thead>\n",
       "    <tr style=\"text-align: right;\">\n",
       "      <th></th>\n",
       "      <th>experiment_name</th>\n",
       "      <th>run_name</th>\n",
       "      <th>config_id</th>\n",
       "      <th>reduce_size</th>\n",
       "      <th>train_size</th>\n",
       "      <th>test_size</th>\n",
       "      <th>in_use_features</th>\n",
       "      <th>scale_on</th>\n",
       "      <th>reduce_on</th>\n",
       "      <th>transforms</th>\n",
       "      <th>scaler</th>\n",
       "      <th>reducer</th>\n",
       "      <th>umap components</th>\n",
       "      <th>reducer_datasets</th>\n",
       "      <th>train_datasets</th>\n",
       "      <th>test_datasets</th>\n",
       "      <th>estimator</th>\n",
       "      <th>accuracy (mean)</th>\n",
       "      <th>accuracy (std)</th>\n",
       "      <th>f1-score macro (mean)</th>\n",
       "      <th>f1-score macro (std)</th>\n",
       "      <th>f1-score weighted (mean)</th>\n",
       "      <th>f1-score weighted (std)</th>\n",
       "      <th>view</th>\n",
       "      <th>config_group</th>\n",
       "    </tr>\n",
       "  </thead>\n",
       "  <tbody>\n",
       "    <tr>\n",
       "      <th>0</th>\n",
       "      <td>reducer_comb_1</td>\n",
       "      <td>execution1</td>\n",
       "      <td>standartized_intra_balanced_08609</td>\n",
       "      <td>0</td>\n",
       "      <td>1495</td>\n",
       "      <td>120</td>\n",
       "      <td>gyro-x, gyro-y, gyro-z</td>\n",
       "      <td>train</td>\n",
       "      <td>sensor</td>\n",
       "      <td></td>\n",
       "      <td></td>\n",
       "      <td>umap-7</td>\n",
       "      <td>7</td>\n",
       "      <td></td>\n",
       "      <td>wisdm</td>\n",
       "      <td>wisdm</td>\n",
       "      <td>randomforest-100</td>\n",
       "      <td>0.670833</td>\n",
       "      <td>2.770128e-02</td>\n",
       "      <td>0.667083</td>\n",
       "      <td>3.039176e-02</td>\n",
       "      <td>0.667083</td>\n",
       "      <td>3.039176e-02</td>\n",
       "      <td>standartized_intra_balanced</td>\n",
       "      <td>NaN</td>\n",
       "    </tr>\n",
       "    <tr>\n",
       "      <th>1</th>\n",
       "      <td>reducer_comb_1</td>\n",
       "      <td>execution1</td>\n",
       "      <td>standartized_intra_balanced_08609</td>\n",
       "      <td>0</td>\n",
       "      <td>1495</td>\n",
       "      <td>120</td>\n",
       "      <td>gyro-x, gyro-y, gyro-z</td>\n",
       "      <td>train</td>\n",
       "      <td>sensor</td>\n",
       "      <td></td>\n",
       "      <td></td>\n",
       "      <td>umap-7</td>\n",
       "      <td>7</td>\n",
       "      <td></td>\n",
       "      <td>wisdm</td>\n",
       "      <td>wisdm</td>\n",
       "      <td>KNN-5</td>\n",
       "      <td>0.541667</td>\n",
       "      <td>1.110223e-16</td>\n",
       "      <td>0.540794</td>\n",
       "      <td>0.000000e+00</td>\n",
       "      <td>0.540794</td>\n",
       "      <td>0.000000e+00</td>\n",
       "      <td>standartized_intra_balanced</td>\n",
       "      <td>NaN</td>\n",
       "    </tr>\n",
       "    <tr>\n",
       "      <th>2</th>\n",
       "      <td>reducer_comb_1</td>\n",
       "      <td>execution1</td>\n",
       "      <td>standartized_intra_balanced_08609</td>\n",
       "      <td>0</td>\n",
       "      <td>1495</td>\n",
       "      <td>120</td>\n",
       "      <td>gyro-x, gyro-y, gyro-z</td>\n",
       "      <td>train</td>\n",
       "      <td>sensor</td>\n",
       "      <td></td>\n",
       "      <td></td>\n",
       "      <td>umap-7</td>\n",
       "      <td>7</td>\n",
       "      <td></td>\n",
       "      <td>wisdm</td>\n",
       "      <td>wisdm</td>\n",
       "      <td>SVM-rbf-C1.0</td>\n",
       "      <td>0.583333</td>\n",
       "      <td>1.110223e-16</td>\n",
       "      <td>0.521068</td>\n",
       "      <td>0.000000e+00</td>\n",
       "      <td>0.521068</td>\n",
       "      <td>0.000000e+00</td>\n",
       "      <td>standartized_intra_balanced</td>\n",
       "      <td>NaN</td>\n",
       "    </tr>\n",
       "    <tr>\n",
       "      <th>3</th>\n",
       "      <td>reducer_comb_1</td>\n",
       "      <td>execution1</td>\n",
       "      <td>standartized_intra_balanced_00845</td>\n",
       "      <td>0</td>\n",
       "      <td>1794</td>\n",
       "      <td>144</td>\n",
       "      <td>accel-x, accel-y, accel-z, gyro-x, gyro-y, gyro-z</td>\n",
       "      <td>train</td>\n",
       "      <td>sensor</td>\n",
       "      <td></td>\n",
       "      <td>MinMaxScaler</td>\n",
       "      <td>umap-2</td>\n",
       "      <td>2</td>\n",
       "      <td></td>\n",
       "      <td>kuhar</td>\n",
       "      <td>kuhar</td>\n",
       "      <td>randomforest-100</td>\n",
       "      <td>0.800694</td>\n",
       "      <td>1.812221e-02</td>\n",
       "      <td>0.795044</td>\n",
       "      <td>1.921549e-02</td>\n",
       "      <td>0.795044</td>\n",
       "      <td>1.921549e-02</td>\n",
       "      <td>standartized_intra_balanced</td>\n",
       "      <td>NaN</td>\n",
       "    </tr>\n",
       "    <tr>\n",
       "      <th>4</th>\n",
       "      <td>reducer_comb_1</td>\n",
       "      <td>execution1</td>\n",
       "      <td>standartized_intra_balanced_00845</td>\n",
       "      <td>0</td>\n",
       "      <td>1794</td>\n",
       "      <td>144</td>\n",
       "      <td>accel-x, accel-y, accel-z, gyro-x, gyro-y, gyro-z</td>\n",
       "      <td>train</td>\n",
       "      <td>sensor</td>\n",
       "      <td></td>\n",
       "      <td>MinMaxScaler</td>\n",
       "      <td>umap-2</td>\n",
       "      <td>2</td>\n",
       "      <td></td>\n",
       "      <td>kuhar</td>\n",
       "      <td>kuhar</td>\n",
       "      <td>KNN-5</td>\n",
       "      <td>0.493056</td>\n",
       "      <td>5.551115e-17</td>\n",
       "      <td>0.482479</td>\n",
       "      <td>0.000000e+00</td>\n",
       "      <td>0.482479</td>\n",
       "      <td>5.551115e-17</td>\n",
       "      <td>standartized_intra_balanced</td>\n",
       "      <td>NaN</td>\n",
       "    </tr>\n",
       "    <tr>\n",
       "      <th>...</th>\n",
       "      <td>...</td>\n",
       "      <td>...</td>\n",
       "      <td>...</td>\n",
       "      <td>...</td>\n",
       "      <td>...</td>\n",
       "      <td>...</td>\n",
       "      <td>...</td>\n",
       "      <td>...</td>\n",
       "      <td>...</td>\n",
       "      <td>...</td>\n",
       "      <td>...</td>\n",
       "      <td>...</td>\n",
       "      <td>...</td>\n",
       "      <td>...</td>\n",
       "      <td>...</td>\n",
       "      <td>...</td>\n",
       "      <td>...</td>\n",
       "      <td>...</td>\n",
       "      <td>...</td>\n",
       "      <td>...</td>\n",
       "      <td>...</td>\n",
       "      <td>...</td>\n",
       "      <td>...</td>\n",
       "      <td>...</td>\n",
       "      <td>...</td>\n",
       "    </tr>\n",
       "    <tr>\n",
       "      <th>63172</th>\n",
       "      <td>reducer_comb_1</td>\n",
       "      <td>execution1</td>\n",
       "      <td>raw_balanced_02926</td>\n",
       "      <td>3978</td>\n",
       "      <td>3978</td>\n",
       "      <td>1062</td>\n",
       "      <td>accel-x, accel-y, accel-z, gyro-x, gyro-y, gyro-z</td>\n",
       "      <td>train</td>\n",
       "      <td>all</td>\n",
       "      <td>FFT-centered</td>\n",
       "      <td>MinMaxScaler</td>\n",
       "      <td>umap-20</td>\n",
       "      <td>20</td>\n",
       "      <td>motionsense</td>\n",
       "      <td>motionsense</td>\n",
       "      <td>motionsense</td>\n",
       "      <td>KNN-5</td>\n",
       "      <td>0.883239</td>\n",
       "      <td>1.110223e-16</td>\n",
       "      <td>0.883064</td>\n",
       "      <td>1.110223e-16</td>\n",
       "      <td>0.883064</td>\n",
       "      <td>0.000000e+00</td>\n",
       "      <td>raw_balanced</td>\n",
       "      <td>3678.0</td>\n",
       "    </tr>\n",
       "    <tr>\n",
       "      <th>63173</th>\n",
       "      <td>reducer_comb_1</td>\n",
       "      <td>execution1</td>\n",
       "      <td>raw_balanced_02926</td>\n",
       "      <td>3978</td>\n",
       "      <td>3978</td>\n",
       "      <td>1062</td>\n",
       "      <td>accel-x, accel-y, accel-z, gyro-x, gyro-y, gyro-z</td>\n",
       "      <td>train</td>\n",
       "      <td>all</td>\n",
       "      <td>FFT-centered</td>\n",
       "      <td>MinMaxScaler</td>\n",
       "      <td>umap-20</td>\n",
       "      <td>20</td>\n",
       "      <td>motionsense</td>\n",
       "      <td>motionsense</td>\n",
       "      <td>motionsense</td>\n",
       "      <td>SVM-rbf-C1.0</td>\n",
       "      <td>0.870998</td>\n",
       "      <td>1.110223e-16</td>\n",
       "      <td>0.871440</td>\n",
       "      <td>1.110223e-16</td>\n",
       "      <td>0.871440</td>\n",
       "      <td>1.110223e-16</td>\n",
       "      <td>raw_balanced</td>\n",
       "      <td>3679.0</td>\n",
       "    </tr>\n",
       "    <tr>\n",
       "      <th>63174</th>\n",
       "      <td>reducer_comb_1</td>\n",
       "      <td>execution1</td>\n",
       "      <td>standartized_intra_balanced_05531</td>\n",
       "      <td>0</td>\n",
       "      <td>1794</td>\n",
       "      <td>144</td>\n",
       "      <td>accel-x, accel-y, accel-z</td>\n",
       "      <td>train</td>\n",
       "      <td>sensor</td>\n",
       "      <td></td>\n",
       "      <td>StandardScaler</td>\n",
       "      <td>umap-5</td>\n",
       "      <td>5</td>\n",
       "      <td></td>\n",
       "      <td>motionsense</td>\n",
       "      <td>motionsense</td>\n",
       "      <td>randomforest-100</td>\n",
       "      <td>0.798611</td>\n",
       "      <td>1.889093e-02</td>\n",
       "      <td>0.796915</td>\n",
       "      <td>1.948198e-02</td>\n",
       "      <td>0.796915</td>\n",
       "      <td>1.948198e-02</td>\n",
       "      <td>standartized_intra_balanced</td>\n",
       "      <td>NaN</td>\n",
       "    </tr>\n",
       "    <tr>\n",
       "      <th>63175</th>\n",
       "      <td>reducer_comb_1</td>\n",
       "      <td>execution1</td>\n",
       "      <td>standartized_intra_balanced_05531</td>\n",
       "      <td>0</td>\n",
       "      <td>1794</td>\n",
       "      <td>144</td>\n",
       "      <td>accel-x, accel-y, accel-z</td>\n",
       "      <td>train</td>\n",
       "      <td>sensor</td>\n",
       "      <td></td>\n",
       "      <td>StandardScaler</td>\n",
       "      <td>umap-5</td>\n",
       "      <td>5</td>\n",
       "      <td></td>\n",
       "      <td>motionsense</td>\n",
       "      <td>motionsense</td>\n",
       "      <td>KNN-5</td>\n",
       "      <td>0.562500</td>\n",
       "      <td>0.000000e+00</td>\n",
       "      <td>0.546329</td>\n",
       "      <td>0.000000e+00</td>\n",
       "      <td>0.546329</td>\n",
       "      <td>0.000000e+00</td>\n",
       "      <td>standartized_intra_balanced</td>\n",
       "      <td>NaN</td>\n",
       "    </tr>\n",
       "    <tr>\n",
       "      <th>63176</th>\n",
       "      <td>reducer_comb_1</td>\n",
       "      <td>execution1</td>\n",
       "      <td>standartized_intra_balanced_05531</td>\n",
       "      <td>0</td>\n",
       "      <td>1794</td>\n",
       "      <td>144</td>\n",
       "      <td>accel-x, accel-y, accel-z</td>\n",
       "      <td>train</td>\n",
       "      <td>sensor</td>\n",
       "      <td></td>\n",
       "      <td>StandardScaler</td>\n",
       "      <td>umap-5</td>\n",
       "      <td>5</td>\n",
       "      <td></td>\n",
       "      <td>motionsense</td>\n",
       "      <td>motionsense</td>\n",
       "      <td>SVM-rbf-C1.0</td>\n",
       "      <td>0.652778</td>\n",
       "      <td>0.000000e+00</td>\n",
       "      <td>0.595517</td>\n",
       "      <td>0.000000e+00</td>\n",
       "      <td>0.595517</td>\n",
       "      <td>0.000000e+00</td>\n",
       "      <td>standartized_intra_balanced</td>\n",
       "      <td>NaN</td>\n",
       "    </tr>\n",
       "  </tbody>\n",
       "</table>\n",
       "<p>63177 rows × 25 columns</p>\n",
       "</div>"
      ],
      "text/plain": [
       "      experiment_name    run_name                          config_id  reduce_size  train_size  test_size                                    in_use_features scale_on reduce_on    transforms          scaler  reducer  umap components reducer_datasets train_datasets test_datasets         estimator  accuracy (mean)  accuracy (std)  f1-score macro (mean)  f1-score macro (std)  f1-score weighted (mean)  f1-score weighted (std)                         view  config_group\n",
       "0      reducer_comb_1  execution1  standartized_intra_balanced_08609            0        1495        120                             gyro-x, gyro-y, gyro-z    train    sensor                                 umap-7                7                           wisdm         wisdm  randomforest-100         0.670833    2.770128e-02               0.667083          3.039176e-02                  0.667083             3.039176e-02  standartized_intra_balanced           NaN\n",
       "1      reducer_comb_1  execution1  standartized_intra_balanced_08609            0        1495        120                             gyro-x, gyro-y, gyro-z    train    sensor                                 umap-7                7                           wisdm         wisdm             KNN-5         0.541667    1.110223e-16               0.540794          0.000000e+00                  0.540794             0.000000e+00  standartized_intra_balanced           NaN\n",
       "2      reducer_comb_1  execution1  standartized_intra_balanced_08609            0        1495        120                             gyro-x, gyro-y, gyro-z    train    sensor                                 umap-7                7                           wisdm         wisdm      SVM-rbf-C1.0         0.583333    1.110223e-16               0.521068          0.000000e+00                  0.521068             0.000000e+00  standartized_intra_balanced           NaN\n",
       "3      reducer_comb_1  execution1  standartized_intra_balanced_00845            0        1794        144  accel-x, accel-y, accel-z, gyro-x, gyro-y, gyro-z    train    sensor                  MinMaxScaler   umap-2                2                           kuhar         kuhar  randomforest-100         0.800694    1.812221e-02               0.795044          1.921549e-02                  0.795044             1.921549e-02  standartized_intra_balanced           NaN\n",
       "4      reducer_comb_1  execution1  standartized_intra_balanced_00845            0        1794        144  accel-x, accel-y, accel-z, gyro-x, gyro-y, gyro-z    train    sensor                  MinMaxScaler   umap-2                2                           kuhar         kuhar             KNN-5         0.493056    5.551115e-17               0.482479          0.000000e+00                  0.482479             5.551115e-17  standartized_intra_balanced           NaN\n",
       "...               ...         ...                                ...          ...         ...        ...                                                ...      ...       ...           ...             ...      ...              ...              ...            ...           ...               ...              ...             ...                    ...                   ...                       ...                      ...                          ...           ...\n",
       "63172  reducer_comb_1  execution1                 raw_balanced_02926         3978        3978       1062  accel-x, accel-y, accel-z, gyro-x, gyro-y, gyro-z    train       all  FFT-centered    MinMaxScaler  umap-20               20      motionsense    motionsense   motionsense             KNN-5         0.883239    1.110223e-16               0.883064          1.110223e-16                  0.883064             0.000000e+00                 raw_balanced        3678.0\n",
       "63173  reducer_comb_1  execution1                 raw_balanced_02926         3978        3978       1062  accel-x, accel-y, accel-z, gyro-x, gyro-y, gyro-z    train       all  FFT-centered    MinMaxScaler  umap-20               20      motionsense    motionsense   motionsense      SVM-rbf-C1.0         0.870998    1.110223e-16               0.871440          1.110223e-16                  0.871440             1.110223e-16                 raw_balanced        3679.0\n",
       "63174  reducer_comb_1  execution1  standartized_intra_balanced_05531            0        1794        144                          accel-x, accel-y, accel-z    train    sensor                StandardScaler   umap-5                5                     motionsense   motionsense  randomforest-100         0.798611    1.889093e-02               0.796915          1.948198e-02                  0.796915             1.948198e-02  standartized_intra_balanced           NaN\n",
       "63175  reducer_comb_1  execution1  standartized_intra_balanced_05531            0        1794        144                          accel-x, accel-y, accel-z    train    sensor                StandardScaler   umap-5                5                     motionsense   motionsense             KNN-5         0.562500    0.000000e+00               0.546329          0.000000e+00                  0.546329             0.000000e+00  standartized_intra_balanced           NaN\n",
       "63176  reducer_comb_1  execution1  standartized_intra_balanced_05531            0        1794        144                          accel-x, accel-y, accel-z    train    sensor                StandardScaler   umap-5                5                     motionsense   motionsense      SVM-rbf-C1.0         0.652778    0.000000e+00               0.595517          0.000000e+00                  0.595517             0.000000e+00  standartized_intra_balanced           NaN\n",
       "\n",
       "[63177 rows x 25 columns]"
      ]
     },
     "execution_count": 5,
     "metadata": {},
     "output_type": "execute_result"
    }
   ],
   "source": [
    "results_file = Path(\"results.csv\")\n",
    "results = pd.read_csv(results_file).fillna(\"\")\n",
    "# Lets transform and add some useful information\n",
    "results = rename_datasets(results)\n",
    "results = add_view_name(results)\n",
    "results = match_configs(results)\n",
    "results"
   ]
  },
  {
   "cell_type": "code",
   "execution_count": 6,
   "metadata": {},
   "outputs": [
    {
     "data": {
      "text/plain": [
       "['in_use_features',\n",
       " 'reduce_on',\n",
       " 'transforms',\n",
       " 'scaler',\n",
       " 'umap components',\n",
       " 'reducer_datasets',\n",
       " 'train_datasets',\n",
       " 'test_datasets',\n",
       " 'estimator',\n",
       " 'accuracy (mean)',\n",
       " 'accuracy (std)',\n",
       " 'f1-score macro (mean)',\n",
       " 'f1-score macro (std)',\n",
       " 'f1-score weighted (mean)',\n",
       " 'f1-score weighted (std)',\n",
       " 'view',\n",
       " 'config_group']"
      ]
     },
     "execution_count": 6,
     "metadata": {},
     "output_type": "execute_result"
    }
   ],
   "source": [
    "# Lets filter out some reduntant lines\n",
    "results = results[\n",
    "    ~(results[\"reducer_datasets\"] == \"\")\n",
    "    | (results[\"umap components\"] == 0)\n",
    "]\n",
    "\n",
    "# As we only use umap, we can drop the reducer column\n",
    "results = results.drop(columns=[\"reducer\"])\n",
    "\n",
    "# As we only use TIME and FFT domains, lets rename the values \"\" of column transforms to \"TIME\"\n",
    "# and \"FFT\" to \"FFT\"\n",
    "results.loc[results[\"transforms\"] == \"\", \"transforms\"] = \"time\" \n",
    "results.loc[results[\"transforms\"] == \"FFT-centered\", \"transforms\"] = \"fft\"\n",
    "\n",
    "# If no scaler is used, lets change the value from \"\" to \"no scaler\"\n",
    "results.loc[results[\"scaler\"] == \"\", \"scaler\"] = \"no scaler\"\n",
    "\n",
    "# As scaler is only used for the train dataset, we can drop the column scale_on\n",
    "results = results.drop(columns=[\"scale_on\"])\n",
    "\n",
    "# Lets drop some meta-columns that we will not use\n",
    "results = results.drop(columns=[\"experiment_name\", \"run_name\", \"config_id\", \"reduce_size\", \"train_size\", \"test_size\"])\n",
    "list(results.columns)"
   ]
  },
  {
   "cell_type": "code",
   "execution_count": 7,
   "metadata": {},
   "outputs": [
    {
     "data": {
      "text/plain": [
       "True    54267\n",
       "dtype: int64"
      ]
     },
     "execution_count": 7,
     "metadata": {},
     "output_type": "execute_result"
    }
   ],
   "source": [
    "# Grouping by this columns should result in only one row per group\n",
    "# It is a unique tuple that describes each experiment\n",
    "unique_exp_columns = [\n",
    "    \"in_use_features\",\n",
    "    \"reduce_on\",\n",
    "    \"transforms\",\n",
    "    \"scaler\",\n",
    "    \"umap components\",\n",
    "    \"reducer_datasets\",\n",
    "    \"train_datasets\",\n",
    "    \"test_datasets\",\n",
    "    \"estimator\",\n",
    "    \"view\",\n",
    "]\n",
    "\n",
    "# Sanity check\n",
    "results.groupby(unique_exp_columns).apply(lambda x: len(x) == 1).value_counts()"
   ]
  },
  {
   "cell_type": "code",
   "execution_count": 15,
   "metadata": {},
   "outputs": [],
   "source": [
    "def chart_bar_with_error_bars(df, improvement_col: str, groupby: str = \"train_datasets\"):\n",
    "    xs, ys, error_y_min, error_y_max = [], [], [], []\n",
    "    for key, subdf in df.groupby(groupby):\n",
    "        sorted_improvement = sorted(subdf[improvement_col].values)\n",
    "        # print(sorted_improvement)\n",
    "        xs.append(key)\n",
    "        ys.append(sorted_improvement[1])\n",
    "        error_y_min.append(abs(sorted_improvement[0]-sorted_improvement[1]))\n",
    "        error_y_max.append(abs(sorted_improvement[-1]-sorted_improvement[1]))\n",
    "\n",
    "    fig = go.Figure()\n",
    "    fig.add_trace(\n",
    "        go.Bar(\n",
    "            x=xs,\n",
    "            y=ys,\n",
    "            error_y=dict(\n",
    "                type=\"data\",\n",
    "                symmetric=False,\n",
    "                array=error_y_max,\n",
    "                arrayminus=error_y_min\n",
    "            )\n",
    "        )\n",
    "    )\n",
    "    return fig\n",
    "\n",
    "def chart_bar_with_side_by_side(df, improvement_col: str, groupby: str = \"train_datasets\", inner_group: str = \"estimator\"):\n",
    "    fig = go.Figure()\n",
    "\n",
    "    for key, subdf in df.groupby(groupby):\n",
    "        xs, ys = [], []\n",
    "        for i, (inner_key, inner_subdf) in enumerate(subdf.groupby(inner_group)):\n",
    "            xs.append(str(inner_key))\n",
    "            ys.append(inner_subdf[improvement_col].values[0])\n",
    "        \n",
    "        fig.add_trace(\n",
    "            go.Bar(\n",
    "                y=ys,\n",
    "                x=xs,\n",
    "                name=str(key),\n",
    "            )\n",
    "        )\n",
    "    return fig"
   ]
  },
  {
   "attachments": {},
   "cell_type": "markdown",
   "metadata": {},
   "source": [
    "## Pergunta 1"
   ]
  },
  {
   "attachments": {},
   "cell_type": "markdown",
   "metadata": {},
   "source": [
    "### a) Qual o impacto no desempenho dos modelos de ML quando o dado de entrada é transformado com o UMAP?\n",
    "\n",
    "Compararemos, para cada tupla <dataset DS; domíno D; modelo de ML M>, qual é a diferença (razão) de desempenho do modelo M na tarefa de HAR com o dado do dataset DS no domínio D com e sem redução de dimensionalidade."
   ]
  },
  {
   "cell_type": "code",
   "execution_count": 70,
   "metadata": {},
   "outputs": [
    {
     "data": {
      "application/vnd.plotly.v1+json": {
       "config": {
        "plotlyServerURL": "https://plot.ly"
       },
       "data": [
        {
         "error_y": {
          "array": [
           0.07564156296344038,
           0.0016134453781511127,
           0.07926777890124703,
           0.010960390667390185,
           0.05314951545916036
          ],
          "arrayminus": [
           0.06558439857502096,
           0.0781653015636633,
           0.019898887765419704,
           0.08461501420522921,
           0.03619986065492198
          ],
          "symmetric": false,
          "type": "data"
         },
         "type": "bar",
         "x": [
          "kuhar",
          "motionsense",
          "realworld",
          "uci",
          "wisdm"
         ],
         "y": [
          1.010896898575021,
          1.032,
          0.8998988877654196,
          0.968421052631579,
          1.0263959390862945
         ]
        }
       ],
       "layout": {
        "height": 600,
        "shapes": [
         {
          "line": {
           "color": "magenta",
           "dash": "dash"
          },
          "type": "line",
          "x0": 0,
          "x1": 1,
          "xref": "x domain",
          "y0": 1,
          "y1": 1,
          "yref": "y"
         }
        ],
        "template": {
         "data": {
          "bar": [
           {
            "error_x": {
             "color": "#2a3f5f"
            },
            "error_y": {
             "color": "#2a3f5f"
            },
            "marker": {
             "line": {
              "color": "#E5ECF6",
              "width": 0.5
             },
             "pattern": {
              "fillmode": "overlay",
              "size": 10,
              "solidity": 0.2
             }
            },
            "type": "bar"
           }
          ],
          "barpolar": [
           {
            "marker": {
             "line": {
              "color": "#E5ECF6",
              "width": 0.5
             },
             "pattern": {
              "fillmode": "overlay",
              "size": 10,
              "solidity": 0.2
             }
            },
            "type": "barpolar"
           }
          ],
          "carpet": [
           {
            "aaxis": {
             "endlinecolor": "#2a3f5f",
             "gridcolor": "white",
             "linecolor": "white",
             "minorgridcolor": "white",
             "startlinecolor": "#2a3f5f"
            },
            "baxis": {
             "endlinecolor": "#2a3f5f",
             "gridcolor": "white",
             "linecolor": "white",
             "minorgridcolor": "white",
             "startlinecolor": "#2a3f5f"
            },
            "type": "carpet"
           }
          ],
          "choropleth": [
           {
            "colorbar": {
             "outlinewidth": 0,
             "ticks": ""
            },
            "type": "choropleth"
           }
          ],
          "contour": [
           {
            "colorbar": {
             "outlinewidth": 0,
             "ticks": ""
            },
            "colorscale": [
             [
              0,
              "#0d0887"
             ],
             [
              0.1111111111111111,
              "#46039f"
             ],
             [
              0.2222222222222222,
              "#7201a8"
             ],
             [
              0.3333333333333333,
              "#9c179e"
             ],
             [
              0.4444444444444444,
              "#bd3786"
             ],
             [
              0.5555555555555556,
              "#d8576b"
             ],
             [
              0.6666666666666666,
              "#ed7953"
             ],
             [
              0.7777777777777778,
              "#fb9f3a"
             ],
             [
              0.8888888888888888,
              "#fdca26"
             ],
             [
              1,
              "#f0f921"
             ]
            ],
            "type": "contour"
           }
          ],
          "contourcarpet": [
           {
            "colorbar": {
             "outlinewidth": 0,
             "ticks": ""
            },
            "type": "contourcarpet"
           }
          ],
          "heatmap": [
           {
            "colorbar": {
             "outlinewidth": 0,
             "ticks": ""
            },
            "colorscale": [
             [
              0,
              "#0d0887"
             ],
             [
              0.1111111111111111,
              "#46039f"
             ],
             [
              0.2222222222222222,
              "#7201a8"
             ],
             [
              0.3333333333333333,
              "#9c179e"
             ],
             [
              0.4444444444444444,
              "#bd3786"
             ],
             [
              0.5555555555555556,
              "#d8576b"
             ],
             [
              0.6666666666666666,
              "#ed7953"
             ],
             [
              0.7777777777777778,
              "#fb9f3a"
             ],
             [
              0.8888888888888888,
              "#fdca26"
             ],
             [
              1,
              "#f0f921"
             ]
            ],
            "type": "heatmap"
           }
          ],
          "heatmapgl": [
           {
            "colorbar": {
             "outlinewidth": 0,
             "ticks": ""
            },
            "colorscale": [
             [
              0,
              "#0d0887"
             ],
             [
              0.1111111111111111,
              "#46039f"
             ],
             [
              0.2222222222222222,
              "#7201a8"
             ],
             [
              0.3333333333333333,
              "#9c179e"
             ],
             [
              0.4444444444444444,
              "#bd3786"
             ],
             [
              0.5555555555555556,
              "#d8576b"
             ],
             [
              0.6666666666666666,
              "#ed7953"
             ],
             [
              0.7777777777777778,
              "#fb9f3a"
             ],
             [
              0.8888888888888888,
              "#fdca26"
             ],
             [
              1,
              "#f0f921"
             ]
            ],
            "type": "heatmapgl"
           }
          ],
          "histogram": [
           {
            "marker": {
             "pattern": {
              "fillmode": "overlay",
              "size": 10,
              "solidity": 0.2
             }
            },
            "type": "histogram"
           }
          ],
          "histogram2d": [
           {
            "colorbar": {
             "outlinewidth": 0,
             "ticks": ""
            },
            "colorscale": [
             [
              0,
              "#0d0887"
             ],
             [
              0.1111111111111111,
              "#46039f"
             ],
             [
              0.2222222222222222,
              "#7201a8"
             ],
             [
              0.3333333333333333,
              "#9c179e"
             ],
             [
              0.4444444444444444,
              "#bd3786"
             ],
             [
              0.5555555555555556,
              "#d8576b"
             ],
             [
              0.6666666666666666,
              "#ed7953"
             ],
             [
              0.7777777777777778,
              "#fb9f3a"
             ],
             [
              0.8888888888888888,
              "#fdca26"
             ],
             [
              1,
              "#f0f921"
             ]
            ],
            "type": "histogram2d"
           }
          ],
          "histogram2dcontour": [
           {
            "colorbar": {
             "outlinewidth": 0,
             "ticks": ""
            },
            "colorscale": [
             [
              0,
              "#0d0887"
             ],
             [
              0.1111111111111111,
              "#46039f"
             ],
             [
              0.2222222222222222,
              "#7201a8"
             ],
             [
              0.3333333333333333,
              "#9c179e"
             ],
             [
              0.4444444444444444,
              "#bd3786"
             ],
             [
              0.5555555555555556,
              "#d8576b"
             ],
             [
              0.6666666666666666,
              "#ed7953"
             ],
             [
              0.7777777777777778,
              "#fb9f3a"
             ],
             [
              0.8888888888888888,
              "#fdca26"
             ],
             [
              1,
              "#f0f921"
             ]
            ],
            "type": "histogram2dcontour"
           }
          ],
          "mesh3d": [
           {
            "colorbar": {
             "outlinewidth": 0,
             "ticks": ""
            },
            "type": "mesh3d"
           }
          ],
          "parcoords": [
           {
            "line": {
             "colorbar": {
              "outlinewidth": 0,
              "ticks": ""
             }
            },
            "type": "parcoords"
           }
          ],
          "pie": [
           {
            "automargin": true,
            "type": "pie"
           }
          ],
          "scatter": [
           {
            "fillpattern": {
             "fillmode": "overlay",
             "size": 10,
             "solidity": 0.2
            },
            "type": "scatter"
           }
          ],
          "scatter3d": [
           {
            "line": {
             "colorbar": {
              "outlinewidth": 0,
              "ticks": ""
             }
            },
            "marker": {
             "colorbar": {
              "outlinewidth": 0,
              "ticks": ""
             }
            },
            "type": "scatter3d"
           }
          ],
          "scattercarpet": [
           {
            "marker": {
             "colorbar": {
              "outlinewidth": 0,
              "ticks": ""
             }
            },
            "type": "scattercarpet"
           }
          ],
          "scattergeo": [
           {
            "marker": {
             "colorbar": {
              "outlinewidth": 0,
              "ticks": ""
             }
            },
            "type": "scattergeo"
           }
          ],
          "scattergl": [
           {
            "marker": {
             "colorbar": {
              "outlinewidth": 0,
              "ticks": ""
             }
            },
            "type": "scattergl"
           }
          ],
          "scattermapbox": [
           {
            "marker": {
             "colorbar": {
              "outlinewidth": 0,
              "ticks": ""
             }
            },
            "type": "scattermapbox"
           }
          ],
          "scatterpolar": [
           {
            "marker": {
             "colorbar": {
              "outlinewidth": 0,
              "ticks": ""
             }
            },
            "type": "scatterpolar"
           }
          ],
          "scatterpolargl": [
           {
            "marker": {
             "colorbar": {
              "outlinewidth": 0,
              "ticks": ""
             }
            },
            "type": "scatterpolargl"
           }
          ],
          "scatterternary": [
           {
            "marker": {
             "colorbar": {
              "outlinewidth": 0,
              "ticks": ""
             }
            },
            "type": "scatterternary"
           }
          ],
          "surface": [
           {
            "colorbar": {
             "outlinewidth": 0,
             "ticks": ""
            },
            "colorscale": [
             [
              0,
              "#0d0887"
             ],
             [
              0.1111111111111111,
              "#46039f"
             ],
             [
              0.2222222222222222,
              "#7201a8"
             ],
             [
              0.3333333333333333,
              "#9c179e"
             ],
             [
              0.4444444444444444,
              "#bd3786"
             ],
             [
              0.5555555555555556,
              "#d8576b"
             ],
             [
              0.6666666666666666,
              "#ed7953"
             ],
             [
              0.7777777777777778,
              "#fb9f3a"
             ],
             [
              0.8888888888888888,
              "#fdca26"
             ],
             [
              1,
              "#f0f921"
             ]
            ],
            "type": "surface"
           }
          ],
          "table": [
           {
            "cells": {
             "fill": {
              "color": "#EBF0F8"
             },
             "line": {
              "color": "white"
             }
            },
            "header": {
             "fill": {
              "color": "#C8D4E3"
             },
             "line": {
              "color": "white"
             }
            },
            "type": "table"
           }
          ]
         },
         "layout": {
          "annotationdefaults": {
           "arrowcolor": "#2a3f5f",
           "arrowhead": 0,
           "arrowwidth": 1
          },
          "autotypenumbers": "strict",
          "coloraxis": {
           "colorbar": {
            "outlinewidth": 0,
            "ticks": ""
           }
          },
          "colorscale": {
           "diverging": [
            [
             0,
             "#8e0152"
            ],
            [
             0.1,
             "#c51b7d"
            ],
            [
             0.2,
             "#de77ae"
            ],
            [
             0.3,
             "#f1b6da"
            ],
            [
             0.4,
             "#fde0ef"
            ],
            [
             0.5,
             "#f7f7f7"
            ],
            [
             0.6,
             "#e6f5d0"
            ],
            [
             0.7,
             "#b8e186"
            ],
            [
             0.8,
             "#7fbc41"
            ],
            [
             0.9,
             "#4d9221"
            ],
            [
             1,
             "#276419"
            ]
           ],
           "sequential": [
            [
             0,
             "#0d0887"
            ],
            [
             0.1111111111111111,
             "#46039f"
            ],
            [
             0.2222222222222222,
             "#7201a8"
            ],
            [
             0.3333333333333333,
             "#9c179e"
            ],
            [
             0.4444444444444444,
             "#bd3786"
            ],
            [
             0.5555555555555556,
             "#d8576b"
            ],
            [
             0.6666666666666666,
             "#ed7953"
            ],
            [
             0.7777777777777778,
             "#fb9f3a"
            ],
            [
             0.8888888888888888,
             "#fdca26"
            ],
            [
             1,
             "#f0f921"
            ]
           ],
           "sequentialminus": [
            [
             0,
             "#0d0887"
            ],
            [
             0.1111111111111111,
             "#46039f"
            ],
            [
             0.2222222222222222,
             "#7201a8"
            ],
            [
             0.3333333333333333,
             "#9c179e"
            ],
            [
             0.4444444444444444,
             "#bd3786"
            ],
            [
             0.5555555555555556,
             "#d8576b"
            ],
            [
             0.6666666666666666,
             "#ed7953"
            ],
            [
             0.7777777777777778,
             "#fb9f3a"
            ],
            [
             0.8888888888888888,
             "#fdca26"
            ],
            [
             1,
             "#f0f921"
            ]
           ]
          },
          "colorway": [
           "#636efa",
           "#EF553B",
           "#00cc96",
           "#ab63fa",
           "#FFA15A",
           "#19d3f3",
           "#FF6692",
           "#B6E880",
           "#FF97FF",
           "#FECB52"
          ],
          "font": {
           "color": "#2a3f5f"
          },
          "geo": {
           "bgcolor": "white",
           "lakecolor": "white",
           "landcolor": "#E5ECF6",
           "showlakes": true,
           "showland": true,
           "subunitcolor": "white"
          },
          "hoverlabel": {
           "align": "left"
          },
          "hovermode": "closest",
          "mapbox": {
           "style": "light"
          },
          "paper_bgcolor": "white",
          "plot_bgcolor": "#E5ECF6",
          "polar": {
           "angularaxis": {
            "gridcolor": "white",
            "linecolor": "white",
            "ticks": ""
           },
           "bgcolor": "#E5ECF6",
           "radialaxis": {
            "gridcolor": "white",
            "linecolor": "white",
            "ticks": ""
           }
          },
          "scene": {
           "xaxis": {
            "backgroundcolor": "#E5ECF6",
            "gridcolor": "white",
            "gridwidth": 2,
            "linecolor": "white",
            "showbackground": true,
            "ticks": "",
            "zerolinecolor": "white"
           },
           "yaxis": {
            "backgroundcolor": "#E5ECF6",
            "gridcolor": "white",
            "gridwidth": 2,
            "linecolor": "white",
            "showbackground": true,
            "ticks": "",
            "zerolinecolor": "white"
           },
           "zaxis": {
            "backgroundcolor": "#E5ECF6",
            "gridcolor": "white",
            "gridwidth": 2,
            "linecolor": "white",
            "showbackground": true,
            "ticks": "",
            "zerolinecolor": "white"
           }
          },
          "shapedefaults": {
           "line": {
            "color": "#2a3f5f"
           }
          },
          "ternary": {
           "aaxis": {
            "gridcolor": "white",
            "linecolor": "white",
            "ticks": ""
           },
           "baxis": {
            "gridcolor": "white",
            "linecolor": "white",
            "ticks": ""
           },
           "bgcolor": "#E5ECF6",
           "caxis": {
            "gridcolor": "white",
            "linecolor": "white",
            "ticks": ""
           }
          },
          "title": {
           "x": 0.05
          },
          "xaxis": {
           "automargin": true,
           "gridcolor": "white",
           "linecolor": "white",
           "ticks": "",
           "title": {
            "standoff": 15
           },
           "zerolinecolor": "white",
           "zerolinewidth": 2
          },
          "yaxis": {
           "automargin": true,
           "gridcolor": "white",
           "linecolor": "white",
           "ticks": "",
           "title": {
            "standoff": 15
           },
           "zerolinecolor": "white",
           "zerolinewidth": 2
          }
         }
        },
        "title": {
         "text": "UMAP Improvement for each dataset (best UMAP over no UMAP, per dataset).<br>Error bars comes from different estimators"
        },
        "width": 800,
        "xaxis": {
         "title": {
          "text": "Dataset"
         }
        },
        "yaxis": {
         "title": {
          "text": "Accuracy Improvement over no UMAP"
         }
        }
       }
      }
     },
     "metadata": {},
     "output_type": "display_data"
    },
    {
     "data": {
      "application/vnd.plotly.v1+json": {
       "config": {
        "plotlyServerURL": "https://plot.ly"
       },
       "data": [
        {
         "name": "KNN-5",
         "type": "bar",
         "x": [
          "kuhar",
          "motionsense",
          "realworld",
          "uci",
          "wisdm"
         ],
         "y": [
          0.9453125000000001,
          1.032,
          0.9791666666666666,
          0.9793814432989691,
          0.9901960784313725
         ]
        },
        {
         "name": "SVM-rbf-C1.0",
         "type": "bar",
         "x": [
          "kuhar",
          "motionsense",
          "realworld",
          "uci",
          "wisdm"
         ],
         "y": [
          1.0865384615384615,
          1.0336134453781511,
          0.8799999999999999,
          0.968421052631579,
          1.0795454545454548
         ]
        },
        {
         "name": "randomforest-100",
         "type": "bar",
         "x": [
          "kuhar",
          "motionsense",
          "realworld",
          "uci",
          "wisdm"
         ],
         "y": [
          1.010896898575021,
          0.9538346984363367,
          0.8998988877654196,
          0.8838060384263497,
          1.0263959390862945
         ]
        }
       ],
       "layout": {
        "height": 600,
        "legend": {
         "title": {
          "text": "Estimator"
         }
        },
        "shapes": [
         {
          "line": {
           "color": "magenta",
           "dash": "dash"
          },
          "type": "line",
          "x0": 0,
          "x1": 1,
          "xref": "x domain",
          "y0": 1,
          "y1": 1,
          "yref": "y"
         }
        ],
        "template": {
         "data": {
          "bar": [
           {
            "error_x": {
             "color": "#2a3f5f"
            },
            "error_y": {
             "color": "#2a3f5f"
            },
            "marker": {
             "line": {
              "color": "#E5ECF6",
              "width": 0.5
             },
             "pattern": {
              "fillmode": "overlay",
              "size": 10,
              "solidity": 0.2
             }
            },
            "type": "bar"
           }
          ],
          "barpolar": [
           {
            "marker": {
             "line": {
              "color": "#E5ECF6",
              "width": 0.5
             },
             "pattern": {
              "fillmode": "overlay",
              "size": 10,
              "solidity": 0.2
             }
            },
            "type": "barpolar"
           }
          ],
          "carpet": [
           {
            "aaxis": {
             "endlinecolor": "#2a3f5f",
             "gridcolor": "white",
             "linecolor": "white",
             "minorgridcolor": "white",
             "startlinecolor": "#2a3f5f"
            },
            "baxis": {
             "endlinecolor": "#2a3f5f",
             "gridcolor": "white",
             "linecolor": "white",
             "minorgridcolor": "white",
             "startlinecolor": "#2a3f5f"
            },
            "type": "carpet"
           }
          ],
          "choropleth": [
           {
            "colorbar": {
             "outlinewidth": 0,
             "ticks": ""
            },
            "type": "choropleth"
           }
          ],
          "contour": [
           {
            "colorbar": {
             "outlinewidth": 0,
             "ticks": ""
            },
            "colorscale": [
             [
              0,
              "#0d0887"
             ],
             [
              0.1111111111111111,
              "#46039f"
             ],
             [
              0.2222222222222222,
              "#7201a8"
             ],
             [
              0.3333333333333333,
              "#9c179e"
             ],
             [
              0.4444444444444444,
              "#bd3786"
             ],
             [
              0.5555555555555556,
              "#d8576b"
             ],
             [
              0.6666666666666666,
              "#ed7953"
             ],
             [
              0.7777777777777778,
              "#fb9f3a"
             ],
             [
              0.8888888888888888,
              "#fdca26"
             ],
             [
              1,
              "#f0f921"
             ]
            ],
            "type": "contour"
           }
          ],
          "contourcarpet": [
           {
            "colorbar": {
             "outlinewidth": 0,
             "ticks": ""
            },
            "type": "contourcarpet"
           }
          ],
          "heatmap": [
           {
            "colorbar": {
             "outlinewidth": 0,
             "ticks": ""
            },
            "colorscale": [
             [
              0,
              "#0d0887"
             ],
             [
              0.1111111111111111,
              "#46039f"
             ],
             [
              0.2222222222222222,
              "#7201a8"
             ],
             [
              0.3333333333333333,
              "#9c179e"
             ],
             [
              0.4444444444444444,
              "#bd3786"
             ],
             [
              0.5555555555555556,
              "#d8576b"
             ],
             [
              0.6666666666666666,
              "#ed7953"
             ],
             [
              0.7777777777777778,
              "#fb9f3a"
             ],
             [
              0.8888888888888888,
              "#fdca26"
             ],
             [
              1,
              "#f0f921"
             ]
            ],
            "type": "heatmap"
           }
          ],
          "heatmapgl": [
           {
            "colorbar": {
             "outlinewidth": 0,
             "ticks": ""
            },
            "colorscale": [
             [
              0,
              "#0d0887"
             ],
             [
              0.1111111111111111,
              "#46039f"
             ],
             [
              0.2222222222222222,
              "#7201a8"
             ],
             [
              0.3333333333333333,
              "#9c179e"
             ],
             [
              0.4444444444444444,
              "#bd3786"
             ],
             [
              0.5555555555555556,
              "#d8576b"
             ],
             [
              0.6666666666666666,
              "#ed7953"
             ],
             [
              0.7777777777777778,
              "#fb9f3a"
             ],
             [
              0.8888888888888888,
              "#fdca26"
             ],
             [
              1,
              "#f0f921"
             ]
            ],
            "type": "heatmapgl"
           }
          ],
          "histogram": [
           {
            "marker": {
             "pattern": {
              "fillmode": "overlay",
              "size": 10,
              "solidity": 0.2
             }
            },
            "type": "histogram"
           }
          ],
          "histogram2d": [
           {
            "colorbar": {
             "outlinewidth": 0,
             "ticks": ""
            },
            "colorscale": [
             [
              0,
              "#0d0887"
             ],
             [
              0.1111111111111111,
              "#46039f"
             ],
             [
              0.2222222222222222,
              "#7201a8"
             ],
             [
              0.3333333333333333,
              "#9c179e"
             ],
             [
              0.4444444444444444,
              "#bd3786"
             ],
             [
              0.5555555555555556,
              "#d8576b"
             ],
             [
              0.6666666666666666,
              "#ed7953"
             ],
             [
              0.7777777777777778,
              "#fb9f3a"
             ],
             [
              0.8888888888888888,
              "#fdca26"
             ],
             [
              1,
              "#f0f921"
             ]
            ],
            "type": "histogram2d"
           }
          ],
          "histogram2dcontour": [
           {
            "colorbar": {
             "outlinewidth": 0,
             "ticks": ""
            },
            "colorscale": [
             [
              0,
              "#0d0887"
             ],
             [
              0.1111111111111111,
              "#46039f"
             ],
             [
              0.2222222222222222,
              "#7201a8"
             ],
             [
              0.3333333333333333,
              "#9c179e"
             ],
             [
              0.4444444444444444,
              "#bd3786"
             ],
             [
              0.5555555555555556,
              "#d8576b"
             ],
             [
              0.6666666666666666,
              "#ed7953"
             ],
             [
              0.7777777777777778,
              "#fb9f3a"
             ],
             [
              0.8888888888888888,
              "#fdca26"
             ],
             [
              1,
              "#f0f921"
             ]
            ],
            "type": "histogram2dcontour"
           }
          ],
          "mesh3d": [
           {
            "colorbar": {
             "outlinewidth": 0,
             "ticks": ""
            },
            "type": "mesh3d"
           }
          ],
          "parcoords": [
           {
            "line": {
             "colorbar": {
              "outlinewidth": 0,
              "ticks": ""
             }
            },
            "type": "parcoords"
           }
          ],
          "pie": [
           {
            "automargin": true,
            "type": "pie"
           }
          ],
          "scatter": [
           {
            "fillpattern": {
             "fillmode": "overlay",
             "size": 10,
             "solidity": 0.2
            },
            "type": "scatter"
           }
          ],
          "scatter3d": [
           {
            "line": {
             "colorbar": {
              "outlinewidth": 0,
              "ticks": ""
             }
            },
            "marker": {
             "colorbar": {
              "outlinewidth": 0,
              "ticks": ""
             }
            },
            "type": "scatter3d"
           }
          ],
          "scattercarpet": [
           {
            "marker": {
             "colorbar": {
              "outlinewidth": 0,
              "ticks": ""
             }
            },
            "type": "scattercarpet"
           }
          ],
          "scattergeo": [
           {
            "marker": {
             "colorbar": {
              "outlinewidth": 0,
              "ticks": ""
             }
            },
            "type": "scattergeo"
           }
          ],
          "scattergl": [
           {
            "marker": {
             "colorbar": {
              "outlinewidth": 0,
              "ticks": ""
             }
            },
            "type": "scattergl"
           }
          ],
          "scattermapbox": [
           {
            "marker": {
             "colorbar": {
              "outlinewidth": 0,
              "ticks": ""
             }
            },
            "type": "scattermapbox"
           }
          ],
          "scatterpolar": [
           {
            "marker": {
             "colorbar": {
              "outlinewidth": 0,
              "ticks": ""
             }
            },
            "type": "scatterpolar"
           }
          ],
          "scatterpolargl": [
           {
            "marker": {
             "colorbar": {
              "outlinewidth": 0,
              "ticks": ""
             }
            },
            "type": "scatterpolargl"
           }
          ],
          "scatterternary": [
           {
            "marker": {
             "colorbar": {
              "outlinewidth": 0,
              "ticks": ""
             }
            },
            "type": "scatterternary"
           }
          ],
          "surface": [
           {
            "colorbar": {
             "outlinewidth": 0,
             "ticks": ""
            },
            "colorscale": [
             [
              0,
              "#0d0887"
             ],
             [
              0.1111111111111111,
              "#46039f"
             ],
             [
              0.2222222222222222,
              "#7201a8"
             ],
             [
              0.3333333333333333,
              "#9c179e"
             ],
             [
              0.4444444444444444,
              "#bd3786"
             ],
             [
              0.5555555555555556,
              "#d8576b"
             ],
             [
              0.6666666666666666,
              "#ed7953"
             ],
             [
              0.7777777777777778,
              "#fb9f3a"
             ],
             [
              0.8888888888888888,
              "#fdca26"
             ],
             [
              1,
              "#f0f921"
             ]
            ],
            "type": "surface"
           }
          ],
          "table": [
           {
            "cells": {
             "fill": {
              "color": "#EBF0F8"
             },
             "line": {
              "color": "white"
             }
            },
            "header": {
             "fill": {
              "color": "#C8D4E3"
             },
             "line": {
              "color": "white"
             }
            },
            "type": "table"
           }
          ]
         },
         "layout": {
          "annotationdefaults": {
           "arrowcolor": "#2a3f5f",
           "arrowhead": 0,
           "arrowwidth": 1
          },
          "autotypenumbers": "strict",
          "coloraxis": {
           "colorbar": {
            "outlinewidth": 0,
            "ticks": ""
           }
          },
          "colorscale": {
           "diverging": [
            [
             0,
             "#8e0152"
            ],
            [
             0.1,
             "#c51b7d"
            ],
            [
             0.2,
             "#de77ae"
            ],
            [
             0.3,
             "#f1b6da"
            ],
            [
             0.4,
             "#fde0ef"
            ],
            [
             0.5,
             "#f7f7f7"
            ],
            [
             0.6,
             "#e6f5d0"
            ],
            [
             0.7,
             "#b8e186"
            ],
            [
             0.8,
             "#7fbc41"
            ],
            [
             0.9,
             "#4d9221"
            ],
            [
             1,
             "#276419"
            ]
           ],
           "sequential": [
            [
             0,
             "#0d0887"
            ],
            [
             0.1111111111111111,
             "#46039f"
            ],
            [
             0.2222222222222222,
             "#7201a8"
            ],
            [
             0.3333333333333333,
             "#9c179e"
            ],
            [
             0.4444444444444444,
             "#bd3786"
            ],
            [
             0.5555555555555556,
             "#d8576b"
            ],
            [
             0.6666666666666666,
             "#ed7953"
            ],
            [
             0.7777777777777778,
             "#fb9f3a"
            ],
            [
             0.8888888888888888,
             "#fdca26"
            ],
            [
             1,
             "#f0f921"
            ]
           ],
           "sequentialminus": [
            [
             0,
             "#0d0887"
            ],
            [
             0.1111111111111111,
             "#46039f"
            ],
            [
             0.2222222222222222,
             "#7201a8"
            ],
            [
             0.3333333333333333,
             "#9c179e"
            ],
            [
             0.4444444444444444,
             "#bd3786"
            ],
            [
             0.5555555555555556,
             "#d8576b"
            ],
            [
             0.6666666666666666,
             "#ed7953"
            ],
            [
             0.7777777777777778,
             "#fb9f3a"
            ],
            [
             0.8888888888888888,
             "#fdca26"
            ],
            [
             1,
             "#f0f921"
            ]
           ]
          },
          "colorway": [
           "#636efa",
           "#EF553B",
           "#00cc96",
           "#ab63fa",
           "#FFA15A",
           "#19d3f3",
           "#FF6692",
           "#B6E880",
           "#FF97FF",
           "#FECB52"
          ],
          "font": {
           "color": "#2a3f5f"
          },
          "geo": {
           "bgcolor": "white",
           "lakecolor": "white",
           "landcolor": "#E5ECF6",
           "showlakes": true,
           "showland": true,
           "subunitcolor": "white"
          },
          "hoverlabel": {
           "align": "left"
          },
          "hovermode": "closest",
          "mapbox": {
           "style": "light"
          },
          "paper_bgcolor": "white",
          "plot_bgcolor": "#E5ECF6",
          "polar": {
           "angularaxis": {
            "gridcolor": "white",
            "linecolor": "white",
            "ticks": ""
           },
           "bgcolor": "#E5ECF6",
           "radialaxis": {
            "gridcolor": "white",
            "linecolor": "white",
            "ticks": ""
           }
          },
          "scene": {
           "xaxis": {
            "backgroundcolor": "#E5ECF6",
            "gridcolor": "white",
            "gridwidth": 2,
            "linecolor": "white",
            "showbackground": true,
            "ticks": "",
            "zerolinecolor": "white"
           },
           "yaxis": {
            "backgroundcolor": "#E5ECF6",
            "gridcolor": "white",
            "gridwidth": 2,
            "linecolor": "white",
            "showbackground": true,
            "ticks": "",
            "zerolinecolor": "white"
           },
           "zaxis": {
            "backgroundcolor": "#E5ECF6",
            "gridcolor": "white",
            "gridwidth": 2,
            "linecolor": "white",
            "showbackground": true,
            "ticks": "",
            "zerolinecolor": "white"
           }
          },
          "shapedefaults": {
           "line": {
            "color": "#2a3f5f"
           }
          },
          "ternary": {
           "aaxis": {
            "gridcolor": "white",
            "linecolor": "white",
            "ticks": ""
           },
           "baxis": {
            "gridcolor": "white",
            "linecolor": "white",
            "ticks": ""
           },
           "bgcolor": "#E5ECF6",
           "caxis": {
            "gridcolor": "white",
            "linecolor": "white",
            "ticks": ""
           }
          },
          "title": {
           "x": 0.05
          },
          "xaxis": {
           "automargin": true,
           "gridcolor": "white",
           "linecolor": "white",
           "ticks": "",
           "title": {
            "standoff": 15
           },
           "zerolinecolor": "white",
           "zerolinewidth": 2
          },
          "yaxis": {
           "automargin": true,
           "gridcolor": "white",
           "linecolor": "white",
           "ticks": "",
           "title": {
            "standoff": 15
           },
           "zerolinecolor": "white",
           "zerolinewidth": 2
          }
         }
        },
        "title": {
         "text": "UMAP Improvement for each dataset (best UMAP over no UMAP, per dataset)"
        },
        "width": 800,
        "xaxis": {
         "title": {
          "text": "Dataset"
         }
        },
        "yaxis": {
         "title": {
          "text": "Accuracy Improvement over no UMAP"
         }
        }
       }
      }
     },
     "metadata": {},
     "output_type": "display_data"
    }
   ],
   "source": [
    "def get_umap_improvement_over_no_umap(df, new_column_name: str = \"umap improvement\"):\n",
    "    experiment_uniq = [c for c in unique_exp_columns if c not in [\"reducer_datasets\", \"umap components\"]]\n",
    "\n",
    "    zero_umap = {}\n",
    "    for _, subdf in df[df[\"umap components\"] == 0].iterrows():\n",
    "        zero_umap[tuple(subdf[experiment_uniq].values.tolist())] = subdf[\"accuracy (mean)\"]\n",
    "\n",
    "    df[new_column_name] = df.apply(lambda x: x[\"accuracy (mean)\"] / zero_umap.get(tuple(x[experiment_uniq].values.tolist()), np.nan), axis=1)\n",
    "    return df\n",
    "\n",
    "def filter_max_set_only(df, column: str = \"umap improvement\"):\n",
    "    experiment_uniq = [c for c in unique_exp_columns if c not in [\"reducer_datasets\", \"umap components\"]]\n",
    "    df = df.dropna(subset=[column], inplace=False)\n",
    "    df = df[df[\"umap components\"] > 0]\n",
    "    lines = [subdf[subdf[column] == subdf[column].max()].iloc[0] for _, subdf in df.groupby(experiment_uniq)]\n",
    "    df = pd.DataFrame(lines)\n",
    "    return df\n",
    "\n",
    "df = results.copy()\n",
    "df = filter_domain_fft_only(df)\n",
    "df = filter_features_all(df)\n",
    "df = filter_reducer_over_all(df)\n",
    "df = filter_scaler_none(df)\n",
    "df = filter_view_standardized_intra(df)\n",
    "df = filter_only_reducer_dataset_equals_train_dataset_or_no_reducer(df)\n",
    "df = get_umap_improvement_over_no_umap(df)\n",
    "df = filter_max_set_only(df)\n",
    "\n",
    "fig = chart_bar_with_error_bars(df, improvement_col=\"umap improvement\", groupby=\"train_datasets\")\n",
    "fig.add_hline(y=1.0, line_dash=\"dash\", line_color=\"magenta\")\n",
    "fig.update_layout(\n",
    "    title=\"UMAP Improvement for each dataset (best UMAP over no UMAP, per dataset).<br>Error bars comes from different estimators\",\n",
    "    xaxis_title=\"Dataset\",\n",
    "    yaxis_title=\"Accuracy Improvement over no UMAP\",\n",
    "    width=800,\n",
    "    height=600\n",
    ")\n",
    "fig.show()\n",
    "\n",
    "fig = chart_bar_with_side_by_side(df, improvement_col=\"umap improvement\", groupby=\"estimator\", inner_group=\"train_datasets\")\n",
    "fig.add_hline(y=1.0, line_dash=\"dash\", line_color=\"magenta\")\n",
    "fig.update_layout(\n",
    "    title=\"UMAP Improvement for each dataset (best UMAP over no UMAP, per dataset)\",\n",
    "    xaxis_title=\"Dataset\",\n",
    "    yaxis_title=\"Accuracy Improvement over no UMAP\",\n",
    "    legend_title=\"Estimator\",\n",
    "    width=800,\n",
    "    height=600\n",
    ")\n",
    "fig.show()"
   ]
  },
  {
   "attachments": {},
   "cell_type": "markdown",
   "metadata": {},
   "source": [
    "### b) Qual é o impacto da dimensionalidade alvo do UMAP no desempenho dos modelos de ML?\n",
    "\n",
    "b .1) UMAP vs No-UMAP"
   ]
  },
  {
   "cell_type": "code",
   "execution_count": 84,
   "metadata": {},
   "outputs": [
    {
     "data": {
      "application/vnd.plotly.v1+json": {
       "config": {
        "plotlyServerURL": "https://plot.ly"
       },
       "data": [
        {
         "legendgroup": "KNN-5",
         "marker": {
          "color": "#EF553B",
          "size": 8,
          "symbol": "x"
         },
         "mode": "lines+markers",
         "name": "KNN-5 kuhar",
         "type": "scatter",
         "x": [
          2,
          3,
          4,
          5,
          6,
          7,
          8,
          9,
          10,
          15,
          20
         ],
         "y": [
          0.8828124999999999,
          0.9218749999999999,
          0.9218749999999999,
          0.9453125000000001,
          0.9453125000000001,
          0.9453125000000001,
          0.9453125000000001,
          0.9453125000000001,
          0.9453125000000001,
          0.9453125000000001,
          0.9453125000000001
         ]
        },
        {
         "legendgroup": "KNN-5",
         "marker": {
          "color": "#EF553B",
          "size": 8,
          "symbol": "diamond"
         },
         "mode": "lines+markers",
         "name": "KNN-5 motionsense",
         "type": "scatter",
         "x": [
          2,
          3,
          4,
          5,
          6,
          7,
          8,
          9,
          10,
          15,
          20
         ],
         "y": [
          0.9759999999999999,
          1.008,
          1.008,
          1.032,
          1.032,
          1.032,
          1.032,
          1.032,
          1.032,
          1.032,
          1.032
         ]
        },
        {
         "legendgroup": "KNN-5",
         "marker": {
          "color": "#EF553B",
          "size": 8,
          "symbol": "triangle-up"
         },
         "mode": "lines+markers",
         "name": "KNN-5 realworld",
         "type": "scatter",
         "x": [
          2,
          3,
          4,
          5,
          6,
          7,
          8,
          9,
          10,
          15,
          20
         ],
         "y": [
          0.9270833333333333,
          0.9270833333333333,
          0.9270833333333333,
          0.9270833333333333,
          0.9270833333333333,
          0.9270833333333333,
          0.9270833333333333,
          0.9270833333333333,
          0.9791666666666666,
          0.9791666666666666,
          0.9791666666666666
         ]
        },
        {
         "legendgroup": "KNN-5",
         "marker": {
          "color": "#EF553B",
          "size": 8,
          "symbol": "circle"
         },
         "mode": "lines+markers",
         "name": "KNN-5 uci",
         "type": "scatter",
         "x": [
          2,
          3,
          4,
          5,
          6,
          7,
          8,
          9,
          10,
          15,
          20
         ],
         "y": [
          0.9072164948453607,
          0.9072164948453607,
          0.9278350515463918,
          0.9587628865979383,
          0.9587628865979383,
          0.9587628865979383,
          0.9587628865979383,
          0.9793814432989691,
          0.9793814432989691,
          0.9793814432989691,
          0.9793814432989691
         ]
        },
        {
         "legendgroup": "KNN-5",
         "marker": {
          "color": "#EF553B",
          "size": 8,
          "symbol": "square"
         },
         "mode": "lines+markers",
         "name": "KNN-5 wisdm",
         "type": "scatter",
         "x": [
          2,
          3,
          4,
          5,
          6,
          7,
          8,
          9,
          10,
          15,
          20
         ],
         "y": [
          0.9019607843137256,
          0.9901960784313725,
          0.9901960784313725,
          0.9901960784313725,
          0.9901960784313725,
          0.9901960784313725,
          0.9901960784313725,
          0.9901960784313725,
          0.9901960784313725,
          0.9901960784313725,
          0.9901960784313725
         ]
        },
        {
         "legendgroup": "SVM-rbf-C1.0",
         "marker": {
          "color": "#00CC96",
          "size": 8,
          "symbol": "x"
         },
         "mode": "lines+markers",
         "name": "SVM-rbf-C1.0 kuhar",
         "type": "scatter",
         "x": [
          2,
          3,
          4,
          5,
          6,
          7,
          8,
          9,
          10,
          15,
          20
         ],
         "y": [
          1.0865384615384615,
          1.0865384615384615,
          1.0865384615384615,
          1.0865384615384615,
          1.0865384615384615,
          1.0865384615384615,
          1.0865384615384615,
          1.0865384615384615,
          1.0865384615384615,
          1.0865384615384615,
          1.0865384615384615
         ]
        },
        {
         "legendgroup": "SVM-rbf-C1.0",
         "marker": {
          "color": "#00CC96",
          "size": 8,
          "symbol": "diamond"
         },
         "mode": "lines+markers",
         "name": "SVM-rbf-C1.0 motionsense",
         "type": "scatter",
         "x": [
          2,
          3,
          4,
          5,
          6,
          7,
          8,
          9,
          10,
          15,
          20
         ],
         "y": [
          1,
          1.0084033613445378,
          1.0168067226890758,
          1.0252100840336131,
          1.0336134453781511,
          1.0336134453781511,
          1.0336134453781511,
          1.0336134453781511,
          1.0336134453781511,
          1.0336134453781511,
          1.0336134453781511
         ]
        },
        {
         "legendgroup": "SVM-rbf-C1.0",
         "marker": {
          "color": "#00CC96",
          "size": 8,
          "symbol": "triangle-up"
         },
         "mode": "lines+markers",
         "name": "SVM-rbf-C1.0 realworld",
         "type": "scatter",
         "x": [
          2,
          3,
          4,
          5,
          6,
          7,
          8,
          9,
          10,
          15,
          20
         ],
         "y": [
          0.8,
          0.8700000000000001,
          0.8700000000000001,
          0.8700000000000001,
          0.8700000000000001,
          0.8700000000000001,
          0.8700000000000001,
          0.8700000000000001,
          0.8799999999999999,
          0.8799999999999999,
          0.8799999999999999
         ]
        },
        {
         "legendgroup": "SVM-rbf-C1.0",
         "marker": {
          "color": "#00CC96",
          "size": 8,
          "symbol": "circle"
         },
         "mode": "lines+markers",
         "name": "SVM-rbf-C1.0 uci",
         "type": "scatter",
         "x": [
          2,
          3,
          4,
          5,
          6,
          7,
          8,
          9,
          10,
          15,
          20
         ],
         "y": [
          0.968421052631579,
          0.968421052631579,
          0.968421052631579,
          0.968421052631579,
          0.968421052631579,
          0.968421052631579,
          0.968421052631579,
          0.968421052631579,
          0.968421052631579,
          0.968421052631579,
          0.968421052631579
         ]
        },
        {
         "legendgroup": "SVM-rbf-C1.0",
         "marker": {
          "color": "#00CC96",
          "size": 8,
          "symbol": "square"
         },
         "mode": "lines+markers",
         "name": "SVM-rbf-C1.0 wisdm",
         "type": "scatter",
         "x": [
          2,
          3,
          4,
          5,
          6,
          7,
          8,
          9,
          10,
          15,
          20
         ],
         "y": [
          1.0454545454545456,
          1.0454545454545456,
          1.056818181818182,
          1.056818181818182,
          1.0795454545454548,
          1.0795454545454548,
          1.0795454545454548,
          1.0795454545454548,
          1.0795454545454548,
          1.0795454545454548,
          1.0795454545454548
         ]
        },
        {
         "legendgroup": "randomforest-100",
         "marker": {
          "color": "#636EFA",
          "size": 8,
          "symbol": "x"
         },
         "mode": "lines+markers",
         "name": "randomforest-100 kuhar",
         "type": "scatter",
         "x": [
          2,
          3,
          4,
          5,
          6,
          7,
          8,
          9,
          10,
          15,
          20
         ],
         "y": [
          0.9463537300922047,
          0.9941324392288349,
          0.9941324392288349,
          1.0100586756077117,
          1.0100586756077117,
          1.0100586756077117,
          1.0100586756077117,
          1.0100586756077117,
          1.010896898575021,
          1.010896898575021,
          1.010896898575021
         ]
        },
        {
         "legendgroup": "randomforest-100",
         "marker": {
          "color": "#636EFA",
          "size": 8,
          "symbol": "diamond"
         },
         "mode": "lines+markers",
         "name": "randomforest-100 motionsense",
         "type": "scatter",
         "x": [
          2,
          3,
          4,
          5,
          6,
          7,
          8,
          9,
          10,
          15,
          20
         ],
         "y": [
          0.915860014892033,
          0.9508562918838422,
          0.9508562918838422,
          0.9508562918838422,
          0.9508562918838422,
          0.9508562918838422,
          0.9508562918838422,
          0.9508562918838422,
          0.9538346984363367,
          0.9538346984363367,
          0.9538346984363367
         ]
        },
        {
         "legendgroup": "randomforest-100",
         "marker": {
          "color": "#636EFA",
          "size": 8,
          "symbol": "triangle-up"
         },
         "mode": "lines+markers",
         "name": "randomforest-100 realworld",
         "type": "scatter",
         "x": [
          2,
          3,
          4,
          5,
          6,
          7,
          8,
          9,
          10,
          15,
          20
         ],
         "y": [
          0.7522750252780587,
          0.8736097067745197,
          0.8907987866531851,
          0.8907987866531851,
          0.8998988877654196,
          0.8998988877654196,
          0.8998988877654196,
          0.8998988877654196,
          0.8998988877654196,
          0.8998988877654196,
          0.8998988877654196
         ]
        },
        {
         "legendgroup": "randomforest-100",
         "marker": {
          "color": "#636EFA",
          "size": 8,
          "symbol": "circle"
         },
         "mode": "lines+markers",
         "name": "randomforest-100 uci",
         "type": "scatter",
         "x": [
          2,
          3,
          4,
          5,
          6,
          7,
          8,
          9,
          10,
          15,
          20
         ],
         "y": [
          0.8353156450137238,
          0.8353156450137238,
          0.8353156450137238,
          0.8682525160109792,
          0.8682525160109792,
          0.8682525160109792,
          0.8682525160109792,
          0.8682525160109792,
          0.8838060384263497,
          0.8838060384263497,
          0.8838060384263497
         ]
        },
        {
         "legendgroup": "randomforest-100",
         "marker": {
          "color": "#636EFA",
          "size": 8,
          "symbol": "square"
         },
         "mode": "lines+markers",
         "name": "randomforest-100 wisdm",
         "type": "scatter",
         "x": [
          2,
          3,
          4,
          5,
          6,
          7,
          8,
          9,
          10,
          15,
          20
         ],
         "y": [
          0.9644670050761424,
          0.9868020304568529,
          1.0213197969543149,
          1.0213197969543149,
          1.0213197969543149,
          1.0253807106598984,
          1.0253807106598984,
          1.0253807106598984,
          1.0263959390862945,
          1.0263959390862945,
          1.0263959390862945
         ]
        }
       ],
       "layout": {
        "height": 600,
        "legend": {
         "title": {
          "text": "Estimator"
         }
        },
        "template": {
         "data": {
          "bar": [
           {
            "error_x": {
             "color": "#2a3f5f"
            },
            "error_y": {
             "color": "#2a3f5f"
            },
            "marker": {
             "line": {
              "color": "#E5ECF6",
              "width": 0.5
             },
             "pattern": {
              "fillmode": "overlay",
              "size": 10,
              "solidity": 0.2
             }
            },
            "type": "bar"
           }
          ],
          "barpolar": [
           {
            "marker": {
             "line": {
              "color": "#E5ECF6",
              "width": 0.5
             },
             "pattern": {
              "fillmode": "overlay",
              "size": 10,
              "solidity": 0.2
             }
            },
            "type": "barpolar"
           }
          ],
          "carpet": [
           {
            "aaxis": {
             "endlinecolor": "#2a3f5f",
             "gridcolor": "white",
             "linecolor": "white",
             "minorgridcolor": "white",
             "startlinecolor": "#2a3f5f"
            },
            "baxis": {
             "endlinecolor": "#2a3f5f",
             "gridcolor": "white",
             "linecolor": "white",
             "minorgridcolor": "white",
             "startlinecolor": "#2a3f5f"
            },
            "type": "carpet"
           }
          ],
          "choropleth": [
           {
            "colorbar": {
             "outlinewidth": 0,
             "ticks": ""
            },
            "type": "choropleth"
           }
          ],
          "contour": [
           {
            "colorbar": {
             "outlinewidth": 0,
             "ticks": ""
            },
            "colorscale": [
             [
              0,
              "#0d0887"
             ],
             [
              0.1111111111111111,
              "#46039f"
             ],
             [
              0.2222222222222222,
              "#7201a8"
             ],
             [
              0.3333333333333333,
              "#9c179e"
             ],
             [
              0.4444444444444444,
              "#bd3786"
             ],
             [
              0.5555555555555556,
              "#d8576b"
             ],
             [
              0.6666666666666666,
              "#ed7953"
             ],
             [
              0.7777777777777778,
              "#fb9f3a"
             ],
             [
              0.8888888888888888,
              "#fdca26"
             ],
             [
              1,
              "#f0f921"
             ]
            ],
            "type": "contour"
           }
          ],
          "contourcarpet": [
           {
            "colorbar": {
             "outlinewidth": 0,
             "ticks": ""
            },
            "type": "contourcarpet"
           }
          ],
          "heatmap": [
           {
            "colorbar": {
             "outlinewidth": 0,
             "ticks": ""
            },
            "colorscale": [
             [
              0,
              "#0d0887"
             ],
             [
              0.1111111111111111,
              "#46039f"
             ],
             [
              0.2222222222222222,
              "#7201a8"
             ],
             [
              0.3333333333333333,
              "#9c179e"
             ],
             [
              0.4444444444444444,
              "#bd3786"
             ],
             [
              0.5555555555555556,
              "#d8576b"
             ],
             [
              0.6666666666666666,
              "#ed7953"
             ],
             [
              0.7777777777777778,
              "#fb9f3a"
             ],
             [
              0.8888888888888888,
              "#fdca26"
             ],
             [
              1,
              "#f0f921"
             ]
            ],
            "type": "heatmap"
           }
          ],
          "heatmapgl": [
           {
            "colorbar": {
             "outlinewidth": 0,
             "ticks": ""
            },
            "colorscale": [
             [
              0,
              "#0d0887"
             ],
             [
              0.1111111111111111,
              "#46039f"
             ],
             [
              0.2222222222222222,
              "#7201a8"
             ],
             [
              0.3333333333333333,
              "#9c179e"
             ],
             [
              0.4444444444444444,
              "#bd3786"
             ],
             [
              0.5555555555555556,
              "#d8576b"
             ],
             [
              0.6666666666666666,
              "#ed7953"
             ],
             [
              0.7777777777777778,
              "#fb9f3a"
             ],
             [
              0.8888888888888888,
              "#fdca26"
             ],
             [
              1,
              "#f0f921"
             ]
            ],
            "type": "heatmapgl"
           }
          ],
          "histogram": [
           {
            "marker": {
             "pattern": {
              "fillmode": "overlay",
              "size": 10,
              "solidity": 0.2
             }
            },
            "type": "histogram"
           }
          ],
          "histogram2d": [
           {
            "colorbar": {
             "outlinewidth": 0,
             "ticks": ""
            },
            "colorscale": [
             [
              0,
              "#0d0887"
             ],
             [
              0.1111111111111111,
              "#46039f"
             ],
             [
              0.2222222222222222,
              "#7201a8"
             ],
             [
              0.3333333333333333,
              "#9c179e"
             ],
             [
              0.4444444444444444,
              "#bd3786"
             ],
             [
              0.5555555555555556,
              "#d8576b"
             ],
             [
              0.6666666666666666,
              "#ed7953"
             ],
             [
              0.7777777777777778,
              "#fb9f3a"
             ],
             [
              0.8888888888888888,
              "#fdca26"
             ],
             [
              1,
              "#f0f921"
             ]
            ],
            "type": "histogram2d"
           }
          ],
          "histogram2dcontour": [
           {
            "colorbar": {
             "outlinewidth": 0,
             "ticks": ""
            },
            "colorscale": [
             [
              0,
              "#0d0887"
             ],
             [
              0.1111111111111111,
              "#46039f"
             ],
             [
              0.2222222222222222,
              "#7201a8"
             ],
             [
              0.3333333333333333,
              "#9c179e"
             ],
             [
              0.4444444444444444,
              "#bd3786"
             ],
             [
              0.5555555555555556,
              "#d8576b"
             ],
             [
              0.6666666666666666,
              "#ed7953"
             ],
             [
              0.7777777777777778,
              "#fb9f3a"
             ],
             [
              0.8888888888888888,
              "#fdca26"
             ],
             [
              1,
              "#f0f921"
             ]
            ],
            "type": "histogram2dcontour"
           }
          ],
          "mesh3d": [
           {
            "colorbar": {
             "outlinewidth": 0,
             "ticks": ""
            },
            "type": "mesh3d"
           }
          ],
          "parcoords": [
           {
            "line": {
             "colorbar": {
              "outlinewidth": 0,
              "ticks": ""
             }
            },
            "type": "parcoords"
           }
          ],
          "pie": [
           {
            "automargin": true,
            "type": "pie"
           }
          ],
          "scatter": [
           {
            "fillpattern": {
             "fillmode": "overlay",
             "size": 10,
             "solidity": 0.2
            },
            "type": "scatter"
           }
          ],
          "scatter3d": [
           {
            "line": {
             "colorbar": {
              "outlinewidth": 0,
              "ticks": ""
             }
            },
            "marker": {
             "colorbar": {
              "outlinewidth": 0,
              "ticks": ""
             }
            },
            "type": "scatter3d"
           }
          ],
          "scattercarpet": [
           {
            "marker": {
             "colorbar": {
              "outlinewidth": 0,
              "ticks": ""
             }
            },
            "type": "scattercarpet"
           }
          ],
          "scattergeo": [
           {
            "marker": {
             "colorbar": {
              "outlinewidth": 0,
              "ticks": ""
             }
            },
            "type": "scattergeo"
           }
          ],
          "scattergl": [
           {
            "marker": {
             "colorbar": {
              "outlinewidth": 0,
              "ticks": ""
             }
            },
            "type": "scattergl"
           }
          ],
          "scattermapbox": [
           {
            "marker": {
             "colorbar": {
              "outlinewidth": 0,
              "ticks": ""
             }
            },
            "type": "scattermapbox"
           }
          ],
          "scatterpolar": [
           {
            "marker": {
             "colorbar": {
              "outlinewidth": 0,
              "ticks": ""
             }
            },
            "type": "scatterpolar"
           }
          ],
          "scatterpolargl": [
           {
            "marker": {
             "colorbar": {
              "outlinewidth": 0,
              "ticks": ""
             }
            },
            "type": "scatterpolargl"
           }
          ],
          "scatterternary": [
           {
            "marker": {
             "colorbar": {
              "outlinewidth": 0,
              "ticks": ""
             }
            },
            "type": "scatterternary"
           }
          ],
          "surface": [
           {
            "colorbar": {
             "outlinewidth": 0,
             "ticks": ""
            },
            "colorscale": [
             [
              0,
              "#0d0887"
             ],
             [
              0.1111111111111111,
              "#46039f"
             ],
             [
              0.2222222222222222,
              "#7201a8"
             ],
             [
              0.3333333333333333,
              "#9c179e"
             ],
             [
              0.4444444444444444,
              "#bd3786"
             ],
             [
              0.5555555555555556,
              "#d8576b"
             ],
             [
              0.6666666666666666,
              "#ed7953"
             ],
             [
              0.7777777777777778,
              "#fb9f3a"
             ],
             [
              0.8888888888888888,
              "#fdca26"
             ],
             [
              1,
              "#f0f921"
             ]
            ],
            "type": "surface"
           }
          ],
          "table": [
           {
            "cells": {
             "fill": {
              "color": "#EBF0F8"
             },
             "line": {
              "color": "white"
             }
            },
            "header": {
             "fill": {
              "color": "#C8D4E3"
             },
             "line": {
              "color": "white"
             }
            },
            "type": "table"
           }
          ]
         },
         "layout": {
          "annotationdefaults": {
           "arrowcolor": "#2a3f5f",
           "arrowhead": 0,
           "arrowwidth": 1
          },
          "autotypenumbers": "strict",
          "coloraxis": {
           "colorbar": {
            "outlinewidth": 0,
            "ticks": ""
           }
          },
          "colorscale": {
           "diverging": [
            [
             0,
             "#8e0152"
            ],
            [
             0.1,
             "#c51b7d"
            ],
            [
             0.2,
             "#de77ae"
            ],
            [
             0.3,
             "#f1b6da"
            ],
            [
             0.4,
             "#fde0ef"
            ],
            [
             0.5,
             "#f7f7f7"
            ],
            [
             0.6,
             "#e6f5d0"
            ],
            [
             0.7,
             "#b8e186"
            ],
            [
             0.8,
             "#7fbc41"
            ],
            [
             0.9,
             "#4d9221"
            ],
            [
             1,
             "#276419"
            ]
           ],
           "sequential": [
            [
             0,
             "#0d0887"
            ],
            [
             0.1111111111111111,
             "#46039f"
            ],
            [
             0.2222222222222222,
             "#7201a8"
            ],
            [
             0.3333333333333333,
             "#9c179e"
            ],
            [
             0.4444444444444444,
             "#bd3786"
            ],
            [
             0.5555555555555556,
             "#d8576b"
            ],
            [
             0.6666666666666666,
             "#ed7953"
            ],
            [
             0.7777777777777778,
             "#fb9f3a"
            ],
            [
             0.8888888888888888,
             "#fdca26"
            ],
            [
             1,
             "#f0f921"
            ]
           ],
           "sequentialminus": [
            [
             0,
             "#0d0887"
            ],
            [
             0.1111111111111111,
             "#46039f"
            ],
            [
             0.2222222222222222,
             "#7201a8"
            ],
            [
             0.3333333333333333,
             "#9c179e"
            ],
            [
             0.4444444444444444,
             "#bd3786"
            ],
            [
             0.5555555555555556,
             "#d8576b"
            ],
            [
             0.6666666666666666,
             "#ed7953"
            ],
            [
             0.7777777777777778,
             "#fb9f3a"
            ],
            [
             0.8888888888888888,
             "#fdca26"
            ],
            [
             1,
             "#f0f921"
            ]
           ]
          },
          "colorway": [
           "#636efa",
           "#EF553B",
           "#00cc96",
           "#ab63fa",
           "#FFA15A",
           "#19d3f3",
           "#FF6692",
           "#B6E880",
           "#FF97FF",
           "#FECB52"
          ],
          "font": {
           "color": "#2a3f5f"
          },
          "geo": {
           "bgcolor": "white",
           "lakecolor": "white",
           "landcolor": "#E5ECF6",
           "showlakes": true,
           "showland": true,
           "subunitcolor": "white"
          },
          "hoverlabel": {
           "align": "left"
          },
          "hovermode": "closest",
          "mapbox": {
           "style": "light"
          },
          "paper_bgcolor": "white",
          "plot_bgcolor": "#E5ECF6",
          "polar": {
           "angularaxis": {
            "gridcolor": "white",
            "linecolor": "white",
            "ticks": ""
           },
           "bgcolor": "#E5ECF6",
           "radialaxis": {
            "gridcolor": "white",
            "linecolor": "white",
            "ticks": ""
           }
          },
          "scene": {
           "xaxis": {
            "backgroundcolor": "#E5ECF6",
            "gridcolor": "white",
            "gridwidth": 2,
            "linecolor": "white",
            "showbackground": true,
            "ticks": "",
            "zerolinecolor": "white"
           },
           "yaxis": {
            "backgroundcolor": "#E5ECF6",
            "gridcolor": "white",
            "gridwidth": 2,
            "linecolor": "white",
            "showbackground": true,
            "ticks": "",
            "zerolinecolor": "white"
           },
           "zaxis": {
            "backgroundcolor": "#E5ECF6",
            "gridcolor": "white",
            "gridwidth": 2,
            "linecolor": "white",
            "showbackground": true,
            "ticks": "",
            "zerolinecolor": "white"
           }
          },
          "shapedefaults": {
           "line": {
            "color": "#2a3f5f"
           }
          },
          "ternary": {
           "aaxis": {
            "gridcolor": "white",
            "linecolor": "white",
            "ticks": ""
           },
           "baxis": {
            "gridcolor": "white",
            "linecolor": "white",
            "ticks": ""
           },
           "bgcolor": "#E5ECF6",
           "caxis": {
            "gridcolor": "white",
            "linecolor": "white",
            "ticks": ""
           }
          },
          "title": {
           "x": 0.05
          },
          "xaxis": {
           "automargin": true,
           "gridcolor": "white",
           "linecolor": "white",
           "ticks": "",
           "title": {
            "standoff": 15
           },
           "zerolinecolor": "white",
           "zerolinewidth": 2
          },
          "yaxis": {
           "automargin": true,
           "gridcolor": "white",
           "linecolor": "white",
           "ticks": "",
           "title": {
            "standoff": 15
           },
           "zerolinecolor": "white",
           "zerolinewidth": 2
          }
         }
        },
        "title": {
         "text": "UMAP Improvement for each dataset (best UMAP over no UMAP, per dataset)"
        },
        "width": 1200,
        "xaxis": {
         "tickmode": "linear",
         "title": {
          "text": "Maximum UMAP Components"
         }
        },
        "yaxis": {
         "title": {
          "text": "Accuracy improvement over no UMAP"
         }
        }
       }
      }
     },
     "metadata": {},
     "output_type": "display_data"
    }
   ],
   "source": [
    "df = results.copy()\n",
    "df = filter_domain_fft_only(df)\n",
    "df = filter_features_all(df)\n",
    "df = filter_reducer_over_all(df)\n",
    "df = filter_scaler_none(df)\n",
    "df = filter_view_standardized_intra(df)\n",
    "df = filter_only_reducer_dataset_equals_train_dataset_or_no_reducer(df)\n",
    "df = get_umap_improvement_over_no_umap(df)\n",
    "df = df[df[\"umap components\"] > 0]\n",
    "\n",
    "dset_markers = {\n",
    "    name: markers[i]\n",
    "    for i, name in enumerate(df[\"train_datasets\"].unique())\n",
    "}\n",
    "\n",
    "estimator_colors = {\n",
    "    name: colors[i]\n",
    "    for i, name in enumerate(df[\"estimator\"].unique())\n",
    "}\n",
    "\n",
    "fig = go.Figure()\n",
    "for (estimator, dataset), subdf in df.groupby([\"estimator\", \"train_datasets\"]):\n",
    "    subdf = subdf.sort_values(by=\"umap components\")\n",
    "    xs, ys = [], []\n",
    "    for n_components in sorted(subdf[\"umap components\"].unique()):\n",
    "        xs.append(n_components)\n",
    "        ys.append(subdf[subdf[\"umap components\"] <= n_components][\"umap improvement\"].max())\n",
    "    fig.add_trace(\n",
    "        go.Scatter( \n",
    "            x=xs,\n",
    "            y=ys,\n",
    "            name=f\"{estimator} {dataset}\",\n",
    "            mode=\"lines+markers\",\n",
    "            legendgroup=estimator,\n",
    "            # legendgrouptitle=\"Estimator\",\n",
    "            marker=dict(\n",
    "                color=estimator_colors[estimator],\n",
    "                symbol=dset_markers[dataset],\n",
    "                size=8,\n",
    "            ),\n",
    "        )\n",
    "    )\n",
    "    # subdf[\"best umap improvement so far\"] = df[\"umap improvement\"].expanding().max()\n",
    "\n",
    "fig.update_layout(\n",
    "    title=\"UMAP Improvement for each dataset (best UMAP over no UMAP, per dataset)\",\n",
    "    xaxis_title=\"Maximum UMAP Components\",\n",
    "    yaxis_title=\"Accuracy improvement over no UMAP\",\n",
    "    legend_title=\"Estimator\",\n",
    "    width=1200,\n",
    "    height=600,\n",
    "    xaxis=dict(tickmode=\"linear\")\n",
    ")\n",
    "fig.show()"
   ]
  },
  {
   "attachments": {},
   "cell_type": "markdown",
   "metadata": {},
   "source": [
    "b.2) UMAP vs best UMAP"
   ]
  },
  {
   "cell_type": "code",
   "execution_count": 75,
   "metadata": {},
   "outputs": [],
   "source": [
    "def get_umap_improvement_over_best_umap(df, new_column_name: str = \"umap improvement\"):\n",
    "    df = df[df[\"umap components\"] != 0]\n",
    "    experiment_uniq = [c for c in unique_exp_columns if c not in [\"reducer_datasets\", \"umap components\"]]\n",
    "\n",
    "    best_umap = {}\n",
    "    for key, subdf in df.groupby(experiment_uniq):\n",
    "        best_umap[key] = subdf[\"accuracy (mean)\"].max()\n",
    "\n",
    "    for key, subdf in df.groupby(experiment_uniq):\n",
    "        df.loc[subdf.index, new_column_name] = subdf[\"accuracy (mean)\"] / best_umap[key]\n",
    "\n",
    "    return df"
   ]
  },
  {
   "cell_type": "code",
   "execution_count": 85,
   "metadata": {},
   "outputs": [
    {
     "data": {
      "application/vnd.plotly.v1+json": {
       "config": {
        "plotlyServerURL": "https://plot.ly"
       },
       "data": [
        {
         "legendgroup": "KNN-5",
         "marker": {
          "color": "#EF553B",
          "size": 7,
          "symbol": "x"
         },
         "mode": "lines+markers",
         "name": "KNN-5 kuhar",
         "type": "scatter",
         "x": [
          2,
          3,
          4,
          5,
          6,
          7,
          8,
          9,
          10,
          15,
          20
         ],
         "y": [
          0.933884297520661,
          0.9752066115702478,
          0.9752066115702478,
          1,
          1,
          1,
          1,
          1,
          1,
          1,
          1
         ]
        },
        {
         "legendgroup": "KNN-5",
         "marker": {
          "color": "#EF553B",
          "size": 7,
          "symbol": "diamond"
         },
         "mode": "lines+markers",
         "name": "KNN-5 motionsense",
         "type": "scatter",
         "x": [
          2,
          3,
          4,
          5,
          6,
          7,
          8,
          9,
          10,
          15,
          20
         ],
         "y": [
          0.9457364341085269,
          0.9767441860465116,
          0.9767441860465116,
          1,
          1,
          1,
          1,
          1,
          1,
          1,
          1
         ]
        },
        {
         "legendgroup": "KNN-5",
         "marker": {
          "color": "#EF553B",
          "size": 7,
          "symbol": "triangle-up"
         },
         "mode": "lines+markers",
         "name": "KNN-5 realworld",
         "type": "scatter",
         "x": [
          2,
          3,
          4,
          5,
          6,
          7,
          8,
          9,
          10,
          15,
          20
         ],
         "y": [
          0.9468085106382979,
          0.9468085106382979,
          0.9468085106382979,
          0.9468085106382979,
          0.9468085106382979,
          0.9468085106382979,
          0.9468085106382979,
          0.9468085106382979,
          1,
          1,
          1
         ]
        },
        {
         "legendgroup": "KNN-5",
         "marker": {
          "color": "#EF553B",
          "size": 7,
          "symbol": "circle"
         },
         "mode": "lines+markers",
         "name": "KNN-5 uci",
         "type": "scatter",
         "x": [
          2,
          3,
          4,
          5,
          6,
          7,
          8,
          9,
          10,
          15,
          20
         ],
         "y": [
          0.9263157894736841,
          0.9263157894736841,
          0.9473684210526315,
          0.9789473684210527,
          0.9789473684210527,
          0.9789473684210527,
          0.9789473684210527,
          1,
          1,
          1,
          1
         ]
        },
        {
         "legendgroup": "KNN-5",
         "marker": {
          "color": "#EF553B",
          "size": 7,
          "symbol": "square"
         },
         "mode": "lines+markers",
         "name": "KNN-5 wisdm",
         "type": "scatter",
         "x": [
          2,
          3,
          4,
          5,
          6,
          7,
          8,
          9,
          10,
          15,
          20
         ],
         "y": [
          0.910891089108911,
          1,
          1,
          1,
          1,
          1,
          1,
          1,
          1,
          1,
          1
         ]
        },
        {
         "legendgroup": "SVM-rbf-C1.0",
         "marker": {
          "color": "#00CC96",
          "size": 7,
          "symbol": "x"
         },
         "mode": "lines+markers",
         "name": "SVM-rbf-C1.0 kuhar",
         "type": "scatter",
         "x": [
          2,
          3,
          4,
          5,
          6,
          7,
          8,
          9,
          10,
          15,
          20
         ],
         "y": [
          1,
          1,
          1,
          1,
          1,
          1,
          1,
          1,
          1,
          1,
          1
         ]
        },
        {
         "legendgroup": "SVM-rbf-C1.0",
         "marker": {
          "color": "#00CC96",
          "size": 7,
          "symbol": "diamond"
         },
         "mode": "lines+markers",
         "name": "SVM-rbf-C1.0 motionsense",
         "type": "scatter",
         "x": [
          2,
          3,
          4,
          5,
          6,
          7,
          8,
          9,
          10,
          15,
          20
         ],
         "y": [
          0.9674796747967481,
          0.9756097560975611,
          0.9837398373983741,
          0.9918699186991868,
          1,
          1,
          1,
          1,
          1,
          1,
          1
         ]
        },
        {
         "legendgroup": "SVM-rbf-C1.0",
         "marker": {
          "color": "#00CC96",
          "size": 7,
          "symbol": "triangle-up"
         },
         "mode": "lines+markers",
         "name": "SVM-rbf-C1.0 realworld",
         "type": "scatter",
         "x": [
          2,
          3,
          4,
          5,
          6,
          7,
          8,
          9,
          10,
          15,
          20
         ],
         "y": [
          0.9090909090909092,
          0.9886363636363639,
          0.9886363636363639,
          0.9886363636363639,
          0.9886363636363639,
          0.9886363636363639,
          0.9886363636363639,
          0.9886363636363639,
          1,
          1,
          1
         ]
        },
        {
         "legendgroup": "SVM-rbf-C1.0",
         "marker": {
          "color": "#00CC96",
          "size": 7,
          "symbol": "circle"
         },
         "mode": "lines+markers",
         "name": "SVM-rbf-C1.0 uci",
         "type": "scatter",
         "x": [
          2,
          3,
          4,
          5,
          6,
          7,
          8,
          9,
          10,
          15,
          20
         ],
         "y": [
          1,
          1,
          1,
          1,
          1,
          1,
          1,
          1,
          1,
          1,
          1
         ]
        },
        {
         "legendgroup": "SVM-rbf-C1.0",
         "marker": {
          "color": "#00CC96",
          "size": 7,
          "symbol": "square"
         },
         "mode": "lines+markers",
         "name": "SVM-rbf-C1.0 wisdm",
         "type": "scatter",
         "x": [
          2,
          3,
          4,
          5,
          6,
          7,
          8,
          9,
          10,
          15,
          20
         ],
         "y": [
          0.968421052631579,
          0.968421052631579,
          0.9789473684210527,
          0.9789473684210527,
          1,
          1,
          1,
          1,
          1,
          1,
          1
         ]
        },
        {
         "legendgroup": "randomforest-100",
         "marker": {
          "color": "#636EFA",
          "size": 7,
          "symbol": "x"
         },
         "mode": "lines+markers",
         "name": "randomforest-100 kuhar",
         "type": "scatter",
         "x": [
          2,
          3,
          4,
          5,
          6,
          7,
          8,
          9,
          10,
          15,
          20
         ],
         "y": [
          0.9361525704809288,
          0.9834162520729685,
          0.9834162520729685,
          0.9991708126036484,
          0.9991708126036484,
          0.9991708126036484,
          0.9991708126036484,
          0.9991708126036484,
          1,
          1,
          1
         ]
        },
        {
         "legendgroup": "randomforest-100",
         "marker": {
          "color": "#636EFA",
          "size": 7,
          "symbol": "diamond"
         },
         "mode": "lines+markers",
         "name": "randomforest-100 motionsense",
         "type": "scatter",
         "x": [
          2,
          3,
          4,
          5,
          6,
          7,
          8,
          9,
          10,
          15,
          20
         ],
         "y": [
          0.9601873536299766,
          0.9968774395003902,
          0.9968774395003902,
          0.9968774395003902,
          0.9968774395003902,
          0.9968774395003902,
          0.9968774395003902,
          0.9968774395003902,
          1,
          1,
          1
         ]
        },
        {
         "legendgroup": "randomforest-100",
         "marker": {
          "color": "#636EFA",
          "size": 7,
          "symbol": "triangle-up"
         },
         "mode": "lines+markers",
         "name": "randomforest-100 realworld",
         "type": "scatter",
         "x": [
          2,
          3,
          4,
          5,
          6,
          7,
          8,
          9,
          10,
          15,
          20
         ],
         "y": [
          0.8359550561797753,
          0.9707865168539325,
          0.9898876404494382,
          0.9898876404494382,
          1,
          1,
          1,
          1,
          1,
          1,
          1
         ]
        },
        {
         "legendgroup": "randomforest-100",
         "marker": {
          "color": "#636EFA",
          "size": 7,
          "symbol": "circle"
         },
         "mode": "lines+markers",
         "name": "randomforest-100 uci",
         "type": "scatter",
         "x": [
          2,
          3,
          4,
          5,
          6,
          7,
          8,
          9,
          10,
          15,
          20
         ],
         "y": [
          0.945134575569358,
          0.945134575569358,
          0.945134575569358,
          0.9824016563146998,
          0.9824016563146998,
          0.9824016563146998,
          0.9824016563146998,
          0.9824016563146998,
          1,
          1,
          1
         ]
        },
        {
         "legendgroup": "randomforest-100",
         "marker": {
          "color": "#636EFA",
          "size": 7,
          "symbol": "square"
         },
         "mode": "lines+markers",
         "name": "randomforest-100 wisdm",
         "type": "scatter",
         "x": [
          2,
          3,
          4,
          5,
          6,
          7,
          8,
          9,
          10,
          15,
          20
         ],
         "y": [
          0.9396636993076164,
          0.9614243323442137,
          0.9950544015825915,
          0.9950544015825915,
          0.9950544015825915,
          0.9990108803165183,
          0.9990108803165183,
          0.9990108803165183,
          1,
          1,
          1
         ]
        }
       ],
       "layout": {
        "height": 600,
        "legend": {
         "title": {
          "text": "Estimator"
         }
        },
        "template": {
         "data": {
          "bar": [
           {
            "error_x": {
             "color": "#2a3f5f"
            },
            "error_y": {
             "color": "#2a3f5f"
            },
            "marker": {
             "line": {
              "color": "#E5ECF6",
              "width": 0.5
             },
             "pattern": {
              "fillmode": "overlay",
              "size": 10,
              "solidity": 0.2
             }
            },
            "type": "bar"
           }
          ],
          "barpolar": [
           {
            "marker": {
             "line": {
              "color": "#E5ECF6",
              "width": 0.5
             },
             "pattern": {
              "fillmode": "overlay",
              "size": 10,
              "solidity": 0.2
             }
            },
            "type": "barpolar"
           }
          ],
          "carpet": [
           {
            "aaxis": {
             "endlinecolor": "#2a3f5f",
             "gridcolor": "white",
             "linecolor": "white",
             "minorgridcolor": "white",
             "startlinecolor": "#2a3f5f"
            },
            "baxis": {
             "endlinecolor": "#2a3f5f",
             "gridcolor": "white",
             "linecolor": "white",
             "minorgridcolor": "white",
             "startlinecolor": "#2a3f5f"
            },
            "type": "carpet"
           }
          ],
          "choropleth": [
           {
            "colorbar": {
             "outlinewidth": 0,
             "ticks": ""
            },
            "type": "choropleth"
           }
          ],
          "contour": [
           {
            "colorbar": {
             "outlinewidth": 0,
             "ticks": ""
            },
            "colorscale": [
             [
              0,
              "#0d0887"
             ],
             [
              0.1111111111111111,
              "#46039f"
             ],
             [
              0.2222222222222222,
              "#7201a8"
             ],
             [
              0.3333333333333333,
              "#9c179e"
             ],
             [
              0.4444444444444444,
              "#bd3786"
             ],
             [
              0.5555555555555556,
              "#d8576b"
             ],
             [
              0.6666666666666666,
              "#ed7953"
             ],
             [
              0.7777777777777778,
              "#fb9f3a"
             ],
             [
              0.8888888888888888,
              "#fdca26"
             ],
             [
              1,
              "#f0f921"
             ]
            ],
            "type": "contour"
           }
          ],
          "contourcarpet": [
           {
            "colorbar": {
             "outlinewidth": 0,
             "ticks": ""
            },
            "type": "contourcarpet"
           }
          ],
          "heatmap": [
           {
            "colorbar": {
             "outlinewidth": 0,
             "ticks": ""
            },
            "colorscale": [
             [
              0,
              "#0d0887"
             ],
             [
              0.1111111111111111,
              "#46039f"
             ],
             [
              0.2222222222222222,
              "#7201a8"
             ],
             [
              0.3333333333333333,
              "#9c179e"
             ],
             [
              0.4444444444444444,
              "#bd3786"
             ],
             [
              0.5555555555555556,
              "#d8576b"
             ],
             [
              0.6666666666666666,
              "#ed7953"
             ],
             [
              0.7777777777777778,
              "#fb9f3a"
             ],
             [
              0.8888888888888888,
              "#fdca26"
             ],
             [
              1,
              "#f0f921"
             ]
            ],
            "type": "heatmap"
           }
          ],
          "heatmapgl": [
           {
            "colorbar": {
             "outlinewidth": 0,
             "ticks": ""
            },
            "colorscale": [
             [
              0,
              "#0d0887"
             ],
             [
              0.1111111111111111,
              "#46039f"
             ],
             [
              0.2222222222222222,
              "#7201a8"
             ],
             [
              0.3333333333333333,
              "#9c179e"
             ],
             [
              0.4444444444444444,
              "#bd3786"
             ],
             [
              0.5555555555555556,
              "#d8576b"
             ],
             [
              0.6666666666666666,
              "#ed7953"
             ],
             [
              0.7777777777777778,
              "#fb9f3a"
             ],
             [
              0.8888888888888888,
              "#fdca26"
             ],
             [
              1,
              "#f0f921"
             ]
            ],
            "type": "heatmapgl"
           }
          ],
          "histogram": [
           {
            "marker": {
             "pattern": {
              "fillmode": "overlay",
              "size": 10,
              "solidity": 0.2
             }
            },
            "type": "histogram"
           }
          ],
          "histogram2d": [
           {
            "colorbar": {
             "outlinewidth": 0,
             "ticks": ""
            },
            "colorscale": [
             [
              0,
              "#0d0887"
             ],
             [
              0.1111111111111111,
              "#46039f"
             ],
             [
              0.2222222222222222,
              "#7201a8"
             ],
             [
              0.3333333333333333,
              "#9c179e"
             ],
             [
              0.4444444444444444,
              "#bd3786"
             ],
             [
              0.5555555555555556,
              "#d8576b"
             ],
             [
              0.6666666666666666,
              "#ed7953"
             ],
             [
              0.7777777777777778,
              "#fb9f3a"
             ],
             [
              0.8888888888888888,
              "#fdca26"
             ],
             [
              1,
              "#f0f921"
             ]
            ],
            "type": "histogram2d"
           }
          ],
          "histogram2dcontour": [
           {
            "colorbar": {
             "outlinewidth": 0,
             "ticks": ""
            },
            "colorscale": [
             [
              0,
              "#0d0887"
             ],
             [
              0.1111111111111111,
              "#46039f"
             ],
             [
              0.2222222222222222,
              "#7201a8"
             ],
             [
              0.3333333333333333,
              "#9c179e"
             ],
             [
              0.4444444444444444,
              "#bd3786"
             ],
             [
              0.5555555555555556,
              "#d8576b"
             ],
             [
              0.6666666666666666,
              "#ed7953"
             ],
             [
              0.7777777777777778,
              "#fb9f3a"
             ],
             [
              0.8888888888888888,
              "#fdca26"
             ],
             [
              1,
              "#f0f921"
             ]
            ],
            "type": "histogram2dcontour"
           }
          ],
          "mesh3d": [
           {
            "colorbar": {
             "outlinewidth": 0,
             "ticks": ""
            },
            "type": "mesh3d"
           }
          ],
          "parcoords": [
           {
            "line": {
             "colorbar": {
              "outlinewidth": 0,
              "ticks": ""
             }
            },
            "type": "parcoords"
           }
          ],
          "pie": [
           {
            "automargin": true,
            "type": "pie"
           }
          ],
          "scatter": [
           {
            "fillpattern": {
             "fillmode": "overlay",
             "size": 10,
             "solidity": 0.2
            },
            "type": "scatter"
           }
          ],
          "scatter3d": [
           {
            "line": {
             "colorbar": {
              "outlinewidth": 0,
              "ticks": ""
             }
            },
            "marker": {
             "colorbar": {
              "outlinewidth": 0,
              "ticks": ""
             }
            },
            "type": "scatter3d"
           }
          ],
          "scattercarpet": [
           {
            "marker": {
             "colorbar": {
              "outlinewidth": 0,
              "ticks": ""
             }
            },
            "type": "scattercarpet"
           }
          ],
          "scattergeo": [
           {
            "marker": {
             "colorbar": {
              "outlinewidth": 0,
              "ticks": ""
             }
            },
            "type": "scattergeo"
           }
          ],
          "scattergl": [
           {
            "marker": {
             "colorbar": {
              "outlinewidth": 0,
              "ticks": ""
             }
            },
            "type": "scattergl"
           }
          ],
          "scattermapbox": [
           {
            "marker": {
             "colorbar": {
              "outlinewidth": 0,
              "ticks": ""
             }
            },
            "type": "scattermapbox"
           }
          ],
          "scatterpolar": [
           {
            "marker": {
             "colorbar": {
              "outlinewidth": 0,
              "ticks": ""
             }
            },
            "type": "scatterpolar"
           }
          ],
          "scatterpolargl": [
           {
            "marker": {
             "colorbar": {
              "outlinewidth": 0,
              "ticks": ""
             }
            },
            "type": "scatterpolargl"
           }
          ],
          "scatterternary": [
           {
            "marker": {
             "colorbar": {
              "outlinewidth": 0,
              "ticks": ""
             }
            },
            "type": "scatterternary"
           }
          ],
          "surface": [
           {
            "colorbar": {
             "outlinewidth": 0,
             "ticks": ""
            },
            "colorscale": [
             [
              0,
              "#0d0887"
             ],
             [
              0.1111111111111111,
              "#46039f"
             ],
             [
              0.2222222222222222,
              "#7201a8"
             ],
             [
              0.3333333333333333,
              "#9c179e"
             ],
             [
              0.4444444444444444,
              "#bd3786"
             ],
             [
              0.5555555555555556,
              "#d8576b"
             ],
             [
              0.6666666666666666,
              "#ed7953"
             ],
             [
              0.7777777777777778,
              "#fb9f3a"
             ],
             [
              0.8888888888888888,
              "#fdca26"
             ],
             [
              1,
              "#f0f921"
             ]
            ],
            "type": "surface"
           }
          ],
          "table": [
           {
            "cells": {
             "fill": {
              "color": "#EBF0F8"
             },
             "line": {
              "color": "white"
             }
            },
            "header": {
             "fill": {
              "color": "#C8D4E3"
             },
             "line": {
              "color": "white"
             }
            },
            "type": "table"
           }
          ]
         },
         "layout": {
          "annotationdefaults": {
           "arrowcolor": "#2a3f5f",
           "arrowhead": 0,
           "arrowwidth": 1
          },
          "autotypenumbers": "strict",
          "coloraxis": {
           "colorbar": {
            "outlinewidth": 0,
            "ticks": ""
           }
          },
          "colorscale": {
           "diverging": [
            [
             0,
             "#8e0152"
            ],
            [
             0.1,
             "#c51b7d"
            ],
            [
             0.2,
             "#de77ae"
            ],
            [
             0.3,
             "#f1b6da"
            ],
            [
             0.4,
             "#fde0ef"
            ],
            [
             0.5,
             "#f7f7f7"
            ],
            [
             0.6,
             "#e6f5d0"
            ],
            [
             0.7,
             "#b8e186"
            ],
            [
             0.8,
             "#7fbc41"
            ],
            [
             0.9,
             "#4d9221"
            ],
            [
             1,
             "#276419"
            ]
           ],
           "sequential": [
            [
             0,
             "#0d0887"
            ],
            [
             0.1111111111111111,
             "#46039f"
            ],
            [
             0.2222222222222222,
             "#7201a8"
            ],
            [
             0.3333333333333333,
             "#9c179e"
            ],
            [
             0.4444444444444444,
             "#bd3786"
            ],
            [
             0.5555555555555556,
             "#d8576b"
            ],
            [
             0.6666666666666666,
             "#ed7953"
            ],
            [
             0.7777777777777778,
             "#fb9f3a"
            ],
            [
             0.8888888888888888,
             "#fdca26"
            ],
            [
             1,
             "#f0f921"
            ]
           ],
           "sequentialminus": [
            [
             0,
             "#0d0887"
            ],
            [
             0.1111111111111111,
             "#46039f"
            ],
            [
             0.2222222222222222,
             "#7201a8"
            ],
            [
             0.3333333333333333,
             "#9c179e"
            ],
            [
             0.4444444444444444,
             "#bd3786"
            ],
            [
             0.5555555555555556,
             "#d8576b"
            ],
            [
             0.6666666666666666,
             "#ed7953"
            ],
            [
             0.7777777777777778,
             "#fb9f3a"
            ],
            [
             0.8888888888888888,
             "#fdca26"
            ],
            [
             1,
             "#f0f921"
            ]
           ]
          },
          "colorway": [
           "#636efa",
           "#EF553B",
           "#00cc96",
           "#ab63fa",
           "#FFA15A",
           "#19d3f3",
           "#FF6692",
           "#B6E880",
           "#FF97FF",
           "#FECB52"
          ],
          "font": {
           "color": "#2a3f5f"
          },
          "geo": {
           "bgcolor": "white",
           "lakecolor": "white",
           "landcolor": "#E5ECF6",
           "showlakes": true,
           "showland": true,
           "subunitcolor": "white"
          },
          "hoverlabel": {
           "align": "left"
          },
          "hovermode": "closest",
          "mapbox": {
           "style": "light"
          },
          "paper_bgcolor": "white",
          "plot_bgcolor": "#E5ECF6",
          "polar": {
           "angularaxis": {
            "gridcolor": "white",
            "linecolor": "white",
            "ticks": ""
           },
           "bgcolor": "#E5ECF6",
           "radialaxis": {
            "gridcolor": "white",
            "linecolor": "white",
            "ticks": ""
           }
          },
          "scene": {
           "xaxis": {
            "backgroundcolor": "#E5ECF6",
            "gridcolor": "white",
            "gridwidth": 2,
            "linecolor": "white",
            "showbackground": true,
            "ticks": "",
            "zerolinecolor": "white"
           },
           "yaxis": {
            "backgroundcolor": "#E5ECF6",
            "gridcolor": "white",
            "gridwidth": 2,
            "linecolor": "white",
            "showbackground": true,
            "ticks": "",
            "zerolinecolor": "white"
           },
           "zaxis": {
            "backgroundcolor": "#E5ECF6",
            "gridcolor": "white",
            "gridwidth": 2,
            "linecolor": "white",
            "showbackground": true,
            "ticks": "",
            "zerolinecolor": "white"
           }
          },
          "shapedefaults": {
           "line": {
            "color": "#2a3f5f"
           }
          },
          "ternary": {
           "aaxis": {
            "gridcolor": "white",
            "linecolor": "white",
            "ticks": ""
           },
           "baxis": {
            "gridcolor": "white",
            "linecolor": "white",
            "ticks": ""
           },
           "bgcolor": "#E5ECF6",
           "caxis": {
            "gridcolor": "white",
            "linecolor": "white",
            "ticks": ""
           }
          },
          "title": {
           "x": 0.05
          },
          "xaxis": {
           "automargin": true,
           "gridcolor": "white",
           "linecolor": "white",
           "ticks": "",
           "title": {
            "standoff": 15
           },
           "zerolinecolor": "white",
           "zerolinewidth": 2
          },
          "yaxis": {
           "automargin": true,
           "gridcolor": "white",
           "linecolor": "white",
           "ticks": "",
           "title": {
            "standoff": 15
           },
           "zerolinecolor": "white",
           "zerolinewidth": 2
          }
         }
        },
        "title": {
         "text": "UMAP Improvement for each dataset (UMAP over best UMAP, per dataset)"
        },
        "width": 1200,
        "xaxis": {
         "tickmode": "linear",
         "title": {
          "text": "Maximum UMAP Components"
         }
        },
        "yaxis": {
         "title": {
          "text": "Accuracy improvement best UMAP"
         }
        }
       }
      }
     },
     "metadata": {},
     "output_type": "display_data"
    }
   ],
   "source": [
    "df = results.copy()\n",
    "df = filter_domain_fft_only(df)\n",
    "df = filter_features_all(df)\n",
    "df = filter_reducer_over_all(df)\n",
    "df = filter_scaler_none(df)\n",
    "df = filter_view_standardized_intra(df)\n",
    "df = filter_only_reducer_dataset_equals_train_dataset_or_no_reducer(df)\n",
    "df = get_umap_improvement_over_best_umap(df)\n",
    "\n",
    "dset_markers = {\n",
    "    name: markers[i]\n",
    "    for i, name in enumerate(df[\"train_datasets\"].unique())\n",
    "}\n",
    "\n",
    "estimator_colors = {\n",
    "    name: colors[i]\n",
    "    for i, name in enumerate(df[\"estimator\"].unique())\n",
    "}\n",
    "\n",
    "fig = go.Figure()\n",
    "for (estimator, dataset), subdf in df.groupby([\"estimator\", \"train_datasets\"]):\n",
    "    subdf = subdf.sort_values(by=\"umap components\")\n",
    "    xs, ys = [], []\n",
    "    for n_components in sorted(subdf[\"umap components\"].unique()):\n",
    "        xs.append(n_components)\n",
    "        ys.append(subdf[subdf[\"umap components\"] <= n_components][\"umap improvement\"].max())\n",
    "    fig.add_trace(\n",
    "        go.Scatter( \n",
    "            x=xs,\n",
    "            y=ys,\n",
    "            name=f\"{estimator} {dataset}\",\n",
    "            mode=\"lines+markers\",\n",
    "            legendgroup=estimator,\n",
    "            # legendgrouptitle=\"Estimator\",\n",
    "            marker=dict(\n",
    "                color=estimator_colors[estimator],\n",
    "                symbol=dset_markers[dataset],\n",
    "                size=7,\n",
    "            ),\n",
    "        )\n",
    "    )\n",
    "    # subdf[\"best umap improvement so far\"] = df[\"umap improvement\"].expanding().max()\n",
    "\n",
    "fig.update_layout(\n",
    "    title=\"UMAP Improvement for each dataset (UMAP over best UMAP, per dataset)\",\n",
    "    xaxis_title=\"Maximum UMAP Components\",\n",
    "    yaxis_title=\"Accuracy improvement best UMAP\",\n",
    "    legend_title=\"Estimator\",\n",
    "    width=1200,\n",
    "    height=600,\n",
    "    xaxis=dict(tickmode=\"linear\")\n",
    ")\n",
    "fig.show()"
   ]
  },
  {
   "attachments": {},
   "cell_type": "markdown",
   "metadata": {},
   "source": [
    "### Pergunta 1.c"
   ]
  },
  {
   "cell_type": "code",
   "execution_count": 137,
   "metadata": {},
   "outputs": [
    {
     "name": "stderr",
     "output_type": "stream",
     "text": [
      "/tmp/ipykernel_602429/862335259.py:13: FutureWarning:\n",
      "\n",
      "In a future version of pandas, a length 1 tuple will be returned when iterating over a groupby with a grouper equal to a list of length 1. Don't supply a list with a single grouper to avoid this warning.\n",
      "\n"
     ]
    },
    {
     "data": {
      "application/vnd.plotly.v1+json": {
       "config": {
        "plotlyServerURL": "https://plot.ly"
       },
       "data": [
        {
         "legendgroup": "no umap",
         "marker": {
          "color": "#636EFA"
         },
         "name": "kuhar no umap",
         "type": "bar",
         "x": [
          "kuhar raw (no umap)",
          "kuhar standartized (no umap)"
         ],
         "y": [
          null,
          0.888888888888889
         ]
        },
        {
         "legendgroup": "best umap",
         "marker": {
          "color": "#EF553B"
         },
         "name": "kuhar best umap",
         "type": "bar",
         "x": [
          "kuhar raw (best umap)",
          "kuhar standartized (best umap)"
         ],
         "y": [
          0.8333333333333334,
          0.8402777777777779
         ]
        },
        {
         "legendgroup": "no umap",
         "marker": {
          "color": "#636EFA"
         },
         "name": "motionsense no umap",
         "type": "bar",
         "x": [
          "motionsense raw (no umap)",
          "motionsense standartized (no umap)"
         ],
         "y": [
          null,
          0.9326388888888888
         ]
        },
        {
         "legendgroup": "best umap",
         "marker": {
          "color": "#EF553B"
         },
         "name": "motionsense best umap",
         "type": "bar",
         "x": [
          "motionsense raw (best umap)",
          "motionsense standartized (best umap)"
         ],
         "y": [
          0.8990583804143126,
          0.8958333333333334
         ]
        },
        {
         "legendgroup": "no umap",
         "marker": {
          "color": "#636EFA"
         },
         "name": "realworld no umap",
         "type": "bar",
         "x": [
          "realworld raw (no umap)",
          "realworld standartized (no umap)"
         ],
         "y": [
          null,
          0.6944444444444444
         ]
        },
        {
         "legendgroup": "best umap",
         "marker": {
          "color": "#EF553B"
         },
         "name": "realworld best umap",
         "type": "bar",
         "x": [
          "realworld raw (best umap)",
          "realworld standartized (best umap)"
         ],
         "y": [
          0.6817345295606165,
          0.6527777777777778
         ]
        },
        {
         "legendgroup": "no umap",
         "marker": {
          "color": "#636EFA"
         },
         "name": "uci no umap",
         "type": "bar",
         "x": [
          "uci raw (no umap)",
          "uci standartized (no umap)"
         ],
         "y": [
          null,
          0.9108333333333332
         ]
        },
        {
         "legendgroup": "best umap",
         "marker": {
          "color": "#EF553B"
         },
         "name": "uci best umap",
         "type": "bar",
         "x": [
          "uci raw (best umap)",
          "uci standartized (best umap)"
         ],
         "y": [
          0.7726086956521739,
          0.805
         ]
        },
        {
         "legendgroup": "no umap",
         "marker": {
          "color": "#636EFA"
         },
         "name": "wisdm no umap",
         "type": "bar",
         "x": [
          "wisdm raw (no umap)",
          "wisdm standartized (no umap)"
         ],
         "y": [
          null,
          0.85
         ]
        },
        {
         "legendgroup": "best umap",
         "marker": {
          "color": "#EF553B"
         },
         "name": "wisdm best umap",
         "type": "bar",
         "x": [
          "wisdm raw (best umap)",
          "wisdm standartized (best umap)"
         ],
         "y": [
          0.8847457627118643,
          0.8424999999999999
         ]
        }
       ],
       "layout": {
        "height": 800,
        "legend": {
         "title": {
          "text": "Estimator"
         }
        },
        "template": {
         "data": {
          "bar": [
           {
            "error_x": {
             "color": "#2a3f5f"
            },
            "error_y": {
             "color": "#2a3f5f"
            },
            "marker": {
             "line": {
              "color": "#E5ECF6",
              "width": 0.5
             },
             "pattern": {
              "fillmode": "overlay",
              "size": 10,
              "solidity": 0.2
             }
            },
            "type": "bar"
           }
          ],
          "barpolar": [
           {
            "marker": {
             "line": {
              "color": "#E5ECF6",
              "width": 0.5
             },
             "pattern": {
              "fillmode": "overlay",
              "size": 10,
              "solidity": 0.2
             }
            },
            "type": "barpolar"
           }
          ],
          "carpet": [
           {
            "aaxis": {
             "endlinecolor": "#2a3f5f",
             "gridcolor": "white",
             "linecolor": "white",
             "minorgridcolor": "white",
             "startlinecolor": "#2a3f5f"
            },
            "baxis": {
             "endlinecolor": "#2a3f5f",
             "gridcolor": "white",
             "linecolor": "white",
             "minorgridcolor": "white",
             "startlinecolor": "#2a3f5f"
            },
            "type": "carpet"
           }
          ],
          "choropleth": [
           {
            "colorbar": {
             "outlinewidth": 0,
             "ticks": ""
            },
            "type": "choropleth"
           }
          ],
          "contour": [
           {
            "colorbar": {
             "outlinewidth": 0,
             "ticks": ""
            },
            "colorscale": [
             [
              0,
              "#0d0887"
             ],
             [
              0.1111111111111111,
              "#46039f"
             ],
             [
              0.2222222222222222,
              "#7201a8"
             ],
             [
              0.3333333333333333,
              "#9c179e"
             ],
             [
              0.4444444444444444,
              "#bd3786"
             ],
             [
              0.5555555555555556,
              "#d8576b"
             ],
             [
              0.6666666666666666,
              "#ed7953"
             ],
             [
              0.7777777777777778,
              "#fb9f3a"
             ],
             [
              0.8888888888888888,
              "#fdca26"
             ],
             [
              1,
              "#f0f921"
             ]
            ],
            "type": "contour"
           }
          ],
          "contourcarpet": [
           {
            "colorbar": {
             "outlinewidth": 0,
             "ticks": ""
            },
            "type": "contourcarpet"
           }
          ],
          "heatmap": [
           {
            "colorbar": {
             "outlinewidth": 0,
             "ticks": ""
            },
            "colorscale": [
             [
              0,
              "#0d0887"
             ],
             [
              0.1111111111111111,
              "#46039f"
             ],
             [
              0.2222222222222222,
              "#7201a8"
             ],
             [
              0.3333333333333333,
              "#9c179e"
             ],
             [
              0.4444444444444444,
              "#bd3786"
             ],
             [
              0.5555555555555556,
              "#d8576b"
             ],
             [
              0.6666666666666666,
              "#ed7953"
             ],
             [
              0.7777777777777778,
              "#fb9f3a"
             ],
             [
              0.8888888888888888,
              "#fdca26"
             ],
             [
              1,
              "#f0f921"
             ]
            ],
            "type": "heatmap"
           }
          ],
          "heatmapgl": [
           {
            "colorbar": {
             "outlinewidth": 0,
             "ticks": ""
            },
            "colorscale": [
             [
              0,
              "#0d0887"
             ],
             [
              0.1111111111111111,
              "#46039f"
             ],
             [
              0.2222222222222222,
              "#7201a8"
             ],
             [
              0.3333333333333333,
              "#9c179e"
             ],
             [
              0.4444444444444444,
              "#bd3786"
             ],
             [
              0.5555555555555556,
              "#d8576b"
             ],
             [
              0.6666666666666666,
              "#ed7953"
             ],
             [
              0.7777777777777778,
              "#fb9f3a"
             ],
             [
              0.8888888888888888,
              "#fdca26"
             ],
             [
              1,
              "#f0f921"
             ]
            ],
            "type": "heatmapgl"
           }
          ],
          "histogram": [
           {
            "marker": {
             "pattern": {
              "fillmode": "overlay",
              "size": 10,
              "solidity": 0.2
             }
            },
            "type": "histogram"
           }
          ],
          "histogram2d": [
           {
            "colorbar": {
             "outlinewidth": 0,
             "ticks": ""
            },
            "colorscale": [
             [
              0,
              "#0d0887"
             ],
             [
              0.1111111111111111,
              "#46039f"
             ],
             [
              0.2222222222222222,
              "#7201a8"
             ],
             [
              0.3333333333333333,
              "#9c179e"
             ],
             [
              0.4444444444444444,
              "#bd3786"
             ],
             [
              0.5555555555555556,
              "#d8576b"
             ],
             [
              0.6666666666666666,
              "#ed7953"
             ],
             [
              0.7777777777777778,
              "#fb9f3a"
             ],
             [
              0.8888888888888888,
              "#fdca26"
             ],
             [
              1,
              "#f0f921"
             ]
            ],
            "type": "histogram2d"
           }
          ],
          "histogram2dcontour": [
           {
            "colorbar": {
             "outlinewidth": 0,
             "ticks": ""
            },
            "colorscale": [
             [
              0,
              "#0d0887"
             ],
             [
              0.1111111111111111,
              "#46039f"
             ],
             [
              0.2222222222222222,
              "#7201a8"
             ],
             [
              0.3333333333333333,
              "#9c179e"
             ],
             [
              0.4444444444444444,
              "#bd3786"
             ],
             [
              0.5555555555555556,
              "#d8576b"
             ],
             [
              0.6666666666666666,
              "#ed7953"
             ],
             [
              0.7777777777777778,
              "#fb9f3a"
             ],
             [
              0.8888888888888888,
              "#fdca26"
             ],
             [
              1,
              "#f0f921"
             ]
            ],
            "type": "histogram2dcontour"
           }
          ],
          "mesh3d": [
           {
            "colorbar": {
             "outlinewidth": 0,
             "ticks": ""
            },
            "type": "mesh3d"
           }
          ],
          "parcoords": [
           {
            "line": {
             "colorbar": {
              "outlinewidth": 0,
              "ticks": ""
             }
            },
            "type": "parcoords"
           }
          ],
          "pie": [
           {
            "automargin": true,
            "type": "pie"
           }
          ],
          "scatter": [
           {
            "fillpattern": {
             "fillmode": "overlay",
             "size": 10,
             "solidity": 0.2
            },
            "type": "scatter"
           }
          ],
          "scatter3d": [
           {
            "line": {
             "colorbar": {
              "outlinewidth": 0,
              "ticks": ""
             }
            },
            "marker": {
             "colorbar": {
              "outlinewidth": 0,
              "ticks": ""
             }
            },
            "type": "scatter3d"
           }
          ],
          "scattercarpet": [
           {
            "marker": {
             "colorbar": {
              "outlinewidth": 0,
              "ticks": ""
             }
            },
            "type": "scattercarpet"
           }
          ],
          "scattergeo": [
           {
            "marker": {
             "colorbar": {
              "outlinewidth": 0,
              "ticks": ""
             }
            },
            "type": "scattergeo"
           }
          ],
          "scattergl": [
           {
            "marker": {
             "colorbar": {
              "outlinewidth": 0,
              "ticks": ""
             }
            },
            "type": "scattergl"
           }
          ],
          "scattermapbox": [
           {
            "marker": {
             "colorbar": {
              "outlinewidth": 0,
              "ticks": ""
             }
            },
            "type": "scattermapbox"
           }
          ],
          "scatterpolar": [
           {
            "marker": {
             "colorbar": {
              "outlinewidth": 0,
              "ticks": ""
             }
            },
            "type": "scatterpolar"
           }
          ],
          "scatterpolargl": [
           {
            "marker": {
             "colorbar": {
              "outlinewidth": 0,
              "ticks": ""
             }
            },
            "type": "scatterpolargl"
           }
          ],
          "scatterternary": [
           {
            "marker": {
             "colorbar": {
              "outlinewidth": 0,
              "ticks": ""
             }
            },
            "type": "scatterternary"
           }
          ],
          "surface": [
           {
            "colorbar": {
             "outlinewidth": 0,
             "ticks": ""
            },
            "colorscale": [
             [
              0,
              "#0d0887"
             ],
             [
              0.1111111111111111,
              "#46039f"
             ],
             [
              0.2222222222222222,
              "#7201a8"
             ],
             [
              0.3333333333333333,
              "#9c179e"
             ],
             [
              0.4444444444444444,
              "#bd3786"
             ],
             [
              0.5555555555555556,
              "#d8576b"
             ],
             [
              0.6666666666666666,
              "#ed7953"
             ],
             [
              0.7777777777777778,
              "#fb9f3a"
             ],
             [
              0.8888888888888888,
              "#fdca26"
             ],
             [
              1,
              "#f0f921"
             ]
            ],
            "type": "surface"
           }
          ],
          "table": [
           {
            "cells": {
             "fill": {
              "color": "#EBF0F8"
             },
             "line": {
              "color": "white"
             }
            },
            "header": {
             "fill": {
              "color": "#C8D4E3"
             },
             "line": {
              "color": "white"
             }
            },
            "type": "table"
           }
          ]
         },
         "layout": {
          "annotationdefaults": {
           "arrowcolor": "#2a3f5f",
           "arrowhead": 0,
           "arrowwidth": 1
          },
          "autotypenumbers": "strict",
          "coloraxis": {
           "colorbar": {
            "outlinewidth": 0,
            "ticks": ""
           }
          },
          "colorscale": {
           "diverging": [
            [
             0,
             "#8e0152"
            ],
            [
             0.1,
             "#c51b7d"
            ],
            [
             0.2,
             "#de77ae"
            ],
            [
             0.3,
             "#f1b6da"
            ],
            [
             0.4,
             "#fde0ef"
            ],
            [
             0.5,
             "#f7f7f7"
            ],
            [
             0.6,
             "#e6f5d0"
            ],
            [
             0.7,
             "#b8e186"
            ],
            [
             0.8,
             "#7fbc41"
            ],
            [
             0.9,
             "#4d9221"
            ],
            [
             1,
             "#276419"
            ]
           ],
           "sequential": [
            [
             0,
             "#0d0887"
            ],
            [
             0.1111111111111111,
             "#46039f"
            ],
            [
             0.2222222222222222,
             "#7201a8"
            ],
            [
             0.3333333333333333,
             "#9c179e"
            ],
            [
             0.4444444444444444,
             "#bd3786"
            ],
            [
             0.5555555555555556,
             "#d8576b"
            ],
            [
             0.6666666666666666,
             "#ed7953"
            ],
            [
             0.7777777777777778,
             "#fb9f3a"
            ],
            [
             0.8888888888888888,
             "#fdca26"
            ],
            [
             1,
             "#f0f921"
            ]
           ],
           "sequentialminus": [
            [
             0,
             "#0d0887"
            ],
            [
             0.1111111111111111,
             "#46039f"
            ],
            [
             0.2222222222222222,
             "#7201a8"
            ],
            [
             0.3333333333333333,
             "#9c179e"
            ],
            [
             0.4444444444444444,
             "#bd3786"
            ],
            [
             0.5555555555555556,
             "#d8576b"
            ],
            [
             0.6666666666666666,
             "#ed7953"
            ],
            [
             0.7777777777777778,
             "#fb9f3a"
            ],
            [
             0.8888888888888888,
             "#fdca26"
            ],
            [
             1,
             "#f0f921"
            ]
           ]
          },
          "colorway": [
           "#636efa",
           "#EF553B",
           "#00cc96",
           "#ab63fa",
           "#FFA15A",
           "#19d3f3",
           "#FF6692",
           "#B6E880",
           "#FF97FF",
           "#FECB52"
          ],
          "font": {
           "color": "#2a3f5f"
          },
          "geo": {
           "bgcolor": "white",
           "lakecolor": "white",
           "landcolor": "#E5ECF6",
           "showlakes": true,
           "showland": true,
           "subunitcolor": "white"
          },
          "hoverlabel": {
           "align": "left"
          },
          "hovermode": "closest",
          "mapbox": {
           "style": "light"
          },
          "paper_bgcolor": "white",
          "plot_bgcolor": "#E5ECF6",
          "polar": {
           "angularaxis": {
            "gridcolor": "white",
            "linecolor": "white",
            "ticks": ""
           },
           "bgcolor": "#E5ECF6",
           "radialaxis": {
            "gridcolor": "white",
            "linecolor": "white",
            "ticks": ""
           }
          },
          "scene": {
           "xaxis": {
            "backgroundcolor": "#E5ECF6",
            "gridcolor": "white",
            "gridwidth": 2,
            "linecolor": "white",
            "showbackground": true,
            "ticks": "",
            "zerolinecolor": "white"
           },
           "yaxis": {
            "backgroundcolor": "#E5ECF6",
            "gridcolor": "white",
            "gridwidth": 2,
            "linecolor": "white",
            "showbackground": true,
            "ticks": "",
            "zerolinecolor": "white"
           },
           "zaxis": {
            "backgroundcolor": "#E5ECF6",
            "gridcolor": "white",
            "gridwidth": 2,
            "linecolor": "white",
            "showbackground": true,
            "ticks": "",
            "zerolinecolor": "white"
           }
          },
          "shapedefaults": {
           "line": {
            "color": "#2a3f5f"
           }
          },
          "ternary": {
           "aaxis": {
            "gridcolor": "white",
            "linecolor": "white",
            "ticks": ""
           },
           "baxis": {
            "gridcolor": "white",
            "linecolor": "white",
            "ticks": ""
           },
           "bgcolor": "#E5ECF6",
           "caxis": {
            "gridcolor": "white",
            "linecolor": "white",
            "ticks": ""
           }
          },
          "title": {
           "x": 0.05
          },
          "xaxis": {
           "automargin": true,
           "gridcolor": "white",
           "linecolor": "white",
           "ticks": "",
           "title": {
            "standoff": 15
           },
           "zerolinecolor": "white",
           "zerolinewidth": 2
          },
          "yaxis": {
           "automargin": true,
           "gridcolor": "white",
           "linecolor": "white",
           "ticks": "",
           "title": {
            "standoff": 15
           },
           "zerolinecolor": "white",
           "zerolinewidth": 2
          }
         }
        },
        "title": {
         "text": "Impact of standardization process on UMAP"
        },
        "width": 1200,
        "xaxis": {
         "tickangle": 90,
         "title": {
          "text": "Dataset view"
         }
        },
        "yaxis": {
         "title": {
          "text": "Accuracy of best UMAP and best classifier"
         }
        }
       }
      }
     },
     "metadata": {},
     "output_type": "display_data"
    }
   ],
   "source": [
    "experiment_uniq = [c for c in unique_exp_columns if c not in [\"train_datasets\", \"view\"]]\n",
    "\n",
    "df = results.copy()\n",
    "df = filter_domain_fft_only(df)\n",
    "df = filter_features_all(df)\n",
    "df = filter_reducer_over_all(df)\n",
    "df = filter_scaler_none(df)\n",
    "df = filter_only_reducer_dataset_equals_train_dataset_or_no_reducer(df)\n",
    "\n",
    "fig = go.Figure()\n",
    "\n",
    "\n",
    "for i, (dset_name, train_df) in enumerate(df.groupby([\"train_datasets\"])):\n",
    "    xs, ys = [], []\n",
    "    for j, (view_name, subdf) in enumerate(train_df.groupby(\"view\")):\n",
    "        umap_0_max = subdf[subdf[\"umap components\"] == 0][\"accuracy (mean)\"].max()\n",
    "        xs.append(f\"{dset_name} {view_name.split('_')[0]} (no umap)\")\n",
    "        ys.append(umap_0_max)\n",
    "    \n",
    "    fig.add_trace(\n",
    "        go.Bar(\n",
    "            x=xs,\n",
    "            y=ys,\n",
    "            name=f\"{dset_name} no umap\",\n",
    "            marker=dict(color=colors[0]),\n",
    "            legendgroup=\"no umap\",\n",
    "        )\n",
    "    )\n",
    "    xs, ys = [], []\n",
    "    for j, (view_name, subdf) in enumerate(train_df.groupby(\"view\")):\n",
    "        umap_best_max = subdf[subdf[\"umap components\"] > 0][\"accuracy (mean)\"].max()\n",
    "        xs.append(f\"{dset_name} {view_name.split('_')[0]} (best umap)\")\n",
    "        ys.append(umap_best_max)\n",
    "    \n",
    "    fig.add_trace(\n",
    "        go.Bar(\n",
    "            x=xs,\n",
    "            y=ys,\n",
    "            name=f\"{dset_name} best umap\",\n",
    "            marker=dict(color=colors[1]),\n",
    "            legendgroup=\"best umap\",\n",
    "        )\n",
    "    )\n",
    "\n",
    "fig.update_layout(\n",
    "    title=\"Impact of standardization process on UMAP\",\n",
    "    xaxis_title=\"Dataset view\",\n",
    "    yaxis_title=\"Accuracy of best UMAP and best classifier\",\n",
    "    legend_title=\"Estimator\",\n",
    "    width=1200,\n",
    "    height=800,\n",
    "    xaxis=dict(tickangle=90)\n",
    ")\n",
    "\n",
    "# fig.update_xaxes(tickangle=75)\n",
    "fig.show()"
   ]
  },
  {
   "attachments": {},
   "cell_type": "markdown",
   "metadata": {},
   "source": [
    "## Pergunta 2"
   ]
  },
  {
   "cell_type": "code",
   "execution_count": null,
   "metadata": {},
   "outputs": [],
   "source": []
  },
  {
   "attachments": {},
   "cell_type": "markdown",
   "metadata": {},
   "source": [
    "## Pergunta 3"
   ]
  },
  {
   "cell_type": "code",
   "execution_count": null,
   "metadata": {},
   "outputs": [],
   "source": []
  },
  {
   "attachments": {},
   "cell_type": "markdown",
   "metadata": {},
   "source": [
    "## Pergunta 4"
   ]
  },
  {
   "cell_type": "code",
   "execution_count": null,
   "metadata": {},
   "outputs": [],
   "source": []
  },
  {
   "attachments": {},
   "cell_type": "markdown",
   "metadata": {},
   "source": [
    "## Pergunta 5"
   ]
  },
  {
   "cell_type": "code",
   "execution_count": null,
   "metadata": {},
   "outputs": [],
   "source": [
    "# Miss data\n",
    "\n",
    "def get_reduce_on_improvement(df):\n",
    "    experiment_uniq = [c for c in unique_exp_columns if c not in [\"reduce_on\", \"reducer\", \"umap components\"]]\n",
    "    df = df[df[\"umap components\"] > 0]\n",
    "\n",
    "    all_values = {}\n",
    "    for _, subdf in df[df[\"reduce_on\"] == \"all\"].iterrows():\n",
    "        all_values[tuple(subdf[experiment_uniq].values.tolist())] = subdf[\"accuracy (mean)\"]\n",
    "\n",
    "    df[\"umap improvement\"] = df.apply(lambda x: x[\"accuracy (mean)\"] / all_values.get(tuple(x[experiment_uniq].values.tolist()), np.nan), axis=1)\n",
    "    df = df.dropna(subset=[\"umap improvement\"], inplace=False)\n",
    "    df = df[df[\"reduce_on\"] != \"all\"]\n",
    "    lines = [subdf[subdf[\"umap improvement\"] == subdf[\"umap improvement\"].max()].iloc[0] for _, subdf in df.groupby(experiment_uniq)]\n",
    "    df = pd.DataFrame(lines)\n",
    "    return df\n",
    "\n",
    "# results = add_umap_improvement(results)\n",
    "#df = only_standardized_view(no_scaler(using_all_features(only_fft(only_reduce_on_all(only_reducer_equals_train(df))))))"
   ]
  },
  {
   "cell_type": "code",
   "execution_count": 86,
   "metadata": {},
   "outputs": [
    {
     "ename": "NameError",
     "evalue": "name 'get_reduce_on_improvement' is not defined",
     "output_type": "error",
     "traceback": [
      "\u001b[0;31m---------------------------------------------------------------------------\u001b[0m",
      "\u001b[0;31mNameError\u001b[0m                                 Traceback (most recent call last)",
      "Cell \u001b[0;32mIn[86], line 2\u001b[0m\n\u001b[1;32m      1\u001b[0m df \u001b[39m=\u001b[39m filter_view_standardized_intra(filter_scaler_none(filter_features_all(filter_domain_fft_only(results))))\n\u001b[0;32m----> 2\u001b[0m df \u001b[39m=\u001b[39m get_reduce_on_improvement(df)\n\u001b[1;32m      3\u001b[0m df \n\u001b[1;32m      5\u001b[0m \u001b[39m# fig = bar_improvement_1(df, improvement_col=\"umap improvement\", groupby=[\"train_datasets\", \"reduce_on\"])\u001b[39;00m\n\u001b[1;32m      6\u001b[0m \u001b[39m# fig.update_layout(\u001b[39;00m\n\u001b[1;32m      7\u001b[0m \u001b[39m#     title=\"UMAP Improvement\",\u001b[39;00m\n\u001b[0;32m   (...)\u001b[0m\n\u001b[1;32m     13\u001b[0m \u001b[39m# )\u001b[39;00m\n\u001b[1;32m     14\u001b[0m \u001b[39m# fig.show()\u001b[39;00m\n",
      "\u001b[0;31mNameError\u001b[0m: name 'get_reduce_on_improvement' is not defined"
     ]
    }
   ],
   "source": [
    "df = filter_view_standardized_intra(filter_scaler_none(filter_features_all(filter_domain_fft_only(results))))\n",
    "df = get_reduce_on_improvement(df)\n",
    "df \n",
    "\n",
    "# fig = bar_improvement_1(df, improvement_col=\"umap improvement\", groupby=[\"train_datasets\", \"reduce_on\"])\n",
    "# fig.update_layout(\n",
    "#     title=\"UMAP Improvement\",\n",
    "#     xaxis_title=\"Dataset\",\n",
    "#     yaxis_title=\"UMAP Improvement\",\n",
    "#     legend_title=\"UMAP Components\",\n",
    "#     width=800,\n",
    "#     height=600\n",
    "# )\n",
    "# fig.show()\n",
    "\n",
    "\n",
    "fig = chart_bar_with_side_by_side(df, improvement_col=\"umap improvement\", groupby=\"estimator\", inner_group=[\"train_datasets\", \"reduce_on\"])\n",
    "fig.update_layout(\n",
    "    title=\"Improvement using multiple UMAPs to train per sensor and per axis over using all features\",\n",
    "    xaxis_title=\"reduce_on / dataset\",\n",
    "    yaxis_title=\"Improvement over using all features\",\n",
    "    legend_title=\"Estimator\",\n",
    "    width=1200,\n",
    "    height=600\n",
    ")\n",
    "fig.show()\n"
   ]
  },
  {
   "attachments": {},
   "cell_type": "markdown",
   "metadata": {},
   "source": [
    "## Pergunta 6"
   ]
  },
  {
   "cell_type": "code",
   "execution_count": null,
   "metadata": {},
   "outputs": [],
   "source": [
    "# def get_estimator_improvement(df):\n",
    "#     experiment_uniq = [c for c in unique_exp_columns if c not in [\"estimator\"]]\n",
    "#     df = df[df[\"umap components\"] > 0]\n",
    "\n",
    "#     all_values = {}\n",
    "#     for _, subdf in df[df[\"reduce_on\"] == \"all\"].iterrows():\n",
    "#         all_values[tuple(subdf[experiment_uniq].values.tolist())] = subdf[\"accuracy (mean)\"]\n",
    "\n",
    "#     df[\"umap improvement\"] = df.apply(lambda x: x[\"accuracy (mean)\"] / all_values.get(tuple(x[experiment_uniq].values.tolist()), np.nan), axis=1)\n",
    "#     df = df.dropna(subset=[\"umap improvement\"], inplace=False)\n",
    "#     df = df[df[\"reduce_on\"] != \"all\"]\n",
    "#     lines = [subdf[subdf[\"umap improvement\"] == subdf[\"umap improvement\"].max()].iloc[0] for _, subdf in df.groupby(experiment_uniq)]\n",
    "#     df = pd.DataFrame(lines)\n",
    "#     return df\n",
    "\n",
    "# # results = add_umap_improvement(results)\n",
    "# #df = only_standardized_view(no_scaler(using_all_features(only_fft(only_reduce_on_all(only_reducer_equals_train(df))))))"
   ]
  },
  {
   "attachments": {},
   "cell_type": "markdown",
   "metadata": {},
   "source": [
    "## Pergunta 7"
   ]
  },
  {
   "cell_type": "code",
   "execution_count": null,
   "metadata": {},
   "outputs": [],
   "source": [
    "def get_transform_improvement_umap_0(df):\n",
    "    experiment_uniq = [c for c in unique_exp_columns if c not in [\"transforms\", \"umap components\"]]\n",
    "\n",
    "    df = df[df[\"umap components\"] == 0]\n",
    "    lines = [subdf[subdf[\"accuracy (mean)\"] == subdf[\"accuracy (mean)\"].max()].iloc[0] for _, subdf in df.groupby(experiment_uniq)]\n",
    "    df = pd.DataFrame(lines)\n",
    "    \n",
    "\n",
    "    # df = df[df[\"umap components\"] > 0]\n",
    "\n",
    "    # all_values = {}\n",
    "    # for _, subdf in df[df[\"reduce_on\"] == \"all\"].iterrows():\n",
    "    #     all_values[tuple(subdf[experiment_uniq].values.tolist())] = subdf[\"accuracy (mean)\"]\n",
    "\n",
    "    # df[\"umap improvement\"] = df.apply(lambda x: x[\"accuracy (mean)\"] / all_values.get(tuple(x[experiment_uniq].values.tolist()), np.nan), axis=1)\n",
    "    # df = df.dropna(subset=[\"umap improvement\"], inplace=False)\n",
    "    # df = df[df[\"reduce_on\"] != \"all\"]\n",
    "    # lines = [subdf[subdf[\"umap improvement\"] == subdf[\"umap improvement\"].max()].iloc[0] for _, subdf in df.groupby(experiment_uniq)]\n",
    "    # df = pd.DataFrame(lines)\n",
    "    return df\n",
    "\n",
    "\n",
    "# results = add_umap_improvement(results)\n",
    "#df = only_standardized_view(no_scaler(using_all_features(only_fft(only_reduce_on_all(only_reducer_equals_train(df))))))"
   ]
  },
  {
   "cell_type": "code",
   "execution_count": null,
   "metadata": {},
   "outputs": [],
   "source": [
    "df[\"transforms\"].value_counts()"
   ]
  },
  {
   "cell_type": "code",
   "execution_count": null,
   "metadata": {},
   "outputs": [],
   "source": [
    "df = filter_only_reducer_dataset_equals_train_dataset_or_no_reducer(filter_scaler_none(filter_reducer_over_all(filter_features_all(filter_view_standardized_intra(results)))))\n",
    "df = get_transform_improvement_umap_0(df)\n",
    "# print(df)\n",
    "df \n",
    "\n",
    "fig = chart_bar_with_side_by_side(df, improvement_col=\"accuracy (mean)\", groupby=\"estimator\", inner_group=[\"transforms\", \"train_datasets\"])\n",
    "fig.update_layout(\n",
    "    title=\"Impact of domain (FFT, time)\",\n",
    "    xaxis_title=\"transform / dataset\",\n",
    "    yaxis_title=\"Accuracy (mean)\",\n",
    "    legend_title=\"Estimator\",\n",
    "    width=1200,\n",
    "    height=600\n",
    ")\n",
    "fig.show()\n"
   ]
  },
  {
   "attachments": {},
   "cell_type": "markdown",
   "metadata": {},
   "source": [
    "## Pergunta 8"
   ]
  },
  {
   "cell_type": "code",
   "execution_count": null,
   "metadata": {},
   "outputs": [],
   "source": []
  },
  {
   "attachments": {},
   "cell_type": "markdown",
   "metadata": {},
   "source": [
    "## Pergunta 9"
   ]
  },
  {
   "cell_type": "code",
   "execution_count": 87,
   "metadata": {},
   "outputs": [],
   "source": [
    "def get_scaler_improvement(df):\n",
    "    experiment_uniq = [c for c in unique_exp_columns if c not in [\"scaler\", \"scale_on\", \"umap components\"]]\n",
    "    df = df[df[\"umap components\"] > 0]\n",
    "\n",
    "    all_values = {}\n",
    "    for _, subdf in df[df[\"scaler\"] == \"\"].iterrows():\n",
    "        all_values[tuple(subdf[experiment_uniq].values.tolist())] = subdf[\"accuracy (mean)\"]\n",
    "\n",
    "    df[\"umap improvement\"] = df.apply(lambda x: x[\"accuracy (mean)\"] / all_values.get(tuple(x[experiment_uniq].values.tolist()), np.nan), axis=1)\n",
    "    df = df.dropna(subset=[\"umap improvement\"], inplace=False)\n",
    "    df = df[df[\"scaler\"] != \"\"]\n",
    "    lines = [subdf[subdf[\"umap improvement\"] == subdf[\"umap improvement\"].max()].iloc[0] for _, subdf in df.groupby(experiment_uniq)]\n",
    "    df = pd.DataFrame(lines)\n",
    "    return df"
   ]
  },
  {
   "cell_type": "code",
   "execution_count": 88,
   "metadata": {},
   "outputs": [
    {
     "name": "stderr",
     "output_type": "stream",
     "text": [
      "/tmp/ipykernel_602429/1021487938.py:9: SettingWithCopyWarning:\n",
      "\n",
      "\n",
      "A value is trying to be set on a copy of a slice from a DataFrame.\n",
      "Try using .loc[row_indexer,col_indexer] = value instead\n",
      "\n",
      "See the caveats in the documentation: https://pandas.pydata.org/pandas-docs/stable/user_guide/indexing.html#returning-a-view-versus-a-copy\n",
      "\n"
     ]
    },
    {
     "ename": "KeyError",
     "evalue": "'estimator'",
     "output_type": "error",
     "traceback": [
      "\u001b[0;31m---------------------------------------------------------------------------\u001b[0m",
      "\u001b[0;31mKeyError\u001b[0m                                  Traceback (most recent call last)",
      "Cell \u001b[0;32mIn[88], line 4\u001b[0m\n\u001b[1;32m      1\u001b[0m df \u001b[39m=\u001b[39m filter_only_reducer_dataset_equals_train_dataset_or_no_reducer(filter_reducer_over_all(filter_features_all(filter_view_standardized_intra(filter_domain_fft_only(results)))))\n\u001b[1;32m      2\u001b[0m df \u001b[39m=\u001b[39m get_scaler_improvement(df)\n\u001b[0;32m----> 4\u001b[0m fig \u001b[39m=\u001b[39m chart_bar_with_side_by_side(df, improvement_col\u001b[39m=\u001b[39;49m\u001b[39m\"\u001b[39;49m\u001b[39maccuracy (mean)\u001b[39;49m\u001b[39m\"\u001b[39;49m, groupby\u001b[39m=\u001b[39;49m\u001b[39m\"\u001b[39;49m\u001b[39mestimator\u001b[39;49m\u001b[39m\"\u001b[39;49m, inner_group\u001b[39m=\u001b[39;49m[\u001b[39m\"\u001b[39;49m\u001b[39mtrain_datasets\u001b[39;49m\u001b[39m\"\u001b[39;49m, \u001b[39m\"\u001b[39;49m\u001b[39mscaler\u001b[39;49m\u001b[39m\"\u001b[39;49m])\n\u001b[1;32m      5\u001b[0m fig\u001b[39m.\u001b[39mupdate_layout(\n\u001b[1;32m      6\u001b[0m     title\u001b[39m=\u001b[39m\u001b[39m\"\u001b[39m\u001b[39mImprovement using different scalers (MinMax, StandardScaler), in relation of using no scaler\u001b[39m\u001b[39m\"\u001b[39m,\n\u001b[1;32m      7\u001b[0m     xaxis_title\u001b[39m=\u001b[39m\u001b[39m\"\u001b[39m\u001b[39mscaler / dataset\u001b[39m\u001b[39m\"\u001b[39m,\n\u001b[0;32m   (...)\u001b[0m\n\u001b[1;32m     11\u001b[0m     height\u001b[39m=\u001b[39m\u001b[39m600\u001b[39m\n\u001b[1;32m     12\u001b[0m )\n\u001b[1;32m     13\u001b[0m fig\u001b[39m.\u001b[39mshow()\n",
      "Cell \u001b[0;32mIn[15], line 29\u001b[0m, in \u001b[0;36mchart_bar_with_side_by_side\u001b[0;34m(df, improvement_col, groupby, inner_group)\u001b[0m\n\u001b[1;32m     26\u001b[0m \u001b[39mdef\u001b[39;00m \u001b[39mchart_bar_with_side_by_side\u001b[39m(df, improvement_col: \u001b[39mstr\u001b[39m, groupby: \u001b[39mstr\u001b[39m \u001b[39m=\u001b[39m \u001b[39m\"\u001b[39m\u001b[39mtrain_datasets\u001b[39m\u001b[39m\"\u001b[39m, inner_group: \u001b[39mstr\u001b[39m \u001b[39m=\u001b[39m \u001b[39m\"\u001b[39m\u001b[39mestimator\u001b[39m\u001b[39m\"\u001b[39m):\n\u001b[1;32m     27\u001b[0m     fig \u001b[39m=\u001b[39m go\u001b[39m.\u001b[39mFigure()\n\u001b[0;32m---> 29\u001b[0m     \u001b[39mfor\u001b[39;00m key, subdf \u001b[39min\u001b[39;00m df\u001b[39m.\u001b[39;49mgroupby(groupby):\n\u001b[1;32m     30\u001b[0m         xs, ys \u001b[39m=\u001b[39m [], []\n\u001b[1;32m     31\u001b[0m         \u001b[39mfor\u001b[39;00m i, (inner_key, inner_subdf) \u001b[39min\u001b[39;00m \u001b[39menumerate\u001b[39m(subdf\u001b[39m.\u001b[39mgroupby(inner_group)):\n",
      "File \u001b[0;32m~/Documents/Doutorado/UNICAMP/H.IAAC-Meta4/hiaac-librep/.librep-venv/lib/python3.10/site-packages/pandas/core/frame.py:8399\u001b[0m, in \u001b[0;36mDataFrame.groupby\u001b[0;34m(self, by, axis, level, as_index, sort, group_keys, squeeze, observed, dropna)\u001b[0m\n\u001b[1;32m   8396\u001b[0m     \u001b[39mraise\u001b[39;00m \u001b[39mTypeError\u001b[39;00m(\u001b[39m\"\u001b[39m\u001b[39mYou have to supply one of \u001b[39m\u001b[39m'\u001b[39m\u001b[39mby\u001b[39m\u001b[39m'\u001b[39m\u001b[39m and \u001b[39m\u001b[39m'\u001b[39m\u001b[39mlevel\u001b[39m\u001b[39m'\u001b[39m\u001b[39m\"\u001b[39m)\n\u001b[1;32m   8397\u001b[0m axis \u001b[39m=\u001b[39m \u001b[39mself\u001b[39m\u001b[39m.\u001b[39m_get_axis_number(axis)\n\u001b[0;32m-> 8399\u001b[0m \u001b[39mreturn\u001b[39;00m DataFrameGroupBy(\n\u001b[1;32m   8400\u001b[0m     obj\u001b[39m=\u001b[39;49m\u001b[39mself\u001b[39;49m,\n\u001b[1;32m   8401\u001b[0m     keys\u001b[39m=\u001b[39;49mby,\n\u001b[1;32m   8402\u001b[0m     axis\u001b[39m=\u001b[39;49maxis,\n\u001b[1;32m   8403\u001b[0m     level\u001b[39m=\u001b[39;49mlevel,\n\u001b[1;32m   8404\u001b[0m     as_index\u001b[39m=\u001b[39;49mas_index,\n\u001b[1;32m   8405\u001b[0m     sort\u001b[39m=\u001b[39;49msort,\n\u001b[1;32m   8406\u001b[0m     group_keys\u001b[39m=\u001b[39;49mgroup_keys,\n\u001b[1;32m   8407\u001b[0m     squeeze\u001b[39m=\u001b[39;49msqueeze,\n\u001b[1;32m   8408\u001b[0m     observed\u001b[39m=\u001b[39;49mobserved,\n\u001b[1;32m   8409\u001b[0m     dropna\u001b[39m=\u001b[39;49mdropna,\n\u001b[1;32m   8410\u001b[0m )\n",
      "File \u001b[0;32m~/Documents/Doutorado/UNICAMP/H.IAAC-Meta4/hiaac-librep/.librep-venv/lib/python3.10/site-packages/pandas/core/groupby/groupby.py:959\u001b[0m, in \u001b[0;36mGroupBy.__init__\u001b[0;34m(self, obj, keys, axis, level, grouper, exclusions, selection, as_index, sort, group_keys, squeeze, observed, mutated, dropna)\u001b[0m\n\u001b[1;32m    956\u001b[0m \u001b[39mif\u001b[39;00m grouper \u001b[39mis\u001b[39;00m \u001b[39mNone\u001b[39;00m:\n\u001b[1;32m    957\u001b[0m     \u001b[39mfrom\u001b[39;00m \u001b[39mpandas\u001b[39;00m\u001b[39m.\u001b[39;00m\u001b[39mcore\u001b[39;00m\u001b[39m.\u001b[39;00m\u001b[39mgroupby\u001b[39;00m\u001b[39m.\u001b[39;00m\u001b[39mgrouper\u001b[39;00m \u001b[39mimport\u001b[39;00m get_grouper\n\u001b[0;32m--> 959\u001b[0m     grouper, exclusions, obj \u001b[39m=\u001b[39m get_grouper(\n\u001b[1;32m    960\u001b[0m         obj,\n\u001b[1;32m    961\u001b[0m         keys,\n\u001b[1;32m    962\u001b[0m         axis\u001b[39m=\u001b[39;49maxis,\n\u001b[1;32m    963\u001b[0m         level\u001b[39m=\u001b[39;49mlevel,\n\u001b[1;32m    964\u001b[0m         sort\u001b[39m=\u001b[39;49msort,\n\u001b[1;32m    965\u001b[0m         observed\u001b[39m=\u001b[39;49mobserved,\n\u001b[1;32m    966\u001b[0m         mutated\u001b[39m=\u001b[39;49m\u001b[39mself\u001b[39;49m\u001b[39m.\u001b[39;49mmutated,\n\u001b[1;32m    967\u001b[0m         dropna\u001b[39m=\u001b[39;49m\u001b[39mself\u001b[39;49m\u001b[39m.\u001b[39;49mdropna,\n\u001b[1;32m    968\u001b[0m     )\n\u001b[1;32m    970\u001b[0m \u001b[39mself\u001b[39m\u001b[39m.\u001b[39mobj \u001b[39m=\u001b[39m obj\n\u001b[1;32m    971\u001b[0m \u001b[39mself\u001b[39m\u001b[39m.\u001b[39maxis \u001b[39m=\u001b[39m obj\u001b[39m.\u001b[39m_get_axis_number(axis)\n",
      "File \u001b[0;32m~/Documents/Doutorado/UNICAMP/H.IAAC-Meta4/hiaac-librep/.librep-venv/lib/python3.10/site-packages/pandas/core/groupby/grouper.py:888\u001b[0m, in \u001b[0;36mget_grouper\u001b[0;34m(obj, key, axis, level, sort, observed, mutated, validate, dropna)\u001b[0m\n\u001b[1;32m    886\u001b[0m         in_axis, level, gpr \u001b[39m=\u001b[39m \u001b[39mFalse\u001b[39;00m, gpr, \u001b[39mNone\u001b[39;00m\n\u001b[1;32m    887\u001b[0m     \u001b[39melse\u001b[39;00m:\n\u001b[0;32m--> 888\u001b[0m         \u001b[39mraise\u001b[39;00m \u001b[39mKeyError\u001b[39;00m(gpr)\n\u001b[1;32m    889\u001b[0m \u001b[39melif\u001b[39;00m \u001b[39misinstance\u001b[39m(gpr, Grouper) \u001b[39mand\u001b[39;00m gpr\u001b[39m.\u001b[39mkey \u001b[39mis\u001b[39;00m \u001b[39mnot\u001b[39;00m \u001b[39mNone\u001b[39;00m:\n\u001b[1;32m    890\u001b[0m     \u001b[39m# Add key to exclusions\u001b[39;00m\n\u001b[1;32m    891\u001b[0m     exclusions\u001b[39m.\u001b[39madd(gpr\u001b[39m.\u001b[39mkey)\n",
      "\u001b[0;31mKeyError\u001b[0m: 'estimator'"
     ]
    }
   ],
   "source": [
    "df = filter_only_reducer_dataset_equals_train_dataset_or_no_reducer(filter_reducer_over_all(filter_features_all(filter_view_standardized_intra(filter_domain_fft_only(results)))))\n",
    "df = get_scaler_improvement(df)\n",
    "\n",
    "fig = chart_bar_with_side_by_side(df, improvement_col=\"accuracy (mean)\", groupby=\"estimator\", inner_group=[\"train_datasets\", \"scaler\"])\n",
    "fig.update_layout(\n",
    "    title=\"Improvement using different scalers (MinMax, StandardScaler), in relation of using no scaler\",\n",
    "    xaxis_title=\"scaler / dataset\",\n",
    "    yaxis_title=\"Improvement over using no scaler\",\n",
    "    legend_title=\"Estimator\",\n",
    "    width=1200,\n",
    "    height=600\n",
    ")\n",
    "fig.show()\n"
   ]
  },
  {
   "attachments": {},
   "cell_type": "markdown",
   "metadata": {},
   "source": [
    "## Pergunta 10"
   ]
  },
  {
   "cell_type": "code",
   "execution_count": null,
   "metadata": {},
   "outputs": [],
   "source": [
    "def get_in_use_features_improvement(df):\n",
    "    experiment_uniq = [c for c in unique_exp_columns if c not in [\"in_use_features\", \"umap components\"]]\n",
    "    df = df[df[\"umap components\"] > 0]\n",
    "\n",
    "    all_values = {}\n",
    "    for _, subdf in filter_features_all(df).iterrows():\n",
    "        all_values[tuple(subdf[experiment_uniq].values.tolist())] = subdf[\"accuracy (mean)\"]\n",
    "\n",
    "    df[\"umap improvement\"] = df.apply(lambda x: x[\"accuracy (mean)\"] / all_values.get(tuple(x[experiment_uniq].values.tolist()), np.nan), axis=1)\n",
    "    df = df.dropna(subset=[\"umap improvement\"], inplace=False)\n",
    "    df = df.loc[\n",
    "        ~(df[\"in_use_features\"].str.contains(\"accel-y\")\n",
    "        & df[\"in_use_features\"].str.contains(\"accel-z\")\n",
    "        & df[\"in_use_features\"].str.contains(\"gyro-x\")\n",
    "        & df[\"in_use_features\"].str.contains(\"gyro-y\")\n",
    "        & df[\"in_use_features\"].str.contains(\"gyro-z\"))\n",
    "    ]\n",
    "    # df = df[df[\"scaler\"] != \"\"]\n",
    "    lines = [subdf[subdf[\"umap improvement\"] == subdf[\"umap improvement\"].max()].iloc[0] for _, subdf in df.groupby(experiment_uniq)]\n",
    "    df = pd.DataFrame(lines)\n",
    "    return df"
   ]
  },
  {
   "cell_type": "code",
   "execution_count": null,
   "metadata": {},
   "outputs": [],
   "source": [
    "df = filter_only_reducer_dataset_equals_train_dataset_or_no_reducer(filter_reducer_over_all(filter_scaler_none(filter_view_standardized_intra(filter_domain_fft_only(results)))))\n",
    "df = get_in_use_features_improvement(df)\n",
    "\n",
    "fig = chart_bar_with_side_by_side(df, improvement_col=\"accuracy (mean)\", groupby=\"estimator\", inner_group=[\"train_datasets\", \"in_use_features\"])\n",
    "fig.update_layout(\n",
    "    title=\"Improvement of using only accelerometer or using only gyro, in relation to using all features\",\n",
    "    xaxis_title=\"in_use_features / dataset\",\n",
    "    yaxis_title=\"Improvement over using all features\",\n",
    "    legend_title=\"Estimator\",\n",
    "    width=1200,\n",
    "    height=600\n",
    ")\n",
    "fig.show()\n"
   ]
  },
  {
   "cell_type": "code",
   "execution_count": null,
   "metadata": {},
   "outputs": [],
   "source": []
  },
  {
   "cell_type": "code",
   "execution_count": null,
   "metadata": {},
   "outputs": [],
   "source": []
  },
  {
   "cell_type": "code",
   "execution_count": null,
   "metadata": {},
   "outputs": [],
   "source": []
  },
  {
   "cell_type": "code",
   "execution_count": null,
   "metadata": {},
   "outputs": [],
   "source": []
  },
  {
   "cell_type": "code",
   "execution_count": null,
   "metadata": {},
   "outputs": [],
   "source": []
  },
  {
   "cell_type": "code",
   "execution_count": null,
   "metadata": {},
   "outputs": [],
   "source": []
  },
  {
   "attachments": {},
   "cell_type": "markdown",
   "metadata": {},
   "source": [
    "## Pergunta 1: Qual é o impacto do UMAP na capacidade de discriminação dos modelos de ML na tarefa de HAR?\n",
    "\n",
    "1. O desempenho dos 3 modelos de ML com o experimento realizado com e sem o UMAP\n",
    "2. (11) O impacto da normatização no resultado\n",
    "\n",
    "**OBS**: \n",
    "- Adicionar dimensões alvo (n/2) e n\n",
    "- Colocar o resultado do 0 para o final\n",
    "- Grafico com a média de todos os graficos (juntar diferentes datasets)\n",
    "- Adicionar resultado sem UMAP para gráfico de comparação\n",
    "- Adicionar grafos com o best UMAP\n"
   ]
  },
  {
   "cell_type": "code",
   "execution_count": null,
   "metadata": {},
   "outputs": [],
   "source": [
    "experiment_uniq = [c for c in unique_exp_columns if c not in [\"umap components\", \"reducer\"]]\n",
    "results.groupby(experiment_uniq).apply(lambda x: len(x)).value_counts()"
   ]
  },
  {
   "cell_type": "code",
   "execution_count": null,
   "metadata": {},
   "outputs": [],
   "source": [
    "from typing import Tuple\n",
    "\n",
    "\n",
    "def best_umap_improvement(df, group_by: str | Tuple[str] = ()):\n",
    "    best = df[df[\"umap components\"] == 0].iloc[0]\n",
    "    best_umap = df[df[\"umap components\"] != 0].iloc[0]\n",
    "    return best_umap[\"accuracy\"] - best[\"accuracy\"]"
   ]
  },
  {
   "cell_type": "code",
   "execution_count": null,
   "metadata": {},
   "outputs": [],
   "source": [
    "def only_standardized_view(df):\n",
    "    return df[df[\"view\"] == \"standartized_intra_balanced\"]\n",
    "\n",
    "\n",
    "def only_raw_view(df):\n",
    "    return df[df[\"view\"] == \"raw_balanced\"]\n",
    "\n",
    "\n",
    "def improvement_over_baseline(df):\n",
    "    df = filter_reducer_over_all(df)\n",
    "    df = filter_features_all(df)\n",
    "    df = filter_scaler_none(df)\n",
    "    df = filter_only_reducer_dataset_equals_train_dataset_or_no_reducer(df)\n",
    "    df = only_standardized_view(df)\n",
    "\n",
    "    for (train, test), subdf in df.groupby(\n",
    "        [\n",
    "            \"train_datasets\",\n",
    "            \"test_datasets\",\n",
    "        ]\n",
    "    ):\n",
    "        fig = go.Figure()\n",
    "        for (estimator, transform), subsubdf in subdf.groupby(\n",
    "            [\"estimator\", \"transforms\"]\n",
    "        ):\n",
    "            # subsubdf = pd.concat([subsubdf.sort_values(\"umap components\").iloc[1:], subsubdf.sort_values(\"umap components\").iloc[0]])\n",
    "            subsubdf = subsubdf.sort_values(\"umap components\") \n",
    "\n",
    "            transform = transform if transform else 'no transform'\n",
    "            fig.add_trace(\n",
    "                go.Scatter(\n",
    "                    x=subsubdf[\"umap components\"],\n",
    "                    y=subsubdf[\"accuracy (mean)\"]*100,\n",
    "                    error_y=dict(array=subsubdf[\"accuracy (std)\"]*100),\n",
    "                    mode=\"lines+markers\",\n",
    "                    name=f\"{estimator} {transform if transform else 'no transform'}\",\n",
    "                    legendgroup=transform\n",
    "                )\n",
    "            )\n",
    "\n",
    "\n",
    "        fig.update_layout(\n",
    "            title=f\"{train}\",\n",
    "            xaxis_title=\"UMAP components\",\n",
    "            yaxis_title=\"Accuracy (mean 10 runs)\",\n",
    "            yaxis_range=[0, 100],\n",
    "            xaxis = dict(\n",
    "                tickmode = 'linear',\n",
    "            ),\n",
    "            autosize=True,\n",
    "            width=1200,\n",
    "            height=600\n",
    "        )\n",
    "        fig.show()\n",
    "        # break\n",
    "\n",
    "    return df\n",
    "\n",
    "\n",
    "_ = improvement_over_baseline(results.copy())\n",
    "\n",
    "\n",
    "# df = df.copy()\n",
    "# df[\"improvement\"] = df[\"accuracy\"] - df[\"baseline_accuracy\"]\n",
    "# return df\n"
   ]
  },
  {
   "cell_type": "code",
   "execution_count": null,
   "metadata": {},
   "outputs": [],
   "source": [
    "def only_standardized_view(df):\n",
    "    return df[df[\"view\"] == \"standartized_intra_balanced\"]\n",
    "\n",
    "\n",
    "def only_raw_view(df):\n",
    "    return df[df[\"view\"] == \"raw_balanced\"]\n",
    "\n",
    "\n",
    "def improvement_over_baseline(df):\n",
    "    df = filter_reducer_over_all(df)\n",
    "    df = filter_features_all(df)\n",
    "    df = filter_scaler_none(df)\n",
    "    df = filter_only_reducer_dataset_equals_train_dataset_or_no_reducer(df)\n",
    "    df = only_standardized_view(df)\n",
    "    df = df[df[\"umap components\"] > 1]\n",
    "\n",
    "    df[\"best umap accuracy\"] = df.groupby([\"train_datasets\", \"test_datasets\", \"estimator\", \"transforms\"])[\"accuracy (mean)\"].transform(max)\n",
    "    df[\"umap best improvement\"] = df[\"accuracy (mean)\"] / df[\"best umap accuracy\"]\n",
    "\n",
    "    # display(HTML(df.to_html()))\n",
    "\n",
    "    for (train, test), subdf in df.groupby(\n",
    "        [\n",
    "            \"train_datasets\",\n",
    "            \"test_datasets\",\n",
    "        ]\n",
    "    ):\n",
    "        fig = go.Figure()\n",
    "        for (estimator, transform), subsubdf in subdf.groupby(\n",
    "            [\"estimator\", \"transforms\"]\n",
    "        ):\n",
    "            # subsubdf = pd.concat([subsubdf.sort_values(\"umap components\").iloc[1:], subsubdf.sort_values(\"umap components\").iloc[0]])\n",
    "            subsubdf = subsubdf.sort_values(\"umap components\") \n",
    "\n",
    "            transform = transform if transform else 'no transform'\n",
    "            fig.add_trace(\n",
    "                go.Scatter(\n",
    "                    x=subsubdf[\"umap components\"],\n",
    "                    y=subsubdf[\"umap best improvement\"],\n",
    "                    # error_y=dict(array=subsubdf[\"accuracy (std)\"]*100),\n",
    "                    mode=\"lines+markers\",\n",
    "                    name=f\"{estimator} {transform if transform else 'no transform'}\",\n",
    "                    # legendgroup=transform\n",
    "                )\n",
    "            )\n",
    "\n",
    "\n",
    "        fig.update_layout(\n",
    "            title=f\"{train}\",\n",
    "            xaxis_title=\"UMAP components\",\n",
    "            yaxis_title=\"Accuracy (mean 10 runs)\",\n",
    "            # yaxis_range=[0, 1],\n",
    "            xaxis = dict(\n",
    "                tickmode = 'linear',\n",
    "            ),\n",
    "            autosize=True,\n",
    "            width=1200,\n",
    "            height=600\n",
    "        )\n",
    "        fig.show()\n",
    "        # break\n",
    "\n",
    "    return df\n",
    "\n",
    "\n",
    "_ = improvement_over_baseline(results.copy())\n",
    "\n",
    "\n",
    "# df = df.copy()\n",
    "# df[\"improvement\"] = df[\"accuracy\"] - df[\"baseline_accuracy\"]\n",
    "# return df\n"
   ]
  },
  {
   "cell_type": "code",
   "execution_count": null,
   "metadata": {},
   "outputs": [],
   "source": [
    "from collections import defaultdict\n",
    "\n",
    "def only_standardized_view(df):\n",
    "    return df[df[\"view\"] == \"standartized_intra_balanced\"]\n",
    "\n",
    "\n",
    "def only_raw_view(df):\n",
    "    return df[df[\"view\"] == \"raw_balanced\"]\n",
    "\n",
    "\n",
    "def improvement_over_baseline(df):\n",
    "    df = filter_reducer_over_all(df)\n",
    "    df = filter_features_all(df)\n",
    "    df = filter_scaler_none(df)\n",
    "    df = filter_only_reducer_dataset_equals_train_dataset_or_no_reducer(df)\n",
    "    df = only_standardized_view(df)\n",
    "\n",
    "\n",
    "    df[\"best umap accuracy\"] = df.groupby([\"train_datasets\", \"test_datasets\", \"estimator\", \"transforms\"])[\"accuracy (mean)\"].transform(max)\n",
    "    df[\"umap best improvement\"] = df[\"accuracy (mean)\"] / df[\"best umap accuracy\"]\n",
    "\n",
    "    bests_so_far = defaultdict(list)\n",
    "\n",
    "    for index, subdf  in df.groupby([\"train_datasets\", \"test_datasets\", \"estimator\", \"transforms\"]):\n",
    "        for i in range(2, 11, 1):\n",
    "            xdf = subdf[(subdf[\"umap components\"] <= i) & (subdf[\"umap components\"] > 1)]\n",
    "            # bests_so_far[i] = xdf[\"accuracy (mean)\"].max()\n",
    "            bests_so_far[(index[0], index[2], index[3])].append(xdf[\"accuracy (mean)\"].max())\n",
    "\n",
    "        # xdf = df[df[\"umap components\"] <= i]\n",
    "        # df[f\"best umap accuracy {i}\"] = xdf.groupby([\"train_datasets\", \"test_datasets\", \"estimator\", \"transforms\"])[\"accuracy (mean)\"].transform(max)\n",
    "        # # df[f\"umap best improvement {i}\"] = xdf[\"accuracy (mean)\"] / xdf[\"best umap accuracy\"]\n",
    "        # bests_so_far[i] = xdf[\"accuracy (mean)\"].max()\n",
    "        # df[f\"umap best improvement {i}\"] = xdf[\"accuracy (mean)\"] / xdf[\"best umap accuracy\"]\n",
    "\n",
    "    # print(bests_so_far)\n",
    "\n",
    "    fig = go.Figure()\n",
    "\n",
    "    for name, acc in bests_so_far.items():\n",
    "        if \"FFT\" not in name[2]:\n",
    "            continue\n",
    "        # print(name, acc)\n",
    "        fig.add_trace(\n",
    "            go.Scatter(\n",
    "                x=list(range(2, 11, 1)),\n",
    "                y=[a/acc[-1] for a in acc],\n",
    "                mode=\"lines+markers\",\n",
    "                name=f\"{name}\",\n",
    "                legendgroup=f\"({name[0]}, {name[2]})\"\n",
    "                # showlegend=False\n",
    "            )\n",
    "        )\n",
    "\n",
    "    fig.update_layout(\n",
    "        xaxis_title=\"Maximum UMAP components\",\n",
    "        yaxis_title=\"Accuracy improvement (relation to best)\",\n",
    "        # yaxis_range=[0, 1],\n",
    "        xaxis = dict(\n",
    "            tickmode = 'linear',\n",
    "        ),\n",
    "        autosize=True,\n",
    "        width=1200,\n",
    "        height=600\n",
    "    )\n",
    "    # fig.show()\n",
    "\n",
    "    fig.show()\n",
    "    return df\n",
    "\n",
    "\n",
    "\n",
    "_ = improvement_over_baseline(results.copy())\n",
    "\n",
    "\n",
    "# df = df.copy()\n",
    "# df[\"improvement\"] = df[\"accuracy\"] - df[\"baseline_accuracy\"]\n",
    "# return df\n"
   ]
  },
  {
   "cell_type": "code",
   "execution_count": null,
   "metadata": {},
   "outputs": [],
   "source": [
    "from collections import defaultdict\n",
    "\n",
    "def only_standardized_view(df):\n",
    "    return df[df[\"view\"] == \"standartized_intra_balanced\"]\n",
    "\n",
    "\n",
    "def only_raw_view(df):\n",
    "    return df[df[\"view\"] == \"raw_balanced\"]\n",
    "\n",
    "\n",
    "def improvement_over_baseline(df):\n",
    "    df = filter_reducer_over_all(df)\n",
    "    df = filter_features_all(df)\n",
    "    df = filter_scaler_none(df)\n",
    "    df = filter_only_reducer_dataset_equals_train_dataset_or_no_reducer(df)\n",
    "    df = only_standardized_view(df)\n",
    "\n",
    "\n",
    "    df[\"best umap accuracy\"] = df.groupby([\"train_datasets\", \"test_datasets\", \"estimator\", \"transforms\"])[\"accuracy (mean)\"].transform(max)\n",
    "    df[\"umap best improvement\"] = df[\"accuracy (mean)\"] / df[\"best umap accuracy\"]\n",
    "\n",
    "    bests_so_far = defaultdict(list)\n",
    "\n",
    "    for index, subdf  in df.groupby([\"train_datasets\", \"test_datasets\", \"estimator\", \"transforms\"]):\n",
    "        for i in range(2, 11, 1):\n",
    "            xdf = subdf[(subdf[\"umap components\"] <= i) & (subdf[\"umap components\"] > 1)]\n",
    "            xdf2 = subdf[(subdf[\"umap components\"] == 0)]\n",
    "            # bests_so_far[i] = xdf[\"accuracy (mean)\"].max()\n",
    "            bests_so_far[(index[0], index[2], index[3])].append(xdf[\"accuracy (mean)\"].max() / xdf2[\"accuracy (mean)\"].max())\n",
    "\n",
    "        # xdf = df[df[\"umap components\"] <= i]\n",
    "        # df[f\"best umap accuracy {i}\"] = xdf.groupby([\"train_datasets\", \"test_datasets\", \"estimator\", \"transforms\"])[\"accuracy (mean)\"].transform(max)\n",
    "        # # df[f\"umap best improvement {i}\"] = xdf[\"accuracy (mean)\"] / xdf[\"best umap accuracy\"]\n",
    "        # bests_so_far[i] = xdf[\"accuracy (mean)\"].max()\n",
    "        # df[f\"umap best improvement {i}\"] = xdf[\"accuracy (mean)\"] / xdf[\"best umap accuracy\"]\n",
    "\n",
    "    # print(bests_so_far)\n",
    "\n",
    "    fig = go.Figure()\n",
    "    # for name, acc in bests_so_far.items():\n",
    "    #     if \"FFT\" not in name[2]:\n",
    "    #         continue\n",
    "    #     # print(name, acc)\n",
    "    #     xs = [11]\n",
    "    #     ys = [acc[-1]]\n",
    "\n",
    "    #     fig.add_trace(\n",
    "    #         go.Scatter(\n",
    "    #             x=xs,\n",
    "    #             y=[acc[-1] for a in acc],\n",
    "    #             mode=\"lines+markers\",\n",
    "    #             name=f\"{name}\",\n",
    "    #             legendgroup=f\"({name[0]}, {name[2]})\"\n",
    "    #             # showlegend=False\n",
    "    #         )\n",
    "    #     )\n",
    "\n",
    "    fig.add_trace(\n",
    "        go.Histogram(\n",
    "            x=[acc[-1] for name, acc in bests_so_far.items() if \"FFT\" not in name[2]], \n",
    "            xbins=dict(size=0.05)\n",
    "        )\n",
    "    )\n",
    "\n",
    "    fig.update_layout(\n",
    "        xaxis_title=\"Maximum UMAP components\",\n",
    "        yaxis_title=\"Accuracy improvement (relation to no-UMAP)\",\n",
    "        # yaxis_range=[0, 1],\n",
    "        xaxis = dict(\n",
    "            tickmode = 'linear',\n",
    "        ),\n",
    "        autosize=True,\n",
    "        width=1200,\n",
    "        height=600\n",
    "    )\n",
    "    # fig.show()\n",
    "\n",
    "    fig.show()\n",
    "    return df\n",
    "\n",
    "\n",
    "    # display(HTML(df.to_html()))\n",
    "\n",
    "    for (train, test), subdf in df.groupby(\n",
    "        [\n",
    "            \"train_datasets\",\n",
    "            \"test_datasets\",\n",
    "        ]\n",
    "    ):\n",
    "        fig = go.Figure()\n",
    "        for (estimator, transform), subsubdf in subdf.groupby(\n",
    "            [\"estimator\", \"transforms\"]\n",
    "        ):\n",
    "            # subsubdf = pd.concat([subsubdf.sort_values(\"umap components\").iloc[1:], subsubdf.sort_values(\"umap components\").iloc[0]])\n",
    "            subsubdf = subsubdf.sort_values(\"umap components\") \n",
    "\n",
    "            transform = transform if transform else 'no transform'\n",
    "            for i in range(1, 10, 1):\n",
    "                fig.add_trace(\n",
    "                    go.Scatter(\n",
    "                        x=subsubdf[\"umap components\"],\n",
    "                        y=subsubdf[f\"best umap accuracy {i}\"],\n",
    "                        # error_y=dict(array=subsubdf[\"accuracy (std)\"]*100),\n",
    "                        mode=\"lines+markers\",\n",
    "                        name=f\"{estimator} {transform if transform else 'no transform'}\",\n",
    "                        legendgroup=transform\n",
    "                    )\n",
    "                )\n",
    "            break\n",
    "\n",
    "\n",
    "        fig.update_layout(\n",
    "            title=f\"{train}\",\n",
    "            xaxis_title=\"UMAP components\",\n",
    "            yaxis_title=\"Accuracy (mean 10 runs)\",\n",
    "            # yaxis_range=[0, 1],\n",
    "            xaxis = dict(\n",
    "                tickmode = 'linear',\n",
    "            ),\n",
    "            autosize=True,\n",
    "            width=1200,\n",
    "            height=600\n",
    "        )\n",
    "        fig.show()\n",
    "        # break\n",
    "\n",
    "    return df\n",
    "\n",
    "\n",
    "_ = improvement_over_baseline(results.copy())\n",
    "\n",
    "\n",
    "# df = df.copy()\n",
    "# df[\"improvement\"] = df[\"accuracy\"] - df[\"baseline_accuracy\"]\n",
    "# return df\n"
   ]
  },
  {
   "cell_type": "code",
   "execution_count": null,
   "metadata": {},
   "outputs": [],
   "source": [
    "from collections import defaultdict\n",
    "\n",
    "def only_standardized_view(df):\n",
    "    return df[df[\"view\"] == \"standartized_intra_balanced\"]\n",
    "\n",
    "\n",
    "def only_raw_view(df):\n",
    "    return df[df[\"view\"] == \"raw_balanced\"]\n",
    "\n",
    "\n",
    "def improvement_over_baseline(df):\n",
    "    df = filter_reducer_over_all(df)\n",
    "    df = filter_features_all(df)\n",
    "    df = filter_scaler_none(df)\n",
    "    df = filter_only_reducer_dataset_equals_train_dataset_or_no_reducer(df)\n",
    "    df = only_standardized_view(df)\n",
    "\n",
    "\n",
    "    df[\"best umap accuracy\"] = df.groupby([\"train_datasets\", \"test_datasets\", \"estimator\", \"transforms\"])[\"accuracy (mean)\"].transform(max)\n",
    "    df[\"umap best improvement\"] = df[\"accuracy (mean)\"] / df[\"best umap accuracy\"]\n",
    "\n",
    "    bests_so_far = defaultdict(list)\n",
    "\n",
    "    for index, subdf  in df.groupby([\"train_datasets\", \"test_datasets\", \"estimator\", \"transforms\"]):\n",
    "        for i in range(2, 11, 1):\n",
    "            xdf = subdf[(subdf[\"umap components\"] <= i) & (subdf[\"umap components\"] > 1)]\n",
    "            xdf2 = subdf[(subdf[\"umap components\"] == 0)]\n",
    "            # bests_so_far[i] = xdf[\"accuracy (mean)\"].max()\n",
    "            bests_so_far[(index[0], index[2], index[3])].append(xdf[\"accuracy (mean)\"].max() / xdf2[\"accuracy (mean)\"].max())\n",
    "\n",
    "        # xdf = df[df[\"umap components\"] <= i]\n",
    "        # df[f\"best umap accuracy {i}\"] = xdf.groupby([\"train_datasets\", \"test_datasets\", \"estimator\", \"transforms\"])[\"accuracy (mean)\"].transform(max)\n",
    "        # # df[f\"umap best improvement {i}\"] = xdf[\"accuracy (mean)\"] / xdf[\"best umap accuracy\"]\n",
    "        # bests_so_far[i] = xdf[\"accuracy (mean)\"].max()\n",
    "        # df[f\"umap best improvement {i}\"] = xdf[\"accuracy (mean)\"] / xdf[\"best umap accuracy\"]\n",
    "\n",
    "    # print(bests_so_far)\n",
    "\n",
    "    fig = go.Figure()\n",
    "    for name, acc in bests_so_far.items():\n",
    "        if \"FFT\" not in name[2]:\n",
    "            continue\n",
    "        # print(name, acc)\n",
    "        # fig.add_trace(\n",
    "        #     go.Scatter(\n",
    "        #         x=list(range(2, 11, 1)),\n",
    "        #         # y=[acc[-1] for a in acc],\n",
    "        #         y=acc,\n",
    "        #         mode=\"lines+markers\",\n",
    "        #         name=f\"{name}\",\n",
    "        #         legendgroup=f\"({name[0]}, {name[2]})\"\n",
    "        #         # showlegend=False\n",
    "        #     )\n",
    "        # )\n",
    "\n",
    "        fig.add_trace(\n",
    "            go.Bar(\n",
    "                x=[10],\n",
    "                y=[acc[-1] for a in acc],\n",
    "                # y=acc,\n",
    "                name=f\"{name}\",\n",
    "                legendgroup=f\"({name[0]}, {name[2]})\"\n",
    "                # showlegend=False\n",
    "            )\n",
    "        )\n",
    "\n",
    "    # plot a bar plot using plotly\n",
    "\n",
    "\n",
    "\n",
    "\n",
    "    fig.update_layout(\n",
    "        xaxis_title=\"Maximum UMAP components\",\n",
    "        yaxis_title=\"Accuracy improvement (relation to no-UMAP)\",\n",
    "        # yaxis_range=[0, 1],\n",
    "        xaxis = dict(\n",
    "            tickmode = 'linear',\n",
    "        ),\n",
    "        autosize=True,\n",
    "        width=1200,\n",
    "        height=600\n",
    "    )\n",
    "    # fig.show()\n",
    "\n",
    "    fig.show()\n",
    "    return df\n",
    "\n",
    "_ = improvement_over_baseline(results.copy())\n",
    "\n",
    "\n",
    "# df = df.copy()\n",
    "# df[\"improvement\"] = df[\"accuracy\"] - df[\"baseline_accuracy\"]\n",
    "# return df\n"
   ]
  },
  {
   "cell_type": "code",
   "execution_count": null,
   "metadata": {},
   "outputs": [],
   "source": []
  },
  {
   "attachments": {},
   "cell_type": "markdown",
   "metadata": {},
   "source": [
    "## Pergunta 2: Como a escolha do dataset no treinamento do UMAP afeta os resultados da tarefa?"
   ]
  },
  {
   "cell_type": "code",
   "execution_count": null,
   "metadata": {},
   "outputs": [],
   "source": [
    "def only_standardized_view(df):\n",
    "    return df[df[\"view\"] == \"standartized_intra_balanced\"]\n",
    "\n",
    "\n",
    "def only_raw_view(df):\n",
    "    return df[df[\"view\"] == \"raw_balanced\"]\n",
    "\n",
    "def improvement_dset_choice_1(df):\n",
    "    # df = only_reduce_on_all(df)\n",
    "    # df = using_all_features(df)\n",
    "    # df = only_fft(df)\n",
    "    # df = no_scaler(df)\n",
    "    df = only_standardized_view(df)\n",
    "    df = df[df[\"umap components\"] > 4]\n",
    "\n",
    "    colors_map = {\n",
    "        \"plotly-blue\": px.colors.qualitative.Plotly[0],\n",
    "        \"plotly-red\": px.colors.qualitative.Plotly[1],\n",
    "        \"plotly-green\": px.colors.qualitative.Plotly[2],\n",
    "        \"plotly-purple\": px.colors.qualitative.Plotly[3],\n",
    "        \"plotly-orange\": px.colors.qualitative.Plotly[4],\n",
    "        \"plotly-cyan\": px.colors.qualitative.Plotly[5],\n",
    "        \"plotly-pink\": px.colors.qualitative.Plotly[6],\n",
    "        \"plotly-lightgreen\": px.colors.qualitative.Plotly[7],\n",
    "        \"plotly-lightpink\": px.colors.qualitative.Plotly[8],\n",
    "        \"plotly-yellow\": px.colors.qualitative.Plotly[9],\n",
    "    }\n",
    "\n",
    "\n",
    "    colors = list(colors_map.values())\n",
    "\n",
    "    for i, ((estimator), subdf) in enumerate(df.groupby([\"estimator\"])):\n",
    "        fig = go.Figure()\n",
    "\n",
    "        for i, (n_components, subsubdf) in enumerate(subdf.groupby(\"umap components\")):\n",
    "            subsubdf = subsubdf.sort_values(\"accuracy (mean)\")\n",
    "            fig.add_trace(\n",
    "                go.Scatter(\n",
    "                    y=np.arange(len(subsubdf)),\n",
    "                    x=subsubdf[\"accuracy (mean)\"]*100,\n",
    "                    mode=\"lines\",\n",
    "                    name=f\"UMAP components: {n_components}\",\n",
    "                    line=dict(color=colors[i], width=1),\n",
    "                )\n",
    "            )\n",
    "            fig[\"layout\"][\"xaxis\"].update(title_text=\"Accuracy (%)\")\n",
    "            fig[\"layout\"][\"yaxis\"].update(title_text=\"Number of experiments\")\n",
    "            \n",
    "\n",
    "        fig.update_layout(\n",
    "            autosize=True,\n",
    "            width=2400,\n",
    "            height=600,\n",
    "            title=f\"Estimator: {estimator}\"\n",
    "        )\n",
    "        fig.show()\n",
    "\n",
    "    return df\n",
    "        \n",
    "_ = improvement_dset_choice_1(results.copy())\n",
    "\n",
    "\n",
    "# df = df.copy()\n",
    "# df[\"improvement\"] = df[\"accuracy\"] - df[\"baseline_accuracy\"]\n",
    "# return df\n"
   ]
  },
  {
   "cell_type": "code",
   "execution_count": null,
   "metadata": {},
   "outputs": [],
   "source": [
    "def only_standardized_view(df):\n",
    "    return df[df[\"view\"] == \"standartized_intra_balanced\"]\n",
    "\n",
    "\n",
    "def only_raw_view(df):\n",
    "    return df[df[\"view\"] == \"raw_balanced\"]\n",
    "\n",
    "def improvement_dset_choice_2(df):\n",
    "    # df = only_reduce_on_all(df)\n",
    "    # df = using_all_features(df)\n",
    "    # df = only_fft(df)\n",
    "    # df = no_scaler(df)\n",
    "    df = only_standardized_view(df)\n",
    "    df_0 = filter_only_reducer_dataset_equals_train_dataset_or_no_reducer(df)\n",
    "    df_0 = df[df[\"umap components\"] == 0]\n",
    "    df = df[df[\"umap components\"] > 4]\n",
    "\n",
    "    colors_map = {\n",
    "        \"plotly-blue\": px.colors.qualitative.Plotly[0],\n",
    "        \"plotly-red\": px.colors.qualitative.Plotly[1],\n",
    "        \"plotly-green\": px.colors.qualitative.Plotly[2],\n",
    "        \"plotly-purple\": px.colors.qualitative.Plotly[3],\n",
    "        \"plotly-orange\": px.colors.qualitative.Plotly[4],\n",
    "        \"plotly-cyan\": px.colors.qualitative.Plotly[5],\n",
    "        \"plotly-pink\": px.colors.qualitative.Plotly[6],\n",
    "        \"plotly-lightgreen\": px.colors.qualitative.Plotly[7],\n",
    "        \"plotly-lightpink\": px.colors.qualitative.Plotly[8],\n",
    "        \"plotly-yellow\": px.colors.qualitative.Plotly[9],\n",
    "    }\n",
    "\n",
    "\n",
    "    merge_feat = [\n",
    "        \"scale_on\",\n",
    "        \"reduce_on\",\n",
    "        \"transforms\",\n",
    "        \"reducer\",\n",
    "        \"umap components\",\n",
    "        \"reducer_datasets\",\n",
    "        \"train_datasets\",\n",
    "        \"test_datasets\",\n",
    "        \"estimator\",\n",
    "    ]\n",
    "\n",
    "    rows = []\n",
    "    for idx, row in df.iterrows():\n",
    "        r = df_0.loc[\n",
    "            (df_0[\"estimator\"] == row[\"estimator\"]) &\n",
    "            (df_0[\"scale_on\"] == row[\"scale_on\"]) &\n",
    "            (df_0[\"reduce_on\"] == row[\"reduce_on\"]) &\n",
    "            (df_0[\"transforms\"] == row[\"transforms\"]) &\n",
    "            (df_0[\"train_datasets\"] == row[\"train_datasets\"]) &\n",
    "            (df_0[\"test_datasets\"] == row[\"test_datasets\"]) &\n",
    "            (df_0[\"estimator\"] == row[\"estimator\"]) \n",
    "        ].iloc[0]\n",
    "        row[\"accuracy improvement (mean)\"] = row[\"accuracy (mean)\"]/r[\"accuracy (mean)\"]\n",
    "        rows.append(row)\n",
    "\n",
    "    df = pd.DataFrame(rows)\n",
    "\n",
    "    colors = list(colors_map.values())\n",
    "\n",
    "    for i, ((estimator), subdf) in enumerate(df.groupby([\"estimator\"])):\n",
    "        fig = go.Figure()\n",
    "\n",
    "        for i, (n_components, subsubdf) in enumerate(subdf.groupby(\"umap components\")):\n",
    "            subsubdf = subsubdf.sort_values(\"accuracy improvement (mean)\")\n",
    "            fig.add_trace(\n",
    "                go.Scatter(\n",
    "                    x=np.arange(len(subsubdf)),\n",
    "                    y=subsubdf[\"accuracy improvement (mean)\"],\n",
    "                    mode=\"lines\",\n",
    "                    name=f\"UMAP components: {n_components}\",\n",
    "                    line=dict(color=colors[i], width=1),\n",
    "                )\n",
    "            )\n",
    "            fig[\"layout\"][\"yaxis\"].update(title_text=\"Accuracy improvement (%)\")\n",
    "            fig[\"layout\"][\"xaxis\"].update(title_text=\"Number of experiments\")\n",
    "            \n",
    "\n",
    "        fig.update_layout(\n",
    "            autosize=True,\n",
    "            width=2400,\n",
    "            height=600,\n",
    "            title=f\"Estimator: {estimator}\"\n",
    "        )\n",
    "        fig.show()\n",
    "\n",
    "    return df\n",
    "        \n",
    "_ = improvement_dset_choice_2(results.copy())\n",
    "\n",
    "\n",
    "# df = df.copy()\n",
    "# df[\"improvement\"] = df[\"accuracy\"] - df[\"baseline_accuracy\"]\n",
    "# return df\n"
   ]
  },
  {
   "attachments": {},
   "cell_type": "markdown",
   "metadata": {},
   "source": [
    "## Pergunta 3: É possível usar Manifold Learning para reduzir o domain shift?"
   ]
  },
  {
   "cell_type": "code",
   "execution_count": null,
   "metadata": {},
   "outputs": [],
   "source": []
  },
  {
   "attachments": {},
   "cell_type": "markdown",
   "metadata": {},
   "source": [
    "## Pergunta 4: Qual a importância da normatização nos experimentos inter-dataset"
   ]
  },
  {
   "cell_type": "code",
   "execution_count": null,
   "metadata": {},
   "outputs": [],
   "source": []
  },
  {
   "attachments": {},
   "cell_type": "markdown",
   "metadata": {},
   "source": [
    "## Pergunta 5: É mais vantajoso reduzir a dimensionalidade dos dados dos sensores de forma individual (aplicando o UMAP a um sensor, ou eixo, por vez) ou de forma agregada (como estamos fazendo)\n",
    "\n",
    "Qual abordagem é a mais interessante para a generalização de um dataset fonte para um dataset alvo? \n",
    "1. Espaço latente unificado partindo dos dados de sensores concatenados;\n",
    "2. União de espaços latentes gerados separadamente por sensor;\n",
    "3. União dos espaços latentes gerados por eixo e por sensor (ou seja, 6 projeções UMAP independentes).\n",
    "\n",
    "**OBS**:\n",
    "- Ajustar a diferença para comparar com o numero de features final"
   ]
  },
  {
   "cell_type": "code",
   "execution_count": null,
   "metadata": {},
   "outputs": [],
   "source": [
    "def only_standardized_view(df):\n",
    "    return df[df[\"view\"] == \"standartized_intra_balanced\"]\n",
    "\n",
    "def improvement_over_umap_all(df):\n",
    "    df = filter_features_all(df)\n",
    "    df = filter_scaler_none(df)\n",
    "    df = filter_only_reducer_dataset_equals_train_dataset(df)\n",
    "    df = only_standardized_view(df)\n",
    "    df = filter_domain_fft_only(df)\n",
    "    umap_all = filter_reducer_over_all(df.copy())\n",
    "    umap_sensor = filter_reducer_over_sensor(df.copy())\n",
    "    umap_axis = filter_reducer_over_axis(df.copy())\n",
    "\n",
    "    merge_feat = [\n",
    "            \"in_use_features\",\n",
    "            \"scale_on\",\n",
    "            \"transforms\",\n",
    "            \"scaler\",\n",
    "            \"reducer\",\n",
    "            \"umap components\",\n",
    "            \"reducer_datasets\",\n",
    "            \"train_datasets\",\n",
    "            \"test_datasets\",\n",
    "            \"estimator\",\n",
    "        ]\n",
    "        \n",
    "    merged_df_sensor = umap_all.merge(umap_sensor, on=merge_feat, suffixes=(\"_all\", \"_other\")).dropna()\n",
    "    merged_df_sensor[\"diff\"] = merged_df_sensor[\"accuracy (mean)_other\"] - merged_df_sensor[\"accuracy (mean)_all\"]\n",
    "    merged_df_axis = umap_all.merge(umap_axis, on=merge_feat, suffixes=(\"_all\", \"_other\")).dropna()\n",
    "    merged_df_axis[\"diff\"] = merged_df_axis[\"accuracy (mean)_other\"] - merged_df_axis[\"accuracy (mean)_all\"]\n",
    "\n",
    "    colors_map = {\n",
    "        \"plotly-blue\": px.colors.qualitative.Plotly[0],\n",
    "        \"plotly-red\": px.colors.qualitative.Plotly[1],\n",
    "        \"plotly-green\": px.colors.qualitative.Plotly[2],\n",
    "        \"plotly-purple\": px.colors.qualitative.Plotly[3],\n",
    "        \"plotly-orange\": px.colors.qualitative.Plotly[4],\n",
    "        \"plotly-cyan\": px.colors.qualitative.Plotly[5],\n",
    "        \"plotly-pink\": px.colors.qualitative.Plotly[6],\n",
    "        \"plotly-lightgreen\": px.colors.qualitative.Plotly[7],\n",
    "        \"plotly-lightpink\": px.colors.qualitative.Plotly[8],\n",
    "        \"plotly-yellow\": px.colors.qualitative.Plotly[9],\n",
    "    }\n",
    "\n",
    "    colors = list(colors_map.values())\n",
    "    \n",
    "    for the_df, name in [(merged_df_sensor, \"sensor\"), (merged_df_axis, \"axis\")]:\n",
    "        for (train, test), subdf in the_df.groupby(\n",
    "            [\n",
    "                \"train_datasets\",\n",
    "                \"test_datasets\",\n",
    "            ]\n",
    "        ):\n",
    "            fig = make_subplots(rows=1, cols=3, subplot_titles=(\"all\", name, f\"difference (y = {name} - all)\"))\n",
    "            for i, (estimator, subsubdf) in enumerate(subdf.groupby(\n",
    "                \"estimator\"\n",
    "            )):\n",
    "                subsubdf = subsubdf.sort_values(\"umap components\")\n",
    "                transform = \"FFT\"\n",
    "                fig.add_trace(\n",
    "                    go.Scatter(\n",
    "                        x=subsubdf[\"umap components\"],\n",
    "                        y=subsubdf[\"accuracy (mean)_all\"]*100,\n",
    "                        error_y=dict(array=subsubdf[\"accuracy (std)_all\"]*100),\n",
    "                        mode=\"lines+markers\",\n",
    "                        name=f\"{estimator} {transform if transform else 'no transform'}\",\n",
    "                        legendgroup=estimator,\n",
    "                        line=dict(color=colors[i], width=1),\n",
    "                    ),\n",
    "                    row=1, col=1\n",
    "                )\n",
    "                fig.add_trace(\n",
    "                    go.Scatter(\n",
    "                        x=subsubdf[\"umap components\"],\n",
    "                        y=subsubdf[\"accuracy (mean)_other\"]*100,\n",
    "                        error_y=dict(array=subsubdf[\"accuracy (std)_other\"]*100),\n",
    "                        mode=\"lines+markers\",\n",
    "                        name=f\"{estimator} {transform if transform else 'no transform'}\",\n",
    "                        legendgroup=estimator,\n",
    "                        line=dict(color=colors[i], width=1),\n",
    "                    ),\n",
    "                    row=1, col=2\n",
    "                )\n",
    "                fig.add_trace(\n",
    "                    go.Scatter(\n",
    "                        x=subsubdf[\"umap components\"],\n",
    "                        y=subsubdf[\"diff\"]*100,\n",
    "                        mode=\"lines+markers\",\n",
    "                        name=f\"{estimator} {transform if transform else 'no transform'}\",\n",
    "                        legendgroup=estimator,\n",
    "                        line=dict(color=colors[i], width=1),\n",
    "                    ),\n",
    "                    row=1, col=3\n",
    "                )\n",
    "\n",
    "            fig[\"layout\"][\"xaxis1\"].update(title_text=\"UMAP components\", tickmode=\"linear\")\n",
    "            fig[\"layout\"][\"xaxis2\"].update(title_text=\"UMAP components\", tickmode=\"linear\")\n",
    "            fig[\"layout\"][\"xaxis3\"].update(title_text=\"UMAP components\", tickmode=\"linear\")\n",
    "\n",
    "            fig[\"layout\"][\"yaxis1\"].update(title_text=\"Accuracy (%)\", range=[0, 100])\n",
    "            fig[\"layout\"][\"yaxis2\"].update(title_text=\"Accuracy (%)\", range=[0, 100])\n",
    "            fig[\"layout\"][\"yaxis3\"].update(title_text=f\"Difference\")\n",
    "\n",
    "            fig.update_layout(\n",
    "                autosize=True,\n",
    "                width=2400,\n",
    "                height=600,\n",
    "                title=f\"Dataset: {train}\"\n",
    "            )\n",
    "\n",
    "\n",
    "            fig.show()\n",
    "\n",
    "\n",
    "    return merged_df_sensor, merged_df_axis\n",
    "\n",
    "\n",
    "_= improvement_over_umap_all(results.copy())\n"
   ]
  },
  {
   "attachments": {},
   "cell_type": "markdown",
   "metadata": {},
   "source": [
    "## Pergunta 6: Há uma mudança significativa entre os diferentes classificadores\n",
    "\n",
    "\n"
   ]
  },
  {
   "cell_type": "code",
   "execution_count": null,
   "metadata": {},
   "outputs": [],
   "source": [
    "results.groupby(\"estimator\").mean()[\"accuracy (mean)\"].sort_values(ascending=False)"
   ]
  },
  {
   "cell_type": "code",
   "execution_count": null,
   "metadata": {},
   "outputs": [],
   "source": [
    "\n",
    "merge_feat = [\n",
    "    \"scale_on\",\n",
    "    \"reduce_on\",\n",
    "    \"transforms\",\n",
    "    \"reducer\",\n",
    "    \"umap components\",\n",
    "    \"reducer_datasets\",\n",
    "    \"train_datasets\",\n",
    "    \"test_datasets\",\n",
    "]\n",
    "\n",
    "df = results.copy()\n",
    "df[\"best umap accuracy\"] = df.groupby([\"train_datasets\", \"test_datasets\", \"estimator\", \"transforms\"])[\"accuracy (mean)\"].transform(max)\n",
    "\n",
    "for estimator, xc in df.groupby(\"estimator\"):\n",
    "    for (key), y in filter_domain_fft_only(only_standardized_view(xc)).groupby(merge_feat):    \n",
    "        # subsubdf.loc[subsubdf[\"estimator\"] == estimator, \"best umap accuracy\"].mean()\n",
    "        print(f\"{estimator} {key} {y.loc[y['estimator'] == estimator, 'accuracy (mean)'].mean()/ df['best umap accuracy'].max()}\") "
   ]
  },
  {
   "attachments": {},
   "cell_type": "markdown",
   "metadata": {},
   "source": [
    "## Pergunta 7:  Melhor no domínio da frequência ou tempo (condicionada à abordagem - manifold learning com UMAP)? (ou wavelet?)"
   ]
  },
  {
   "cell_type": "code",
   "execution_count": null,
   "metadata": {},
   "outputs": [],
   "source": [
    "x = results.copy()\n",
    "x.loc[x[\"transforms\"] == \"\", \"transforms\"] = \"no transform\"\n",
    "x.groupby(\"transforms\").mean()[\"accuracy (mean)\"].sort_values(ascending=False)"
   ]
  },
  {
   "attachments": {},
   "cell_type": "markdown",
   "metadata": {},
   "source": [
    "## Pergunta 8: Qual dataset (ou subconjunto de datasets) é mais propício para generalizar o reconhecimento de HAR?"
   ]
  },
  {
   "cell_type": "code",
   "execution_count": null,
   "metadata": {},
   "outputs": [],
   "source": []
  },
  {
   "attachments": {},
   "cell_type": "markdown",
   "metadata": {},
   "source": [
    "## Pergunta 9: Normalização traz mais benefícios?\n",
    "\n",
    "**OBS**:\n",
    "- Reportar média e std dev dos resultados antes e depois da normalização"
   ]
  },
  {
   "cell_type": "code",
   "execution_count": null,
   "metadata": {},
   "outputs": [],
   "source": [
    "def only_minmax_scaler(df):\n",
    "    return df[df[\"scaler\"] == \"MinMaxScaler\"]\n",
    "\n",
    "def only_std_scaler(df):\n",
    "    return df[df[\"scaler\"] == \"StandardScaler\"]\n",
    "\n",
    "def improvement_over_umap_scaler(df):\n",
    "    df = filter_features_all(df)\n",
    "    df = filter_only_reducer_dataset_equals_train_dataset(df)\n",
    "    df = only_standardized_view(df)\n",
    "    df = filter_domain_fft_only(df)\n",
    "    df = filter_reducer_over_all(df)\n",
    "    umap_no_scaler = filter_scaler_none(df.copy())\n",
    "    umap_minmax = only_minmax_scaler(df.copy())\n",
    "    umap_std = only_std_scaler(df.copy())\n",
    "\n",
    "    merge_feat = [\n",
    "        \"scale_on\",\n",
    "        \"reduce_on\",\n",
    "        \"transforms\",\n",
    "        \"reducer\",\n",
    "        \"umap components\",\n",
    "        \"reducer_datasets\",\n",
    "        \"train_datasets\",\n",
    "        \"test_datasets\",\n",
    "        \"estimator\",\n",
    "    ]\n",
    "\n",
    "        \n",
    "    merged_df_minmax = umap_no_scaler.merge(umap_minmax, on=merge_feat, suffixes=(\"_all\", \"_other\")).dropna()\n",
    "    merged_df_minmax[\"diff\"] = merged_df_minmax[\"accuracy (mean)_other\"] - merged_df_minmax[\"accuracy (mean)_all\"]\n",
    "    merged_df_std = umap_no_scaler.merge(umap_std, on=merge_feat, suffixes=(\"_all\", \"_other\")).dropna()\n",
    "    merged_df_std[\"diff\"] = merged_df_std[\"accuracy (mean)_other\"] - merged_df_std[\"accuracy (mean)_all\"]\n",
    "\n",
    "    colors_map = {\n",
    "        \"plotly-blue\": px.colors.qualitative.Plotly[0],\n",
    "        \"plotly-red\": px.colors.qualitative.Plotly[1],\n",
    "        \"plotly-green\": px.colors.qualitative.Plotly[2],\n",
    "        \"plotly-purple\": px.colors.qualitative.Plotly[3],\n",
    "        \"plotly-orange\": px.colors.qualitative.Plotly[4],\n",
    "        \"plotly-cyan\": px.colors.qualitative.Plotly[5],\n",
    "        \"plotly-pink\": px.colors.qualitative.Plotly[6],\n",
    "        \"plotly-lightgreen\": px.colors.qualitative.Plotly[7],\n",
    "        \"plotly-lightpink\": px.colors.qualitative.Plotly[8],\n",
    "        \"plotly-yellow\": px.colors.qualitative.Plotly[9],\n",
    "    }\n",
    "\n",
    "    colors = list(colors_map.values())\n",
    "    \n",
    "    for the_df, name in [(merged_df_minmax, \"minmax\"), (merged_df_std, \"z-norm\")]:\n",
    "        for (train, test), subdf in the_df.groupby(\n",
    "            [\n",
    "                \"train_datasets\",\n",
    "                \"test_datasets\",\n",
    "            ]\n",
    "        ):\n",
    "            fig = make_subplots(rows=1, cols=3, subplot_titles=(\"all\", name, f\"difference (y = {name} - no scaler)\"))\n",
    "            for i, (estimator, subsubdf) in enumerate(subdf.groupby(\n",
    "                \"estimator\"\n",
    "            )):\n",
    "\n",
    "                subsubdf = subsubdf.sort_values(\"umap components\")\n",
    "                transform = \"FFT\"\n",
    "                fig.add_trace(\n",
    "                    go.Scatter(\n",
    "                        x=subsubdf[\"umap components\"],\n",
    "                        y=subsubdf[\"accuracy (mean)_all\"]*100,\n",
    "                        error_y=dict(array=subsubdf[\"accuracy (std)_all\"]*100),\n",
    "                        mode=\"lines+markers\",\n",
    "                        name=f\"{estimator} {transform if transform else 'no transform'}\",\n",
    "                        legendgroup=estimator,\n",
    "                        line=dict(color=colors[i], width=1),\n",
    "                    ),\n",
    "                    row=1, col=1\n",
    "                )\n",
    "                fig.add_trace(\n",
    "                    go.Scatter(\n",
    "                        x=subsubdf[\"umap components\"],\n",
    "                        y=subsubdf[\"accuracy (mean)_other\"]*100,\n",
    "                         error_y=dict(array=subsubdf[\"accuracy (std)_other\"]*100),\n",
    "                        mode=\"lines+markers\",\n",
    "                        name=f\"{estimator} {transform if transform else 'no transform'}\",\n",
    "                        legendgroup=estimator,\n",
    "                        line=dict(color=colors[i], width=1),\n",
    "                    ),\n",
    "                    row=1, col=2\n",
    "                )\n",
    "                fig.add_trace(\n",
    "                    go.Scatter(\n",
    "                        x=subsubdf[\"umap components\"],\n",
    "                        y=subsubdf[\"diff\"]*100,\n",
    "                        mode=\"lines+markers\",\n",
    "                        name=f\"{estimator} {transform if transform else 'no transform'}\",\n",
    "                        legendgroup=estimator,\n",
    "                        line=dict(color=colors[i], width=1),\n",
    "                    ),\n",
    "                    row=1, col=3\n",
    "                )\n",
    "\n",
    "            fig[\"layout\"][\"xaxis1\"].update(title_text=\"UMAP components\", tickmode=\"linear\")\n",
    "            fig[\"layout\"][\"xaxis2\"].update(title_text=\"UMAP components\", tickmode=\"linear\")\n",
    "            fig[\"layout\"][\"xaxis3\"].update(title_text=\"UMAP components\", tickmode=\"linear\")\n",
    "\n",
    "            fig[\"layout\"][\"yaxis1\"].update(title_text=\"Accuracy (%)\", range=[0, 100])\n",
    "            fig[\"layout\"][\"yaxis2\"].update(title_text=\"Accuracy (%)\", range=[0, 100])\n",
    "            fig[\"layout\"][\"yaxis3\"].update(title_text=f\"Difference\")\n",
    "\n",
    "            fig.update_layout(\n",
    "                autosize=True,\n",
    "                width=2400,\n",
    "                height=600,\n",
    "                title=f\"Dataset: {train}\"\n",
    "            )\n",
    "\n",
    "\n",
    "            fig.show()\n",
    "\n",
    "\n",
    "    return merged_df_minmax, merged_df_std\n",
    "\n",
    "\n",
    "_ = improvement_over_umap_scaler(results.copy())\n"
   ]
  },
  {
   "attachments": {},
   "cell_type": "markdown",
   "metadata": {},
   "source": [
    "## Pergunta 10: Quais os sensores que ajudam mais: acelerômetro, giroscópio, ambos?"
   ]
  },
  {
   "cell_type": "code",
   "execution_count": null,
   "metadata": {},
   "outputs": [],
   "source": [
    "def only_standardized_view(df):\n",
    "    return df[df[\"view\"] == \"standartized_intra_balanced\"]\n",
    "\n",
    "def improvement_over_umap_all_features(df):\n",
    "    df = filter_scaler_none(df)\n",
    "    df = filter_only_reducer_dataset_equals_train_dataset(df)\n",
    "    df = only_standardized_view(df)\n",
    "    df = filter_domain_fft_only(df)\n",
    "    df = filter_reducer_over_all(df)\n",
    "    umap_all = filter_features_all(df.copy())\n",
    "    umap_accel = filter_features_accelerometer_only(df.copy())\n",
    "    umap_gyro = filter_features_gyroscope_only(df.copy())\n",
    "\n",
    "    merge_feat = [\n",
    "        \"scale_on\",\n",
    "        \"reduce_on\",\n",
    "        \"transforms\",\n",
    "        \"scaler\",\n",
    "        \"reducer\",\n",
    "        \"umap components\",\n",
    "        \"reducer_datasets\",\n",
    "        \"train_datasets\",\n",
    "        \"test_datasets\",\n",
    "        \"estimator\",\n",
    "    ]\n",
    "\n",
    "        \n",
    "    merged_df_accel = umap_all.merge(umap_accel, on=merge_feat, suffixes=(\"_all\", \"_other\")).dropna()\n",
    "    merged_df_accel[\"diff\"] = merged_df_accel[\"accuracy (mean)_other\"] - merged_df_accel[\"accuracy (mean)_all\"]\n",
    "    merged_df_gyro = umap_all.merge(umap_gyro, on=merge_feat, suffixes=(\"_all\", \"_other\")).dropna()\n",
    "    merged_df_gyro[\"diff\"] = merged_df_gyro[\"accuracy (mean)_other\"] - merged_df_gyro[\"accuracy (mean)_all\"]\n",
    "\n",
    "    colors_map = {\n",
    "        \"plotly-blue\": px.colors.qualitative.Plotly[0],\n",
    "        \"plotly-red\": px.colors.qualitative.Plotly[1],\n",
    "        \"plotly-green\": px.colors.qualitative.Plotly[2],\n",
    "        \"plotly-purple\": px.colors.qualitative.Plotly[3],\n",
    "        \"plotly-orange\": px.colors.qualitative.Plotly[4],\n",
    "        \"plotly-cyan\": px.colors.qualitative.Plotly[5],\n",
    "        \"plotly-pink\": px.colors.qualitative.Plotly[6],\n",
    "        \"plotly-lightgreen\": px.colors.qualitative.Plotly[7],\n",
    "        \"plotly-lightpink\": px.colors.qualitative.Plotly[8],\n",
    "        \"plotly-yellow\": px.colors.qualitative.Plotly[9],\n",
    "    }\n",
    "\n",
    "    colors = list(colors_map.values())\n",
    "    \n",
    "    for the_df, name in [(merged_df_accel, \"accel\"), (merged_df_gyro, \"gyro\")]:\n",
    "        for (train, test), subdf in the_df.groupby(\n",
    "            [\n",
    "                \"train_datasets\",\n",
    "                \"test_datasets\",\n",
    "            ]\n",
    "        ):\n",
    "            fig = make_subplots(rows=1, cols=3, subplot_titles=(\"all\", name, f\"difference (y = {name} - all)\"))\n",
    "            for i, (estimator, subsubdf) in enumerate(subdf.groupby(\n",
    "                \"estimator\"\n",
    "            )):\n",
    "                subsubdf = subsubdf.sort_values(\"umap components\")\n",
    "                transform = \"FFT\"\n",
    "                fig.add_trace(\n",
    "                    go.Scatter(\n",
    "                        x=subsubdf[\"umap components\"],\n",
    "                        y=subsubdf[\"accuracy (mean)_all\"]*100,\n",
    "                        error_y=dict(array=subsubdf[\"accuracy (std)_all\"]*100),\n",
    "                        mode=\"lines+markers\",\n",
    "                        name=f\"{estimator} {transform if transform else 'no transform'}\",\n",
    "                        legendgroup=estimator,\n",
    "                        line=dict(color=colors[i], width=1),\n",
    "                    ),\n",
    "                    row=1, col=1\n",
    "                )\n",
    "                fig.add_trace(\n",
    "                    go.Scatter(\n",
    "                        x=subsubdf[\"umap components\"],\n",
    "                        y=subsubdf[\"accuracy (mean)_other\"]*100,\n",
    "                        error_y=dict(array=subsubdf[\"accuracy (std)_other\"]*100),\n",
    "                        mode=\"lines+markers\",\n",
    "                        name=f\"{estimator} {transform if transform else 'no transform'}\",\n",
    "                        legendgroup=estimator,\n",
    "                        line=dict(color=colors[i], width=1),\n",
    "                    ),\n",
    "                    row=1, col=2\n",
    "                )\n",
    "                fig.add_trace(\n",
    "                    go.Scatter(\n",
    "                        x=subsubdf[\"umap components\"],\n",
    "                        y=subsubdf[\"diff\"]*100,\n",
    "                        mode=\"lines+markers\",\n",
    "                        name=f\"{estimator} {transform if transform else 'no transform'}\",\n",
    "                        legendgroup=estimator,\n",
    "                        line=dict(color=colors[i], width=1),\n",
    "                    ),\n",
    "                    row=1, col=3\n",
    "                )\n",
    "\n",
    "            fig[\"layout\"][\"xaxis1\"].update(title_text=\"UMAP components\", tickmode=\"linear\")\n",
    "            fig[\"layout\"][\"xaxis2\"].update(title_text=\"UMAP components\", tickmode=\"linear\")\n",
    "            fig[\"layout\"][\"xaxis3\"].update(title_text=\"UMAP components\", tickmode=\"linear\")\n",
    "\n",
    "            fig[\"layout\"][\"yaxis1\"].update(title_text=\"Accuracy (%)\", range=[0, 100])\n",
    "            fig[\"layout\"][\"yaxis2\"].update(title_text=\"Accuracy (%)\", range=[0, 100])\n",
    "            fig[\"layout\"][\"yaxis3\"].update(title_text=f\"Difference\")\n",
    "\n",
    "            fig.update_layout(\n",
    "                autosize=True,\n",
    "                width=2400,\n",
    "                height=600,\n",
    "                title=f\"Dataset: {train}\"\n",
    "            )\n",
    "\n",
    "\n",
    "            fig.show()\n",
    "\n",
    "\n",
    "    return merged_df_accel, merged_df_gyro\n",
    "\n",
    "\n",
    "_ = improvement_over_umap_all_features(results.copy())\n"
   ]
  }
 ],
 "metadata": {
  "kernelspec": {
   "display_name": ".librep-venv",
   "language": "python",
   "name": "python3"
  },
  "language_info": {
   "codemirror_mode": {
    "name": "ipython",
    "version": 3
   },
   "file_extension": ".py",
   "mimetype": "text/x-python",
   "name": "python",
   "nbconvert_exporter": "python",
   "pygments_lexer": "ipython3",
   "version": "3.10.6"
  },
  "orig_nbformat": 4,
  "vscode": {
   "interpreter": {
    "hash": "e57cbd9857f73b6186314efc0497b85fc81e429910d4dfbf03f56c852bfb6a26"
   }
  }
 },
 "nbformat": 4,
 "nbformat_minor": 2
}
