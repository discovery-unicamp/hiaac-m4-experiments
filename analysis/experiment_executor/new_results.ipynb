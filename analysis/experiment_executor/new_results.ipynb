{
 "cells": [
  {
   "cell_type": "code",
   "execution_count": 1,
   "metadata": {},
   "outputs": [],
   "source": [
    "import itertools\n",
    "from pathlib import Path\n",
    "from typing import List\n",
    "\n",
    "import numpy as np\n",
    "import pandas as pd\n",
    "import plotly.express as px\n",
    "\n",
    "from IPython.display import display, HTML\n",
    "import plotly.graph_objects as go\n",
    "from plotly.subplots import make_subplots"
   ]
  },
  {
   "cell_type": "code",
   "execution_count": 2,
   "metadata": {},
   "outputs": [],
   "source": [
    "pd.set_option('display.max_rows', 20)\n",
    "pd.set_option('display.max_columns', 50)\n",
    "pd.set_option('display.width', 1000)\n",
    "\n",
    "# Let's define some constants\n",
    "\n",
    "datasets = [\n",
    "    \"kuhar\",\n",
    "    \"motionsense\",\n",
    "    \"uci\",\n",
    "    \"wisdm\",\n",
    "    \"realworld\"\n",
    "]\n",
    "\n",
    "\n",
    "labels_activity = {\n",
    "    0: \"sit\",\n",
    "    1: \"stand\",\n",
    "    2: \"walk\",\n",
    "    3: \"stair up\",\n",
    "    4: \"stair down\",\n",
    "    5: \"run\",\n",
    "    6: \"stair up and down\",\n",
    "}\n",
    "\n",
    "colors_map = {\n",
    "    \"plotly-blue\": px.colors.qualitative.Plotly[0],\n",
    "    \"plotly-green\": px.colors.qualitative.Plotly[2],\n",
    "    \"plotly-purple\": px.colors.qualitative.Plotly[3],\n",
    "    \"plotly-orange\": px.colors.qualitative.Plotly[4],\n",
    "    \"plotly-cyan\": px.colors.qualitative.Plotly[5],\n",
    "    \"plotly-pink\": px.colors.qualitative.Plotly[6],\n",
    "    \"plotly-lightgreen\": px.colors.qualitative.Plotly[7],\n",
    "    \"plotly-lightpink\": px.colors.qualitative.Plotly[8],\n",
    "    \"plotly-yellow\": px.colors.qualitative.Plotly[9],\n",
    "    \"plotly-red\": px.colors.qualitative.Plotly[1],\n",
    "}\n",
    "\n",
    "colors = list(colors_map.values())\n",
    "markers = [\"circle\", \"square\", \"diamond\", \"x\", \"triangle-up\", \"triangle-down\", \"pentagon\"]"
   ]
  },
  {
   "cell_type": "code",
   "execution_count": 3,
   "metadata": {},
   "outputs": [],
   "source": [
    "# Let's define some filters related to each of the columns\n",
    "\n",
    "# --- Related to domain ---\n",
    "def filter_domain_fft_only(df):\n",
    "    return df[df[\"transforms\"] == \"fft\"]\n",
    "\n",
    "def filter_domain_time_only(df):\n",
    "    return df.loc[df[\"transforms\"] == \"time\"]\n",
    "\n",
    "\n",
    "# --- Related to features ---\n",
    "def filter_features_all(df):\n",
    "    return df[\n",
    "        df[\"in_use_features\"].str.contains(\"accel-x\")\n",
    "        & df[\"in_use_features\"].str.contains(\"accel-y\")\n",
    "        & df[\"in_use_features\"].str.contains(\"accel-z\")\n",
    "        & df[\"in_use_features\"].str.contains(\"gyro-x\")\n",
    "        & df[\"in_use_features\"].str.contains(\"gyro-y\")\n",
    "        & df[\"in_use_features\"].str.contains(\"gyro-z\")\n",
    "    ]\n",
    "\n",
    "def filter_features_accelerometer_only(df):\n",
    "    return df[\n",
    "        df[\"in_use_features\"].str.contains(\"accel-x\")\n",
    "        & df[\"in_use_features\"].str.contains(\"accel-y\")\n",
    "        & df[\"in_use_features\"].str.contains(\"accel-z\")\n",
    "        & ~df[\"in_use_features\"].str.contains(\"gyro-x\")\n",
    "        & ~df[\"in_use_features\"].str.contains(\"gyro-y\")\n",
    "        & ~df[\"in_use_features\"].str.contains(\"gyro-z\")\n",
    "    ]\n",
    "\n",
    "def filter_features_gyroscope_only(df):\n",
    "    return df[\n",
    "        ~df[\"in_use_features\"].str.contains(\"accel-x\")\n",
    "        & ~df[\"in_use_features\"].str.contains(\"accel-y\")\n",
    "        & ~df[\"in_use_features\"].str.contains(\"accel-z\")\n",
    "        & df[\"in_use_features\"].str.contains(\"gyro-x\")\n",
    "        & df[\"in_use_features\"].str.contains(\"gyro-y\")\n",
    "        & df[\"in_use_features\"].str.contains(\"gyro-z\")\n",
    "    ]\n",
    "\n",
    "# --- Related to how reducer is executed ---\n",
    "def filter_reducer_over_all(df):\n",
    "    return df[df[\"reduce_on\"] == \"all\"]\n",
    "\n",
    "def filter_reducer_over_sensor(df):\n",
    "    return df[df[\"reduce_on\"] == \"sensor\"]\n",
    "\n",
    "def filter_reducer_over_axis(df):\n",
    "    return df[df[\"reduce_on\"] == \"axis\"]\n",
    "\n",
    "# --- Related to the estimator ---\n",
    "def filter_estimator_rf(df):\n",
    "    return df[df[\"estimator\"].str.lower().str.contains(\"randomforest\")]\n",
    "\n",
    "def filter_estimator_svm(df):\n",
    "    return df[df[\"estimator\"].str.lower().str.contains(\"svm\")]\n",
    "\n",
    "def filter_estimator_knn(df):\n",
    "    return df[df[\"estimator\"].str.lower().str.contains(\"knn\")]\n",
    "\n",
    "# --- Related to the scaler ---\n",
    "def filter_scaler_none(df):\n",
    "    return df[df[\"scaler\"] == \"no scaler\"]\n",
    "\n",
    "def filter_scaler_minmax(df):\n",
    "    return df[df[\"scaler\"].str.lower().str.contains(\"minmaxscaler\")]\n",
    "\n",
    "def filter_scaler_std(df):\n",
    "   return df[df[\"scaler\"].str.lower().str.contains(\"standardscaler\")]\n",
    "\n",
    "# --- Related to the view ---\n",
    "def filter_view_standardized_intra(df):\n",
    "    return df[df[\"view\"] == \"standartized_intra_balanced\"]\n",
    "\n",
    "def filter_view_standardized(df):\n",
    "    return df[df[\"view\"] == \"standartized_balanced\"]\n",
    "\n",
    "def filter_view_raw(df):\n",
    "    return df[df[\"view\"] == \"raw_balanced\"]    \n",
    "\n",
    "# --- Some other useful filters ---\n",
    "def filter_only_reducer_dataset_equals_train_dataset(df):\n",
    "    return df[df[\"reducer_datasets\"] == df[\"train_datasets\"]]\n",
    "\n",
    "def filter_only_reducer_dataset_equals_train_dataset_or_no_reducer(df):\n",
    "    return df[(df[\"reducer_datasets\"] == df[\"train_datasets\"]) | (df[\"reducer_datasets\"] == \"\")]\n",
    "\n",
    "def filter_only_reducer_dataset_diferent_from_train(df):\n",
    "    return df[(df[\"reducer_datasets\"] != df[\"train_datasets\"]) & (df[\"reducer_datasets\"] != \"\")]\n",
    "\n",
    "def filter_same_train_test(df):\n",
    "    return df[df[\"train_datasets\"] == df[\"test_datasets\"]]\n",
    "\n",
    "def filter_different_train_test(df):\n",
    "    return df[df[\"train_datasets\"] != df[\"test_datasets\"]]"
   ]
  },
  {
   "cell_type": "code",
   "execution_count": 4,
   "metadata": {},
   "outputs": [],
   "source": [
    "# Preprocessing steps\n",
    "def rename_datasets(\n",
    "    df, columns: List[str] = (\"reducer_datasets\", \"train_datasets\", \"test_datasets\")\n",
    "):\n",
    "    def rename_row(row):\n",
    "        for col in columns:\n",
    "            names = set()\n",
    "            for name in row[col].split(\",\"):\n",
    "                name = name.strip()\n",
    "                names.add(name.split(\".\")[0])\n",
    "            row[col] = \", \".join(sorted(names))\n",
    "        return row\n",
    "\n",
    "    df = df.apply(rename_row, axis=1)\n",
    "    return df\n",
    "\n",
    "def add_view_name(df, new_column_name: str = \"view\"):\n",
    "    df[new_column_name] = df[\"config_id\"].apply(lambda x: \"_\".join(x.split(\"_\")[:-1]))\n",
    "    return df\n",
    "\n",
    "def match_configs(df, new_column_name: str = \"config_group\"):\n",
    "    group_no = 0\n",
    "    for k, subdf in df.groupby(\n",
    "        [\n",
    "            \"in_use_features\",\n",
    "            \"scale_on\",\n",
    "            \"reduce_on\",\n",
    "            \"transforms\",\n",
    "            \"scaler\",\n",
    "            \"reducer\",\n",
    "            \"umap components\",\n",
    "            \"reducer_datasets\",\n",
    "            \"train_datasets\",\n",
    "            \"test_datasets\",\n",
    "            \"estimator\",\n",
    "        ]\n",
    "    ):\n",
    "        if len(subdf) == 2:\n",
    "            df.loc[subdf.index, new_column_name] = group_no\n",
    "            group_no += 1\n",
    "    return df"
   ]
  },
  {
   "cell_type": "code",
   "execution_count": 5,
   "metadata": {},
   "outputs": [
    {
     "data": {
      "text/html": [
       "<div>\n",
       "<style scoped>\n",
       "    .dataframe tbody tr th:only-of-type {\n",
       "        vertical-align: middle;\n",
       "    }\n",
       "\n",
       "    .dataframe tbody tr th {\n",
       "        vertical-align: top;\n",
       "    }\n",
       "\n",
       "    .dataframe thead th {\n",
       "        text-align: right;\n",
       "    }\n",
       "</style>\n",
       "<table border=\"1\" class=\"dataframe\">\n",
       "  <thead>\n",
       "    <tr style=\"text-align: right;\">\n",
       "      <th></th>\n",
       "      <th>experiment_name</th>\n",
       "      <th>run_name</th>\n",
       "      <th>config_id</th>\n",
       "      <th>reduce_size</th>\n",
       "      <th>train_size</th>\n",
       "      <th>test_size</th>\n",
       "      <th>in_use_features</th>\n",
       "      <th>scale_on</th>\n",
       "      <th>reduce_on</th>\n",
       "      <th>transforms</th>\n",
       "      <th>scaler</th>\n",
       "      <th>reducer</th>\n",
       "      <th>umap components</th>\n",
       "      <th>reducer_datasets</th>\n",
       "      <th>train_datasets</th>\n",
       "      <th>test_datasets</th>\n",
       "      <th>estimator</th>\n",
       "      <th>accuracy (mean)</th>\n",
       "      <th>accuracy (std)</th>\n",
       "      <th>f1-score macro (mean)</th>\n",
       "      <th>f1-score macro (std)</th>\n",
       "      <th>f1-score weighted (mean)</th>\n",
       "      <th>f1-score weighted (std)</th>\n",
       "      <th>view</th>\n",
       "      <th>config_group</th>\n",
       "    </tr>\n",
       "  </thead>\n",
       "  <tbody>\n",
       "    <tr>\n",
       "      <th>0</th>\n",
       "      <td>reducer_comb_1</td>\n",
       "      <td>execution1</td>\n",
       "      <td>standartized_intra_balanced_08609</td>\n",
       "      <td>0</td>\n",
       "      <td>1495</td>\n",
       "      <td>120</td>\n",
       "      <td>gyro-x, gyro-y, gyro-z</td>\n",
       "      <td>train</td>\n",
       "      <td>sensor</td>\n",
       "      <td></td>\n",
       "      <td></td>\n",
       "      <td>umap-7</td>\n",
       "      <td>7</td>\n",
       "      <td></td>\n",
       "      <td>wisdm</td>\n",
       "      <td>wisdm</td>\n",
       "      <td>randomforest-100</td>\n",
       "      <td>0.670833</td>\n",
       "      <td>2.770128e-02</td>\n",
       "      <td>0.667083</td>\n",
       "      <td>3.039176e-02</td>\n",
       "      <td>0.667083</td>\n",
       "      <td>3.039176e-02</td>\n",
       "      <td>standartized_intra_balanced</td>\n",
       "      <td>NaN</td>\n",
       "    </tr>\n",
       "    <tr>\n",
       "      <th>1</th>\n",
       "      <td>reducer_comb_1</td>\n",
       "      <td>execution1</td>\n",
       "      <td>standartized_intra_balanced_08609</td>\n",
       "      <td>0</td>\n",
       "      <td>1495</td>\n",
       "      <td>120</td>\n",
       "      <td>gyro-x, gyro-y, gyro-z</td>\n",
       "      <td>train</td>\n",
       "      <td>sensor</td>\n",
       "      <td></td>\n",
       "      <td></td>\n",
       "      <td>umap-7</td>\n",
       "      <td>7</td>\n",
       "      <td></td>\n",
       "      <td>wisdm</td>\n",
       "      <td>wisdm</td>\n",
       "      <td>KNN-5</td>\n",
       "      <td>0.541667</td>\n",
       "      <td>1.110223e-16</td>\n",
       "      <td>0.540794</td>\n",
       "      <td>0.000000e+00</td>\n",
       "      <td>0.540794</td>\n",
       "      <td>0.000000e+00</td>\n",
       "      <td>standartized_intra_balanced</td>\n",
       "      <td>NaN</td>\n",
       "    </tr>\n",
       "    <tr>\n",
       "      <th>2</th>\n",
       "      <td>reducer_comb_1</td>\n",
       "      <td>execution1</td>\n",
       "      <td>standartized_intra_balanced_08609</td>\n",
       "      <td>0</td>\n",
       "      <td>1495</td>\n",
       "      <td>120</td>\n",
       "      <td>gyro-x, gyro-y, gyro-z</td>\n",
       "      <td>train</td>\n",
       "      <td>sensor</td>\n",
       "      <td></td>\n",
       "      <td></td>\n",
       "      <td>umap-7</td>\n",
       "      <td>7</td>\n",
       "      <td></td>\n",
       "      <td>wisdm</td>\n",
       "      <td>wisdm</td>\n",
       "      <td>SVM-rbf-C1.0</td>\n",
       "      <td>0.583333</td>\n",
       "      <td>1.110223e-16</td>\n",
       "      <td>0.521068</td>\n",
       "      <td>0.000000e+00</td>\n",
       "      <td>0.521068</td>\n",
       "      <td>0.000000e+00</td>\n",
       "      <td>standartized_intra_balanced</td>\n",
       "      <td>NaN</td>\n",
       "    </tr>\n",
       "    <tr>\n",
       "      <th>3</th>\n",
       "      <td>reducer_comb_1</td>\n",
       "      <td>execution1</td>\n",
       "      <td>standartized_intra_balanced_00845</td>\n",
       "      <td>0</td>\n",
       "      <td>1794</td>\n",
       "      <td>144</td>\n",
       "      <td>accel-x, accel-y, accel-z, gyro-x, gyro-y, gyro-z</td>\n",
       "      <td>train</td>\n",
       "      <td>sensor</td>\n",
       "      <td></td>\n",
       "      <td>MinMaxScaler</td>\n",
       "      <td>umap-2</td>\n",
       "      <td>2</td>\n",
       "      <td></td>\n",
       "      <td>kuhar</td>\n",
       "      <td>kuhar</td>\n",
       "      <td>randomforest-100</td>\n",
       "      <td>0.800694</td>\n",
       "      <td>1.812221e-02</td>\n",
       "      <td>0.795044</td>\n",
       "      <td>1.921549e-02</td>\n",
       "      <td>0.795044</td>\n",
       "      <td>1.921549e-02</td>\n",
       "      <td>standartized_intra_balanced</td>\n",
       "      <td>NaN</td>\n",
       "    </tr>\n",
       "    <tr>\n",
       "      <th>4</th>\n",
       "      <td>reducer_comb_1</td>\n",
       "      <td>execution1</td>\n",
       "      <td>standartized_intra_balanced_00845</td>\n",
       "      <td>0</td>\n",
       "      <td>1794</td>\n",
       "      <td>144</td>\n",
       "      <td>accel-x, accel-y, accel-z, gyro-x, gyro-y, gyro-z</td>\n",
       "      <td>train</td>\n",
       "      <td>sensor</td>\n",
       "      <td></td>\n",
       "      <td>MinMaxScaler</td>\n",
       "      <td>umap-2</td>\n",
       "      <td>2</td>\n",
       "      <td></td>\n",
       "      <td>kuhar</td>\n",
       "      <td>kuhar</td>\n",
       "      <td>KNN-5</td>\n",
       "      <td>0.493056</td>\n",
       "      <td>5.551115e-17</td>\n",
       "      <td>0.482479</td>\n",
       "      <td>0.000000e+00</td>\n",
       "      <td>0.482479</td>\n",
       "      <td>5.551115e-17</td>\n",
       "      <td>standartized_intra_balanced</td>\n",
       "      <td>NaN</td>\n",
       "    </tr>\n",
       "    <tr>\n",
       "      <th>...</th>\n",
       "      <td>...</td>\n",
       "      <td>...</td>\n",
       "      <td>...</td>\n",
       "      <td>...</td>\n",
       "      <td>...</td>\n",
       "      <td>...</td>\n",
       "      <td>...</td>\n",
       "      <td>...</td>\n",
       "      <td>...</td>\n",
       "      <td>...</td>\n",
       "      <td>...</td>\n",
       "      <td>...</td>\n",
       "      <td>...</td>\n",
       "      <td>...</td>\n",
       "      <td>...</td>\n",
       "      <td>...</td>\n",
       "      <td>...</td>\n",
       "      <td>...</td>\n",
       "      <td>...</td>\n",
       "      <td>...</td>\n",
       "      <td>...</td>\n",
       "      <td>...</td>\n",
       "      <td>...</td>\n",
       "      <td>...</td>\n",
       "      <td>...</td>\n",
       "    </tr>\n",
       "    <tr>\n",
       "      <th>63172</th>\n",
       "      <td>reducer_comb_1</td>\n",
       "      <td>execution1</td>\n",
       "      <td>raw_balanced_02926</td>\n",
       "      <td>3978</td>\n",
       "      <td>3978</td>\n",
       "      <td>1062</td>\n",
       "      <td>accel-x, accel-y, accel-z, gyro-x, gyro-y, gyro-z</td>\n",
       "      <td>train</td>\n",
       "      <td>all</td>\n",
       "      <td>FFT-centered</td>\n",
       "      <td>MinMaxScaler</td>\n",
       "      <td>umap-20</td>\n",
       "      <td>20</td>\n",
       "      <td>motionsense</td>\n",
       "      <td>motionsense</td>\n",
       "      <td>motionsense</td>\n",
       "      <td>KNN-5</td>\n",
       "      <td>0.883239</td>\n",
       "      <td>1.110223e-16</td>\n",
       "      <td>0.883064</td>\n",
       "      <td>1.110223e-16</td>\n",
       "      <td>0.883064</td>\n",
       "      <td>0.000000e+00</td>\n",
       "      <td>raw_balanced</td>\n",
       "      <td>3678.0</td>\n",
       "    </tr>\n",
       "    <tr>\n",
       "      <th>63173</th>\n",
       "      <td>reducer_comb_1</td>\n",
       "      <td>execution1</td>\n",
       "      <td>raw_balanced_02926</td>\n",
       "      <td>3978</td>\n",
       "      <td>3978</td>\n",
       "      <td>1062</td>\n",
       "      <td>accel-x, accel-y, accel-z, gyro-x, gyro-y, gyro-z</td>\n",
       "      <td>train</td>\n",
       "      <td>all</td>\n",
       "      <td>FFT-centered</td>\n",
       "      <td>MinMaxScaler</td>\n",
       "      <td>umap-20</td>\n",
       "      <td>20</td>\n",
       "      <td>motionsense</td>\n",
       "      <td>motionsense</td>\n",
       "      <td>motionsense</td>\n",
       "      <td>SVM-rbf-C1.0</td>\n",
       "      <td>0.870998</td>\n",
       "      <td>1.110223e-16</td>\n",
       "      <td>0.871440</td>\n",
       "      <td>1.110223e-16</td>\n",
       "      <td>0.871440</td>\n",
       "      <td>1.110223e-16</td>\n",
       "      <td>raw_balanced</td>\n",
       "      <td>3679.0</td>\n",
       "    </tr>\n",
       "    <tr>\n",
       "      <th>63174</th>\n",
       "      <td>reducer_comb_1</td>\n",
       "      <td>execution1</td>\n",
       "      <td>standartized_intra_balanced_05531</td>\n",
       "      <td>0</td>\n",
       "      <td>1794</td>\n",
       "      <td>144</td>\n",
       "      <td>accel-x, accel-y, accel-z</td>\n",
       "      <td>train</td>\n",
       "      <td>sensor</td>\n",
       "      <td></td>\n",
       "      <td>StandardScaler</td>\n",
       "      <td>umap-5</td>\n",
       "      <td>5</td>\n",
       "      <td></td>\n",
       "      <td>motionsense</td>\n",
       "      <td>motionsense</td>\n",
       "      <td>randomforest-100</td>\n",
       "      <td>0.798611</td>\n",
       "      <td>1.889093e-02</td>\n",
       "      <td>0.796915</td>\n",
       "      <td>1.948198e-02</td>\n",
       "      <td>0.796915</td>\n",
       "      <td>1.948198e-02</td>\n",
       "      <td>standartized_intra_balanced</td>\n",
       "      <td>NaN</td>\n",
       "    </tr>\n",
       "    <tr>\n",
       "      <th>63175</th>\n",
       "      <td>reducer_comb_1</td>\n",
       "      <td>execution1</td>\n",
       "      <td>standartized_intra_balanced_05531</td>\n",
       "      <td>0</td>\n",
       "      <td>1794</td>\n",
       "      <td>144</td>\n",
       "      <td>accel-x, accel-y, accel-z</td>\n",
       "      <td>train</td>\n",
       "      <td>sensor</td>\n",
       "      <td></td>\n",
       "      <td>StandardScaler</td>\n",
       "      <td>umap-5</td>\n",
       "      <td>5</td>\n",
       "      <td></td>\n",
       "      <td>motionsense</td>\n",
       "      <td>motionsense</td>\n",
       "      <td>KNN-5</td>\n",
       "      <td>0.562500</td>\n",
       "      <td>0.000000e+00</td>\n",
       "      <td>0.546329</td>\n",
       "      <td>0.000000e+00</td>\n",
       "      <td>0.546329</td>\n",
       "      <td>0.000000e+00</td>\n",
       "      <td>standartized_intra_balanced</td>\n",
       "      <td>NaN</td>\n",
       "    </tr>\n",
       "    <tr>\n",
       "      <th>63176</th>\n",
       "      <td>reducer_comb_1</td>\n",
       "      <td>execution1</td>\n",
       "      <td>standartized_intra_balanced_05531</td>\n",
       "      <td>0</td>\n",
       "      <td>1794</td>\n",
       "      <td>144</td>\n",
       "      <td>accel-x, accel-y, accel-z</td>\n",
       "      <td>train</td>\n",
       "      <td>sensor</td>\n",
       "      <td></td>\n",
       "      <td>StandardScaler</td>\n",
       "      <td>umap-5</td>\n",
       "      <td>5</td>\n",
       "      <td></td>\n",
       "      <td>motionsense</td>\n",
       "      <td>motionsense</td>\n",
       "      <td>SVM-rbf-C1.0</td>\n",
       "      <td>0.652778</td>\n",
       "      <td>0.000000e+00</td>\n",
       "      <td>0.595517</td>\n",
       "      <td>0.000000e+00</td>\n",
       "      <td>0.595517</td>\n",
       "      <td>0.000000e+00</td>\n",
       "      <td>standartized_intra_balanced</td>\n",
       "      <td>NaN</td>\n",
       "    </tr>\n",
       "  </tbody>\n",
       "</table>\n",
       "<p>63177 rows × 25 columns</p>\n",
       "</div>"
      ],
      "text/plain": [
       "      experiment_name    run_name                          config_id  reduce_size  train_size  test_size                                    in_use_features scale_on reduce_on    transforms          scaler  reducer  umap components reducer_datasets train_datasets test_datasets         estimator  accuracy (mean)  accuracy (std)  f1-score macro (mean)  f1-score macro (std)  f1-score weighted (mean)  f1-score weighted (std)                         view  config_group\n",
       "0      reducer_comb_1  execution1  standartized_intra_balanced_08609            0        1495        120                             gyro-x, gyro-y, gyro-z    train    sensor                                 umap-7                7                           wisdm         wisdm  randomforest-100         0.670833    2.770128e-02               0.667083          3.039176e-02                  0.667083             3.039176e-02  standartized_intra_balanced           NaN\n",
       "1      reducer_comb_1  execution1  standartized_intra_balanced_08609            0        1495        120                             gyro-x, gyro-y, gyro-z    train    sensor                                 umap-7                7                           wisdm         wisdm             KNN-5         0.541667    1.110223e-16               0.540794          0.000000e+00                  0.540794             0.000000e+00  standartized_intra_balanced           NaN\n",
       "2      reducer_comb_1  execution1  standartized_intra_balanced_08609            0        1495        120                             gyro-x, gyro-y, gyro-z    train    sensor                                 umap-7                7                           wisdm         wisdm      SVM-rbf-C1.0         0.583333    1.110223e-16               0.521068          0.000000e+00                  0.521068             0.000000e+00  standartized_intra_balanced           NaN\n",
       "3      reducer_comb_1  execution1  standartized_intra_balanced_00845            0        1794        144  accel-x, accel-y, accel-z, gyro-x, gyro-y, gyro-z    train    sensor                  MinMaxScaler   umap-2                2                           kuhar         kuhar  randomforest-100         0.800694    1.812221e-02               0.795044          1.921549e-02                  0.795044             1.921549e-02  standartized_intra_balanced           NaN\n",
       "4      reducer_comb_1  execution1  standartized_intra_balanced_00845            0        1794        144  accel-x, accel-y, accel-z, gyro-x, gyro-y, gyro-z    train    sensor                  MinMaxScaler   umap-2                2                           kuhar         kuhar             KNN-5         0.493056    5.551115e-17               0.482479          0.000000e+00                  0.482479             5.551115e-17  standartized_intra_balanced           NaN\n",
       "...               ...         ...                                ...          ...         ...        ...                                                ...      ...       ...           ...             ...      ...              ...              ...            ...           ...               ...              ...             ...                    ...                   ...                       ...                      ...                          ...           ...\n",
       "63172  reducer_comb_1  execution1                 raw_balanced_02926         3978        3978       1062  accel-x, accel-y, accel-z, gyro-x, gyro-y, gyro-z    train       all  FFT-centered    MinMaxScaler  umap-20               20      motionsense    motionsense   motionsense             KNN-5         0.883239    1.110223e-16               0.883064          1.110223e-16                  0.883064             0.000000e+00                 raw_balanced        3678.0\n",
       "63173  reducer_comb_1  execution1                 raw_balanced_02926         3978        3978       1062  accel-x, accel-y, accel-z, gyro-x, gyro-y, gyro-z    train       all  FFT-centered    MinMaxScaler  umap-20               20      motionsense    motionsense   motionsense      SVM-rbf-C1.0         0.870998    1.110223e-16               0.871440          1.110223e-16                  0.871440             1.110223e-16                 raw_balanced        3679.0\n",
       "63174  reducer_comb_1  execution1  standartized_intra_balanced_05531            0        1794        144                          accel-x, accel-y, accel-z    train    sensor                StandardScaler   umap-5                5                     motionsense   motionsense  randomforest-100         0.798611    1.889093e-02               0.796915          1.948198e-02                  0.796915             1.948198e-02  standartized_intra_balanced           NaN\n",
       "63175  reducer_comb_1  execution1  standartized_intra_balanced_05531            0        1794        144                          accel-x, accel-y, accel-z    train    sensor                StandardScaler   umap-5                5                     motionsense   motionsense             KNN-5         0.562500    0.000000e+00               0.546329          0.000000e+00                  0.546329             0.000000e+00  standartized_intra_balanced           NaN\n",
       "63176  reducer_comb_1  execution1  standartized_intra_balanced_05531            0        1794        144                          accel-x, accel-y, accel-z    train    sensor                StandardScaler   umap-5                5                     motionsense   motionsense      SVM-rbf-C1.0         0.652778    0.000000e+00               0.595517          0.000000e+00                  0.595517             0.000000e+00  standartized_intra_balanced           NaN\n",
       "\n",
       "[63177 rows x 25 columns]"
      ]
     },
     "execution_count": 5,
     "metadata": {},
     "output_type": "execute_result"
    }
   ],
   "source": [
    "results_file = Path(\"results.csv\")\n",
    "results = pd.read_csv(results_file).fillna(\"\")\n",
    "# Lets transform and add some useful information\n",
    "results = rename_datasets(results)\n",
    "results = add_view_name(results)\n",
    "results = match_configs(results)\n",
    "results"
   ]
  },
  {
   "cell_type": "code",
   "execution_count": 6,
   "metadata": {},
   "outputs": [
    {
     "data": {
      "text/plain": [
       "['experiment_name',\n",
       " 'run_name',\n",
       " 'config_id',\n",
       " 'reduce_size',\n",
       " 'train_size',\n",
       " 'test_size',\n",
       " 'in_use_features',\n",
       " 'scale_on',\n",
       " 'reduce_on',\n",
       " 'transforms',\n",
       " 'scaler',\n",
       " 'reducer',\n",
       " 'umap components',\n",
       " 'reducer_datasets',\n",
       " 'train_datasets',\n",
       " 'test_datasets',\n",
       " 'estimator',\n",
       " 'accuracy (mean)',\n",
       " 'accuracy (std)',\n",
       " 'f1-score macro (mean)',\n",
       " 'f1-score macro (std)',\n",
       " 'f1-score weighted (mean)',\n",
       " 'f1-score weighted (std)',\n",
       " 'view',\n",
       " 'config_group']"
      ]
     },
     "execution_count": 6,
     "metadata": {},
     "output_type": "execute_result"
    }
   ],
   "source": [
    "results = results[\n",
    "    ~(results[\"reducer_datasets\"] == \"\")\n",
    "    | (results[\"umap components\"] == 0)\n",
    "]\n",
    "list(results.columns)"
   ]
  },
  {
   "cell_type": "code",
   "execution_count": 7,
   "metadata": {},
   "outputs": [
    {
     "data": {
      "text/plain": [
       "['in_use_features',\n",
       " 'reduce_on',\n",
       " 'transforms',\n",
       " 'scaler',\n",
       " 'umap components',\n",
       " 'reducer_datasets',\n",
       " 'train_datasets',\n",
       " 'test_datasets',\n",
       " 'estimator',\n",
       " 'accuracy (mean)',\n",
       " 'accuracy (std)',\n",
       " 'f1-score macro (mean)',\n",
       " 'f1-score macro (std)',\n",
       " 'f1-score weighted (mean)',\n",
       " 'f1-score weighted (std)',\n",
       " 'view',\n",
       " 'config_group']"
      ]
     },
     "execution_count": 7,
     "metadata": {},
     "output_type": "execute_result"
    }
   ],
   "source": [
    "# Lets filter out some reduntant lines\n",
    "results = results[\n",
    "    ~(results[\"reducer_datasets\"] == \"\")\n",
    "    | (results[\"umap components\"] == 0)\n",
    "]\n",
    "\n",
    "# As we only use umap, we can drop the reducer column\n",
    "results = results.drop(columns=[\"reducer\"])\n",
    "\n",
    "# As we only use TIME and FFT domains, lets rename the values \"\" of column transforms to \"TIME\"\n",
    "# and \"FFT\" to \"FFT\"\n",
    "results.loc[results[\"transforms\"] == \"\", \"transforms\"] = \"time\" \n",
    "results.loc[results[\"transforms\"] == \"FFT-centered\", \"transforms\"] = \"fft\"\n",
    "\n",
    "# If no scaler is used, lets change the value from \"\" to \"no scaler\"\n",
    "results.loc[results[\"scaler\"] == \"\", \"scaler\"] = \"no scaler\"\n",
    "\n",
    "# As scaler is only used for the train dataset, we can drop the column scale_on\n",
    "results = results.drop(columns=[\"scale_on\"])\n",
    "\n",
    "# Lets drop some meta-columns that we will not use\n",
    "results = results.drop(columns=[\"experiment_name\", \"run_name\", \"config_id\", \"reduce_size\", \"train_size\", \"test_size\"])\n",
    "list(results.columns)"
   ]
  },
  {
   "cell_type": "code",
   "execution_count": 8,
   "metadata": {},
   "outputs": [
    {
     "data": {
      "text/plain": [
       "True    54267\n",
       "dtype: int64"
      ]
     },
     "execution_count": 8,
     "metadata": {},
     "output_type": "execute_result"
    }
   ],
   "source": [
    "# Grouping by this columns should result in only one row per group\n",
    "# It is a unique tuple that describes each experiment\n",
    "unique_exp_columns = [\n",
    "    \"in_use_features\",\n",
    "    \"reduce_on\",\n",
    "    \"transforms\",\n",
    "    \"scaler\",\n",
    "    \"umap components\",\n",
    "    \"reducer_datasets\",\n",
    "    \"train_datasets\",\n",
    "    \"test_datasets\",\n",
    "    \"estimator\",\n",
    "    \"view\",\n",
    "]\n",
    "\n",
    "# Sanity check\n",
    "results.groupby(unique_exp_columns).apply(lambda x: len(x) == 1).value_counts()"
   ]
  },
  {
   "cell_type": "code",
   "execution_count": 9,
   "metadata": {},
   "outputs": [],
   "source": [
    "def chart_bar_with_error_bars(df, improvement_col: str, groupby: str = \"train_datasets\"):\n",
    "    xs, ys, error_y_min, error_y_max = [], [], [], []\n",
    "    for key, subdf in df.groupby(groupby):\n",
    "        sorted_improvement = sorted(subdf[improvement_col].values)\n",
    "        # print(sorted_improvement)\n",
    "        xs.append(key)\n",
    "        ys.append(sorted_improvement[1])\n",
    "        error_y_min.append(abs(sorted_improvement[0]-sorted_improvement[1]))\n",
    "        error_y_max.append(abs(sorted_improvement[-1]-sorted_improvement[1]))\n",
    "\n",
    "    fig = go.Figure()\n",
    "    fig.add_trace(\n",
    "        go.Bar(\n",
    "            x=xs,\n",
    "            y=ys,\n",
    "            error_y=dict(\n",
    "                type=\"data\",\n",
    "                symmetric=False,\n",
    "                array=error_y_max,\n",
    "                arrayminus=error_y_min\n",
    "            )\n",
    "        )\n",
    "    )\n",
    "    return fig\n",
    "\n",
    "def chart_bar_with_side_by_side(df, improvement_col: str, groupby: str = \"train_datasets\", inner_group: str = \"estimator\"):\n",
    "    fig = go.Figure()\n",
    "\n",
    "    for i, (key, subdf) in enumerate(df.groupby(groupby)):\n",
    "        xs, ys = [], []\n",
    "        for inner_key, inner_subdf in subdf.groupby(inner_group):\n",
    "            xs.append(str(inner_key))\n",
    "            ys.append(inner_subdf[improvement_col].values[0])\n",
    "        \n",
    "        fig.add_trace(\n",
    "            go.Bar(\n",
    "                y=ys,\n",
    "                x=xs,\n",
    "                name=str(key),\n",
    "                marker=dict(color=colors[i])\n",
    "            )\n",
    "        )\n",
    "    return fig\n",
    "\n",
    "def best_of_each_estimator(df):\n",
    "    experiment_uniq = [c for c in unique_exp_columns if c not in [\"estimator\"]]\n",
    "\n",
    "    best_of_each_dataset = []\n",
    "    for key, subdf in df.groupby(experiment_uniq):\n",
    "        best = subdf.sort_values(by=\"accuracy (mean)\", ascending=False, inplace=False).iloc[0]\n",
    "        best_of_each_dataset.append(best)\n",
    "    return pd.DataFrame(best_of_each_dataset)\n",
    "\n",
    "def best_of_each_umap(df):\n",
    "    experiment_uniq = [c for c in unique_exp_columns if c not in [\"umap components\"]]\n",
    "\n",
    "    best_of_each_dataset = []\n",
    "    for key, subdf in df.groupby(experiment_uniq):\n",
    "        best = subdf.sort_values(by=\"accuracy (mean)\", ascending=False, inplace=False).iloc[0]\n",
    "        best_of_each_dataset.append(best)\n",
    "    return pd.DataFrame(best_of_each_dataset)\n",
    "\n",
    "def best_of_each_estimator_and_umap(df):\n",
    "    experiment_uniq = [c for c in unique_exp_columns if c not in [\"estimator\", \"umap components\"]]\n",
    "\n",
    "    best_of_each_dataset = []\n",
    "    for key, subdf in df.groupby(experiment_uniq):\n",
    "        best = subdf.sort_values(by=\"accuracy (mean)\", ascending=False, inplace=False).iloc[0]\n",
    "        best_of_each_dataset.append(best)\n",
    "    return pd.DataFrame(best_of_each_dataset)"
   ]
  },
  {
   "attachments": {},
   "cell_type": "markdown",
   "metadata": {},
   "source": [
    "## Pergunta 1"
   ]
  },
  {
   "attachments": {},
   "cell_type": "markdown",
   "metadata": {},
   "source": [
    "### a) Qual o impacto no desempenho dos modelos de ML quando o dado de entrada é transformado com o UMAP?\n",
    "\n",
    "Compararemos, para cada tupla <dataset DS; domíno D; modelo de ML M>, qual é a diferença (razão) de desempenho do modelo M na tarefa de HAR com o dado do dataset DS no domínio D com e sem redução de dimensionalidade."
   ]
  },
  {
   "cell_type": "code",
   "execution_count": 85,
   "metadata": {},
   "outputs": [
    {
     "name": "stdout",
     "output_type": "stream",
     "text": [
      "(54267, 17)\n"
     ]
    },
    {
     "data": {
      "application/vnd.plotly.v1+json": {
       "config": {
        "plotlyServerURL": "https://plot.ly"
       },
       "data": [
        {
         "error_y": {
          "array": [
           0.07564156296344038,
           0.0016134453781511127,
           0.07926777890124703,
           0.010960390667390185,
           0.05314951545916036
          ],
          "arrayminus": [
           0.06558439857502096,
           0.0781653015636633,
           0.019898887765419704,
           0.08461501420522921,
           0.03619986065492198
          ],
          "symmetric": false,
          "type": "data"
         },
         "type": "bar",
         "x": [
          "kuhar",
          "motionsense",
          "realworld",
          "uci",
          "wisdm"
         ],
         "y": [
          1.010896898575021,
          1.032,
          0.8998988877654196,
          0.968421052631579,
          1.0263959390862945
         ]
        }
       ],
       "layout": {
        "height": 600,
        "shapes": [
         {
          "line": {
           "color": "magenta",
           "dash": "dash"
          },
          "type": "line",
          "x0": 0,
          "x1": 1,
          "xref": "x domain",
          "y0": 1,
          "y1": 1,
          "yref": "y"
         }
        ],
        "template": {
         "data": {
          "bar": [
           {
            "error_x": {
             "color": "#2a3f5f"
            },
            "error_y": {
             "color": "#2a3f5f"
            },
            "marker": {
             "line": {
              "color": "#E5ECF6",
              "width": 0.5
             },
             "pattern": {
              "fillmode": "overlay",
              "size": 10,
              "solidity": 0.2
             }
            },
            "type": "bar"
           }
          ],
          "barpolar": [
           {
            "marker": {
             "line": {
              "color": "#E5ECF6",
              "width": 0.5
             },
             "pattern": {
              "fillmode": "overlay",
              "size": 10,
              "solidity": 0.2
             }
            },
            "type": "barpolar"
           }
          ],
          "carpet": [
           {
            "aaxis": {
             "endlinecolor": "#2a3f5f",
             "gridcolor": "white",
             "linecolor": "white",
             "minorgridcolor": "white",
             "startlinecolor": "#2a3f5f"
            },
            "baxis": {
             "endlinecolor": "#2a3f5f",
             "gridcolor": "white",
             "linecolor": "white",
             "minorgridcolor": "white",
             "startlinecolor": "#2a3f5f"
            },
            "type": "carpet"
           }
          ],
          "choropleth": [
           {
            "colorbar": {
             "outlinewidth": 0,
             "ticks": ""
            },
            "type": "choropleth"
           }
          ],
          "contour": [
           {
            "colorbar": {
             "outlinewidth": 0,
             "ticks": ""
            },
            "colorscale": [
             [
              0,
              "#0d0887"
             ],
             [
              0.1111111111111111,
              "#46039f"
             ],
             [
              0.2222222222222222,
              "#7201a8"
             ],
             [
              0.3333333333333333,
              "#9c179e"
             ],
             [
              0.4444444444444444,
              "#bd3786"
             ],
             [
              0.5555555555555556,
              "#d8576b"
             ],
             [
              0.6666666666666666,
              "#ed7953"
             ],
             [
              0.7777777777777778,
              "#fb9f3a"
             ],
             [
              0.8888888888888888,
              "#fdca26"
             ],
             [
              1,
              "#f0f921"
             ]
            ],
            "type": "contour"
           }
          ],
          "contourcarpet": [
           {
            "colorbar": {
             "outlinewidth": 0,
             "ticks": ""
            },
            "type": "contourcarpet"
           }
          ],
          "heatmap": [
           {
            "colorbar": {
             "outlinewidth": 0,
             "ticks": ""
            },
            "colorscale": [
             [
              0,
              "#0d0887"
             ],
             [
              0.1111111111111111,
              "#46039f"
             ],
             [
              0.2222222222222222,
              "#7201a8"
             ],
             [
              0.3333333333333333,
              "#9c179e"
             ],
             [
              0.4444444444444444,
              "#bd3786"
             ],
             [
              0.5555555555555556,
              "#d8576b"
             ],
             [
              0.6666666666666666,
              "#ed7953"
             ],
             [
              0.7777777777777778,
              "#fb9f3a"
             ],
             [
              0.8888888888888888,
              "#fdca26"
             ],
             [
              1,
              "#f0f921"
             ]
            ],
            "type": "heatmap"
           }
          ],
          "heatmapgl": [
           {
            "colorbar": {
             "outlinewidth": 0,
             "ticks": ""
            },
            "colorscale": [
             [
              0,
              "#0d0887"
             ],
             [
              0.1111111111111111,
              "#46039f"
             ],
             [
              0.2222222222222222,
              "#7201a8"
             ],
             [
              0.3333333333333333,
              "#9c179e"
             ],
             [
              0.4444444444444444,
              "#bd3786"
             ],
             [
              0.5555555555555556,
              "#d8576b"
             ],
             [
              0.6666666666666666,
              "#ed7953"
             ],
             [
              0.7777777777777778,
              "#fb9f3a"
             ],
             [
              0.8888888888888888,
              "#fdca26"
             ],
             [
              1,
              "#f0f921"
             ]
            ],
            "type": "heatmapgl"
           }
          ],
          "histogram": [
           {
            "marker": {
             "pattern": {
              "fillmode": "overlay",
              "size": 10,
              "solidity": 0.2
             }
            },
            "type": "histogram"
           }
          ],
          "histogram2d": [
           {
            "colorbar": {
             "outlinewidth": 0,
             "ticks": ""
            },
            "colorscale": [
             [
              0,
              "#0d0887"
             ],
             [
              0.1111111111111111,
              "#46039f"
             ],
             [
              0.2222222222222222,
              "#7201a8"
             ],
             [
              0.3333333333333333,
              "#9c179e"
             ],
             [
              0.4444444444444444,
              "#bd3786"
             ],
             [
              0.5555555555555556,
              "#d8576b"
             ],
             [
              0.6666666666666666,
              "#ed7953"
             ],
             [
              0.7777777777777778,
              "#fb9f3a"
             ],
             [
              0.8888888888888888,
              "#fdca26"
             ],
             [
              1,
              "#f0f921"
             ]
            ],
            "type": "histogram2d"
           }
          ],
          "histogram2dcontour": [
           {
            "colorbar": {
             "outlinewidth": 0,
             "ticks": ""
            },
            "colorscale": [
             [
              0,
              "#0d0887"
             ],
             [
              0.1111111111111111,
              "#46039f"
             ],
             [
              0.2222222222222222,
              "#7201a8"
             ],
             [
              0.3333333333333333,
              "#9c179e"
             ],
             [
              0.4444444444444444,
              "#bd3786"
             ],
             [
              0.5555555555555556,
              "#d8576b"
             ],
             [
              0.6666666666666666,
              "#ed7953"
             ],
             [
              0.7777777777777778,
              "#fb9f3a"
             ],
             [
              0.8888888888888888,
              "#fdca26"
             ],
             [
              1,
              "#f0f921"
             ]
            ],
            "type": "histogram2dcontour"
           }
          ],
          "mesh3d": [
           {
            "colorbar": {
             "outlinewidth": 0,
             "ticks": ""
            },
            "type": "mesh3d"
           }
          ],
          "parcoords": [
           {
            "line": {
             "colorbar": {
              "outlinewidth": 0,
              "ticks": ""
             }
            },
            "type": "parcoords"
           }
          ],
          "pie": [
           {
            "automargin": true,
            "type": "pie"
           }
          ],
          "scatter": [
           {
            "fillpattern": {
             "fillmode": "overlay",
             "size": 10,
             "solidity": 0.2
            },
            "type": "scatter"
           }
          ],
          "scatter3d": [
           {
            "line": {
             "colorbar": {
              "outlinewidth": 0,
              "ticks": ""
             }
            },
            "marker": {
             "colorbar": {
              "outlinewidth": 0,
              "ticks": ""
             }
            },
            "type": "scatter3d"
           }
          ],
          "scattercarpet": [
           {
            "marker": {
             "colorbar": {
              "outlinewidth": 0,
              "ticks": ""
             }
            },
            "type": "scattercarpet"
           }
          ],
          "scattergeo": [
           {
            "marker": {
             "colorbar": {
              "outlinewidth": 0,
              "ticks": ""
             }
            },
            "type": "scattergeo"
           }
          ],
          "scattergl": [
           {
            "marker": {
             "colorbar": {
              "outlinewidth": 0,
              "ticks": ""
             }
            },
            "type": "scattergl"
           }
          ],
          "scattermapbox": [
           {
            "marker": {
             "colorbar": {
              "outlinewidth": 0,
              "ticks": ""
             }
            },
            "type": "scattermapbox"
           }
          ],
          "scatterpolar": [
           {
            "marker": {
             "colorbar": {
              "outlinewidth": 0,
              "ticks": ""
             }
            },
            "type": "scatterpolar"
           }
          ],
          "scatterpolargl": [
           {
            "marker": {
             "colorbar": {
              "outlinewidth": 0,
              "ticks": ""
             }
            },
            "type": "scatterpolargl"
           }
          ],
          "scatterternary": [
           {
            "marker": {
             "colorbar": {
              "outlinewidth": 0,
              "ticks": ""
             }
            },
            "type": "scatterternary"
           }
          ],
          "surface": [
           {
            "colorbar": {
             "outlinewidth": 0,
             "ticks": ""
            },
            "colorscale": [
             [
              0,
              "#0d0887"
             ],
             [
              0.1111111111111111,
              "#46039f"
             ],
             [
              0.2222222222222222,
              "#7201a8"
             ],
             [
              0.3333333333333333,
              "#9c179e"
             ],
             [
              0.4444444444444444,
              "#bd3786"
             ],
             [
              0.5555555555555556,
              "#d8576b"
             ],
             [
              0.6666666666666666,
              "#ed7953"
             ],
             [
              0.7777777777777778,
              "#fb9f3a"
             ],
             [
              0.8888888888888888,
              "#fdca26"
             ],
             [
              1,
              "#f0f921"
             ]
            ],
            "type": "surface"
           }
          ],
          "table": [
           {
            "cells": {
             "fill": {
              "color": "#EBF0F8"
             },
             "line": {
              "color": "white"
             }
            },
            "header": {
             "fill": {
              "color": "#C8D4E3"
             },
             "line": {
              "color": "white"
             }
            },
            "type": "table"
           }
          ]
         },
         "layout": {
          "annotationdefaults": {
           "arrowcolor": "#2a3f5f",
           "arrowhead": 0,
           "arrowwidth": 1
          },
          "autotypenumbers": "strict",
          "coloraxis": {
           "colorbar": {
            "outlinewidth": 0,
            "ticks": ""
           }
          },
          "colorscale": {
           "diverging": [
            [
             0,
             "#8e0152"
            ],
            [
             0.1,
             "#c51b7d"
            ],
            [
             0.2,
             "#de77ae"
            ],
            [
             0.3,
             "#f1b6da"
            ],
            [
             0.4,
             "#fde0ef"
            ],
            [
             0.5,
             "#f7f7f7"
            ],
            [
             0.6,
             "#e6f5d0"
            ],
            [
             0.7,
             "#b8e186"
            ],
            [
             0.8,
             "#7fbc41"
            ],
            [
             0.9,
             "#4d9221"
            ],
            [
             1,
             "#276419"
            ]
           ],
           "sequential": [
            [
             0,
             "#0d0887"
            ],
            [
             0.1111111111111111,
             "#46039f"
            ],
            [
             0.2222222222222222,
             "#7201a8"
            ],
            [
             0.3333333333333333,
             "#9c179e"
            ],
            [
             0.4444444444444444,
             "#bd3786"
            ],
            [
             0.5555555555555556,
             "#d8576b"
            ],
            [
             0.6666666666666666,
             "#ed7953"
            ],
            [
             0.7777777777777778,
             "#fb9f3a"
            ],
            [
             0.8888888888888888,
             "#fdca26"
            ],
            [
             1,
             "#f0f921"
            ]
           ],
           "sequentialminus": [
            [
             0,
             "#0d0887"
            ],
            [
             0.1111111111111111,
             "#46039f"
            ],
            [
             0.2222222222222222,
             "#7201a8"
            ],
            [
             0.3333333333333333,
             "#9c179e"
            ],
            [
             0.4444444444444444,
             "#bd3786"
            ],
            [
             0.5555555555555556,
             "#d8576b"
            ],
            [
             0.6666666666666666,
             "#ed7953"
            ],
            [
             0.7777777777777778,
             "#fb9f3a"
            ],
            [
             0.8888888888888888,
             "#fdca26"
            ],
            [
             1,
             "#f0f921"
            ]
           ]
          },
          "colorway": [
           "#636efa",
           "#EF553B",
           "#00cc96",
           "#ab63fa",
           "#FFA15A",
           "#19d3f3",
           "#FF6692",
           "#B6E880",
           "#FF97FF",
           "#FECB52"
          ],
          "font": {
           "color": "#2a3f5f"
          },
          "geo": {
           "bgcolor": "white",
           "lakecolor": "white",
           "landcolor": "#E5ECF6",
           "showlakes": true,
           "showland": true,
           "subunitcolor": "white"
          },
          "hoverlabel": {
           "align": "left"
          },
          "hovermode": "closest",
          "mapbox": {
           "style": "light"
          },
          "paper_bgcolor": "white",
          "plot_bgcolor": "#E5ECF6",
          "polar": {
           "angularaxis": {
            "gridcolor": "white",
            "linecolor": "white",
            "ticks": ""
           },
           "bgcolor": "#E5ECF6",
           "radialaxis": {
            "gridcolor": "white",
            "linecolor": "white",
            "ticks": ""
           }
          },
          "scene": {
           "xaxis": {
            "backgroundcolor": "#E5ECF6",
            "gridcolor": "white",
            "gridwidth": 2,
            "linecolor": "white",
            "showbackground": true,
            "ticks": "",
            "zerolinecolor": "white"
           },
           "yaxis": {
            "backgroundcolor": "#E5ECF6",
            "gridcolor": "white",
            "gridwidth": 2,
            "linecolor": "white",
            "showbackground": true,
            "ticks": "",
            "zerolinecolor": "white"
           },
           "zaxis": {
            "backgroundcolor": "#E5ECF6",
            "gridcolor": "white",
            "gridwidth": 2,
            "linecolor": "white",
            "showbackground": true,
            "ticks": "",
            "zerolinecolor": "white"
           }
          },
          "shapedefaults": {
           "line": {
            "color": "#2a3f5f"
           }
          },
          "ternary": {
           "aaxis": {
            "gridcolor": "white",
            "linecolor": "white",
            "ticks": ""
           },
           "baxis": {
            "gridcolor": "white",
            "linecolor": "white",
            "ticks": ""
           },
           "bgcolor": "#E5ECF6",
           "caxis": {
            "gridcolor": "white",
            "linecolor": "white",
            "ticks": ""
           }
          },
          "title": {
           "x": 0.05
          },
          "xaxis": {
           "automargin": true,
           "gridcolor": "white",
           "linecolor": "white",
           "ticks": "",
           "title": {
            "standoff": 15
           },
           "zerolinecolor": "white",
           "zerolinewidth": 2
          },
          "yaxis": {
           "automargin": true,
           "gridcolor": "white",
           "linecolor": "white",
           "ticks": "",
           "title": {
            "standoff": 15
           },
           "zerolinecolor": "white",
           "zerolinewidth": 2
          }
         }
        },
        "title": {
         "text": "UMAP Improvement for each dataset (best UMAP over no UMAP, per dataset).<br>Error bars comes from different estimators"
        },
        "width": 800,
        "xaxis": {
         "title": {
          "text": "Dataset"
         }
        },
        "yaxis": {
         "title": {
          "text": "Accuracy Improvement over no UMAP"
         }
        }
       }
      }
     },
     "metadata": {},
     "output_type": "display_data"
    },
    {
     "data": {
      "application/vnd.plotly.v1+json": {
       "config": {
        "plotlyServerURL": "https://plot.ly"
       },
       "data": [
        {
         "marker": {
          "color": "#636EFA"
         },
         "name": "KNN-5",
         "type": "bar",
         "x": [
          "kuhar",
          "motionsense",
          "realworld",
          "uci",
          "wisdm"
         ],
         "y": [
          0.9453125000000001,
          1.032,
          0.9791666666666666,
          0.9793814432989691,
          0.9901960784313725
         ]
        },
        {
         "marker": {
          "color": "#00CC96"
         },
         "name": "SVM-rbf-C1.0",
         "type": "bar",
         "x": [
          "kuhar",
          "motionsense",
          "realworld",
          "uci",
          "wisdm"
         ],
         "y": [
          1.0865384615384615,
          1.0336134453781511,
          0.8799999999999999,
          0.968421052631579,
          1.0795454545454548
         ]
        },
        {
         "marker": {
          "color": "#AB63FA"
         },
         "name": "randomforest-100",
         "type": "bar",
         "x": [
          "kuhar",
          "motionsense",
          "realworld",
          "uci",
          "wisdm"
         ],
         "y": [
          1.010896898575021,
          0.9538346984363367,
          0.8998988877654196,
          0.8838060384263497,
          1.0263959390862945
         ]
        }
       ],
       "layout": {
        "height": 600,
        "legend": {
         "title": {
          "text": "Estimator"
         }
        },
        "shapes": [
         {
          "line": {
           "color": "red",
           "dash": "dash"
          },
          "type": "line",
          "x0": 0,
          "x1": 1,
          "xref": "x domain",
          "y0": 1,
          "y1": 1,
          "yref": "y"
         }
        ],
        "template": {
         "data": {
          "bar": [
           {
            "error_x": {
             "color": "#2a3f5f"
            },
            "error_y": {
             "color": "#2a3f5f"
            },
            "marker": {
             "line": {
              "color": "#E5ECF6",
              "width": 0.5
             },
             "pattern": {
              "fillmode": "overlay",
              "size": 10,
              "solidity": 0.2
             }
            },
            "type": "bar"
           }
          ],
          "barpolar": [
           {
            "marker": {
             "line": {
              "color": "#E5ECF6",
              "width": 0.5
             },
             "pattern": {
              "fillmode": "overlay",
              "size": 10,
              "solidity": 0.2
             }
            },
            "type": "barpolar"
           }
          ],
          "carpet": [
           {
            "aaxis": {
             "endlinecolor": "#2a3f5f",
             "gridcolor": "white",
             "linecolor": "white",
             "minorgridcolor": "white",
             "startlinecolor": "#2a3f5f"
            },
            "baxis": {
             "endlinecolor": "#2a3f5f",
             "gridcolor": "white",
             "linecolor": "white",
             "minorgridcolor": "white",
             "startlinecolor": "#2a3f5f"
            },
            "type": "carpet"
           }
          ],
          "choropleth": [
           {
            "colorbar": {
             "outlinewidth": 0,
             "ticks": ""
            },
            "type": "choropleth"
           }
          ],
          "contour": [
           {
            "colorbar": {
             "outlinewidth": 0,
             "ticks": ""
            },
            "colorscale": [
             [
              0,
              "#0d0887"
             ],
             [
              0.1111111111111111,
              "#46039f"
             ],
             [
              0.2222222222222222,
              "#7201a8"
             ],
             [
              0.3333333333333333,
              "#9c179e"
             ],
             [
              0.4444444444444444,
              "#bd3786"
             ],
             [
              0.5555555555555556,
              "#d8576b"
             ],
             [
              0.6666666666666666,
              "#ed7953"
             ],
             [
              0.7777777777777778,
              "#fb9f3a"
             ],
             [
              0.8888888888888888,
              "#fdca26"
             ],
             [
              1,
              "#f0f921"
             ]
            ],
            "type": "contour"
           }
          ],
          "contourcarpet": [
           {
            "colorbar": {
             "outlinewidth": 0,
             "ticks": ""
            },
            "type": "contourcarpet"
           }
          ],
          "heatmap": [
           {
            "colorbar": {
             "outlinewidth": 0,
             "ticks": ""
            },
            "colorscale": [
             [
              0,
              "#0d0887"
             ],
             [
              0.1111111111111111,
              "#46039f"
             ],
             [
              0.2222222222222222,
              "#7201a8"
             ],
             [
              0.3333333333333333,
              "#9c179e"
             ],
             [
              0.4444444444444444,
              "#bd3786"
             ],
             [
              0.5555555555555556,
              "#d8576b"
             ],
             [
              0.6666666666666666,
              "#ed7953"
             ],
             [
              0.7777777777777778,
              "#fb9f3a"
             ],
             [
              0.8888888888888888,
              "#fdca26"
             ],
             [
              1,
              "#f0f921"
             ]
            ],
            "type": "heatmap"
           }
          ],
          "heatmapgl": [
           {
            "colorbar": {
             "outlinewidth": 0,
             "ticks": ""
            },
            "colorscale": [
             [
              0,
              "#0d0887"
             ],
             [
              0.1111111111111111,
              "#46039f"
             ],
             [
              0.2222222222222222,
              "#7201a8"
             ],
             [
              0.3333333333333333,
              "#9c179e"
             ],
             [
              0.4444444444444444,
              "#bd3786"
             ],
             [
              0.5555555555555556,
              "#d8576b"
             ],
             [
              0.6666666666666666,
              "#ed7953"
             ],
             [
              0.7777777777777778,
              "#fb9f3a"
             ],
             [
              0.8888888888888888,
              "#fdca26"
             ],
             [
              1,
              "#f0f921"
             ]
            ],
            "type": "heatmapgl"
           }
          ],
          "histogram": [
           {
            "marker": {
             "pattern": {
              "fillmode": "overlay",
              "size": 10,
              "solidity": 0.2
             }
            },
            "type": "histogram"
           }
          ],
          "histogram2d": [
           {
            "colorbar": {
             "outlinewidth": 0,
             "ticks": ""
            },
            "colorscale": [
             [
              0,
              "#0d0887"
             ],
             [
              0.1111111111111111,
              "#46039f"
             ],
             [
              0.2222222222222222,
              "#7201a8"
             ],
             [
              0.3333333333333333,
              "#9c179e"
             ],
             [
              0.4444444444444444,
              "#bd3786"
             ],
             [
              0.5555555555555556,
              "#d8576b"
             ],
             [
              0.6666666666666666,
              "#ed7953"
             ],
             [
              0.7777777777777778,
              "#fb9f3a"
             ],
             [
              0.8888888888888888,
              "#fdca26"
             ],
             [
              1,
              "#f0f921"
             ]
            ],
            "type": "histogram2d"
           }
          ],
          "histogram2dcontour": [
           {
            "colorbar": {
             "outlinewidth": 0,
             "ticks": ""
            },
            "colorscale": [
             [
              0,
              "#0d0887"
             ],
             [
              0.1111111111111111,
              "#46039f"
             ],
             [
              0.2222222222222222,
              "#7201a8"
             ],
             [
              0.3333333333333333,
              "#9c179e"
             ],
             [
              0.4444444444444444,
              "#bd3786"
             ],
             [
              0.5555555555555556,
              "#d8576b"
             ],
             [
              0.6666666666666666,
              "#ed7953"
             ],
             [
              0.7777777777777778,
              "#fb9f3a"
             ],
             [
              0.8888888888888888,
              "#fdca26"
             ],
             [
              1,
              "#f0f921"
             ]
            ],
            "type": "histogram2dcontour"
           }
          ],
          "mesh3d": [
           {
            "colorbar": {
             "outlinewidth": 0,
             "ticks": ""
            },
            "type": "mesh3d"
           }
          ],
          "parcoords": [
           {
            "line": {
             "colorbar": {
              "outlinewidth": 0,
              "ticks": ""
             }
            },
            "type": "parcoords"
           }
          ],
          "pie": [
           {
            "automargin": true,
            "type": "pie"
           }
          ],
          "scatter": [
           {
            "fillpattern": {
             "fillmode": "overlay",
             "size": 10,
             "solidity": 0.2
            },
            "type": "scatter"
           }
          ],
          "scatter3d": [
           {
            "line": {
             "colorbar": {
              "outlinewidth": 0,
              "ticks": ""
             }
            },
            "marker": {
             "colorbar": {
              "outlinewidth": 0,
              "ticks": ""
             }
            },
            "type": "scatter3d"
           }
          ],
          "scattercarpet": [
           {
            "marker": {
             "colorbar": {
              "outlinewidth": 0,
              "ticks": ""
             }
            },
            "type": "scattercarpet"
           }
          ],
          "scattergeo": [
           {
            "marker": {
             "colorbar": {
              "outlinewidth": 0,
              "ticks": ""
             }
            },
            "type": "scattergeo"
           }
          ],
          "scattergl": [
           {
            "marker": {
             "colorbar": {
              "outlinewidth": 0,
              "ticks": ""
             }
            },
            "type": "scattergl"
           }
          ],
          "scattermapbox": [
           {
            "marker": {
             "colorbar": {
              "outlinewidth": 0,
              "ticks": ""
             }
            },
            "type": "scattermapbox"
           }
          ],
          "scatterpolar": [
           {
            "marker": {
             "colorbar": {
              "outlinewidth": 0,
              "ticks": ""
             }
            },
            "type": "scatterpolar"
           }
          ],
          "scatterpolargl": [
           {
            "marker": {
             "colorbar": {
              "outlinewidth": 0,
              "ticks": ""
             }
            },
            "type": "scatterpolargl"
           }
          ],
          "scatterternary": [
           {
            "marker": {
             "colorbar": {
              "outlinewidth": 0,
              "ticks": ""
             }
            },
            "type": "scatterternary"
           }
          ],
          "surface": [
           {
            "colorbar": {
             "outlinewidth": 0,
             "ticks": ""
            },
            "colorscale": [
             [
              0,
              "#0d0887"
             ],
             [
              0.1111111111111111,
              "#46039f"
             ],
             [
              0.2222222222222222,
              "#7201a8"
             ],
             [
              0.3333333333333333,
              "#9c179e"
             ],
             [
              0.4444444444444444,
              "#bd3786"
             ],
             [
              0.5555555555555556,
              "#d8576b"
             ],
             [
              0.6666666666666666,
              "#ed7953"
             ],
             [
              0.7777777777777778,
              "#fb9f3a"
             ],
             [
              0.8888888888888888,
              "#fdca26"
             ],
             [
              1,
              "#f0f921"
             ]
            ],
            "type": "surface"
           }
          ],
          "table": [
           {
            "cells": {
             "fill": {
              "color": "#EBF0F8"
             },
             "line": {
              "color": "white"
             }
            },
            "header": {
             "fill": {
              "color": "#C8D4E3"
             },
             "line": {
              "color": "white"
             }
            },
            "type": "table"
           }
          ]
         },
         "layout": {
          "annotationdefaults": {
           "arrowcolor": "#2a3f5f",
           "arrowhead": 0,
           "arrowwidth": 1
          },
          "autotypenumbers": "strict",
          "coloraxis": {
           "colorbar": {
            "outlinewidth": 0,
            "ticks": ""
           }
          },
          "colorscale": {
           "diverging": [
            [
             0,
             "#8e0152"
            ],
            [
             0.1,
             "#c51b7d"
            ],
            [
             0.2,
             "#de77ae"
            ],
            [
             0.3,
             "#f1b6da"
            ],
            [
             0.4,
             "#fde0ef"
            ],
            [
             0.5,
             "#f7f7f7"
            ],
            [
             0.6,
             "#e6f5d0"
            ],
            [
             0.7,
             "#b8e186"
            ],
            [
             0.8,
             "#7fbc41"
            ],
            [
             0.9,
             "#4d9221"
            ],
            [
             1,
             "#276419"
            ]
           ],
           "sequential": [
            [
             0,
             "#0d0887"
            ],
            [
             0.1111111111111111,
             "#46039f"
            ],
            [
             0.2222222222222222,
             "#7201a8"
            ],
            [
             0.3333333333333333,
             "#9c179e"
            ],
            [
             0.4444444444444444,
             "#bd3786"
            ],
            [
             0.5555555555555556,
             "#d8576b"
            ],
            [
             0.6666666666666666,
             "#ed7953"
            ],
            [
             0.7777777777777778,
             "#fb9f3a"
            ],
            [
             0.8888888888888888,
             "#fdca26"
            ],
            [
             1,
             "#f0f921"
            ]
           ],
           "sequentialminus": [
            [
             0,
             "#0d0887"
            ],
            [
             0.1111111111111111,
             "#46039f"
            ],
            [
             0.2222222222222222,
             "#7201a8"
            ],
            [
             0.3333333333333333,
             "#9c179e"
            ],
            [
             0.4444444444444444,
             "#bd3786"
            ],
            [
             0.5555555555555556,
             "#d8576b"
            ],
            [
             0.6666666666666666,
             "#ed7953"
            ],
            [
             0.7777777777777778,
             "#fb9f3a"
            ],
            [
             0.8888888888888888,
             "#fdca26"
            ],
            [
             1,
             "#f0f921"
            ]
           ]
          },
          "colorway": [
           "#636efa",
           "#EF553B",
           "#00cc96",
           "#ab63fa",
           "#FFA15A",
           "#19d3f3",
           "#FF6692",
           "#B6E880",
           "#FF97FF",
           "#FECB52"
          ],
          "font": {
           "color": "#2a3f5f"
          },
          "geo": {
           "bgcolor": "white",
           "lakecolor": "white",
           "landcolor": "#E5ECF6",
           "showlakes": true,
           "showland": true,
           "subunitcolor": "white"
          },
          "hoverlabel": {
           "align": "left"
          },
          "hovermode": "closest",
          "mapbox": {
           "style": "light"
          },
          "paper_bgcolor": "white",
          "plot_bgcolor": "#E5ECF6",
          "polar": {
           "angularaxis": {
            "gridcolor": "white",
            "linecolor": "white",
            "ticks": ""
           },
           "bgcolor": "#E5ECF6",
           "radialaxis": {
            "gridcolor": "white",
            "linecolor": "white",
            "ticks": ""
           }
          },
          "scene": {
           "xaxis": {
            "backgroundcolor": "#E5ECF6",
            "gridcolor": "white",
            "gridwidth": 2,
            "linecolor": "white",
            "showbackground": true,
            "ticks": "",
            "zerolinecolor": "white"
           },
           "yaxis": {
            "backgroundcolor": "#E5ECF6",
            "gridcolor": "white",
            "gridwidth": 2,
            "linecolor": "white",
            "showbackground": true,
            "ticks": "",
            "zerolinecolor": "white"
           },
           "zaxis": {
            "backgroundcolor": "#E5ECF6",
            "gridcolor": "white",
            "gridwidth": 2,
            "linecolor": "white",
            "showbackground": true,
            "ticks": "",
            "zerolinecolor": "white"
           }
          },
          "shapedefaults": {
           "line": {
            "color": "#2a3f5f"
           }
          },
          "ternary": {
           "aaxis": {
            "gridcolor": "white",
            "linecolor": "white",
            "ticks": ""
           },
           "baxis": {
            "gridcolor": "white",
            "linecolor": "white",
            "ticks": ""
           },
           "bgcolor": "#E5ECF6",
           "caxis": {
            "gridcolor": "white",
            "linecolor": "white",
            "ticks": ""
           }
          },
          "title": {
           "x": 0.05
          },
          "xaxis": {
           "automargin": true,
           "gridcolor": "white",
           "linecolor": "white",
           "ticks": "",
           "title": {
            "standoff": 15
           },
           "zerolinecolor": "white",
           "zerolinewidth": 2
          },
          "yaxis": {
           "automargin": true,
           "gridcolor": "white",
           "linecolor": "white",
           "ticks": "",
           "title": {
            "standoff": 15
           },
           "zerolinecolor": "white",
           "zerolinewidth": 2
          }
         }
        },
        "title": {
         "text": "UMAP Improvement for each dataset (best UMAP over no UMAP, per dataset)"
        },
        "width": 800,
        "xaxis": {
         "title": {
          "text": "Dataset"
         }
        },
        "yaxis": {
         "title": {
          "text": "Accuracy Improvement over no UMAP"
         }
        }
       }
      }
     },
     "metadata": {},
     "output_type": "display_data"
    }
   ],
   "source": [
    "def get_umap_improvement_over_no_umap(df, new_column_name: str = \"umap improvement\"):\n",
    "    experiment_uniq = [c for c in unique_exp_columns if c not in [\"reducer_datasets\", \"umap components\"]]\n",
    "\n",
    "    zero_umap = {}\n",
    "    for _, subdf in df[df[\"umap components\"] == 0].iterrows():\n",
    "        zero_umap[tuple(subdf[experiment_uniq].values.tolist())] = subdf[\"accuracy (mean)\"]\n",
    "\n",
    "    df[new_column_name] = df.apply(lambda x: x[\"accuracy (mean)\"] / zero_umap.get(tuple(x[experiment_uniq].values.tolist()), np.nan), axis=1)\n",
    "    return df\n",
    "\n",
    "def filter_max_set_only(df, column: str = \"umap improvement\"):\n",
    "    experiment_uniq = [c for c in unique_exp_columns if c not in [\"reducer_datasets\", \"umap components\"]]\n",
    "    df = df.dropna(subset=[column], inplace=False)\n",
    "    df = df[df[\"umap components\"] > 0]\n",
    "    lines = [subdf[subdf[column] == subdf[column].max()].iloc[0] for _, subdf in df.groupby(experiment_uniq)]\n",
    "    df = pd.DataFrame(lines)\n",
    "    return df\n",
    "\n",
    "df = results.copy()\n",
    "df = filter_domain_fft_only(df)\n",
    "df = filter_features_all(df)\n",
    "df = filter_reducer_over_all(df)\n",
    "df = filter_scaler_none(df)\n",
    "df = filter_view_standardized_intra(df)\n",
    "print(results.shape)\n",
    "df = filter_only_reducer_dataset_equals_train_dataset_or_no_reducer(df)\n",
    "df = get_umap_improvement_over_no_umap(df)\n",
    "df = filter_max_set_only(df)\n",
    "\n",
    "fig = chart_bar_with_error_bars(df, improvement_col=\"umap improvement\", groupby=\"train_datasets\")\n",
    "fig.add_hline(y=1.0, line_dash=\"dash\", line_color=\"magenta\")\n",
    "fig.update_layout(\n",
    "    title=\"UMAP Improvement for each dataset (best UMAP over no UMAP, per dataset).<br>Error bars comes from different estimators\",\n",
    "    xaxis_title=\"Dataset\",\n",
    "    yaxis_title=\"Accuracy Improvement over no UMAP\",\n",
    "    width=800,\n",
    "    height=600\n",
    ")\n",
    "fig.show()\n",
    "\n",
    "fig = chart_bar_with_side_by_side(df, improvement_col=\"umap improvement\", groupby=\"estimator\", inner_group=\"train_datasets\")\n",
    "fig.add_hline(y=1.0, line_dash=\"dash\", line_color=\"red\")\n",
    "fig.update_layout(\n",
    "    title=\"UMAP Improvement for each dataset (best UMAP over no UMAP, per dataset)\",\n",
    "    xaxis_title=\"Dataset\",\n",
    "    yaxis_title=\"Accuracy Improvement over no UMAP\",\n",
    "    legend_title=\"Estimator\",\n",
    "    width=800,\n",
    "    height=600\n",
    ")\n",
    "fig.show()"
   ]
  },
  {
   "attachments": {},
   "cell_type": "markdown",
   "metadata": {},
   "source": [
    "### b) Qual é o impacto da dimensionalidade alvo do UMAP no desempenho dos modelos de ML?\n",
    "\n",
    "b .1) UMAP vs No-UMAP"
   ]
  },
  {
   "cell_type": "code",
   "execution_count": 11,
   "metadata": {},
   "outputs": [
    {
     "data": {
      "application/vnd.plotly.v1+json": {
       "config": {
        "plotlyServerURL": "https://plot.ly"
       },
       "data": [
        {
         "legendgroup": "KNN-5",
         "marker": {
          "color": "#00CC96",
          "size": 8,
          "symbol": "x"
         },
         "mode": "lines+markers",
         "name": "KNN-5 kuhar",
         "type": "scatter",
         "x": [
          2,
          3,
          4,
          5,
          6,
          7,
          8,
          9,
          10,
          15,
          20
         ],
         "y": [
          0.8828124999999999,
          0.9218749999999999,
          0.9218749999999999,
          0.9453125000000001,
          0.9453125000000001,
          0.9453125000000001,
          0.9453125000000001,
          0.9453125000000001,
          0.9453125000000001,
          0.9453125000000001,
          0.9453125000000001
         ]
        },
        {
         "legendgroup": "KNN-5",
         "marker": {
          "color": "#00CC96",
          "size": 8,
          "symbol": "diamond"
         },
         "mode": "lines+markers",
         "name": "KNN-5 motionsense",
         "type": "scatter",
         "x": [
          2,
          3,
          4,
          5,
          6,
          7,
          8,
          9,
          10,
          15,
          20
         ],
         "y": [
          0.9759999999999999,
          1.008,
          1.008,
          1.032,
          1.032,
          1.032,
          1.032,
          1.032,
          1.032,
          1.032,
          1.032
         ]
        },
        {
         "legendgroup": "KNN-5",
         "marker": {
          "color": "#00CC96",
          "size": 8,
          "symbol": "triangle-up"
         },
         "mode": "lines+markers",
         "name": "KNN-5 realworld",
         "type": "scatter",
         "x": [
          2,
          3,
          4,
          5,
          6,
          7,
          8,
          9,
          10,
          15,
          20
         ],
         "y": [
          0.9270833333333333,
          0.9270833333333333,
          0.9270833333333333,
          0.9270833333333333,
          0.9270833333333333,
          0.9270833333333333,
          0.9270833333333333,
          0.9270833333333333,
          0.9791666666666666,
          0.9791666666666666,
          0.9791666666666666
         ]
        },
        {
         "legendgroup": "KNN-5",
         "marker": {
          "color": "#00CC96",
          "size": 8,
          "symbol": "circle"
         },
         "mode": "lines+markers",
         "name": "KNN-5 uci",
         "type": "scatter",
         "x": [
          2,
          3,
          4,
          5,
          6,
          7,
          8,
          9,
          10,
          15,
          20
         ],
         "y": [
          0.9072164948453607,
          0.9072164948453607,
          0.9278350515463918,
          0.9587628865979383,
          0.9587628865979383,
          0.9587628865979383,
          0.9587628865979383,
          0.9793814432989691,
          0.9793814432989691,
          0.9793814432989691,
          0.9793814432989691
         ]
        },
        {
         "legendgroup": "KNN-5",
         "marker": {
          "color": "#00CC96",
          "size": 8,
          "symbol": "square"
         },
         "mode": "lines+markers",
         "name": "KNN-5 wisdm",
         "type": "scatter",
         "x": [
          2,
          3,
          4,
          5,
          6,
          7,
          8,
          9,
          10,
          15,
          20
         ],
         "y": [
          0.9019607843137256,
          0.9901960784313725,
          0.9901960784313725,
          0.9901960784313725,
          0.9901960784313725,
          0.9901960784313725,
          0.9901960784313725,
          0.9901960784313725,
          0.9901960784313725,
          0.9901960784313725,
          0.9901960784313725
         ]
        },
        {
         "legendgroup": "SVM-rbf-C1.0",
         "marker": {
          "color": "#AB63FA",
          "size": 8,
          "symbol": "x"
         },
         "mode": "lines+markers",
         "name": "SVM-rbf-C1.0 kuhar",
         "type": "scatter",
         "x": [
          2,
          3,
          4,
          5,
          6,
          7,
          8,
          9,
          10,
          15,
          20
         ],
         "y": [
          1.0865384615384615,
          1.0865384615384615,
          1.0865384615384615,
          1.0865384615384615,
          1.0865384615384615,
          1.0865384615384615,
          1.0865384615384615,
          1.0865384615384615,
          1.0865384615384615,
          1.0865384615384615,
          1.0865384615384615
         ]
        },
        {
         "legendgroup": "SVM-rbf-C1.0",
         "marker": {
          "color": "#AB63FA",
          "size": 8,
          "symbol": "diamond"
         },
         "mode": "lines+markers",
         "name": "SVM-rbf-C1.0 motionsense",
         "type": "scatter",
         "x": [
          2,
          3,
          4,
          5,
          6,
          7,
          8,
          9,
          10,
          15,
          20
         ],
         "y": [
          1,
          1.0084033613445378,
          1.0168067226890758,
          1.0252100840336131,
          1.0336134453781511,
          1.0336134453781511,
          1.0336134453781511,
          1.0336134453781511,
          1.0336134453781511,
          1.0336134453781511,
          1.0336134453781511
         ]
        },
        {
         "legendgroup": "SVM-rbf-C1.0",
         "marker": {
          "color": "#AB63FA",
          "size": 8,
          "symbol": "triangle-up"
         },
         "mode": "lines+markers",
         "name": "SVM-rbf-C1.0 realworld",
         "type": "scatter",
         "x": [
          2,
          3,
          4,
          5,
          6,
          7,
          8,
          9,
          10,
          15,
          20
         ],
         "y": [
          0.8,
          0.8700000000000001,
          0.8700000000000001,
          0.8700000000000001,
          0.8700000000000001,
          0.8700000000000001,
          0.8700000000000001,
          0.8700000000000001,
          0.8799999999999999,
          0.8799999999999999,
          0.8799999999999999
         ]
        },
        {
         "legendgroup": "SVM-rbf-C1.0",
         "marker": {
          "color": "#AB63FA",
          "size": 8,
          "symbol": "circle"
         },
         "mode": "lines+markers",
         "name": "SVM-rbf-C1.0 uci",
         "type": "scatter",
         "x": [
          2,
          3,
          4,
          5,
          6,
          7,
          8,
          9,
          10,
          15,
          20
         ],
         "y": [
          0.968421052631579,
          0.968421052631579,
          0.968421052631579,
          0.968421052631579,
          0.968421052631579,
          0.968421052631579,
          0.968421052631579,
          0.968421052631579,
          0.968421052631579,
          0.968421052631579,
          0.968421052631579
         ]
        },
        {
         "legendgroup": "SVM-rbf-C1.0",
         "marker": {
          "color": "#AB63FA",
          "size": 8,
          "symbol": "square"
         },
         "mode": "lines+markers",
         "name": "SVM-rbf-C1.0 wisdm",
         "type": "scatter",
         "x": [
          2,
          3,
          4,
          5,
          6,
          7,
          8,
          9,
          10,
          15,
          20
         ],
         "y": [
          1.0454545454545456,
          1.0454545454545456,
          1.056818181818182,
          1.056818181818182,
          1.0795454545454548,
          1.0795454545454548,
          1.0795454545454548,
          1.0795454545454548,
          1.0795454545454548,
          1.0795454545454548,
          1.0795454545454548
         ]
        },
        {
         "legendgroup": "randomforest-100",
         "marker": {
          "color": "#636EFA",
          "size": 8,
          "symbol": "x"
         },
         "mode": "lines+markers",
         "name": "randomforest-100 kuhar",
         "type": "scatter",
         "x": [
          2,
          3,
          4,
          5,
          6,
          7,
          8,
          9,
          10,
          15,
          20
         ],
         "y": [
          0.9463537300922047,
          0.9941324392288349,
          0.9941324392288349,
          1.0100586756077117,
          1.0100586756077117,
          1.0100586756077117,
          1.0100586756077117,
          1.0100586756077117,
          1.010896898575021,
          1.010896898575021,
          1.010896898575021
         ]
        },
        {
         "legendgroup": "randomforest-100",
         "marker": {
          "color": "#636EFA",
          "size": 8,
          "symbol": "diamond"
         },
         "mode": "lines+markers",
         "name": "randomforest-100 motionsense",
         "type": "scatter",
         "x": [
          2,
          3,
          4,
          5,
          6,
          7,
          8,
          9,
          10,
          15,
          20
         ],
         "y": [
          0.915860014892033,
          0.9508562918838422,
          0.9508562918838422,
          0.9508562918838422,
          0.9508562918838422,
          0.9508562918838422,
          0.9508562918838422,
          0.9508562918838422,
          0.9538346984363367,
          0.9538346984363367,
          0.9538346984363367
         ]
        },
        {
         "legendgroup": "randomforest-100",
         "marker": {
          "color": "#636EFA",
          "size": 8,
          "symbol": "triangle-up"
         },
         "mode": "lines+markers",
         "name": "randomforest-100 realworld",
         "type": "scatter",
         "x": [
          2,
          3,
          4,
          5,
          6,
          7,
          8,
          9,
          10,
          15,
          20
         ],
         "y": [
          0.7522750252780587,
          0.8736097067745197,
          0.8907987866531851,
          0.8907987866531851,
          0.8998988877654196,
          0.8998988877654196,
          0.8998988877654196,
          0.8998988877654196,
          0.8998988877654196,
          0.8998988877654196,
          0.8998988877654196
         ]
        },
        {
         "legendgroup": "randomforest-100",
         "marker": {
          "color": "#636EFA",
          "size": 8,
          "symbol": "circle"
         },
         "mode": "lines+markers",
         "name": "randomforest-100 uci",
         "type": "scatter",
         "x": [
          2,
          3,
          4,
          5,
          6,
          7,
          8,
          9,
          10,
          15,
          20
         ],
         "y": [
          0.8353156450137238,
          0.8353156450137238,
          0.8353156450137238,
          0.8682525160109792,
          0.8682525160109792,
          0.8682525160109792,
          0.8682525160109792,
          0.8682525160109792,
          0.8838060384263497,
          0.8838060384263497,
          0.8838060384263497
         ]
        },
        {
         "legendgroup": "randomforest-100",
         "marker": {
          "color": "#636EFA",
          "size": 8,
          "symbol": "square"
         },
         "mode": "lines+markers",
         "name": "randomforest-100 wisdm",
         "type": "scatter",
         "x": [
          2,
          3,
          4,
          5,
          6,
          7,
          8,
          9,
          10,
          15,
          20
         ],
         "y": [
          0.9644670050761424,
          0.9868020304568529,
          1.0213197969543149,
          1.0213197969543149,
          1.0213197969543149,
          1.0253807106598984,
          1.0253807106598984,
          1.0253807106598984,
          1.0263959390862945,
          1.0263959390862945,
          1.0263959390862945
         ]
        }
       ],
       "layout": {
        "height": 600,
        "legend": {
         "title": {
          "text": "Estimator"
         }
        },
        "template": {
         "data": {
          "bar": [
           {
            "error_x": {
             "color": "#2a3f5f"
            },
            "error_y": {
             "color": "#2a3f5f"
            },
            "marker": {
             "line": {
              "color": "#E5ECF6",
              "width": 0.5
             },
             "pattern": {
              "fillmode": "overlay",
              "size": 10,
              "solidity": 0.2
             }
            },
            "type": "bar"
           }
          ],
          "barpolar": [
           {
            "marker": {
             "line": {
              "color": "#E5ECF6",
              "width": 0.5
             },
             "pattern": {
              "fillmode": "overlay",
              "size": 10,
              "solidity": 0.2
             }
            },
            "type": "barpolar"
           }
          ],
          "carpet": [
           {
            "aaxis": {
             "endlinecolor": "#2a3f5f",
             "gridcolor": "white",
             "linecolor": "white",
             "minorgridcolor": "white",
             "startlinecolor": "#2a3f5f"
            },
            "baxis": {
             "endlinecolor": "#2a3f5f",
             "gridcolor": "white",
             "linecolor": "white",
             "minorgridcolor": "white",
             "startlinecolor": "#2a3f5f"
            },
            "type": "carpet"
           }
          ],
          "choropleth": [
           {
            "colorbar": {
             "outlinewidth": 0,
             "ticks": ""
            },
            "type": "choropleth"
           }
          ],
          "contour": [
           {
            "colorbar": {
             "outlinewidth": 0,
             "ticks": ""
            },
            "colorscale": [
             [
              0,
              "#0d0887"
             ],
             [
              0.1111111111111111,
              "#46039f"
             ],
             [
              0.2222222222222222,
              "#7201a8"
             ],
             [
              0.3333333333333333,
              "#9c179e"
             ],
             [
              0.4444444444444444,
              "#bd3786"
             ],
             [
              0.5555555555555556,
              "#d8576b"
             ],
             [
              0.6666666666666666,
              "#ed7953"
             ],
             [
              0.7777777777777778,
              "#fb9f3a"
             ],
             [
              0.8888888888888888,
              "#fdca26"
             ],
             [
              1,
              "#f0f921"
             ]
            ],
            "type": "contour"
           }
          ],
          "contourcarpet": [
           {
            "colorbar": {
             "outlinewidth": 0,
             "ticks": ""
            },
            "type": "contourcarpet"
           }
          ],
          "heatmap": [
           {
            "colorbar": {
             "outlinewidth": 0,
             "ticks": ""
            },
            "colorscale": [
             [
              0,
              "#0d0887"
             ],
             [
              0.1111111111111111,
              "#46039f"
             ],
             [
              0.2222222222222222,
              "#7201a8"
             ],
             [
              0.3333333333333333,
              "#9c179e"
             ],
             [
              0.4444444444444444,
              "#bd3786"
             ],
             [
              0.5555555555555556,
              "#d8576b"
             ],
             [
              0.6666666666666666,
              "#ed7953"
             ],
             [
              0.7777777777777778,
              "#fb9f3a"
             ],
             [
              0.8888888888888888,
              "#fdca26"
             ],
             [
              1,
              "#f0f921"
             ]
            ],
            "type": "heatmap"
           }
          ],
          "heatmapgl": [
           {
            "colorbar": {
             "outlinewidth": 0,
             "ticks": ""
            },
            "colorscale": [
             [
              0,
              "#0d0887"
             ],
             [
              0.1111111111111111,
              "#46039f"
             ],
             [
              0.2222222222222222,
              "#7201a8"
             ],
             [
              0.3333333333333333,
              "#9c179e"
             ],
             [
              0.4444444444444444,
              "#bd3786"
             ],
             [
              0.5555555555555556,
              "#d8576b"
             ],
             [
              0.6666666666666666,
              "#ed7953"
             ],
             [
              0.7777777777777778,
              "#fb9f3a"
             ],
             [
              0.8888888888888888,
              "#fdca26"
             ],
             [
              1,
              "#f0f921"
             ]
            ],
            "type": "heatmapgl"
           }
          ],
          "histogram": [
           {
            "marker": {
             "pattern": {
              "fillmode": "overlay",
              "size": 10,
              "solidity": 0.2
             }
            },
            "type": "histogram"
           }
          ],
          "histogram2d": [
           {
            "colorbar": {
             "outlinewidth": 0,
             "ticks": ""
            },
            "colorscale": [
             [
              0,
              "#0d0887"
             ],
             [
              0.1111111111111111,
              "#46039f"
             ],
             [
              0.2222222222222222,
              "#7201a8"
             ],
             [
              0.3333333333333333,
              "#9c179e"
             ],
             [
              0.4444444444444444,
              "#bd3786"
             ],
             [
              0.5555555555555556,
              "#d8576b"
             ],
             [
              0.6666666666666666,
              "#ed7953"
             ],
             [
              0.7777777777777778,
              "#fb9f3a"
             ],
             [
              0.8888888888888888,
              "#fdca26"
             ],
             [
              1,
              "#f0f921"
             ]
            ],
            "type": "histogram2d"
           }
          ],
          "histogram2dcontour": [
           {
            "colorbar": {
             "outlinewidth": 0,
             "ticks": ""
            },
            "colorscale": [
             [
              0,
              "#0d0887"
             ],
             [
              0.1111111111111111,
              "#46039f"
             ],
             [
              0.2222222222222222,
              "#7201a8"
             ],
             [
              0.3333333333333333,
              "#9c179e"
             ],
             [
              0.4444444444444444,
              "#bd3786"
             ],
             [
              0.5555555555555556,
              "#d8576b"
             ],
             [
              0.6666666666666666,
              "#ed7953"
             ],
             [
              0.7777777777777778,
              "#fb9f3a"
             ],
             [
              0.8888888888888888,
              "#fdca26"
             ],
             [
              1,
              "#f0f921"
             ]
            ],
            "type": "histogram2dcontour"
           }
          ],
          "mesh3d": [
           {
            "colorbar": {
             "outlinewidth": 0,
             "ticks": ""
            },
            "type": "mesh3d"
           }
          ],
          "parcoords": [
           {
            "line": {
             "colorbar": {
              "outlinewidth": 0,
              "ticks": ""
             }
            },
            "type": "parcoords"
           }
          ],
          "pie": [
           {
            "automargin": true,
            "type": "pie"
           }
          ],
          "scatter": [
           {
            "fillpattern": {
             "fillmode": "overlay",
             "size": 10,
             "solidity": 0.2
            },
            "type": "scatter"
           }
          ],
          "scatter3d": [
           {
            "line": {
             "colorbar": {
              "outlinewidth": 0,
              "ticks": ""
             }
            },
            "marker": {
             "colorbar": {
              "outlinewidth": 0,
              "ticks": ""
             }
            },
            "type": "scatter3d"
           }
          ],
          "scattercarpet": [
           {
            "marker": {
             "colorbar": {
              "outlinewidth": 0,
              "ticks": ""
             }
            },
            "type": "scattercarpet"
           }
          ],
          "scattergeo": [
           {
            "marker": {
             "colorbar": {
              "outlinewidth": 0,
              "ticks": ""
             }
            },
            "type": "scattergeo"
           }
          ],
          "scattergl": [
           {
            "marker": {
             "colorbar": {
              "outlinewidth": 0,
              "ticks": ""
             }
            },
            "type": "scattergl"
           }
          ],
          "scattermapbox": [
           {
            "marker": {
             "colorbar": {
              "outlinewidth": 0,
              "ticks": ""
             }
            },
            "type": "scattermapbox"
           }
          ],
          "scatterpolar": [
           {
            "marker": {
             "colorbar": {
              "outlinewidth": 0,
              "ticks": ""
             }
            },
            "type": "scatterpolar"
           }
          ],
          "scatterpolargl": [
           {
            "marker": {
             "colorbar": {
              "outlinewidth": 0,
              "ticks": ""
             }
            },
            "type": "scatterpolargl"
           }
          ],
          "scatterternary": [
           {
            "marker": {
             "colorbar": {
              "outlinewidth": 0,
              "ticks": ""
             }
            },
            "type": "scatterternary"
           }
          ],
          "surface": [
           {
            "colorbar": {
             "outlinewidth": 0,
             "ticks": ""
            },
            "colorscale": [
             [
              0,
              "#0d0887"
             ],
             [
              0.1111111111111111,
              "#46039f"
             ],
             [
              0.2222222222222222,
              "#7201a8"
             ],
             [
              0.3333333333333333,
              "#9c179e"
             ],
             [
              0.4444444444444444,
              "#bd3786"
             ],
             [
              0.5555555555555556,
              "#d8576b"
             ],
             [
              0.6666666666666666,
              "#ed7953"
             ],
             [
              0.7777777777777778,
              "#fb9f3a"
             ],
             [
              0.8888888888888888,
              "#fdca26"
             ],
             [
              1,
              "#f0f921"
             ]
            ],
            "type": "surface"
           }
          ],
          "table": [
           {
            "cells": {
             "fill": {
              "color": "#EBF0F8"
             },
             "line": {
              "color": "white"
             }
            },
            "header": {
             "fill": {
              "color": "#C8D4E3"
             },
             "line": {
              "color": "white"
             }
            },
            "type": "table"
           }
          ]
         },
         "layout": {
          "annotationdefaults": {
           "arrowcolor": "#2a3f5f",
           "arrowhead": 0,
           "arrowwidth": 1
          },
          "autotypenumbers": "strict",
          "coloraxis": {
           "colorbar": {
            "outlinewidth": 0,
            "ticks": ""
           }
          },
          "colorscale": {
           "diverging": [
            [
             0,
             "#8e0152"
            ],
            [
             0.1,
             "#c51b7d"
            ],
            [
             0.2,
             "#de77ae"
            ],
            [
             0.3,
             "#f1b6da"
            ],
            [
             0.4,
             "#fde0ef"
            ],
            [
             0.5,
             "#f7f7f7"
            ],
            [
             0.6,
             "#e6f5d0"
            ],
            [
             0.7,
             "#b8e186"
            ],
            [
             0.8,
             "#7fbc41"
            ],
            [
             0.9,
             "#4d9221"
            ],
            [
             1,
             "#276419"
            ]
           ],
           "sequential": [
            [
             0,
             "#0d0887"
            ],
            [
             0.1111111111111111,
             "#46039f"
            ],
            [
             0.2222222222222222,
             "#7201a8"
            ],
            [
             0.3333333333333333,
             "#9c179e"
            ],
            [
             0.4444444444444444,
             "#bd3786"
            ],
            [
             0.5555555555555556,
             "#d8576b"
            ],
            [
             0.6666666666666666,
             "#ed7953"
            ],
            [
             0.7777777777777778,
             "#fb9f3a"
            ],
            [
             0.8888888888888888,
             "#fdca26"
            ],
            [
             1,
             "#f0f921"
            ]
           ],
           "sequentialminus": [
            [
             0,
             "#0d0887"
            ],
            [
             0.1111111111111111,
             "#46039f"
            ],
            [
             0.2222222222222222,
             "#7201a8"
            ],
            [
             0.3333333333333333,
             "#9c179e"
            ],
            [
             0.4444444444444444,
             "#bd3786"
            ],
            [
             0.5555555555555556,
             "#d8576b"
            ],
            [
             0.6666666666666666,
             "#ed7953"
            ],
            [
             0.7777777777777778,
             "#fb9f3a"
            ],
            [
             0.8888888888888888,
             "#fdca26"
            ],
            [
             1,
             "#f0f921"
            ]
           ]
          },
          "colorway": [
           "#636efa",
           "#EF553B",
           "#00cc96",
           "#ab63fa",
           "#FFA15A",
           "#19d3f3",
           "#FF6692",
           "#B6E880",
           "#FF97FF",
           "#FECB52"
          ],
          "font": {
           "color": "#2a3f5f"
          },
          "geo": {
           "bgcolor": "white",
           "lakecolor": "white",
           "landcolor": "#E5ECF6",
           "showlakes": true,
           "showland": true,
           "subunitcolor": "white"
          },
          "hoverlabel": {
           "align": "left"
          },
          "hovermode": "closest",
          "mapbox": {
           "style": "light"
          },
          "paper_bgcolor": "white",
          "plot_bgcolor": "#E5ECF6",
          "polar": {
           "angularaxis": {
            "gridcolor": "white",
            "linecolor": "white",
            "ticks": ""
           },
           "bgcolor": "#E5ECF6",
           "radialaxis": {
            "gridcolor": "white",
            "linecolor": "white",
            "ticks": ""
           }
          },
          "scene": {
           "xaxis": {
            "backgroundcolor": "#E5ECF6",
            "gridcolor": "white",
            "gridwidth": 2,
            "linecolor": "white",
            "showbackground": true,
            "ticks": "",
            "zerolinecolor": "white"
           },
           "yaxis": {
            "backgroundcolor": "#E5ECF6",
            "gridcolor": "white",
            "gridwidth": 2,
            "linecolor": "white",
            "showbackground": true,
            "ticks": "",
            "zerolinecolor": "white"
           },
           "zaxis": {
            "backgroundcolor": "#E5ECF6",
            "gridcolor": "white",
            "gridwidth": 2,
            "linecolor": "white",
            "showbackground": true,
            "ticks": "",
            "zerolinecolor": "white"
           }
          },
          "shapedefaults": {
           "line": {
            "color": "#2a3f5f"
           }
          },
          "ternary": {
           "aaxis": {
            "gridcolor": "white",
            "linecolor": "white",
            "ticks": ""
           },
           "baxis": {
            "gridcolor": "white",
            "linecolor": "white",
            "ticks": ""
           },
           "bgcolor": "#E5ECF6",
           "caxis": {
            "gridcolor": "white",
            "linecolor": "white",
            "ticks": ""
           }
          },
          "title": {
           "x": 0.05
          },
          "xaxis": {
           "automargin": true,
           "gridcolor": "white",
           "linecolor": "white",
           "ticks": "",
           "title": {
            "standoff": 15
           },
           "zerolinecolor": "white",
           "zerolinewidth": 2
          },
          "yaxis": {
           "automargin": true,
           "gridcolor": "white",
           "linecolor": "white",
           "ticks": "",
           "title": {
            "standoff": 15
           },
           "zerolinecolor": "white",
           "zerolinewidth": 2
          }
         }
        },
        "title": {
         "text": "UMAP Improvement for each dataset (best UMAP over no UMAP, per dataset)"
        },
        "width": 1200,
        "xaxis": {
         "tickmode": "linear",
         "title": {
          "text": "Maximum UMAP Components"
         }
        },
        "yaxis": {
         "title": {
          "text": "Accuracy improvement over no UMAP"
         }
        }
       }
      }
     },
     "metadata": {},
     "output_type": "display_data"
    }
   ],
   "source": [
    "df = results.copy()\n",
    "df = filter_domain_fft_only(df)\n",
    "df = filter_features_all(df)\n",
    "df = filter_reducer_over_all(df)\n",
    "df = filter_scaler_none(df)\n",
    "df = filter_view_standardized_intra(df)\n",
    "df = filter_only_reducer_dataset_equals_train_dataset_or_no_reducer(df)\n",
    "df = get_umap_improvement_over_no_umap(df)\n",
    "df = df[df[\"umap components\"] > 0]\n",
    "\n",
    "dset_markers = {\n",
    "    name: markers[i]\n",
    "    for i, name in enumerate(df[\"train_datasets\"].unique())\n",
    "}\n",
    "\n",
    "estimator_colors = {\n",
    "    name: colors[i]\n",
    "    for i, name in enumerate(df[\"estimator\"].unique())\n",
    "}\n",
    "\n",
    "fig = go.Figure()\n",
    "for (estimator, dataset), subdf in df.groupby([\"estimator\", \"train_datasets\"]):\n",
    "    subdf = subdf.sort_values(by=\"umap components\")\n",
    "    xs, ys = [], []\n",
    "    for n_components in sorted(subdf[\"umap components\"].unique()):\n",
    "        xs.append(n_components)\n",
    "        ys.append(subdf[subdf[\"umap components\"] <= n_components][\"umap improvement\"].max())\n",
    "    fig.add_trace(\n",
    "        go.Scatter( \n",
    "            x=xs,\n",
    "            y=ys,\n",
    "            name=f\"{estimator} {dataset}\",\n",
    "            mode=\"lines+markers\",\n",
    "            legendgroup=estimator,\n",
    "            # legendgrouptitle=\"Estimator\",\n",
    "            marker=dict(\n",
    "                color=estimator_colors[estimator],\n",
    "                symbol=dset_markers[dataset],\n",
    "                size=8,\n",
    "            ),\n",
    "        )\n",
    "    )\n",
    "    # subdf[\"best umap improvement so far\"] = df[\"umap improvement\"].expanding().max()\n",
    "\n",
    "fig.update_layout(\n",
    "    title=\"UMAP Improvement for each dataset (best UMAP over no UMAP, per dataset)\",\n",
    "    xaxis_title=\"Maximum UMAP Components\",\n",
    "    yaxis_title=\"Accuracy improvement over no UMAP\",\n",
    "    legend_title=\"Estimator\",\n",
    "    width=1200,\n",
    "    height=600,\n",
    "    xaxis=dict(tickmode=\"linear\")\n",
    ")\n",
    "fig.show()"
   ]
  },
  {
   "attachments": {},
   "cell_type": "markdown",
   "metadata": {},
   "source": [
    "b.2) UMAP vs best UMAP"
   ]
  },
  {
   "cell_type": "code",
   "execution_count": 12,
   "metadata": {},
   "outputs": [],
   "source": [
    "def get_umap_improvement_over_best_umap(df, new_column_name: str = \"umap improvement\"):\n",
    "    df = df[df[\"umap components\"] != 0]\n",
    "    experiment_uniq = [c for c in unique_exp_columns if c not in [\"reducer_datasets\", \"umap components\"]]\n",
    "\n",
    "    best_umap = {}\n",
    "    for key, subdf in df.groupby(experiment_uniq):\n",
    "        best_umap[key] = subdf[\"accuracy (mean)\"].max()\n",
    "\n",
    "    for key, subdf in df.groupby(experiment_uniq):\n",
    "        df.loc[subdf.index, new_column_name] = subdf[\"accuracy (mean)\"] / best_umap[key]\n",
    "\n",
    "    return df"
   ]
  },
  {
   "cell_type": "code",
   "execution_count": 13,
   "metadata": {},
   "outputs": [
    {
     "name": "stderr",
     "output_type": "stream",
     "text": [
      "/tmp/ipykernel_205650/3552989575.py:10: SettingWithCopyWarning:\n",
      "\n",
      "\n",
      "A value is trying to be set on a copy of a slice from a DataFrame.\n",
      "Try using .loc[row_indexer,col_indexer] = value instead\n",
      "\n",
      "See the caveats in the documentation: https://pandas.pydata.org/pandas-docs/stable/user_guide/indexing.html#returning-a-view-versus-a-copy\n",
      "\n"
     ]
    },
    {
     "data": {
      "application/vnd.plotly.v1+json": {
       "config": {
        "plotlyServerURL": "https://plot.ly"
       },
       "data": [
        {
         "legendgroup": "KNN-5",
         "marker": {
          "color": "#00CC96",
          "size": 7,
          "symbol": "x"
         },
         "mode": "lines+markers",
         "name": "KNN-5 kuhar",
         "type": "scatter",
         "x": [
          2,
          3,
          4,
          5,
          6,
          7,
          8,
          9,
          10,
          15,
          20
         ],
         "y": [
          0.933884297520661,
          0.9752066115702478,
          0.9752066115702478,
          1,
          1,
          1,
          1,
          1,
          1,
          1,
          1
         ]
        },
        {
         "legendgroup": "KNN-5",
         "marker": {
          "color": "#00CC96",
          "size": 7,
          "symbol": "diamond"
         },
         "mode": "lines+markers",
         "name": "KNN-5 motionsense",
         "type": "scatter",
         "x": [
          2,
          3,
          4,
          5,
          6,
          7,
          8,
          9,
          10,
          15,
          20
         ],
         "y": [
          0.9457364341085269,
          0.9767441860465116,
          0.9767441860465116,
          1,
          1,
          1,
          1,
          1,
          1,
          1,
          1
         ]
        },
        {
         "legendgroup": "KNN-5",
         "marker": {
          "color": "#00CC96",
          "size": 7,
          "symbol": "triangle-up"
         },
         "mode": "lines+markers",
         "name": "KNN-5 realworld",
         "type": "scatter",
         "x": [
          2,
          3,
          4,
          5,
          6,
          7,
          8,
          9,
          10,
          15,
          20
         ],
         "y": [
          0.9468085106382979,
          0.9468085106382979,
          0.9468085106382979,
          0.9468085106382979,
          0.9468085106382979,
          0.9468085106382979,
          0.9468085106382979,
          0.9468085106382979,
          1,
          1,
          1
         ]
        },
        {
         "legendgroup": "KNN-5",
         "marker": {
          "color": "#00CC96",
          "size": 7,
          "symbol": "circle"
         },
         "mode": "lines+markers",
         "name": "KNN-5 uci",
         "type": "scatter",
         "x": [
          2,
          3,
          4,
          5,
          6,
          7,
          8,
          9,
          10,
          15,
          20
         ],
         "y": [
          0.9263157894736841,
          0.9263157894736841,
          0.9473684210526315,
          0.9789473684210527,
          0.9789473684210527,
          0.9789473684210527,
          0.9789473684210527,
          1,
          1,
          1,
          1
         ]
        },
        {
         "legendgroup": "KNN-5",
         "marker": {
          "color": "#00CC96",
          "size": 7,
          "symbol": "square"
         },
         "mode": "lines+markers",
         "name": "KNN-5 wisdm",
         "type": "scatter",
         "x": [
          2,
          3,
          4,
          5,
          6,
          7,
          8,
          9,
          10,
          15,
          20
         ],
         "y": [
          0.910891089108911,
          1,
          1,
          1,
          1,
          1,
          1,
          1,
          1,
          1,
          1
         ]
        },
        {
         "legendgroup": "SVM-rbf-C1.0",
         "marker": {
          "color": "#AB63FA",
          "size": 7,
          "symbol": "x"
         },
         "mode": "lines+markers",
         "name": "SVM-rbf-C1.0 kuhar",
         "type": "scatter",
         "x": [
          2,
          3,
          4,
          5,
          6,
          7,
          8,
          9,
          10,
          15,
          20
         ],
         "y": [
          1,
          1,
          1,
          1,
          1,
          1,
          1,
          1,
          1,
          1,
          1
         ]
        },
        {
         "legendgroup": "SVM-rbf-C1.0",
         "marker": {
          "color": "#AB63FA",
          "size": 7,
          "symbol": "diamond"
         },
         "mode": "lines+markers",
         "name": "SVM-rbf-C1.0 motionsense",
         "type": "scatter",
         "x": [
          2,
          3,
          4,
          5,
          6,
          7,
          8,
          9,
          10,
          15,
          20
         ],
         "y": [
          0.9674796747967481,
          0.9756097560975611,
          0.9837398373983741,
          0.9918699186991868,
          1,
          1,
          1,
          1,
          1,
          1,
          1
         ]
        },
        {
         "legendgroup": "SVM-rbf-C1.0",
         "marker": {
          "color": "#AB63FA",
          "size": 7,
          "symbol": "triangle-up"
         },
         "mode": "lines+markers",
         "name": "SVM-rbf-C1.0 realworld",
         "type": "scatter",
         "x": [
          2,
          3,
          4,
          5,
          6,
          7,
          8,
          9,
          10,
          15,
          20
         ],
         "y": [
          0.9090909090909092,
          0.9886363636363639,
          0.9886363636363639,
          0.9886363636363639,
          0.9886363636363639,
          0.9886363636363639,
          0.9886363636363639,
          0.9886363636363639,
          1,
          1,
          1
         ]
        },
        {
         "legendgroup": "SVM-rbf-C1.0",
         "marker": {
          "color": "#AB63FA",
          "size": 7,
          "symbol": "circle"
         },
         "mode": "lines+markers",
         "name": "SVM-rbf-C1.0 uci",
         "type": "scatter",
         "x": [
          2,
          3,
          4,
          5,
          6,
          7,
          8,
          9,
          10,
          15,
          20
         ],
         "y": [
          1,
          1,
          1,
          1,
          1,
          1,
          1,
          1,
          1,
          1,
          1
         ]
        },
        {
         "legendgroup": "SVM-rbf-C1.0",
         "marker": {
          "color": "#AB63FA",
          "size": 7,
          "symbol": "square"
         },
         "mode": "lines+markers",
         "name": "SVM-rbf-C1.0 wisdm",
         "type": "scatter",
         "x": [
          2,
          3,
          4,
          5,
          6,
          7,
          8,
          9,
          10,
          15,
          20
         ],
         "y": [
          0.968421052631579,
          0.968421052631579,
          0.9789473684210527,
          0.9789473684210527,
          1,
          1,
          1,
          1,
          1,
          1,
          1
         ]
        },
        {
         "legendgroup": "randomforest-100",
         "marker": {
          "color": "#636EFA",
          "size": 7,
          "symbol": "x"
         },
         "mode": "lines+markers",
         "name": "randomforest-100 kuhar",
         "type": "scatter",
         "x": [
          2,
          3,
          4,
          5,
          6,
          7,
          8,
          9,
          10,
          15,
          20
         ],
         "y": [
          0.9361525704809288,
          0.9834162520729685,
          0.9834162520729685,
          0.9991708126036484,
          0.9991708126036484,
          0.9991708126036484,
          0.9991708126036484,
          0.9991708126036484,
          1,
          1,
          1
         ]
        },
        {
         "legendgroup": "randomforest-100",
         "marker": {
          "color": "#636EFA",
          "size": 7,
          "symbol": "diamond"
         },
         "mode": "lines+markers",
         "name": "randomforest-100 motionsense",
         "type": "scatter",
         "x": [
          2,
          3,
          4,
          5,
          6,
          7,
          8,
          9,
          10,
          15,
          20
         ],
         "y": [
          0.9601873536299766,
          0.9968774395003902,
          0.9968774395003902,
          0.9968774395003902,
          0.9968774395003902,
          0.9968774395003902,
          0.9968774395003902,
          0.9968774395003902,
          1,
          1,
          1
         ]
        },
        {
         "legendgroup": "randomforest-100",
         "marker": {
          "color": "#636EFA",
          "size": 7,
          "symbol": "triangle-up"
         },
         "mode": "lines+markers",
         "name": "randomforest-100 realworld",
         "type": "scatter",
         "x": [
          2,
          3,
          4,
          5,
          6,
          7,
          8,
          9,
          10,
          15,
          20
         ],
         "y": [
          0.8359550561797753,
          0.9707865168539325,
          0.9898876404494382,
          0.9898876404494382,
          1,
          1,
          1,
          1,
          1,
          1,
          1
         ]
        },
        {
         "legendgroup": "randomforest-100",
         "marker": {
          "color": "#636EFA",
          "size": 7,
          "symbol": "circle"
         },
         "mode": "lines+markers",
         "name": "randomforest-100 uci",
         "type": "scatter",
         "x": [
          2,
          3,
          4,
          5,
          6,
          7,
          8,
          9,
          10,
          15,
          20
         ],
         "y": [
          0.945134575569358,
          0.945134575569358,
          0.945134575569358,
          0.9824016563146998,
          0.9824016563146998,
          0.9824016563146998,
          0.9824016563146998,
          0.9824016563146998,
          1,
          1,
          1
         ]
        },
        {
         "legendgroup": "randomforest-100",
         "marker": {
          "color": "#636EFA",
          "size": 7,
          "symbol": "square"
         },
         "mode": "lines+markers",
         "name": "randomforest-100 wisdm",
         "type": "scatter",
         "x": [
          2,
          3,
          4,
          5,
          6,
          7,
          8,
          9,
          10,
          15,
          20
         ],
         "y": [
          0.9396636993076164,
          0.9614243323442137,
          0.9950544015825915,
          0.9950544015825915,
          0.9950544015825915,
          0.9990108803165183,
          0.9990108803165183,
          0.9990108803165183,
          1,
          1,
          1
         ]
        }
       ],
       "layout": {
        "height": 600,
        "legend": {
         "title": {
          "text": "Estimator"
         }
        },
        "template": {
         "data": {
          "bar": [
           {
            "error_x": {
             "color": "#2a3f5f"
            },
            "error_y": {
             "color": "#2a3f5f"
            },
            "marker": {
             "line": {
              "color": "#E5ECF6",
              "width": 0.5
             },
             "pattern": {
              "fillmode": "overlay",
              "size": 10,
              "solidity": 0.2
             }
            },
            "type": "bar"
           }
          ],
          "barpolar": [
           {
            "marker": {
             "line": {
              "color": "#E5ECF6",
              "width": 0.5
             },
             "pattern": {
              "fillmode": "overlay",
              "size": 10,
              "solidity": 0.2
             }
            },
            "type": "barpolar"
           }
          ],
          "carpet": [
           {
            "aaxis": {
             "endlinecolor": "#2a3f5f",
             "gridcolor": "white",
             "linecolor": "white",
             "minorgridcolor": "white",
             "startlinecolor": "#2a3f5f"
            },
            "baxis": {
             "endlinecolor": "#2a3f5f",
             "gridcolor": "white",
             "linecolor": "white",
             "minorgridcolor": "white",
             "startlinecolor": "#2a3f5f"
            },
            "type": "carpet"
           }
          ],
          "choropleth": [
           {
            "colorbar": {
             "outlinewidth": 0,
             "ticks": ""
            },
            "type": "choropleth"
           }
          ],
          "contour": [
           {
            "colorbar": {
             "outlinewidth": 0,
             "ticks": ""
            },
            "colorscale": [
             [
              0,
              "#0d0887"
             ],
             [
              0.1111111111111111,
              "#46039f"
             ],
             [
              0.2222222222222222,
              "#7201a8"
             ],
             [
              0.3333333333333333,
              "#9c179e"
             ],
             [
              0.4444444444444444,
              "#bd3786"
             ],
             [
              0.5555555555555556,
              "#d8576b"
             ],
             [
              0.6666666666666666,
              "#ed7953"
             ],
             [
              0.7777777777777778,
              "#fb9f3a"
             ],
             [
              0.8888888888888888,
              "#fdca26"
             ],
             [
              1,
              "#f0f921"
             ]
            ],
            "type": "contour"
           }
          ],
          "contourcarpet": [
           {
            "colorbar": {
             "outlinewidth": 0,
             "ticks": ""
            },
            "type": "contourcarpet"
           }
          ],
          "heatmap": [
           {
            "colorbar": {
             "outlinewidth": 0,
             "ticks": ""
            },
            "colorscale": [
             [
              0,
              "#0d0887"
             ],
             [
              0.1111111111111111,
              "#46039f"
             ],
             [
              0.2222222222222222,
              "#7201a8"
             ],
             [
              0.3333333333333333,
              "#9c179e"
             ],
             [
              0.4444444444444444,
              "#bd3786"
             ],
             [
              0.5555555555555556,
              "#d8576b"
             ],
             [
              0.6666666666666666,
              "#ed7953"
             ],
             [
              0.7777777777777778,
              "#fb9f3a"
             ],
             [
              0.8888888888888888,
              "#fdca26"
             ],
             [
              1,
              "#f0f921"
             ]
            ],
            "type": "heatmap"
           }
          ],
          "heatmapgl": [
           {
            "colorbar": {
             "outlinewidth": 0,
             "ticks": ""
            },
            "colorscale": [
             [
              0,
              "#0d0887"
             ],
             [
              0.1111111111111111,
              "#46039f"
             ],
             [
              0.2222222222222222,
              "#7201a8"
             ],
             [
              0.3333333333333333,
              "#9c179e"
             ],
             [
              0.4444444444444444,
              "#bd3786"
             ],
             [
              0.5555555555555556,
              "#d8576b"
             ],
             [
              0.6666666666666666,
              "#ed7953"
             ],
             [
              0.7777777777777778,
              "#fb9f3a"
             ],
             [
              0.8888888888888888,
              "#fdca26"
             ],
             [
              1,
              "#f0f921"
             ]
            ],
            "type": "heatmapgl"
           }
          ],
          "histogram": [
           {
            "marker": {
             "pattern": {
              "fillmode": "overlay",
              "size": 10,
              "solidity": 0.2
             }
            },
            "type": "histogram"
           }
          ],
          "histogram2d": [
           {
            "colorbar": {
             "outlinewidth": 0,
             "ticks": ""
            },
            "colorscale": [
             [
              0,
              "#0d0887"
             ],
             [
              0.1111111111111111,
              "#46039f"
             ],
             [
              0.2222222222222222,
              "#7201a8"
             ],
             [
              0.3333333333333333,
              "#9c179e"
             ],
             [
              0.4444444444444444,
              "#bd3786"
             ],
             [
              0.5555555555555556,
              "#d8576b"
             ],
             [
              0.6666666666666666,
              "#ed7953"
             ],
             [
              0.7777777777777778,
              "#fb9f3a"
             ],
             [
              0.8888888888888888,
              "#fdca26"
             ],
             [
              1,
              "#f0f921"
             ]
            ],
            "type": "histogram2d"
           }
          ],
          "histogram2dcontour": [
           {
            "colorbar": {
             "outlinewidth": 0,
             "ticks": ""
            },
            "colorscale": [
             [
              0,
              "#0d0887"
             ],
             [
              0.1111111111111111,
              "#46039f"
             ],
             [
              0.2222222222222222,
              "#7201a8"
             ],
             [
              0.3333333333333333,
              "#9c179e"
             ],
             [
              0.4444444444444444,
              "#bd3786"
             ],
             [
              0.5555555555555556,
              "#d8576b"
             ],
             [
              0.6666666666666666,
              "#ed7953"
             ],
             [
              0.7777777777777778,
              "#fb9f3a"
             ],
             [
              0.8888888888888888,
              "#fdca26"
             ],
             [
              1,
              "#f0f921"
             ]
            ],
            "type": "histogram2dcontour"
           }
          ],
          "mesh3d": [
           {
            "colorbar": {
             "outlinewidth": 0,
             "ticks": ""
            },
            "type": "mesh3d"
           }
          ],
          "parcoords": [
           {
            "line": {
             "colorbar": {
              "outlinewidth": 0,
              "ticks": ""
             }
            },
            "type": "parcoords"
           }
          ],
          "pie": [
           {
            "automargin": true,
            "type": "pie"
           }
          ],
          "scatter": [
           {
            "fillpattern": {
             "fillmode": "overlay",
             "size": 10,
             "solidity": 0.2
            },
            "type": "scatter"
           }
          ],
          "scatter3d": [
           {
            "line": {
             "colorbar": {
              "outlinewidth": 0,
              "ticks": ""
             }
            },
            "marker": {
             "colorbar": {
              "outlinewidth": 0,
              "ticks": ""
             }
            },
            "type": "scatter3d"
           }
          ],
          "scattercarpet": [
           {
            "marker": {
             "colorbar": {
              "outlinewidth": 0,
              "ticks": ""
             }
            },
            "type": "scattercarpet"
           }
          ],
          "scattergeo": [
           {
            "marker": {
             "colorbar": {
              "outlinewidth": 0,
              "ticks": ""
             }
            },
            "type": "scattergeo"
           }
          ],
          "scattergl": [
           {
            "marker": {
             "colorbar": {
              "outlinewidth": 0,
              "ticks": ""
             }
            },
            "type": "scattergl"
           }
          ],
          "scattermapbox": [
           {
            "marker": {
             "colorbar": {
              "outlinewidth": 0,
              "ticks": ""
             }
            },
            "type": "scattermapbox"
           }
          ],
          "scatterpolar": [
           {
            "marker": {
             "colorbar": {
              "outlinewidth": 0,
              "ticks": ""
             }
            },
            "type": "scatterpolar"
           }
          ],
          "scatterpolargl": [
           {
            "marker": {
             "colorbar": {
              "outlinewidth": 0,
              "ticks": ""
             }
            },
            "type": "scatterpolargl"
           }
          ],
          "scatterternary": [
           {
            "marker": {
             "colorbar": {
              "outlinewidth": 0,
              "ticks": ""
             }
            },
            "type": "scatterternary"
           }
          ],
          "surface": [
           {
            "colorbar": {
             "outlinewidth": 0,
             "ticks": ""
            },
            "colorscale": [
             [
              0,
              "#0d0887"
             ],
             [
              0.1111111111111111,
              "#46039f"
             ],
             [
              0.2222222222222222,
              "#7201a8"
             ],
             [
              0.3333333333333333,
              "#9c179e"
             ],
             [
              0.4444444444444444,
              "#bd3786"
             ],
             [
              0.5555555555555556,
              "#d8576b"
             ],
             [
              0.6666666666666666,
              "#ed7953"
             ],
             [
              0.7777777777777778,
              "#fb9f3a"
             ],
             [
              0.8888888888888888,
              "#fdca26"
             ],
             [
              1,
              "#f0f921"
             ]
            ],
            "type": "surface"
           }
          ],
          "table": [
           {
            "cells": {
             "fill": {
              "color": "#EBF0F8"
             },
             "line": {
              "color": "white"
             }
            },
            "header": {
             "fill": {
              "color": "#C8D4E3"
             },
             "line": {
              "color": "white"
             }
            },
            "type": "table"
           }
          ]
         },
         "layout": {
          "annotationdefaults": {
           "arrowcolor": "#2a3f5f",
           "arrowhead": 0,
           "arrowwidth": 1
          },
          "autotypenumbers": "strict",
          "coloraxis": {
           "colorbar": {
            "outlinewidth": 0,
            "ticks": ""
           }
          },
          "colorscale": {
           "diverging": [
            [
             0,
             "#8e0152"
            ],
            [
             0.1,
             "#c51b7d"
            ],
            [
             0.2,
             "#de77ae"
            ],
            [
             0.3,
             "#f1b6da"
            ],
            [
             0.4,
             "#fde0ef"
            ],
            [
             0.5,
             "#f7f7f7"
            ],
            [
             0.6,
             "#e6f5d0"
            ],
            [
             0.7,
             "#b8e186"
            ],
            [
             0.8,
             "#7fbc41"
            ],
            [
             0.9,
             "#4d9221"
            ],
            [
             1,
             "#276419"
            ]
           ],
           "sequential": [
            [
             0,
             "#0d0887"
            ],
            [
             0.1111111111111111,
             "#46039f"
            ],
            [
             0.2222222222222222,
             "#7201a8"
            ],
            [
             0.3333333333333333,
             "#9c179e"
            ],
            [
             0.4444444444444444,
             "#bd3786"
            ],
            [
             0.5555555555555556,
             "#d8576b"
            ],
            [
             0.6666666666666666,
             "#ed7953"
            ],
            [
             0.7777777777777778,
             "#fb9f3a"
            ],
            [
             0.8888888888888888,
             "#fdca26"
            ],
            [
             1,
             "#f0f921"
            ]
           ],
           "sequentialminus": [
            [
             0,
             "#0d0887"
            ],
            [
             0.1111111111111111,
             "#46039f"
            ],
            [
             0.2222222222222222,
             "#7201a8"
            ],
            [
             0.3333333333333333,
             "#9c179e"
            ],
            [
             0.4444444444444444,
             "#bd3786"
            ],
            [
             0.5555555555555556,
             "#d8576b"
            ],
            [
             0.6666666666666666,
             "#ed7953"
            ],
            [
             0.7777777777777778,
             "#fb9f3a"
            ],
            [
             0.8888888888888888,
             "#fdca26"
            ],
            [
             1,
             "#f0f921"
            ]
           ]
          },
          "colorway": [
           "#636efa",
           "#EF553B",
           "#00cc96",
           "#ab63fa",
           "#FFA15A",
           "#19d3f3",
           "#FF6692",
           "#B6E880",
           "#FF97FF",
           "#FECB52"
          ],
          "font": {
           "color": "#2a3f5f"
          },
          "geo": {
           "bgcolor": "white",
           "lakecolor": "white",
           "landcolor": "#E5ECF6",
           "showlakes": true,
           "showland": true,
           "subunitcolor": "white"
          },
          "hoverlabel": {
           "align": "left"
          },
          "hovermode": "closest",
          "mapbox": {
           "style": "light"
          },
          "paper_bgcolor": "white",
          "plot_bgcolor": "#E5ECF6",
          "polar": {
           "angularaxis": {
            "gridcolor": "white",
            "linecolor": "white",
            "ticks": ""
           },
           "bgcolor": "#E5ECF6",
           "radialaxis": {
            "gridcolor": "white",
            "linecolor": "white",
            "ticks": ""
           }
          },
          "scene": {
           "xaxis": {
            "backgroundcolor": "#E5ECF6",
            "gridcolor": "white",
            "gridwidth": 2,
            "linecolor": "white",
            "showbackground": true,
            "ticks": "",
            "zerolinecolor": "white"
           },
           "yaxis": {
            "backgroundcolor": "#E5ECF6",
            "gridcolor": "white",
            "gridwidth": 2,
            "linecolor": "white",
            "showbackground": true,
            "ticks": "",
            "zerolinecolor": "white"
           },
           "zaxis": {
            "backgroundcolor": "#E5ECF6",
            "gridcolor": "white",
            "gridwidth": 2,
            "linecolor": "white",
            "showbackground": true,
            "ticks": "",
            "zerolinecolor": "white"
           }
          },
          "shapedefaults": {
           "line": {
            "color": "#2a3f5f"
           }
          },
          "ternary": {
           "aaxis": {
            "gridcolor": "white",
            "linecolor": "white",
            "ticks": ""
           },
           "baxis": {
            "gridcolor": "white",
            "linecolor": "white",
            "ticks": ""
           },
           "bgcolor": "#E5ECF6",
           "caxis": {
            "gridcolor": "white",
            "linecolor": "white",
            "ticks": ""
           }
          },
          "title": {
           "x": 0.05
          },
          "xaxis": {
           "automargin": true,
           "gridcolor": "white",
           "linecolor": "white",
           "ticks": "",
           "title": {
            "standoff": 15
           },
           "zerolinecolor": "white",
           "zerolinewidth": 2
          },
          "yaxis": {
           "automargin": true,
           "gridcolor": "white",
           "linecolor": "white",
           "ticks": "",
           "title": {
            "standoff": 15
           },
           "zerolinecolor": "white",
           "zerolinewidth": 2
          }
         }
        },
        "title": {
         "text": "UMAP Improvement for each dataset (UMAP over best UMAP, per dataset)"
        },
        "width": 1200,
        "xaxis": {
         "tickmode": "linear",
         "title": {
          "text": "Maximum UMAP Components"
         }
        },
        "yaxis": {
         "title": {
          "text": "Accuracy improvement best UMAP"
         }
        }
       }
      }
     },
     "metadata": {},
     "output_type": "display_data"
    }
   ],
   "source": [
    "df = results.copy()\n",
    "df = filter_domain_fft_only(df)\n",
    "df = filter_features_all(df)\n",
    "df = filter_reducer_over_all(df)\n",
    "df = filter_scaler_none(df)\n",
    "df = filter_view_standardized_intra(df)\n",
    "df = filter_only_reducer_dataset_equals_train_dataset_or_no_reducer(df)\n",
    "df = get_umap_improvement_over_best_umap(df)\n",
    "\n",
    "dset_markers = {\n",
    "    name: markers[i]\n",
    "    for i, name in enumerate(df[\"train_datasets\"].unique())\n",
    "}\n",
    "\n",
    "estimator_colors = {\n",
    "    name: colors[i]\n",
    "    for i, name in enumerate(df[\"estimator\"].unique())\n",
    "}\n",
    "\n",
    "fig = go.Figure()\n",
    "for (estimator, dataset), subdf in df.groupby([\"estimator\", \"train_datasets\"]):\n",
    "    subdf = subdf.sort_values(by=\"umap components\")\n",
    "    xs, ys = [], []\n",
    "    for n_components in sorted(subdf[\"umap components\"].unique()):\n",
    "        xs.append(n_components)\n",
    "        ys.append(subdf[subdf[\"umap components\"] <= n_components][\"umap improvement\"].max())\n",
    "    fig.add_trace(\n",
    "        go.Scatter( \n",
    "            x=xs,\n",
    "            y=ys,\n",
    "            name=f\"{estimator} {dataset}\",\n",
    "            mode=\"lines+markers\",\n",
    "            legendgroup=estimator,\n",
    "            # legendgrouptitle=\"Estimator\",\n",
    "            marker=dict(\n",
    "                color=estimator_colors[estimator],\n",
    "                symbol=dset_markers[dataset],\n",
    "                size=7,\n",
    "            ),\n",
    "        )\n",
    "    )\n",
    "    # subdf[\"best umap improvement so far\"] = df[\"umap improvement\"].expanding().max()\n",
    "\n",
    "fig.update_layout(\n",
    "    title=\"UMAP Improvement for each dataset (UMAP over best UMAP, per dataset)\",\n",
    "    xaxis_title=\"Maximum UMAP Components\",\n",
    "    yaxis_title=\"Accuracy improvement best UMAP\",\n",
    "    legend_title=\"Estimator\",\n",
    "    width=1200,\n",
    "    height=600,\n",
    "    xaxis=dict(tickmode=\"linear\")\n",
    ")\n",
    "fig.show()"
   ]
  },
  {
   "attachments": {},
   "cell_type": "markdown",
   "metadata": {},
   "source": [
    "### Pergunta 1.c"
   ]
  },
  {
   "cell_type": "code",
   "execution_count": 14,
   "metadata": {},
   "outputs": [
    {
     "name": "stderr",
     "output_type": "stream",
     "text": [
      "/tmp/ipykernel_205650/862335259.py:13: FutureWarning:\n",
      "\n",
      "In a future version of pandas, a length 1 tuple will be returned when iterating over a groupby with a grouper equal to a list of length 1. Don't supply a list with a single grouper to avoid this warning.\n",
      "\n"
     ]
    },
    {
     "data": {
      "application/vnd.plotly.v1+json": {
       "config": {
        "plotlyServerURL": "https://plot.ly"
       },
       "data": [
        {
         "legendgroup": "no umap",
         "marker": {
          "color": "#636EFA"
         },
         "name": "kuhar no umap",
         "type": "bar",
         "x": [
          "kuhar raw (no umap)",
          "kuhar standartized (no umap)"
         ],
         "y": [
          null,
          0.888888888888889
         ]
        },
        {
         "legendgroup": "best umap",
         "marker": {
          "color": "#00CC96"
         },
         "name": "kuhar best umap",
         "type": "bar",
         "x": [
          "kuhar raw (best umap)",
          "kuhar standartized (best umap)"
         ],
         "y": [
          0.8333333333333334,
          0.8402777777777779
         ]
        },
        {
         "legendgroup": "no umap",
         "marker": {
          "color": "#636EFA"
         },
         "name": "motionsense no umap",
         "type": "bar",
         "x": [
          "motionsense raw (no umap)",
          "motionsense standartized (no umap)"
         ],
         "y": [
          null,
          0.9326388888888888
         ]
        },
        {
         "legendgroup": "best umap",
         "marker": {
          "color": "#00CC96"
         },
         "name": "motionsense best umap",
         "type": "bar",
         "x": [
          "motionsense raw (best umap)",
          "motionsense standartized (best umap)"
         ],
         "y": [
          0.8990583804143126,
          0.8958333333333334
         ]
        },
        {
         "legendgroup": "no umap",
         "marker": {
          "color": "#636EFA"
         },
         "name": "realworld no umap",
         "type": "bar",
         "x": [
          "realworld raw (no umap)",
          "realworld standartized (no umap)"
         ],
         "y": [
          null,
          0.6944444444444444
         ]
        },
        {
         "legendgroup": "best umap",
         "marker": {
          "color": "#00CC96"
         },
         "name": "realworld best umap",
         "type": "bar",
         "x": [
          "realworld raw (best umap)",
          "realworld standartized (best umap)"
         ],
         "y": [
          0.6817345295606165,
          0.6527777777777778
         ]
        },
        {
         "legendgroup": "no umap",
         "marker": {
          "color": "#636EFA"
         },
         "name": "uci no umap",
         "type": "bar",
         "x": [
          "uci raw (no umap)",
          "uci standartized (no umap)"
         ],
         "y": [
          null,
          0.9108333333333332
         ]
        },
        {
         "legendgroup": "best umap",
         "marker": {
          "color": "#00CC96"
         },
         "name": "uci best umap",
         "type": "bar",
         "x": [
          "uci raw (best umap)",
          "uci standartized (best umap)"
         ],
         "y": [
          0.7726086956521739,
          0.805
         ]
        },
        {
         "legendgroup": "no umap",
         "marker": {
          "color": "#636EFA"
         },
         "name": "wisdm no umap",
         "type": "bar",
         "x": [
          "wisdm raw (no umap)",
          "wisdm standartized (no umap)"
         ],
         "y": [
          null,
          0.85
         ]
        },
        {
         "legendgroup": "best umap",
         "marker": {
          "color": "#00CC96"
         },
         "name": "wisdm best umap",
         "type": "bar",
         "x": [
          "wisdm raw (best umap)",
          "wisdm standartized (best umap)"
         ],
         "y": [
          0.8847457627118643,
          0.8424999999999999
         ]
        }
       ],
       "layout": {
        "height": 800,
        "legend": {
         "title": {
          "text": "Estimator"
         }
        },
        "template": {
         "data": {
          "bar": [
           {
            "error_x": {
             "color": "#2a3f5f"
            },
            "error_y": {
             "color": "#2a3f5f"
            },
            "marker": {
             "line": {
              "color": "#E5ECF6",
              "width": 0.5
             },
             "pattern": {
              "fillmode": "overlay",
              "size": 10,
              "solidity": 0.2
             }
            },
            "type": "bar"
           }
          ],
          "barpolar": [
           {
            "marker": {
             "line": {
              "color": "#E5ECF6",
              "width": 0.5
             },
             "pattern": {
              "fillmode": "overlay",
              "size": 10,
              "solidity": 0.2
             }
            },
            "type": "barpolar"
           }
          ],
          "carpet": [
           {
            "aaxis": {
             "endlinecolor": "#2a3f5f",
             "gridcolor": "white",
             "linecolor": "white",
             "minorgridcolor": "white",
             "startlinecolor": "#2a3f5f"
            },
            "baxis": {
             "endlinecolor": "#2a3f5f",
             "gridcolor": "white",
             "linecolor": "white",
             "minorgridcolor": "white",
             "startlinecolor": "#2a3f5f"
            },
            "type": "carpet"
           }
          ],
          "choropleth": [
           {
            "colorbar": {
             "outlinewidth": 0,
             "ticks": ""
            },
            "type": "choropleth"
           }
          ],
          "contour": [
           {
            "colorbar": {
             "outlinewidth": 0,
             "ticks": ""
            },
            "colorscale": [
             [
              0,
              "#0d0887"
             ],
             [
              0.1111111111111111,
              "#46039f"
             ],
             [
              0.2222222222222222,
              "#7201a8"
             ],
             [
              0.3333333333333333,
              "#9c179e"
             ],
             [
              0.4444444444444444,
              "#bd3786"
             ],
             [
              0.5555555555555556,
              "#d8576b"
             ],
             [
              0.6666666666666666,
              "#ed7953"
             ],
             [
              0.7777777777777778,
              "#fb9f3a"
             ],
             [
              0.8888888888888888,
              "#fdca26"
             ],
             [
              1,
              "#f0f921"
             ]
            ],
            "type": "contour"
           }
          ],
          "contourcarpet": [
           {
            "colorbar": {
             "outlinewidth": 0,
             "ticks": ""
            },
            "type": "contourcarpet"
           }
          ],
          "heatmap": [
           {
            "colorbar": {
             "outlinewidth": 0,
             "ticks": ""
            },
            "colorscale": [
             [
              0,
              "#0d0887"
             ],
             [
              0.1111111111111111,
              "#46039f"
             ],
             [
              0.2222222222222222,
              "#7201a8"
             ],
             [
              0.3333333333333333,
              "#9c179e"
             ],
             [
              0.4444444444444444,
              "#bd3786"
             ],
             [
              0.5555555555555556,
              "#d8576b"
             ],
             [
              0.6666666666666666,
              "#ed7953"
             ],
             [
              0.7777777777777778,
              "#fb9f3a"
             ],
             [
              0.8888888888888888,
              "#fdca26"
             ],
             [
              1,
              "#f0f921"
             ]
            ],
            "type": "heatmap"
           }
          ],
          "heatmapgl": [
           {
            "colorbar": {
             "outlinewidth": 0,
             "ticks": ""
            },
            "colorscale": [
             [
              0,
              "#0d0887"
             ],
             [
              0.1111111111111111,
              "#46039f"
             ],
             [
              0.2222222222222222,
              "#7201a8"
             ],
             [
              0.3333333333333333,
              "#9c179e"
             ],
             [
              0.4444444444444444,
              "#bd3786"
             ],
             [
              0.5555555555555556,
              "#d8576b"
             ],
             [
              0.6666666666666666,
              "#ed7953"
             ],
             [
              0.7777777777777778,
              "#fb9f3a"
             ],
             [
              0.8888888888888888,
              "#fdca26"
             ],
             [
              1,
              "#f0f921"
             ]
            ],
            "type": "heatmapgl"
           }
          ],
          "histogram": [
           {
            "marker": {
             "pattern": {
              "fillmode": "overlay",
              "size": 10,
              "solidity": 0.2
             }
            },
            "type": "histogram"
           }
          ],
          "histogram2d": [
           {
            "colorbar": {
             "outlinewidth": 0,
             "ticks": ""
            },
            "colorscale": [
             [
              0,
              "#0d0887"
             ],
             [
              0.1111111111111111,
              "#46039f"
             ],
             [
              0.2222222222222222,
              "#7201a8"
             ],
             [
              0.3333333333333333,
              "#9c179e"
             ],
             [
              0.4444444444444444,
              "#bd3786"
             ],
             [
              0.5555555555555556,
              "#d8576b"
             ],
             [
              0.6666666666666666,
              "#ed7953"
             ],
             [
              0.7777777777777778,
              "#fb9f3a"
             ],
             [
              0.8888888888888888,
              "#fdca26"
             ],
             [
              1,
              "#f0f921"
             ]
            ],
            "type": "histogram2d"
           }
          ],
          "histogram2dcontour": [
           {
            "colorbar": {
             "outlinewidth": 0,
             "ticks": ""
            },
            "colorscale": [
             [
              0,
              "#0d0887"
             ],
             [
              0.1111111111111111,
              "#46039f"
             ],
             [
              0.2222222222222222,
              "#7201a8"
             ],
             [
              0.3333333333333333,
              "#9c179e"
             ],
             [
              0.4444444444444444,
              "#bd3786"
             ],
             [
              0.5555555555555556,
              "#d8576b"
             ],
             [
              0.6666666666666666,
              "#ed7953"
             ],
             [
              0.7777777777777778,
              "#fb9f3a"
             ],
             [
              0.8888888888888888,
              "#fdca26"
             ],
             [
              1,
              "#f0f921"
             ]
            ],
            "type": "histogram2dcontour"
           }
          ],
          "mesh3d": [
           {
            "colorbar": {
             "outlinewidth": 0,
             "ticks": ""
            },
            "type": "mesh3d"
           }
          ],
          "parcoords": [
           {
            "line": {
             "colorbar": {
              "outlinewidth": 0,
              "ticks": ""
             }
            },
            "type": "parcoords"
           }
          ],
          "pie": [
           {
            "automargin": true,
            "type": "pie"
           }
          ],
          "scatter": [
           {
            "fillpattern": {
             "fillmode": "overlay",
             "size": 10,
             "solidity": 0.2
            },
            "type": "scatter"
           }
          ],
          "scatter3d": [
           {
            "line": {
             "colorbar": {
              "outlinewidth": 0,
              "ticks": ""
             }
            },
            "marker": {
             "colorbar": {
              "outlinewidth": 0,
              "ticks": ""
             }
            },
            "type": "scatter3d"
           }
          ],
          "scattercarpet": [
           {
            "marker": {
             "colorbar": {
              "outlinewidth": 0,
              "ticks": ""
             }
            },
            "type": "scattercarpet"
           }
          ],
          "scattergeo": [
           {
            "marker": {
             "colorbar": {
              "outlinewidth": 0,
              "ticks": ""
             }
            },
            "type": "scattergeo"
           }
          ],
          "scattergl": [
           {
            "marker": {
             "colorbar": {
              "outlinewidth": 0,
              "ticks": ""
             }
            },
            "type": "scattergl"
           }
          ],
          "scattermapbox": [
           {
            "marker": {
             "colorbar": {
              "outlinewidth": 0,
              "ticks": ""
             }
            },
            "type": "scattermapbox"
           }
          ],
          "scatterpolar": [
           {
            "marker": {
             "colorbar": {
              "outlinewidth": 0,
              "ticks": ""
             }
            },
            "type": "scatterpolar"
           }
          ],
          "scatterpolargl": [
           {
            "marker": {
             "colorbar": {
              "outlinewidth": 0,
              "ticks": ""
             }
            },
            "type": "scatterpolargl"
           }
          ],
          "scatterternary": [
           {
            "marker": {
             "colorbar": {
              "outlinewidth": 0,
              "ticks": ""
             }
            },
            "type": "scatterternary"
           }
          ],
          "surface": [
           {
            "colorbar": {
             "outlinewidth": 0,
             "ticks": ""
            },
            "colorscale": [
             [
              0,
              "#0d0887"
             ],
             [
              0.1111111111111111,
              "#46039f"
             ],
             [
              0.2222222222222222,
              "#7201a8"
             ],
             [
              0.3333333333333333,
              "#9c179e"
             ],
             [
              0.4444444444444444,
              "#bd3786"
             ],
             [
              0.5555555555555556,
              "#d8576b"
             ],
             [
              0.6666666666666666,
              "#ed7953"
             ],
             [
              0.7777777777777778,
              "#fb9f3a"
             ],
             [
              0.8888888888888888,
              "#fdca26"
             ],
             [
              1,
              "#f0f921"
             ]
            ],
            "type": "surface"
           }
          ],
          "table": [
           {
            "cells": {
             "fill": {
              "color": "#EBF0F8"
             },
             "line": {
              "color": "white"
             }
            },
            "header": {
             "fill": {
              "color": "#C8D4E3"
             },
             "line": {
              "color": "white"
             }
            },
            "type": "table"
           }
          ]
         },
         "layout": {
          "annotationdefaults": {
           "arrowcolor": "#2a3f5f",
           "arrowhead": 0,
           "arrowwidth": 1
          },
          "autotypenumbers": "strict",
          "coloraxis": {
           "colorbar": {
            "outlinewidth": 0,
            "ticks": ""
           }
          },
          "colorscale": {
           "diverging": [
            [
             0,
             "#8e0152"
            ],
            [
             0.1,
             "#c51b7d"
            ],
            [
             0.2,
             "#de77ae"
            ],
            [
             0.3,
             "#f1b6da"
            ],
            [
             0.4,
             "#fde0ef"
            ],
            [
             0.5,
             "#f7f7f7"
            ],
            [
             0.6,
             "#e6f5d0"
            ],
            [
             0.7,
             "#b8e186"
            ],
            [
             0.8,
             "#7fbc41"
            ],
            [
             0.9,
             "#4d9221"
            ],
            [
             1,
             "#276419"
            ]
           ],
           "sequential": [
            [
             0,
             "#0d0887"
            ],
            [
             0.1111111111111111,
             "#46039f"
            ],
            [
             0.2222222222222222,
             "#7201a8"
            ],
            [
             0.3333333333333333,
             "#9c179e"
            ],
            [
             0.4444444444444444,
             "#bd3786"
            ],
            [
             0.5555555555555556,
             "#d8576b"
            ],
            [
             0.6666666666666666,
             "#ed7953"
            ],
            [
             0.7777777777777778,
             "#fb9f3a"
            ],
            [
             0.8888888888888888,
             "#fdca26"
            ],
            [
             1,
             "#f0f921"
            ]
           ],
           "sequentialminus": [
            [
             0,
             "#0d0887"
            ],
            [
             0.1111111111111111,
             "#46039f"
            ],
            [
             0.2222222222222222,
             "#7201a8"
            ],
            [
             0.3333333333333333,
             "#9c179e"
            ],
            [
             0.4444444444444444,
             "#bd3786"
            ],
            [
             0.5555555555555556,
             "#d8576b"
            ],
            [
             0.6666666666666666,
             "#ed7953"
            ],
            [
             0.7777777777777778,
             "#fb9f3a"
            ],
            [
             0.8888888888888888,
             "#fdca26"
            ],
            [
             1,
             "#f0f921"
            ]
           ]
          },
          "colorway": [
           "#636efa",
           "#EF553B",
           "#00cc96",
           "#ab63fa",
           "#FFA15A",
           "#19d3f3",
           "#FF6692",
           "#B6E880",
           "#FF97FF",
           "#FECB52"
          ],
          "font": {
           "color": "#2a3f5f"
          },
          "geo": {
           "bgcolor": "white",
           "lakecolor": "white",
           "landcolor": "#E5ECF6",
           "showlakes": true,
           "showland": true,
           "subunitcolor": "white"
          },
          "hoverlabel": {
           "align": "left"
          },
          "hovermode": "closest",
          "mapbox": {
           "style": "light"
          },
          "paper_bgcolor": "white",
          "plot_bgcolor": "#E5ECF6",
          "polar": {
           "angularaxis": {
            "gridcolor": "white",
            "linecolor": "white",
            "ticks": ""
           },
           "bgcolor": "#E5ECF6",
           "radialaxis": {
            "gridcolor": "white",
            "linecolor": "white",
            "ticks": ""
           }
          },
          "scene": {
           "xaxis": {
            "backgroundcolor": "#E5ECF6",
            "gridcolor": "white",
            "gridwidth": 2,
            "linecolor": "white",
            "showbackground": true,
            "ticks": "",
            "zerolinecolor": "white"
           },
           "yaxis": {
            "backgroundcolor": "#E5ECF6",
            "gridcolor": "white",
            "gridwidth": 2,
            "linecolor": "white",
            "showbackground": true,
            "ticks": "",
            "zerolinecolor": "white"
           },
           "zaxis": {
            "backgroundcolor": "#E5ECF6",
            "gridcolor": "white",
            "gridwidth": 2,
            "linecolor": "white",
            "showbackground": true,
            "ticks": "",
            "zerolinecolor": "white"
           }
          },
          "shapedefaults": {
           "line": {
            "color": "#2a3f5f"
           }
          },
          "ternary": {
           "aaxis": {
            "gridcolor": "white",
            "linecolor": "white",
            "ticks": ""
           },
           "baxis": {
            "gridcolor": "white",
            "linecolor": "white",
            "ticks": ""
           },
           "bgcolor": "#E5ECF6",
           "caxis": {
            "gridcolor": "white",
            "linecolor": "white",
            "ticks": ""
           }
          },
          "title": {
           "x": 0.05
          },
          "xaxis": {
           "automargin": true,
           "gridcolor": "white",
           "linecolor": "white",
           "ticks": "",
           "title": {
            "standoff": 15
           },
           "zerolinecolor": "white",
           "zerolinewidth": 2
          },
          "yaxis": {
           "automargin": true,
           "gridcolor": "white",
           "linecolor": "white",
           "ticks": "",
           "title": {
            "standoff": 15
           },
           "zerolinecolor": "white",
           "zerolinewidth": 2
          }
         }
        },
        "title": {
         "text": "Impact of standardization process on UMAP"
        },
        "width": 1200,
        "xaxis": {
         "tickangle": 90,
         "title": {
          "text": "Dataset view"
         }
        },
        "yaxis": {
         "title": {
          "text": "Accuracy of best UMAP and best classifier"
         }
        }
       }
      }
     },
     "metadata": {},
     "output_type": "display_data"
    }
   ],
   "source": [
    "experiment_uniq = [c for c in unique_exp_columns if c not in [\"train_datasets\", \"view\"]]\n",
    "\n",
    "df = results.copy()\n",
    "df = filter_domain_fft_only(df)\n",
    "df = filter_features_all(df)\n",
    "df = filter_reducer_over_all(df)\n",
    "df = filter_scaler_none(df)\n",
    "df = filter_only_reducer_dataset_equals_train_dataset_or_no_reducer(df)\n",
    "\n",
    "fig = go.Figure()\n",
    "\n",
    "\n",
    "for i, (dset_name, train_df) in enumerate(df.groupby([\"train_datasets\"])):\n",
    "    xs, ys = [], []\n",
    "    for j, (view_name, subdf) in enumerate(train_df.groupby(\"view\")):\n",
    "        umap_0_max = subdf[subdf[\"umap components\"] == 0][\"accuracy (mean)\"].max()\n",
    "        xs.append(f\"{dset_name} {view_name.split('_')[0]} (no umap)\")\n",
    "        ys.append(umap_0_max)\n",
    "    \n",
    "    fig.add_trace(\n",
    "        go.Bar(\n",
    "            x=xs,\n",
    "            y=ys,\n",
    "            name=f\"{dset_name} no umap\",\n",
    "            marker=dict(color=colors[0]),\n",
    "            legendgroup=\"no umap\",\n",
    "        )\n",
    "    )\n",
    "    xs, ys = [], []\n",
    "    for j, (view_name, subdf) in enumerate(train_df.groupby(\"view\")):\n",
    "        umap_best_max = subdf[subdf[\"umap components\"] > 0][\"accuracy (mean)\"].max()\n",
    "        xs.append(f\"{dset_name} {view_name.split('_')[0]} (best umap)\")\n",
    "        ys.append(umap_best_max)\n",
    "    \n",
    "    fig.add_trace(\n",
    "        go.Bar(\n",
    "            x=xs,\n",
    "            y=ys,\n",
    "            name=f\"{dset_name} best umap\",\n",
    "            marker=dict(color=colors[1]),\n",
    "            legendgroup=\"best umap\",\n",
    "        )\n",
    "    )\n",
    "\n",
    "fig.update_layout(\n",
    "    title=\"Impact of standardization process on UMAP\",\n",
    "    xaxis_title=\"Dataset view\",\n",
    "    yaxis_title=\"Accuracy of best UMAP and best classifier\",\n",
    "    legend_title=\"Estimator\",\n",
    "    width=1200,\n",
    "    height=800,\n",
    "    xaxis=dict(tickangle=90)\n",
    ")\n",
    "\n",
    "# fig.update_xaxes(tickangle=75)\n",
    "fig.show()"
   ]
  },
  {
   "attachments": {},
   "cell_type": "markdown",
   "metadata": {},
   "source": [
    "## Pergunta 2\n",
    "\n",
    "Como a escolha do dataset no treinamento do UMAP afeta os resultados da tarefa?"
   ]
  },
  {
   "cell_type": "code",
   "execution_count": 30,
   "metadata": {},
   "outputs": [
    {
     "name": "stderr",
     "output_type": "stream",
     "text": [
      "/tmp/ipykernel_205650/3671092761.py:19: SettingWithCopyWarning:\n",
      "\n",
      "\n",
      "A value is trying to be set on a copy of a slice from a DataFrame\n",
      "\n",
      "See the caveats in the documentation: https://pandas.pydata.org/pandas-docs/stable/user_guide/indexing.html#returning-a-view-versus-a-copy\n",
      "\n"
     ]
    },
    {
     "data": {
      "application/vnd.plotly.v1+json": {
       "config": {
        "plotlyServerURL": "https://plot.ly"
       },
       "data": [
        {
         "marker": {
          "color": "#636EFA",
          "size": 7,
          "symbol": "circle"
         },
         "mode": "lines+markers",
         "name": "UMAP 2 components",
         "type": "scatter",
         "x": [
          0,
          1,
          2,
          3,
          4,
          5,
          6,
          7,
          8,
          9,
          10,
          11,
          12,
          13,
          14,
          15,
          16,
          17,
          18,
          19
         ],
         "y": [
          0.513888888888889,
          0.5416666666666667,
          0.5416666666666667,
          0.5555555555555556,
          0.5694444444444444,
          0.5902777777777778,
          0.5916666666666667,
          0.6104166666666666,
          0.6158333333333335,
          0.6319444444444444,
          0.638888888888889,
          0.6416666666666667,
          0.6533333333333333,
          0.6583333333333333,
          0.6944444444444444,
          0.7,
          0.7333333333333333,
          0.7590277777777777,
          0.763888888888889,
          0.7916666666666667
         ]
        },
        {
         "marker": {
          "color": "#00CC96",
          "size": 7,
          "symbol": "circle"
         },
         "mode": "lines+markers",
         "name": "UMAP 3 components",
         "type": "scatter",
         "x": [
          0,
          1,
          2,
          3,
          4,
          5,
          6,
          7,
          8,
          9,
          10,
          11,
          12,
          13,
          14,
          15,
          16,
          17,
          18,
          19
         ],
         "y": [
          0.5625,
          0.5625,
          0.5694444444444444,
          0.5694444444444444,
          0.5783333333333333,
          0.5833333333333333,
          0.5833333333333333,
          0.6416666666666667,
          0.6458333333333333,
          0.6525000000000001,
          0.6666666666666667,
          0.6833333333333333,
          0.6916666666666667,
          0.7,
          0.701388888888889,
          0.7152777777777778,
          0.7666666666666667,
          0.7708333333333333,
          0.798611111111111,
          0.825
         ]
        },
        {
         "marker": {
          "color": "#AB63FA",
          "size": 7,
          "symbol": "circle"
         },
         "mode": "lines+markers",
         "name": "UMAP 4 components",
         "type": "scatter",
         "x": [
          0,
          1,
          2,
          3,
          4,
          5,
          6,
          7,
          8,
          9,
          10,
          11,
          12,
          13,
          14,
          15,
          16,
          17,
          18,
          19
         ],
         "y": [
          0.5277777777777778,
          0.5416666666666667,
          0.5826388888888889,
          0.5840277777777778,
          0.6041666666666667,
          0.6090277777777777,
          0.6166666666666666,
          0.6275000000000001,
          0.6527777777777778,
          0.6631944444444445,
          0.6849999999999999,
          0.6916666666666667,
          0.6950000000000001,
          0.7180555555555556,
          0.7266666666666667,
          0.7291666666666667,
          0.7649999999999999,
          0.7819444444444444,
          0.8075000000000001,
          0.8333333333333334
         ]
        },
        {
         "marker": {
          "color": "#FFA15A",
          "size": 7,
          "symbol": "circle"
         },
         "mode": "lines+markers",
         "name": "UMAP 5 components",
         "type": "scatter",
         "x": [
          0,
          1,
          2,
          3,
          4,
          5,
          6,
          7,
          8,
          9,
          10,
          11,
          12,
          13,
          14,
          15,
          16,
          17,
          18,
          19
         ],
         "y": [
          0.5625,
          0.5756944444444444,
          0.576388888888889,
          0.5902777777777778,
          0.5902777777777778,
          0.5999999999999999,
          0.6159722222222223,
          0.6284722222222223,
          0.6591666666666667,
          0.6729166666666666,
          0.6991666666666666,
          0.7249999999999999,
          0.7291666666666667,
          0.7333333333333333,
          0.7333333333333333,
          0.7506944444444444,
          0.7534722222222223,
          0.7583333333333332,
          0.805,
          0.8152777777777779
         ]
        },
        {
         "marker": {
          "color": "#19D3F3",
          "size": 7,
          "symbol": "circle"
         },
         "mode": "lines+markers",
         "name": "UMAP 6 components",
         "type": "scatter",
         "x": [
          0,
          1,
          2,
          3,
          4,
          5,
          6,
          7,
          8,
          9,
          10,
          11,
          12,
          13,
          14,
          15,
          16,
          17,
          18,
          19
         ],
         "y": [
          0.5555555555555556,
          0.576388888888889,
          0.5833333333333333,
          0.5868055555555556,
          0.5972222222222221,
          0.6225,
          0.625,
          0.6319444444444444,
          0.6458333333333333,
          0.6658333333333333,
          0.6666666666666667,
          0.7008333333333333,
          0.7152777777777778,
          0.7249999999999999,
          0.7333333333333333,
          0.7479166666666666,
          0.7756944444444445,
          0.7925000000000001,
          0.798611111111111,
          0.8083333333333333
         ]
        },
        {
         "marker": {
          "color": "#FF6692",
          "size": 7,
          "symbol": "circle"
         },
         "mode": "lines+markers",
         "name": "UMAP 7 components",
         "type": "scatter",
         "x": [
          0,
          1,
          2,
          3,
          4,
          5,
          6,
          7,
          8,
          9,
          10,
          11,
          12,
          13,
          14,
          15,
          16,
          17,
          18,
          19
         ],
         "y": [
          0.5361111111111112,
          0.5854166666666667,
          0.625,
          0.625,
          0.625,
          0.6270833333333334,
          0.6475,
          0.648611111111111,
          0.6508333333333333,
          0.6805555555555556,
          0.6849999999999999,
          0.7216666666666667,
          0.7225,
          0.7325000000000002,
          0.7430555555555556,
          0.7527777777777779,
          0.763888888888889,
          0.7916666666666667,
          0.81875,
          0.82
         ]
        },
        {
         "marker": {
          "color": "#B6E880",
          "size": 7,
          "symbol": "circle"
         },
         "mode": "lines+markers",
         "name": "UMAP 8 components",
         "type": "scatter",
         "x": [
          0,
          1,
          2,
          3,
          4,
          5,
          6,
          7,
          8,
          9,
          10,
          11,
          12,
          13,
          14,
          15,
          16,
          17,
          18,
          19
         ],
         "y": [
          0.5833333333333333,
          0.5883333333333333,
          0.5902777777777778,
          0.5902777777777778,
          0.607638888888889,
          0.6104166666666667,
          0.6333333333333332,
          0.6444444444444445,
          0.6475000000000001,
          0.6534722222222223,
          0.6597222222222222,
          0.6858333333333333,
          0.6933333333333332,
          0.7074999999999999,
          0.7138888888888888,
          0.7472222222222221,
          0.77,
          0.788888888888889,
          0.798611111111111,
          0.8
         ]
        },
        {
         "marker": {
          "color": "#FF97FF",
          "size": 7,
          "symbol": "circle"
         },
         "mode": "lines+markers",
         "name": "UMAP 9 components",
         "type": "scatter",
         "x": [
          0,
          1,
          2,
          3,
          4,
          5,
          6,
          7,
          8,
          9,
          10,
          11,
          12,
          13,
          14,
          15,
          16,
          17,
          18,
          19
         ],
         "y": [
          0.5631944444444444,
          0.5694444444444444,
          0.5993055555555555,
          0.6041666666666667,
          0.615,
          0.6256944444444444,
          0.6569444444444444,
          0.6666666666666667,
          0.6849999999999999,
          0.6875,
          0.7,
          0.705,
          0.72,
          0.7388888888888887,
          0.7491666666666668,
          0.7591666666666667,
          0.7708333333333333,
          0.7888888888888889,
          0.8008333333333333,
          0.8194444444444444
         ]
        },
        {
         "marker": {
          "color": "#FECB52",
          "size": 7,
          "symbol": "circle"
         },
         "mode": "lines+markers",
         "name": "UMAP 10 components",
         "type": "scatter",
         "x": [
          0,
          1,
          2,
          3,
          4,
          5,
          6,
          7,
          8,
          9,
          10,
          11,
          12,
          13,
          14,
          15,
          16,
          17,
          18,
          19
         ],
         "y": [
          0.5722222222222222,
          0.576388888888889,
          0.6041666666666667,
          0.6041666666666667,
          0.6241666666666668,
          0.6298611111111111,
          0.6340277777777777,
          0.6666666666666667,
          0.6725000000000001,
          0.6783333333333332,
          0.6805555555555556,
          0.6916666666666667,
          0.7266666666666667,
          0.7291666666666667,
          0.7591666666666665,
          0.7675000000000001,
          0.7680555555555556,
          0.7833333333333332,
          0.8116666666666668,
          0.8541666666666666
         ]
        },
        {
         "marker": {
          "color": "#EF553B",
          "size": 7,
          "symbol": "circle"
         },
         "mode": "lines+markers",
         "name": "UMAP 15 components",
         "type": "scatter",
         "x": [
          0,
          1,
          2,
          3,
          4,
          5,
          6,
          7,
          8,
          9,
          10,
          11,
          12,
          13,
          14,
          15,
          16,
          17,
          18,
          19
         ],
         "y": [
          0.5416666666666667,
          0.5715277777777779,
          0.611111111111111,
          0.6275000000000001,
          0.6316666666666667,
          0.6381944444444445,
          0.638888888888889,
          0.6416666666666667,
          0.6465277777777777,
          0.648611111111111,
          0.6527777777777778,
          0.6816666666666666,
          0.7249999999999999,
          0.7541666666666667,
          0.7576388888888889,
          0.7638888888888888,
          0.7758333333333333,
          0.7993055555555555,
          0.8016666666666667,
          0.8243055555555555
         ]
        },
        {
         "marker": {
          "color": "#636EFA",
          "size": 7,
          "symbol": "square"
         },
         "mode": "lines+markers",
         "name": "UMAP 20 components",
         "type": "scatter",
         "x": [
          0,
          1,
          2,
          3,
          4,
          5,
          6,
          7,
          8,
          9,
          10,
          11,
          12,
          13,
          14,
          15,
          16,
          17,
          18,
          19
         ],
         "y": [
          0.5694444444444444,
          0.5902777777777778,
          0.6041666666666667,
          0.6041666666666667,
          0.6069444444444444,
          0.611111111111111,
          0.6354166666666666,
          0.6558333333333333,
          0.6805555555555556,
          0.685,
          0.6916666666666667,
          0.6991666666666667,
          0.7083333333333333,
          0.725,
          0.7416666666666666,
          0.7583333333333332,
          0.7770833333333332,
          0.7805555555555556,
          0.805,
          0.8326388888888889
         ]
        }
       ],
       "layout": {
        "height": 600,
        "legend": {
         "title": {
          "text": "UMAP Components"
         }
        },
        "template": {
         "data": {
          "bar": [
           {
            "error_x": {
             "color": "#2a3f5f"
            },
            "error_y": {
             "color": "#2a3f5f"
            },
            "marker": {
             "line": {
              "color": "#E5ECF6",
              "width": 0.5
             },
             "pattern": {
              "fillmode": "overlay",
              "size": 10,
              "solidity": 0.2
             }
            },
            "type": "bar"
           }
          ],
          "barpolar": [
           {
            "marker": {
             "line": {
              "color": "#E5ECF6",
              "width": 0.5
             },
             "pattern": {
              "fillmode": "overlay",
              "size": 10,
              "solidity": 0.2
             }
            },
            "type": "barpolar"
           }
          ],
          "carpet": [
           {
            "aaxis": {
             "endlinecolor": "#2a3f5f",
             "gridcolor": "white",
             "linecolor": "white",
             "minorgridcolor": "white",
             "startlinecolor": "#2a3f5f"
            },
            "baxis": {
             "endlinecolor": "#2a3f5f",
             "gridcolor": "white",
             "linecolor": "white",
             "minorgridcolor": "white",
             "startlinecolor": "#2a3f5f"
            },
            "type": "carpet"
           }
          ],
          "choropleth": [
           {
            "colorbar": {
             "outlinewidth": 0,
             "ticks": ""
            },
            "type": "choropleth"
           }
          ],
          "contour": [
           {
            "colorbar": {
             "outlinewidth": 0,
             "ticks": ""
            },
            "colorscale": [
             [
              0,
              "#0d0887"
             ],
             [
              0.1111111111111111,
              "#46039f"
             ],
             [
              0.2222222222222222,
              "#7201a8"
             ],
             [
              0.3333333333333333,
              "#9c179e"
             ],
             [
              0.4444444444444444,
              "#bd3786"
             ],
             [
              0.5555555555555556,
              "#d8576b"
             ],
             [
              0.6666666666666666,
              "#ed7953"
             ],
             [
              0.7777777777777778,
              "#fb9f3a"
             ],
             [
              0.8888888888888888,
              "#fdca26"
             ],
             [
              1,
              "#f0f921"
             ]
            ],
            "type": "contour"
           }
          ],
          "contourcarpet": [
           {
            "colorbar": {
             "outlinewidth": 0,
             "ticks": ""
            },
            "type": "contourcarpet"
           }
          ],
          "heatmap": [
           {
            "colorbar": {
             "outlinewidth": 0,
             "ticks": ""
            },
            "colorscale": [
             [
              0,
              "#0d0887"
             ],
             [
              0.1111111111111111,
              "#46039f"
             ],
             [
              0.2222222222222222,
              "#7201a8"
             ],
             [
              0.3333333333333333,
              "#9c179e"
             ],
             [
              0.4444444444444444,
              "#bd3786"
             ],
             [
              0.5555555555555556,
              "#d8576b"
             ],
             [
              0.6666666666666666,
              "#ed7953"
             ],
             [
              0.7777777777777778,
              "#fb9f3a"
             ],
             [
              0.8888888888888888,
              "#fdca26"
             ],
             [
              1,
              "#f0f921"
             ]
            ],
            "type": "heatmap"
           }
          ],
          "heatmapgl": [
           {
            "colorbar": {
             "outlinewidth": 0,
             "ticks": ""
            },
            "colorscale": [
             [
              0,
              "#0d0887"
             ],
             [
              0.1111111111111111,
              "#46039f"
             ],
             [
              0.2222222222222222,
              "#7201a8"
             ],
             [
              0.3333333333333333,
              "#9c179e"
             ],
             [
              0.4444444444444444,
              "#bd3786"
             ],
             [
              0.5555555555555556,
              "#d8576b"
             ],
             [
              0.6666666666666666,
              "#ed7953"
             ],
             [
              0.7777777777777778,
              "#fb9f3a"
             ],
             [
              0.8888888888888888,
              "#fdca26"
             ],
             [
              1,
              "#f0f921"
             ]
            ],
            "type": "heatmapgl"
           }
          ],
          "histogram": [
           {
            "marker": {
             "pattern": {
              "fillmode": "overlay",
              "size": 10,
              "solidity": 0.2
             }
            },
            "type": "histogram"
           }
          ],
          "histogram2d": [
           {
            "colorbar": {
             "outlinewidth": 0,
             "ticks": ""
            },
            "colorscale": [
             [
              0,
              "#0d0887"
             ],
             [
              0.1111111111111111,
              "#46039f"
             ],
             [
              0.2222222222222222,
              "#7201a8"
             ],
             [
              0.3333333333333333,
              "#9c179e"
             ],
             [
              0.4444444444444444,
              "#bd3786"
             ],
             [
              0.5555555555555556,
              "#d8576b"
             ],
             [
              0.6666666666666666,
              "#ed7953"
             ],
             [
              0.7777777777777778,
              "#fb9f3a"
             ],
             [
              0.8888888888888888,
              "#fdca26"
             ],
             [
              1,
              "#f0f921"
             ]
            ],
            "type": "histogram2d"
           }
          ],
          "histogram2dcontour": [
           {
            "colorbar": {
             "outlinewidth": 0,
             "ticks": ""
            },
            "colorscale": [
             [
              0,
              "#0d0887"
             ],
             [
              0.1111111111111111,
              "#46039f"
             ],
             [
              0.2222222222222222,
              "#7201a8"
             ],
             [
              0.3333333333333333,
              "#9c179e"
             ],
             [
              0.4444444444444444,
              "#bd3786"
             ],
             [
              0.5555555555555556,
              "#d8576b"
             ],
             [
              0.6666666666666666,
              "#ed7953"
             ],
             [
              0.7777777777777778,
              "#fb9f3a"
             ],
             [
              0.8888888888888888,
              "#fdca26"
             ],
             [
              1,
              "#f0f921"
             ]
            ],
            "type": "histogram2dcontour"
           }
          ],
          "mesh3d": [
           {
            "colorbar": {
             "outlinewidth": 0,
             "ticks": ""
            },
            "type": "mesh3d"
           }
          ],
          "parcoords": [
           {
            "line": {
             "colorbar": {
              "outlinewidth": 0,
              "ticks": ""
             }
            },
            "type": "parcoords"
           }
          ],
          "pie": [
           {
            "automargin": true,
            "type": "pie"
           }
          ],
          "scatter": [
           {
            "fillpattern": {
             "fillmode": "overlay",
             "size": 10,
             "solidity": 0.2
            },
            "type": "scatter"
           }
          ],
          "scatter3d": [
           {
            "line": {
             "colorbar": {
              "outlinewidth": 0,
              "ticks": ""
             }
            },
            "marker": {
             "colorbar": {
              "outlinewidth": 0,
              "ticks": ""
             }
            },
            "type": "scatter3d"
           }
          ],
          "scattercarpet": [
           {
            "marker": {
             "colorbar": {
              "outlinewidth": 0,
              "ticks": ""
             }
            },
            "type": "scattercarpet"
           }
          ],
          "scattergeo": [
           {
            "marker": {
             "colorbar": {
              "outlinewidth": 0,
              "ticks": ""
             }
            },
            "type": "scattergeo"
           }
          ],
          "scattergl": [
           {
            "marker": {
             "colorbar": {
              "outlinewidth": 0,
              "ticks": ""
             }
            },
            "type": "scattergl"
           }
          ],
          "scattermapbox": [
           {
            "marker": {
             "colorbar": {
              "outlinewidth": 0,
              "ticks": ""
             }
            },
            "type": "scattermapbox"
           }
          ],
          "scatterpolar": [
           {
            "marker": {
             "colorbar": {
              "outlinewidth": 0,
              "ticks": ""
             }
            },
            "type": "scatterpolar"
           }
          ],
          "scatterpolargl": [
           {
            "marker": {
             "colorbar": {
              "outlinewidth": 0,
              "ticks": ""
             }
            },
            "type": "scatterpolargl"
           }
          ],
          "scatterternary": [
           {
            "marker": {
             "colorbar": {
              "outlinewidth": 0,
              "ticks": ""
             }
            },
            "type": "scatterternary"
           }
          ],
          "surface": [
           {
            "colorbar": {
             "outlinewidth": 0,
             "ticks": ""
            },
            "colorscale": [
             [
              0,
              "#0d0887"
             ],
             [
              0.1111111111111111,
              "#46039f"
             ],
             [
              0.2222222222222222,
              "#7201a8"
             ],
             [
              0.3333333333333333,
              "#9c179e"
             ],
             [
              0.4444444444444444,
              "#bd3786"
             ],
             [
              0.5555555555555556,
              "#d8576b"
             ],
             [
              0.6666666666666666,
              "#ed7953"
             ],
             [
              0.7777777777777778,
              "#fb9f3a"
             ],
             [
              0.8888888888888888,
              "#fdca26"
             ],
             [
              1,
              "#f0f921"
             ]
            ],
            "type": "surface"
           }
          ],
          "table": [
           {
            "cells": {
             "fill": {
              "color": "#EBF0F8"
             },
             "line": {
              "color": "white"
             }
            },
            "header": {
             "fill": {
              "color": "#C8D4E3"
             },
             "line": {
              "color": "white"
             }
            },
            "type": "table"
           }
          ]
         },
         "layout": {
          "annotationdefaults": {
           "arrowcolor": "#2a3f5f",
           "arrowhead": 0,
           "arrowwidth": 1
          },
          "autotypenumbers": "strict",
          "coloraxis": {
           "colorbar": {
            "outlinewidth": 0,
            "ticks": ""
           }
          },
          "colorscale": {
           "diverging": [
            [
             0,
             "#8e0152"
            ],
            [
             0.1,
             "#c51b7d"
            ],
            [
             0.2,
             "#de77ae"
            ],
            [
             0.3,
             "#f1b6da"
            ],
            [
             0.4,
             "#fde0ef"
            ],
            [
             0.5,
             "#f7f7f7"
            ],
            [
             0.6,
             "#e6f5d0"
            ],
            [
             0.7,
             "#b8e186"
            ],
            [
             0.8,
             "#7fbc41"
            ],
            [
             0.9,
             "#4d9221"
            ],
            [
             1,
             "#276419"
            ]
           ],
           "sequential": [
            [
             0,
             "#0d0887"
            ],
            [
             0.1111111111111111,
             "#46039f"
            ],
            [
             0.2222222222222222,
             "#7201a8"
            ],
            [
             0.3333333333333333,
             "#9c179e"
            ],
            [
             0.4444444444444444,
             "#bd3786"
            ],
            [
             0.5555555555555556,
             "#d8576b"
            ],
            [
             0.6666666666666666,
             "#ed7953"
            ],
            [
             0.7777777777777778,
             "#fb9f3a"
            ],
            [
             0.8888888888888888,
             "#fdca26"
            ],
            [
             1,
             "#f0f921"
            ]
           ],
           "sequentialminus": [
            [
             0,
             "#0d0887"
            ],
            [
             0.1111111111111111,
             "#46039f"
            ],
            [
             0.2222222222222222,
             "#7201a8"
            ],
            [
             0.3333333333333333,
             "#9c179e"
            ],
            [
             0.4444444444444444,
             "#bd3786"
            ],
            [
             0.5555555555555556,
             "#d8576b"
            ],
            [
             0.6666666666666666,
             "#ed7953"
            ],
            [
             0.7777777777777778,
             "#fb9f3a"
            ],
            [
             0.8888888888888888,
             "#fdca26"
            ],
            [
             1,
             "#f0f921"
            ]
           ]
          },
          "colorway": [
           "#636efa",
           "#EF553B",
           "#00cc96",
           "#ab63fa",
           "#FFA15A",
           "#19d3f3",
           "#FF6692",
           "#B6E880",
           "#FF97FF",
           "#FECB52"
          ],
          "font": {
           "color": "#2a3f5f"
          },
          "geo": {
           "bgcolor": "white",
           "lakecolor": "white",
           "landcolor": "#E5ECF6",
           "showlakes": true,
           "showland": true,
           "subunitcolor": "white"
          },
          "hoverlabel": {
           "align": "left"
          },
          "hovermode": "closest",
          "mapbox": {
           "style": "light"
          },
          "paper_bgcolor": "white",
          "plot_bgcolor": "#E5ECF6",
          "polar": {
           "angularaxis": {
            "gridcolor": "white",
            "linecolor": "white",
            "ticks": ""
           },
           "bgcolor": "#E5ECF6",
           "radialaxis": {
            "gridcolor": "white",
            "linecolor": "white",
            "ticks": ""
           }
          },
          "scene": {
           "xaxis": {
            "backgroundcolor": "#E5ECF6",
            "gridcolor": "white",
            "gridwidth": 2,
            "linecolor": "white",
            "showbackground": true,
            "ticks": "",
            "zerolinecolor": "white"
           },
           "yaxis": {
            "backgroundcolor": "#E5ECF6",
            "gridcolor": "white",
            "gridwidth": 2,
            "linecolor": "white",
            "showbackground": true,
            "ticks": "",
            "zerolinecolor": "white"
           },
           "zaxis": {
            "backgroundcolor": "#E5ECF6",
            "gridcolor": "white",
            "gridwidth": 2,
            "linecolor": "white",
            "showbackground": true,
            "ticks": "",
            "zerolinecolor": "white"
           }
          },
          "shapedefaults": {
           "line": {
            "color": "#2a3f5f"
           }
          },
          "ternary": {
           "aaxis": {
            "gridcolor": "white",
            "linecolor": "white",
            "ticks": ""
           },
           "baxis": {
            "gridcolor": "white",
            "linecolor": "white",
            "ticks": ""
           },
           "bgcolor": "#E5ECF6",
           "caxis": {
            "gridcolor": "white",
            "linecolor": "white",
            "ticks": ""
           }
          },
          "title": {
           "x": 0.05
          },
          "xaxis": {
           "automargin": true,
           "gridcolor": "white",
           "linecolor": "white",
           "ticks": "",
           "title": {
            "standoff": 15
           },
           "zerolinecolor": "white",
           "zerolinewidth": 2
          },
          "yaxis": {
           "automargin": true,
           "gridcolor": "white",
           "linecolor": "white",
           "ticks": "",
           "title": {
            "standoff": 15
           },
           "zerolinecolor": "white",
           "zerolinewidth": 2
          }
         }
        },
        "title": {
         "text": "FFT"
        },
        "width": 1200,
        "xaxis": {
         "title": {
          "text": "Number of experiments"
         }
        },
        "yaxis": {
         "range": [
          0,
          1
         ],
         "title": {
          "text": "Accuracy (best estimator only)"
         }
        }
       }
      }
     },
     "metadata": {},
     "output_type": "display_data"
    }
   ],
   "source": [
    "df = results.copy()\n",
    "df = filter_domain_fft_only(df)\n",
    "df = filter_features_all(df)\n",
    "df = filter_reducer_over_all(df)\n",
    "df = filter_scaler_none(df)\n",
    "df = filter_view_standardized_intra(df)\n",
    "# df = pd.concat([filter_only_reducer_dataset_diferent_from_train(df), filter_only_reducer_dataset_equals_train_dataset(df)])\n",
    "df = filter_only_reducer_dataset_diferent_from_train(df)\n",
    "df = filter_same_train_test(df)\n",
    "df = best_of_each_estimator(df)\n",
    "\n",
    "marker_colors = list(itertools.product(markers, colors))\n",
    "\n",
    "fig = go.Figure()\n",
    "\n",
    "for i, n_components in enumerate(sorted(df[\"umap components\"].unique())):\n",
    "    df_comp = df[df[\"umap components\"] == n_components]\n",
    "    # df_comp = best_of_each_estimator(df_comp)\n",
    "    df_comp.sort_values(by=\"accuracy (mean)\", inplace=True)\n",
    "    fig.add_trace(\n",
    "        go.Scatter(\n",
    "            x=list(range(len(df_comp))),\n",
    "            y=df_comp[\"accuracy (mean)\"],\n",
    "            name=f\"UMAP {n_components} components\",\n",
    "            mode=\"lines+markers\",\n",
    "            marker=dict(\n",
    "                color=marker_colors[i][1],\n",
    "                symbol=marker_colors[i][0],\n",
    "                size=7,\n",
    "            ),\n",
    "        )\n",
    "    )\n",
    "\n",
    "fig.update_layout(\n",
    "    title=\"FFT\",\n",
    "    xaxis_title=\"Number of experiments\",\n",
    "    yaxis_title=\"Accuracy (best estimator only)\",\n",
    "    legend_title=\"UMAP Components\",\n",
    "    width=1200,\n",
    "    height=600,\n",
    "    yaxis=dict(range=[0, 1]),\n",
    "    # xaxis=dict(tickmode=\"linear\")\n",
    ")\n",
    "fig.show()"
   ]
  },
  {
   "cell_type": "code",
   "execution_count": 32,
   "metadata": {},
   "outputs": [
    {
     "name": "stderr",
     "output_type": "stream",
     "text": [
      "/tmp/ipykernel_205650/2338358819.py:19: SettingWithCopyWarning:\n",
      "\n",
      "\n",
      "A value is trying to be set on a copy of a slice from a DataFrame\n",
      "\n",
      "See the caveats in the documentation: https://pandas.pydata.org/pandas-docs/stable/user_guide/indexing.html#returning-a-view-versus-a-copy\n",
      "\n"
     ]
    },
    {
     "data": {
      "application/vnd.plotly.v1+json": {
       "config": {
        "plotlyServerURL": "https://plot.ly"
       },
       "data": [
        {
         "marker": {
          "color": "#636EFA",
          "size": 7,
          "symbol": "circle"
         },
         "mode": "lines+markers",
         "name": "UMAP 2 components",
         "type": "scatter",
         "x": [
          0,
          1,
          2,
          3,
          4,
          5,
          6,
          7,
          8,
          9,
          10,
          11,
          12,
          13,
          14,
          15,
          16,
          17,
          18,
          19
         ],
         "y": [
          0.3958333333333333,
          0.3958333333333333,
          0.4027777777777778,
          0.4027777777777778,
          0.4152777777777777,
          0.4583333333333333,
          0.4638888888888889,
          0.4666666666666667,
          0.4722222222222222,
          0.4758333333333333,
          0.4891666666666666,
          0.5,
          0.5,
          0.513888888888889,
          0.5277777777777778,
          0.5333333333333333,
          0.5333333333333333,
          0.5416666666666667,
          0.5416666666666667,
          0.5716666666666667
         ]
        },
        {
         "marker": {
          "color": "#00CC96",
          "size": 7,
          "symbol": "circle"
         },
         "mode": "lines+markers",
         "name": "UMAP 3 components",
         "type": "scatter",
         "x": [
          0,
          1,
          2,
          3,
          4,
          5,
          6,
          7,
          8,
          9,
          10,
          11,
          12,
          13,
          14,
          15,
          16,
          17,
          18,
          19
         ],
         "y": [
          0.3611111111111111,
          0.4027777777777778,
          0.4027777777777778,
          0.4027777777777778,
          0.4111111111111111,
          0.4583333333333333,
          0.4722222222222222,
          0.475,
          0.5041666666666667,
          0.5083333333333332,
          0.53125,
          0.535,
          0.5433333333333333,
          0.5583333333333333,
          0.5715277777777777,
          0.5833333333333334,
          0.5902777777777778,
          0.6166666666666668,
          0.625,
          0.6319444444444444
         ]
        },
        {
         "marker": {
          "color": "#AB63FA",
          "size": 7,
          "symbol": "circle"
         },
         "mode": "lines+markers",
         "name": "UMAP 4 components",
         "type": "scatter",
         "x": [
          0,
          1,
          2,
          3,
          4,
          5,
          6,
          7,
          8,
          9,
          10,
          11,
          12,
          13,
          14,
          15,
          16,
          17,
          18,
          19
         ],
         "y": [
          0.3972222222222222,
          0.4097222222222222,
          0.4333333333333333,
          0.4444444444444445,
          0.45,
          0.4683333333333332,
          0.486111111111111,
          0.4874999999999999,
          0.4883333333333333,
          0.5201388888888888,
          0.5250000000000001,
          0.5416666666666667,
          0.5701388888888889,
          0.575,
          0.575,
          0.5756944444444444,
          0.5824999999999999,
          0.6159722222222224,
          0.625,
          0.65625
         ]
        },
        {
         "marker": {
          "color": "#FFA15A",
          "size": 7,
          "symbol": "circle"
         },
         "mode": "lines+markers",
         "name": "UMAP 5 components",
         "type": "scatter",
         "x": [
          0,
          1,
          2,
          3,
          4,
          5,
          6,
          7,
          8,
          9,
          10,
          11,
          12,
          13,
          14,
          15,
          16,
          17,
          18,
          19
         ],
         "y": [
          0.4166666666666667,
          0.417361111111111,
          0.4333333333333334,
          0.4583333333333333,
          0.4583333333333333,
          0.4694444444444444,
          0.4868055555555555,
          0.4930555555555555,
          0.513888888888889,
          0.5408333333333333,
          0.5555555555555556,
          0.5608333333333333,
          0.5725,
          0.5733333333333333,
          0.5777777777777778,
          0.595,
          0.6118055555555555,
          0.6340277777777777,
          0.6700000000000002,
          0.7125000000000001
         ]
        },
        {
         "marker": {
          "color": "#19D3F3",
          "size": 7,
          "symbol": "circle"
         },
         "mode": "lines+markers",
         "name": "UMAP 6 components",
         "type": "scatter",
         "x": [
          0,
          1,
          2,
          3,
          4,
          5,
          6,
          7,
          8,
          9,
          10,
          11,
          12,
          13,
          14,
          15,
          16,
          17,
          18,
          19
         ],
         "y": [
          0.3958333333333333,
          0.4125,
          0.425,
          0.4916666666666666,
          0.4916666666666666,
          0.5166666666666666,
          0.5173611111111112,
          0.5250000000000001,
          0.5284722222222223,
          0.5425,
          0.5527777777777778,
          0.5659722222222222,
          0.5700000000000001,
          0.570138888888889,
          0.5733333333333333,
          0.575,
          0.6366666666666667,
          0.6597222222222222,
          0.675,
          0.6958333333333334
         ]
        },
        {
         "marker": {
          "color": "#FF6692",
          "size": 7,
          "symbol": "circle"
         },
         "mode": "lines+markers",
         "name": "UMAP 7 components",
         "type": "scatter",
         "x": [
          0,
          1,
          2,
          3,
          4,
          5,
          6,
          7,
          8,
          9,
          10,
          11,
          12,
          13,
          14,
          15,
          16,
          17,
          18,
          19
         ],
         "y": [
          0.4027777777777778,
          0.4256944444444445,
          0.4375,
          0.4506944444444444,
          0.4833333333333333,
          0.4930555555555555,
          0.513888888888889,
          0.5425000000000001,
          0.5534722222222224,
          0.5555555555555556,
          0.5733333333333334,
          0.5916666666666667,
          0.59375,
          0.6066666666666667,
          0.6100000000000001,
          0.6131944444444445,
          0.625,
          0.6333333333333334,
          0.6493055555555556,
          0.6888888888888889
         ]
        },
        {
         "marker": {
          "color": "#B6E880",
          "size": 7,
          "symbol": "circle"
         },
         "mode": "lines+markers",
         "name": "UMAP 8 components",
         "type": "scatter",
         "x": [
          0,
          1,
          2,
          3,
          4,
          5,
          6,
          7,
          8,
          9,
          10,
          11,
          12,
          13,
          14,
          15,
          16,
          17,
          18,
          19
         ],
         "y": [
          0.4305555555555555,
          0.4513888888888889,
          0.4534722222222223,
          0.4722222222222222,
          0.4783333333333333,
          0.5,
          0.5166666666666667,
          0.5256944444444444,
          0.5270833333333333,
          0.5694444444444444,
          0.5716666666666667,
          0.575,
          0.5841666666666666,
          0.6083333333333333,
          0.6236111111111111,
          0.6270833333333332,
          0.6381944444444445,
          0.6416666666666667,
          0.6741666666666666,
          0.7083333333333333
         ]
        },
        {
         "marker": {
          "color": "#FF97FF",
          "size": 7,
          "symbol": "circle"
         },
         "mode": "lines+markers",
         "name": "UMAP 9 components",
         "type": "scatter",
         "x": [
          0,
          1,
          2,
          3,
          4,
          5,
          6,
          7,
          8,
          9,
          10,
          11,
          12,
          13,
          14,
          15,
          16,
          17,
          18,
          19
         ],
         "y": [
          0.4166666666666667,
          0.4375,
          0.4444444444444445,
          0.4750000000000001,
          0.4833333333333333,
          0.4833333333333333,
          0.5006944444444444,
          0.5069444444444444,
          0.5402777777777777,
          0.5633333333333332,
          0.5833333333333333,
          0.5895833333333333,
          0.6024999999999999,
          0.6041666666666667,
          0.6152777777777778,
          0.6166666666666668,
          0.6458333333333333,
          0.6466666666666666,
          0.6479166666666666,
          0.7249999999999999
         ]
        },
        {
         "marker": {
          "color": "#FECB52",
          "size": 7,
          "symbol": "circle"
         },
         "mode": "lines+markers",
         "name": "UMAP 10 components",
         "type": "scatter",
         "x": [
          0,
          1,
          2,
          3,
          4,
          5,
          6,
          7,
          8,
          9,
          10,
          11,
          12,
          13,
          14,
          15,
          16,
          17,
          18,
          19
         ],
         "y": [
          0.4222222222222221,
          0.4513888888888888,
          0.4513888888888889,
          0.4916666666666666,
          0.4972222222222222,
          0.5027777777777779,
          0.5402777777777777,
          0.5408333333333335,
          0.5590277777777778,
          0.5666666666666667,
          0.5833333333333333,
          0.5854166666666666,
          0.5908333333333333,
          0.6041666666666666,
          0.6152777777777778,
          0.6208333333333333,
          0.6319444444444444,
          0.6722222222222223,
          0.6841666666666667,
          0.7340277777777777
         ]
        },
        {
         "marker": {
          "color": "#EF553B",
          "size": 7,
          "symbol": "circle"
         },
         "mode": "lines+markers",
         "name": "UMAP 15 components",
         "type": "scatter",
         "x": [
          0,
          1,
          2,
          3,
          4,
          5,
          6,
          7,
          8,
          9,
          10,
          11,
          12,
          13,
          14,
          15,
          16,
          17,
          18,
          19
         ],
         "y": [
          0.4097222222222222,
          0.4305555555555555,
          0.4416666666666667,
          0.4583333333333333,
          0.4715277777777777,
          0.5041666666666667,
          0.5125,
          0.5423611111111111,
          0.5741666666666666,
          0.5791666666666667,
          0.5791666666666667,
          0.58,
          0.5941666666666666,
          0.6125,
          0.6158333333333333,
          0.6312500000000001,
          0.6333333333333332,
          0.6840277777777778,
          0.6900000000000001,
          0.7555555555555555
         ]
        },
        {
         "marker": {
          "color": "#636EFA",
          "size": 7,
          "symbol": "square"
         },
         "mode": "lines+markers",
         "name": "UMAP 20 components",
         "type": "scatter",
         "x": [
          0,
          1,
          2,
          3,
          4,
          5,
          6,
          7,
          8,
          9,
          10,
          11,
          12,
          13,
          14,
          15,
          16,
          17,
          18,
          19
         ],
         "y": [
          0.4145833333333333,
          0.4423611111111111,
          0.48125,
          0.4891666666666666,
          0.49375,
          0.5083333333333332,
          0.5208333333333333,
          0.554861111111111,
          0.5652777777777779,
          0.5683333333333332,
          0.5883333333333333,
          0.5902777777777778,
          0.6091666666666666,
          0.6149999999999999,
          0.6291666666666667,
          0.6316666666666666,
          0.6479166666666667,
          0.6944444444444444,
          0.7066666666666667,
          0.7159722222222221
         ]
        }
       ],
       "layout": {
        "height": 600,
        "legend": {
         "title": {
          "text": "UMAP Components"
         }
        },
        "template": {
         "data": {
          "bar": [
           {
            "error_x": {
             "color": "#2a3f5f"
            },
            "error_y": {
             "color": "#2a3f5f"
            },
            "marker": {
             "line": {
              "color": "#E5ECF6",
              "width": 0.5
             },
             "pattern": {
              "fillmode": "overlay",
              "size": 10,
              "solidity": 0.2
             }
            },
            "type": "bar"
           }
          ],
          "barpolar": [
           {
            "marker": {
             "line": {
              "color": "#E5ECF6",
              "width": 0.5
             },
             "pattern": {
              "fillmode": "overlay",
              "size": 10,
              "solidity": 0.2
             }
            },
            "type": "barpolar"
           }
          ],
          "carpet": [
           {
            "aaxis": {
             "endlinecolor": "#2a3f5f",
             "gridcolor": "white",
             "linecolor": "white",
             "minorgridcolor": "white",
             "startlinecolor": "#2a3f5f"
            },
            "baxis": {
             "endlinecolor": "#2a3f5f",
             "gridcolor": "white",
             "linecolor": "white",
             "minorgridcolor": "white",
             "startlinecolor": "#2a3f5f"
            },
            "type": "carpet"
           }
          ],
          "choropleth": [
           {
            "colorbar": {
             "outlinewidth": 0,
             "ticks": ""
            },
            "type": "choropleth"
           }
          ],
          "contour": [
           {
            "colorbar": {
             "outlinewidth": 0,
             "ticks": ""
            },
            "colorscale": [
             [
              0,
              "#0d0887"
             ],
             [
              0.1111111111111111,
              "#46039f"
             ],
             [
              0.2222222222222222,
              "#7201a8"
             ],
             [
              0.3333333333333333,
              "#9c179e"
             ],
             [
              0.4444444444444444,
              "#bd3786"
             ],
             [
              0.5555555555555556,
              "#d8576b"
             ],
             [
              0.6666666666666666,
              "#ed7953"
             ],
             [
              0.7777777777777778,
              "#fb9f3a"
             ],
             [
              0.8888888888888888,
              "#fdca26"
             ],
             [
              1,
              "#f0f921"
             ]
            ],
            "type": "contour"
           }
          ],
          "contourcarpet": [
           {
            "colorbar": {
             "outlinewidth": 0,
             "ticks": ""
            },
            "type": "contourcarpet"
           }
          ],
          "heatmap": [
           {
            "colorbar": {
             "outlinewidth": 0,
             "ticks": ""
            },
            "colorscale": [
             [
              0,
              "#0d0887"
             ],
             [
              0.1111111111111111,
              "#46039f"
             ],
             [
              0.2222222222222222,
              "#7201a8"
             ],
             [
              0.3333333333333333,
              "#9c179e"
             ],
             [
              0.4444444444444444,
              "#bd3786"
             ],
             [
              0.5555555555555556,
              "#d8576b"
             ],
             [
              0.6666666666666666,
              "#ed7953"
             ],
             [
              0.7777777777777778,
              "#fb9f3a"
             ],
             [
              0.8888888888888888,
              "#fdca26"
             ],
             [
              1,
              "#f0f921"
             ]
            ],
            "type": "heatmap"
           }
          ],
          "heatmapgl": [
           {
            "colorbar": {
             "outlinewidth": 0,
             "ticks": ""
            },
            "colorscale": [
             [
              0,
              "#0d0887"
             ],
             [
              0.1111111111111111,
              "#46039f"
             ],
             [
              0.2222222222222222,
              "#7201a8"
             ],
             [
              0.3333333333333333,
              "#9c179e"
             ],
             [
              0.4444444444444444,
              "#bd3786"
             ],
             [
              0.5555555555555556,
              "#d8576b"
             ],
             [
              0.6666666666666666,
              "#ed7953"
             ],
             [
              0.7777777777777778,
              "#fb9f3a"
             ],
             [
              0.8888888888888888,
              "#fdca26"
             ],
             [
              1,
              "#f0f921"
             ]
            ],
            "type": "heatmapgl"
           }
          ],
          "histogram": [
           {
            "marker": {
             "pattern": {
              "fillmode": "overlay",
              "size": 10,
              "solidity": 0.2
             }
            },
            "type": "histogram"
           }
          ],
          "histogram2d": [
           {
            "colorbar": {
             "outlinewidth": 0,
             "ticks": ""
            },
            "colorscale": [
             [
              0,
              "#0d0887"
             ],
             [
              0.1111111111111111,
              "#46039f"
             ],
             [
              0.2222222222222222,
              "#7201a8"
             ],
             [
              0.3333333333333333,
              "#9c179e"
             ],
             [
              0.4444444444444444,
              "#bd3786"
             ],
             [
              0.5555555555555556,
              "#d8576b"
             ],
             [
              0.6666666666666666,
              "#ed7953"
             ],
             [
              0.7777777777777778,
              "#fb9f3a"
             ],
             [
              0.8888888888888888,
              "#fdca26"
             ],
             [
              1,
              "#f0f921"
             ]
            ],
            "type": "histogram2d"
           }
          ],
          "histogram2dcontour": [
           {
            "colorbar": {
             "outlinewidth": 0,
             "ticks": ""
            },
            "colorscale": [
             [
              0,
              "#0d0887"
             ],
             [
              0.1111111111111111,
              "#46039f"
             ],
             [
              0.2222222222222222,
              "#7201a8"
             ],
             [
              0.3333333333333333,
              "#9c179e"
             ],
             [
              0.4444444444444444,
              "#bd3786"
             ],
             [
              0.5555555555555556,
              "#d8576b"
             ],
             [
              0.6666666666666666,
              "#ed7953"
             ],
             [
              0.7777777777777778,
              "#fb9f3a"
             ],
             [
              0.8888888888888888,
              "#fdca26"
             ],
             [
              1,
              "#f0f921"
             ]
            ],
            "type": "histogram2dcontour"
           }
          ],
          "mesh3d": [
           {
            "colorbar": {
             "outlinewidth": 0,
             "ticks": ""
            },
            "type": "mesh3d"
           }
          ],
          "parcoords": [
           {
            "line": {
             "colorbar": {
              "outlinewidth": 0,
              "ticks": ""
             }
            },
            "type": "parcoords"
           }
          ],
          "pie": [
           {
            "automargin": true,
            "type": "pie"
           }
          ],
          "scatter": [
           {
            "fillpattern": {
             "fillmode": "overlay",
             "size": 10,
             "solidity": 0.2
            },
            "type": "scatter"
           }
          ],
          "scatter3d": [
           {
            "line": {
             "colorbar": {
              "outlinewidth": 0,
              "ticks": ""
             }
            },
            "marker": {
             "colorbar": {
              "outlinewidth": 0,
              "ticks": ""
             }
            },
            "type": "scatter3d"
           }
          ],
          "scattercarpet": [
           {
            "marker": {
             "colorbar": {
              "outlinewidth": 0,
              "ticks": ""
             }
            },
            "type": "scattercarpet"
           }
          ],
          "scattergeo": [
           {
            "marker": {
             "colorbar": {
              "outlinewidth": 0,
              "ticks": ""
             }
            },
            "type": "scattergeo"
           }
          ],
          "scattergl": [
           {
            "marker": {
             "colorbar": {
              "outlinewidth": 0,
              "ticks": ""
             }
            },
            "type": "scattergl"
           }
          ],
          "scattermapbox": [
           {
            "marker": {
             "colorbar": {
              "outlinewidth": 0,
              "ticks": ""
             }
            },
            "type": "scattermapbox"
           }
          ],
          "scatterpolar": [
           {
            "marker": {
             "colorbar": {
              "outlinewidth": 0,
              "ticks": ""
             }
            },
            "type": "scatterpolar"
           }
          ],
          "scatterpolargl": [
           {
            "marker": {
             "colorbar": {
              "outlinewidth": 0,
              "ticks": ""
             }
            },
            "type": "scatterpolargl"
           }
          ],
          "scatterternary": [
           {
            "marker": {
             "colorbar": {
              "outlinewidth": 0,
              "ticks": ""
             }
            },
            "type": "scatterternary"
           }
          ],
          "surface": [
           {
            "colorbar": {
             "outlinewidth": 0,
             "ticks": ""
            },
            "colorscale": [
             [
              0,
              "#0d0887"
             ],
             [
              0.1111111111111111,
              "#46039f"
             ],
             [
              0.2222222222222222,
              "#7201a8"
             ],
             [
              0.3333333333333333,
              "#9c179e"
             ],
             [
              0.4444444444444444,
              "#bd3786"
             ],
             [
              0.5555555555555556,
              "#d8576b"
             ],
             [
              0.6666666666666666,
              "#ed7953"
             ],
             [
              0.7777777777777778,
              "#fb9f3a"
             ],
             [
              0.8888888888888888,
              "#fdca26"
             ],
             [
              1,
              "#f0f921"
             ]
            ],
            "type": "surface"
           }
          ],
          "table": [
           {
            "cells": {
             "fill": {
              "color": "#EBF0F8"
             },
             "line": {
              "color": "white"
             }
            },
            "header": {
             "fill": {
              "color": "#C8D4E3"
             },
             "line": {
              "color": "white"
             }
            },
            "type": "table"
           }
          ]
         },
         "layout": {
          "annotationdefaults": {
           "arrowcolor": "#2a3f5f",
           "arrowhead": 0,
           "arrowwidth": 1
          },
          "autotypenumbers": "strict",
          "coloraxis": {
           "colorbar": {
            "outlinewidth": 0,
            "ticks": ""
           }
          },
          "colorscale": {
           "diverging": [
            [
             0,
             "#8e0152"
            ],
            [
             0.1,
             "#c51b7d"
            ],
            [
             0.2,
             "#de77ae"
            ],
            [
             0.3,
             "#f1b6da"
            ],
            [
             0.4,
             "#fde0ef"
            ],
            [
             0.5,
             "#f7f7f7"
            ],
            [
             0.6,
             "#e6f5d0"
            ],
            [
             0.7,
             "#b8e186"
            ],
            [
             0.8,
             "#7fbc41"
            ],
            [
             0.9,
             "#4d9221"
            ],
            [
             1,
             "#276419"
            ]
           ],
           "sequential": [
            [
             0,
             "#0d0887"
            ],
            [
             0.1111111111111111,
             "#46039f"
            ],
            [
             0.2222222222222222,
             "#7201a8"
            ],
            [
             0.3333333333333333,
             "#9c179e"
            ],
            [
             0.4444444444444444,
             "#bd3786"
            ],
            [
             0.5555555555555556,
             "#d8576b"
            ],
            [
             0.6666666666666666,
             "#ed7953"
            ],
            [
             0.7777777777777778,
             "#fb9f3a"
            ],
            [
             0.8888888888888888,
             "#fdca26"
            ],
            [
             1,
             "#f0f921"
            ]
           ],
           "sequentialminus": [
            [
             0,
             "#0d0887"
            ],
            [
             0.1111111111111111,
             "#46039f"
            ],
            [
             0.2222222222222222,
             "#7201a8"
            ],
            [
             0.3333333333333333,
             "#9c179e"
            ],
            [
             0.4444444444444444,
             "#bd3786"
            ],
            [
             0.5555555555555556,
             "#d8576b"
            ],
            [
             0.6666666666666666,
             "#ed7953"
            ],
            [
             0.7777777777777778,
             "#fb9f3a"
            ],
            [
             0.8888888888888888,
             "#fdca26"
            ],
            [
             1,
             "#f0f921"
            ]
           ]
          },
          "colorway": [
           "#636efa",
           "#EF553B",
           "#00cc96",
           "#ab63fa",
           "#FFA15A",
           "#19d3f3",
           "#FF6692",
           "#B6E880",
           "#FF97FF",
           "#FECB52"
          ],
          "font": {
           "color": "#2a3f5f"
          },
          "geo": {
           "bgcolor": "white",
           "lakecolor": "white",
           "landcolor": "#E5ECF6",
           "showlakes": true,
           "showland": true,
           "subunitcolor": "white"
          },
          "hoverlabel": {
           "align": "left"
          },
          "hovermode": "closest",
          "mapbox": {
           "style": "light"
          },
          "paper_bgcolor": "white",
          "plot_bgcolor": "#E5ECF6",
          "polar": {
           "angularaxis": {
            "gridcolor": "white",
            "linecolor": "white",
            "ticks": ""
           },
           "bgcolor": "#E5ECF6",
           "radialaxis": {
            "gridcolor": "white",
            "linecolor": "white",
            "ticks": ""
           }
          },
          "scene": {
           "xaxis": {
            "backgroundcolor": "#E5ECF6",
            "gridcolor": "white",
            "gridwidth": 2,
            "linecolor": "white",
            "showbackground": true,
            "ticks": "",
            "zerolinecolor": "white"
           },
           "yaxis": {
            "backgroundcolor": "#E5ECF6",
            "gridcolor": "white",
            "gridwidth": 2,
            "linecolor": "white",
            "showbackground": true,
            "ticks": "",
            "zerolinecolor": "white"
           },
           "zaxis": {
            "backgroundcolor": "#E5ECF6",
            "gridcolor": "white",
            "gridwidth": 2,
            "linecolor": "white",
            "showbackground": true,
            "ticks": "",
            "zerolinecolor": "white"
           }
          },
          "shapedefaults": {
           "line": {
            "color": "#2a3f5f"
           }
          },
          "ternary": {
           "aaxis": {
            "gridcolor": "white",
            "linecolor": "white",
            "ticks": ""
           },
           "baxis": {
            "gridcolor": "white",
            "linecolor": "white",
            "ticks": ""
           },
           "bgcolor": "#E5ECF6",
           "caxis": {
            "gridcolor": "white",
            "linecolor": "white",
            "ticks": ""
           }
          },
          "title": {
           "x": 0.05
          },
          "xaxis": {
           "automargin": true,
           "gridcolor": "white",
           "linecolor": "white",
           "ticks": "",
           "title": {
            "standoff": 15
           },
           "zerolinecolor": "white",
           "zerolinewidth": 2
          },
          "yaxis": {
           "automargin": true,
           "gridcolor": "white",
           "linecolor": "white",
           "ticks": "",
           "title": {
            "standoff": 15
           },
           "zerolinecolor": "white",
           "zerolinewidth": 2
          }
         }
        },
        "title": {
         "text": "Time"
        },
        "width": 1200,
        "xaxis": {
         "title": {
          "text": "Number of experiments"
         }
        },
        "yaxis": {
         "range": [
          0,
          1
         ],
         "title": {
          "text": "Accuracy (best estimator only)"
         }
        }
       }
      }
     },
     "metadata": {},
     "output_type": "display_data"
    }
   ],
   "source": [
    "df = results.copy()\n",
    "df = filter_domain_time_only(df)\n",
    "df = filter_features_all(df)\n",
    "df = filter_reducer_over_all(df)\n",
    "df = filter_scaler_none(df)\n",
    "df = filter_view_standardized_intra(df)\n",
    "# df = pd.concat([filter_only_reducer_dataset_diferent_from_train(df), filter_only_reducer_dataset_equals_train_dataset(df)])\n",
    "df = filter_only_reducer_dataset_diferent_from_train(df)\n",
    "df = filter_same_train_test(df)\n",
    "df = best_of_each_estimator(df)\n",
    "\n",
    "marker_colors = list(itertools.product(markers, colors))\n",
    "\n",
    "fig = go.Figure()\n",
    "\n",
    "for i, n_components in enumerate(sorted(df[\"umap components\"].unique())):\n",
    "    df_comp = df[df[\"umap components\"] == n_components]\n",
    "    # df_comp = best_of_each_estimator(df_comp)\n",
    "    df_comp.sort_values(by=\"accuracy (mean)\", inplace=True)\n",
    "    fig.add_trace(\n",
    "        go.Scatter(\n",
    "            x=list(range(len(df_comp))),\n",
    "            y=df_comp[\"accuracy (mean)\"],\n",
    "            name=f\"UMAP {n_components} components\",\n",
    "            mode=\"lines+markers\",\n",
    "            marker=dict(\n",
    "                color=marker_colors[i][1],\n",
    "                symbol=marker_colors[i][0],\n",
    "                size=7,\n",
    "            ),\n",
    "        )\n",
    "    )\n",
    "\n",
    "fig.update_layout(\n",
    "    title=\"Time\",\n",
    "    xaxis_title=\"Number of experiments\",\n",
    "    yaxis_title=\"Accuracy (best estimator only)\",\n",
    "    legend_title=\"UMAP Components\",\n",
    "    width=1200,\n",
    "    height=600,\n",
    "    yaxis=dict(range=[0, 1]),\n",
    "    # xaxis=dict(tickmode=\"linear\")\n",
    ")\n",
    "fig.show()"
   ]
  },
  {
   "attachments": {},
   "cell_type": "markdown",
   "metadata": {},
   "source": [
    "## Pergunta 3"
   ]
  },
  {
   "cell_type": "code",
   "execution_count": null,
   "metadata": {},
   "outputs": [],
   "source": []
  },
  {
   "attachments": {},
   "cell_type": "markdown",
   "metadata": {},
   "source": [
    "## Pergunta 4"
   ]
  },
  {
   "cell_type": "code",
   "execution_count": null,
   "metadata": {},
   "outputs": [],
   "source": []
  },
  {
   "attachments": {},
   "cell_type": "markdown",
   "metadata": {},
   "source": [
    "## Pergunta 5\n",
    "\n",
    "É mais vantajoso reduzir a dimensionalidade dos dados dos sensores de forma individual (aplicando o UMAP a um sensor, ou eixo, por vez) ou de forma agregada (como estamos fazendo)?"
   ]
  },
  {
   "cell_type": "code",
   "execution_count": 17,
   "metadata": {},
   "outputs": [],
   "source": [
    "def get_reduce_on_improvement(df):\n",
    "    experiment_uniq = [c for c in unique_exp_columns if c not in [\"reduce_on\", \"umap components\"]]\n",
    "\n",
    "    all_values = {}\n",
    "    for _, subdf in df[df[\"reduce_on\"] == \"all\"].iterrows():\n",
    "        all_values[tuple(subdf[experiment_uniq].values.tolist())] = subdf[\"accuracy (mean)\"]\n",
    "\n",
    "    df[\"umap improvement\"] = df.apply(lambda x: x[\"accuracy (mean)\"] / all_values.get(tuple(x[experiment_uniq].values.tolist()), np.nan), axis=1)\n",
    "    df = df.dropna(subset=[\"umap improvement\"], inplace=False)\n",
    "    df = df[df[\"reduce_on\"] != \"all\"]\n",
    "    lines = [subdf[subdf[\"umap improvement\"] == subdf[\"umap improvement\"].max()].iloc[0] for _, subdf in df.groupby(experiment_uniq)]\n",
    "    df = pd.DataFrame(lines)\n",
    "    return df\n",
    "\n",
    "# results = add_umap_improvement(results)\n",
    "#df = only_standardized_view(no_scaler(using_all_features(only_fft(only_reduce_on_all(only_reducer_equals_train(df))))))"
   ]
  },
  {
   "cell_type": "code",
   "execution_count": 18,
   "metadata": {},
   "outputs": [
    {
     "data": {
      "application/vnd.plotly.v1+json": {
       "config": {
        "plotlyServerURL": "https://plot.ly"
       },
       "data": [
        {
         "marker": {
          "color": "#636EFA"
         },
         "name": "KNN-5",
         "type": "bar",
         "x": [
          "('kuhar', 'axis')",
          "('motionsense', 'axis')",
          "('realworld', 'axis')",
          "('uci', 'sensor')",
          "('wisdm', 'axis')"
         ],
         "y": [
          1.0661157024793386,
          1.015503875968992,
          0.9148936170212766,
          1.1157894736842102,
          1.00990099009901
         ]
        },
        {
         "marker": {
          "color": "#00CC96"
         },
         "name": "SVM-rbf-C1.0",
         "type": "bar",
         "x": [
          "('kuhar', 'axis')",
          "('motionsense', 'axis')",
          "('realworld', 'axis')",
          "('uci', 'axis')",
          "('wisdm', 'sensor')"
         ],
         "y": [
          1.1238938053097345,
          1.0731707317073171,
          1.0113636363636365,
          1.1739130434782608,
          1
         ]
        },
        {
         "marker": {
          "color": "#AB63FA"
         },
         "name": "randomforest-100",
         "type": "bar",
         "x": [
          "('kuhar', 'axis')",
          "('motionsense', 'axis')",
          "('realworld', 'axis')",
          "('uci', 'axis')",
          "('wisdm', 'sensor')"
         ],
         "y": [
          1.0762852404643448,
          1.0569867291178767,
          1.1191011235955057,
          1.1221532091097313,
          1.0098911968348172
         ]
        }
       ],
       "layout": {
        "height": 600,
        "legend": {
         "title": {
          "text": "Estimator"
         }
        },
        "template": {
         "data": {
          "bar": [
           {
            "error_x": {
             "color": "#2a3f5f"
            },
            "error_y": {
             "color": "#2a3f5f"
            },
            "marker": {
             "line": {
              "color": "#E5ECF6",
              "width": 0.5
             },
             "pattern": {
              "fillmode": "overlay",
              "size": 10,
              "solidity": 0.2
             }
            },
            "type": "bar"
           }
          ],
          "barpolar": [
           {
            "marker": {
             "line": {
              "color": "#E5ECF6",
              "width": 0.5
             },
             "pattern": {
              "fillmode": "overlay",
              "size": 10,
              "solidity": 0.2
             }
            },
            "type": "barpolar"
           }
          ],
          "carpet": [
           {
            "aaxis": {
             "endlinecolor": "#2a3f5f",
             "gridcolor": "white",
             "linecolor": "white",
             "minorgridcolor": "white",
             "startlinecolor": "#2a3f5f"
            },
            "baxis": {
             "endlinecolor": "#2a3f5f",
             "gridcolor": "white",
             "linecolor": "white",
             "minorgridcolor": "white",
             "startlinecolor": "#2a3f5f"
            },
            "type": "carpet"
           }
          ],
          "choropleth": [
           {
            "colorbar": {
             "outlinewidth": 0,
             "ticks": ""
            },
            "type": "choropleth"
           }
          ],
          "contour": [
           {
            "colorbar": {
             "outlinewidth": 0,
             "ticks": ""
            },
            "colorscale": [
             [
              0,
              "#0d0887"
             ],
             [
              0.1111111111111111,
              "#46039f"
             ],
             [
              0.2222222222222222,
              "#7201a8"
             ],
             [
              0.3333333333333333,
              "#9c179e"
             ],
             [
              0.4444444444444444,
              "#bd3786"
             ],
             [
              0.5555555555555556,
              "#d8576b"
             ],
             [
              0.6666666666666666,
              "#ed7953"
             ],
             [
              0.7777777777777778,
              "#fb9f3a"
             ],
             [
              0.8888888888888888,
              "#fdca26"
             ],
             [
              1,
              "#f0f921"
             ]
            ],
            "type": "contour"
           }
          ],
          "contourcarpet": [
           {
            "colorbar": {
             "outlinewidth": 0,
             "ticks": ""
            },
            "type": "contourcarpet"
           }
          ],
          "heatmap": [
           {
            "colorbar": {
             "outlinewidth": 0,
             "ticks": ""
            },
            "colorscale": [
             [
              0,
              "#0d0887"
             ],
             [
              0.1111111111111111,
              "#46039f"
             ],
             [
              0.2222222222222222,
              "#7201a8"
             ],
             [
              0.3333333333333333,
              "#9c179e"
             ],
             [
              0.4444444444444444,
              "#bd3786"
             ],
             [
              0.5555555555555556,
              "#d8576b"
             ],
             [
              0.6666666666666666,
              "#ed7953"
             ],
             [
              0.7777777777777778,
              "#fb9f3a"
             ],
             [
              0.8888888888888888,
              "#fdca26"
             ],
             [
              1,
              "#f0f921"
             ]
            ],
            "type": "heatmap"
           }
          ],
          "heatmapgl": [
           {
            "colorbar": {
             "outlinewidth": 0,
             "ticks": ""
            },
            "colorscale": [
             [
              0,
              "#0d0887"
             ],
             [
              0.1111111111111111,
              "#46039f"
             ],
             [
              0.2222222222222222,
              "#7201a8"
             ],
             [
              0.3333333333333333,
              "#9c179e"
             ],
             [
              0.4444444444444444,
              "#bd3786"
             ],
             [
              0.5555555555555556,
              "#d8576b"
             ],
             [
              0.6666666666666666,
              "#ed7953"
             ],
             [
              0.7777777777777778,
              "#fb9f3a"
             ],
             [
              0.8888888888888888,
              "#fdca26"
             ],
             [
              1,
              "#f0f921"
             ]
            ],
            "type": "heatmapgl"
           }
          ],
          "histogram": [
           {
            "marker": {
             "pattern": {
              "fillmode": "overlay",
              "size": 10,
              "solidity": 0.2
             }
            },
            "type": "histogram"
           }
          ],
          "histogram2d": [
           {
            "colorbar": {
             "outlinewidth": 0,
             "ticks": ""
            },
            "colorscale": [
             [
              0,
              "#0d0887"
             ],
             [
              0.1111111111111111,
              "#46039f"
             ],
             [
              0.2222222222222222,
              "#7201a8"
             ],
             [
              0.3333333333333333,
              "#9c179e"
             ],
             [
              0.4444444444444444,
              "#bd3786"
             ],
             [
              0.5555555555555556,
              "#d8576b"
             ],
             [
              0.6666666666666666,
              "#ed7953"
             ],
             [
              0.7777777777777778,
              "#fb9f3a"
             ],
             [
              0.8888888888888888,
              "#fdca26"
             ],
             [
              1,
              "#f0f921"
             ]
            ],
            "type": "histogram2d"
           }
          ],
          "histogram2dcontour": [
           {
            "colorbar": {
             "outlinewidth": 0,
             "ticks": ""
            },
            "colorscale": [
             [
              0,
              "#0d0887"
             ],
             [
              0.1111111111111111,
              "#46039f"
             ],
             [
              0.2222222222222222,
              "#7201a8"
             ],
             [
              0.3333333333333333,
              "#9c179e"
             ],
             [
              0.4444444444444444,
              "#bd3786"
             ],
             [
              0.5555555555555556,
              "#d8576b"
             ],
             [
              0.6666666666666666,
              "#ed7953"
             ],
             [
              0.7777777777777778,
              "#fb9f3a"
             ],
             [
              0.8888888888888888,
              "#fdca26"
             ],
             [
              1,
              "#f0f921"
             ]
            ],
            "type": "histogram2dcontour"
           }
          ],
          "mesh3d": [
           {
            "colorbar": {
             "outlinewidth": 0,
             "ticks": ""
            },
            "type": "mesh3d"
           }
          ],
          "parcoords": [
           {
            "line": {
             "colorbar": {
              "outlinewidth": 0,
              "ticks": ""
             }
            },
            "type": "parcoords"
           }
          ],
          "pie": [
           {
            "automargin": true,
            "type": "pie"
           }
          ],
          "scatter": [
           {
            "fillpattern": {
             "fillmode": "overlay",
             "size": 10,
             "solidity": 0.2
            },
            "type": "scatter"
           }
          ],
          "scatter3d": [
           {
            "line": {
             "colorbar": {
              "outlinewidth": 0,
              "ticks": ""
             }
            },
            "marker": {
             "colorbar": {
              "outlinewidth": 0,
              "ticks": ""
             }
            },
            "type": "scatter3d"
           }
          ],
          "scattercarpet": [
           {
            "marker": {
             "colorbar": {
              "outlinewidth": 0,
              "ticks": ""
             }
            },
            "type": "scattercarpet"
           }
          ],
          "scattergeo": [
           {
            "marker": {
             "colorbar": {
              "outlinewidth": 0,
              "ticks": ""
             }
            },
            "type": "scattergeo"
           }
          ],
          "scattergl": [
           {
            "marker": {
             "colorbar": {
              "outlinewidth": 0,
              "ticks": ""
             }
            },
            "type": "scattergl"
           }
          ],
          "scattermapbox": [
           {
            "marker": {
             "colorbar": {
              "outlinewidth": 0,
              "ticks": ""
             }
            },
            "type": "scattermapbox"
           }
          ],
          "scatterpolar": [
           {
            "marker": {
             "colorbar": {
              "outlinewidth": 0,
              "ticks": ""
             }
            },
            "type": "scatterpolar"
           }
          ],
          "scatterpolargl": [
           {
            "marker": {
             "colorbar": {
              "outlinewidth": 0,
              "ticks": ""
             }
            },
            "type": "scatterpolargl"
           }
          ],
          "scatterternary": [
           {
            "marker": {
             "colorbar": {
              "outlinewidth": 0,
              "ticks": ""
             }
            },
            "type": "scatterternary"
           }
          ],
          "surface": [
           {
            "colorbar": {
             "outlinewidth": 0,
             "ticks": ""
            },
            "colorscale": [
             [
              0,
              "#0d0887"
             ],
             [
              0.1111111111111111,
              "#46039f"
             ],
             [
              0.2222222222222222,
              "#7201a8"
             ],
             [
              0.3333333333333333,
              "#9c179e"
             ],
             [
              0.4444444444444444,
              "#bd3786"
             ],
             [
              0.5555555555555556,
              "#d8576b"
             ],
             [
              0.6666666666666666,
              "#ed7953"
             ],
             [
              0.7777777777777778,
              "#fb9f3a"
             ],
             [
              0.8888888888888888,
              "#fdca26"
             ],
             [
              1,
              "#f0f921"
             ]
            ],
            "type": "surface"
           }
          ],
          "table": [
           {
            "cells": {
             "fill": {
              "color": "#EBF0F8"
             },
             "line": {
              "color": "white"
             }
            },
            "header": {
             "fill": {
              "color": "#C8D4E3"
             },
             "line": {
              "color": "white"
             }
            },
            "type": "table"
           }
          ]
         },
         "layout": {
          "annotationdefaults": {
           "arrowcolor": "#2a3f5f",
           "arrowhead": 0,
           "arrowwidth": 1
          },
          "autotypenumbers": "strict",
          "coloraxis": {
           "colorbar": {
            "outlinewidth": 0,
            "ticks": ""
           }
          },
          "colorscale": {
           "diverging": [
            [
             0,
             "#8e0152"
            ],
            [
             0.1,
             "#c51b7d"
            ],
            [
             0.2,
             "#de77ae"
            ],
            [
             0.3,
             "#f1b6da"
            ],
            [
             0.4,
             "#fde0ef"
            ],
            [
             0.5,
             "#f7f7f7"
            ],
            [
             0.6,
             "#e6f5d0"
            ],
            [
             0.7,
             "#b8e186"
            ],
            [
             0.8,
             "#7fbc41"
            ],
            [
             0.9,
             "#4d9221"
            ],
            [
             1,
             "#276419"
            ]
           ],
           "sequential": [
            [
             0,
             "#0d0887"
            ],
            [
             0.1111111111111111,
             "#46039f"
            ],
            [
             0.2222222222222222,
             "#7201a8"
            ],
            [
             0.3333333333333333,
             "#9c179e"
            ],
            [
             0.4444444444444444,
             "#bd3786"
            ],
            [
             0.5555555555555556,
             "#d8576b"
            ],
            [
             0.6666666666666666,
             "#ed7953"
            ],
            [
             0.7777777777777778,
             "#fb9f3a"
            ],
            [
             0.8888888888888888,
             "#fdca26"
            ],
            [
             1,
             "#f0f921"
            ]
           ],
           "sequentialminus": [
            [
             0,
             "#0d0887"
            ],
            [
             0.1111111111111111,
             "#46039f"
            ],
            [
             0.2222222222222222,
             "#7201a8"
            ],
            [
             0.3333333333333333,
             "#9c179e"
            ],
            [
             0.4444444444444444,
             "#bd3786"
            ],
            [
             0.5555555555555556,
             "#d8576b"
            ],
            [
             0.6666666666666666,
             "#ed7953"
            ],
            [
             0.7777777777777778,
             "#fb9f3a"
            ],
            [
             0.8888888888888888,
             "#fdca26"
            ],
            [
             1,
             "#f0f921"
            ]
           ]
          },
          "colorway": [
           "#636efa",
           "#EF553B",
           "#00cc96",
           "#ab63fa",
           "#FFA15A",
           "#19d3f3",
           "#FF6692",
           "#B6E880",
           "#FF97FF",
           "#FECB52"
          ],
          "font": {
           "color": "#2a3f5f"
          },
          "geo": {
           "bgcolor": "white",
           "lakecolor": "white",
           "landcolor": "#E5ECF6",
           "showlakes": true,
           "showland": true,
           "subunitcolor": "white"
          },
          "hoverlabel": {
           "align": "left"
          },
          "hovermode": "closest",
          "mapbox": {
           "style": "light"
          },
          "paper_bgcolor": "white",
          "plot_bgcolor": "#E5ECF6",
          "polar": {
           "angularaxis": {
            "gridcolor": "white",
            "linecolor": "white",
            "ticks": ""
           },
           "bgcolor": "#E5ECF6",
           "radialaxis": {
            "gridcolor": "white",
            "linecolor": "white",
            "ticks": ""
           }
          },
          "scene": {
           "xaxis": {
            "backgroundcolor": "#E5ECF6",
            "gridcolor": "white",
            "gridwidth": 2,
            "linecolor": "white",
            "showbackground": true,
            "ticks": "",
            "zerolinecolor": "white"
           },
           "yaxis": {
            "backgroundcolor": "#E5ECF6",
            "gridcolor": "white",
            "gridwidth": 2,
            "linecolor": "white",
            "showbackground": true,
            "ticks": "",
            "zerolinecolor": "white"
           },
           "zaxis": {
            "backgroundcolor": "#E5ECF6",
            "gridcolor": "white",
            "gridwidth": 2,
            "linecolor": "white",
            "showbackground": true,
            "ticks": "",
            "zerolinecolor": "white"
           }
          },
          "shapedefaults": {
           "line": {
            "color": "#2a3f5f"
           }
          },
          "ternary": {
           "aaxis": {
            "gridcolor": "white",
            "linecolor": "white",
            "ticks": ""
           },
           "baxis": {
            "gridcolor": "white",
            "linecolor": "white",
            "ticks": ""
           },
           "bgcolor": "#E5ECF6",
           "caxis": {
            "gridcolor": "white",
            "linecolor": "white",
            "ticks": ""
           }
          },
          "title": {
           "x": 0.05
          },
          "xaxis": {
           "automargin": true,
           "gridcolor": "white",
           "linecolor": "white",
           "ticks": "",
           "title": {
            "standoff": 15
           },
           "zerolinecolor": "white",
           "zerolinewidth": 2
          },
          "yaxis": {
           "automargin": true,
           "gridcolor": "white",
           "linecolor": "white",
           "ticks": "",
           "title": {
            "standoff": 15
           },
           "zerolinecolor": "white",
           "zerolinewidth": 2
          }
         }
        },
        "title": {
         "text": "Improvement using multiple UMAPs to train per sensor and per axis over using all features"
        },
        "width": 1200,
        "xaxis": {
         "title": {
          "text": "reduce_on / dataset"
         }
        },
        "yaxis": {
         "title": {
          "text": "Improvement over using all features"
         }
        }
       }
      }
     },
     "metadata": {},
     "output_type": "display_data"
    }
   ],
   "source": [
    "df = results.copy()\n",
    "df = filter_domain_fft_only(df)\n",
    "df = filter_features_all(df)\n",
    "# df = filter_reducer_over_all(df)\n",
    "df = filter_scaler_none(df)\n",
    "df = filter_view_standardized_intra(df)\n",
    "df = best_of_each_umap(df)\n",
    "df = filter_only_reducer_dataset_equals_train_dataset(df)\n",
    "df = get_reduce_on_improvement(df)\n",
    "\n",
    "\n",
    "fig = chart_bar_with_side_by_side(df, improvement_col=\"umap improvement\", groupby=\"estimator\", inner_group=[\"train_datasets\", \"reduce_on\"])\n",
    "fig.update_layout(\n",
    "    title=\"Improvement using multiple UMAPs to train per sensor and per axis over using all features\",\n",
    "    xaxis_title=\"reduce_on / dataset\",\n",
    "    yaxis_title=\"Improvement over using all features\",\n",
    "    legend_title=\"Estimator\",\n",
    "    width=1200,\n",
    "    height=600\n",
    ")\n",
    "fig.show()\n"
   ]
  },
  {
   "cell_type": "code",
   "execution_count": 62,
   "metadata": {},
   "outputs": [
    {
     "data": {
      "application/vnd.plotly.v1+json": {
       "config": {
        "plotlyServerURL": "https://plot.ly"
       },
       "data": [
        {
         "marker": {
          "color": "#636EFA"
         },
         "mode": "lines+markers",
         "name": "kuhar",
         "type": "scatter",
         "x": [
          2,
          3,
          4,
          5,
          6,
          7,
          8,
          9,
          10,
          15,
          20
         ],
         "xaxis": "x",
         "y": [
          0.7847222222222222,
          0.8236111111111111,
          0.8194444444444444,
          0.8402777777777779,
          0.8298611111111113,
          0.8277777777777778,
          0.8194444444444444,
          0.8354166666666666,
          0.8375,
          0.8347222222222224,
          0.8305555555555555
         ],
         "yaxis": "y"
        },
        {
         "marker": {
          "color": "#00CC96"
         },
         "mode": "lines+markers",
         "name": "motionsense",
         "type": "scatter",
         "x": [
          2,
          3,
          4,
          5,
          6,
          7,
          8,
          9,
          10,
          15,
          20
         ],
         "xaxis": "x",
         "y": [
          0.8541666666666667,
          0.8868055555555555,
          0.8840277777777776,
          0.8958333333333334,
          0.8847222222222223,
          0.8833333333333332,
          0.888888888888889,
          0.8958333333333334,
          0.8895833333333334,
          0.8875,
          0.8895833333333334
         ],
         "yaxis": "y"
        },
        {
         "marker": {
          "color": "#AB63FA"
         },
         "mode": "lines+markers",
         "name": "realworld",
         "type": "scatter",
         "x": [
          2,
          3,
          4,
          5,
          6,
          7,
          8,
          9,
          10,
          15,
          20
         ],
         "xaxis": "x",
         "y": [
          0.6180555555555556,
          0.611111111111111,
          0.6180555555555556,
          0.6041666666666667,
          0.6180555555555556,
          0.6131944444444445,
          0.6041666666666667,
          0.611111111111111,
          0.6527777777777778,
          0.6180555555555556,
          0.6166666666666666
         ],
         "yaxis": "y"
        },
        {
         "marker": {
          "color": "#FFA15A"
         },
         "mode": "lines+markers",
         "name": "uci",
         "type": "scatter",
         "x": [
          2,
          3,
          4,
          5,
          6,
          7,
          8,
          9,
          10,
          15,
          20
         ],
         "xaxis": "x",
         "y": [
          0.7666666666666667,
          0.75,
          0.7566666666666666,
          0.7908333333333334,
          0.7825,
          0.7583333333333332,
          0.7791666666666667,
          0.7916666666666667,
          0.805,
          0.78,
          0.77
         ],
         "yaxis": "y"
        },
        {
         "marker": {
          "color": "#19D3F3"
         },
         "mode": "lines+markers",
         "name": "wisdm",
         "type": "scatter",
         "x": [
          2,
          3,
          4,
          5,
          6,
          7,
          8,
          9,
          10,
          15,
          20
         ],
         "xaxis": "x",
         "y": [
          0.7916666666666667,
          0.8416666666666666,
          0.8383333333333333,
          0.8416666666666666,
          0.8333333333333334,
          0.8416666666666666,
          0.8258333333333333,
          0.8258333333333333,
          0.8424999999999999,
          0.8400000000000001,
          0.8416666666666666
         ],
         "yaxis": "y"
        },
        {
         "marker": {
          "color": "#636EFA"
         },
         "mode": "lines+markers",
         "name": "kuhar",
         "type": "scatter",
         "x": [
          2,
          3,
          4,
          5,
          6,
          7,
          8,
          9,
          10,
          15,
          20
         ],
         "xaxis": "x2",
         "y": [
          0.8854166666666666,
          0.8951388888888889,
          0.8986111111111112,
          0.8979166666666668,
          0.888888888888889,
          0.89375,
          0.9013888888888888,
          0.8958333333333334,
          0.8958333333333334,
          0.8979166666666668,
          0.8909722222222223
         ],
         "yaxis": "y2"
        },
        {
         "marker": {
          "color": "#00CC96"
         },
         "mode": "lines+markers",
         "name": "motionsense",
         "type": "scatter",
         "x": [
          2,
          3,
          4,
          5,
          6,
          7,
          8,
          9,
          10,
          15,
          20
         ],
         "xaxis": "x2",
         "y": [
          0.9097222222222224,
          0.9194444444444444,
          0.9375,
          0.940277777777778,
          0.9375,
          0.9263888888888888,
          0.909722222222222,
          0.9270833333333331,
          0.9354166666666666,
          0.909722222222222,
          0.9222222222222222
         ],
         "yaxis": "y2"
        },
        {
         "marker": {
          "color": "#AB63FA"
         },
         "mode": "lines+markers",
         "name": "realworld",
         "type": "scatter",
         "x": [
          2,
          3,
          4,
          5,
          6,
          7,
          8,
          9,
          10,
          15,
          20
         ],
         "xaxis": "x2",
         "y": [
          0.6506944444444445,
          0.6423611111111112,
          0.6916666666666668,
          0.6493055555555556,
          0.6534722222222222,
          0.6909722222222223,
          0.648611111111111,
          0.6666666666666666,
          0.6409722222222223,
          0.6430555555555556,
          0.6340277777777779
         ],
         "yaxis": "y2"
        },
        {
         "marker": {
          "color": "#FFA15A"
         },
         "mode": "lines+markers",
         "name": "uci",
         "type": "scatter",
         "x": [
          2,
          3,
          4,
          5,
          6,
          7,
          8,
          9,
          10,
          15,
          20
         ],
         "xaxis": "x2",
         "y": [
          0.8608333333333335,
          0.9,
          0.8933333333333333,
          0.875,
          0.8916666666666668,
          0.8800000000000001,
          0.9033333333333337,
          0.8841666666666667,
          0.8666666666666668,
          0.8841666666666667,
          0.8825
         ],
         "yaxis": "y2"
        },
        {
         "marker": {
          "color": "#19D3F3"
         },
         "mode": "lines+markers",
         "name": "wisdm",
         "type": "scatter",
         "x": [
          2,
          3,
          4,
          5,
          6,
          7,
          8,
          9,
          10,
          15,
          20
         ],
         "xaxis": "x2",
         "y": [
          0.85,
          0.8333333333333334,
          0.8333333333333334,
          0.8333333333333334,
          0.8383333333333333,
          0.8416666666666666,
          0.8324999999999999,
          0.8333333333333334,
          0.8391666666666666,
          0.825,
          0.8433333333333334
         ],
         "yaxis": "y2"
        },
        {
         "marker": {
          "color": "#636EFA"
         },
         "mode": "lines+markers",
         "name": "kuhar",
         "type": "scatter",
         "x": [
          2,
          3,
          4,
          5,
          6,
          7,
          8,
          9,
          10,
          15,
          20
         ],
         "xaxis": "x3",
         "y": [
          0.888888888888889,
          0.8840277777777776,
          0.86875,
          0.8819444444444444,
          0.8875,
          0.8819444444444444,
          0.8888888888888887,
          0.888888888888889,
          0.8833333333333334,
          0.8916666666666668,
          0.882638888888889
         ],
         "yaxis": "y3"
        },
        {
         "marker": {
          "color": "#00CC96"
         },
         "mode": "lines+markers",
         "name": "motionsense",
         "type": "scatter",
         "x": [
          2,
          3,
          4,
          5,
          6,
          7,
          8,
          9,
          10,
          15,
          20
         ],
         "xaxis": "x3",
         "y": [
          0.8944444444444446,
          0.8868055555555555,
          0.8951388888888889,
          0.9097222222222224,
          0.909722222222222,
          0.9020833333333332,
          0.9048611111111112,
          0.8881944444444445,
          0.9041666666666668,
          0.9062500000000002,
          0.9000000000000001
         ],
         "yaxis": "y3"
        },
        {
         "marker": {
          "color": "#AB63FA"
         },
         "mode": "lines+markers",
         "name": "realworld",
         "type": "scatter",
         "x": [
          2,
          3,
          4,
          5,
          6,
          7,
          8,
          9,
          10,
          15,
          20
         ],
         "xaxis": "x3",
         "y": [
          0.6041666666666666,
          0.5944444444444444,
          0.5722222222222222,
          0.5625,
          0.586111111111111,
          0.5875,
          0.5694444444444444,
          0.6166666666666667,
          0.5770833333333333,
          0.5791666666666666,
          0.5833333333333333
         ],
         "yaxis": "y3"
        },
        {
         "marker": {
          "color": "#FFA15A"
         },
         "mode": "lines+markers",
         "name": "uci",
         "type": "scatter",
         "x": [
          2,
          3,
          4,
          5,
          6,
          7,
          8,
          9,
          10,
          15,
          20
         ],
         "xaxis": "x3",
         "y": [
          0.8950000000000001,
          0.8833333333333332,
          0.8916666666666668,
          0.9008333333333332,
          0.8908333333333334,
          0.8733333333333334,
          0.8991666666666667,
          0.8833333333333332,
          0.8691666666666666,
          0.8925000000000001,
          0.8758333333333332
         ],
         "yaxis": "y3"
        },
        {
         "marker": {
          "color": "#19D3F3"
         },
         "mode": "lines+markers",
         "name": "wisdm",
         "type": "scatter",
         "x": [
          2,
          3,
          4,
          5,
          6,
          7,
          8,
          9,
          10,
          15,
          20
         ],
         "xaxis": "x3",
         "y": [
          0.85,
          0.8333333333333334,
          0.85,
          0.8333333333333334,
          0.825,
          0.8416666666666666,
          0.8416666666666666,
          0.8416666666666666,
          0.8333333333333334,
          0.8316666666666667,
          0.8508333333333334
         ],
         "yaxis": "y3"
        }
       ],
       "layout": {
        "height": 600,
        "legend": {
         "title": {
          "text": "Dataset"
         }
        },
        "showlegend": false,
        "template": {
         "data": {
          "bar": [
           {
            "error_x": {
             "color": "#2a3f5f"
            },
            "error_y": {
             "color": "#2a3f5f"
            },
            "marker": {
             "line": {
              "color": "#E5ECF6",
              "width": 0.5
             },
             "pattern": {
              "fillmode": "overlay",
              "size": 10,
              "solidity": 0.2
             }
            },
            "type": "bar"
           }
          ],
          "barpolar": [
           {
            "marker": {
             "line": {
              "color": "#E5ECF6",
              "width": 0.5
             },
             "pattern": {
              "fillmode": "overlay",
              "size": 10,
              "solidity": 0.2
             }
            },
            "type": "barpolar"
           }
          ],
          "carpet": [
           {
            "aaxis": {
             "endlinecolor": "#2a3f5f",
             "gridcolor": "white",
             "linecolor": "white",
             "minorgridcolor": "white",
             "startlinecolor": "#2a3f5f"
            },
            "baxis": {
             "endlinecolor": "#2a3f5f",
             "gridcolor": "white",
             "linecolor": "white",
             "minorgridcolor": "white",
             "startlinecolor": "#2a3f5f"
            },
            "type": "carpet"
           }
          ],
          "choropleth": [
           {
            "colorbar": {
             "outlinewidth": 0,
             "ticks": ""
            },
            "type": "choropleth"
           }
          ],
          "contour": [
           {
            "colorbar": {
             "outlinewidth": 0,
             "ticks": ""
            },
            "colorscale": [
             [
              0,
              "#0d0887"
             ],
             [
              0.1111111111111111,
              "#46039f"
             ],
             [
              0.2222222222222222,
              "#7201a8"
             ],
             [
              0.3333333333333333,
              "#9c179e"
             ],
             [
              0.4444444444444444,
              "#bd3786"
             ],
             [
              0.5555555555555556,
              "#d8576b"
             ],
             [
              0.6666666666666666,
              "#ed7953"
             ],
             [
              0.7777777777777778,
              "#fb9f3a"
             ],
             [
              0.8888888888888888,
              "#fdca26"
             ],
             [
              1,
              "#f0f921"
             ]
            ],
            "type": "contour"
           }
          ],
          "contourcarpet": [
           {
            "colorbar": {
             "outlinewidth": 0,
             "ticks": ""
            },
            "type": "contourcarpet"
           }
          ],
          "heatmap": [
           {
            "colorbar": {
             "outlinewidth": 0,
             "ticks": ""
            },
            "colorscale": [
             [
              0,
              "#0d0887"
             ],
             [
              0.1111111111111111,
              "#46039f"
             ],
             [
              0.2222222222222222,
              "#7201a8"
             ],
             [
              0.3333333333333333,
              "#9c179e"
             ],
             [
              0.4444444444444444,
              "#bd3786"
             ],
             [
              0.5555555555555556,
              "#d8576b"
             ],
             [
              0.6666666666666666,
              "#ed7953"
             ],
             [
              0.7777777777777778,
              "#fb9f3a"
             ],
             [
              0.8888888888888888,
              "#fdca26"
             ],
             [
              1,
              "#f0f921"
             ]
            ],
            "type": "heatmap"
           }
          ],
          "heatmapgl": [
           {
            "colorbar": {
             "outlinewidth": 0,
             "ticks": ""
            },
            "colorscale": [
             [
              0,
              "#0d0887"
             ],
             [
              0.1111111111111111,
              "#46039f"
             ],
             [
              0.2222222222222222,
              "#7201a8"
             ],
             [
              0.3333333333333333,
              "#9c179e"
             ],
             [
              0.4444444444444444,
              "#bd3786"
             ],
             [
              0.5555555555555556,
              "#d8576b"
             ],
             [
              0.6666666666666666,
              "#ed7953"
             ],
             [
              0.7777777777777778,
              "#fb9f3a"
             ],
             [
              0.8888888888888888,
              "#fdca26"
             ],
             [
              1,
              "#f0f921"
             ]
            ],
            "type": "heatmapgl"
           }
          ],
          "histogram": [
           {
            "marker": {
             "pattern": {
              "fillmode": "overlay",
              "size": 10,
              "solidity": 0.2
             }
            },
            "type": "histogram"
           }
          ],
          "histogram2d": [
           {
            "colorbar": {
             "outlinewidth": 0,
             "ticks": ""
            },
            "colorscale": [
             [
              0,
              "#0d0887"
             ],
             [
              0.1111111111111111,
              "#46039f"
             ],
             [
              0.2222222222222222,
              "#7201a8"
             ],
             [
              0.3333333333333333,
              "#9c179e"
             ],
             [
              0.4444444444444444,
              "#bd3786"
             ],
             [
              0.5555555555555556,
              "#d8576b"
             ],
             [
              0.6666666666666666,
              "#ed7953"
             ],
             [
              0.7777777777777778,
              "#fb9f3a"
             ],
             [
              0.8888888888888888,
              "#fdca26"
             ],
             [
              1,
              "#f0f921"
             ]
            ],
            "type": "histogram2d"
           }
          ],
          "histogram2dcontour": [
           {
            "colorbar": {
             "outlinewidth": 0,
             "ticks": ""
            },
            "colorscale": [
             [
              0,
              "#0d0887"
             ],
             [
              0.1111111111111111,
              "#46039f"
             ],
             [
              0.2222222222222222,
              "#7201a8"
             ],
             [
              0.3333333333333333,
              "#9c179e"
             ],
             [
              0.4444444444444444,
              "#bd3786"
             ],
             [
              0.5555555555555556,
              "#d8576b"
             ],
             [
              0.6666666666666666,
              "#ed7953"
             ],
             [
              0.7777777777777778,
              "#fb9f3a"
             ],
             [
              0.8888888888888888,
              "#fdca26"
             ],
             [
              1,
              "#f0f921"
             ]
            ],
            "type": "histogram2dcontour"
           }
          ],
          "mesh3d": [
           {
            "colorbar": {
             "outlinewidth": 0,
             "ticks": ""
            },
            "type": "mesh3d"
           }
          ],
          "parcoords": [
           {
            "line": {
             "colorbar": {
              "outlinewidth": 0,
              "ticks": ""
             }
            },
            "type": "parcoords"
           }
          ],
          "pie": [
           {
            "automargin": true,
            "type": "pie"
           }
          ],
          "scatter": [
           {
            "fillpattern": {
             "fillmode": "overlay",
             "size": 10,
             "solidity": 0.2
            },
            "type": "scatter"
           }
          ],
          "scatter3d": [
           {
            "line": {
             "colorbar": {
              "outlinewidth": 0,
              "ticks": ""
             }
            },
            "marker": {
             "colorbar": {
              "outlinewidth": 0,
              "ticks": ""
             }
            },
            "type": "scatter3d"
           }
          ],
          "scattercarpet": [
           {
            "marker": {
             "colorbar": {
              "outlinewidth": 0,
              "ticks": ""
             }
            },
            "type": "scattercarpet"
           }
          ],
          "scattergeo": [
           {
            "marker": {
             "colorbar": {
              "outlinewidth": 0,
              "ticks": ""
             }
            },
            "type": "scattergeo"
           }
          ],
          "scattergl": [
           {
            "marker": {
             "colorbar": {
              "outlinewidth": 0,
              "ticks": ""
             }
            },
            "type": "scattergl"
           }
          ],
          "scattermapbox": [
           {
            "marker": {
             "colorbar": {
              "outlinewidth": 0,
              "ticks": ""
             }
            },
            "type": "scattermapbox"
           }
          ],
          "scatterpolar": [
           {
            "marker": {
             "colorbar": {
              "outlinewidth": 0,
              "ticks": ""
             }
            },
            "type": "scatterpolar"
           }
          ],
          "scatterpolargl": [
           {
            "marker": {
             "colorbar": {
              "outlinewidth": 0,
              "ticks": ""
             }
            },
            "type": "scatterpolargl"
           }
          ],
          "scatterternary": [
           {
            "marker": {
             "colorbar": {
              "outlinewidth": 0,
              "ticks": ""
             }
            },
            "type": "scatterternary"
           }
          ],
          "surface": [
           {
            "colorbar": {
             "outlinewidth": 0,
             "ticks": ""
            },
            "colorscale": [
             [
              0,
              "#0d0887"
             ],
             [
              0.1111111111111111,
              "#46039f"
             ],
             [
              0.2222222222222222,
              "#7201a8"
             ],
             [
              0.3333333333333333,
              "#9c179e"
             ],
             [
              0.4444444444444444,
              "#bd3786"
             ],
             [
              0.5555555555555556,
              "#d8576b"
             ],
             [
              0.6666666666666666,
              "#ed7953"
             ],
             [
              0.7777777777777778,
              "#fb9f3a"
             ],
             [
              0.8888888888888888,
              "#fdca26"
             ],
             [
              1,
              "#f0f921"
             ]
            ],
            "type": "surface"
           }
          ],
          "table": [
           {
            "cells": {
             "fill": {
              "color": "#EBF0F8"
             },
             "line": {
              "color": "white"
             }
            },
            "header": {
             "fill": {
              "color": "#C8D4E3"
             },
             "line": {
              "color": "white"
             }
            },
            "type": "table"
           }
          ]
         },
         "layout": {
          "annotationdefaults": {
           "arrowcolor": "#2a3f5f",
           "arrowhead": 0,
           "arrowwidth": 1
          },
          "autotypenumbers": "strict",
          "coloraxis": {
           "colorbar": {
            "outlinewidth": 0,
            "ticks": ""
           }
          },
          "colorscale": {
           "diverging": [
            [
             0,
             "#8e0152"
            ],
            [
             0.1,
             "#c51b7d"
            ],
            [
             0.2,
             "#de77ae"
            ],
            [
             0.3,
             "#f1b6da"
            ],
            [
             0.4,
             "#fde0ef"
            ],
            [
             0.5,
             "#f7f7f7"
            ],
            [
             0.6,
             "#e6f5d0"
            ],
            [
             0.7,
             "#b8e186"
            ],
            [
             0.8,
             "#7fbc41"
            ],
            [
             0.9,
             "#4d9221"
            ],
            [
             1,
             "#276419"
            ]
           ],
           "sequential": [
            [
             0,
             "#0d0887"
            ],
            [
             0.1111111111111111,
             "#46039f"
            ],
            [
             0.2222222222222222,
             "#7201a8"
            ],
            [
             0.3333333333333333,
             "#9c179e"
            ],
            [
             0.4444444444444444,
             "#bd3786"
            ],
            [
             0.5555555555555556,
             "#d8576b"
            ],
            [
             0.6666666666666666,
             "#ed7953"
            ],
            [
             0.7777777777777778,
             "#fb9f3a"
            ],
            [
             0.8888888888888888,
             "#fdca26"
            ],
            [
             1,
             "#f0f921"
            ]
           ],
           "sequentialminus": [
            [
             0,
             "#0d0887"
            ],
            [
             0.1111111111111111,
             "#46039f"
            ],
            [
             0.2222222222222222,
             "#7201a8"
            ],
            [
             0.3333333333333333,
             "#9c179e"
            ],
            [
             0.4444444444444444,
             "#bd3786"
            ],
            [
             0.5555555555555556,
             "#d8576b"
            ],
            [
             0.6666666666666666,
             "#ed7953"
            ],
            [
             0.7777777777777778,
             "#fb9f3a"
            ],
            [
             0.8888888888888888,
             "#fdca26"
            ],
            [
             1,
             "#f0f921"
            ]
           ]
          },
          "colorway": [
           "#636efa",
           "#EF553B",
           "#00cc96",
           "#ab63fa",
           "#FFA15A",
           "#19d3f3",
           "#FF6692",
           "#B6E880",
           "#FF97FF",
           "#FECB52"
          ],
          "font": {
           "color": "#2a3f5f"
          },
          "geo": {
           "bgcolor": "white",
           "lakecolor": "white",
           "landcolor": "#E5ECF6",
           "showlakes": true,
           "showland": true,
           "subunitcolor": "white"
          },
          "hoverlabel": {
           "align": "left"
          },
          "hovermode": "closest",
          "mapbox": {
           "style": "light"
          },
          "paper_bgcolor": "white",
          "plot_bgcolor": "#E5ECF6",
          "polar": {
           "angularaxis": {
            "gridcolor": "white",
            "linecolor": "white",
            "ticks": ""
           },
           "bgcolor": "#E5ECF6",
           "radialaxis": {
            "gridcolor": "white",
            "linecolor": "white",
            "ticks": ""
           }
          },
          "scene": {
           "xaxis": {
            "backgroundcolor": "#E5ECF6",
            "gridcolor": "white",
            "gridwidth": 2,
            "linecolor": "white",
            "showbackground": true,
            "ticks": "",
            "zerolinecolor": "white"
           },
           "yaxis": {
            "backgroundcolor": "#E5ECF6",
            "gridcolor": "white",
            "gridwidth": 2,
            "linecolor": "white",
            "showbackground": true,
            "ticks": "",
            "zerolinecolor": "white"
           },
           "zaxis": {
            "backgroundcolor": "#E5ECF6",
            "gridcolor": "white",
            "gridwidth": 2,
            "linecolor": "white",
            "showbackground": true,
            "ticks": "",
            "zerolinecolor": "white"
           }
          },
          "shapedefaults": {
           "line": {
            "color": "#2a3f5f"
           }
          },
          "ternary": {
           "aaxis": {
            "gridcolor": "white",
            "linecolor": "white",
            "ticks": ""
           },
           "baxis": {
            "gridcolor": "white",
            "linecolor": "white",
            "ticks": ""
           },
           "bgcolor": "#E5ECF6",
           "caxis": {
            "gridcolor": "white",
            "linecolor": "white",
            "ticks": ""
           }
          },
          "title": {
           "x": 0.05
          },
          "xaxis": {
           "automargin": true,
           "gridcolor": "white",
           "linecolor": "white",
           "ticks": "",
           "title": {
            "standoff": 15
           },
           "zerolinecolor": "white",
           "zerolinewidth": 2
          },
          "yaxis": {
           "automargin": true,
           "gridcolor": "white",
           "linecolor": "white",
           "ticks": "",
           "title": {
            "standoff": 15
           },
           "zerolinecolor": "white",
           "zerolinewidth": 2
          }
         }
        },
        "title": {
         "text": "UMAP applied to train per sensor and per axis and using all features"
        },
        "width": 1200,
        "xaxis": {
         "anchor": "y",
         "domain": [
          0,
          0.2888888888888889
         ],
         "tickmode": "linear",
         "title": {
          "text": "UMAP components (all)"
         }
        },
        "xaxis2": {
         "anchor": "y2",
         "domain": [
          0.35555555555555557,
          0.6444444444444445
         ],
         "tickmode": "linear",
         "title": {
          "text": "UMAP components (axis)"
         }
        },
        "xaxis3": {
         "anchor": "y3",
         "domain": [
          0.7111111111111111,
          1
         ],
         "tickmode": "linear",
         "title": {
          "text": "UMAP components (sensor)"
         }
        },
        "yaxis": {
         "anchor": "x",
         "domain": [
          0,
          1
         ],
         "range": [
          0,
          1
         ],
         "title": {
          "text": "Accuracy (mean)"
         }
        },
        "yaxis2": {
         "anchor": "x2",
         "domain": [
          0,
          1
         ],
         "matches": "y",
         "showticklabels": false
        },
        "yaxis3": {
         "anchor": "x3",
         "domain": [
          0,
          1
         ],
         "matches": "y",
         "showticklabels": false
        }
       }
      }
     },
     "metadata": {},
     "output_type": "display_data"
    }
   ],
   "source": [
    "df = results.copy()\n",
    "df = filter_domain_fft_only(df)\n",
    "df = filter_features_all(df)\n",
    "# df = filter_reducer_over_all(df)\n",
    "df = filter_scaler_none(df)\n",
    "df = filter_view_standardized_intra(df)\n",
    "df = best_of_each_estimator(df)\n",
    "df = filter_only_reducer_dataset_equals_train_dataset(df)\n",
    "# df = get_reduce_on_improvement(df)\n",
    "\n",
    "names = []\n",
    "\n",
    "fig = make_subplots(rows=1, cols=3, shared_yaxes=True)\n",
    "for i, (reduce_on, subdf) in enumerate(df.groupby(\"reduce_on\")):\n",
    "    for j, (dataset_name, subsubdf) in enumerate(subdf.groupby(\"train_datasets\")):\n",
    "        subsubdf = subsubdf.sort_values(by=\"umap components\", inplace=False)\n",
    "        fig.add_trace(\n",
    "            go.Scatter(\n",
    "                x=subsubdf[\"umap components\"],\n",
    "                y=subsubdf[\"accuracy (mean)\"],\n",
    "                name=dataset_name,\n",
    "                mode=\"lines+markers\",\n",
    "                marker=dict(color=colors[j]),\n",
    "            ),\n",
    "            row=1, col=i+1\n",
    "        )\n",
    "    names.append(reduce_on)\n",
    "\n",
    "fig[\"layout\"][\"xaxis1\"].update(title=f\"UMAP components ({names[0]})\", tickmode=\"linear\")\n",
    "fig[\"layout\"][\"xaxis2\"].update(title=f\"UMAP components ({names[1]})\", tickmode=\"linear\")\n",
    "fig[\"layout\"][\"xaxis3\"].update(title=f\"UMAP components ({names[2]})\", tickmode=\"linear\")\n",
    "fig[\"layout\"][\"yaxis1\"].update(title=\"Accuracy (mean)\", range=[0.5, 1])\n",
    "fig[\"layout\"][\"yaxis1\"].update(range=[0.5, 1])\n",
    "fig[\"layout\"][\"yaxis1\"].update(range=[0.5, 1])\n",
    "fig.update_layout(\n",
    "    title=\"UMAP applied to train per sensor and per axis and using all features\",\n",
    "    width=1200,\n",
    "    height=600,\n",
    "    legend_title=\"Dataset\",\n",
    "    showlegend=False,\n",
    "    xaxis=dict(tickmode=\"linear\"),\n",
    "    yaxis=dict(range=[0, 1])\n",
    "\n",
    ")\n",
    "    \n",
    "fig.show()"
   ]
  },
  {
   "attachments": {},
   "cell_type": "markdown",
   "metadata": {},
   "source": [
    "## Pergunta 6\n",
    "\n",
    "Há uma mudança significativa entre os diferentes classificadores?"
   ]
  },
  {
   "cell_type": "code",
   "execution_count": 20,
   "metadata": {},
   "outputs": [],
   "source": [
    "# def get_estimator_improvement(df):\n",
    "#     experiment_uniq = [c for c in unique_exp_columns if c not in [\"estimator\"]]\n",
    "#     df = df[df[\"umap components\"] > 0]\n",
    "\n",
    "#     all_values = {}\n",
    "#     for _, subdf in df[df[\"reduce_on\"] == \"all\"].iterrows():\n",
    "#         all_values[tuple(subdf[experiment_uniq].values.tolist())] = subdf[\"accuracy (mean)\"]\n",
    "\n",
    "#     df[\"umap improvement\"] = df.apply(lambda x: x[\"accuracy (mean)\"] / all_values.get(tuple(x[experiment_uniq].values.tolist()), np.nan), axis=1)\n",
    "#     df = df.dropna(subset=[\"umap improvement\"], inplace=False)\n",
    "#     df = df[df[\"reduce_on\"] != \"all\"]\n",
    "#     lines = [subdf[subdf[\"umap improvement\"] == subdf[\"umap improvement\"].max()].iloc[0] for _, subdf in df.groupby(experiment_uniq)]\n",
    "#     df = pd.DataFrame(lines)\n",
    "#     return df\n",
    "\n",
    "# # results = add_umap_improvement(results)\n",
    "# #df = only_standardized_view(no_scaler(using_all_features(only_fft(only_reduce_on_all(only_reducer_equals_train(df))))))"
   ]
  },
  {
   "attachments": {},
   "cell_type": "markdown",
   "metadata": {},
   "source": [
    "## Pergunta 7\n",
    "\n",
    "Melhor no domínio da frequência ou tempo (condicionada à abordagem - manifold learning com UMAP)? (ou wavelet?)"
   ]
  },
  {
   "cell_type": "code",
   "execution_count": 90,
   "metadata": {},
   "outputs": [
    {
     "data": {
      "application/vnd.plotly.v1+json": {
       "config": {
        "plotlyServerURL": "https://plot.ly"
       },
       "data": [
        {
         "marker": {
          "color": "#636EFA"
         },
         "name": "KNN-5",
         "type": "bar",
         "x": [
          "kuhar",
          "motionsense",
          "realworld",
          "uci",
          "wisdm"
         ],
         "y": [
          0.8402777777777779,
          0.8958333333333334,
          0.6527777777777778,
          0.7916666666666667,
          0.8416666666666666
         ]
        },
        {
         "marker": {
          "color": "#00CC96"
         },
         "name": "SVM-rbf-C1.0",
         "type": "bar",
         "x": [
          "kuhar",
          "motionsense",
          "realworld",
          "uci",
          "wisdm"
         ],
         "y": [
          0.7847222222222222,
          0.8541666666666666,
          0.611111111111111,
          0.7666666666666667,
          0.7916666666666667
         ]
        },
        {
         "marker": {
          "color": "#AB63FA"
         },
         "name": "randomforest-100",
         "type": "bar",
         "x": [
          "kuhar",
          "motionsense",
          "realworld",
          "uci",
          "wisdm"
         ],
         "y": [
          0.8375,
          0.8895833333333334,
          0.6180555555555556,
          0.805,
          0.8424999999999999
         ]
        }
       ],
       "layout": {
        "height": 600,
        "legend": {
         "title": {
          "text": "Estimator"
         }
        },
        "template": {
         "data": {
          "bar": [
           {
            "error_x": {
             "color": "#2a3f5f"
            },
            "error_y": {
             "color": "#2a3f5f"
            },
            "marker": {
             "line": {
              "color": "#E5ECF6",
              "width": 0.5
             },
             "pattern": {
              "fillmode": "overlay",
              "size": 10,
              "solidity": 0.2
             }
            },
            "type": "bar"
           }
          ],
          "barpolar": [
           {
            "marker": {
             "line": {
              "color": "#E5ECF6",
              "width": 0.5
             },
             "pattern": {
              "fillmode": "overlay",
              "size": 10,
              "solidity": 0.2
             }
            },
            "type": "barpolar"
           }
          ],
          "carpet": [
           {
            "aaxis": {
             "endlinecolor": "#2a3f5f",
             "gridcolor": "white",
             "linecolor": "white",
             "minorgridcolor": "white",
             "startlinecolor": "#2a3f5f"
            },
            "baxis": {
             "endlinecolor": "#2a3f5f",
             "gridcolor": "white",
             "linecolor": "white",
             "minorgridcolor": "white",
             "startlinecolor": "#2a3f5f"
            },
            "type": "carpet"
           }
          ],
          "choropleth": [
           {
            "colorbar": {
             "outlinewidth": 0,
             "ticks": ""
            },
            "type": "choropleth"
           }
          ],
          "contour": [
           {
            "colorbar": {
             "outlinewidth": 0,
             "ticks": ""
            },
            "colorscale": [
             [
              0,
              "#0d0887"
             ],
             [
              0.1111111111111111,
              "#46039f"
             ],
             [
              0.2222222222222222,
              "#7201a8"
             ],
             [
              0.3333333333333333,
              "#9c179e"
             ],
             [
              0.4444444444444444,
              "#bd3786"
             ],
             [
              0.5555555555555556,
              "#d8576b"
             ],
             [
              0.6666666666666666,
              "#ed7953"
             ],
             [
              0.7777777777777778,
              "#fb9f3a"
             ],
             [
              0.8888888888888888,
              "#fdca26"
             ],
             [
              1,
              "#f0f921"
             ]
            ],
            "type": "contour"
           }
          ],
          "contourcarpet": [
           {
            "colorbar": {
             "outlinewidth": 0,
             "ticks": ""
            },
            "type": "contourcarpet"
           }
          ],
          "heatmap": [
           {
            "colorbar": {
             "outlinewidth": 0,
             "ticks": ""
            },
            "colorscale": [
             [
              0,
              "#0d0887"
             ],
             [
              0.1111111111111111,
              "#46039f"
             ],
             [
              0.2222222222222222,
              "#7201a8"
             ],
             [
              0.3333333333333333,
              "#9c179e"
             ],
             [
              0.4444444444444444,
              "#bd3786"
             ],
             [
              0.5555555555555556,
              "#d8576b"
             ],
             [
              0.6666666666666666,
              "#ed7953"
             ],
             [
              0.7777777777777778,
              "#fb9f3a"
             ],
             [
              0.8888888888888888,
              "#fdca26"
             ],
             [
              1,
              "#f0f921"
             ]
            ],
            "type": "heatmap"
           }
          ],
          "heatmapgl": [
           {
            "colorbar": {
             "outlinewidth": 0,
             "ticks": ""
            },
            "colorscale": [
             [
              0,
              "#0d0887"
             ],
             [
              0.1111111111111111,
              "#46039f"
             ],
             [
              0.2222222222222222,
              "#7201a8"
             ],
             [
              0.3333333333333333,
              "#9c179e"
             ],
             [
              0.4444444444444444,
              "#bd3786"
             ],
             [
              0.5555555555555556,
              "#d8576b"
             ],
             [
              0.6666666666666666,
              "#ed7953"
             ],
             [
              0.7777777777777778,
              "#fb9f3a"
             ],
             [
              0.8888888888888888,
              "#fdca26"
             ],
             [
              1,
              "#f0f921"
             ]
            ],
            "type": "heatmapgl"
           }
          ],
          "histogram": [
           {
            "marker": {
             "pattern": {
              "fillmode": "overlay",
              "size": 10,
              "solidity": 0.2
             }
            },
            "type": "histogram"
           }
          ],
          "histogram2d": [
           {
            "colorbar": {
             "outlinewidth": 0,
             "ticks": ""
            },
            "colorscale": [
             [
              0,
              "#0d0887"
             ],
             [
              0.1111111111111111,
              "#46039f"
             ],
             [
              0.2222222222222222,
              "#7201a8"
             ],
             [
              0.3333333333333333,
              "#9c179e"
             ],
             [
              0.4444444444444444,
              "#bd3786"
             ],
             [
              0.5555555555555556,
              "#d8576b"
             ],
             [
              0.6666666666666666,
              "#ed7953"
             ],
             [
              0.7777777777777778,
              "#fb9f3a"
             ],
             [
              0.8888888888888888,
              "#fdca26"
             ],
             [
              1,
              "#f0f921"
             ]
            ],
            "type": "histogram2d"
           }
          ],
          "histogram2dcontour": [
           {
            "colorbar": {
             "outlinewidth": 0,
             "ticks": ""
            },
            "colorscale": [
             [
              0,
              "#0d0887"
             ],
             [
              0.1111111111111111,
              "#46039f"
             ],
             [
              0.2222222222222222,
              "#7201a8"
             ],
             [
              0.3333333333333333,
              "#9c179e"
             ],
             [
              0.4444444444444444,
              "#bd3786"
             ],
             [
              0.5555555555555556,
              "#d8576b"
             ],
             [
              0.6666666666666666,
              "#ed7953"
             ],
             [
              0.7777777777777778,
              "#fb9f3a"
             ],
             [
              0.8888888888888888,
              "#fdca26"
             ],
             [
              1,
              "#f0f921"
             ]
            ],
            "type": "histogram2dcontour"
           }
          ],
          "mesh3d": [
           {
            "colorbar": {
             "outlinewidth": 0,
             "ticks": ""
            },
            "type": "mesh3d"
           }
          ],
          "parcoords": [
           {
            "line": {
             "colorbar": {
              "outlinewidth": 0,
              "ticks": ""
             }
            },
            "type": "parcoords"
           }
          ],
          "pie": [
           {
            "automargin": true,
            "type": "pie"
           }
          ],
          "scatter": [
           {
            "fillpattern": {
             "fillmode": "overlay",
             "size": 10,
             "solidity": 0.2
            },
            "type": "scatter"
           }
          ],
          "scatter3d": [
           {
            "line": {
             "colorbar": {
              "outlinewidth": 0,
              "ticks": ""
             }
            },
            "marker": {
             "colorbar": {
              "outlinewidth": 0,
              "ticks": ""
             }
            },
            "type": "scatter3d"
           }
          ],
          "scattercarpet": [
           {
            "marker": {
             "colorbar": {
              "outlinewidth": 0,
              "ticks": ""
             }
            },
            "type": "scattercarpet"
           }
          ],
          "scattergeo": [
           {
            "marker": {
             "colorbar": {
              "outlinewidth": 0,
              "ticks": ""
             }
            },
            "type": "scattergeo"
           }
          ],
          "scattergl": [
           {
            "marker": {
             "colorbar": {
              "outlinewidth": 0,
              "ticks": ""
             }
            },
            "type": "scattergl"
           }
          ],
          "scattermapbox": [
           {
            "marker": {
             "colorbar": {
              "outlinewidth": 0,
              "ticks": ""
             }
            },
            "type": "scattermapbox"
           }
          ],
          "scatterpolar": [
           {
            "marker": {
             "colorbar": {
              "outlinewidth": 0,
              "ticks": ""
             }
            },
            "type": "scatterpolar"
           }
          ],
          "scatterpolargl": [
           {
            "marker": {
             "colorbar": {
              "outlinewidth": 0,
              "ticks": ""
             }
            },
            "type": "scatterpolargl"
           }
          ],
          "scatterternary": [
           {
            "marker": {
             "colorbar": {
              "outlinewidth": 0,
              "ticks": ""
             }
            },
            "type": "scatterternary"
           }
          ],
          "surface": [
           {
            "colorbar": {
             "outlinewidth": 0,
             "ticks": ""
            },
            "colorscale": [
             [
              0,
              "#0d0887"
             ],
             [
              0.1111111111111111,
              "#46039f"
             ],
             [
              0.2222222222222222,
              "#7201a8"
             ],
             [
              0.3333333333333333,
              "#9c179e"
             ],
             [
              0.4444444444444444,
              "#bd3786"
             ],
             [
              0.5555555555555556,
              "#d8576b"
             ],
             [
              0.6666666666666666,
              "#ed7953"
             ],
             [
              0.7777777777777778,
              "#fb9f3a"
             ],
             [
              0.8888888888888888,
              "#fdca26"
             ],
             [
              1,
              "#f0f921"
             ]
            ],
            "type": "surface"
           }
          ],
          "table": [
           {
            "cells": {
             "fill": {
              "color": "#EBF0F8"
             },
             "line": {
              "color": "white"
             }
            },
            "header": {
             "fill": {
              "color": "#C8D4E3"
             },
             "line": {
              "color": "white"
             }
            },
            "type": "table"
           }
          ]
         },
         "layout": {
          "annotationdefaults": {
           "arrowcolor": "#2a3f5f",
           "arrowhead": 0,
           "arrowwidth": 1
          },
          "autotypenumbers": "strict",
          "coloraxis": {
           "colorbar": {
            "outlinewidth": 0,
            "ticks": ""
           }
          },
          "colorscale": {
           "diverging": [
            [
             0,
             "#8e0152"
            ],
            [
             0.1,
             "#c51b7d"
            ],
            [
             0.2,
             "#de77ae"
            ],
            [
             0.3,
             "#f1b6da"
            ],
            [
             0.4,
             "#fde0ef"
            ],
            [
             0.5,
             "#f7f7f7"
            ],
            [
             0.6,
             "#e6f5d0"
            ],
            [
             0.7,
             "#b8e186"
            ],
            [
             0.8,
             "#7fbc41"
            ],
            [
             0.9,
             "#4d9221"
            ],
            [
             1,
             "#276419"
            ]
           ],
           "sequential": [
            [
             0,
             "#0d0887"
            ],
            [
             0.1111111111111111,
             "#46039f"
            ],
            [
             0.2222222222222222,
             "#7201a8"
            ],
            [
             0.3333333333333333,
             "#9c179e"
            ],
            [
             0.4444444444444444,
             "#bd3786"
            ],
            [
             0.5555555555555556,
             "#d8576b"
            ],
            [
             0.6666666666666666,
             "#ed7953"
            ],
            [
             0.7777777777777778,
             "#fb9f3a"
            ],
            [
             0.8888888888888888,
             "#fdca26"
            ],
            [
             1,
             "#f0f921"
            ]
           ],
           "sequentialminus": [
            [
             0,
             "#0d0887"
            ],
            [
             0.1111111111111111,
             "#46039f"
            ],
            [
             0.2222222222222222,
             "#7201a8"
            ],
            [
             0.3333333333333333,
             "#9c179e"
            ],
            [
             0.4444444444444444,
             "#bd3786"
            ],
            [
             0.5555555555555556,
             "#d8576b"
            ],
            [
             0.6666666666666666,
             "#ed7953"
            ],
            [
             0.7777777777777778,
             "#fb9f3a"
            ],
            [
             0.8888888888888888,
             "#fdca26"
            ],
            [
             1,
             "#f0f921"
            ]
           ]
          },
          "colorway": [
           "#636efa",
           "#EF553B",
           "#00cc96",
           "#ab63fa",
           "#FFA15A",
           "#19d3f3",
           "#FF6692",
           "#B6E880",
           "#FF97FF",
           "#FECB52"
          ],
          "font": {
           "color": "#2a3f5f"
          },
          "geo": {
           "bgcolor": "white",
           "lakecolor": "white",
           "landcolor": "#E5ECF6",
           "showlakes": true,
           "showland": true,
           "subunitcolor": "white"
          },
          "hoverlabel": {
           "align": "left"
          },
          "hovermode": "closest",
          "mapbox": {
           "style": "light"
          },
          "paper_bgcolor": "white",
          "plot_bgcolor": "#E5ECF6",
          "polar": {
           "angularaxis": {
            "gridcolor": "white",
            "linecolor": "white",
            "ticks": ""
           },
           "bgcolor": "#E5ECF6",
           "radialaxis": {
            "gridcolor": "white",
            "linecolor": "white",
            "ticks": ""
           }
          },
          "scene": {
           "xaxis": {
            "backgroundcolor": "#E5ECF6",
            "gridcolor": "white",
            "gridwidth": 2,
            "linecolor": "white",
            "showbackground": true,
            "ticks": "",
            "zerolinecolor": "white"
           },
           "yaxis": {
            "backgroundcolor": "#E5ECF6",
            "gridcolor": "white",
            "gridwidth": 2,
            "linecolor": "white",
            "showbackground": true,
            "ticks": "",
            "zerolinecolor": "white"
           },
           "zaxis": {
            "backgroundcolor": "#E5ECF6",
            "gridcolor": "white",
            "gridwidth": 2,
            "linecolor": "white",
            "showbackground": true,
            "ticks": "",
            "zerolinecolor": "white"
           }
          },
          "shapedefaults": {
           "line": {
            "color": "#2a3f5f"
           }
          },
          "ternary": {
           "aaxis": {
            "gridcolor": "white",
            "linecolor": "white",
            "ticks": ""
           },
           "baxis": {
            "gridcolor": "white",
            "linecolor": "white",
            "ticks": ""
           },
           "bgcolor": "#E5ECF6",
           "caxis": {
            "gridcolor": "white",
            "linecolor": "white",
            "ticks": ""
           }
          },
          "title": {
           "x": 0.05
          },
          "xaxis": {
           "automargin": true,
           "gridcolor": "white",
           "linecolor": "white",
           "ticks": "",
           "title": {
            "standoff": 15
           },
           "zerolinecolor": "white",
           "zerolinewidth": 2
          },
          "yaxis": {
           "automargin": true,
           "gridcolor": "white",
           "linecolor": "white",
           "ticks": "",
           "title": {
            "standoff": 15
           },
           "zerolinecolor": "white",
           "zerolinewidth": 2
          }
         }
        },
        "title": {
         "text": "Accuracy using FFT"
        },
        "width": 800,
        "xaxis": {
         "title": {
          "text": "Dataset"
         }
        },
        "yaxis": {
         "title": {
          "text": "Accuracy (mean)"
         }
        }
       }
      }
     },
     "metadata": {},
     "output_type": "display_data"
    }
   ],
   "source": [
    "df = results.copy()\n",
    "df = filter_domain_fft_only(df)\n",
    "df = filter_features_all(df)\n",
    "df = filter_reducer_over_all(df)\n",
    "df = filter_scaler_none(df)\n",
    "df = filter_view_standardized_intra(df)\n",
    "df = filter_only_reducer_dataset_equals_train_dataset_or_no_reducer(df)\n",
    "df = get_umap_improvement_over_no_umap(df)\n",
    "df = filter_max_set_only(df)\n",
    "\n",
    "fig = chart_bar_with_side_by_side(df, improvement_col=\"accuracy (mean)\", groupby=\"estimator\", inner_group=\"train_datasets\")\n",
    "# fig.add_hline(y=1.0, line_dash=\"dash\", line_color=\"magenta\")\n",
    "fig.update_layout(\n",
    "    title=\"Accuracy using FFT\",\n",
    "    xaxis_title=\"Dataset\",\n",
    "    yaxis_title=\"Accuracy (mean)\",\n",
    "    legend_title=\"Estimator\",\n",
    "    width=800,\n",
    "    height=600\n",
    ")\n",
    "fig.show()"
   ]
  },
  {
   "cell_type": "code",
   "execution_count": 91,
   "metadata": {},
   "outputs": [
    {
     "data": {
      "application/vnd.plotly.v1+json": {
       "config": {
        "plotlyServerURL": "https://plot.ly"
       },
       "data": [
        {
         "marker": {
          "color": "#636EFA"
         },
         "name": "KNN-5",
         "type": "bar",
         "x": [
          "kuhar",
          "motionsense",
          "realworld",
          "uci",
          "wisdm"
         ],
         "y": [
          0.576388888888889,
          0.6805555555555556,
          0.4166666666666667,
          0.5250000000000001,
          0.45
         ]
        },
        {
         "marker": {
          "color": "#00CC96"
         },
         "name": "SVM-rbf-C1.0",
         "type": "bar",
         "x": [
          "kuhar",
          "motionsense",
          "realworld",
          "uci",
          "wisdm"
         ],
         "y": [
          0.513888888888889,
          0.6527777777777778,
          0.3263888888888889,
          0.45,
          0.5
         ]
        },
        {
         "marker": {
          "color": "#AB63FA"
         },
         "name": "randomforest-100",
         "type": "bar",
         "x": [
          "kuhar",
          "motionsense",
          "realworld",
          "uci",
          "wisdm"
         ],
         "y": [
          0.570138888888889,
          0.6652777777777776,
          0.3951388888888889,
          0.5208333333333333,
          0.4925
         ]
        }
       ],
       "layout": {
        "height": 600,
        "legend": {
         "title": {
          "text": "Estimator"
         }
        },
        "template": {
         "data": {
          "bar": [
           {
            "error_x": {
             "color": "#2a3f5f"
            },
            "error_y": {
             "color": "#2a3f5f"
            },
            "marker": {
             "line": {
              "color": "#E5ECF6",
              "width": 0.5
             },
             "pattern": {
              "fillmode": "overlay",
              "size": 10,
              "solidity": 0.2
             }
            },
            "type": "bar"
           }
          ],
          "barpolar": [
           {
            "marker": {
             "line": {
              "color": "#E5ECF6",
              "width": 0.5
             },
             "pattern": {
              "fillmode": "overlay",
              "size": 10,
              "solidity": 0.2
             }
            },
            "type": "barpolar"
           }
          ],
          "carpet": [
           {
            "aaxis": {
             "endlinecolor": "#2a3f5f",
             "gridcolor": "white",
             "linecolor": "white",
             "minorgridcolor": "white",
             "startlinecolor": "#2a3f5f"
            },
            "baxis": {
             "endlinecolor": "#2a3f5f",
             "gridcolor": "white",
             "linecolor": "white",
             "minorgridcolor": "white",
             "startlinecolor": "#2a3f5f"
            },
            "type": "carpet"
           }
          ],
          "choropleth": [
           {
            "colorbar": {
             "outlinewidth": 0,
             "ticks": ""
            },
            "type": "choropleth"
           }
          ],
          "contour": [
           {
            "colorbar": {
             "outlinewidth": 0,
             "ticks": ""
            },
            "colorscale": [
             [
              0,
              "#0d0887"
             ],
             [
              0.1111111111111111,
              "#46039f"
             ],
             [
              0.2222222222222222,
              "#7201a8"
             ],
             [
              0.3333333333333333,
              "#9c179e"
             ],
             [
              0.4444444444444444,
              "#bd3786"
             ],
             [
              0.5555555555555556,
              "#d8576b"
             ],
             [
              0.6666666666666666,
              "#ed7953"
             ],
             [
              0.7777777777777778,
              "#fb9f3a"
             ],
             [
              0.8888888888888888,
              "#fdca26"
             ],
             [
              1,
              "#f0f921"
             ]
            ],
            "type": "contour"
           }
          ],
          "contourcarpet": [
           {
            "colorbar": {
             "outlinewidth": 0,
             "ticks": ""
            },
            "type": "contourcarpet"
           }
          ],
          "heatmap": [
           {
            "colorbar": {
             "outlinewidth": 0,
             "ticks": ""
            },
            "colorscale": [
             [
              0,
              "#0d0887"
             ],
             [
              0.1111111111111111,
              "#46039f"
             ],
             [
              0.2222222222222222,
              "#7201a8"
             ],
             [
              0.3333333333333333,
              "#9c179e"
             ],
             [
              0.4444444444444444,
              "#bd3786"
             ],
             [
              0.5555555555555556,
              "#d8576b"
             ],
             [
              0.6666666666666666,
              "#ed7953"
             ],
             [
              0.7777777777777778,
              "#fb9f3a"
             ],
             [
              0.8888888888888888,
              "#fdca26"
             ],
             [
              1,
              "#f0f921"
             ]
            ],
            "type": "heatmap"
           }
          ],
          "heatmapgl": [
           {
            "colorbar": {
             "outlinewidth": 0,
             "ticks": ""
            },
            "colorscale": [
             [
              0,
              "#0d0887"
             ],
             [
              0.1111111111111111,
              "#46039f"
             ],
             [
              0.2222222222222222,
              "#7201a8"
             ],
             [
              0.3333333333333333,
              "#9c179e"
             ],
             [
              0.4444444444444444,
              "#bd3786"
             ],
             [
              0.5555555555555556,
              "#d8576b"
             ],
             [
              0.6666666666666666,
              "#ed7953"
             ],
             [
              0.7777777777777778,
              "#fb9f3a"
             ],
             [
              0.8888888888888888,
              "#fdca26"
             ],
             [
              1,
              "#f0f921"
             ]
            ],
            "type": "heatmapgl"
           }
          ],
          "histogram": [
           {
            "marker": {
             "pattern": {
              "fillmode": "overlay",
              "size": 10,
              "solidity": 0.2
             }
            },
            "type": "histogram"
           }
          ],
          "histogram2d": [
           {
            "colorbar": {
             "outlinewidth": 0,
             "ticks": ""
            },
            "colorscale": [
             [
              0,
              "#0d0887"
             ],
             [
              0.1111111111111111,
              "#46039f"
             ],
             [
              0.2222222222222222,
              "#7201a8"
             ],
             [
              0.3333333333333333,
              "#9c179e"
             ],
             [
              0.4444444444444444,
              "#bd3786"
             ],
             [
              0.5555555555555556,
              "#d8576b"
             ],
             [
              0.6666666666666666,
              "#ed7953"
             ],
             [
              0.7777777777777778,
              "#fb9f3a"
             ],
             [
              0.8888888888888888,
              "#fdca26"
             ],
             [
              1,
              "#f0f921"
             ]
            ],
            "type": "histogram2d"
           }
          ],
          "histogram2dcontour": [
           {
            "colorbar": {
             "outlinewidth": 0,
             "ticks": ""
            },
            "colorscale": [
             [
              0,
              "#0d0887"
             ],
             [
              0.1111111111111111,
              "#46039f"
             ],
             [
              0.2222222222222222,
              "#7201a8"
             ],
             [
              0.3333333333333333,
              "#9c179e"
             ],
             [
              0.4444444444444444,
              "#bd3786"
             ],
             [
              0.5555555555555556,
              "#d8576b"
             ],
             [
              0.6666666666666666,
              "#ed7953"
             ],
             [
              0.7777777777777778,
              "#fb9f3a"
             ],
             [
              0.8888888888888888,
              "#fdca26"
             ],
             [
              1,
              "#f0f921"
             ]
            ],
            "type": "histogram2dcontour"
           }
          ],
          "mesh3d": [
           {
            "colorbar": {
             "outlinewidth": 0,
             "ticks": ""
            },
            "type": "mesh3d"
           }
          ],
          "parcoords": [
           {
            "line": {
             "colorbar": {
              "outlinewidth": 0,
              "ticks": ""
             }
            },
            "type": "parcoords"
           }
          ],
          "pie": [
           {
            "automargin": true,
            "type": "pie"
           }
          ],
          "scatter": [
           {
            "fillpattern": {
             "fillmode": "overlay",
             "size": 10,
             "solidity": 0.2
            },
            "type": "scatter"
           }
          ],
          "scatter3d": [
           {
            "line": {
             "colorbar": {
              "outlinewidth": 0,
              "ticks": ""
             }
            },
            "marker": {
             "colorbar": {
              "outlinewidth": 0,
              "ticks": ""
             }
            },
            "type": "scatter3d"
           }
          ],
          "scattercarpet": [
           {
            "marker": {
             "colorbar": {
              "outlinewidth": 0,
              "ticks": ""
             }
            },
            "type": "scattercarpet"
           }
          ],
          "scattergeo": [
           {
            "marker": {
             "colorbar": {
              "outlinewidth": 0,
              "ticks": ""
             }
            },
            "type": "scattergeo"
           }
          ],
          "scattergl": [
           {
            "marker": {
             "colorbar": {
              "outlinewidth": 0,
              "ticks": ""
             }
            },
            "type": "scattergl"
           }
          ],
          "scattermapbox": [
           {
            "marker": {
             "colorbar": {
              "outlinewidth": 0,
              "ticks": ""
             }
            },
            "type": "scattermapbox"
           }
          ],
          "scatterpolar": [
           {
            "marker": {
             "colorbar": {
              "outlinewidth": 0,
              "ticks": ""
             }
            },
            "type": "scatterpolar"
           }
          ],
          "scatterpolargl": [
           {
            "marker": {
             "colorbar": {
              "outlinewidth": 0,
              "ticks": ""
             }
            },
            "type": "scatterpolargl"
           }
          ],
          "scatterternary": [
           {
            "marker": {
             "colorbar": {
              "outlinewidth": 0,
              "ticks": ""
             }
            },
            "type": "scatterternary"
           }
          ],
          "surface": [
           {
            "colorbar": {
             "outlinewidth": 0,
             "ticks": ""
            },
            "colorscale": [
             [
              0,
              "#0d0887"
             ],
             [
              0.1111111111111111,
              "#46039f"
             ],
             [
              0.2222222222222222,
              "#7201a8"
             ],
             [
              0.3333333333333333,
              "#9c179e"
             ],
             [
              0.4444444444444444,
              "#bd3786"
             ],
             [
              0.5555555555555556,
              "#d8576b"
             ],
             [
              0.6666666666666666,
              "#ed7953"
             ],
             [
              0.7777777777777778,
              "#fb9f3a"
             ],
             [
              0.8888888888888888,
              "#fdca26"
             ],
             [
              1,
              "#f0f921"
             ]
            ],
            "type": "surface"
           }
          ],
          "table": [
           {
            "cells": {
             "fill": {
              "color": "#EBF0F8"
             },
             "line": {
              "color": "white"
             }
            },
            "header": {
             "fill": {
              "color": "#C8D4E3"
             },
             "line": {
              "color": "white"
             }
            },
            "type": "table"
           }
          ]
         },
         "layout": {
          "annotationdefaults": {
           "arrowcolor": "#2a3f5f",
           "arrowhead": 0,
           "arrowwidth": 1
          },
          "autotypenumbers": "strict",
          "coloraxis": {
           "colorbar": {
            "outlinewidth": 0,
            "ticks": ""
           }
          },
          "colorscale": {
           "diverging": [
            [
             0,
             "#8e0152"
            ],
            [
             0.1,
             "#c51b7d"
            ],
            [
             0.2,
             "#de77ae"
            ],
            [
             0.3,
             "#f1b6da"
            ],
            [
             0.4,
             "#fde0ef"
            ],
            [
             0.5,
             "#f7f7f7"
            ],
            [
             0.6,
             "#e6f5d0"
            ],
            [
             0.7,
             "#b8e186"
            ],
            [
             0.8,
             "#7fbc41"
            ],
            [
             0.9,
             "#4d9221"
            ],
            [
             1,
             "#276419"
            ]
           ],
           "sequential": [
            [
             0,
             "#0d0887"
            ],
            [
             0.1111111111111111,
             "#46039f"
            ],
            [
             0.2222222222222222,
             "#7201a8"
            ],
            [
             0.3333333333333333,
             "#9c179e"
            ],
            [
             0.4444444444444444,
             "#bd3786"
            ],
            [
             0.5555555555555556,
             "#d8576b"
            ],
            [
             0.6666666666666666,
             "#ed7953"
            ],
            [
             0.7777777777777778,
             "#fb9f3a"
            ],
            [
             0.8888888888888888,
             "#fdca26"
            ],
            [
             1,
             "#f0f921"
            ]
           ],
           "sequentialminus": [
            [
             0,
             "#0d0887"
            ],
            [
             0.1111111111111111,
             "#46039f"
            ],
            [
             0.2222222222222222,
             "#7201a8"
            ],
            [
             0.3333333333333333,
             "#9c179e"
            ],
            [
             0.4444444444444444,
             "#bd3786"
            ],
            [
             0.5555555555555556,
             "#d8576b"
            ],
            [
             0.6666666666666666,
             "#ed7953"
            ],
            [
             0.7777777777777778,
             "#fb9f3a"
            ],
            [
             0.8888888888888888,
             "#fdca26"
            ],
            [
             1,
             "#f0f921"
            ]
           ]
          },
          "colorway": [
           "#636efa",
           "#EF553B",
           "#00cc96",
           "#ab63fa",
           "#FFA15A",
           "#19d3f3",
           "#FF6692",
           "#B6E880",
           "#FF97FF",
           "#FECB52"
          ],
          "font": {
           "color": "#2a3f5f"
          },
          "geo": {
           "bgcolor": "white",
           "lakecolor": "white",
           "landcolor": "#E5ECF6",
           "showlakes": true,
           "showland": true,
           "subunitcolor": "white"
          },
          "hoverlabel": {
           "align": "left"
          },
          "hovermode": "closest",
          "mapbox": {
           "style": "light"
          },
          "paper_bgcolor": "white",
          "plot_bgcolor": "#E5ECF6",
          "polar": {
           "angularaxis": {
            "gridcolor": "white",
            "linecolor": "white",
            "ticks": ""
           },
           "bgcolor": "#E5ECF6",
           "radialaxis": {
            "gridcolor": "white",
            "linecolor": "white",
            "ticks": ""
           }
          },
          "scene": {
           "xaxis": {
            "backgroundcolor": "#E5ECF6",
            "gridcolor": "white",
            "gridwidth": 2,
            "linecolor": "white",
            "showbackground": true,
            "ticks": "",
            "zerolinecolor": "white"
           },
           "yaxis": {
            "backgroundcolor": "#E5ECF6",
            "gridcolor": "white",
            "gridwidth": 2,
            "linecolor": "white",
            "showbackground": true,
            "ticks": "",
            "zerolinecolor": "white"
           },
           "zaxis": {
            "backgroundcolor": "#E5ECF6",
            "gridcolor": "white",
            "gridwidth": 2,
            "linecolor": "white",
            "showbackground": true,
            "ticks": "",
            "zerolinecolor": "white"
           }
          },
          "shapedefaults": {
           "line": {
            "color": "#2a3f5f"
           }
          },
          "ternary": {
           "aaxis": {
            "gridcolor": "white",
            "linecolor": "white",
            "ticks": ""
           },
           "baxis": {
            "gridcolor": "white",
            "linecolor": "white",
            "ticks": ""
           },
           "bgcolor": "#E5ECF6",
           "caxis": {
            "gridcolor": "white",
            "linecolor": "white",
            "ticks": ""
           }
          },
          "title": {
           "x": 0.05
          },
          "xaxis": {
           "automargin": true,
           "gridcolor": "white",
           "linecolor": "white",
           "ticks": "",
           "title": {
            "standoff": 15
           },
           "zerolinecolor": "white",
           "zerolinewidth": 2
          },
          "yaxis": {
           "automargin": true,
           "gridcolor": "white",
           "linecolor": "white",
           "ticks": "",
           "title": {
            "standoff": 15
           },
           "zerolinecolor": "white",
           "zerolinewidth": 2
          }
         }
        },
        "title": {
         "text": "Accuracy using Time"
        },
        "width": 800,
        "xaxis": {
         "title": {
          "text": "Dataset"
         }
        },
        "yaxis": {
         "title": {
          "text": "Accuracy (mean)"
         }
        }
       }
      }
     },
     "metadata": {},
     "output_type": "display_data"
    }
   ],
   "source": [
    "df = results.copy()\n",
    "df = filter_domain_time_only(df)\n",
    "df = filter_features_all(df)\n",
    "df = filter_reducer_over_all(df)\n",
    "df = filter_scaler_none(df)\n",
    "df = filter_view_standardized_intra(df)\n",
    "df = filter_only_reducer_dataset_equals_train_dataset_or_no_reducer(df)\n",
    "df = get_umap_improvement_over_no_umap(df)\n",
    "df = filter_max_set_only(df)\n",
    "\n",
    "fig = chart_bar_with_side_by_side(df, improvement_col=\"accuracy (mean)\", groupby=\"estimator\", inner_group=\"train_datasets\")\n",
    "# fig.add_hline(y=1.0, line_dash=\"dash\", line_color=\"magenta\")\n",
    "fig.update_layout(\n",
    "     title=\"Accuracy using Time\",\n",
    "    xaxis_title=\"Dataset\",\n",
    "    yaxis_title=\"Accuracy (mean)\",\n",
    "    legend_title=\"Estimator\",\n",
    "    width=800,\n",
    "    height=600\n",
    ")\n",
    "fig.show()"
   ]
  },
  {
   "attachments": {},
   "cell_type": "markdown",
   "metadata": {},
   "source": [
    "## Pergunta 8"
   ]
  },
  {
   "cell_type": "code",
   "execution_count": null,
   "metadata": {},
   "outputs": [],
   "source": []
  },
  {
   "attachments": {},
   "cell_type": "markdown",
   "metadata": {},
   "source": [
    "## Pergunta 9"
   ]
  },
  {
   "cell_type": "code",
   "execution_count": 78,
   "metadata": {},
   "outputs": [],
   "source": [
    "def get_scaler_improvement(df):\n",
    "    experiment_uniq = [c for c in unique_exp_columns if c not in [\"scaler\"]]\n",
    "\n",
    "    all_values = {}\n",
    "    for _, subdf in df[df[\"scaler\"] == \"no scaler\"].iterrows():\n",
    "        all_values[tuple(subdf[experiment_uniq].values.tolist())] = subdf[\"accuracy (mean)\"]\n",
    "\n",
    "    df[\"umap improvement\"] = df.apply(lambda x: x[\"accuracy (mean)\"] / all_values.get(tuple(x[experiment_uniq].values.tolist()), np.nan), axis=1)\n",
    "    df = df.dropna(subset=[\"umap improvement\"], inplace=False)\n",
    "    df = df[df[\"scaler\"] != \"no scaler\"]\n",
    "    lines = [subdf[subdf[\"umap improvement\"] == subdf[\"umap improvement\"].max()].iloc[0] for _, subdf in df.groupby(experiment_uniq)]\n",
    "    df = pd.DataFrame(lines)\n",
    "    return df"
   ]
  },
  {
   "cell_type": "code",
   "execution_count": 93,
   "metadata": {},
   "outputs": [
    {
     "data": {
      "application/vnd.plotly.v1+json": {
       "config": {
        "plotlyServerURL": "https://plot.ly"
       },
       "data": [
        {
         "marker": {
          "color": "#636EFA"
         },
         "name": "KNN-5",
         "type": "bar",
         "x": [
          "('kuhar', 'MinMaxScaler')",
          "('kuhar', 'StandardScaler')",
          "('motionsense', 'MinMaxScaler')",
          "('motionsense', 'StandardScaler')",
          "('realworld', 'MinMaxScaler')",
          "('realworld', 'StandardScaler')",
          "('uci', 'MinMaxScaler')",
          "('uci', 'StandardScaler')",
          "('wisdm', 'MinMaxScaler')",
          "('wisdm', 'StandardScaler')"
         ],
         "y": [
          0.9917355371900826,
          1.0265486725663717,
          1,
          1.0163934426229508,
          0.9662921348314606,
          1,
          1.0795454545454548,
          1.0454545454545456,
          1.0652173913043477,
          1
         ]
        },
        {
         "marker": {
          "color": "#00CC96"
         },
         "name": "SVM-rbf-C1.0",
         "type": "bar",
         "x": [
          "('kuhar', 'MinMaxScaler')",
          "('kuhar', 'StandardScaler')",
          "('motionsense', 'MinMaxScaler')",
          "('motionsense', 'StandardScaler')",
          "('realworld', 'MinMaxScaler')",
          "('realworld', 'StandardScaler')",
          "('uci', 'MinMaxScaler')",
          "('uci', 'StandardScaler')",
          "('wisdm', 'MinMaxScaler')",
          "('wisdm', 'StandardScaler')"
         ],
         "y": [
          1.0186915887850467,
          1.008849557522124,
          1.0252100840336131,
          1.0409836065573772,
          1.0476190476190477,
          0.9624999999999999,
          1.044943820224719,
          0.9891304347826084,
          1.032258064516129,
          1.0108695652173914
         ]
        },
        {
         "marker": {
          "color": "#AB63FA"
         },
         "name": "randomforest-100",
         "type": "bar",
         "x": [
          "('kuhar', 'MinMaxScaler')",
          "('kuhar', 'StandardScaler')",
          "('motionsense', 'MinMaxScaler')",
          "('motionsense', 'StandardScaler')",
          "('realworld', 'MinMaxScaler')",
          "('realworld', 'StandardScaler')",
          "('uci', 'MinMaxScaler')",
          "('uci', 'StandardScaler')",
          "('wisdm', 'MinMaxScaler')",
          "('wisdm', 'StandardScaler')"
         ],
         "y": [
          0.9612141652613829,
          1.028343666961913,
          0.9975609756097561,
          0.9984338292873924,
          1.1975806451612903,
          1.0243055555555556,
          0.9923329682365828,
          1.0183276059564719,
          1.0168421052631578,
          1.0239282153539384
         ]
        }
       ],
       "layout": {
        "height": 600,
        "legend": {
         "title": {
          "text": "Estimator"
         }
        },
        "shapes": [
         {
          "line": {
           "color": "red",
           "dash": "dash"
          },
          "type": "line",
          "x0": 0,
          "x1": 1,
          "xref": "x domain",
          "y0": 1,
          "y1": 1,
          "yref": "y"
         }
        ],
        "template": {
         "data": {
          "bar": [
           {
            "error_x": {
             "color": "#2a3f5f"
            },
            "error_y": {
             "color": "#2a3f5f"
            },
            "marker": {
             "line": {
              "color": "#E5ECF6",
              "width": 0.5
             },
             "pattern": {
              "fillmode": "overlay",
              "size": 10,
              "solidity": 0.2
             }
            },
            "type": "bar"
           }
          ],
          "barpolar": [
           {
            "marker": {
             "line": {
              "color": "#E5ECF6",
              "width": 0.5
             },
             "pattern": {
              "fillmode": "overlay",
              "size": 10,
              "solidity": 0.2
             }
            },
            "type": "barpolar"
           }
          ],
          "carpet": [
           {
            "aaxis": {
             "endlinecolor": "#2a3f5f",
             "gridcolor": "white",
             "linecolor": "white",
             "minorgridcolor": "white",
             "startlinecolor": "#2a3f5f"
            },
            "baxis": {
             "endlinecolor": "#2a3f5f",
             "gridcolor": "white",
             "linecolor": "white",
             "minorgridcolor": "white",
             "startlinecolor": "#2a3f5f"
            },
            "type": "carpet"
           }
          ],
          "choropleth": [
           {
            "colorbar": {
             "outlinewidth": 0,
             "ticks": ""
            },
            "type": "choropleth"
           }
          ],
          "contour": [
           {
            "colorbar": {
             "outlinewidth": 0,
             "ticks": ""
            },
            "colorscale": [
             [
              0,
              "#0d0887"
             ],
             [
              0.1111111111111111,
              "#46039f"
             ],
             [
              0.2222222222222222,
              "#7201a8"
             ],
             [
              0.3333333333333333,
              "#9c179e"
             ],
             [
              0.4444444444444444,
              "#bd3786"
             ],
             [
              0.5555555555555556,
              "#d8576b"
             ],
             [
              0.6666666666666666,
              "#ed7953"
             ],
             [
              0.7777777777777778,
              "#fb9f3a"
             ],
             [
              0.8888888888888888,
              "#fdca26"
             ],
             [
              1,
              "#f0f921"
             ]
            ],
            "type": "contour"
           }
          ],
          "contourcarpet": [
           {
            "colorbar": {
             "outlinewidth": 0,
             "ticks": ""
            },
            "type": "contourcarpet"
           }
          ],
          "heatmap": [
           {
            "colorbar": {
             "outlinewidth": 0,
             "ticks": ""
            },
            "colorscale": [
             [
              0,
              "#0d0887"
             ],
             [
              0.1111111111111111,
              "#46039f"
             ],
             [
              0.2222222222222222,
              "#7201a8"
             ],
             [
              0.3333333333333333,
              "#9c179e"
             ],
             [
              0.4444444444444444,
              "#bd3786"
             ],
             [
              0.5555555555555556,
              "#d8576b"
             ],
             [
              0.6666666666666666,
              "#ed7953"
             ],
             [
              0.7777777777777778,
              "#fb9f3a"
             ],
             [
              0.8888888888888888,
              "#fdca26"
             ],
             [
              1,
              "#f0f921"
             ]
            ],
            "type": "heatmap"
           }
          ],
          "heatmapgl": [
           {
            "colorbar": {
             "outlinewidth": 0,
             "ticks": ""
            },
            "colorscale": [
             [
              0,
              "#0d0887"
             ],
             [
              0.1111111111111111,
              "#46039f"
             ],
             [
              0.2222222222222222,
              "#7201a8"
             ],
             [
              0.3333333333333333,
              "#9c179e"
             ],
             [
              0.4444444444444444,
              "#bd3786"
             ],
             [
              0.5555555555555556,
              "#d8576b"
             ],
             [
              0.6666666666666666,
              "#ed7953"
             ],
             [
              0.7777777777777778,
              "#fb9f3a"
             ],
             [
              0.8888888888888888,
              "#fdca26"
             ],
             [
              1,
              "#f0f921"
             ]
            ],
            "type": "heatmapgl"
           }
          ],
          "histogram": [
           {
            "marker": {
             "pattern": {
              "fillmode": "overlay",
              "size": 10,
              "solidity": 0.2
             }
            },
            "type": "histogram"
           }
          ],
          "histogram2d": [
           {
            "colorbar": {
             "outlinewidth": 0,
             "ticks": ""
            },
            "colorscale": [
             [
              0,
              "#0d0887"
             ],
             [
              0.1111111111111111,
              "#46039f"
             ],
             [
              0.2222222222222222,
              "#7201a8"
             ],
             [
              0.3333333333333333,
              "#9c179e"
             ],
             [
              0.4444444444444444,
              "#bd3786"
             ],
             [
              0.5555555555555556,
              "#d8576b"
             ],
             [
              0.6666666666666666,
              "#ed7953"
             ],
             [
              0.7777777777777778,
              "#fb9f3a"
             ],
             [
              0.8888888888888888,
              "#fdca26"
             ],
             [
              1,
              "#f0f921"
             ]
            ],
            "type": "histogram2d"
           }
          ],
          "histogram2dcontour": [
           {
            "colorbar": {
             "outlinewidth": 0,
             "ticks": ""
            },
            "colorscale": [
             [
              0,
              "#0d0887"
             ],
             [
              0.1111111111111111,
              "#46039f"
             ],
             [
              0.2222222222222222,
              "#7201a8"
             ],
             [
              0.3333333333333333,
              "#9c179e"
             ],
             [
              0.4444444444444444,
              "#bd3786"
             ],
             [
              0.5555555555555556,
              "#d8576b"
             ],
             [
              0.6666666666666666,
              "#ed7953"
             ],
             [
              0.7777777777777778,
              "#fb9f3a"
             ],
             [
              0.8888888888888888,
              "#fdca26"
             ],
             [
              1,
              "#f0f921"
             ]
            ],
            "type": "histogram2dcontour"
           }
          ],
          "mesh3d": [
           {
            "colorbar": {
             "outlinewidth": 0,
             "ticks": ""
            },
            "type": "mesh3d"
           }
          ],
          "parcoords": [
           {
            "line": {
             "colorbar": {
              "outlinewidth": 0,
              "ticks": ""
             }
            },
            "type": "parcoords"
           }
          ],
          "pie": [
           {
            "automargin": true,
            "type": "pie"
           }
          ],
          "scatter": [
           {
            "fillpattern": {
             "fillmode": "overlay",
             "size": 10,
             "solidity": 0.2
            },
            "type": "scatter"
           }
          ],
          "scatter3d": [
           {
            "line": {
             "colorbar": {
              "outlinewidth": 0,
              "ticks": ""
             }
            },
            "marker": {
             "colorbar": {
              "outlinewidth": 0,
              "ticks": ""
             }
            },
            "type": "scatter3d"
           }
          ],
          "scattercarpet": [
           {
            "marker": {
             "colorbar": {
              "outlinewidth": 0,
              "ticks": ""
             }
            },
            "type": "scattercarpet"
           }
          ],
          "scattergeo": [
           {
            "marker": {
             "colorbar": {
              "outlinewidth": 0,
              "ticks": ""
             }
            },
            "type": "scattergeo"
           }
          ],
          "scattergl": [
           {
            "marker": {
             "colorbar": {
              "outlinewidth": 0,
              "ticks": ""
             }
            },
            "type": "scattergl"
           }
          ],
          "scattermapbox": [
           {
            "marker": {
             "colorbar": {
              "outlinewidth": 0,
              "ticks": ""
             }
            },
            "type": "scattermapbox"
           }
          ],
          "scatterpolar": [
           {
            "marker": {
             "colorbar": {
              "outlinewidth": 0,
              "ticks": ""
             }
            },
            "type": "scatterpolar"
           }
          ],
          "scatterpolargl": [
           {
            "marker": {
             "colorbar": {
              "outlinewidth": 0,
              "ticks": ""
             }
            },
            "type": "scatterpolargl"
           }
          ],
          "scatterternary": [
           {
            "marker": {
             "colorbar": {
              "outlinewidth": 0,
              "ticks": ""
             }
            },
            "type": "scatterternary"
           }
          ],
          "surface": [
           {
            "colorbar": {
             "outlinewidth": 0,
             "ticks": ""
            },
            "colorscale": [
             [
              0,
              "#0d0887"
             ],
             [
              0.1111111111111111,
              "#46039f"
             ],
             [
              0.2222222222222222,
              "#7201a8"
             ],
             [
              0.3333333333333333,
              "#9c179e"
             ],
             [
              0.4444444444444444,
              "#bd3786"
             ],
             [
              0.5555555555555556,
              "#d8576b"
             ],
             [
              0.6666666666666666,
              "#ed7953"
             ],
             [
              0.7777777777777778,
              "#fb9f3a"
             ],
             [
              0.8888888888888888,
              "#fdca26"
             ],
             [
              1,
              "#f0f921"
             ]
            ],
            "type": "surface"
           }
          ],
          "table": [
           {
            "cells": {
             "fill": {
              "color": "#EBF0F8"
             },
             "line": {
              "color": "white"
             }
            },
            "header": {
             "fill": {
              "color": "#C8D4E3"
             },
             "line": {
              "color": "white"
             }
            },
            "type": "table"
           }
          ]
         },
         "layout": {
          "annotationdefaults": {
           "arrowcolor": "#2a3f5f",
           "arrowhead": 0,
           "arrowwidth": 1
          },
          "autotypenumbers": "strict",
          "coloraxis": {
           "colorbar": {
            "outlinewidth": 0,
            "ticks": ""
           }
          },
          "colorscale": {
           "diverging": [
            [
             0,
             "#8e0152"
            ],
            [
             0.1,
             "#c51b7d"
            ],
            [
             0.2,
             "#de77ae"
            ],
            [
             0.3,
             "#f1b6da"
            ],
            [
             0.4,
             "#fde0ef"
            ],
            [
             0.5,
             "#f7f7f7"
            ],
            [
             0.6,
             "#e6f5d0"
            ],
            [
             0.7,
             "#b8e186"
            ],
            [
             0.8,
             "#7fbc41"
            ],
            [
             0.9,
             "#4d9221"
            ],
            [
             1,
             "#276419"
            ]
           ],
           "sequential": [
            [
             0,
             "#0d0887"
            ],
            [
             0.1111111111111111,
             "#46039f"
            ],
            [
             0.2222222222222222,
             "#7201a8"
            ],
            [
             0.3333333333333333,
             "#9c179e"
            ],
            [
             0.4444444444444444,
             "#bd3786"
            ],
            [
             0.5555555555555556,
             "#d8576b"
            ],
            [
             0.6666666666666666,
             "#ed7953"
            ],
            [
             0.7777777777777778,
             "#fb9f3a"
            ],
            [
             0.8888888888888888,
             "#fdca26"
            ],
            [
             1,
             "#f0f921"
            ]
           ],
           "sequentialminus": [
            [
             0,
             "#0d0887"
            ],
            [
             0.1111111111111111,
             "#46039f"
            ],
            [
             0.2222222222222222,
             "#7201a8"
            ],
            [
             0.3333333333333333,
             "#9c179e"
            ],
            [
             0.4444444444444444,
             "#bd3786"
            ],
            [
             0.5555555555555556,
             "#d8576b"
            ],
            [
             0.6666666666666666,
             "#ed7953"
            ],
            [
             0.7777777777777778,
             "#fb9f3a"
            ],
            [
             0.8888888888888888,
             "#fdca26"
            ],
            [
             1,
             "#f0f921"
            ]
           ]
          },
          "colorway": [
           "#636efa",
           "#EF553B",
           "#00cc96",
           "#ab63fa",
           "#FFA15A",
           "#19d3f3",
           "#FF6692",
           "#B6E880",
           "#FF97FF",
           "#FECB52"
          ],
          "font": {
           "color": "#2a3f5f"
          },
          "geo": {
           "bgcolor": "white",
           "lakecolor": "white",
           "landcolor": "#E5ECF6",
           "showlakes": true,
           "showland": true,
           "subunitcolor": "white"
          },
          "hoverlabel": {
           "align": "left"
          },
          "hovermode": "closest",
          "mapbox": {
           "style": "light"
          },
          "paper_bgcolor": "white",
          "plot_bgcolor": "#E5ECF6",
          "polar": {
           "angularaxis": {
            "gridcolor": "white",
            "linecolor": "white",
            "ticks": ""
           },
           "bgcolor": "#E5ECF6",
           "radialaxis": {
            "gridcolor": "white",
            "linecolor": "white",
            "ticks": ""
           }
          },
          "scene": {
           "xaxis": {
            "backgroundcolor": "#E5ECF6",
            "gridcolor": "white",
            "gridwidth": 2,
            "linecolor": "white",
            "showbackground": true,
            "ticks": "",
            "zerolinecolor": "white"
           },
           "yaxis": {
            "backgroundcolor": "#E5ECF6",
            "gridcolor": "white",
            "gridwidth": 2,
            "linecolor": "white",
            "showbackground": true,
            "ticks": "",
            "zerolinecolor": "white"
           },
           "zaxis": {
            "backgroundcolor": "#E5ECF6",
            "gridcolor": "white",
            "gridwidth": 2,
            "linecolor": "white",
            "showbackground": true,
            "ticks": "",
            "zerolinecolor": "white"
           }
          },
          "shapedefaults": {
           "line": {
            "color": "#2a3f5f"
           }
          },
          "ternary": {
           "aaxis": {
            "gridcolor": "white",
            "linecolor": "white",
            "ticks": ""
           },
           "baxis": {
            "gridcolor": "white",
            "linecolor": "white",
            "ticks": ""
           },
           "bgcolor": "#E5ECF6",
           "caxis": {
            "gridcolor": "white",
            "linecolor": "white",
            "ticks": ""
           }
          },
          "title": {
           "x": 0.05
          },
          "xaxis": {
           "automargin": true,
           "gridcolor": "white",
           "linecolor": "white",
           "ticks": "",
           "title": {
            "standoff": 15
           },
           "zerolinecolor": "white",
           "zerolinewidth": 2
          },
          "yaxis": {
           "automargin": true,
           "gridcolor": "white",
           "linecolor": "white",
           "ticks": "",
           "title": {
            "standoff": 15
           },
           "zerolinecolor": "white",
           "zerolinewidth": 2
          }
         }
        },
        "title": {
         "text": "Improvement using different scalers"
        },
        "width": 1200,
        "xaxis": {
         "title": {
          "text": "dataset / scaler"
         }
        },
        "yaxis": {
         "title": {
          "text": "Improvement over using no scaler"
         }
        }
       }
      }
     },
     "metadata": {},
     "output_type": "display_data"
    }
   ],
   "source": [
    "df = results.copy()\n",
    "df = filter_domain_fft_only(df)\n",
    "df = filter_features_all(df)\n",
    "df = filter_reducer_over_all(df)\n",
    "# df = filter_scaler_none(df)\n",
    "df = filter_view_standardized_intra(df)\n",
    "# df = best_of_each_umap(df)\n",
    "df = filter_only_reducer_dataset_equals_train_dataset(df)\n",
    "df = get_scaler_improvement(df)\n",
    "\n",
    "fig = chart_bar_with_side_by_side(df, improvement_col=\"umap improvement\", groupby=\"estimator\", inner_group=[\"train_datasets\", \"scaler\"])\n",
    "fig.add_hline(y=1.0, line_dash=\"dash\", line_color=\"red\")\n",
    "fig.update_layout(\n",
    "    title=\"Improvement using different scalers\",\n",
    "    xaxis_title=\"dataset / scaler\",\n",
    "    yaxis_title=\"Improvement over using no scaler\",\n",
    "    legend_title=\"Estimator\",\n",
    "    width=1200,\n",
    "    height=600\n",
    ")\n",
    "fig.show()\n"
   ]
  },
  {
   "attachments": {},
   "cell_type": "markdown",
   "metadata": {},
   "source": [
    "## Pergunta 10"
   ]
  },
  {
   "cell_type": "code",
   "execution_count": 86,
   "metadata": {},
   "outputs": [],
   "source": [
    "def get_in_use_features_improvement(df):\n",
    "    experiment_uniq = [c for c in unique_exp_columns if c not in [\"in_use_features\"]]\n",
    "\n",
    "    all_values = {}\n",
    "    for _, subdf in df[(df[\"in_use_features\"].str.contains(\"accel-x\")) & (df[\"in_use_features\"].str.contains(\"gyro-x\"))  ].iterrows():\n",
    "        all_values[tuple(subdf[experiment_uniq].values.tolist())] = subdf[\"accuracy (mean)\"]\n",
    "\n",
    "    df[\"umap improvement\"] = df.apply(lambda x: x[\"accuracy (mean)\"] / all_values.get(tuple(x[experiment_uniq].values.tolist()), np.nan), axis=1)\n",
    "    df = df.dropna(subset=[\"umap improvement\"], inplace=False)\n",
    "    df = df.loc[\n",
    "        ~(df[\"in_use_features\"].str.contains(\"accel-y\")\n",
    "        & df[\"in_use_features\"].str.contains(\"accel-z\")\n",
    "        & df[\"in_use_features\"].str.contains(\"gyro-x\")\n",
    "        & df[\"in_use_features\"].str.contains(\"gyro-y\")\n",
    "        & df[\"in_use_features\"].str.contains(\"gyro-z\"))\n",
    "    ]\n",
    "    lines = [subdf[subdf[\"umap improvement\"] == subdf[\"umap improvement\"].max()].iloc[0] for _, subdf in df.groupby(experiment_uniq)]\n",
    "    df = pd.DataFrame(lines)\n",
    "    return df"
   ]
  },
  {
   "cell_type": "code",
   "execution_count": 94,
   "metadata": {},
   "outputs": [
    {
     "data": {
      "application/vnd.plotly.v1+json": {
       "config": {
        "plotlyServerURL": "https://plot.ly"
       },
       "data": [
        {
         "marker": {
          "color": "#636EFA"
         },
         "name": "KNN-5",
         "type": "bar",
         "x": [
          "('kuhar', 'gyro-x, gyro-y, gyro-z')",
          "('motionsense', 'accel-x, accel-y, accel-z')",
          "('motionsense', 'gyro-x, gyro-y, gyro-z')",
          "('realworld', 'accel-x, accel-y, accel-z')",
          "('realworld', 'gyro-x, gyro-y, gyro-z')",
          "('uci', 'gyro-x, gyro-y, gyro-z')",
          "('wisdm', 'accel-x, accel-y, accel-z')"
         ],
         "y": [
          1.0353982300884956,
          0.9761904761904762,
          0.9918032786885249,
          0.898876404494382,
          0.8750000000000001,
          1.034090909090909,
          0.9891304347826084
         ]
        },
        {
         "marker": {
          "color": "#00CC96"
         },
         "name": "SVM-rbf-C1.0",
         "type": "bar",
         "x": [
          "('kuhar', 'gyro-x, gyro-y, gyro-z')",
          "('motionsense', 'accel-x, accel-y, accel-z')",
          "('motionsense', 'gyro-x, gyro-y, gyro-z')",
          "('realworld', 'accel-x, accel-y, accel-z')",
          "('uci', 'accel-x, accel-y, accel-z')",
          "('uci', 'gyro-x, gyro-y, gyro-z')",
          "('wisdm', 'accel-x, accel-y, accel-z')"
         ],
         "y": [
          1.0353982300884956,
          1.0083333333333335,
          1.0084033613445378,
          1.0375,
          1.0111111111111108,
          0.9782608695652173,
          1
         ]
        },
        {
         "marker": {
          "color": "#AB63FA"
         },
         "name": "randomforest-100",
         "type": "bar",
         "x": [
          "('kuhar', 'accel-x, accel-y, accel-z')",
          "('kuhar', 'gyro-x, gyro-y, gyro-z')",
          "('motionsense', 'accel-x, accel-y, accel-z')",
          "('motionsense', 'gyro-x, gyro-y, gyro-z')",
          "('realworld', 'accel-x, accel-y, accel-z')",
          "('realworld', 'gyro-x, gyro-y, gyro-z')",
          "('uci', 'accel-x, accel-y, accel-z')",
          "('uci', 'gyro-x, gyro-y, gyro-z')",
          "('wisdm', 'accel-x, accel-y, accel-z')"
         ],
         "y": [
          1.0127118644067796,
          1.046058458813109,
          0.9553641346906812,
          0.9845528455284551,
          1.0537634408602148,
          0.8935447338618345,
          0.9367755532139094,
          1.0372398685651698,
          0.9768421052631577
         ]
        }
       ],
       "layout": {
        "height": 600,
        "legend": {
         "title": {
          "text": "Estimator"
         }
        },
        "shapes": [
         {
          "line": {
           "color": "red",
           "dash": "dash"
          },
          "type": "line",
          "x0": 0,
          "x1": 1,
          "xref": "x domain",
          "y0": 1,
          "y1": 1,
          "yref": "y"
         }
        ],
        "template": {
         "data": {
          "bar": [
           {
            "error_x": {
             "color": "#2a3f5f"
            },
            "error_y": {
             "color": "#2a3f5f"
            },
            "marker": {
             "line": {
              "color": "#E5ECF6",
              "width": 0.5
             },
             "pattern": {
              "fillmode": "overlay",
              "size": 10,
              "solidity": 0.2
             }
            },
            "type": "bar"
           }
          ],
          "barpolar": [
           {
            "marker": {
             "line": {
              "color": "#E5ECF6",
              "width": 0.5
             },
             "pattern": {
              "fillmode": "overlay",
              "size": 10,
              "solidity": 0.2
             }
            },
            "type": "barpolar"
           }
          ],
          "carpet": [
           {
            "aaxis": {
             "endlinecolor": "#2a3f5f",
             "gridcolor": "white",
             "linecolor": "white",
             "minorgridcolor": "white",
             "startlinecolor": "#2a3f5f"
            },
            "baxis": {
             "endlinecolor": "#2a3f5f",
             "gridcolor": "white",
             "linecolor": "white",
             "minorgridcolor": "white",
             "startlinecolor": "#2a3f5f"
            },
            "type": "carpet"
           }
          ],
          "choropleth": [
           {
            "colorbar": {
             "outlinewidth": 0,
             "ticks": ""
            },
            "type": "choropleth"
           }
          ],
          "contour": [
           {
            "colorbar": {
             "outlinewidth": 0,
             "ticks": ""
            },
            "colorscale": [
             [
              0,
              "#0d0887"
             ],
             [
              0.1111111111111111,
              "#46039f"
             ],
             [
              0.2222222222222222,
              "#7201a8"
             ],
             [
              0.3333333333333333,
              "#9c179e"
             ],
             [
              0.4444444444444444,
              "#bd3786"
             ],
             [
              0.5555555555555556,
              "#d8576b"
             ],
             [
              0.6666666666666666,
              "#ed7953"
             ],
             [
              0.7777777777777778,
              "#fb9f3a"
             ],
             [
              0.8888888888888888,
              "#fdca26"
             ],
             [
              1,
              "#f0f921"
             ]
            ],
            "type": "contour"
           }
          ],
          "contourcarpet": [
           {
            "colorbar": {
             "outlinewidth": 0,
             "ticks": ""
            },
            "type": "contourcarpet"
           }
          ],
          "heatmap": [
           {
            "colorbar": {
             "outlinewidth": 0,
             "ticks": ""
            },
            "colorscale": [
             [
              0,
              "#0d0887"
             ],
             [
              0.1111111111111111,
              "#46039f"
             ],
             [
              0.2222222222222222,
              "#7201a8"
             ],
             [
              0.3333333333333333,
              "#9c179e"
             ],
             [
              0.4444444444444444,
              "#bd3786"
             ],
             [
              0.5555555555555556,
              "#d8576b"
             ],
             [
              0.6666666666666666,
              "#ed7953"
             ],
             [
              0.7777777777777778,
              "#fb9f3a"
             ],
             [
              0.8888888888888888,
              "#fdca26"
             ],
             [
              1,
              "#f0f921"
             ]
            ],
            "type": "heatmap"
           }
          ],
          "heatmapgl": [
           {
            "colorbar": {
             "outlinewidth": 0,
             "ticks": ""
            },
            "colorscale": [
             [
              0,
              "#0d0887"
             ],
             [
              0.1111111111111111,
              "#46039f"
             ],
             [
              0.2222222222222222,
              "#7201a8"
             ],
             [
              0.3333333333333333,
              "#9c179e"
             ],
             [
              0.4444444444444444,
              "#bd3786"
             ],
             [
              0.5555555555555556,
              "#d8576b"
             ],
             [
              0.6666666666666666,
              "#ed7953"
             ],
             [
              0.7777777777777778,
              "#fb9f3a"
             ],
             [
              0.8888888888888888,
              "#fdca26"
             ],
             [
              1,
              "#f0f921"
             ]
            ],
            "type": "heatmapgl"
           }
          ],
          "histogram": [
           {
            "marker": {
             "pattern": {
              "fillmode": "overlay",
              "size": 10,
              "solidity": 0.2
             }
            },
            "type": "histogram"
           }
          ],
          "histogram2d": [
           {
            "colorbar": {
             "outlinewidth": 0,
             "ticks": ""
            },
            "colorscale": [
             [
              0,
              "#0d0887"
             ],
             [
              0.1111111111111111,
              "#46039f"
             ],
             [
              0.2222222222222222,
              "#7201a8"
             ],
             [
              0.3333333333333333,
              "#9c179e"
             ],
             [
              0.4444444444444444,
              "#bd3786"
             ],
             [
              0.5555555555555556,
              "#d8576b"
             ],
             [
              0.6666666666666666,
              "#ed7953"
             ],
             [
              0.7777777777777778,
              "#fb9f3a"
             ],
             [
              0.8888888888888888,
              "#fdca26"
             ],
             [
              1,
              "#f0f921"
             ]
            ],
            "type": "histogram2d"
           }
          ],
          "histogram2dcontour": [
           {
            "colorbar": {
             "outlinewidth": 0,
             "ticks": ""
            },
            "colorscale": [
             [
              0,
              "#0d0887"
             ],
             [
              0.1111111111111111,
              "#46039f"
             ],
             [
              0.2222222222222222,
              "#7201a8"
             ],
             [
              0.3333333333333333,
              "#9c179e"
             ],
             [
              0.4444444444444444,
              "#bd3786"
             ],
             [
              0.5555555555555556,
              "#d8576b"
             ],
             [
              0.6666666666666666,
              "#ed7953"
             ],
             [
              0.7777777777777778,
              "#fb9f3a"
             ],
             [
              0.8888888888888888,
              "#fdca26"
             ],
             [
              1,
              "#f0f921"
             ]
            ],
            "type": "histogram2dcontour"
           }
          ],
          "mesh3d": [
           {
            "colorbar": {
             "outlinewidth": 0,
             "ticks": ""
            },
            "type": "mesh3d"
           }
          ],
          "parcoords": [
           {
            "line": {
             "colorbar": {
              "outlinewidth": 0,
              "ticks": ""
             }
            },
            "type": "parcoords"
           }
          ],
          "pie": [
           {
            "automargin": true,
            "type": "pie"
           }
          ],
          "scatter": [
           {
            "fillpattern": {
             "fillmode": "overlay",
             "size": 10,
             "solidity": 0.2
            },
            "type": "scatter"
           }
          ],
          "scatter3d": [
           {
            "line": {
             "colorbar": {
              "outlinewidth": 0,
              "ticks": ""
             }
            },
            "marker": {
             "colorbar": {
              "outlinewidth": 0,
              "ticks": ""
             }
            },
            "type": "scatter3d"
           }
          ],
          "scattercarpet": [
           {
            "marker": {
             "colorbar": {
              "outlinewidth": 0,
              "ticks": ""
             }
            },
            "type": "scattercarpet"
           }
          ],
          "scattergeo": [
           {
            "marker": {
             "colorbar": {
              "outlinewidth": 0,
              "ticks": ""
             }
            },
            "type": "scattergeo"
           }
          ],
          "scattergl": [
           {
            "marker": {
             "colorbar": {
              "outlinewidth": 0,
              "ticks": ""
             }
            },
            "type": "scattergl"
           }
          ],
          "scattermapbox": [
           {
            "marker": {
             "colorbar": {
              "outlinewidth": 0,
              "ticks": ""
             }
            },
            "type": "scattermapbox"
           }
          ],
          "scatterpolar": [
           {
            "marker": {
             "colorbar": {
              "outlinewidth": 0,
              "ticks": ""
             }
            },
            "type": "scatterpolar"
           }
          ],
          "scatterpolargl": [
           {
            "marker": {
             "colorbar": {
              "outlinewidth": 0,
              "ticks": ""
             }
            },
            "type": "scatterpolargl"
           }
          ],
          "scatterternary": [
           {
            "marker": {
             "colorbar": {
              "outlinewidth": 0,
              "ticks": ""
             }
            },
            "type": "scatterternary"
           }
          ],
          "surface": [
           {
            "colorbar": {
             "outlinewidth": 0,
             "ticks": ""
            },
            "colorscale": [
             [
              0,
              "#0d0887"
             ],
             [
              0.1111111111111111,
              "#46039f"
             ],
             [
              0.2222222222222222,
              "#7201a8"
             ],
             [
              0.3333333333333333,
              "#9c179e"
             ],
             [
              0.4444444444444444,
              "#bd3786"
             ],
             [
              0.5555555555555556,
              "#d8576b"
             ],
             [
              0.6666666666666666,
              "#ed7953"
             ],
             [
              0.7777777777777778,
              "#fb9f3a"
             ],
             [
              0.8888888888888888,
              "#fdca26"
             ],
             [
              1,
              "#f0f921"
             ]
            ],
            "type": "surface"
           }
          ],
          "table": [
           {
            "cells": {
             "fill": {
              "color": "#EBF0F8"
             },
             "line": {
              "color": "white"
             }
            },
            "header": {
             "fill": {
              "color": "#C8D4E3"
             },
             "line": {
              "color": "white"
             }
            },
            "type": "table"
           }
          ]
         },
         "layout": {
          "annotationdefaults": {
           "arrowcolor": "#2a3f5f",
           "arrowhead": 0,
           "arrowwidth": 1
          },
          "autotypenumbers": "strict",
          "coloraxis": {
           "colorbar": {
            "outlinewidth": 0,
            "ticks": ""
           }
          },
          "colorscale": {
           "diverging": [
            [
             0,
             "#8e0152"
            ],
            [
             0.1,
             "#c51b7d"
            ],
            [
             0.2,
             "#de77ae"
            ],
            [
             0.3,
             "#f1b6da"
            ],
            [
             0.4,
             "#fde0ef"
            ],
            [
             0.5,
             "#f7f7f7"
            ],
            [
             0.6,
             "#e6f5d0"
            ],
            [
             0.7,
             "#b8e186"
            ],
            [
             0.8,
             "#7fbc41"
            ],
            [
             0.9,
             "#4d9221"
            ],
            [
             1,
             "#276419"
            ]
           ],
           "sequential": [
            [
             0,
             "#0d0887"
            ],
            [
             0.1111111111111111,
             "#46039f"
            ],
            [
             0.2222222222222222,
             "#7201a8"
            ],
            [
             0.3333333333333333,
             "#9c179e"
            ],
            [
             0.4444444444444444,
             "#bd3786"
            ],
            [
             0.5555555555555556,
             "#d8576b"
            ],
            [
             0.6666666666666666,
             "#ed7953"
            ],
            [
             0.7777777777777778,
             "#fb9f3a"
            ],
            [
             0.8888888888888888,
             "#fdca26"
            ],
            [
             1,
             "#f0f921"
            ]
           ],
           "sequentialminus": [
            [
             0,
             "#0d0887"
            ],
            [
             0.1111111111111111,
             "#46039f"
            ],
            [
             0.2222222222222222,
             "#7201a8"
            ],
            [
             0.3333333333333333,
             "#9c179e"
            ],
            [
             0.4444444444444444,
             "#bd3786"
            ],
            [
             0.5555555555555556,
             "#d8576b"
            ],
            [
             0.6666666666666666,
             "#ed7953"
            ],
            [
             0.7777777777777778,
             "#fb9f3a"
            ],
            [
             0.8888888888888888,
             "#fdca26"
            ],
            [
             1,
             "#f0f921"
            ]
           ]
          },
          "colorway": [
           "#636efa",
           "#EF553B",
           "#00cc96",
           "#ab63fa",
           "#FFA15A",
           "#19d3f3",
           "#FF6692",
           "#B6E880",
           "#FF97FF",
           "#FECB52"
          ],
          "font": {
           "color": "#2a3f5f"
          },
          "geo": {
           "bgcolor": "white",
           "lakecolor": "white",
           "landcolor": "#E5ECF6",
           "showlakes": true,
           "showland": true,
           "subunitcolor": "white"
          },
          "hoverlabel": {
           "align": "left"
          },
          "hovermode": "closest",
          "mapbox": {
           "style": "light"
          },
          "paper_bgcolor": "white",
          "plot_bgcolor": "#E5ECF6",
          "polar": {
           "angularaxis": {
            "gridcolor": "white",
            "linecolor": "white",
            "ticks": ""
           },
           "bgcolor": "#E5ECF6",
           "radialaxis": {
            "gridcolor": "white",
            "linecolor": "white",
            "ticks": ""
           }
          },
          "scene": {
           "xaxis": {
            "backgroundcolor": "#E5ECF6",
            "gridcolor": "white",
            "gridwidth": 2,
            "linecolor": "white",
            "showbackground": true,
            "ticks": "",
            "zerolinecolor": "white"
           },
           "yaxis": {
            "backgroundcolor": "#E5ECF6",
            "gridcolor": "white",
            "gridwidth": 2,
            "linecolor": "white",
            "showbackground": true,
            "ticks": "",
            "zerolinecolor": "white"
           },
           "zaxis": {
            "backgroundcolor": "#E5ECF6",
            "gridcolor": "white",
            "gridwidth": 2,
            "linecolor": "white",
            "showbackground": true,
            "ticks": "",
            "zerolinecolor": "white"
           }
          },
          "shapedefaults": {
           "line": {
            "color": "#2a3f5f"
           }
          },
          "ternary": {
           "aaxis": {
            "gridcolor": "white",
            "linecolor": "white",
            "ticks": ""
           },
           "baxis": {
            "gridcolor": "white",
            "linecolor": "white",
            "ticks": ""
           },
           "bgcolor": "#E5ECF6",
           "caxis": {
            "gridcolor": "white",
            "linecolor": "white",
            "ticks": ""
           }
          },
          "title": {
           "x": 0.05
          },
          "xaxis": {
           "automargin": true,
           "gridcolor": "white",
           "linecolor": "white",
           "ticks": "",
           "title": {
            "standoff": 15
           },
           "zerolinecolor": "white",
           "zerolinewidth": 2
          },
          "yaxis": {
           "automargin": true,
           "gridcolor": "white",
           "linecolor": "white",
           "ticks": "",
           "title": {
            "standoff": 15
           },
           "zerolinecolor": "white",
           "zerolinewidth": 2
          }
         }
        },
        "title": {
         "text": "Improvement using different features"
        },
        "width": 1200,
        "xaxis": {
         "title": {
          "text": "dataset /  features"
         }
        },
        "yaxis": {
         "title": {
          "text": "Improvement over using all features"
         }
        }
       }
      }
     },
     "metadata": {},
     "output_type": "display_data"
    }
   ],
   "source": [
    "df = results.copy()\n",
    "df = filter_domain_fft_only(df)\n",
    "# df = filter_features_all(df)\n",
    "df = filter_reducer_over_all(df)\n",
    "df = filter_scaler_none(df)\n",
    "df = filter_view_standardized_intra(df)\n",
    "# df = best_of_each_umap(df)\n",
    "df = filter_only_reducer_dataset_equals_train_dataset(df)\n",
    "df = get_in_use_features_improvement(df)\n",
    "\n",
    "fig = chart_bar_with_side_by_side(df, improvement_col=\"umap improvement\", groupby=\"estimator\", inner_group=[\"train_datasets\", \"in_use_features\"])\n",
    "fig.add_hline(y=1.0, line_dash=\"dash\", line_color=\"red\")\n",
    "fig.update_layout(\n",
    "    title=\"Improvement using different features\",\n",
    "    xaxis_title=\"dataset /  features\",\n",
    "    yaxis_title=\"Improvement over using all features\",\n",
    "    legend_title=\"Estimator\",\n",
    "    width=1200,\n",
    "    height=600\n",
    ")\n",
    "fig.show()"
   ]
  }
 ],
 "metadata": {
  "kernelspec": {
   "display_name": ".librep-venv",
   "language": "python",
   "name": "python3"
  },
  "language_info": {
   "codemirror_mode": {
    "name": "ipython",
    "version": 3
   },
   "file_extension": ".py",
   "mimetype": "text/x-python",
   "name": "python",
   "nbconvert_exporter": "python",
   "pygments_lexer": "ipython3",
   "version": "3.10.6"
  },
  "orig_nbformat": 4,
  "vscode": {
   "interpreter": {
    "hash": "e57cbd9857f73b6186314efc0497b85fc81e429910d4dfbf03f56c852bfb6a26"
   }
  }
 },
 "nbformat": 4,
 "nbformat_minor": 2
}
