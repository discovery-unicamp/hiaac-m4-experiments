{
 "cells": [
  {
   "cell_type": "code",
   "execution_count": 32,
   "metadata": {},
   "outputs": [],
   "source": [
    "import itertools\n",
    "from pathlib import Path\n",
    "from typing import List\n",
    "\n",
    "import numpy as np\n",
    "import pandas as pd\n",
    "import plotly.express as px\n",
    "\n",
    "from IPython.display import display, HTML\n",
    "import plotly.graph_objects as go\n",
    "from plotly.subplots import make_subplots"
   ]
  },
  {
   "cell_type": "code",
   "execution_count": 33,
   "metadata": {},
   "outputs": [],
   "source": [
    "pd.set_option('display.max_rows', 20)\n",
    "pd.set_option('display.max_columns', 50)\n",
    "pd.set_option('display.width', 1000)\n",
    "\n",
    "# Let's define some constants\n",
    "\n",
    "datasets = [\n",
    "    \"kuhar\",\n",
    "    \"motionsense\",\n",
    "    \"uci\",\n",
    "    \"wisdm\",\n",
    "    \"realworld\"\n",
    "]\n",
    "\n",
    "\n",
    "labels_activity = {\n",
    "    0: \"sit\",\n",
    "    1: \"stand\",\n",
    "    2: \"walk\",\n",
    "    3: \"stair up\",\n",
    "    4: \"stair down\",\n",
    "    5: \"run\",\n",
    "    6: \"stair up and down\",\n",
    "}\n",
    "\n",
    "colors_map = {\n",
    "    \"plotly-blue\": px.colors.qualitative.Plotly[0],\n",
    "    \"plotly-green\": px.colors.qualitative.Plotly[2],\n",
    "    \"plotly-purple\": px.colors.qualitative.Plotly[3],\n",
    "    \"plotly-orange\": px.colors.qualitative.Plotly[4],\n",
    "    \"plotly-cyan\": px.colors.qualitative.Plotly[5],\n",
    "    \"plotly-pink\": px.colors.qualitative.Plotly[6],\n",
    "    \"plotly-lightgreen\": px.colors.qualitative.Plotly[7],\n",
    "    \"plotly-lightpink\": px.colors.qualitative.Plotly[8],\n",
    "    \"plotly-yellow\": px.colors.qualitative.Plotly[9],\n",
    "    \"plotly-red\": px.colors.qualitative.Plotly[1],\n",
    "}\n",
    "\n",
    "colors = list(colors_map.values())\n",
    "markers = [\"circle\", \"square\", \"diamond\", \"x\", \"triangle-up\", \"triangle-down\", \"pentagon\"]"
   ]
  },
  {
   "cell_type": "code",
   "execution_count": 34,
   "metadata": {},
   "outputs": [],
   "source": [
    "# Let's define some filters related to each of the columns\n",
    "\n",
    "# --- Related to domain ---\n",
    "def filter_domain_fft_only(df):\n",
    "    return df[df[\"transforms\"] == \"fft\"]\n",
    "\n",
    "def filter_domain_time_only(df):\n",
    "    return df.loc[df[\"transforms\"] == \"time\"]\n",
    "\n",
    "\n",
    "# --- Related to features ---\n",
    "def filter_features_all(df):\n",
    "    return df[\n",
    "        df[\"in_use_features\"].str.contains(\"accel-x\")\n",
    "        & df[\"in_use_features\"].str.contains(\"accel-y\")\n",
    "        & df[\"in_use_features\"].str.contains(\"accel-z\")\n",
    "        & df[\"in_use_features\"].str.contains(\"gyro-x\")\n",
    "        & df[\"in_use_features\"].str.contains(\"gyro-y\")\n",
    "        & df[\"in_use_features\"].str.contains(\"gyro-z\")\n",
    "    ]\n",
    "\n",
    "def filter_features_accelerometer_only(df):\n",
    "    return df[\n",
    "        df[\"in_use_features\"].str.contains(\"accel-x\")\n",
    "        & df[\"in_use_features\"].str.contains(\"accel-y\")\n",
    "        & df[\"in_use_features\"].str.contains(\"accel-z\")\n",
    "        & ~df[\"in_use_features\"].str.contains(\"gyro-x\")\n",
    "        & ~df[\"in_use_features\"].str.contains(\"gyro-y\")\n",
    "        & ~df[\"in_use_features\"].str.contains(\"gyro-z\")\n",
    "    ]\n",
    "\n",
    "def filter_features_gyroscope_only(df):\n",
    "    return df[\n",
    "        ~df[\"in_use_features\"].str.contains(\"accel-x\")\n",
    "        & ~df[\"in_use_features\"].str.contains(\"accel-y\")\n",
    "        & ~df[\"in_use_features\"].str.contains(\"accel-z\")\n",
    "        & df[\"in_use_features\"].str.contains(\"gyro-x\")\n",
    "        & df[\"in_use_features\"].str.contains(\"gyro-y\")\n",
    "        & df[\"in_use_features\"].str.contains(\"gyro-z\")\n",
    "    ]\n",
    "\n",
    "# --- Related to how reducer is executed ---\n",
    "def filter_reducer_over_all(df):\n",
    "    return df[df[\"reduce_on\"] == \"all\"]\n",
    "\n",
    "def filter_reducer_over_sensor(df):\n",
    "    return df[df[\"reduce_on\"] == \"sensor\"]\n",
    "\n",
    "def filter_reducer_over_axis(df):\n",
    "    return df[df[\"reduce_on\"] == \"axis\"]\n",
    "\n",
    "# --- Related to the estimator ---\n",
    "def filter_estimator_rf(df):\n",
    "    return df[df[\"estimator\"].str.lower().str.contains(\"randomforest\")]\n",
    "\n",
    "def filter_estimator_svm(df):\n",
    "    return df[df[\"estimator\"].str.lower().str.contains(\"svm\")]\n",
    "\n",
    "def filter_estimator_knn(df):\n",
    "    return df[df[\"estimator\"].str.lower().str.contains(\"knn\")]\n",
    "\n",
    "# --- Related to the scaler ---\n",
    "def filter_scaler_none(df):\n",
    "    return df[df[\"scaler\"] == \"no scaler\"]\n",
    "\n",
    "def filter_scaler_minmax(df):\n",
    "    return df[df[\"scaler\"].str.lower().str.contains(\"minmaxscaler\")]\n",
    "\n",
    "def filter_scaler_std(df):\n",
    "   return df[df[\"scaler\"].str.lower().str.contains(\"standardscaler\")]\n",
    "\n",
    "# --- Related to the view ---\n",
    "def filter_view_standardized_inter_balanced(df):\n",
    "    return df[df[\"view\"] == \"standartized_intra_balanced\"] # typo in the data intra -> inter\n",
    "\n",
    "def filter_view_standardized_balanced(df):\n",
    "    return df[(df[\"view\"] == \"standartized_balanced\")]\n",
    "\n",
    "def filter_view_raw(df):\n",
    "    return df[df[\"view\"] == \"raw_balanced\"]    \n",
    "\n",
    "# --- Some other useful filters ---\n",
    "def filter_only_reducer_dataset_equals_train_dataset(df):\n",
    "    return df[df[\"reducer_datasets\"] == df[\"train_datasets\"]]\n",
    "\n",
    "def filter_only_reducer_dataset_equals_train_dataset_or_no_reducer(df):\n",
    "    return df[(df[\"reducer_datasets\"] == df[\"train_datasets\"]) | (df[\"reducer_datasets\"] == \"\")]\n",
    "\n",
    "def filter_only_reducer_dataset_diferent_from_train(df):\n",
    "    return df[(df[\"reducer_datasets\"] != df[\"train_datasets\"]) & (df[\"reducer_datasets\"] != \"\")]\n",
    "\n",
    "def filter_same_train_test(df):\n",
    "    return df[df[\"train_datasets\"] == df[\"test_datasets\"]]\n",
    "\n",
    "def filter_different_train_test(df):\n",
    "    return df[df[\"train_datasets\"] != df[\"test_datasets\"]]"
   ]
  },
  {
   "cell_type": "code",
   "execution_count": 35,
   "metadata": {},
   "outputs": [],
   "source": [
    "# Preprocessing steps\n",
    "def rename_datasets(\n",
    "    df, columns: List[str] = (\"reducer_datasets\", \"train_datasets\", \"test_datasets\")\n",
    "):\n",
    "    def rename_row(row):\n",
    "        for col in columns:\n",
    "            names = set()\n",
    "            for name in row[col].split(\",\"):\n",
    "                name = name.strip()\n",
    "                names.add(name.split(\".\")[0])\n",
    "            row[col] = \", \".join(sorted(names))\n",
    "        return row\n",
    "\n",
    "    df = df.apply(rename_row, axis=1)\n",
    "    return df\n",
    "\n",
    "def add_view_name(df, new_column_name: str = \"view\"):\n",
    "    df[new_column_name] = df[\"config_id\"].apply(lambda x: \"_\".join(x.split(\"_\")[:-1]))\n",
    "    return df\n",
    "\n",
    "# def match_configs(df, new_column_name: str = \"config_group\"):\n",
    "#     group_no = 0\n",
    "#     for k, subdf in df.groupby(\n",
    "#         [\n",
    "#             \"in_use_features\",\n",
    "#             \"scale_on\",\n",
    "#             \"reduce_on\",\n",
    "#             \"transforms\",\n",
    "#             \"scaler\",\n",
    "#             \"reducer\",\n",
    "#             \"umap components\",\n",
    "#             \"reducer_datasets\",\n",
    "#             \"train_datasets\",\n",
    "#             \"test_datasets\",\n",
    "#             \"estimator\",\n",
    "#         ]\n",
    "#     ):\n",
    "#         if len(subdf) == 2:\n",
    "#             df.loc[subdf.index, new_column_name] = group_no\n",
    "#             group_no += 1\n",
    "#     return df"
   ]
  },
  {
   "cell_type": "code",
   "execution_count": 36,
   "metadata": {},
   "outputs": [
    {
     "data": {
      "text/html": [
       "<div>\n",
       "<style scoped>\n",
       "    .dataframe tbody tr th:only-of-type {\n",
       "        vertical-align: middle;\n",
       "    }\n",
       "\n",
       "    .dataframe tbody tr th {\n",
       "        vertical-align: top;\n",
       "    }\n",
       "\n",
       "    .dataframe thead th {\n",
       "        text-align: right;\n",
       "    }\n",
       "</style>\n",
       "<table border=\"1\" class=\"dataframe\">\n",
       "  <thead>\n",
       "    <tr style=\"text-align: right;\">\n",
       "      <th></th>\n",
       "      <th>experiment_name</th>\n",
       "      <th>run_name</th>\n",
       "      <th>config_id</th>\n",
       "      <th>reduce_size</th>\n",
       "      <th>train_size</th>\n",
       "      <th>test_size</th>\n",
       "      <th>in_use_features</th>\n",
       "      <th>scale_on</th>\n",
       "      <th>reduce_on</th>\n",
       "      <th>transforms</th>\n",
       "      <th>scaler</th>\n",
       "      <th>reducer</th>\n",
       "      <th>umap components</th>\n",
       "      <th>reducer_datasets</th>\n",
       "      <th>train_datasets</th>\n",
       "      <th>test_datasets</th>\n",
       "      <th>estimator</th>\n",
       "      <th>accuracy (mean)</th>\n",
       "      <th>accuracy (std)</th>\n",
       "      <th>f1-score macro (mean)</th>\n",
       "      <th>f1-score macro (std)</th>\n",
       "      <th>f1-score weighted (mean)</th>\n",
       "      <th>f1-score weighted (std)</th>\n",
       "    </tr>\n",
       "  </thead>\n",
       "  <tbody>\n",
       "    <tr>\n",
       "      <th>0</th>\n",
       "      <td>reducer_comb_1</td>\n",
       "      <td>execution1</td>\n",
       "      <td>standartized_intra_balanced_03744</td>\n",
       "      <td>1794</td>\n",
       "      <td>1495</td>\n",
       "      <td>120</td>\n",
       "      <td>gyro-x, gyro-y, gyro-z</td>\n",
       "      <td>train</td>\n",
       "      <td>sensor</td>\n",
       "      <td></td>\n",
       "      <td></td>\n",
       "      <td>umap-4</td>\n",
       "      <td>4</td>\n",
       "      <td>kuhar.standartized_intra_balanced[train], kuha...</td>\n",
       "      <td>wisdm.standartized_intra_balanced[train], wisd...</td>\n",
       "      <td>wisdm.standartized_intra_balanced[test]</td>\n",
       "      <td>randomforest-100</td>\n",
       "      <td>0.590000</td>\n",
       "      <td>1.779513e-02</td>\n",
       "      <td>0.589906</td>\n",
       "      <td>1.835340e-02</td>\n",
       "      <td>0.589906</td>\n",
       "      <td>1.835340e-02</td>\n",
       "    </tr>\n",
       "    <tr>\n",
       "      <th>1</th>\n",
       "      <td>reducer_comb_1</td>\n",
       "      <td>execution1</td>\n",
       "      <td>standartized_intra_balanced_03744</td>\n",
       "      <td>1794</td>\n",
       "      <td>1495</td>\n",
       "      <td>120</td>\n",
       "      <td>gyro-x, gyro-y, gyro-z</td>\n",
       "      <td>train</td>\n",
       "      <td>sensor</td>\n",
       "      <td></td>\n",
       "      <td></td>\n",
       "      <td>umap-4</td>\n",
       "      <td>4</td>\n",
       "      <td>kuhar.standartized_intra_balanced[train], kuha...</td>\n",
       "      <td>wisdm.standartized_intra_balanced[train], wisd...</td>\n",
       "      <td>wisdm.standartized_intra_balanced[test]</td>\n",
       "      <td>KNN-5</td>\n",
       "      <td>0.508333</td>\n",
       "      <td>1.110223e-16</td>\n",
       "      <td>0.490085</td>\n",
       "      <td>0.000000e+00</td>\n",
       "      <td>0.490085</td>\n",
       "      <td>0.000000e+00</td>\n",
       "    </tr>\n",
       "    <tr>\n",
       "      <th>2</th>\n",
       "      <td>reducer_comb_1</td>\n",
       "      <td>execution1</td>\n",
       "      <td>standartized_intra_balanced_03744</td>\n",
       "      <td>1794</td>\n",
       "      <td>1495</td>\n",
       "      <td>120</td>\n",
       "      <td>gyro-x, gyro-y, gyro-z</td>\n",
       "      <td>train</td>\n",
       "      <td>sensor</td>\n",
       "      <td></td>\n",
       "      <td></td>\n",
       "      <td>umap-4</td>\n",
       "      <td>4</td>\n",
       "      <td>kuhar.standartized_intra_balanced[train], kuha...</td>\n",
       "      <td>wisdm.standartized_intra_balanced[train], wisd...</td>\n",
       "      <td>wisdm.standartized_intra_balanced[test]</td>\n",
       "      <td>SVM-rbf-C1.0</td>\n",
       "      <td>0.475000</td>\n",
       "      <td>5.551115e-17</td>\n",
       "      <td>0.443587</td>\n",
       "      <td>0.000000e+00</td>\n",
       "      <td>0.443587</td>\n",
       "      <td>0.000000e+00</td>\n",
       "    </tr>\n",
       "    <tr>\n",
       "      <th>6</th>\n",
       "      <td>reducer_comb_1</td>\n",
       "      <td>execution1</td>\n",
       "      <td>raw_balanced_02861</td>\n",
       "      <td>3978</td>\n",
       "      <td>3978</td>\n",
       "      <td>1062</td>\n",
       "      <td>accel-x, accel-y, accel-z</td>\n",
       "      <td>train</td>\n",
       "      <td>axis</td>\n",
       "      <td>FFT-centered</td>\n",
       "      <td></td>\n",
       "      <td>umap-20</td>\n",
       "      <td>20</td>\n",
       "      <td>motionsense.raw_balanced[train], motionsense.r...</td>\n",
       "      <td>motionsense.raw_balanced[train], motionsense.r...</td>\n",
       "      <td>motionsense.raw_balanced[test]</td>\n",
       "      <td>randomforest-100</td>\n",
       "      <td>0.873540</td>\n",
       "      <td>4.690173e-03</td>\n",
       "      <td>0.873424</td>\n",
       "      <td>4.649545e-03</td>\n",
       "      <td>0.873424</td>\n",
       "      <td>4.649545e-03</td>\n",
       "    </tr>\n",
       "    <tr>\n",
       "      <th>7</th>\n",
       "      <td>reducer_comb_1</td>\n",
       "      <td>execution1</td>\n",
       "      <td>raw_balanced_02861</td>\n",
       "      <td>3978</td>\n",
       "      <td>3978</td>\n",
       "      <td>1062</td>\n",
       "      <td>accel-x, accel-y, accel-z</td>\n",
       "      <td>train</td>\n",
       "      <td>axis</td>\n",
       "      <td>FFT-centered</td>\n",
       "      <td></td>\n",
       "      <td>umap-20</td>\n",
       "      <td>20</td>\n",
       "      <td>motionsense.raw_balanced[train], motionsense.r...</td>\n",
       "      <td>motionsense.raw_balanced[train], motionsense.r...</td>\n",
       "      <td>motionsense.raw_balanced[test]</td>\n",
       "      <td>KNN-5</td>\n",
       "      <td>0.843691</td>\n",
       "      <td>1.110223e-16</td>\n",
       "      <td>0.844248</td>\n",
       "      <td>0.000000e+00</td>\n",
       "      <td>0.844248</td>\n",
       "      <td>1.110223e-16</td>\n",
       "    </tr>\n",
       "    <tr>\n",
       "      <th>...</th>\n",
       "      <td>...</td>\n",
       "      <td>...</td>\n",
       "      <td>...</td>\n",
       "      <td>...</td>\n",
       "      <td>...</td>\n",
       "      <td>...</td>\n",
       "      <td>...</td>\n",
       "      <td>...</td>\n",
       "      <td>...</td>\n",
       "      <td>...</td>\n",
       "      <td>...</td>\n",
       "      <td>...</td>\n",
       "      <td>...</td>\n",
       "      <td>...</td>\n",
       "      <td>...</td>\n",
       "      <td>...</td>\n",
       "      <td>...</td>\n",
       "      <td>...</td>\n",
       "      <td>...</td>\n",
       "      <td>...</td>\n",
       "      <td>...</td>\n",
       "      <td>...</td>\n",
       "      <td>...</td>\n",
       "    </tr>\n",
       "    <tr>\n",
       "      <th>7600</th>\n",
       "      <td>reducer_comb_1_not_intra</td>\n",
       "      <td>execution1</td>\n",
       "      <td>standartized_balanced02167</td>\n",
       "      <td>10164</td>\n",
       "      <td>10164</td>\n",
       "      <td>2628</td>\n",
       "      <td>accel-x, accel-y, accel-z, gyro-x, gyro-y, gyro-z</td>\n",
       "      <td>train</td>\n",
       "      <td>sensor</td>\n",
       "      <td></td>\n",
       "      <td></td>\n",
       "      <td>umap-10</td>\n",
       "      <td>10</td>\n",
       "      <td>realworld.standartized_balanced[train], realwo...</td>\n",
       "      <td>realworld.standartized_balanced[train], realwo...</td>\n",
       "      <td>realworld.standartized_balanced[test]</td>\n",
       "      <td>KNN-5</td>\n",
       "      <td>0.517123</td>\n",
       "      <td>1.110223e-16</td>\n",
       "      <td>0.508283</td>\n",
       "      <td>0.000000e+00</td>\n",
       "      <td>0.508283</td>\n",
       "      <td>0.000000e+00</td>\n",
       "    </tr>\n",
       "    <tr>\n",
       "      <th>7601</th>\n",
       "      <td>reducer_comb_1_not_intra</td>\n",
       "      <td>execution1</td>\n",
       "      <td>standartized_balanced02167</td>\n",
       "      <td>10164</td>\n",
       "      <td>10164</td>\n",
       "      <td>2628</td>\n",
       "      <td>accel-x, accel-y, accel-z, gyro-x, gyro-y, gyro-z</td>\n",
       "      <td>train</td>\n",
       "      <td>sensor</td>\n",
       "      <td></td>\n",
       "      <td></td>\n",
       "      <td>umap-10</td>\n",
       "      <td>10</td>\n",
       "      <td>realworld.standartized_balanced[train], realwo...</td>\n",
       "      <td>realworld.standartized_balanced[train], realwo...</td>\n",
       "      <td>realworld.standartized_balanced[test]</td>\n",
       "      <td>SVM-rbf-C1.0</td>\n",
       "      <td>0.516743</td>\n",
       "      <td>1.110223e-16</td>\n",
       "      <td>0.501107</td>\n",
       "      <td>1.110223e-16</td>\n",
       "      <td>0.501107</td>\n",
       "      <td>1.110223e-16</td>\n",
       "    </tr>\n",
       "    <tr>\n",
       "      <th>7602</th>\n",
       "      <td>reducer_comb_1_not_intra</td>\n",
       "      <td>execution1</td>\n",
       "      <td>standartized_balanced02922</td>\n",
       "      <td>10164</td>\n",
       "      <td>10164</td>\n",
       "      <td>2628</td>\n",
       "      <td>gyro-x, gyro-y, gyro-z</td>\n",
       "      <td>train</td>\n",
       "      <td>axis</td>\n",
       "      <td>FFT-centered</td>\n",
       "      <td>StandardScaler</td>\n",
       "      <td>umap-20</td>\n",
       "      <td>20</td>\n",
       "      <td>realworld.standartized_balanced[train], realwo...</td>\n",
       "      <td>realworld.standartized_balanced[train], realwo...</td>\n",
       "      <td>realworld.standartized_balanced[test]</td>\n",
       "      <td>randomforest-100</td>\n",
       "      <td>0.666438</td>\n",
       "      <td>1.140055e-02</td>\n",
       "      <td>0.666738</td>\n",
       "      <td>1.076361e-02</td>\n",
       "      <td>0.666738</td>\n",
       "      <td>1.076361e-02</td>\n",
       "    </tr>\n",
       "    <tr>\n",
       "      <th>7603</th>\n",
       "      <td>reducer_comb_1_not_intra</td>\n",
       "      <td>execution1</td>\n",
       "      <td>standartized_balanced02922</td>\n",
       "      <td>10164</td>\n",
       "      <td>10164</td>\n",
       "      <td>2628</td>\n",
       "      <td>gyro-x, gyro-y, gyro-z</td>\n",
       "      <td>train</td>\n",
       "      <td>axis</td>\n",
       "      <td>FFT-centered</td>\n",
       "      <td>StandardScaler</td>\n",
       "      <td>umap-20</td>\n",
       "      <td>20</td>\n",
       "      <td>realworld.standartized_balanced[train], realwo...</td>\n",
       "      <td>realworld.standartized_balanced[train], realwo...</td>\n",
       "      <td>realworld.standartized_balanced[test]</td>\n",
       "      <td>KNN-5</td>\n",
       "      <td>0.556697</td>\n",
       "      <td>0.000000e+00</td>\n",
       "      <td>0.516618</td>\n",
       "      <td>1.110223e-16</td>\n",
       "      <td>0.516618</td>\n",
       "      <td>1.110223e-16</td>\n",
       "    </tr>\n",
       "    <tr>\n",
       "      <th>7604</th>\n",
       "      <td>reducer_comb_1_not_intra</td>\n",
       "      <td>execution1</td>\n",
       "      <td>standartized_balanced02922</td>\n",
       "      <td>10164</td>\n",
       "      <td>10164</td>\n",
       "      <td>2628</td>\n",
       "      <td>gyro-x, gyro-y, gyro-z</td>\n",
       "      <td>train</td>\n",
       "      <td>axis</td>\n",
       "      <td>FFT-centered</td>\n",
       "      <td>StandardScaler</td>\n",
       "      <td>umap-20</td>\n",
       "      <td>20</td>\n",
       "      <td>realworld.standartized_balanced[train], realwo...</td>\n",
       "      <td>realworld.standartized_balanced[train], realwo...</td>\n",
       "      <td>realworld.standartized_balanced[test]</td>\n",
       "      <td>SVM-rbf-C1.0</td>\n",
       "      <td>0.601218</td>\n",
       "      <td>1.110223e-16</td>\n",
       "      <td>0.591351</td>\n",
       "      <td>1.110223e-16</td>\n",
       "      <td>0.591351</td>\n",
       "      <td>0.000000e+00</td>\n",
       "    </tr>\n",
       "  </tbody>\n",
       "</table>\n",
       "<p>167832 rows × 23 columns</p>\n",
       "</div>"
      ],
      "text/plain": [
       "               experiment_name    run_name                          config_id  reduce_size  train_size  test_size                                    in_use_features scale_on reduce_on    transforms          scaler  reducer  umap components                                   reducer_datasets                                     train_datasets                            test_datasets         estimator  accuracy (mean)  accuracy (std)  f1-score macro (mean)  f1-score macro (std)  f1-score weighted (mean)  f1-score weighted (std)\n",
       "0               reducer_comb_1  execution1  standartized_intra_balanced_03744         1794        1495        120                             gyro-x, gyro-y, gyro-z    train    sensor                                 umap-4                4  kuhar.standartized_intra_balanced[train], kuha...  wisdm.standartized_intra_balanced[train], wisd...  wisdm.standartized_intra_balanced[test]  randomforest-100         0.590000    1.779513e-02               0.589906          1.835340e-02                  0.589906             1.835340e-02\n",
       "1               reducer_comb_1  execution1  standartized_intra_balanced_03744         1794        1495        120                             gyro-x, gyro-y, gyro-z    train    sensor                                 umap-4                4  kuhar.standartized_intra_balanced[train], kuha...  wisdm.standartized_intra_balanced[train], wisd...  wisdm.standartized_intra_balanced[test]             KNN-5         0.508333    1.110223e-16               0.490085          0.000000e+00                  0.490085             0.000000e+00\n",
       "2               reducer_comb_1  execution1  standartized_intra_balanced_03744         1794        1495        120                             gyro-x, gyro-y, gyro-z    train    sensor                                 umap-4                4  kuhar.standartized_intra_balanced[train], kuha...  wisdm.standartized_intra_balanced[train], wisd...  wisdm.standartized_intra_balanced[test]      SVM-rbf-C1.0         0.475000    5.551115e-17               0.443587          0.000000e+00                  0.443587             0.000000e+00\n",
       "6               reducer_comb_1  execution1                 raw_balanced_02861         3978        3978       1062                          accel-x, accel-y, accel-z    train      axis  FFT-centered                  umap-20               20  motionsense.raw_balanced[train], motionsense.r...  motionsense.raw_balanced[train], motionsense.r...           motionsense.raw_balanced[test]  randomforest-100         0.873540    4.690173e-03               0.873424          4.649545e-03                  0.873424             4.649545e-03\n",
       "7               reducer_comb_1  execution1                 raw_balanced_02861         3978        3978       1062                          accel-x, accel-y, accel-z    train      axis  FFT-centered                  umap-20               20  motionsense.raw_balanced[train], motionsense.r...  motionsense.raw_balanced[train], motionsense.r...           motionsense.raw_balanced[test]             KNN-5         0.843691    1.110223e-16               0.844248          0.000000e+00                  0.844248             1.110223e-16\n",
       "...                        ...         ...                                ...          ...         ...        ...                                                ...      ...       ...           ...             ...      ...              ...                                                ...                                                ...                                      ...               ...              ...             ...                    ...                   ...                       ...                      ...\n",
       "7600  reducer_comb_1_not_intra  execution1         standartized_balanced02167        10164       10164       2628  accel-x, accel-y, accel-z, gyro-x, gyro-y, gyro-z    train    sensor                                umap-10               10  realworld.standartized_balanced[train], realwo...  realworld.standartized_balanced[train], realwo...    realworld.standartized_balanced[test]             KNN-5         0.517123    1.110223e-16               0.508283          0.000000e+00                  0.508283             0.000000e+00\n",
       "7601  reducer_comb_1_not_intra  execution1         standartized_balanced02167        10164       10164       2628  accel-x, accel-y, accel-z, gyro-x, gyro-y, gyro-z    train    sensor                                umap-10               10  realworld.standartized_balanced[train], realwo...  realworld.standartized_balanced[train], realwo...    realworld.standartized_balanced[test]      SVM-rbf-C1.0         0.516743    1.110223e-16               0.501107          1.110223e-16                  0.501107             1.110223e-16\n",
       "7602  reducer_comb_1_not_intra  execution1         standartized_balanced02922        10164       10164       2628                             gyro-x, gyro-y, gyro-z    train      axis  FFT-centered  StandardScaler  umap-20               20  realworld.standartized_balanced[train], realwo...  realworld.standartized_balanced[train], realwo...    realworld.standartized_balanced[test]  randomforest-100         0.666438    1.140055e-02               0.666738          1.076361e-02                  0.666738             1.076361e-02\n",
       "7603  reducer_comb_1_not_intra  execution1         standartized_balanced02922        10164       10164       2628                             gyro-x, gyro-y, gyro-z    train      axis  FFT-centered  StandardScaler  umap-20               20  realworld.standartized_balanced[train], realwo...  realworld.standartized_balanced[train], realwo...    realworld.standartized_balanced[test]             KNN-5         0.556697    0.000000e+00               0.516618          1.110223e-16                  0.516618             1.110223e-16\n",
       "7604  reducer_comb_1_not_intra  execution1         standartized_balanced02922        10164       10164       2628                             gyro-x, gyro-y, gyro-z    train      axis  FFT-centered  StandardScaler  umap-20               20  realworld.standartized_balanced[train], realwo...  realworld.standartized_balanced[train], realwo...    realworld.standartized_balanced[test]      SVM-rbf-C1.0         0.601218    1.110223e-16               0.591351          1.110223e-16                  0.591351             0.000000e+00\n",
       "\n",
       "[167832 rows x 23 columns]"
      ]
     },
     "execution_count": 36,
     "metadata": {},
     "output_type": "execute_result"
    }
   ],
   "source": [
    "# First results file\n",
    "results_file = Path(\"results2.csv\")\n",
    "results_1 = pd.read_csv(results_file).fillna(\"\")\n",
    "# We must filter realworld datasets from the results 1\n",
    "results_1 = results_1[~(results_1[\"train_datasets\"].str.contains(\"realworld\"))]\n",
    "results_1 = results_1[~(results_1[\"reducer_datasets\"].str.contains(\"realworld\"))]\n",
    "# results_1[\"from\"] = str(results_file)\n",
    "\n",
    "\n",
    "# Second results file (the missing info)\n",
    "results_file = Path(\"results_missing_v1.csv\")\n",
    "results_2 = pd.read_csv(results_file).fillna(\"\")\n",
    "# results_2[\"from\"] = str(results_file)\n",
    "\n",
    "# Finally, the final results\n",
    "results = pd.concat([results_1, results_2])\n",
    "results"
   ]
  },
  {
   "cell_type": "code",
   "execution_count": 37,
   "metadata": {},
   "outputs": [
    {
     "data": {
      "text/html": [
       "<div>\n",
       "<style scoped>\n",
       "    .dataframe tbody tr th:only-of-type {\n",
       "        vertical-align: middle;\n",
       "    }\n",
       "\n",
       "    .dataframe tbody tr th {\n",
       "        vertical-align: top;\n",
       "    }\n",
       "\n",
       "    .dataframe thead th {\n",
       "        text-align: right;\n",
       "    }\n",
       "</style>\n",
       "<table border=\"1\" class=\"dataframe\">\n",
       "  <thead>\n",
       "    <tr style=\"text-align: right;\">\n",
       "      <th></th>\n",
       "      <th>experiment_name</th>\n",
       "      <th>run_name</th>\n",
       "      <th>config_id</th>\n",
       "      <th>reduce_size</th>\n",
       "      <th>train_size</th>\n",
       "      <th>test_size</th>\n",
       "      <th>in_use_features</th>\n",
       "      <th>scale_on</th>\n",
       "      <th>reduce_on</th>\n",
       "      <th>transforms</th>\n",
       "      <th>scaler</th>\n",
       "      <th>reducer</th>\n",
       "      <th>umap components</th>\n",
       "      <th>reducer_datasets</th>\n",
       "      <th>train_datasets</th>\n",
       "      <th>test_datasets</th>\n",
       "      <th>estimator</th>\n",
       "      <th>accuracy (mean)</th>\n",
       "      <th>accuracy (std)</th>\n",
       "      <th>f1-score macro (mean)</th>\n",
       "      <th>f1-score macro (std)</th>\n",
       "      <th>f1-score weighted (mean)</th>\n",
       "      <th>f1-score weighted (std)</th>\n",
       "      <th>view</th>\n",
       "    </tr>\n",
       "  </thead>\n",
       "  <tbody>\n",
       "    <tr>\n",
       "      <th>0</th>\n",
       "      <td>reducer_comb_1</td>\n",
       "      <td>execution1</td>\n",
       "      <td>standartized_intra_balanced_03744</td>\n",
       "      <td>1794</td>\n",
       "      <td>1495</td>\n",
       "      <td>120</td>\n",
       "      <td>gyro-x, gyro-y, gyro-z</td>\n",
       "      <td>train</td>\n",
       "      <td>sensor</td>\n",
       "      <td></td>\n",
       "      <td></td>\n",
       "      <td>umap-4</td>\n",
       "      <td>4</td>\n",
       "      <td>kuhar</td>\n",
       "      <td>wisdm</td>\n",
       "      <td>wisdm</td>\n",
       "      <td>randomforest-100</td>\n",
       "      <td>0.590000</td>\n",
       "      <td>1.779513e-02</td>\n",
       "      <td>0.589906</td>\n",
       "      <td>1.835340e-02</td>\n",
       "      <td>0.589906</td>\n",
       "      <td>1.835340e-02</td>\n",
       "      <td>standartized_intra_balanced</td>\n",
       "    </tr>\n",
       "    <tr>\n",
       "      <th>1</th>\n",
       "      <td>reducer_comb_1</td>\n",
       "      <td>execution1</td>\n",
       "      <td>standartized_intra_balanced_03744</td>\n",
       "      <td>1794</td>\n",
       "      <td>1495</td>\n",
       "      <td>120</td>\n",
       "      <td>gyro-x, gyro-y, gyro-z</td>\n",
       "      <td>train</td>\n",
       "      <td>sensor</td>\n",
       "      <td></td>\n",
       "      <td></td>\n",
       "      <td>umap-4</td>\n",
       "      <td>4</td>\n",
       "      <td>kuhar</td>\n",
       "      <td>wisdm</td>\n",
       "      <td>wisdm</td>\n",
       "      <td>KNN-5</td>\n",
       "      <td>0.508333</td>\n",
       "      <td>1.110223e-16</td>\n",
       "      <td>0.490085</td>\n",
       "      <td>0.000000e+00</td>\n",
       "      <td>0.490085</td>\n",
       "      <td>0.000000e+00</td>\n",
       "      <td>standartized_intra_balanced</td>\n",
       "    </tr>\n",
       "    <tr>\n",
       "      <th>2</th>\n",
       "      <td>reducer_comb_1</td>\n",
       "      <td>execution1</td>\n",
       "      <td>standartized_intra_balanced_03744</td>\n",
       "      <td>1794</td>\n",
       "      <td>1495</td>\n",
       "      <td>120</td>\n",
       "      <td>gyro-x, gyro-y, gyro-z</td>\n",
       "      <td>train</td>\n",
       "      <td>sensor</td>\n",
       "      <td></td>\n",
       "      <td></td>\n",
       "      <td>umap-4</td>\n",
       "      <td>4</td>\n",
       "      <td>kuhar</td>\n",
       "      <td>wisdm</td>\n",
       "      <td>wisdm</td>\n",
       "      <td>SVM-rbf-C1.0</td>\n",
       "      <td>0.475000</td>\n",
       "      <td>5.551115e-17</td>\n",
       "      <td>0.443587</td>\n",
       "      <td>0.000000e+00</td>\n",
       "      <td>0.443587</td>\n",
       "      <td>0.000000e+00</td>\n",
       "      <td>standartized_intra_balanced</td>\n",
       "    </tr>\n",
       "    <tr>\n",
       "      <th>6</th>\n",
       "      <td>reducer_comb_1</td>\n",
       "      <td>execution1</td>\n",
       "      <td>raw_balanced_02861</td>\n",
       "      <td>3978</td>\n",
       "      <td>3978</td>\n",
       "      <td>1062</td>\n",
       "      <td>accel-x, accel-y, accel-z</td>\n",
       "      <td>train</td>\n",
       "      <td>axis</td>\n",
       "      <td>FFT-centered</td>\n",
       "      <td></td>\n",
       "      <td>umap-20</td>\n",
       "      <td>20</td>\n",
       "      <td>motionsense</td>\n",
       "      <td>motionsense</td>\n",
       "      <td>motionsense</td>\n",
       "      <td>randomforest-100</td>\n",
       "      <td>0.873540</td>\n",
       "      <td>4.690173e-03</td>\n",
       "      <td>0.873424</td>\n",
       "      <td>4.649545e-03</td>\n",
       "      <td>0.873424</td>\n",
       "      <td>4.649545e-03</td>\n",
       "      <td>raw_balanced</td>\n",
       "    </tr>\n",
       "    <tr>\n",
       "      <th>7</th>\n",
       "      <td>reducer_comb_1</td>\n",
       "      <td>execution1</td>\n",
       "      <td>raw_balanced_02861</td>\n",
       "      <td>3978</td>\n",
       "      <td>3978</td>\n",
       "      <td>1062</td>\n",
       "      <td>accel-x, accel-y, accel-z</td>\n",
       "      <td>train</td>\n",
       "      <td>axis</td>\n",
       "      <td>FFT-centered</td>\n",
       "      <td></td>\n",
       "      <td>umap-20</td>\n",
       "      <td>20</td>\n",
       "      <td>motionsense</td>\n",
       "      <td>motionsense</td>\n",
       "      <td>motionsense</td>\n",
       "      <td>KNN-5</td>\n",
       "      <td>0.843691</td>\n",
       "      <td>1.110223e-16</td>\n",
       "      <td>0.844248</td>\n",
       "      <td>0.000000e+00</td>\n",
       "      <td>0.844248</td>\n",
       "      <td>1.110223e-16</td>\n",
       "      <td>raw_balanced</td>\n",
       "    </tr>\n",
       "    <tr>\n",
       "      <th>...</th>\n",
       "      <td>...</td>\n",
       "      <td>...</td>\n",
       "      <td>...</td>\n",
       "      <td>...</td>\n",
       "      <td>...</td>\n",
       "      <td>...</td>\n",
       "      <td>...</td>\n",
       "      <td>...</td>\n",
       "      <td>...</td>\n",
       "      <td>...</td>\n",
       "      <td>...</td>\n",
       "      <td>...</td>\n",
       "      <td>...</td>\n",
       "      <td>...</td>\n",
       "      <td>...</td>\n",
       "      <td>...</td>\n",
       "      <td>...</td>\n",
       "      <td>...</td>\n",
       "      <td>...</td>\n",
       "      <td>...</td>\n",
       "      <td>...</td>\n",
       "      <td>...</td>\n",
       "      <td>...</td>\n",
       "      <td>...</td>\n",
       "    </tr>\n",
       "    <tr>\n",
       "      <th>7600</th>\n",
       "      <td>reducer_comb_1_not_intra</td>\n",
       "      <td>execution1</td>\n",
       "      <td>standartized_balanced02167</td>\n",
       "      <td>10164</td>\n",
       "      <td>10164</td>\n",
       "      <td>2628</td>\n",
       "      <td>accel-x, accel-y, accel-z, gyro-x, gyro-y, gyro-z</td>\n",
       "      <td>train</td>\n",
       "      <td>sensor</td>\n",
       "      <td></td>\n",
       "      <td></td>\n",
       "      <td>umap-10</td>\n",
       "      <td>10</td>\n",
       "      <td>realworld</td>\n",
       "      <td>realworld</td>\n",
       "      <td>realworld</td>\n",
       "      <td>KNN-5</td>\n",
       "      <td>0.517123</td>\n",
       "      <td>1.110223e-16</td>\n",
       "      <td>0.508283</td>\n",
       "      <td>0.000000e+00</td>\n",
       "      <td>0.508283</td>\n",
       "      <td>0.000000e+00</td>\n",
       "      <td>standartized_balanced</td>\n",
       "    </tr>\n",
       "    <tr>\n",
       "      <th>7601</th>\n",
       "      <td>reducer_comb_1_not_intra</td>\n",
       "      <td>execution1</td>\n",
       "      <td>standartized_balanced02167</td>\n",
       "      <td>10164</td>\n",
       "      <td>10164</td>\n",
       "      <td>2628</td>\n",
       "      <td>accel-x, accel-y, accel-z, gyro-x, gyro-y, gyro-z</td>\n",
       "      <td>train</td>\n",
       "      <td>sensor</td>\n",
       "      <td></td>\n",
       "      <td></td>\n",
       "      <td>umap-10</td>\n",
       "      <td>10</td>\n",
       "      <td>realworld</td>\n",
       "      <td>realworld</td>\n",
       "      <td>realworld</td>\n",
       "      <td>SVM-rbf-C1.0</td>\n",
       "      <td>0.516743</td>\n",
       "      <td>1.110223e-16</td>\n",
       "      <td>0.501107</td>\n",
       "      <td>1.110223e-16</td>\n",
       "      <td>0.501107</td>\n",
       "      <td>1.110223e-16</td>\n",
       "      <td>standartized_balanced</td>\n",
       "    </tr>\n",
       "    <tr>\n",
       "      <th>7602</th>\n",
       "      <td>reducer_comb_1_not_intra</td>\n",
       "      <td>execution1</td>\n",
       "      <td>standartized_balanced02922</td>\n",
       "      <td>10164</td>\n",
       "      <td>10164</td>\n",
       "      <td>2628</td>\n",
       "      <td>gyro-x, gyro-y, gyro-z</td>\n",
       "      <td>train</td>\n",
       "      <td>axis</td>\n",
       "      <td>FFT-centered</td>\n",
       "      <td>StandardScaler</td>\n",
       "      <td>umap-20</td>\n",
       "      <td>20</td>\n",
       "      <td>realworld</td>\n",
       "      <td>realworld</td>\n",
       "      <td>realworld</td>\n",
       "      <td>randomforest-100</td>\n",
       "      <td>0.666438</td>\n",
       "      <td>1.140055e-02</td>\n",
       "      <td>0.666738</td>\n",
       "      <td>1.076361e-02</td>\n",
       "      <td>0.666738</td>\n",
       "      <td>1.076361e-02</td>\n",
       "      <td>standartized_balanced</td>\n",
       "    </tr>\n",
       "    <tr>\n",
       "      <th>7603</th>\n",
       "      <td>reducer_comb_1_not_intra</td>\n",
       "      <td>execution1</td>\n",
       "      <td>standartized_balanced02922</td>\n",
       "      <td>10164</td>\n",
       "      <td>10164</td>\n",
       "      <td>2628</td>\n",
       "      <td>gyro-x, gyro-y, gyro-z</td>\n",
       "      <td>train</td>\n",
       "      <td>axis</td>\n",
       "      <td>FFT-centered</td>\n",
       "      <td>StandardScaler</td>\n",
       "      <td>umap-20</td>\n",
       "      <td>20</td>\n",
       "      <td>realworld</td>\n",
       "      <td>realworld</td>\n",
       "      <td>realworld</td>\n",
       "      <td>KNN-5</td>\n",
       "      <td>0.556697</td>\n",
       "      <td>0.000000e+00</td>\n",
       "      <td>0.516618</td>\n",
       "      <td>1.110223e-16</td>\n",
       "      <td>0.516618</td>\n",
       "      <td>1.110223e-16</td>\n",
       "      <td>standartized_balanced</td>\n",
       "    </tr>\n",
       "    <tr>\n",
       "      <th>7604</th>\n",
       "      <td>reducer_comb_1_not_intra</td>\n",
       "      <td>execution1</td>\n",
       "      <td>standartized_balanced02922</td>\n",
       "      <td>10164</td>\n",
       "      <td>10164</td>\n",
       "      <td>2628</td>\n",
       "      <td>gyro-x, gyro-y, gyro-z</td>\n",
       "      <td>train</td>\n",
       "      <td>axis</td>\n",
       "      <td>FFT-centered</td>\n",
       "      <td>StandardScaler</td>\n",
       "      <td>umap-20</td>\n",
       "      <td>20</td>\n",
       "      <td>realworld</td>\n",
       "      <td>realworld</td>\n",
       "      <td>realworld</td>\n",
       "      <td>SVM-rbf-C1.0</td>\n",
       "      <td>0.601218</td>\n",
       "      <td>1.110223e-16</td>\n",
       "      <td>0.591351</td>\n",
       "      <td>1.110223e-16</td>\n",
       "      <td>0.591351</td>\n",
       "      <td>0.000000e+00</td>\n",
       "      <td>standartized_balanced</td>\n",
       "    </tr>\n",
       "  </tbody>\n",
       "</table>\n",
       "<p>167832 rows × 24 columns</p>\n",
       "</div>"
      ],
      "text/plain": [
       "               experiment_name    run_name                          config_id  reduce_size  train_size  test_size                                    in_use_features scale_on reduce_on    transforms          scaler  reducer  umap components reducer_datasets train_datasets test_datasets         estimator  accuracy (mean)  accuracy (std)  f1-score macro (mean)  f1-score macro (std)  f1-score weighted (mean)  f1-score weighted (std)                         view\n",
       "0               reducer_comb_1  execution1  standartized_intra_balanced_03744         1794        1495        120                             gyro-x, gyro-y, gyro-z    train    sensor                                 umap-4                4            kuhar          wisdm         wisdm  randomforest-100         0.590000    1.779513e-02               0.589906          1.835340e-02                  0.589906             1.835340e-02  standartized_intra_balanced\n",
       "1               reducer_comb_1  execution1  standartized_intra_balanced_03744         1794        1495        120                             gyro-x, gyro-y, gyro-z    train    sensor                                 umap-4                4            kuhar          wisdm         wisdm             KNN-5         0.508333    1.110223e-16               0.490085          0.000000e+00                  0.490085             0.000000e+00  standartized_intra_balanced\n",
       "2               reducer_comb_1  execution1  standartized_intra_balanced_03744         1794        1495        120                             gyro-x, gyro-y, gyro-z    train    sensor                                 umap-4                4            kuhar          wisdm         wisdm      SVM-rbf-C1.0         0.475000    5.551115e-17               0.443587          0.000000e+00                  0.443587             0.000000e+00  standartized_intra_balanced\n",
       "6               reducer_comb_1  execution1                 raw_balanced_02861         3978        3978       1062                          accel-x, accel-y, accel-z    train      axis  FFT-centered                  umap-20               20      motionsense    motionsense   motionsense  randomforest-100         0.873540    4.690173e-03               0.873424          4.649545e-03                  0.873424             4.649545e-03                 raw_balanced\n",
       "7               reducer_comb_1  execution1                 raw_balanced_02861         3978        3978       1062                          accel-x, accel-y, accel-z    train      axis  FFT-centered                  umap-20               20      motionsense    motionsense   motionsense             KNN-5         0.843691    1.110223e-16               0.844248          0.000000e+00                  0.844248             1.110223e-16                 raw_balanced\n",
       "...                        ...         ...                                ...          ...         ...        ...                                                ...      ...       ...           ...             ...      ...              ...              ...            ...           ...               ...              ...             ...                    ...                   ...                       ...                      ...                          ...\n",
       "7600  reducer_comb_1_not_intra  execution1         standartized_balanced02167        10164       10164       2628  accel-x, accel-y, accel-z, gyro-x, gyro-y, gyro-z    train    sensor                                umap-10               10        realworld      realworld     realworld             KNN-5         0.517123    1.110223e-16               0.508283          0.000000e+00                  0.508283             0.000000e+00        standartized_balanced\n",
       "7601  reducer_comb_1_not_intra  execution1         standartized_balanced02167        10164       10164       2628  accel-x, accel-y, accel-z, gyro-x, gyro-y, gyro-z    train    sensor                                umap-10               10        realworld      realworld     realworld      SVM-rbf-C1.0         0.516743    1.110223e-16               0.501107          1.110223e-16                  0.501107             1.110223e-16        standartized_balanced\n",
       "7602  reducer_comb_1_not_intra  execution1         standartized_balanced02922        10164       10164       2628                             gyro-x, gyro-y, gyro-z    train      axis  FFT-centered  StandardScaler  umap-20               20        realworld      realworld     realworld  randomforest-100         0.666438    1.140055e-02               0.666738          1.076361e-02                  0.666738             1.076361e-02        standartized_balanced\n",
       "7603  reducer_comb_1_not_intra  execution1         standartized_balanced02922        10164       10164       2628                             gyro-x, gyro-y, gyro-z    train      axis  FFT-centered  StandardScaler  umap-20               20        realworld      realworld     realworld             KNN-5         0.556697    0.000000e+00               0.516618          1.110223e-16                  0.516618             1.110223e-16        standartized_balanced\n",
       "7604  reducer_comb_1_not_intra  execution1         standartized_balanced02922        10164       10164       2628                             gyro-x, gyro-y, gyro-z    train      axis  FFT-centered  StandardScaler  umap-20               20        realworld      realworld     realworld      SVM-rbf-C1.0         0.601218    1.110223e-16               0.591351          1.110223e-16                  0.591351             0.000000e+00        standartized_balanced\n",
       "\n",
       "[167832 rows x 24 columns]"
      ]
     },
     "execution_count": 37,
     "metadata": {},
     "output_type": "execute_result"
    }
   ],
   "source": [
    "# Lets transform and add some useful information\n",
    "results = rename_datasets(results)\n",
    "results = add_view_name(results)\n",
    "results.loc[results[\"view\"] == \"standartized\", \"view\"] = \"standartized_balanced\"\n",
    "results.loc[results[\"view\"] == \"standartized_intra\", \"view\"] = \"standartized_intra_balanced\"\n",
    "results.loc[results[\"view\"] == \"raw\", \"view\"] = \"raw_balanced\"\n",
    "# results = match_configs(results)\n",
    "results"
   ]
  },
  {
   "cell_type": "code",
   "execution_count": 38,
   "metadata": {},
   "outputs": [
    {
     "data": {
      "text/plain": [
       "(['in_use_features',\n",
       "  'reduce_on',\n",
       "  'transforms',\n",
       "  'scaler',\n",
       "  'umap components',\n",
       "  'reducer_datasets',\n",
       "  'train_datasets',\n",
       "  'test_datasets',\n",
       "  'estimator',\n",
       "  'accuracy (mean)',\n",
       "  'accuracy (std)',\n",
       "  'f1-score macro (mean)',\n",
       "  'f1-score macro (std)',\n",
       "  'f1-score weighted (mean)',\n",
       "  'f1-score weighted (std)',\n",
       "  'view'],\n",
       " (143856, 16))"
      ]
     },
     "execution_count": 38,
     "metadata": {},
     "output_type": "execute_result"
    }
   ],
   "source": [
    "# Lets filter out some reduntant lines\n",
    "results = results[\n",
    "    ~(results[\"reducer_datasets\"] == \"\")\n",
    "    | (results[\"umap components\"] == 0)\n",
    "]\n",
    "\n",
    "# As we only use umap, we can drop the reducer column\n",
    "results = results.drop(columns=[\"reducer\"])\n",
    "\n",
    "# As we only use TIME and FFT domains, lets rename the values \"\" of column transforms to \"TIME\"\n",
    "# and \"FFT\" to \"FFT\"\n",
    "results.loc[results[\"transforms\"] == \"\", \"transforms\"] = \"time\" \n",
    "results.loc[results[\"transforms\"] == \"FFT-centered\", \"transforms\"] = \"fft\"\n",
    "\n",
    "# If no scaler is used, lets change the value from \"\" to \"no scaler\"\n",
    "results.loc[results[\"scaler\"] == \"\", \"scaler\"] = \"no scaler\"\n",
    "\n",
    "# As scaler is only used for the train dataset, we can drop the column scale_on\n",
    "results = results.drop(columns=[\"scale_on\"])\n",
    "\n",
    "# Lets drop some meta-columns that we will not use\n",
    "results = results.drop(columns=[\"experiment_name\", \"run_name\", \"config_id\", \"reduce_size\", \"train_size\", \"test_size\"])\n",
    "list(results.columns), results.shape"
   ]
  },
  {
   "cell_type": "code",
   "execution_count": 39,
   "metadata": {},
   "outputs": [
    {
     "data": {
      "text/plain": [
       "True    139158\n",
       "dtype: int64"
      ]
     },
     "execution_count": 39,
     "metadata": {},
     "output_type": "execute_result"
    }
   ],
   "source": [
    "# Grouping by this columns should result in only one row per group\n",
    "# It is a unique tuple that describes each experiment\n",
    "unique_exp_columns = [\n",
    "    \"in_use_features\",\n",
    "    \"reduce_on\",\n",
    "    \"transforms\",\n",
    "    \"scaler\",\n",
    "    \"umap components\",\n",
    "    \"reducer_datasets\",\n",
    "    \"train_datasets\",\n",
    "    \"test_datasets\",\n",
    "    \"estimator\",\n",
    "    \"view\",\n",
    "]\n",
    "\n",
    "# Remove duplicates\n",
    "lines = []\n",
    "for k, subdf in results.groupby(unique_exp_columns):\n",
    "    lines.append(subdf.iloc[0])\n",
    "results = pd.DataFrame(lines)\n",
    "\n",
    "# Sanity check\n",
    "results.groupby(unique_exp_columns).apply(lambda x: len(x) == 1).value_counts()"
   ]
  },
  {
   "cell_type": "code",
   "execution_count": 40,
   "metadata": {},
   "outputs": [],
   "source": [
    "def best_of_each_estimator(df):\n",
    "    experiment_uniq = [c for c in unique_exp_columns if c not in [\"estimator\"]]\n",
    "\n",
    "    best_of_each_dataset = []\n",
    "    for key, subdf in df.groupby(experiment_uniq):\n",
    "        best = subdf.sort_values(by=\"accuracy (mean)\", ascending=False, inplace=False).iloc[0]\n",
    "        best_of_each_dataset.append(best)\n",
    "    return pd.DataFrame(best_of_each_dataset)\n",
    "\n",
    "def best_of_each_umap(df):\n",
    "    experiment_uniq = [c for c in unique_exp_columns if c not in [\"umap components\"]]\n",
    "\n",
    "    best_of_each_dataset = []\n",
    "    for key, subdf in df.groupby(experiment_uniq):\n",
    "        best = subdf.sort_values(by=\"accuracy (mean)\", ascending=False, inplace=False).iloc[0]\n",
    "        best_of_each_dataset.append(best)\n",
    "    return pd.DataFrame(best_of_each_dataset)\n",
    "\n",
    "def best_of_each_estimator_and_umap(df):\n",
    "    experiment_uniq = [c for c in unique_exp_columns if c not in [\"estimator\", \"umap components\"]]\n",
    "\n",
    "    best_of_each_dataset = []\n",
    "    for key, subdf in df.groupby(experiment_uniq):\n",
    "        best = subdf.sort_values(by=\"accuracy (mean)\", ascending=False, inplace=False).iloc[0]\n",
    "        best_of_each_dataset.append(best)\n",
    "    return pd.DataFrame(best_of_each_dataset)"
   ]
  },
  {
   "cell_type": "code",
   "execution_count": 41,
   "metadata": {},
   "outputs": [],
   "source": [
    "def chart_bar_with_error_bars(df, improvement_col: str, groupby: str = \"train_datasets\"):\n",
    "    xs, ys, error_y_min, error_y_max = [], [], [], []\n",
    "    for key, subdf in df.groupby(groupby):\n",
    "        sorted_improvement = sorted(subdf[improvement_col].values)\n",
    "        # print(sorted_improvement)\n",
    "        xs.append(key)\n",
    "        ys.append(sorted_improvement[1])\n",
    "        error_y_min.append(abs(sorted_improvement[0]-sorted_improvement[1]))\n",
    "        error_y_max.append(abs(sorted_improvement[-1]-sorted_improvement[1]))\n",
    "\n",
    "    fig = go.Figure()\n",
    "    fig.add_trace(\n",
    "        go.Bar(\n",
    "            x=xs,\n",
    "            y=ys,\n",
    "            error_y=dict(\n",
    "                type=\"data\",\n",
    "                symmetric=False,\n",
    "                array=error_y_max,\n",
    "                arrayminus=error_y_min\n",
    "            )\n",
    "        )\n",
    "    )\n",
    "    return fig\n",
    "\n",
    "def chart_bar_with_side_by_side(df, improvement_col: str, groupby: str = \"train_datasets\", inner_group: str = \"estimator\"):\n",
    "    fig = go.Figure()\n",
    "\n",
    "    for i, (key, subdf) in enumerate(df.groupby(groupby)):\n",
    "        xs, ys = [], []\n",
    "        for inner_key, inner_subdf in subdf.groupby(inner_group):\n",
    "            xs.append(str(inner_key))\n",
    "            ys.append(inner_subdf[improvement_col].values[0])\n",
    "        \n",
    "        fig.add_trace(\n",
    "            go.Bar(\n",
    "                y=ys,\n",
    "                x=xs,\n",
    "                name=str(key),\n",
    "                marker=dict(color=colors[i])\n",
    "            )\n",
    "        )\n",
    "    return fig"
   ]
  },
  {
   "attachments": {},
   "cell_type": "markdown",
   "metadata": {},
   "source": [
    "## Pergunta 1"
   ]
  },
  {
   "attachments": {},
   "cell_type": "markdown",
   "metadata": {},
   "source": [
    "### a) Qual o impacto no desempenho dos modelos de ML quando o dado de entrada é transformado com o UMAP?\n",
    "\n",
    "Compararemos, para cada tupla <dataset DS; domíno D; modelo de ML M>, qual é a diferença (razão) de desempenho do modelo M na tarefa de HAR com o dado do dataset DS no domínio D com e sem redução de dimensionalidade."
   ]
  },
  {
   "cell_type": "code",
   "execution_count": 42,
   "metadata": {},
   "outputs": [],
   "source": [
    "def get_umap_improvement_over_no_umap(df, new_column_name: str = \"umap improvement\"):\n",
    "    experiment_uniq = [c for c in unique_exp_columns if c not in [\"reducer_datasets\", \"umap components\"]]\n",
    "\n",
    "    zero_umap = {}\n",
    "    for _, subdf in df[df[\"umap components\"] == 0].iterrows():\n",
    "        zero_umap[tuple(subdf[experiment_uniq].values.tolist())] = subdf[\"accuracy (mean)\"]\n",
    "\n",
    "    df[new_column_name] = df.apply(lambda x: x[\"accuracy (mean)\"] / zero_umap.get(tuple(x[experiment_uniq].values.tolist()), np.nan), axis=1)\n",
    "    return df\n",
    "\n",
    "def filter_max_set_only(df, column: str = \"umap improvement\"):\n",
    "    experiment_uniq = [c for c in unique_exp_columns if c not in [\"reducer_datasets\", \"umap components\"]]\n",
    "    df = df.dropna(subset=[column], inplace=False)\n",
    "    df = df[df[\"umap components\"] > 0]\n",
    "    lines = [subdf[subdf[column] == subdf[column].max()].iloc[0] for _, subdf in df.groupby(experiment_uniq)]\n",
    "    df = pd.DataFrame(lines)\n",
    "    return df"
   ]
  },
  {
   "cell_type": "code",
   "execution_count": 43,
   "metadata": {},
   "outputs": [
    {
     "data": {
      "application/vnd.plotly.v1+json": {
       "config": {
        "plotlyServerURL": "https://plot.ly"
       },
       "data": [
        {
         "error_y": {
          "array": [
           0.048283705541770194,
           0.07902001380262202,
           0.12828466460346688,
           0.06205264373123953,
           0.05456991901556418
          ],
          "arrayminus": [
           0.06589898676592232,
           0.014761273812825881,
           0.07911855844336602,
           0.03691800195765649,
           0.03042734425756144
          ],
          "symmetric": false,
          "type": "data"
         },
         "type": "bar",
         "x": [
          "kuhar",
          "motionsense",
          "realworld",
          "uci",
          "wisdm"
         ],
         "y": [
          1.019023986765922,
          1.0082815734989652,
          0.9717741935483871,
          0.934426229508197,
          1.0032844871147042
         ]
        }
       ],
       "layout": {
        "height": 600,
        "shapes": [
         {
          "line": {
           "color": "magenta",
           "dash": "dash"
          },
          "type": "line",
          "x0": 0,
          "x1": 1,
          "xref": "x domain",
          "y0": 1,
          "y1": 1,
          "yref": "y"
         }
        ],
        "template": {
         "data": {
          "bar": [
           {
            "error_x": {
             "color": "#2a3f5f"
            },
            "error_y": {
             "color": "#2a3f5f"
            },
            "marker": {
             "line": {
              "color": "#E5ECF6",
              "width": 0.5
             },
             "pattern": {
              "fillmode": "overlay",
              "size": 10,
              "solidity": 0.2
             }
            },
            "type": "bar"
           }
          ],
          "barpolar": [
           {
            "marker": {
             "line": {
              "color": "#E5ECF6",
              "width": 0.5
             },
             "pattern": {
              "fillmode": "overlay",
              "size": 10,
              "solidity": 0.2
             }
            },
            "type": "barpolar"
           }
          ],
          "carpet": [
           {
            "aaxis": {
             "endlinecolor": "#2a3f5f",
             "gridcolor": "white",
             "linecolor": "white",
             "minorgridcolor": "white",
             "startlinecolor": "#2a3f5f"
            },
            "baxis": {
             "endlinecolor": "#2a3f5f",
             "gridcolor": "white",
             "linecolor": "white",
             "minorgridcolor": "white",
             "startlinecolor": "#2a3f5f"
            },
            "type": "carpet"
           }
          ],
          "choropleth": [
           {
            "colorbar": {
             "outlinewidth": 0,
             "ticks": ""
            },
            "type": "choropleth"
           }
          ],
          "contour": [
           {
            "colorbar": {
             "outlinewidth": 0,
             "ticks": ""
            },
            "colorscale": [
             [
              0,
              "#0d0887"
             ],
             [
              0.1111111111111111,
              "#46039f"
             ],
             [
              0.2222222222222222,
              "#7201a8"
             ],
             [
              0.3333333333333333,
              "#9c179e"
             ],
             [
              0.4444444444444444,
              "#bd3786"
             ],
             [
              0.5555555555555556,
              "#d8576b"
             ],
             [
              0.6666666666666666,
              "#ed7953"
             ],
             [
              0.7777777777777778,
              "#fb9f3a"
             ],
             [
              0.8888888888888888,
              "#fdca26"
             ],
             [
              1,
              "#f0f921"
             ]
            ],
            "type": "contour"
           }
          ],
          "contourcarpet": [
           {
            "colorbar": {
             "outlinewidth": 0,
             "ticks": ""
            },
            "type": "contourcarpet"
           }
          ],
          "heatmap": [
           {
            "colorbar": {
             "outlinewidth": 0,
             "ticks": ""
            },
            "colorscale": [
             [
              0,
              "#0d0887"
             ],
             [
              0.1111111111111111,
              "#46039f"
             ],
             [
              0.2222222222222222,
              "#7201a8"
             ],
             [
              0.3333333333333333,
              "#9c179e"
             ],
             [
              0.4444444444444444,
              "#bd3786"
             ],
             [
              0.5555555555555556,
              "#d8576b"
             ],
             [
              0.6666666666666666,
              "#ed7953"
             ],
             [
              0.7777777777777778,
              "#fb9f3a"
             ],
             [
              0.8888888888888888,
              "#fdca26"
             ],
             [
              1,
              "#f0f921"
             ]
            ],
            "type": "heatmap"
           }
          ],
          "heatmapgl": [
           {
            "colorbar": {
             "outlinewidth": 0,
             "ticks": ""
            },
            "colorscale": [
             [
              0,
              "#0d0887"
             ],
             [
              0.1111111111111111,
              "#46039f"
             ],
             [
              0.2222222222222222,
              "#7201a8"
             ],
             [
              0.3333333333333333,
              "#9c179e"
             ],
             [
              0.4444444444444444,
              "#bd3786"
             ],
             [
              0.5555555555555556,
              "#d8576b"
             ],
             [
              0.6666666666666666,
              "#ed7953"
             ],
             [
              0.7777777777777778,
              "#fb9f3a"
             ],
             [
              0.8888888888888888,
              "#fdca26"
             ],
             [
              1,
              "#f0f921"
             ]
            ],
            "type": "heatmapgl"
           }
          ],
          "histogram": [
           {
            "marker": {
             "pattern": {
              "fillmode": "overlay",
              "size": 10,
              "solidity": 0.2
             }
            },
            "type": "histogram"
           }
          ],
          "histogram2d": [
           {
            "colorbar": {
             "outlinewidth": 0,
             "ticks": ""
            },
            "colorscale": [
             [
              0,
              "#0d0887"
             ],
             [
              0.1111111111111111,
              "#46039f"
             ],
             [
              0.2222222222222222,
              "#7201a8"
             ],
             [
              0.3333333333333333,
              "#9c179e"
             ],
             [
              0.4444444444444444,
              "#bd3786"
             ],
             [
              0.5555555555555556,
              "#d8576b"
             ],
             [
              0.6666666666666666,
              "#ed7953"
             ],
             [
              0.7777777777777778,
              "#fb9f3a"
             ],
             [
              0.8888888888888888,
              "#fdca26"
             ],
             [
              1,
              "#f0f921"
             ]
            ],
            "type": "histogram2d"
           }
          ],
          "histogram2dcontour": [
           {
            "colorbar": {
             "outlinewidth": 0,
             "ticks": ""
            },
            "colorscale": [
             [
              0,
              "#0d0887"
             ],
             [
              0.1111111111111111,
              "#46039f"
             ],
             [
              0.2222222222222222,
              "#7201a8"
             ],
             [
              0.3333333333333333,
              "#9c179e"
             ],
             [
              0.4444444444444444,
              "#bd3786"
             ],
             [
              0.5555555555555556,
              "#d8576b"
             ],
             [
              0.6666666666666666,
              "#ed7953"
             ],
             [
              0.7777777777777778,
              "#fb9f3a"
             ],
             [
              0.8888888888888888,
              "#fdca26"
             ],
             [
              1,
              "#f0f921"
             ]
            ],
            "type": "histogram2dcontour"
           }
          ],
          "mesh3d": [
           {
            "colorbar": {
             "outlinewidth": 0,
             "ticks": ""
            },
            "type": "mesh3d"
           }
          ],
          "parcoords": [
           {
            "line": {
             "colorbar": {
              "outlinewidth": 0,
              "ticks": ""
             }
            },
            "type": "parcoords"
           }
          ],
          "pie": [
           {
            "automargin": true,
            "type": "pie"
           }
          ],
          "scatter": [
           {
            "fillpattern": {
             "fillmode": "overlay",
             "size": 10,
             "solidity": 0.2
            },
            "type": "scatter"
           }
          ],
          "scatter3d": [
           {
            "line": {
             "colorbar": {
              "outlinewidth": 0,
              "ticks": ""
             }
            },
            "marker": {
             "colorbar": {
              "outlinewidth": 0,
              "ticks": ""
             }
            },
            "type": "scatter3d"
           }
          ],
          "scattercarpet": [
           {
            "marker": {
             "colorbar": {
              "outlinewidth": 0,
              "ticks": ""
             }
            },
            "type": "scattercarpet"
           }
          ],
          "scattergeo": [
           {
            "marker": {
             "colorbar": {
              "outlinewidth": 0,
              "ticks": ""
             }
            },
            "type": "scattergeo"
           }
          ],
          "scattergl": [
           {
            "marker": {
             "colorbar": {
              "outlinewidth": 0,
              "ticks": ""
             }
            },
            "type": "scattergl"
           }
          ],
          "scattermapbox": [
           {
            "marker": {
             "colorbar": {
              "outlinewidth": 0,
              "ticks": ""
             }
            },
            "type": "scattermapbox"
           }
          ],
          "scatterpolar": [
           {
            "marker": {
             "colorbar": {
              "outlinewidth": 0,
              "ticks": ""
             }
            },
            "type": "scatterpolar"
           }
          ],
          "scatterpolargl": [
           {
            "marker": {
             "colorbar": {
              "outlinewidth": 0,
              "ticks": ""
             }
            },
            "type": "scatterpolargl"
           }
          ],
          "scatterternary": [
           {
            "marker": {
             "colorbar": {
              "outlinewidth": 0,
              "ticks": ""
             }
            },
            "type": "scatterternary"
           }
          ],
          "surface": [
           {
            "colorbar": {
             "outlinewidth": 0,
             "ticks": ""
            },
            "colorscale": [
             [
              0,
              "#0d0887"
             ],
             [
              0.1111111111111111,
              "#46039f"
             ],
             [
              0.2222222222222222,
              "#7201a8"
             ],
             [
              0.3333333333333333,
              "#9c179e"
             ],
             [
              0.4444444444444444,
              "#bd3786"
             ],
             [
              0.5555555555555556,
              "#d8576b"
             ],
             [
              0.6666666666666666,
              "#ed7953"
             ],
             [
              0.7777777777777778,
              "#fb9f3a"
             ],
             [
              0.8888888888888888,
              "#fdca26"
             ],
             [
              1,
              "#f0f921"
             ]
            ],
            "type": "surface"
           }
          ],
          "table": [
           {
            "cells": {
             "fill": {
              "color": "#EBF0F8"
             },
             "line": {
              "color": "white"
             }
            },
            "header": {
             "fill": {
              "color": "#C8D4E3"
             },
             "line": {
              "color": "white"
             }
            },
            "type": "table"
           }
          ]
         },
         "layout": {
          "annotationdefaults": {
           "arrowcolor": "#2a3f5f",
           "arrowhead": 0,
           "arrowwidth": 1
          },
          "autotypenumbers": "strict",
          "coloraxis": {
           "colorbar": {
            "outlinewidth": 0,
            "ticks": ""
           }
          },
          "colorscale": {
           "diverging": [
            [
             0,
             "#8e0152"
            ],
            [
             0.1,
             "#c51b7d"
            ],
            [
             0.2,
             "#de77ae"
            ],
            [
             0.3,
             "#f1b6da"
            ],
            [
             0.4,
             "#fde0ef"
            ],
            [
             0.5,
             "#f7f7f7"
            ],
            [
             0.6,
             "#e6f5d0"
            ],
            [
             0.7,
             "#b8e186"
            ],
            [
             0.8,
             "#7fbc41"
            ],
            [
             0.9,
             "#4d9221"
            ],
            [
             1,
             "#276419"
            ]
           ],
           "sequential": [
            [
             0,
             "#0d0887"
            ],
            [
             0.1111111111111111,
             "#46039f"
            ],
            [
             0.2222222222222222,
             "#7201a8"
            ],
            [
             0.3333333333333333,
             "#9c179e"
            ],
            [
             0.4444444444444444,
             "#bd3786"
            ],
            [
             0.5555555555555556,
             "#d8576b"
            ],
            [
             0.6666666666666666,
             "#ed7953"
            ],
            [
             0.7777777777777778,
             "#fb9f3a"
            ],
            [
             0.8888888888888888,
             "#fdca26"
            ],
            [
             1,
             "#f0f921"
            ]
           ],
           "sequentialminus": [
            [
             0,
             "#0d0887"
            ],
            [
             0.1111111111111111,
             "#46039f"
            ],
            [
             0.2222222222222222,
             "#7201a8"
            ],
            [
             0.3333333333333333,
             "#9c179e"
            ],
            [
             0.4444444444444444,
             "#bd3786"
            ],
            [
             0.5555555555555556,
             "#d8576b"
            ],
            [
             0.6666666666666666,
             "#ed7953"
            ],
            [
             0.7777777777777778,
             "#fb9f3a"
            ],
            [
             0.8888888888888888,
             "#fdca26"
            ],
            [
             1,
             "#f0f921"
            ]
           ]
          },
          "colorway": [
           "#636efa",
           "#EF553B",
           "#00cc96",
           "#ab63fa",
           "#FFA15A",
           "#19d3f3",
           "#FF6692",
           "#B6E880",
           "#FF97FF",
           "#FECB52"
          ],
          "font": {
           "color": "#2a3f5f"
          },
          "geo": {
           "bgcolor": "white",
           "lakecolor": "white",
           "landcolor": "#E5ECF6",
           "showlakes": true,
           "showland": true,
           "subunitcolor": "white"
          },
          "hoverlabel": {
           "align": "left"
          },
          "hovermode": "closest",
          "mapbox": {
           "style": "light"
          },
          "paper_bgcolor": "white",
          "plot_bgcolor": "#E5ECF6",
          "polar": {
           "angularaxis": {
            "gridcolor": "white",
            "linecolor": "white",
            "ticks": ""
           },
           "bgcolor": "#E5ECF6",
           "radialaxis": {
            "gridcolor": "white",
            "linecolor": "white",
            "ticks": ""
           }
          },
          "scene": {
           "xaxis": {
            "backgroundcolor": "#E5ECF6",
            "gridcolor": "white",
            "gridwidth": 2,
            "linecolor": "white",
            "showbackground": true,
            "ticks": "",
            "zerolinecolor": "white"
           },
           "yaxis": {
            "backgroundcolor": "#E5ECF6",
            "gridcolor": "white",
            "gridwidth": 2,
            "linecolor": "white",
            "showbackground": true,
            "ticks": "",
            "zerolinecolor": "white"
           },
           "zaxis": {
            "backgroundcolor": "#E5ECF6",
            "gridcolor": "white",
            "gridwidth": 2,
            "linecolor": "white",
            "showbackground": true,
            "ticks": "",
            "zerolinecolor": "white"
           }
          },
          "shapedefaults": {
           "line": {
            "color": "#2a3f5f"
           }
          },
          "ternary": {
           "aaxis": {
            "gridcolor": "white",
            "linecolor": "white",
            "ticks": ""
           },
           "baxis": {
            "gridcolor": "white",
            "linecolor": "white",
            "ticks": ""
           },
           "bgcolor": "#E5ECF6",
           "caxis": {
            "gridcolor": "white",
            "linecolor": "white",
            "ticks": ""
           }
          },
          "title": {
           "x": 0.05
          },
          "xaxis": {
           "automargin": true,
           "gridcolor": "white",
           "linecolor": "white",
           "ticks": "",
           "title": {
            "standoff": 15
           },
           "zerolinecolor": "white",
           "zerolinewidth": 2
          },
          "yaxis": {
           "automargin": true,
           "gridcolor": "white",
           "linecolor": "white",
           "ticks": "",
           "title": {
            "standoff": 15
           },
           "zerolinecolor": "white",
           "zerolinewidth": 2
          }
         }
        },
        "title": {
         "text": "UMAP Improvement for each dataset (best UMAP over no UMAP, per dataset).<br>Error bars comes from different estimators"
        },
        "width": 800,
        "xaxis": {
         "title": {
          "text": "Dataset"
         }
        },
        "yaxis": {
         "title": {
          "text": "Accuracy Improvement over no UMAP"
         }
        }
       }
      }
     },
     "metadata": {},
     "output_type": "display_data"
    },
    {
     "data": {
      "application/vnd.plotly.v1+json": {
       "config": {
        "plotlyServerURL": "https://plot.ly"
       },
       "data": [
        {
         "marker": {
          "color": "#636EFA"
         },
         "name": "KNN-5",
         "type": "bar",
         "x": [
          "kuhar",
          "motionsense",
          "realworld",
          "uci",
          "wisdm"
         ],
         "y": [
          0.9531249999999998,
          1.0082815734989652,
          1.100058858151854,
          0.9964788732394365,
          0.9728571428571428
         ]
        },
        {
         "marker": {
          "color": "#00CC96"
         },
         "name": "SVM-rbf-C1.0",
         "type": "bar",
         "x": [
          "kuhar",
          "motionsense",
          "realworld",
          "uci",
          "wisdm"
         ],
         "y": [
          1.0673076923076923,
          1.0873015873015872,
          0.9717741935483871,
          0.934426229508197,
          1.0578544061302684
         ]
        },
        {
         "marker": {
          "color": "#AB63FA"
         },
         "name": "randomforest-100",
         "type": "bar",
         "x": [
          "kuhar",
          "motionsense",
          "realworld",
          "uci",
          "wisdm"
         ],
         "y": [
          1.019023986765922,
          0.9935202996861393,
          0.8926556351050211,
          0.8975082275505405,
          1.0032844871147042
         ]
        }
       ],
       "layout": {
        "height": 600,
        "legend": {
         "title": {
          "text": "Estimator"
         }
        },
        "shapes": [
         {
          "line": {
           "color": "red",
           "dash": "dash"
          },
          "type": "line",
          "x0": 0,
          "x1": 1,
          "xref": "x domain",
          "y0": 1,
          "y1": 1,
          "yref": "y"
         }
        ],
        "template": {
         "data": {
          "bar": [
           {
            "error_x": {
             "color": "#2a3f5f"
            },
            "error_y": {
             "color": "#2a3f5f"
            },
            "marker": {
             "line": {
              "color": "#E5ECF6",
              "width": 0.5
             },
             "pattern": {
              "fillmode": "overlay",
              "size": 10,
              "solidity": 0.2
             }
            },
            "type": "bar"
           }
          ],
          "barpolar": [
           {
            "marker": {
             "line": {
              "color": "#E5ECF6",
              "width": 0.5
             },
             "pattern": {
              "fillmode": "overlay",
              "size": 10,
              "solidity": 0.2
             }
            },
            "type": "barpolar"
           }
          ],
          "carpet": [
           {
            "aaxis": {
             "endlinecolor": "#2a3f5f",
             "gridcolor": "white",
             "linecolor": "white",
             "minorgridcolor": "white",
             "startlinecolor": "#2a3f5f"
            },
            "baxis": {
             "endlinecolor": "#2a3f5f",
             "gridcolor": "white",
             "linecolor": "white",
             "minorgridcolor": "white",
             "startlinecolor": "#2a3f5f"
            },
            "type": "carpet"
           }
          ],
          "choropleth": [
           {
            "colorbar": {
             "outlinewidth": 0,
             "ticks": ""
            },
            "type": "choropleth"
           }
          ],
          "contour": [
           {
            "colorbar": {
             "outlinewidth": 0,
             "ticks": ""
            },
            "colorscale": [
             [
              0,
              "#0d0887"
             ],
             [
              0.1111111111111111,
              "#46039f"
             ],
             [
              0.2222222222222222,
              "#7201a8"
             ],
             [
              0.3333333333333333,
              "#9c179e"
             ],
             [
              0.4444444444444444,
              "#bd3786"
             ],
             [
              0.5555555555555556,
              "#d8576b"
             ],
             [
              0.6666666666666666,
              "#ed7953"
             ],
             [
              0.7777777777777778,
              "#fb9f3a"
             ],
             [
              0.8888888888888888,
              "#fdca26"
             ],
             [
              1,
              "#f0f921"
             ]
            ],
            "type": "contour"
           }
          ],
          "contourcarpet": [
           {
            "colorbar": {
             "outlinewidth": 0,
             "ticks": ""
            },
            "type": "contourcarpet"
           }
          ],
          "heatmap": [
           {
            "colorbar": {
             "outlinewidth": 0,
             "ticks": ""
            },
            "colorscale": [
             [
              0,
              "#0d0887"
             ],
             [
              0.1111111111111111,
              "#46039f"
             ],
             [
              0.2222222222222222,
              "#7201a8"
             ],
             [
              0.3333333333333333,
              "#9c179e"
             ],
             [
              0.4444444444444444,
              "#bd3786"
             ],
             [
              0.5555555555555556,
              "#d8576b"
             ],
             [
              0.6666666666666666,
              "#ed7953"
             ],
             [
              0.7777777777777778,
              "#fb9f3a"
             ],
             [
              0.8888888888888888,
              "#fdca26"
             ],
             [
              1,
              "#f0f921"
             ]
            ],
            "type": "heatmap"
           }
          ],
          "heatmapgl": [
           {
            "colorbar": {
             "outlinewidth": 0,
             "ticks": ""
            },
            "colorscale": [
             [
              0,
              "#0d0887"
             ],
             [
              0.1111111111111111,
              "#46039f"
             ],
             [
              0.2222222222222222,
              "#7201a8"
             ],
             [
              0.3333333333333333,
              "#9c179e"
             ],
             [
              0.4444444444444444,
              "#bd3786"
             ],
             [
              0.5555555555555556,
              "#d8576b"
             ],
             [
              0.6666666666666666,
              "#ed7953"
             ],
             [
              0.7777777777777778,
              "#fb9f3a"
             ],
             [
              0.8888888888888888,
              "#fdca26"
             ],
             [
              1,
              "#f0f921"
             ]
            ],
            "type": "heatmapgl"
           }
          ],
          "histogram": [
           {
            "marker": {
             "pattern": {
              "fillmode": "overlay",
              "size": 10,
              "solidity": 0.2
             }
            },
            "type": "histogram"
           }
          ],
          "histogram2d": [
           {
            "colorbar": {
             "outlinewidth": 0,
             "ticks": ""
            },
            "colorscale": [
             [
              0,
              "#0d0887"
             ],
             [
              0.1111111111111111,
              "#46039f"
             ],
             [
              0.2222222222222222,
              "#7201a8"
             ],
             [
              0.3333333333333333,
              "#9c179e"
             ],
             [
              0.4444444444444444,
              "#bd3786"
             ],
             [
              0.5555555555555556,
              "#d8576b"
             ],
             [
              0.6666666666666666,
              "#ed7953"
             ],
             [
              0.7777777777777778,
              "#fb9f3a"
             ],
             [
              0.8888888888888888,
              "#fdca26"
             ],
             [
              1,
              "#f0f921"
             ]
            ],
            "type": "histogram2d"
           }
          ],
          "histogram2dcontour": [
           {
            "colorbar": {
             "outlinewidth": 0,
             "ticks": ""
            },
            "colorscale": [
             [
              0,
              "#0d0887"
             ],
             [
              0.1111111111111111,
              "#46039f"
             ],
             [
              0.2222222222222222,
              "#7201a8"
             ],
             [
              0.3333333333333333,
              "#9c179e"
             ],
             [
              0.4444444444444444,
              "#bd3786"
             ],
             [
              0.5555555555555556,
              "#d8576b"
             ],
             [
              0.6666666666666666,
              "#ed7953"
             ],
             [
              0.7777777777777778,
              "#fb9f3a"
             ],
             [
              0.8888888888888888,
              "#fdca26"
             ],
             [
              1,
              "#f0f921"
             ]
            ],
            "type": "histogram2dcontour"
           }
          ],
          "mesh3d": [
           {
            "colorbar": {
             "outlinewidth": 0,
             "ticks": ""
            },
            "type": "mesh3d"
           }
          ],
          "parcoords": [
           {
            "line": {
             "colorbar": {
              "outlinewidth": 0,
              "ticks": ""
             }
            },
            "type": "parcoords"
           }
          ],
          "pie": [
           {
            "automargin": true,
            "type": "pie"
           }
          ],
          "scatter": [
           {
            "fillpattern": {
             "fillmode": "overlay",
             "size": 10,
             "solidity": 0.2
            },
            "type": "scatter"
           }
          ],
          "scatter3d": [
           {
            "line": {
             "colorbar": {
              "outlinewidth": 0,
              "ticks": ""
             }
            },
            "marker": {
             "colorbar": {
              "outlinewidth": 0,
              "ticks": ""
             }
            },
            "type": "scatter3d"
           }
          ],
          "scattercarpet": [
           {
            "marker": {
             "colorbar": {
              "outlinewidth": 0,
              "ticks": ""
             }
            },
            "type": "scattercarpet"
           }
          ],
          "scattergeo": [
           {
            "marker": {
             "colorbar": {
              "outlinewidth": 0,
              "ticks": ""
             }
            },
            "type": "scattergeo"
           }
          ],
          "scattergl": [
           {
            "marker": {
             "colorbar": {
              "outlinewidth": 0,
              "ticks": ""
             }
            },
            "type": "scattergl"
           }
          ],
          "scattermapbox": [
           {
            "marker": {
             "colorbar": {
              "outlinewidth": 0,
              "ticks": ""
             }
            },
            "type": "scattermapbox"
           }
          ],
          "scatterpolar": [
           {
            "marker": {
             "colorbar": {
              "outlinewidth": 0,
              "ticks": ""
             }
            },
            "type": "scatterpolar"
           }
          ],
          "scatterpolargl": [
           {
            "marker": {
             "colorbar": {
              "outlinewidth": 0,
              "ticks": ""
             }
            },
            "type": "scatterpolargl"
           }
          ],
          "scatterternary": [
           {
            "marker": {
             "colorbar": {
              "outlinewidth": 0,
              "ticks": ""
             }
            },
            "type": "scatterternary"
           }
          ],
          "surface": [
           {
            "colorbar": {
             "outlinewidth": 0,
             "ticks": ""
            },
            "colorscale": [
             [
              0,
              "#0d0887"
             ],
             [
              0.1111111111111111,
              "#46039f"
             ],
             [
              0.2222222222222222,
              "#7201a8"
             ],
             [
              0.3333333333333333,
              "#9c179e"
             ],
             [
              0.4444444444444444,
              "#bd3786"
             ],
             [
              0.5555555555555556,
              "#d8576b"
             ],
             [
              0.6666666666666666,
              "#ed7953"
             ],
             [
              0.7777777777777778,
              "#fb9f3a"
             ],
             [
              0.8888888888888888,
              "#fdca26"
             ],
             [
              1,
              "#f0f921"
             ]
            ],
            "type": "surface"
           }
          ],
          "table": [
           {
            "cells": {
             "fill": {
              "color": "#EBF0F8"
             },
             "line": {
              "color": "white"
             }
            },
            "header": {
             "fill": {
              "color": "#C8D4E3"
             },
             "line": {
              "color": "white"
             }
            },
            "type": "table"
           }
          ]
         },
         "layout": {
          "annotationdefaults": {
           "arrowcolor": "#2a3f5f",
           "arrowhead": 0,
           "arrowwidth": 1
          },
          "autotypenumbers": "strict",
          "coloraxis": {
           "colorbar": {
            "outlinewidth": 0,
            "ticks": ""
           }
          },
          "colorscale": {
           "diverging": [
            [
             0,
             "#8e0152"
            ],
            [
             0.1,
             "#c51b7d"
            ],
            [
             0.2,
             "#de77ae"
            ],
            [
             0.3,
             "#f1b6da"
            ],
            [
             0.4,
             "#fde0ef"
            ],
            [
             0.5,
             "#f7f7f7"
            ],
            [
             0.6,
             "#e6f5d0"
            ],
            [
             0.7,
             "#b8e186"
            ],
            [
             0.8,
             "#7fbc41"
            ],
            [
             0.9,
             "#4d9221"
            ],
            [
             1,
             "#276419"
            ]
           ],
           "sequential": [
            [
             0,
             "#0d0887"
            ],
            [
             0.1111111111111111,
             "#46039f"
            ],
            [
             0.2222222222222222,
             "#7201a8"
            ],
            [
             0.3333333333333333,
             "#9c179e"
            ],
            [
             0.4444444444444444,
             "#bd3786"
            ],
            [
             0.5555555555555556,
             "#d8576b"
            ],
            [
             0.6666666666666666,
             "#ed7953"
            ],
            [
             0.7777777777777778,
             "#fb9f3a"
            ],
            [
             0.8888888888888888,
             "#fdca26"
            ],
            [
             1,
             "#f0f921"
            ]
           ],
           "sequentialminus": [
            [
             0,
             "#0d0887"
            ],
            [
             0.1111111111111111,
             "#46039f"
            ],
            [
             0.2222222222222222,
             "#7201a8"
            ],
            [
             0.3333333333333333,
             "#9c179e"
            ],
            [
             0.4444444444444444,
             "#bd3786"
            ],
            [
             0.5555555555555556,
             "#d8576b"
            ],
            [
             0.6666666666666666,
             "#ed7953"
            ],
            [
             0.7777777777777778,
             "#fb9f3a"
            ],
            [
             0.8888888888888888,
             "#fdca26"
            ],
            [
             1,
             "#f0f921"
            ]
           ]
          },
          "colorway": [
           "#636efa",
           "#EF553B",
           "#00cc96",
           "#ab63fa",
           "#FFA15A",
           "#19d3f3",
           "#FF6692",
           "#B6E880",
           "#FF97FF",
           "#FECB52"
          ],
          "font": {
           "color": "#2a3f5f"
          },
          "geo": {
           "bgcolor": "white",
           "lakecolor": "white",
           "landcolor": "#E5ECF6",
           "showlakes": true,
           "showland": true,
           "subunitcolor": "white"
          },
          "hoverlabel": {
           "align": "left"
          },
          "hovermode": "closest",
          "mapbox": {
           "style": "light"
          },
          "paper_bgcolor": "white",
          "plot_bgcolor": "#E5ECF6",
          "polar": {
           "angularaxis": {
            "gridcolor": "white",
            "linecolor": "white",
            "ticks": ""
           },
           "bgcolor": "#E5ECF6",
           "radialaxis": {
            "gridcolor": "white",
            "linecolor": "white",
            "ticks": ""
           }
          },
          "scene": {
           "xaxis": {
            "backgroundcolor": "#E5ECF6",
            "gridcolor": "white",
            "gridwidth": 2,
            "linecolor": "white",
            "showbackground": true,
            "ticks": "",
            "zerolinecolor": "white"
           },
           "yaxis": {
            "backgroundcolor": "#E5ECF6",
            "gridcolor": "white",
            "gridwidth": 2,
            "linecolor": "white",
            "showbackground": true,
            "ticks": "",
            "zerolinecolor": "white"
           },
           "zaxis": {
            "backgroundcolor": "#E5ECF6",
            "gridcolor": "white",
            "gridwidth": 2,
            "linecolor": "white",
            "showbackground": true,
            "ticks": "",
            "zerolinecolor": "white"
           }
          },
          "shapedefaults": {
           "line": {
            "color": "#2a3f5f"
           }
          },
          "ternary": {
           "aaxis": {
            "gridcolor": "white",
            "linecolor": "white",
            "ticks": ""
           },
           "baxis": {
            "gridcolor": "white",
            "linecolor": "white",
            "ticks": ""
           },
           "bgcolor": "#E5ECF6",
           "caxis": {
            "gridcolor": "white",
            "linecolor": "white",
            "ticks": ""
           }
          },
          "title": {
           "x": 0.05
          },
          "xaxis": {
           "automargin": true,
           "gridcolor": "white",
           "linecolor": "white",
           "ticks": "",
           "title": {
            "standoff": 15
           },
           "zerolinecolor": "white",
           "zerolinewidth": 2
          },
          "yaxis": {
           "automargin": true,
           "gridcolor": "white",
           "linecolor": "white",
           "ticks": "",
           "title": {
            "standoff": 15
           },
           "zerolinecolor": "white",
           "zerolinewidth": 2
          }
         }
        },
        "title": {
         "text": "UMAP Improvement for each dataset (best UMAP over no UMAP, per dataset)"
        },
        "width": 800,
        "xaxis": {
         "title": {
          "text": "Dataset"
         }
        },
        "yaxis": {
         "title": {
          "text": "Accuracy Improvement over no UMAP"
         }
        }
       }
      }
     },
     "metadata": {},
     "output_type": "display_data"
    }
   ],
   "source": [
    "df = results.copy()\n",
    "df = filter_view_standardized_balanced(df)\n",
    "df = filter_domain_fft_only(df)\n",
    "df = filter_features_all(df)\n",
    "df = filter_reducer_over_all(df)\n",
    "df = filter_scaler_none(df)\n",
    "df = filter_only_reducer_dataset_equals_train_dataset_or_no_reducer(df)\n",
    "df = get_umap_improvement_over_no_umap(df)\n",
    "#df.loc[~df[\"umap improvement\"].isna(), \"umap components\"].unique()\n",
    "df = filter_max_set_only(df)\n",
    "\n",
    "fig = chart_bar_with_error_bars(df, improvement_col=\"umap improvement\", groupby=\"train_datasets\")\n",
    "fig.add_hline(y=1.0, line_dash=\"dash\", line_color=\"magenta\")\n",
    "fig.update_layout(\n",
    "    title=\"UMAP Improvement for each dataset (best UMAP over no UMAP, per dataset).<br>Error bars comes from different estimators\",\n",
    "    xaxis_title=\"Dataset\",\n",
    "    yaxis_title=\"Accuracy Improvement over no UMAP\",\n",
    "    width=800,\n",
    "    height=600\n",
    ")\n",
    "fig.show()\n",
    "\n",
    "fig = chart_bar_with_side_by_side(df, improvement_col=\"umap improvement\", groupby=\"estimator\", inner_group=\"train_datasets\")\n",
    "fig.add_hline(y=1.0, line_dash=\"dash\", line_color=\"red\")\n",
    "fig.update_layout(\n",
    "    title=\"UMAP Improvement for each dataset (best UMAP over no UMAP, per dataset)\",\n",
    "    xaxis_title=\"Dataset\",\n",
    "    yaxis_title=\"Accuracy Improvement over no UMAP\",\n",
    "    legend_title=\"Estimator\",\n",
    "    width=800,\n",
    "    height=600\n",
    ")\n",
    "fig.show()"
   ]
  },
  {
   "attachments": {},
   "cell_type": "markdown",
   "metadata": {},
   "source": [
    "### b) Qual é o impacto da dimensionalidade alvo do UMAP no desempenho dos modelos de ML?\n",
    "\n",
    "b .1) UMAP vs No-UMAP"
   ]
  },
  {
   "cell_type": "code",
   "execution_count": 44,
   "metadata": {},
   "outputs": [
    {
     "data": {
      "application/vnd.plotly.v1+json": {
       "config": {
        "plotlyServerURL": "https://plot.ly"
       },
       "data": [
        {
         "legendgroup": "KNN-5",
         "marker": {
          "color": "#636EFA",
          "size": 8,
          "symbol": "circle"
         },
         "mode": "lines+markers",
         "name": "KNN-5 kuhar",
         "type": "scatter",
         "x": [
          2,
          3,
          4,
          5,
          6,
          7,
          8,
          9,
          10,
          15,
          18,
          20,
          21,
          24,
          27,
          30,
          33,
          36,
          42,
          48,
          54,
          60,
          90,
          180,
          360
         ],
         "y": [
          0.890625,
          0.890625,
          0.90625,
          0.9296875,
          0.9296875,
          0.9296875,
          0.9296875,
          0.9296875,
          0.9531249999999998,
          0.9531249999999998,
          0.9531249999999998,
          0.9531249999999998,
          0.9531249999999998,
          0.9531249999999998,
          0.9531249999999998,
          0.9531249999999998,
          0.9531249999999998,
          0.9531249999999998,
          0.9531249999999998,
          0.9531249999999998,
          0.9531249999999998,
          0.9531249999999998,
          0.9531249999999998,
          0.9531249999999998,
          0.9531249999999998
         ]
        },
        {
         "legendgroup": "KNN-5",
         "marker": {
          "color": "#636EFA",
          "size": 8,
          "symbol": "square"
         },
         "mode": "lines+markers",
         "name": "KNN-5 motionsense",
         "type": "scatter",
         "x": [
          2,
          3,
          4,
          5,
          6,
          7,
          8,
          9,
          10,
          15,
          18,
          20,
          21,
          24,
          27,
          30,
          33,
          36,
          42,
          48,
          54,
          60,
          90,
          180,
          360
         ],
         "y": [
          0.9803312629399589,
          0.9979296066252589,
          0.9979296066252589,
          1.0031055900621118,
          1.0031055900621118,
          1.0031055900621118,
          1.0031055900621118,
          1.0031055900621118,
          1.0031055900621118,
          1.0031055900621118,
          1.0031055900621118,
          1.0041407867494827,
          1.0041407867494827,
          1.0041407867494827,
          1.0041407867494827,
          1.0041407867494827,
          1.0041407867494827,
          1.0082815734989652,
          1.0082815734989652,
          1.0082815734989652,
          1.0082815734989652,
          1.0082815734989652,
          1.0082815734989652,
          1.0082815734989652,
          1.0082815734989652
         ]
        },
        {
         "legendgroup": "KNN-5",
         "marker": {
          "color": "#636EFA",
          "size": 8,
          "symbol": "diamond"
         },
         "mode": "lines+markers",
         "name": "KNN-5 realworld",
         "type": "scatter",
         "x": [
          2,
          3,
          4,
          5,
          6,
          7,
          8,
          9,
          10,
          15,
          18,
          20,
          21,
          24,
          27,
          30,
          33,
          36,
          42,
          48,
          54,
          60,
          90,
          180,
          360
         ],
         "y": [
          0.9729252501471456,
          1.100058858151854,
          1.100058858151854,
          1.100058858151854,
          1.100058858151854,
          1.100058858151854,
          1.100058858151854,
          1.100058858151854,
          1.100058858151854,
          1.100058858151854,
          1.100058858151854,
          1.100058858151854,
          1.100058858151854,
          1.100058858151854,
          1.100058858151854,
          1.100058858151854,
          1.100058858151854,
          1.100058858151854,
          1.100058858151854,
          1.100058858151854,
          1.100058858151854,
          1.100058858151854,
          1.100058858151854,
          1.100058858151854,
          1.100058858151854
         ]
        },
        {
         "legendgroup": "KNN-5",
         "marker": {
          "color": "#636EFA",
          "size": 8,
          "symbol": "x"
         },
         "mode": "lines+markers",
         "name": "KNN-5 uci",
         "type": "scatter",
         "x": [
          2,
          3,
          4,
          5,
          6,
          7,
          8,
          9,
          10,
          15,
          18,
          20,
          21,
          24,
          27,
          30,
          33,
          36,
          42,
          48,
          54,
          60,
          90,
          180,
          360
         ],
         "y": [
          0.8943661971830986,
          0.9630281690140846,
          0.9665492957746479,
          0.9859154929577466,
          0.9859154929577466,
          0.9859154929577466,
          0.9859154929577466,
          0.9859154929577466,
          0.9859154929577466,
          0.9859154929577466,
          0.9859154929577466,
          0.9859154929577466,
          0.9859154929577466,
          0.9859154929577466,
          0.9859154929577466,
          0.9859154929577466,
          0.9859154929577466,
          0.9859154929577466,
          0.9911971830985916,
          0.9911971830985916,
          0.9911971830985916,
          0.9911971830985916,
          0.9911971830985916,
          0.9964788732394365,
          0.9964788732394365
         ]
        },
        {
         "legendgroup": "KNN-5",
         "marker": {
          "color": "#636EFA",
          "size": 8,
          "symbol": "triangle-up"
         },
         "mode": "lines+markers",
         "name": "KNN-5 wisdm",
         "type": "scatter",
         "x": [
          2,
          3,
          4,
          5,
          6,
          7,
          8,
          9,
          10,
          15,
          18,
          20,
          21,
          24,
          27,
          30,
          33,
          36,
          42,
          48,
          54,
          60,
          90,
          180,
          360
         ],
         "y": [
          0.9107142857142856,
          0.9410714285714284,
          0.9625,
          0.9646428571428569,
          0.9649999999999999,
          0.9692857142857141,
          0.9692857142857141,
          0.9692857142857141,
          0.9692857142857141,
          0.9728571428571428,
          0.9728571428571428,
          0.9728571428571428,
          0.9728571428571428,
          0.9728571428571428,
          0.9728571428571428,
          0.9728571428571428,
          0.9728571428571428,
          0.9728571428571428,
          0.9728571428571428,
          0.9728571428571428,
          0.9728571428571428,
          0.9728571428571428,
          0.9728571428571428,
          0.9728571428571428,
          0.9728571428571428
         ]
        },
        {
         "legendgroup": "SVM-rbf-C1.0",
         "marker": {
          "color": "#00CC96",
          "size": 8,
          "symbol": "circle"
         },
         "mode": "lines+markers",
         "name": "SVM-rbf-C1.0 kuhar",
         "type": "scatter",
         "x": [
          2,
          3,
          4,
          5,
          6,
          7,
          8,
          9,
          10,
          15,
          18,
          20,
          21,
          24,
          27,
          30,
          33,
          36,
          42,
          48,
          54,
          60,
          90,
          180,
          360
         ],
         "y": [
          0.9903846153846154,
          1.0384615384615385,
          1.0384615384615385,
          1.0480769230769231,
          1.0480769230769231,
          1.0480769230769231,
          1.0480769230769231,
          1.0480769230769231,
          1.0480769230769231,
          1.0673076923076923,
          1.0673076923076923,
          1.0673076923076923,
          1.0673076923076923,
          1.0673076923076923,
          1.0673076923076923,
          1.0673076923076923,
          1.0673076923076923,
          1.0673076923076923,
          1.0673076923076923,
          1.0673076923076923,
          1.0673076923076923,
          1.0673076923076923,
          1.0673076923076923,
          1.0673076923076923,
          1.0673076923076923
         ]
        },
        {
         "legendgroup": "SVM-rbf-C1.0",
         "marker": {
          "color": "#00CC96",
          "size": 8,
          "symbol": "square"
         },
         "mode": "lines+markers",
         "name": "SVM-rbf-C1.0 motionsense",
         "type": "scatter",
         "x": [
          2,
          3,
          4,
          5,
          6,
          7,
          8,
          9,
          10,
          15,
          18,
          20,
          21,
          24,
          27,
          30,
          33,
          36,
          42,
          48,
          54,
          60,
          90,
          180,
          360
         ],
         "y": [
          1.0770975056689343,
          1.0873015873015872,
          1.0873015873015872,
          1.0873015873015872,
          1.0873015873015872,
          1.0873015873015872,
          1.0873015873015872,
          1.0873015873015872,
          1.0873015873015872,
          1.0873015873015872,
          1.0873015873015872,
          1.0873015873015872,
          1.0873015873015872,
          1.0873015873015872,
          1.0873015873015872,
          1.0873015873015872,
          1.0873015873015872,
          1.0873015873015872,
          1.0873015873015872,
          1.0873015873015872,
          1.0873015873015872,
          1.0873015873015872,
          1.0873015873015872,
          1.0873015873015872,
          1.0873015873015872
         ]
        },
        {
         "legendgroup": "SVM-rbf-C1.0",
         "marker": {
          "color": "#00CC96",
          "size": 8,
          "symbol": "diamond"
         },
         "mode": "lines+markers",
         "name": "SVM-rbf-C1.0 realworld",
         "type": "scatter",
         "x": [
          2,
          3,
          4,
          5,
          6,
          7,
          8,
          9,
          10,
          15,
          18,
          20,
          21,
          24,
          27,
          30,
          33,
          36,
          42,
          48,
          54,
          60,
          90,
          180,
          360
         ],
         "y": [
          0.8684475806451614,
          0.9717741935483871,
          0.9717741935483871,
          0.9717741935483871,
          0.9717741935483871,
          0.9717741935483871,
          0.9717741935483871,
          0.9717741935483871,
          0.9717741935483871,
          0.9717741935483871,
          0.9717741935483871,
          0.9717741935483871,
          0.9717741935483871,
          0.9717741935483871,
          0.9717741935483871,
          0.9717741935483871,
          0.9717741935483871,
          0.9717741935483871,
          0.9717741935483871,
          0.9717741935483871,
          0.9717741935483871,
          0.9717741935483871,
          0.9717741935483871,
          0.9717741935483871,
          0.9717741935483871
         ]
        },
        {
         "legendgroup": "SVM-rbf-C1.0",
         "marker": {
          "color": "#00CC96",
          "size": 8,
          "symbol": "x"
         },
         "mode": "lines+markers",
         "name": "SVM-rbf-C1.0 uci",
         "type": "scatter",
         "x": [
          2,
          3,
          4,
          5,
          6,
          7,
          8,
          9,
          10,
          15,
          18,
          20,
          21,
          24,
          27,
          30,
          33,
          36,
          42,
          48,
          54,
          60,
          90,
          180,
          360
         ],
         "y": [
          0.8451730418943534,
          0.9216757741347905,
          0.934426229508197,
          0.934426229508197,
          0.934426229508197,
          0.934426229508197,
          0.934426229508197,
          0.934426229508197,
          0.934426229508197,
          0.934426229508197,
          0.934426229508197,
          0.934426229508197,
          0.934426229508197,
          0.934426229508197,
          0.934426229508197,
          0.934426229508197,
          0.934426229508197,
          0.934426229508197,
          0.934426229508197,
          0.934426229508197,
          0.934426229508197,
          0.934426229508197,
          0.934426229508197,
          0.934426229508197,
          0.934426229508197
         ]
        },
        {
         "legendgroup": "SVM-rbf-C1.0",
         "marker": {
          "color": "#00CC96",
          "size": 8,
          "symbol": "triangle-up"
         },
         "mode": "lines+markers",
         "name": "SVM-rbf-C1.0 wisdm",
         "type": "scatter",
         "x": [
          2,
          3,
          4,
          5,
          6,
          7,
          8,
          9,
          10,
          15,
          18,
          20,
          21,
          24,
          27,
          30,
          33,
          36,
          42,
          48,
          54,
          60,
          90,
          180,
          360
         ],
         "y": [
          0.9455938697318008,
          0.9494252873563219,
          1.0436781609195402,
          1.045977011494253,
          1.0509578544061302,
          1.0509578544061302,
          1.0509578544061302,
          1.0509578544061302,
          1.0544061302681993,
          1.0544061302681993,
          1.0544061302681993,
          1.0544061302681993,
          1.0544061302681993,
          1.0544061302681993,
          1.0544061302681993,
          1.0544061302681993,
          1.0544061302681993,
          1.0578544061302684,
          1.0578544061302684,
          1.0578544061302684,
          1.0578544061302684,
          1.0578544061302684,
          1.0578544061302684,
          1.0578544061302684,
          1.0578544061302684
         ]
        },
        {
         "legendgroup": "randomforest-100",
         "marker": {
          "color": "#AB63FA",
          "size": 8,
          "symbol": "circle"
         },
         "mode": "lines+markers",
         "name": "randomforest-100 kuhar",
         "type": "scatter",
         "x": [
          2,
          3,
          4,
          5,
          6,
          7,
          8,
          9,
          10,
          15,
          18,
          20,
          21,
          24,
          27,
          30,
          33,
          36,
          42,
          48,
          54,
          60,
          90,
          180,
          360
         ],
         "y": [
          0.9536807278742763,
          0.9669148056244831,
          0.9669148056244831,
          0.9892473118279569,
          0.9892473118279569,
          0.9892473118279569,
          0.9892473118279569,
          0.9892473118279569,
          0.9950372208436723,
          0.9983457402812241,
          0.9983457402812241,
          0.9983457402812241,
          1.0066170388751035,
          1.0066170388751035,
          1.0066170388751035,
          1.0066170388751035,
          1.0066170388751035,
          1.0066170388751035,
          1.0066170388751035,
          1.0066170388751035,
          1.0066170388751035,
          1.019023986765922,
          1.019023986765922,
          1.019023986765922,
          1.019023986765922
         ]
        },
        {
         "legendgroup": "randomforest-100",
         "marker": {
          "color": "#AB63FA",
          "size": 8,
          "symbol": "square"
         },
         "mode": "lines+markers",
         "name": "randomforest-100 motionsense",
         "type": "scatter",
         "x": [
          2,
          3,
          4,
          5,
          6,
          7,
          8,
          9,
          10,
          15,
          18,
          20,
          21,
          24,
          27,
          30,
          33,
          36,
          42,
          48,
          54,
          60,
          90,
          180,
          360
         ],
         "y": [
          0.9554520603422091,
          0.9762073504100434,
          0.9846107117545811,
          0.9846107117545811,
          0.9846107117545811,
          0.9846107117545811,
          0.9846107117545811,
          0.9846107117545811,
          0.9846107117545811,
          0.9846107117545811,
          0.9846107117545811,
          0.9846107117545811,
          0.9935202996861393,
          0.9935202996861393,
          0.9935202996861393,
          0.9935202996861393,
          0.9935202996861393,
          0.9935202996861393,
          0.9935202996861393,
          0.9935202996861393,
          0.9935202996861393,
          0.9935202996861393,
          0.9935202996861393,
          0.9935202996861393,
          0.9935202996861393
         ]
        },
        {
         "legendgroup": "randomforest-100",
         "marker": {
          "color": "#AB63FA",
          "size": 8,
          "symbol": "diamond"
         },
         "mode": "lines+markers",
         "name": "randomforest-100 realworld",
         "type": "scatter",
         "x": [
          2,
          3,
          4,
          5,
          6,
          7,
          8,
          9,
          10,
          15,
          18,
          20,
          21,
          24,
          27,
          30,
          33,
          36,
          42,
          48,
          54,
          60,
          90,
          180,
          360
         ],
         "y": [
          0.7773932008913755,
          0.8906642643781708,
          0.8906642643781708,
          0.8906642643781708,
          0.8906642643781708,
          0.8906642643781708,
          0.8906642643781708,
          0.8906642643781708,
          0.8906642643781708,
          0.8906642643781708,
          0.8906642643781708,
          0.8906642643781708,
          0.8926556351050211,
          0.8926556351050211,
          0.8926556351050211,
          0.8926556351050211,
          0.8926556351050211,
          0.8926556351050211,
          0.8926556351050211,
          0.8926556351050211,
          0.8926556351050211,
          0.8926556351050211,
          0.8926556351050211,
          0.8926556351050211,
          0.8926556351050211
         ]
        },
        {
         "legendgroup": "randomforest-100",
         "marker": {
          "color": "#AB63FA",
          "size": 8,
          "symbol": "x"
         },
         "mode": "lines+markers",
         "name": "randomforest-100 uci",
         "type": "scatter",
         "x": [
          2,
          3,
          4,
          5,
          6,
          7,
          8,
          9,
          10,
          15,
          18,
          20,
          21,
          24,
          27,
          30,
          33,
          36,
          42,
          48,
          54,
          60,
          90,
          180,
          360
         ],
         "y": [
          0.790001567152484,
          0.8611502899232095,
          0.8703964895784361,
          0.8887321736404952,
          0.8887321736404952,
          0.8887321736404952,
          0.8887321736404952,
          0.8887321736404952,
          0.8887321736404952,
          0.8887321736404952,
          0.8887321736404952,
          0.8887321736404952,
          0.8887321736404952,
          0.8887321736404952,
          0.894530637831061,
          0.894530637831061,
          0.894530637831061,
          0.894530637831061,
          0.894530637831061,
          0.894530637831061,
          0.894530637831061,
          0.894530637831061,
          0.894530637831061,
          0.894530637831061,
          0.894530637831061
         ]
        },
        {
         "legendgroup": "randomforest-100",
         "marker": {
          "color": "#AB63FA",
          "size": 8,
          "symbol": "triangle-up"
         },
         "mode": "lines+markers",
         "name": "randomforest-100 wisdm",
         "type": "scatter",
         "x": [
          2,
          3,
          4,
          5,
          6,
          7,
          8,
          9,
          10,
          15,
          18,
          20,
          21,
          24,
          27,
          30,
          33,
          36,
          42,
          48,
          54,
          60,
          90,
          180,
          360
         ],
         "y": [
          0.9235544647368801,
          0.9585288385187325,
          0.976178445102144,
          0.9942250776005196,
          0.9942250776005196,
          0.9942250776005196,
          0.9942250776005196,
          0.9942250776005196,
          0.994586010250487,
          1.0024182487547824,
          1.0024182487547824,
          1.0024182487547824,
          1.0024182487547824,
          1.0024182487547824,
          1.0024182487547824,
          1.0024182487547824,
          1.0024182487547824,
          1.0024182487547824,
          1.0032844871147042,
          1.0032844871147042,
          1.0032844871147042,
          1.0032844871147042,
          1.0032844871147042,
          1.0032844871147042,
          1.0032844871147042
         ]
        }
       ],
       "layout": {
        "height": 600,
        "legend": {
         "title": {
          "text": "Estimator"
         }
        },
        "template": {
         "data": {
          "bar": [
           {
            "error_x": {
             "color": "#2a3f5f"
            },
            "error_y": {
             "color": "#2a3f5f"
            },
            "marker": {
             "line": {
              "color": "#E5ECF6",
              "width": 0.5
             },
             "pattern": {
              "fillmode": "overlay",
              "size": 10,
              "solidity": 0.2
             }
            },
            "type": "bar"
           }
          ],
          "barpolar": [
           {
            "marker": {
             "line": {
              "color": "#E5ECF6",
              "width": 0.5
             },
             "pattern": {
              "fillmode": "overlay",
              "size": 10,
              "solidity": 0.2
             }
            },
            "type": "barpolar"
           }
          ],
          "carpet": [
           {
            "aaxis": {
             "endlinecolor": "#2a3f5f",
             "gridcolor": "white",
             "linecolor": "white",
             "minorgridcolor": "white",
             "startlinecolor": "#2a3f5f"
            },
            "baxis": {
             "endlinecolor": "#2a3f5f",
             "gridcolor": "white",
             "linecolor": "white",
             "minorgridcolor": "white",
             "startlinecolor": "#2a3f5f"
            },
            "type": "carpet"
           }
          ],
          "choropleth": [
           {
            "colorbar": {
             "outlinewidth": 0,
             "ticks": ""
            },
            "type": "choropleth"
           }
          ],
          "contour": [
           {
            "colorbar": {
             "outlinewidth": 0,
             "ticks": ""
            },
            "colorscale": [
             [
              0,
              "#0d0887"
             ],
             [
              0.1111111111111111,
              "#46039f"
             ],
             [
              0.2222222222222222,
              "#7201a8"
             ],
             [
              0.3333333333333333,
              "#9c179e"
             ],
             [
              0.4444444444444444,
              "#bd3786"
             ],
             [
              0.5555555555555556,
              "#d8576b"
             ],
             [
              0.6666666666666666,
              "#ed7953"
             ],
             [
              0.7777777777777778,
              "#fb9f3a"
             ],
             [
              0.8888888888888888,
              "#fdca26"
             ],
             [
              1,
              "#f0f921"
             ]
            ],
            "type": "contour"
           }
          ],
          "contourcarpet": [
           {
            "colorbar": {
             "outlinewidth": 0,
             "ticks": ""
            },
            "type": "contourcarpet"
           }
          ],
          "heatmap": [
           {
            "colorbar": {
             "outlinewidth": 0,
             "ticks": ""
            },
            "colorscale": [
             [
              0,
              "#0d0887"
             ],
             [
              0.1111111111111111,
              "#46039f"
             ],
             [
              0.2222222222222222,
              "#7201a8"
             ],
             [
              0.3333333333333333,
              "#9c179e"
             ],
             [
              0.4444444444444444,
              "#bd3786"
             ],
             [
              0.5555555555555556,
              "#d8576b"
             ],
             [
              0.6666666666666666,
              "#ed7953"
             ],
             [
              0.7777777777777778,
              "#fb9f3a"
             ],
             [
              0.8888888888888888,
              "#fdca26"
             ],
             [
              1,
              "#f0f921"
             ]
            ],
            "type": "heatmap"
           }
          ],
          "heatmapgl": [
           {
            "colorbar": {
             "outlinewidth": 0,
             "ticks": ""
            },
            "colorscale": [
             [
              0,
              "#0d0887"
             ],
             [
              0.1111111111111111,
              "#46039f"
             ],
             [
              0.2222222222222222,
              "#7201a8"
             ],
             [
              0.3333333333333333,
              "#9c179e"
             ],
             [
              0.4444444444444444,
              "#bd3786"
             ],
             [
              0.5555555555555556,
              "#d8576b"
             ],
             [
              0.6666666666666666,
              "#ed7953"
             ],
             [
              0.7777777777777778,
              "#fb9f3a"
             ],
             [
              0.8888888888888888,
              "#fdca26"
             ],
             [
              1,
              "#f0f921"
             ]
            ],
            "type": "heatmapgl"
           }
          ],
          "histogram": [
           {
            "marker": {
             "pattern": {
              "fillmode": "overlay",
              "size": 10,
              "solidity": 0.2
             }
            },
            "type": "histogram"
           }
          ],
          "histogram2d": [
           {
            "colorbar": {
             "outlinewidth": 0,
             "ticks": ""
            },
            "colorscale": [
             [
              0,
              "#0d0887"
             ],
             [
              0.1111111111111111,
              "#46039f"
             ],
             [
              0.2222222222222222,
              "#7201a8"
             ],
             [
              0.3333333333333333,
              "#9c179e"
             ],
             [
              0.4444444444444444,
              "#bd3786"
             ],
             [
              0.5555555555555556,
              "#d8576b"
             ],
             [
              0.6666666666666666,
              "#ed7953"
             ],
             [
              0.7777777777777778,
              "#fb9f3a"
             ],
             [
              0.8888888888888888,
              "#fdca26"
             ],
             [
              1,
              "#f0f921"
             ]
            ],
            "type": "histogram2d"
           }
          ],
          "histogram2dcontour": [
           {
            "colorbar": {
             "outlinewidth": 0,
             "ticks": ""
            },
            "colorscale": [
             [
              0,
              "#0d0887"
             ],
             [
              0.1111111111111111,
              "#46039f"
             ],
             [
              0.2222222222222222,
              "#7201a8"
             ],
             [
              0.3333333333333333,
              "#9c179e"
             ],
             [
              0.4444444444444444,
              "#bd3786"
             ],
             [
              0.5555555555555556,
              "#d8576b"
             ],
             [
              0.6666666666666666,
              "#ed7953"
             ],
             [
              0.7777777777777778,
              "#fb9f3a"
             ],
             [
              0.8888888888888888,
              "#fdca26"
             ],
             [
              1,
              "#f0f921"
             ]
            ],
            "type": "histogram2dcontour"
           }
          ],
          "mesh3d": [
           {
            "colorbar": {
             "outlinewidth": 0,
             "ticks": ""
            },
            "type": "mesh3d"
           }
          ],
          "parcoords": [
           {
            "line": {
             "colorbar": {
              "outlinewidth": 0,
              "ticks": ""
             }
            },
            "type": "parcoords"
           }
          ],
          "pie": [
           {
            "automargin": true,
            "type": "pie"
           }
          ],
          "scatter": [
           {
            "fillpattern": {
             "fillmode": "overlay",
             "size": 10,
             "solidity": 0.2
            },
            "type": "scatter"
           }
          ],
          "scatter3d": [
           {
            "line": {
             "colorbar": {
              "outlinewidth": 0,
              "ticks": ""
             }
            },
            "marker": {
             "colorbar": {
              "outlinewidth": 0,
              "ticks": ""
             }
            },
            "type": "scatter3d"
           }
          ],
          "scattercarpet": [
           {
            "marker": {
             "colorbar": {
              "outlinewidth": 0,
              "ticks": ""
             }
            },
            "type": "scattercarpet"
           }
          ],
          "scattergeo": [
           {
            "marker": {
             "colorbar": {
              "outlinewidth": 0,
              "ticks": ""
             }
            },
            "type": "scattergeo"
           }
          ],
          "scattergl": [
           {
            "marker": {
             "colorbar": {
              "outlinewidth": 0,
              "ticks": ""
             }
            },
            "type": "scattergl"
           }
          ],
          "scattermapbox": [
           {
            "marker": {
             "colorbar": {
              "outlinewidth": 0,
              "ticks": ""
             }
            },
            "type": "scattermapbox"
           }
          ],
          "scatterpolar": [
           {
            "marker": {
             "colorbar": {
              "outlinewidth": 0,
              "ticks": ""
             }
            },
            "type": "scatterpolar"
           }
          ],
          "scatterpolargl": [
           {
            "marker": {
             "colorbar": {
              "outlinewidth": 0,
              "ticks": ""
             }
            },
            "type": "scatterpolargl"
           }
          ],
          "scatterternary": [
           {
            "marker": {
             "colorbar": {
              "outlinewidth": 0,
              "ticks": ""
             }
            },
            "type": "scatterternary"
           }
          ],
          "surface": [
           {
            "colorbar": {
             "outlinewidth": 0,
             "ticks": ""
            },
            "colorscale": [
             [
              0,
              "#0d0887"
             ],
             [
              0.1111111111111111,
              "#46039f"
             ],
             [
              0.2222222222222222,
              "#7201a8"
             ],
             [
              0.3333333333333333,
              "#9c179e"
             ],
             [
              0.4444444444444444,
              "#bd3786"
             ],
             [
              0.5555555555555556,
              "#d8576b"
             ],
             [
              0.6666666666666666,
              "#ed7953"
             ],
             [
              0.7777777777777778,
              "#fb9f3a"
             ],
             [
              0.8888888888888888,
              "#fdca26"
             ],
             [
              1,
              "#f0f921"
             ]
            ],
            "type": "surface"
           }
          ],
          "table": [
           {
            "cells": {
             "fill": {
              "color": "#EBF0F8"
             },
             "line": {
              "color": "white"
             }
            },
            "header": {
             "fill": {
              "color": "#C8D4E3"
             },
             "line": {
              "color": "white"
             }
            },
            "type": "table"
           }
          ]
         },
         "layout": {
          "annotationdefaults": {
           "arrowcolor": "#2a3f5f",
           "arrowhead": 0,
           "arrowwidth": 1
          },
          "autotypenumbers": "strict",
          "coloraxis": {
           "colorbar": {
            "outlinewidth": 0,
            "ticks": ""
           }
          },
          "colorscale": {
           "diverging": [
            [
             0,
             "#8e0152"
            ],
            [
             0.1,
             "#c51b7d"
            ],
            [
             0.2,
             "#de77ae"
            ],
            [
             0.3,
             "#f1b6da"
            ],
            [
             0.4,
             "#fde0ef"
            ],
            [
             0.5,
             "#f7f7f7"
            ],
            [
             0.6,
             "#e6f5d0"
            ],
            [
             0.7,
             "#b8e186"
            ],
            [
             0.8,
             "#7fbc41"
            ],
            [
             0.9,
             "#4d9221"
            ],
            [
             1,
             "#276419"
            ]
           ],
           "sequential": [
            [
             0,
             "#0d0887"
            ],
            [
             0.1111111111111111,
             "#46039f"
            ],
            [
             0.2222222222222222,
             "#7201a8"
            ],
            [
             0.3333333333333333,
             "#9c179e"
            ],
            [
             0.4444444444444444,
             "#bd3786"
            ],
            [
             0.5555555555555556,
             "#d8576b"
            ],
            [
             0.6666666666666666,
             "#ed7953"
            ],
            [
             0.7777777777777778,
             "#fb9f3a"
            ],
            [
             0.8888888888888888,
             "#fdca26"
            ],
            [
             1,
             "#f0f921"
            ]
           ],
           "sequentialminus": [
            [
             0,
             "#0d0887"
            ],
            [
             0.1111111111111111,
             "#46039f"
            ],
            [
             0.2222222222222222,
             "#7201a8"
            ],
            [
             0.3333333333333333,
             "#9c179e"
            ],
            [
             0.4444444444444444,
             "#bd3786"
            ],
            [
             0.5555555555555556,
             "#d8576b"
            ],
            [
             0.6666666666666666,
             "#ed7953"
            ],
            [
             0.7777777777777778,
             "#fb9f3a"
            ],
            [
             0.8888888888888888,
             "#fdca26"
            ],
            [
             1,
             "#f0f921"
            ]
           ]
          },
          "colorway": [
           "#636efa",
           "#EF553B",
           "#00cc96",
           "#ab63fa",
           "#FFA15A",
           "#19d3f3",
           "#FF6692",
           "#B6E880",
           "#FF97FF",
           "#FECB52"
          ],
          "font": {
           "color": "#2a3f5f"
          },
          "geo": {
           "bgcolor": "white",
           "lakecolor": "white",
           "landcolor": "#E5ECF6",
           "showlakes": true,
           "showland": true,
           "subunitcolor": "white"
          },
          "hoverlabel": {
           "align": "left"
          },
          "hovermode": "closest",
          "mapbox": {
           "style": "light"
          },
          "paper_bgcolor": "white",
          "plot_bgcolor": "#E5ECF6",
          "polar": {
           "angularaxis": {
            "gridcolor": "white",
            "linecolor": "white",
            "ticks": ""
           },
           "bgcolor": "#E5ECF6",
           "radialaxis": {
            "gridcolor": "white",
            "linecolor": "white",
            "ticks": ""
           }
          },
          "scene": {
           "xaxis": {
            "backgroundcolor": "#E5ECF6",
            "gridcolor": "white",
            "gridwidth": 2,
            "linecolor": "white",
            "showbackground": true,
            "ticks": "",
            "zerolinecolor": "white"
           },
           "yaxis": {
            "backgroundcolor": "#E5ECF6",
            "gridcolor": "white",
            "gridwidth": 2,
            "linecolor": "white",
            "showbackground": true,
            "ticks": "",
            "zerolinecolor": "white"
           },
           "zaxis": {
            "backgroundcolor": "#E5ECF6",
            "gridcolor": "white",
            "gridwidth": 2,
            "linecolor": "white",
            "showbackground": true,
            "ticks": "",
            "zerolinecolor": "white"
           }
          },
          "shapedefaults": {
           "line": {
            "color": "#2a3f5f"
           }
          },
          "ternary": {
           "aaxis": {
            "gridcolor": "white",
            "linecolor": "white",
            "ticks": ""
           },
           "baxis": {
            "gridcolor": "white",
            "linecolor": "white",
            "ticks": ""
           },
           "bgcolor": "#E5ECF6",
           "caxis": {
            "gridcolor": "white",
            "linecolor": "white",
            "ticks": ""
           }
          },
          "title": {
           "x": 0.05
          },
          "xaxis": {
           "automargin": true,
           "gridcolor": "white",
           "linecolor": "white",
           "ticks": "",
           "title": {
            "standoff": 15
           },
           "zerolinecolor": "white",
           "zerolinewidth": 2
          },
          "yaxis": {
           "automargin": true,
           "gridcolor": "white",
           "linecolor": "white",
           "ticks": "",
           "title": {
            "standoff": 15
           },
           "zerolinecolor": "white",
           "zerolinewidth": 2
          }
         }
        },
        "title": {
         "text": "UMAP Improvement for each dataset (best UMAP over no UMAP, per dataset)"
        },
        "width": 1200,
        "xaxis": {
         "title": {
          "text": "Maximum UMAP Components"
         }
        },
        "yaxis": {
         "title": {
          "text": "Accuracy improvement over no UMAP"
         }
        }
       }
      }
     },
     "metadata": {},
     "output_type": "display_data"
    }
   ],
   "source": [
    "# df = results.copy()\n",
    "# df = filter_view_standardized_balanced(df)\n",
    "# df = filter_domain_fft_only(df)\n",
    "# df = filter_features_all(df)\n",
    "# df = filter_reducer_over_all(df)\n",
    "# df = filter_scaler_none(df)\n",
    "# df = filter_only_reducer_dataset_equals_train_dataset_or_no_reducer(df)\n",
    "# df = get_umap_improvement_over_no_umap(df)\n",
    "# df = df[(df[\"umap components\"] > 0) & (df[\"umap components\"] <= 20)]\n",
    "\n",
    "df = results.copy()\n",
    "df = filter_domain_fft_only(df)\n",
    "df = filter_features_all(df)\n",
    "df = filter_reducer_over_all(df)\n",
    "df = filter_scaler_none(df)\n",
    "df = filter_view_standardized_balanced(df)\n",
    "df = filter_only_reducer_dataset_equals_train_dataset_or_no_reducer(df)\n",
    "df = get_umap_improvement_over_no_umap(df)\n",
    "df = df[(df[\"umap components\"] > 0) & (df[\"umap components\"] <= 360)]\n",
    "df\n",
    "\n",
    "\n",
    "dset_markers = {\n",
    "    name: markers[i]\n",
    "    for i, name in enumerate(df[\"train_datasets\"].unique())\n",
    "}\n",
    "\n",
    "estimator_colors = {\n",
    "    name: colors[i]\n",
    "    for i, name in enumerate(df[\"estimator\"].unique())\n",
    "}\n",
    "\n",
    "fig = go.Figure()\n",
    "for (estimator, dataset), subdf in df.groupby([\"estimator\", \"train_datasets\"]):\n",
    "    subdf = subdf.sort_values(by=\"umap components\")\n",
    "    xs, ys = [], []\n",
    "    for n_components in sorted(subdf[\"umap components\"].unique()):\n",
    "        xs.append(n_components)\n",
    "        ys.append(subdf[subdf[\"umap components\"] <= n_components][\"umap improvement\"].max())\n",
    "    fig.add_trace(\n",
    "        go.Scatter( \n",
    "            x=xs,\n",
    "            y=ys,\n",
    "            name=f\"{estimator} {dataset}\",\n",
    "            mode=\"lines+markers\",\n",
    "            legendgroup=estimator,\n",
    "            # legendgrouptitle=\"Estimator\",\n",
    "            marker=dict(\n",
    "                color=estimator_colors[estimator],\n",
    "                symbol=dset_markers[dataset],\n",
    "                size=8,\n",
    "            ),\n",
    "        )\n",
    "    )\n",
    "    # subdf[\"best umap improvement so far\"] = df[\"umap improvement\"].expanding().max()\n",
    "\n",
    "fig.update_layout(\n",
    "    title=\"UMAP Improvement for each dataset (best UMAP over no UMAP, per dataset)\",\n",
    "    xaxis_title=\"Maximum UMAP Components\",\n",
    "    yaxis_title=\"Accuracy improvement over no UMAP\",\n",
    "    legend_title=\"Estimator\",\n",
    "    width=1200,\n",
    "    height=600,\n",
    "    # xaxis=dict(tickmode=\"linear\")\n",
    ")\n",
    "fig.show()"
   ]
  },
  {
   "attachments": {},
   "cell_type": "markdown",
   "metadata": {},
   "source": [
    "b.2) UMAP vs best UMAP"
   ]
  },
  {
   "cell_type": "code",
   "execution_count": 45,
   "metadata": {},
   "outputs": [],
   "source": [
    "def get_umap_improvement_over_best_umap(df, new_column_name: str = \"umap improvement\"):\n",
    "    df = df[df[\"umap components\"] != 0]\n",
    "    experiment_uniq = [c for c in unique_exp_columns if c not in [\"reducer_datasets\", \"umap components\"]]\n",
    "\n",
    "    best_umap = {}\n",
    "    for key, subdf in df.groupby(experiment_uniq):\n",
    "        best_umap[key] = subdf[\"accuracy (mean)\"].max()\n",
    "\n",
    "    for key, subdf in df.groupby(experiment_uniq):\n",
    "        df.loc[subdf.index, new_column_name] = subdf[\"accuracy (mean)\"] / best_umap[key]\n",
    "\n",
    "    return df"
   ]
  },
  {
   "cell_type": "code",
   "execution_count": 46,
   "metadata": {},
   "outputs": [
    {
     "name": "stderr",
     "output_type": "stream",
     "text": [
      "/tmp/ipykernel_8991/3552989575.py:10: SettingWithCopyWarning:\n",
      "\n",
      "\n",
      "A value is trying to be set on a copy of a slice from a DataFrame.\n",
      "Try using .loc[row_indexer,col_indexer] = value instead\n",
      "\n",
      "See the caveats in the documentation: https://pandas.pydata.org/pandas-docs/stable/user_guide/indexing.html#returning-a-view-versus-a-copy\n",
      "\n"
     ]
    },
    {
     "data": {
      "application/vnd.plotly.v1+json": {
       "config": {
        "plotlyServerURL": "https://plot.ly"
       },
       "data": [
        {
         "legendgroup": "KNN-5",
         "marker": {
          "color": "#636EFA",
          "size": 7,
          "symbol": "circle"
         },
         "mode": "lines+markers",
         "name": "KNN-5 kuhar",
         "type": "scatter",
         "x": [
          2,
          3,
          4,
          5,
          6,
          7,
          8,
          9,
          10,
          15,
          18,
          20,
          21,
          24,
          27,
          30,
          33,
          36,
          42,
          48,
          54,
          60,
          90,
          180,
          360
         ],
         "y": [
          0.934426229508197,
          0.934426229508197,
          0.9508196721311477,
          0.975409836065574,
          0.975409836065574,
          0.975409836065574,
          0.975409836065574,
          0.975409836065574,
          1,
          1,
          1,
          1,
          1,
          1,
          1,
          1,
          1,
          1,
          1,
          1,
          1,
          1,
          1,
          1,
          1
         ]
        },
        {
         "legendgroup": "KNN-5",
         "marker": {
          "color": "#636EFA",
          "size": 7,
          "symbol": "square"
         },
         "mode": "lines+markers",
         "name": "KNN-5 motionsense",
         "type": "scatter",
         "x": [
          2,
          3,
          4,
          5,
          6,
          7,
          8,
          9,
          10,
          15,
          18,
          20,
          21,
          24,
          27,
          30,
          33,
          36,
          42,
          48,
          54,
          60,
          90,
          180,
          360
         ],
         "y": [
          0.9722792607802875,
          0.9897330595482544,
          0.9897330595482544,
          0.994866529774127,
          0.994866529774127,
          0.994866529774127,
          0.994866529774127,
          0.994866529774127,
          0.994866529774127,
          0.994866529774127,
          0.994866529774127,
          0.9958932238193018,
          0.9958932238193018,
          0.9958932238193018,
          0.9958932238193018,
          0.9958932238193018,
          0.9958932238193018,
          1,
          1,
          1,
          1,
          1,
          1,
          1,
          1
         ]
        },
        {
         "legendgroup": "KNN-5",
         "marker": {
          "color": "#636EFA",
          "size": 7,
          "symbol": "diamond"
         },
         "mode": "lines+markers",
         "name": "KNN-5 realworld",
         "type": "scatter",
         "x": [
          2,
          3,
          4,
          5,
          6,
          7,
          8,
          9,
          10,
          15,
          18,
          20,
          21,
          24,
          27,
          30,
          33,
          36,
          42,
          48,
          54,
          60,
          90,
          180,
          360
         ],
         "y": [
          0.8844301765650082,
          1,
          1,
          1,
          1,
          1,
          1,
          1,
          1,
          1,
          1,
          1,
          1,
          1,
          1,
          1,
          1,
          1,
          1,
          1,
          1,
          1,
          1,
          1,
          1
         ]
        },
        {
         "legendgroup": "KNN-5",
         "marker": {
          "color": "#636EFA",
          "size": 7,
          "symbol": "x"
         },
         "mode": "lines+markers",
         "name": "KNN-5 uci",
         "type": "scatter",
         "x": [
          2,
          3,
          4,
          5,
          6,
          7,
          8,
          9,
          10,
          15,
          18,
          20,
          21,
          24,
          27,
          30,
          33,
          36,
          42,
          48,
          54,
          60,
          90,
          180,
          360
         ],
         "y": [
          0.8975265017667846,
          0.9664310954063605,
          0.9699646643109542,
          0.9893992932862192,
          0.9893992932862192,
          0.9893992932862192,
          0.9893992932862192,
          0.9893992932862192,
          0.9893992932862192,
          0.9893992932862192,
          0.9893992932862192,
          0.9893992932862192,
          0.9893992932862192,
          0.9893992932862192,
          0.9893992932862192,
          0.9893992932862192,
          0.9893992932862192,
          0.9893992932862192,
          0.9946996466431097,
          0.9946996466431097,
          0.9946996466431097,
          0.9946996466431097,
          0.9946996466431097,
          1,
          1
         ]
        },
        {
         "legendgroup": "KNN-5",
         "marker": {
          "color": "#636EFA",
          "size": 7,
          "symbol": "triangle-up"
         },
         "mode": "lines+markers",
         "name": "KNN-5 wisdm",
         "type": "scatter",
         "x": [
          2,
          3,
          4,
          5,
          6,
          7,
          8,
          9,
          10,
          15,
          18,
          20,
          21,
          24,
          27,
          30,
          33,
          36,
          42,
          48,
          54,
          60,
          90,
          180,
          360
         ],
         "y": [
          0.9361233480176211,
          0.9673274596182085,
          0.9893538913362703,
          0.9915565345080762,
          0.9919236417033774,
          0.9963289280469896,
          0.9963289280469896,
          0.9963289280469896,
          0.9963289280469896,
          1,
          1,
          1,
          1,
          1,
          1,
          1,
          1,
          1,
          1,
          1,
          1,
          1,
          1,
          1,
          1
         ]
        },
        {
         "legendgroup": "SVM-rbf-C1.0",
         "marker": {
          "color": "#00CC96",
          "size": 7,
          "symbol": "circle"
         },
         "mode": "lines+markers",
         "name": "SVM-rbf-C1.0 kuhar",
         "type": "scatter",
         "x": [
          2,
          3,
          4,
          5,
          6,
          7,
          8,
          9,
          10,
          15,
          18,
          20,
          21,
          24,
          27,
          30,
          33,
          36,
          42,
          48,
          54,
          60,
          90,
          180,
          360
         ],
         "y": [
          0.927927927927928,
          0.972972972972973,
          0.972972972972973,
          0.981981981981982,
          0.981981981981982,
          0.981981981981982,
          0.981981981981982,
          0.981981981981982,
          0.981981981981982,
          1,
          1,
          1,
          1,
          1,
          1,
          1,
          1,
          1,
          1,
          1,
          1,
          1,
          1,
          1,
          1
         ]
        },
        {
         "legendgroup": "SVM-rbf-C1.0",
         "marker": {
          "color": "#00CC96",
          "size": 7,
          "symbol": "square"
         },
         "mode": "lines+markers",
         "name": "SVM-rbf-C1.0 motionsense",
         "type": "scatter",
         "x": [
          2,
          3,
          4,
          5,
          6,
          7,
          8,
          9,
          10,
          15,
          18,
          20,
          21,
          24,
          27,
          30,
          33,
          36,
          42,
          48,
          54,
          60,
          90,
          180,
          360
         ],
         "y": [
          0.9906152241918667,
          1,
          1,
          1,
          1,
          1,
          1,
          1,
          1,
          1,
          1,
          1,
          1,
          1,
          1,
          1,
          1,
          1,
          1,
          1,
          1,
          1,
          1,
          1,
          1
         ]
        },
        {
         "legendgroup": "SVM-rbf-C1.0",
         "marker": {
          "color": "#00CC96",
          "size": 7,
          "symbol": "diamond"
         },
         "mode": "lines+markers",
         "name": "SVM-rbf-C1.0 realworld",
         "type": "scatter",
         "x": [
          2,
          3,
          4,
          5,
          6,
          7,
          8,
          9,
          10,
          15,
          18,
          20,
          21,
          24,
          27,
          30,
          33,
          36,
          42,
          48,
          54,
          60,
          90,
          180,
          360
         ],
         "y": [
          0.8936721991701245,
          1,
          1,
          1,
          1,
          1,
          1,
          1,
          1,
          1,
          1,
          1,
          1,
          1,
          1,
          1,
          1,
          1,
          1,
          1,
          1,
          1,
          1,
          1,
          1
         ]
        },
        {
         "legendgroup": "SVM-rbf-C1.0",
         "marker": {
          "color": "#00CC96",
          "size": 7,
          "symbol": "x"
         },
         "mode": "lines+markers",
         "name": "SVM-rbf-C1.0 uci",
         "type": "scatter",
         "x": [
          2,
          3,
          4,
          5,
          6,
          7,
          8,
          9,
          10,
          15,
          18,
          20,
          21,
          24,
          27,
          30,
          33,
          36,
          42,
          48,
          54,
          60,
          90,
          180,
          360
         ],
         "y": [
          0.90448343079922,
          0.9863547758284598,
          1,
          1,
          1,
          1,
          1,
          1,
          1,
          1,
          1,
          1,
          1,
          1,
          1,
          1,
          1,
          1,
          1,
          1,
          1,
          1,
          1,
          1,
          1
         ]
        },
        {
         "legendgroup": "SVM-rbf-C1.0",
         "marker": {
          "color": "#00CC96",
          "size": 7,
          "symbol": "triangle-up"
         },
         "mode": "lines+markers",
         "name": "SVM-rbf-C1.0 wisdm",
         "type": "scatter",
         "x": [
          2,
          3,
          4,
          5,
          6,
          7,
          8,
          9,
          10,
          15,
          18,
          20,
          21,
          24,
          27,
          30,
          33,
          36,
          42,
          48,
          54,
          60,
          90,
          180,
          360
         ],
         "y": [
          0.8938790293371967,
          0.8975009054690329,
          0.9865990583122057,
          0.9887721839913075,
          0.9934806229626946,
          0.9934806229626946,
          0.9934806229626946,
          0.9934806229626946,
          0.9967403114813473,
          0.9967403114813473,
          0.9967403114813473,
          0.9967403114813473,
          0.9967403114813473,
          0.9967403114813473,
          0.9967403114813473,
          0.9967403114813473,
          0.9967403114813473,
          1,
          1,
          1,
          1,
          1,
          1,
          1,
          1
         ]
        },
        {
         "legendgroup": "randomforest-100",
         "marker": {
          "color": "#AB63FA",
          "size": 7,
          "symbol": "circle"
         },
         "mode": "lines+markers",
         "name": "randomforest-100 kuhar",
         "type": "scatter",
         "x": [
          2,
          3,
          4,
          5,
          6,
          7,
          8,
          9,
          10,
          15,
          18,
          20,
          21,
          24,
          27,
          30,
          33,
          36,
          42,
          48,
          54,
          60,
          90,
          180,
          360
         ],
         "y": [
          0.9358766233766235,
          0.9488636363636365,
          0.9488636363636365,
          0.9707792207792207,
          0.9707792207792207,
          0.9707792207792207,
          0.9707792207792207,
          0.9707792207792207,
          0.9764610389610389,
          0.9797077922077922,
          0.9797077922077922,
          0.9797077922077922,
          0.9878246753246753,
          0.9878246753246753,
          0.9878246753246753,
          0.9878246753246753,
          0.9878246753246753,
          0.9878246753246753,
          0.9878246753246753,
          0.9878246753246753,
          0.9878246753246753,
          1,
          1,
          1,
          1
         ]
        },
        {
         "legendgroup": "randomforest-100",
         "marker": {
          "color": "#AB63FA",
          "size": 7,
          "symbol": "square"
         },
         "mode": "lines+markers",
         "name": "randomforest-100 motionsense",
         "type": "scatter",
         "x": [
          2,
          3,
          4,
          5,
          6,
          7,
          8,
          9,
          10,
          15,
          18,
          20,
          21,
          24,
          27,
          30,
          33,
          36,
          42,
          48,
          54,
          60,
          90,
          180,
          360
         ],
         "y": [
          0.9616834810965047,
          0.9825741363497401,
          0.991032304086416,
          0.991032304086416,
          0.991032304086416,
          0.991032304086416,
          0.991032304086416,
          0.991032304086416,
          0.991032304086416,
          0.991032304086416,
          0.991032304086416,
          0.991032304086416,
          1,
          1,
          1,
          1,
          1,
          1,
          1,
          1,
          1,
          1,
          1,
          1,
          1
         ]
        },
        {
         "legendgroup": "randomforest-100",
         "marker": {
          "color": "#AB63FA",
          "size": 7,
          "symbol": "diamond"
         },
         "mode": "lines+markers",
         "name": "randomforest-100 realworld",
         "type": "scatter",
         "x": [
          2,
          3,
          4,
          5,
          6,
          7,
          8,
          9,
          10,
          15,
          18,
          20,
          21,
          24,
          27,
          30,
          33,
          36,
          42,
          48,
          54,
          60,
          90,
          180,
          360
         ],
         "y": [
          0.8708769320656505,
          0.9977691613108833,
          0.9977691613108833,
          0.9977691613108833,
          0.9977691613108833,
          0.9977691613108833,
          0.9977691613108833,
          0.9977691613108833,
          0.9977691613108833,
          0.9977691613108833,
          0.9977691613108833,
          0.9977691613108833,
          1,
          1,
          1,
          1,
          1,
          1,
          1,
          1,
          1,
          1,
          1,
          1,
          1
         ]
        },
        {
         "legendgroup": "randomforest-100",
         "marker": {
          "color": "#AB63FA",
          "size": 7,
          "symbol": "x"
         },
         "mode": "lines+markers",
         "name": "randomforest-100 uci",
         "type": "scatter",
         "x": [
          2,
          3,
          4,
          5,
          6,
          7,
          8,
          9,
          10,
          15,
          18,
          20,
          21,
          24,
          27,
          30,
          33,
          36,
          42,
          48,
          54,
          60,
          90,
          180,
          360
         ],
         "y": [
          0.880216518246901,
          0.9594901344508471,
          0.9697922123275715,
          0.990221756591584,
          0.990221756591584,
          0.990221756591584,
          0.990221756591584,
          0.990221756591584,
          0.990221756591584,
          0.990221756591584,
          0.990221756591584,
          0.990221756591584,
          0.990221756591584,
          0.990221756591584,
          0.9966823817007162,
          0.9966823817007162,
          0.9966823817007162,
          0.9966823817007162,
          0.9966823817007162,
          0.9966823817007162,
          0.9966823817007162,
          0.9966823817007162,
          0.9966823817007162,
          0.9966823817007162,
          0.9966823817007162
         ]
        },
        {
         "legendgroup": "randomforest-100",
         "marker": {
          "color": "#AB63FA",
          "size": 7,
          "symbol": "triangle-up"
         },
         "mode": "lines+markers",
         "name": "randomforest-100 wisdm",
         "type": "scatter",
         "x": [
          2,
          3,
          4,
          5,
          6,
          7,
          8,
          9,
          10,
          15,
          18,
          20,
          21,
          24,
          27,
          30,
          33,
          36,
          42,
          48,
          54,
          60,
          90,
          180,
          360
         ],
         "y": [
          0.9205309925531533,
          0.9553908695182936,
          0.972982695974386,
          0.9909702485879771,
          0.9909702485879771,
          0.9909702485879771,
          0.9909702485879771,
          0.9909702485879771,
          0.9913299996402488,
          0.9991365974745479,
          0.9991365974745479,
          0.9991365974745479,
          0.9991365974745479,
          0.9991365974745479,
          0.9991365974745479,
          0.9991365974745479,
          0.9991365974745479,
          0.9991365974745479,
          1,
          1,
          1,
          1,
          1,
          1,
          1
         ]
        }
       ],
       "layout": {
        "height": 600,
        "legend": {
         "title": {
          "text": "Estimator"
         }
        },
        "template": {
         "data": {
          "bar": [
           {
            "error_x": {
             "color": "#2a3f5f"
            },
            "error_y": {
             "color": "#2a3f5f"
            },
            "marker": {
             "line": {
              "color": "#E5ECF6",
              "width": 0.5
             },
             "pattern": {
              "fillmode": "overlay",
              "size": 10,
              "solidity": 0.2
             }
            },
            "type": "bar"
           }
          ],
          "barpolar": [
           {
            "marker": {
             "line": {
              "color": "#E5ECF6",
              "width": 0.5
             },
             "pattern": {
              "fillmode": "overlay",
              "size": 10,
              "solidity": 0.2
             }
            },
            "type": "barpolar"
           }
          ],
          "carpet": [
           {
            "aaxis": {
             "endlinecolor": "#2a3f5f",
             "gridcolor": "white",
             "linecolor": "white",
             "minorgridcolor": "white",
             "startlinecolor": "#2a3f5f"
            },
            "baxis": {
             "endlinecolor": "#2a3f5f",
             "gridcolor": "white",
             "linecolor": "white",
             "minorgridcolor": "white",
             "startlinecolor": "#2a3f5f"
            },
            "type": "carpet"
           }
          ],
          "choropleth": [
           {
            "colorbar": {
             "outlinewidth": 0,
             "ticks": ""
            },
            "type": "choropleth"
           }
          ],
          "contour": [
           {
            "colorbar": {
             "outlinewidth": 0,
             "ticks": ""
            },
            "colorscale": [
             [
              0,
              "#0d0887"
             ],
             [
              0.1111111111111111,
              "#46039f"
             ],
             [
              0.2222222222222222,
              "#7201a8"
             ],
             [
              0.3333333333333333,
              "#9c179e"
             ],
             [
              0.4444444444444444,
              "#bd3786"
             ],
             [
              0.5555555555555556,
              "#d8576b"
             ],
             [
              0.6666666666666666,
              "#ed7953"
             ],
             [
              0.7777777777777778,
              "#fb9f3a"
             ],
             [
              0.8888888888888888,
              "#fdca26"
             ],
             [
              1,
              "#f0f921"
             ]
            ],
            "type": "contour"
           }
          ],
          "contourcarpet": [
           {
            "colorbar": {
             "outlinewidth": 0,
             "ticks": ""
            },
            "type": "contourcarpet"
           }
          ],
          "heatmap": [
           {
            "colorbar": {
             "outlinewidth": 0,
             "ticks": ""
            },
            "colorscale": [
             [
              0,
              "#0d0887"
             ],
             [
              0.1111111111111111,
              "#46039f"
             ],
             [
              0.2222222222222222,
              "#7201a8"
             ],
             [
              0.3333333333333333,
              "#9c179e"
             ],
             [
              0.4444444444444444,
              "#bd3786"
             ],
             [
              0.5555555555555556,
              "#d8576b"
             ],
             [
              0.6666666666666666,
              "#ed7953"
             ],
             [
              0.7777777777777778,
              "#fb9f3a"
             ],
             [
              0.8888888888888888,
              "#fdca26"
             ],
             [
              1,
              "#f0f921"
             ]
            ],
            "type": "heatmap"
           }
          ],
          "heatmapgl": [
           {
            "colorbar": {
             "outlinewidth": 0,
             "ticks": ""
            },
            "colorscale": [
             [
              0,
              "#0d0887"
             ],
             [
              0.1111111111111111,
              "#46039f"
             ],
             [
              0.2222222222222222,
              "#7201a8"
             ],
             [
              0.3333333333333333,
              "#9c179e"
             ],
             [
              0.4444444444444444,
              "#bd3786"
             ],
             [
              0.5555555555555556,
              "#d8576b"
             ],
             [
              0.6666666666666666,
              "#ed7953"
             ],
             [
              0.7777777777777778,
              "#fb9f3a"
             ],
             [
              0.8888888888888888,
              "#fdca26"
             ],
             [
              1,
              "#f0f921"
             ]
            ],
            "type": "heatmapgl"
           }
          ],
          "histogram": [
           {
            "marker": {
             "pattern": {
              "fillmode": "overlay",
              "size": 10,
              "solidity": 0.2
             }
            },
            "type": "histogram"
           }
          ],
          "histogram2d": [
           {
            "colorbar": {
             "outlinewidth": 0,
             "ticks": ""
            },
            "colorscale": [
             [
              0,
              "#0d0887"
             ],
             [
              0.1111111111111111,
              "#46039f"
             ],
             [
              0.2222222222222222,
              "#7201a8"
             ],
             [
              0.3333333333333333,
              "#9c179e"
             ],
             [
              0.4444444444444444,
              "#bd3786"
             ],
             [
              0.5555555555555556,
              "#d8576b"
             ],
             [
              0.6666666666666666,
              "#ed7953"
             ],
             [
              0.7777777777777778,
              "#fb9f3a"
             ],
             [
              0.8888888888888888,
              "#fdca26"
             ],
             [
              1,
              "#f0f921"
             ]
            ],
            "type": "histogram2d"
           }
          ],
          "histogram2dcontour": [
           {
            "colorbar": {
             "outlinewidth": 0,
             "ticks": ""
            },
            "colorscale": [
             [
              0,
              "#0d0887"
             ],
             [
              0.1111111111111111,
              "#46039f"
             ],
             [
              0.2222222222222222,
              "#7201a8"
             ],
             [
              0.3333333333333333,
              "#9c179e"
             ],
             [
              0.4444444444444444,
              "#bd3786"
             ],
             [
              0.5555555555555556,
              "#d8576b"
             ],
             [
              0.6666666666666666,
              "#ed7953"
             ],
             [
              0.7777777777777778,
              "#fb9f3a"
             ],
             [
              0.8888888888888888,
              "#fdca26"
             ],
             [
              1,
              "#f0f921"
             ]
            ],
            "type": "histogram2dcontour"
           }
          ],
          "mesh3d": [
           {
            "colorbar": {
             "outlinewidth": 0,
             "ticks": ""
            },
            "type": "mesh3d"
           }
          ],
          "parcoords": [
           {
            "line": {
             "colorbar": {
              "outlinewidth": 0,
              "ticks": ""
             }
            },
            "type": "parcoords"
           }
          ],
          "pie": [
           {
            "automargin": true,
            "type": "pie"
           }
          ],
          "scatter": [
           {
            "fillpattern": {
             "fillmode": "overlay",
             "size": 10,
             "solidity": 0.2
            },
            "type": "scatter"
           }
          ],
          "scatter3d": [
           {
            "line": {
             "colorbar": {
              "outlinewidth": 0,
              "ticks": ""
             }
            },
            "marker": {
             "colorbar": {
              "outlinewidth": 0,
              "ticks": ""
             }
            },
            "type": "scatter3d"
           }
          ],
          "scattercarpet": [
           {
            "marker": {
             "colorbar": {
              "outlinewidth": 0,
              "ticks": ""
             }
            },
            "type": "scattercarpet"
           }
          ],
          "scattergeo": [
           {
            "marker": {
             "colorbar": {
              "outlinewidth": 0,
              "ticks": ""
             }
            },
            "type": "scattergeo"
           }
          ],
          "scattergl": [
           {
            "marker": {
             "colorbar": {
              "outlinewidth": 0,
              "ticks": ""
             }
            },
            "type": "scattergl"
           }
          ],
          "scattermapbox": [
           {
            "marker": {
             "colorbar": {
              "outlinewidth": 0,
              "ticks": ""
             }
            },
            "type": "scattermapbox"
           }
          ],
          "scatterpolar": [
           {
            "marker": {
             "colorbar": {
              "outlinewidth": 0,
              "ticks": ""
             }
            },
            "type": "scatterpolar"
           }
          ],
          "scatterpolargl": [
           {
            "marker": {
             "colorbar": {
              "outlinewidth": 0,
              "ticks": ""
             }
            },
            "type": "scatterpolargl"
           }
          ],
          "scatterternary": [
           {
            "marker": {
             "colorbar": {
              "outlinewidth": 0,
              "ticks": ""
             }
            },
            "type": "scatterternary"
           }
          ],
          "surface": [
           {
            "colorbar": {
             "outlinewidth": 0,
             "ticks": ""
            },
            "colorscale": [
             [
              0,
              "#0d0887"
             ],
             [
              0.1111111111111111,
              "#46039f"
             ],
             [
              0.2222222222222222,
              "#7201a8"
             ],
             [
              0.3333333333333333,
              "#9c179e"
             ],
             [
              0.4444444444444444,
              "#bd3786"
             ],
             [
              0.5555555555555556,
              "#d8576b"
             ],
             [
              0.6666666666666666,
              "#ed7953"
             ],
             [
              0.7777777777777778,
              "#fb9f3a"
             ],
             [
              0.8888888888888888,
              "#fdca26"
             ],
             [
              1,
              "#f0f921"
             ]
            ],
            "type": "surface"
           }
          ],
          "table": [
           {
            "cells": {
             "fill": {
              "color": "#EBF0F8"
             },
             "line": {
              "color": "white"
             }
            },
            "header": {
             "fill": {
              "color": "#C8D4E3"
             },
             "line": {
              "color": "white"
             }
            },
            "type": "table"
           }
          ]
         },
         "layout": {
          "annotationdefaults": {
           "arrowcolor": "#2a3f5f",
           "arrowhead": 0,
           "arrowwidth": 1
          },
          "autotypenumbers": "strict",
          "coloraxis": {
           "colorbar": {
            "outlinewidth": 0,
            "ticks": ""
           }
          },
          "colorscale": {
           "diverging": [
            [
             0,
             "#8e0152"
            ],
            [
             0.1,
             "#c51b7d"
            ],
            [
             0.2,
             "#de77ae"
            ],
            [
             0.3,
             "#f1b6da"
            ],
            [
             0.4,
             "#fde0ef"
            ],
            [
             0.5,
             "#f7f7f7"
            ],
            [
             0.6,
             "#e6f5d0"
            ],
            [
             0.7,
             "#b8e186"
            ],
            [
             0.8,
             "#7fbc41"
            ],
            [
             0.9,
             "#4d9221"
            ],
            [
             1,
             "#276419"
            ]
           ],
           "sequential": [
            [
             0,
             "#0d0887"
            ],
            [
             0.1111111111111111,
             "#46039f"
            ],
            [
             0.2222222222222222,
             "#7201a8"
            ],
            [
             0.3333333333333333,
             "#9c179e"
            ],
            [
             0.4444444444444444,
             "#bd3786"
            ],
            [
             0.5555555555555556,
             "#d8576b"
            ],
            [
             0.6666666666666666,
             "#ed7953"
            ],
            [
             0.7777777777777778,
             "#fb9f3a"
            ],
            [
             0.8888888888888888,
             "#fdca26"
            ],
            [
             1,
             "#f0f921"
            ]
           ],
           "sequentialminus": [
            [
             0,
             "#0d0887"
            ],
            [
             0.1111111111111111,
             "#46039f"
            ],
            [
             0.2222222222222222,
             "#7201a8"
            ],
            [
             0.3333333333333333,
             "#9c179e"
            ],
            [
             0.4444444444444444,
             "#bd3786"
            ],
            [
             0.5555555555555556,
             "#d8576b"
            ],
            [
             0.6666666666666666,
             "#ed7953"
            ],
            [
             0.7777777777777778,
             "#fb9f3a"
            ],
            [
             0.8888888888888888,
             "#fdca26"
            ],
            [
             1,
             "#f0f921"
            ]
           ]
          },
          "colorway": [
           "#636efa",
           "#EF553B",
           "#00cc96",
           "#ab63fa",
           "#FFA15A",
           "#19d3f3",
           "#FF6692",
           "#B6E880",
           "#FF97FF",
           "#FECB52"
          ],
          "font": {
           "color": "#2a3f5f"
          },
          "geo": {
           "bgcolor": "white",
           "lakecolor": "white",
           "landcolor": "#E5ECF6",
           "showlakes": true,
           "showland": true,
           "subunitcolor": "white"
          },
          "hoverlabel": {
           "align": "left"
          },
          "hovermode": "closest",
          "mapbox": {
           "style": "light"
          },
          "paper_bgcolor": "white",
          "plot_bgcolor": "#E5ECF6",
          "polar": {
           "angularaxis": {
            "gridcolor": "white",
            "linecolor": "white",
            "ticks": ""
           },
           "bgcolor": "#E5ECF6",
           "radialaxis": {
            "gridcolor": "white",
            "linecolor": "white",
            "ticks": ""
           }
          },
          "scene": {
           "xaxis": {
            "backgroundcolor": "#E5ECF6",
            "gridcolor": "white",
            "gridwidth": 2,
            "linecolor": "white",
            "showbackground": true,
            "ticks": "",
            "zerolinecolor": "white"
           },
           "yaxis": {
            "backgroundcolor": "#E5ECF6",
            "gridcolor": "white",
            "gridwidth": 2,
            "linecolor": "white",
            "showbackground": true,
            "ticks": "",
            "zerolinecolor": "white"
           },
           "zaxis": {
            "backgroundcolor": "#E5ECF6",
            "gridcolor": "white",
            "gridwidth": 2,
            "linecolor": "white",
            "showbackground": true,
            "ticks": "",
            "zerolinecolor": "white"
           }
          },
          "shapedefaults": {
           "line": {
            "color": "#2a3f5f"
           }
          },
          "ternary": {
           "aaxis": {
            "gridcolor": "white",
            "linecolor": "white",
            "ticks": ""
           },
           "baxis": {
            "gridcolor": "white",
            "linecolor": "white",
            "ticks": ""
           },
           "bgcolor": "#E5ECF6",
           "caxis": {
            "gridcolor": "white",
            "linecolor": "white",
            "ticks": ""
           }
          },
          "title": {
           "x": 0.05
          },
          "xaxis": {
           "automargin": true,
           "gridcolor": "white",
           "linecolor": "white",
           "ticks": "",
           "title": {
            "standoff": 15
           },
           "zerolinecolor": "white",
           "zerolinewidth": 2
          },
          "yaxis": {
           "automargin": true,
           "gridcolor": "white",
           "linecolor": "white",
           "ticks": "",
           "title": {
            "standoff": 15
           },
           "zerolinecolor": "white",
           "zerolinewidth": 2
          }
         }
        },
        "title": {
         "text": "UMAP Improvement for each dataset (UMAP over best UMAP, per dataset)"
        },
        "width": 1200,
        "xaxis": {
         "title": {
          "text": "Maximum UMAP Components"
         }
        },
        "yaxis": {
         "title": {
          "text": "Accuracy improvement best UMAP"
         }
        }
       }
      }
     },
     "metadata": {},
     "output_type": "display_data"
    }
   ],
   "source": [
    "df = results.copy()\n",
    "df = filter_domain_fft_only(df)\n",
    "df = filter_features_all(df)\n",
    "df = filter_reducer_over_all(df)\n",
    "df = filter_scaler_none(df)\n",
    "df = filter_view_standardized_balanced(df)\n",
    "df = filter_only_reducer_dataset_equals_train_dataset_or_no_reducer(df)\n",
    "df = get_umap_improvement_over_best_umap(df)\n",
    "df = df[(df[\"umap components\"] > 0) & (df[\"umap components\"] <= 360)]\n",
    "\n",
    "dset_markers = {\n",
    "    name: markers[i]\n",
    "    for i, name in enumerate(df[\"train_datasets\"].unique())\n",
    "}\n",
    "\n",
    "estimator_colors = {\n",
    "    name: colors[i]\n",
    "    for i, name in enumerate(df[\"estimator\"].unique())\n",
    "}\n",
    "\n",
    "fig = go.Figure()\n",
    "for (estimator, dataset), subdf in df.groupby([\"estimator\", \"train_datasets\"]):\n",
    "    subdf = subdf.sort_values(by=\"umap components\")\n",
    "    xs, ys = [], []\n",
    "    for n_components in sorted(subdf[\"umap components\"].unique()):\n",
    "        xs.append(n_components)\n",
    "        ys.append(subdf[subdf[\"umap components\"] <= n_components][\"umap improvement\"].max())\n",
    "    fig.add_trace(\n",
    "        go.Scatter( \n",
    "            x=xs,\n",
    "            y=ys,\n",
    "            name=f\"{estimator} {dataset}\",\n",
    "            mode=\"lines+markers\",\n",
    "            legendgroup=estimator,\n",
    "            # legendgrouptitle=\"Estimator\",\n",
    "            marker=dict(\n",
    "                color=estimator_colors[estimator],\n",
    "                symbol=dset_markers[dataset],\n",
    "                size=7,\n",
    "            ),\n",
    "        )\n",
    "    )\n",
    "    # subdf[\"best umap improvement so far\"] = df[\"umap improvement\"].expanding().max()\n",
    "\n",
    "fig.update_layout(\n",
    "    title=\"UMAP Improvement for each dataset (UMAP over best UMAP, per dataset)\",\n",
    "    xaxis_title=\"Maximum UMAP Components\",\n",
    "    yaxis_title=\"Accuracy improvement best UMAP\",\n",
    "    legend_title=\"Estimator\",\n",
    "    width=1200,\n",
    "    height=600,\n",
    "    # xaxis=dict(tickmode=\"linear\")\n",
    ")\n",
    "fig.show()"
   ]
  },
  {
   "attachments": {},
   "cell_type": "markdown",
   "metadata": {},
   "source": [
    "### Pergunta 1.c"
   ]
  },
  {
   "cell_type": "code",
   "execution_count": 47,
   "metadata": {},
   "outputs": [
    {
     "data": {
      "application/vnd.plotly.v1+json": {
       "config": {
        "plotlyServerURL": "https://plot.ly"
       },
       "data": [
        {
         "legendgroup": "Raw (no umap)",
         "marker": {
          "color": "#0508b8"
         },
         "name": "Raw (no umap)",
         "type": "bar",
         "x": [
          "kuhar",
          "motionsense",
          "uci",
          "wisdm",
          "realworld"
         ],
         "y": [
          0.861111111111111,
          0.9132768361581922,
          0.9204347826086956,
          0.9463790446841294,
          0.8550228310502284
         ]
        },
        {
         "legendgroup": "Raw (best umap)",
         "marker": {
          "color": "#6b1cfb"
         },
         "name": "Raw (umap)",
         "type": "bar",
         "x": [
          "kuhar",
          "motionsense",
          "uci",
          "wisdm",
          "realworld"
         ],
         "y": [
          0.85,
          0.9052730696798494,
          0.7726086956521739,
          0.8918335901386747,
          0.7309741248097412
         ]
        },
        {
         "legendgroup": "Standardized (no umap)",
         "marker": {
          "color": "#fdca26"
         },
         "name": "Standardized (no umap)",
         "type": "bar",
         "x": [
          "kuhar",
          "motionsense",
          "uci",
          "wisdm",
          "realworld"
         ],
         "y": [
          0.888888888888889,
          0.9300376647834276,
          0.9247826086956522,
          0.8628659476117104,
          0.8025494672754947
         ]
        },
        {
         "legendgroup": "Standardized (best umap)",
         "marker": {
          "color": "#fb9f3a"
         },
         "name": "Standardized (umap)",
         "type": "bar",
         "x": [
          "kuhar",
          "motionsense",
          "uci",
          "wisdm",
          "realworld"
         ],
         "y": [
          0.8555555555555555,
          0.9240112994350282,
          0.8299999999999998,
          0.8566101694915254,
          0.7336377473363774
         ]
        }
       ],
       "layout": {
        "template": {
         "data": {
          "bar": [
           {
            "error_x": {
             "color": "#2a3f5f"
            },
            "error_y": {
             "color": "#2a3f5f"
            },
            "marker": {
             "line": {
              "color": "#E5ECF6",
              "width": 0.5
             },
             "pattern": {
              "fillmode": "overlay",
              "size": 10,
              "solidity": 0.2
             }
            },
            "type": "bar"
           }
          ],
          "barpolar": [
           {
            "marker": {
             "line": {
              "color": "#E5ECF6",
              "width": 0.5
             },
             "pattern": {
              "fillmode": "overlay",
              "size": 10,
              "solidity": 0.2
             }
            },
            "type": "barpolar"
           }
          ],
          "carpet": [
           {
            "aaxis": {
             "endlinecolor": "#2a3f5f",
             "gridcolor": "white",
             "linecolor": "white",
             "minorgridcolor": "white",
             "startlinecolor": "#2a3f5f"
            },
            "baxis": {
             "endlinecolor": "#2a3f5f",
             "gridcolor": "white",
             "linecolor": "white",
             "minorgridcolor": "white",
             "startlinecolor": "#2a3f5f"
            },
            "type": "carpet"
           }
          ],
          "choropleth": [
           {
            "colorbar": {
             "outlinewidth": 0,
             "ticks": ""
            },
            "type": "choropleth"
           }
          ],
          "contour": [
           {
            "colorbar": {
             "outlinewidth": 0,
             "ticks": ""
            },
            "colorscale": [
             [
              0,
              "#0d0887"
             ],
             [
              0.1111111111111111,
              "#46039f"
             ],
             [
              0.2222222222222222,
              "#7201a8"
             ],
             [
              0.3333333333333333,
              "#9c179e"
             ],
             [
              0.4444444444444444,
              "#bd3786"
             ],
             [
              0.5555555555555556,
              "#d8576b"
             ],
             [
              0.6666666666666666,
              "#ed7953"
             ],
             [
              0.7777777777777778,
              "#fb9f3a"
             ],
             [
              0.8888888888888888,
              "#fdca26"
             ],
             [
              1,
              "#f0f921"
             ]
            ],
            "type": "contour"
           }
          ],
          "contourcarpet": [
           {
            "colorbar": {
             "outlinewidth": 0,
             "ticks": ""
            },
            "type": "contourcarpet"
           }
          ],
          "heatmap": [
           {
            "colorbar": {
             "outlinewidth": 0,
             "ticks": ""
            },
            "colorscale": [
             [
              0,
              "#0d0887"
             ],
             [
              0.1111111111111111,
              "#46039f"
             ],
             [
              0.2222222222222222,
              "#7201a8"
             ],
             [
              0.3333333333333333,
              "#9c179e"
             ],
             [
              0.4444444444444444,
              "#bd3786"
             ],
             [
              0.5555555555555556,
              "#d8576b"
             ],
             [
              0.6666666666666666,
              "#ed7953"
             ],
             [
              0.7777777777777778,
              "#fb9f3a"
             ],
             [
              0.8888888888888888,
              "#fdca26"
             ],
             [
              1,
              "#f0f921"
             ]
            ],
            "type": "heatmap"
           }
          ],
          "heatmapgl": [
           {
            "colorbar": {
             "outlinewidth": 0,
             "ticks": ""
            },
            "colorscale": [
             [
              0,
              "#0d0887"
             ],
             [
              0.1111111111111111,
              "#46039f"
             ],
             [
              0.2222222222222222,
              "#7201a8"
             ],
             [
              0.3333333333333333,
              "#9c179e"
             ],
             [
              0.4444444444444444,
              "#bd3786"
             ],
             [
              0.5555555555555556,
              "#d8576b"
             ],
             [
              0.6666666666666666,
              "#ed7953"
             ],
             [
              0.7777777777777778,
              "#fb9f3a"
             ],
             [
              0.8888888888888888,
              "#fdca26"
             ],
             [
              1,
              "#f0f921"
             ]
            ],
            "type": "heatmapgl"
           }
          ],
          "histogram": [
           {
            "marker": {
             "pattern": {
              "fillmode": "overlay",
              "size": 10,
              "solidity": 0.2
             }
            },
            "type": "histogram"
           }
          ],
          "histogram2d": [
           {
            "colorbar": {
             "outlinewidth": 0,
             "ticks": ""
            },
            "colorscale": [
             [
              0,
              "#0d0887"
             ],
             [
              0.1111111111111111,
              "#46039f"
             ],
             [
              0.2222222222222222,
              "#7201a8"
             ],
             [
              0.3333333333333333,
              "#9c179e"
             ],
             [
              0.4444444444444444,
              "#bd3786"
             ],
             [
              0.5555555555555556,
              "#d8576b"
             ],
             [
              0.6666666666666666,
              "#ed7953"
             ],
             [
              0.7777777777777778,
              "#fb9f3a"
             ],
             [
              0.8888888888888888,
              "#fdca26"
             ],
             [
              1,
              "#f0f921"
             ]
            ],
            "type": "histogram2d"
           }
          ],
          "histogram2dcontour": [
           {
            "colorbar": {
             "outlinewidth": 0,
             "ticks": ""
            },
            "colorscale": [
             [
              0,
              "#0d0887"
             ],
             [
              0.1111111111111111,
              "#46039f"
             ],
             [
              0.2222222222222222,
              "#7201a8"
             ],
             [
              0.3333333333333333,
              "#9c179e"
             ],
             [
              0.4444444444444444,
              "#bd3786"
             ],
             [
              0.5555555555555556,
              "#d8576b"
             ],
             [
              0.6666666666666666,
              "#ed7953"
             ],
             [
              0.7777777777777778,
              "#fb9f3a"
             ],
             [
              0.8888888888888888,
              "#fdca26"
             ],
             [
              1,
              "#f0f921"
             ]
            ],
            "type": "histogram2dcontour"
           }
          ],
          "mesh3d": [
           {
            "colorbar": {
             "outlinewidth": 0,
             "ticks": ""
            },
            "type": "mesh3d"
           }
          ],
          "parcoords": [
           {
            "line": {
             "colorbar": {
              "outlinewidth": 0,
              "ticks": ""
             }
            },
            "type": "parcoords"
           }
          ],
          "pie": [
           {
            "automargin": true,
            "type": "pie"
           }
          ],
          "scatter": [
           {
            "fillpattern": {
             "fillmode": "overlay",
             "size": 10,
             "solidity": 0.2
            },
            "type": "scatter"
           }
          ],
          "scatter3d": [
           {
            "line": {
             "colorbar": {
              "outlinewidth": 0,
              "ticks": ""
             }
            },
            "marker": {
             "colorbar": {
              "outlinewidth": 0,
              "ticks": ""
             }
            },
            "type": "scatter3d"
           }
          ],
          "scattercarpet": [
           {
            "marker": {
             "colorbar": {
              "outlinewidth": 0,
              "ticks": ""
             }
            },
            "type": "scattercarpet"
           }
          ],
          "scattergeo": [
           {
            "marker": {
             "colorbar": {
              "outlinewidth": 0,
              "ticks": ""
             }
            },
            "type": "scattergeo"
           }
          ],
          "scattergl": [
           {
            "marker": {
             "colorbar": {
              "outlinewidth": 0,
              "ticks": ""
             }
            },
            "type": "scattergl"
           }
          ],
          "scattermapbox": [
           {
            "marker": {
             "colorbar": {
              "outlinewidth": 0,
              "ticks": ""
             }
            },
            "type": "scattermapbox"
           }
          ],
          "scatterpolar": [
           {
            "marker": {
             "colorbar": {
              "outlinewidth": 0,
              "ticks": ""
             }
            },
            "type": "scatterpolar"
           }
          ],
          "scatterpolargl": [
           {
            "marker": {
             "colorbar": {
              "outlinewidth": 0,
              "ticks": ""
             }
            },
            "type": "scatterpolargl"
           }
          ],
          "scatterternary": [
           {
            "marker": {
             "colorbar": {
              "outlinewidth": 0,
              "ticks": ""
             }
            },
            "type": "scatterternary"
           }
          ],
          "surface": [
           {
            "colorbar": {
             "outlinewidth": 0,
             "ticks": ""
            },
            "colorscale": [
             [
              0,
              "#0d0887"
             ],
             [
              0.1111111111111111,
              "#46039f"
             ],
             [
              0.2222222222222222,
              "#7201a8"
             ],
             [
              0.3333333333333333,
              "#9c179e"
             ],
             [
              0.4444444444444444,
              "#bd3786"
             ],
             [
              0.5555555555555556,
              "#d8576b"
             ],
             [
              0.6666666666666666,
              "#ed7953"
             ],
             [
              0.7777777777777778,
              "#fb9f3a"
             ],
             [
              0.8888888888888888,
              "#fdca26"
             ],
             [
              1,
              "#f0f921"
             ]
            ],
            "type": "surface"
           }
          ],
          "table": [
           {
            "cells": {
             "fill": {
              "color": "#EBF0F8"
             },
             "line": {
              "color": "white"
             }
            },
            "header": {
             "fill": {
              "color": "#C8D4E3"
             },
             "line": {
              "color": "white"
             }
            },
            "type": "table"
           }
          ]
         },
         "layout": {
          "annotationdefaults": {
           "arrowcolor": "#2a3f5f",
           "arrowhead": 0,
           "arrowwidth": 1
          },
          "autotypenumbers": "strict",
          "coloraxis": {
           "colorbar": {
            "outlinewidth": 0,
            "ticks": ""
           }
          },
          "colorscale": {
           "diverging": [
            [
             0,
             "#8e0152"
            ],
            [
             0.1,
             "#c51b7d"
            ],
            [
             0.2,
             "#de77ae"
            ],
            [
             0.3,
             "#f1b6da"
            ],
            [
             0.4,
             "#fde0ef"
            ],
            [
             0.5,
             "#f7f7f7"
            ],
            [
             0.6,
             "#e6f5d0"
            ],
            [
             0.7,
             "#b8e186"
            ],
            [
             0.8,
             "#7fbc41"
            ],
            [
             0.9,
             "#4d9221"
            ],
            [
             1,
             "#276419"
            ]
           ],
           "sequential": [
            [
             0,
             "#0d0887"
            ],
            [
             0.1111111111111111,
             "#46039f"
            ],
            [
             0.2222222222222222,
             "#7201a8"
            ],
            [
             0.3333333333333333,
             "#9c179e"
            ],
            [
             0.4444444444444444,
             "#bd3786"
            ],
            [
             0.5555555555555556,
             "#d8576b"
            ],
            [
             0.6666666666666666,
             "#ed7953"
            ],
            [
             0.7777777777777778,
             "#fb9f3a"
            ],
            [
             0.8888888888888888,
             "#fdca26"
            ],
            [
             1,
             "#f0f921"
            ]
           ],
           "sequentialminus": [
            [
             0,
             "#0d0887"
            ],
            [
             0.1111111111111111,
             "#46039f"
            ],
            [
             0.2222222222222222,
             "#7201a8"
            ],
            [
             0.3333333333333333,
             "#9c179e"
            ],
            [
             0.4444444444444444,
             "#bd3786"
            ],
            [
             0.5555555555555556,
             "#d8576b"
            ],
            [
             0.6666666666666666,
             "#ed7953"
            ],
            [
             0.7777777777777778,
             "#fb9f3a"
            ],
            [
             0.8888888888888888,
             "#fdca26"
            ],
            [
             1,
             "#f0f921"
            ]
           ]
          },
          "colorway": [
           "#636efa",
           "#EF553B",
           "#00cc96",
           "#ab63fa",
           "#FFA15A",
           "#19d3f3",
           "#FF6692",
           "#B6E880",
           "#FF97FF",
           "#FECB52"
          ],
          "font": {
           "color": "#2a3f5f"
          },
          "geo": {
           "bgcolor": "white",
           "lakecolor": "white",
           "landcolor": "#E5ECF6",
           "showlakes": true,
           "showland": true,
           "subunitcolor": "white"
          },
          "hoverlabel": {
           "align": "left"
          },
          "hovermode": "closest",
          "mapbox": {
           "style": "light"
          },
          "paper_bgcolor": "white",
          "plot_bgcolor": "#E5ECF6",
          "polar": {
           "angularaxis": {
            "gridcolor": "white",
            "linecolor": "white",
            "ticks": ""
           },
           "bgcolor": "#E5ECF6",
           "radialaxis": {
            "gridcolor": "white",
            "linecolor": "white",
            "ticks": ""
           }
          },
          "scene": {
           "xaxis": {
            "backgroundcolor": "#E5ECF6",
            "gridcolor": "white",
            "gridwidth": 2,
            "linecolor": "white",
            "showbackground": true,
            "ticks": "",
            "zerolinecolor": "white"
           },
           "yaxis": {
            "backgroundcolor": "#E5ECF6",
            "gridcolor": "white",
            "gridwidth": 2,
            "linecolor": "white",
            "showbackground": true,
            "ticks": "",
            "zerolinecolor": "white"
           },
           "zaxis": {
            "backgroundcolor": "#E5ECF6",
            "gridcolor": "white",
            "gridwidth": 2,
            "linecolor": "white",
            "showbackground": true,
            "ticks": "",
            "zerolinecolor": "white"
           }
          },
          "shapedefaults": {
           "line": {
            "color": "#2a3f5f"
           }
          },
          "ternary": {
           "aaxis": {
            "gridcolor": "white",
            "linecolor": "white",
            "ticks": ""
           },
           "baxis": {
            "gridcolor": "white",
            "linecolor": "white",
            "ticks": ""
           },
           "bgcolor": "#E5ECF6",
           "caxis": {
            "gridcolor": "white",
            "linecolor": "white",
            "ticks": ""
           }
          },
          "title": {
           "x": 0.05
          },
          "xaxis": {
           "automargin": true,
           "gridcolor": "white",
           "linecolor": "white",
           "ticks": "",
           "title": {
            "standoff": 15
           },
           "zerolinecolor": "white",
           "zerolinewidth": 2
          },
          "yaxis": {
           "automargin": true,
           "gridcolor": "white",
           "linecolor": "white",
           "ticks": "",
           "title": {
            "standoff": 15
           },
           "zerolinecolor": "white",
           "zerolinewidth": 2
          }
         }
        },
        "title": {
         "text": "Impact of UMAP on raw and standardized datasets (FFT)"
        },
        "xaxis": {
         "title": {
          "text": "Dataset"
         }
        },
        "yaxis": {
         "title": {
          "text": "Accuracy (best classifier)"
         }
        }
       }
      }
     },
     "metadata": {},
     "output_type": "display_data"
    }
   ],
   "source": [
    "experiment_uniq = [c for c in unique_exp_columns if c not in [\"train_datasets\", \"view\"]]\n",
    "\n",
    "df = results.copy()\n",
    "df = filter_domain_fft_only(df)\n",
    "df = filter_features_all(df)\n",
    "df = filter_reducer_over_all(df)\n",
    "df = filter_scaler_none(df)\n",
    "df = filter_only_reducer_dataset_equals_train_dataset_or_no_reducer(df)\n",
    "\n",
    "raw_df = filter_view_raw(df.copy())\n",
    "standartized_df = filter_view_standardized_balanced(df.copy())\n",
    "\n",
    "# for view in [\"raw_balanced\", \"standardized_balanced\"]:\n",
    "\n",
    "fig = go.Figure()\n",
    "xs = datasets\n",
    "no_umap_ys = []\n",
    "umap_ys = []\n",
    "for dset in datasets:\n",
    "    # Filter raw dsets only\n",
    "    best_acc = raw_df.loc[(raw_df[\"train_datasets\"] == dset) & (raw_df[\"umap components\"] == 0), \"accuracy (mean)\"]\n",
    "    no_umap_ys.append(best_acc.sort_values().iloc[-1])\n",
    "    \n",
    "    best_acc = raw_df.loc[(raw_df[\"train_datasets\"] == dset) & (raw_df[\"umap components\"] > 0), \"accuracy (mean)\"]\n",
    "    umap_ys.append(best_acc.sort_values().iloc[-1])\n",
    "    \n",
    "fig.add_trace(\n",
    "    go.Bar(\n",
    "        x=xs,\n",
    "        y=no_umap_ys,\n",
    "        name=\"Raw (no umap)\",\n",
    "        marker=dict(color=px.colors.sequential.Plotly3[0]),\n",
    "        legendgroup=\"Raw (no umap)\",\n",
    "    )\n",
    ")\n",
    "    \n",
    "fig.add_trace(\n",
    "    go.Bar(\n",
    "        x=xs,\n",
    "        y=umap_ys,\n",
    "        name=\"Raw (umap)\",\n",
    "        marker=dict(color=px.colors.sequential.Plotly3[3]),\n",
    "        legendgroup=\"Raw (best umap)\",\n",
    "    )\n",
    ")\n",
    "\n",
    "no_umap_ys = []\n",
    "umap_ys = []\n",
    "for dset in datasets:\n",
    "    # Filter raw dsets only\n",
    "    best_acc = standartized_df.loc[(standartized_df[\"train_datasets\"] == dset) & (standartized_df[\"umap components\"] == 0), \"accuracy (mean)\"]\n",
    "    no_umap_ys.append(best_acc.sort_values().iloc[-1])\n",
    "    \n",
    "    best_acc = standartized_df.loc[(standartized_df[\"train_datasets\"] == dset) & (standartized_df[\"umap components\"] > 0), \"accuracy (mean)\"]\n",
    "    umap_ys.append(best_acc.sort_values().iloc[-1])\n",
    "    \n",
    "fig.add_trace(\n",
    "    go.Bar(\n",
    "        x=xs,\n",
    "        y=no_umap_ys,\n",
    "        name=\"Standardized (no umap)\",\n",
    "        marker=dict(color=px.colors.sequential.Plasma_r[1]),\n",
    "        legendgroup=\"Standardized (no umap)\",\n",
    "    )\n",
    ")\n",
    "    \n",
    "fig.add_trace(\n",
    "    go.Bar(\n",
    "        x=xs,\n",
    "        y=umap_ys,\n",
    "        name=\"Standardized (umap)\",\n",
    "        marker=dict(color=px.colors.sequential.Plasma_r[2]),\n",
    "        legendgroup=\"Standardized (best umap)\",\n",
    "    )\n",
    ")\n",
    "\n",
    "fig.update_layout(\n",
    "    title=\"Impact of UMAP on raw and standardized datasets (FFT)\",\n",
    "    xaxis_title=\"Dataset\",\n",
    "    yaxis_title=\"Accuracy (best classifier)\",\n",
    ")\n",
    "\n",
    "fig.show()"
   ]
  },
  {
   "cell_type": "code",
   "execution_count": 48,
   "metadata": {},
   "outputs": [
    {
     "data": {
      "application/vnd.plotly.v1+json": {
       "config": {
        "plotlyServerURL": "https://plot.ly"
       },
       "data": [
        {
         "legendgroup": "Raw (no umap)",
         "marker": {
          "color": "#0508b8"
         },
         "name": "Raw (no umap)",
         "type": "bar",
         "x": [
          "kuhar",
          "motionsense",
          "uci",
          "wisdm",
          "realworld"
         ],
         "y": [
          0.8090277777777779,
          0.8834274952919021,
          0.8533333333333333,
          0.829337442218798,
          0.8261035007610349
         ]
        },
        {
         "legendgroup": "Raw (best umap)",
         "marker": {
          "color": "#6b1cfb"
         },
         "name": "Raw (umap)",
         "type": "bar",
         "x": [
          "kuhar",
          "motionsense",
          "uci",
          "wisdm",
          "realworld"
         ],
         "y": [
          0.5416666666666667,
          0.8271186440677966,
          0.5884057971014494,
          0.4824345146379044,
          0.4216133942161339
         ]
        },
        {
         "legendgroup": "Standardized (no umap)",
         "marker": {
          "color": "#fdca26"
         },
         "name": "Standardized (no umap)",
         "type": "bar",
         "x": [
          "kuhar",
          "motionsense",
          "uci",
          "wisdm",
          "realworld"
         ],
         "y": [
          0.8027777777777777,
          0.8849340866290019,
          0.8865217391304349,
          0.769522342064715,
          0.7191780821917808
         ]
        },
        {
         "legendgroup": "Standardized (best umap)",
         "marker": {
          "color": "#fb9f3a"
         },
         "name": "Standardized (umap)",
         "type": "bar",
         "x": [
          "kuhar",
          "motionsense",
          "uci",
          "wisdm",
          "realworld"
         ],
         "y": [
          0.5916666666666667,
          0.6930320150659134,
          0.5878260869565217,
          0.5824345146379046,
          0.552130898021309
         ]
        }
       ],
       "layout": {
        "template": {
         "data": {
          "bar": [
           {
            "error_x": {
             "color": "#2a3f5f"
            },
            "error_y": {
             "color": "#2a3f5f"
            },
            "marker": {
             "line": {
              "color": "#E5ECF6",
              "width": 0.5
             },
             "pattern": {
              "fillmode": "overlay",
              "size": 10,
              "solidity": 0.2
             }
            },
            "type": "bar"
           }
          ],
          "barpolar": [
           {
            "marker": {
             "line": {
              "color": "#E5ECF6",
              "width": 0.5
             },
             "pattern": {
              "fillmode": "overlay",
              "size": 10,
              "solidity": 0.2
             }
            },
            "type": "barpolar"
           }
          ],
          "carpet": [
           {
            "aaxis": {
             "endlinecolor": "#2a3f5f",
             "gridcolor": "white",
             "linecolor": "white",
             "minorgridcolor": "white",
             "startlinecolor": "#2a3f5f"
            },
            "baxis": {
             "endlinecolor": "#2a3f5f",
             "gridcolor": "white",
             "linecolor": "white",
             "minorgridcolor": "white",
             "startlinecolor": "#2a3f5f"
            },
            "type": "carpet"
           }
          ],
          "choropleth": [
           {
            "colorbar": {
             "outlinewidth": 0,
             "ticks": ""
            },
            "type": "choropleth"
           }
          ],
          "contour": [
           {
            "colorbar": {
             "outlinewidth": 0,
             "ticks": ""
            },
            "colorscale": [
             [
              0,
              "#0d0887"
             ],
             [
              0.1111111111111111,
              "#46039f"
             ],
             [
              0.2222222222222222,
              "#7201a8"
             ],
             [
              0.3333333333333333,
              "#9c179e"
             ],
             [
              0.4444444444444444,
              "#bd3786"
             ],
             [
              0.5555555555555556,
              "#d8576b"
             ],
             [
              0.6666666666666666,
              "#ed7953"
             ],
             [
              0.7777777777777778,
              "#fb9f3a"
             ],
             [
              0.8888888888888888,
              "#fdca26"
             ],
             [
              1,
              "#f0f921"
             ]
            ],
            "type": "contour"
           }
          ],
          "contourcarpet": [
           {
            "colorbar": {
             "outlinewidth": 0,
             "ticks": ""
            },
            "type": "contourcarpet"
           }
          ],
          "heatmap": [
           {
            "colorbar": {
             "outlinewidth": 0,
             "ticks": ""
            },
            "colorscale": [
             [
              0,
              "#0d0887"
             ],
             [
              0.1111111111111111,
              "#46039f"
             ],
             [
              0.2222222222222222,
              "#7201a8"
             ],
             [
              0.3333333333333333,
              "#9c179e"
             ],
             [
              0.4444444444444444,
              "#bd3786"
             ],
             [
              0.5555555555555556,
              "#d8576b"
             ],
             [
              0.6666666666666666,
              "#ed7953"
             ],
             [
              0.7777777777777778,
              "#fb9f3a"
             ],
             [
              0.8888888888888888,
              "#fdca26"
             ],
             [
              1,
              "#f0f921"
             ]
            ],
            "type": "heatmap"
           }
          ],
          "heatmapgl": [
           {
            "colorbar": {
             "outlinewidth": 0,
             "ticks": ""
            },
            "colorscale": [
             [
              0,
              "#0d0887"
             ],
             [
              0.1111111111111111,
              "#46039f"
             ],
             [
              0.2222222222222222,
              "#7201a8"
             ],
             [
              0.3333333333333333,
              "#9c179e"
             ],
             [
              0.4444444444444444,
              "#bd3786"
             ],
             [
              0.5555555555555556,
              "#d8576b"
             ],
             [
              0.6666666666666666,
              "#ed7953"
             ],
             [
              0.7777777777777778,
              "#fb9f3a"
             ],
             [
              0.8888888888888888,
              "#fdca26"
             ],
             [
              1,
              "#f0f921"
             ]
            ],
            "type": "heatmapgl"
           }
          ],
          "histogram": [
           {
            "marker": {
             "pattern": {
              "fillmode": "overlay",
              "size": 10,
              "solidity": 0.2
             }
            },
            "type": "histogram"
           }
          ],
          "histogram2d": [
           {
            "colorbar": {
             "outlinewidth": 0,
             "ticks": ""
            },
            "colorscale": [
             [
              0,
              "#0d0887"
             ],
             [
              0.1111111111111111,
              "#46039f"
             ],
             [
              0.2222222222222222,
              "#7201a8"
             ],
             [
              0.3333333333333333,
              "#9c179e"
             ],
             [
              0.4444444444444444,
              "#bd3786"
             ],
             [
              0.5555555555555556,
              "#d8576b"
             ],
             [
              0.6666666666666666,
              "#ed7953"
             ],
             [
              0.7777777777777778,
              "#fb9f3a"
             ],
             [
              0.8888888888888888,
              "#fdca26"
             ],
             [
              1,
              "#f0f921"
             ]
            ],
            "type": "histogram2d"
           }
          ],
          "histogram2dcontour": [
           {
            "colorbar": {
             "outlinewidth": 0,
             "ticks": ""
            },
            "colorscale": [
             [
              0,
              "#0d0887"
             ],
             [
              0.1111111111111111,
              "#46039f"
             ],
             [
              0.2222222222222222,
              "#7201a8"
             ],
             [
              0.3333333333333333,
              "#9c179e"
             ],
             [
              0.4444444444444444,
              "#bd3786"
             ],
             [
              0.5555555555555556,
              "#d8576b"
             ],
             [
              0.6666666666666666,
              "#ed7953"
             ],
             [
              0.7777777777777778,
              "#fb9f3a"
             ],
             [
              0.8888888888888888,
              "#fdca26"
             ],
             [
              1,
              "#f0f921"
             ]
            ],
            "type": "histogram2dcontour"
           }
          ],
          "mesh3d": [
           {
            "colorbar": {
             "outlinewidth": 0,
             "ticks": ""
            },
            "type": "mesh3d"
           }
          ],
          "parcoords": [
           {
            "line": {
             "colorbar": {
              "outlinewidth": 0,
              "ticks": ""
             }
            },
            "type": "parcoords"
           }
          ],
          "pie": [
           {
            "automargin": true,
            "type": "pie"
           }
          ],
          "scatter": [
           {
            "fillpattern": {
             "fillmode": "overlay",
             "size": 10,
             "solidity": 0.2
            },
            "type": "scatter"
           }
          ],
          "scatter3d": [
           {
            "line": {
             "colorbar": {
              "outlinewidth": 0,
              "ticks": ""
             }
            },
            "marker": {
             "colorbar": {
              "outlinewidth": 0,
              "ticks": ""
             }
            },
            "type": "scatter3d"
           }
          ],
          "scattercarpet": [
           {
            "marker": {
             "colorbar": {
              "outlinewidth": 0,
              "ticks": ""
             }
            },
            "type": "scattercarpet"
           }
          ],
          "scattergeo": [
           {
            "marker": {
             "colorbar": {
              "outlinewidth": 0,
              "ticks": ""
             }
            },
            "type": "scattergeo"
           }
          ],
          "scattergl": [
           {
            "marker": {
             "colorbar": {
              "outlinewidth": 0,
              "ticks": ""
             }
            },
            "type": "scattergl"
           }
          ],
          "scattermapbox": [
           {
            "marker": {
             "colorbar": {
              "outlinewidth": 0,
              "ticks": ""
             }
            },
            "type": "scattermapbox"
           }
          ],
          "scatterpolar": [
           {
            "marker": {
             "colorbar": {
              "outlinewidth": 0,
              "ticks": ""
             }
            },
            "type": "scatterpolar"
           }
          ],
          "scatterpolargl": [
           {
            "marker": {
             "colorbar": {
              "outlinewidth": 0,
              "ticks": ""
             }
            },
            "type": "scatterpolargl"
           }
          ],
          "scatterternary": [
           {
            "marker": {
             "colorbar": {
              "outlinewidth": 0,
              "ticks": ""
             }
            },
            "type": "scatterternary"
           }
          ],
          "surface": [
           {
            "colorbar": {
             "outlinewidth": 0,
             "ticks": ""
            },
            "colorscale": [
             [
              0,
              "#0d0887"
             ],
             [
              0.1111111111111111,
              "#46039f"
             ],
             [
              0.2222222222222222,
              "#7201a8"
             ],
             [
              0.3333333333333333,
              "#9c179e"
             ],
             [
              0.4444444444444444,
              "#bd3786"
             ],
             [
              0.5555555555555556,
              "#d8576b"
             ],
             [
              0.6666666666666666,
              "#ed7953"
             ],
             [
              0.7777777777777778,
              "#fb9f3a"
             ],
             [
              0.8888888888888888,
              "#fdca26"
             ],
             [
              1,
              "#f0f921"
             ]
            ],
            "type": "surface"
           }
          ],
          "table": [
           {
            "cells": {
             "fill": {
              "color": "#EBF0F8"
             },
             "line": {
              "color": "white"
             }
            },
            "header": {
             "fill": {
              "color": "#C8D4E3"
             },
             "line": {
              "color": "white"
             }
            },
            "type": "table"
           }
          ]
         },
         "layout": {
          "annotationdefaults": {
           "arrowcolor": "#2a3f5f",
           "arrowhead": 0,
           "arrowwidth": 1
          },
          "autotypenumbers": "strict",
          "coloraxis": {
           "colorbar": {
            "outlinewidth": 0,
            "ticks": ""
           }
          },
          "colorscale": {
           "diverging": [
            [
             0,
             "#8e0152"
            ],
            [
             0.1,
             "#c51b7d"
            ],
            [
             0.2,
             "#de77ae"
            ],
            [
             0.3,
             "#f1b6da"
            ],
            [
             0.4,
             "#fde0ef"
            ],
            [
             0.5,
             "#f7f7f7"
            ],
            [
             0.6,
             "#e6f5d0"
            ],
            [
             0.7,
             "#b8e186"
            ],
            [
             0.8,
             "#7fbc41"
            ],
            [
             0.9,
             "#4d9221"
            ],
            [
             1,
             "#276419"
            ]
           ],
           "sequential": [
            [
             0,
             "#0d0887"
            ],
            [
             0.1111111111111111,
             "#46039f"
            ],
            [
             0.2222222222222222,
             "#7201a8"
            ],
            [
             0.3333333333333333,
             "#9c179e"
            ],
            [
             0.4444444444444444,
             "#bd3786"
            ],
            [
             0.5555555555555556,
             "#d8576b"
            ],
            [
             0.6666666666666666,
             "#ed7953"
            ],
            [
             0.7777777777777778,
             "#fb9f3a"
            ],
            [
             0.8888888888888888,
             "#fdca26"
            ],
            [
             1,
             "#f0f921"
            ]
           ],
           "sequentialminus": [
            [
             0,
             "#0d0887"
            ],
            [
             0.1111111111111111,
             "#46039f"
            ],
            [
             0.2222222222222222,
             "#7201a8"
            ],
            [
             0.3333333333333333,
             "#9c179e"
            ],
            [
             0.4444444444444444,
             "#bd3786"
            ],
            [
             0.5555555555555556,
             "#d8576b"
            ],
            [
             0.6666666666666666,
             "#ed7953"
            ],
            [
             0.7777777777777778,
             "#fb9f3a"
            ],
            [
             0.8888888888888888,
             "#fdca26"
            ],
            [
             1,
             "#f0f921"
            ]
           ]
          },
          "colorway": [
           "#636efa",
           "#EF553B",
           "#00cc96",
           "#ab63fa",
           "#FFA15A",
           "#19d3f3",
           "#FF6692",
           "#B6E880",
           "#FF97FF",
           "#FECB52"
          ],
          "font": {
           "color": "#2a3f5f"
          },
          "geo": {
           "bgcolor": "white",
           "lakecolor": "white",
           "landcolor": "#E5ECF6",
           "showlakes": true,
           "showland": true,
           "subunitcolor": "white"
          },
          "hoverlabel": {
           "align": "left"
          },
          "hovermode": "closest",
          "mapbox": {
           "style": "light"
          },
          "paper_bgcolor": "white",
          "plot_bgcolor": "#E5ECF6",
          "polar": {
           "angularaxis": {
            "gridcolor": "white",
            "linecolor": "white",
            "ticks": ""
           },
           "bgcolor": "#E5ECF6",
           "radialaxis": {
            "gridcolor": "white",
            "linecolor": "white",
            "ticks": ""
           }
          },
          "scene": {
           "xaxis": {
            "backgroundcolor": "#E5ECF6",
            "gridcolor": "white",
            "gridwidth": 2,
            "linecolor": "white",
            "showbackground": true,
            "ticks": "",
            "zerolinecolor": "white"
           },
           "yaxis": {
            "backgroundcolor": "#E5ECF6",
            "gridcolor": "white",
            "gridwidth": 2,
            "linecolor": "white",
            "showbackground": true,
            "ticks": "",
            "zerolinecolor": "white"
           },
           "zaxis": {
            "backgroundcolor": "#E5ECF6",
            "gridcolor": "white",
            "gridwidth": 2,
            "linecolor": "white",
            "showbackground": true,
            "ticks": "",
            "zerolinecolor": "white"
           }
          },
          "shapedefaults": {
           "line": {
            "color": "#2a3f5f"
           }
          },
          "ternary": {
           "aaxis": {
            "gridcolor": "white",
            "linecolor": "white",
            "ticks": ""
           },
           "baxis": {
            "gridcolor": "white",
            "linecolor": "white",
            "ticks": ""
           },
           "bgcolor": "#E5ECF6",
           "caxis": {
            "gridcolor": "white",
            "linecolor": "white",
            "ticks": ""
           }
          },
          "title": {
           "x": 0.05
          },
          "xaxis": {
           "automargin": true,
           "gridcolor": "white",
           "linecolor": "white",
           "ticks": "",
           "title": {
            "standoff": 15
           },
           "zerolinecolor": "white",
           "zerolinewidth": 2
          },
          "yaxis": {
           "automargin": true,
           "gridcolor": "white",
           "linecolor": "white",
           "ticks": "",
           "title": {
            "standoff": 15
           },
           "zerolinecolor": "white",
           "zerolinewidth": 2
          }
         }
        },
        "title": {
         "text": "Impact of UMAP on raw and standardized datasets (Time)"
        },
        "xaxis": {
         "title": {
          "text": "Dataset"
         }
        },
        "yaxis": {
         "title": {
          "text": "Accuracy (best classifier)"
         }
        }
       }
      }
     },
     "metadata": {},
     "output_type": "display_data"
    }
   ],
   "source": [
    "experiment_uniq = [c for c in unique_exp_columns if c not in [\"train_datasets\", \"view\"]]\n",
    "\n",
    "df = results.copy()\n",
    "df = filter_domain_time_only(df)\n",
    "df = filter_features_all(df)\n",
    "df = filter_reducer_over_all(df)\n",
    "df = filter_scaler_none(df)\n",
    "df = filter_only_reducer_dataset_equals_train_dataset_or_no_reducer(df)\n",
    "\n",
    "raw_df = filter_view_raw(df.copy())\n",
    "standartized_df = filter_view_standardized_balanced(df.copy())\n",
    "\n",
    "# for view in [\"raw_balanced\", \"standardized_balanced\"]:\n",
    "\n",
    "fig = go.Figure()\n",
    "xs = datasets\n",
    "no_umap_ys = []\n",
    "umap_ys = []\n",
    "for dset in datasets:\n",
    "    # Filter raw dsets only\n",
    "    best_acc = raw_df.loc[(raw_df[\"train_datasets\"] == dset) & (raw_df[\"umap components\"] == 0), \"accuracy (mean)\"]\n",
    "    no_umap_ys.append(best_acc.sort_values().iloc[-1])\n",
    "    \n",
    "    best_acc = raw_df.loc[(raw_df[\"train_datasets\"] == dset) & (raw_df[\"umap components\"] > 0), \"accuracy (mean)\"]\n",
    "    umap_ys.append(best_acc.sort_values().iloc[-1])\n",
    "    \n",
    "fig.add_trace(\n",
    "    go.Bar(\n",
    "        x=xs,\n",
    "        y=no_umap_ys,\n",
    "        name=\"Raw (no umap)\",\n",
    "        marker=dict(color=px.colors.sequential.Plotly3[0]),\n",
    "        legendgroup=\"Raw (no umap)\",\n",
    "    )\n",
    ")\n",
    "    \n",
    "fig.add_trace(\n",
    "    go.Bar(\n",
    "        x=xs,\n",
    "        y=umap_ys,\n",
    "        name=\"Raw (umap)\",\n",
    "        marker=dict(color=px.colors.sequential.Plotly3[3]),\n",
    "        legendgroup=\"Raw (best umap)\",\n",
    "    )\n",
    ")\n",
    "\n",
    "no_umap_ys = []\n",
    "umap_ys = []\n",
    "for dset in datasets:\n",
    "    # Filter raw dsets only\n",
    "    best_acc = standartized_df.loc[(standartized_df[\"train_datasets\"] == dset) & (standartized_df[\"umap components\"] == 0), \"accuracy (mean)\"]\n",
    "    no_umap_ys.append(best_acc.sort_values().iloc[-1])\n",
    "    \n",
    "    best_acc = standartized_df.loc[(standartized_df[\"train_datasets\"] == dset) & (standartized_df[\"umap components\"] > 0), \"accuracy (mean)\"]\n",
    "    umap_ys.append(best_acc.sort_values().iloc[-1])\n",
    "    \n",
    "fig.add_trace(\n",
    "    go.Bar(\n",
    "        x=xs,\n",
    "        y=no_umap_ys,\n",
    "        name=\"Standardized (no umap)\",\n",
    "        marker=dict(color=px.colors.sequential.Plasma_r[1]),\n",
    "        legendgroup=\"Standardized (no umap)\",\n",
    "    )\n",
    ")\n",
    "    \n",
    "fig.add_trace(\n",
    "    go.Bar(\n",
    "        x=xs,\n",
    "        y=umap_ys,\n",
    "        name=\"Standardized (umap)\",\n",
    "        marker=dict(color=px.colors.sequential.Plasma_r[2]),\n",
    "        legendgroup=\"Standardized (best umap)\",\n",
    "    )\n",
    ")\n",
    "\n",
    "fig.update_layout(\n",
    "    title=\"Impact of UMAP on raw and standardized datasets (Time)\",\n",
    "    xaxis_title=\"Dataset\",\n",
    "    yaxis_title=\"Accuracy (best classifier)\",\n",
    ")\n",
    "\n",
    "fig.show()"
   ]
  },
  {
   "attachments": {},
   "cell_type": "markdown",
   "metadata": {},
   "source": [
    "## Pergunta 2\n",
    "\n",
    "Como a escolha do dataset no treinamento do UMAP afeta os resultados da tarefa?\n",
    "\n",
    "- Normalizar pelo melhor do dataset de teste\n",
    "- Marcador por dataset\n",
    "- Comparar MAE"
   ]
  },
  {
   "cell_type": "code",
   "execution_count": 49,
   "metadata": {},
   "outputs": [
    {
     "data": {
      "application/vnd.plotly.v1+json": {
       "config": {
        "plotlyServerURL": "https://plot.ly"
       },
       "data": [
        {
         "hovertext": [
          "motionsense (10 components)",
          "uci, wisdm (8 components)",
          "motionsense, uci (5 components)",
          "uci (10 components)",
          "wisdm (10 components)",
          "motionsense, wisdm (10 components)",
          "kuhar, wisdm (8 components)",
          "kuhar (5 components)",
          "kuhar, uci (9 components)",
          "kuhar, motionsense (6 components)"
         ],
         "marker": {
          "color": "#636EFA",
          "size": 10,
          "symbol": [
           "x",
           "x",
           "x",
           "x",
           "x",
           "x",
           "circle",
           "circle",
           "circle",
           "circle"
          ]
         },
         "name": "kuhar",
         "type": "scatter",
         "x": [
          0,
          1,
          2,
          3,
          4,
          5,
          6,
          7,
          8,
          9
         ],
         "y": [
          0.6041666666666667,
          0.6423611111111113,
          0.6666666666666667,
          0.6666666666666667,
          0.6805555555555556,
          0.7083333333333333,
          0.8354166666666668,
          0.8402777777777779,
          0.8402777777777779,
          0.8451388888888889
         ]
        },
        {
         "hovertext": [
          "kuhar (7 components)",
          "kuhar, uci (4 components)",
          "uci (9 components)",
          "kuhar, wisdm (7 components)",
          "uci, wisdm (7 components)",
          "wisdm (10 components)",
          "motionsense (5 components)",
          "kuhar, motionsense (10 components)",
          "motionsense, uci (6 components)",
          "motionsense, wisdm (7 components)"
         ],
         "marker": {
          "color": "#00CC96",
          "size": 10,
          "symbol": [
           "x",
           "x",
           "x",
           "x",
           "x",
           "x",
           "circle",
           "circle",
           "circle",
           "circle"
          ]
         },
         "name": "motionsense",
         "type": "scatter",
         "x": [
          0,
          1,
          2,
          3,
          4,
          5,
          6,
          7,
          8,
          9
         ],
         "y": [
          0.7430555555555556,
          0.7708333333333333,
          0.7888888888888889,
          0.8472222222222221,
          0.8520833333333334,
          0.8541666666666666,
          0.8958333333333334,
          0.8979166666666668,
          0.9041666666666666,
          0.9118055555555556
         ]
        },
        {
         "hovertext": [
          "motionsense (10 components)",
          "motionsense, wisdm (7 components)",
          "wisdm (6 components)",
          "kuhar, wisdm (6 components)",
          "kuhar, motionsense (6 components)",
          "kuhar (10 components)",
          "motionsense, uci (7 components)",
          "uci, wisdm (9 components)",
          "uci (10 components)",
          "kuhar, uci (9 components)"
         ],
         "marker": {
          "color": "#AB63FA",
          "size": 10,
          "symbol": [
           "x",
           "x",
           "x",
           "x",
           "x",
           "x",
           "circle",
           "circle",
           "circle",
           "circle"
          ]
         },
         "name": "uci",
         "type": "scatter",
         "x": [
          0,
          1,
          2,
          3,
          4,
          5,
          6,
          7,
          8,
          9
         ],
         "y": [
          0.6783333333333332,
          0.7249999999999999,
          0.7333333333333333,
          0.75,
          0.7558333333333334,
          0.7675000000000001,
          0.7916666666666667,
          0.7941666666666667,
          0.805,
          0.8166666666666667
         ]
        },
        {
         "hovertext": [
          "kuhar (5 components)",
          "uci (9 components)",
          "kuhar, uci (9 components)",
          "kuhar, motionsense (7 components)",
          "motionsense (3 components)",
          "motionsense, uci (7 components)",
          "wisdm (10 components)",
          "uci, wisdm (7 components)",
          "kuhar, wisdm (7 components)",
          "motionsense, wisdm (5 components)"
         ],
         "marker": {
          "color": "#FFA15A",
          "size": 10,
          "symbol": [
           "x",
           "x",
           "x",
           "x",
           "x",
           "x",
           "circle",
           "circle",
           "circle",
           "circle"
          ]
         },
         "name": "wisdm",
         "type": "scatter",
         "x": [
          0,
          1,
          2,
          3,
          4,
          5,
          6,
          7,
          8,
          9
         ],
         "y": [
          0.7333333333333333,
          0.7491666666666668,
          0.7783333333333333,
          0.825,
          0.825,
          0.8424999999999999,
          0.8424999999999999,
          0.8566666666666667,
          0.875,
          0.8833333333333332
         ]
        },
        {
         "hovertext": [],
         "marker": {
          "color": "#19D3F3",
          "size": 10,
          "symbol": []
         },
         "name": "realworld",
         "type": "scatter",
         "x": [],
         "y": []
        }
       ],
       "layout": {
        "legend": {
         "title": {
          "text": "Train/Test dataset"
         }
        },
        "template": {
         "data": {
          "bar": [
           {
            "error_x": {
             "color": "#2a3f5f"
            },
            "error_y": {
             "color": "#2a3f5f"
            },
            "marker": {
             "line": {
              "color": "#E5ECF6",
              "width": 0.5
             },
             "pattern": {
              "fillmode": "overlay",
              "size": 10,
              "solidity": 0.2
             }
            },
            "type": "bar"
           }
          ],
          "barpolar": [
           {
            "marker": {
             "line": {
              "color": "#E5ECF6",
              "width": 0.5
             },
             "pattern": {
              "fillmode": "overlay",
              "size": 10,
              "solidity": 0.2
             }
            },
            "type": "barpolar"
           }
          ],
          "carpet": [
           {
            "aaxis": {
             "endlinecolor": "#2a3f5f",
             "gridcolor": "white",
             "linecolor": "white",
             "minorgridcolor": "white",
             "startlinecolor": "#2a3f5f"
            },
            "baxis": {
             "endlinecolor": "#2a3f5f",
             "gridcolor": "white",
             "linecolor": "white",
             "minorgridcolor": "white",
             "startlinecolor": "#2a3f5f"
            },
            "type": "carpet"
           }
          ],
          "choropleth": [
           {
            "colorbar": {
             "outlinewidth": 0,
             "ticks": ""
            },
            "type": "choropleth"
           }
          ],
          "contour": [
           {
            "colorbar": {
             "outlinewidth": 0,
             "ticks": ""
            },
            "colorscale": [
             [
              0,
              "#0d0887"
             ],
             [
              0.1111111111111111,
              "#46039f"
             ],
             [
              0.2222222222222222,
              "#7201a8"
             ],
             [
              0.3333333333333333,
              "#9c179e"
             ],
             [
              0.4444444444444444,
              "#bd3786"
             ],
             [
              0.5555555555555556,
              "#d8576b"
             ],
             [
              0.6666666666666666,
              "#ed7953"
             ],
             [
              0.7777777777777778,
              "#fb9f3a"
             ],
             [
              0.8888888888888888,
              "#fdca26"
             ],
             [
              1,
              "#f0f921"
             ]
            ],
            "type": "contour"
           }
          ],
          "contourcarpet": [
           {
            "colorbar": {
             "outlinewidth": 0,
             "ticks": ""
            },
            "type": "contourcarpet"
           }
          ],
          "heatmap": [
           {
            "colorbar": {
             "outlinewidth": 0,
             "ticks": ""
            },
            "colorscale": [
             [
              0,
              "#0d0887"
             ],
             [
              0.1111111111111111,
              "#46039f"
             ],
             [
              0.2222222222222222,
              "#7201a8"
             ],
             [
              0.3333333333333333,
              "#9c179e"
             ],
             [
              0.4444444444444444,
              "#bd3786"
             ],
             [
              0.5555555555555556,
              "#d8576b"
             ],
             [
              0.6666666666666666,
              "#ed7953"
             ],
             [
              0.7777777777777778,
              "#fb9f3a"
             ],
             [
              0.8888888888888888,
              "#fdca26"
             ],
             [
              1,
              "#f0f921"
             ]
            ],
            "type": "heatmap"
           }
          ],
          "heatmapgl": [
           {
            "colorbar": {
             "outlinewidth": 0,
             "ticks": ""
            },
            "colorscale": [
             [
              0,
              "#0d0887"
             ],
             [
              0.1111111111111111,
              "#46039f"
             ],
             [
              0.2222222222222222,
              "#7201a8"
             ],
             [
              0.3333333333333333,
              "#9c179e"
             ],
             [
              0.4444444444444444,
              "#bd3786"
             ],
             [
              0.5555555555555556,
              "#d8576b"
             ],
             [
              0.6666666666666666,
              "#ed7953"
             ],
             [
              0.7777777777777778,
              "#fb9f3a"
             ],
             [
              0.8888888888888888,
              "#fdca26"
             ],
             [
              1,
              "#f0f921"
             ]
            ],
            "type": "heatmapgl"
           }
          ],
          "histogram": [
           {
            "marker": {
             "pattern": {
              "fillmode": "overlay",
              "size": 10,
              "solidity": 0.2
             }
            },
            "type": "histogram"
           }
          ],
          "histogram2d": [
           {
            "colorbar": {
             "outlinewidth": 0,
             "ticks": ""
            },
            "colorscale": [
             [
              0,
              "#0d0887"
             ],
             [
              0.1111111111111111,
              "#46039f"
             ],
             [
              0.2222222222222222,
              "#7201a8"
             ],
             [
              0.3333333333333333,
              "#9c179e"
             ],
             [
              0.4444444444444444,
              "#bd3786"
             ],
             [
              0.5555555555555556,
              "#d8576b"
             ],
             [
              0.6666666666666666,
              "#ed7953"
             ],
             [
              0.7777777777777778,
              "#fb9f3a"
             ],
             [
              0.8888888888888888,
              "#fdca26"
             ],
             [
              1,
              "#f0f921"
             ]
            ],
            "type": "histogram2d"
           }
          ],
          "histogram2dcontour": [
           {
            "colorbar": {
             "outlinewidth": 0,
             "ticks": ""
            },
            "colorscale": [
             [
              0,
              "#0d0887"
             ],
             [
              0.1111111111111111,
              "#46039f"
             ],
             [
              0.2222222222222222,
              "#7201a8"
             ],
             [
              0.3333333333333333,
              "#9c179e"
             ],
             [
              0.4444444444444444,
              "#bd3786"
             ],
             [
              0.5555555555555556,
              "#d8576b"
             ],
             [
              0.6666666666666666,
              "#ed7953"
             ],
             [
              0.7777777777777778,
              "#fb9f3a"
             ],
             [
              0.8888888888888888,
              "#fdca26"
             ],
             [
              1,
              "#f0f921"
             ]
            ],
            "type": "histogram2dcontour"
           }
          ],
          "mesh3d": [
           {
            "colorbar": {
             "outlinewidth": 0,
             "ticks": ""
            },
            "type": "mesh3d"
           }
          ],
          "parcoords": [
           {
            "line": {
             "colorbar": {
              "outlinewidth": 0,
              "ticks": ""
             }
            },
            "type": "parcoords"
           }
          ],
          "pie": [
           {
            "automargin": true,
            "type": "pie"
           }
          ],
          "scatter": [
           {
            "fillpattern": {
             "fillmode": "overlay",
             "size": 10,
             "solidity": 0.2
            },
            "type": "scatter"
           }
          ],
          "scatter3d": [
           {
            "line": {
             "colorbar": {
              "outlinewidth": 0,
              "ticks": ""
             }
            },
            "marker": {
             "colorbar": {
              "outlinewidth": 0,
              "ticks": ""
             }
            },
            "type": "scatter3d"
           }
          ],
          "scattercarpet": [
           {
            "marker": {
             "colorbar": {
              "outlinewidth": 0,
              "ticks": ""
             }
            },
            "type": "scattercarpet"
           }
          ],
          "scattergeo": [
           {
            "marker": {
             "colorbar": {
              "outlinewidth": 0,
              "ticks": ""
             }
            },
            "type": "scattergeo"
           }
          ],
          "scattergl": [
           {
            "marker": {
             "colorbar": {
              "outlinewidth": 0,
              "ticks": ""
             }
            },
            "type": "scattergl"
           }
          ],
          "scattermapbox": [
           {
            "marker": {
             "colorbar": {
              "outlinewidth": 0,
              "ticks": ""
             }
            },
            "type": "scattermapbox"
           }
          ],
          "scatterpolar": [
           {
            "marker": {
             "colorbar": {
              "outlinewidth": 0,
              "ticks": ""
             }
            },
            "type": "scatterpolar"
           }
          ],
          "scatterpolargl": [
           {
            "marker": {
             "colorbar": {
              "outlinewidth": 0,
              "ticks": ""
             }
            },
            "type": "scatterpolargl"
           }
          ],
          "scatterternary": [
           {
            "marker": {
             "colorbar": {
              "outlinewidth": 0,
              "ticks": ""
             }
            },
            "type": "scatterternary"
           }
          ],
          "surface": [
           {
            "colorbar": {
             "outlinewidth": 0,
             "ticks": ""
            },
            "colorscale": [
             [
              0,
              "#0d0887"
             ],
             [
              0.1111111111111111,
              "#46039f"
             ],
             [
              0.2222222222222222,
              "#7201a8"
             ],
             [
              0.3333333333333333,
              "#9c179e"
             ],
             [
              0.4444444444444444,
              "#bd3786"
             ],
             [
              0.5555555555555556,
              "#d8576b"
             ],
             [
              0.6666666666666666,
              "#ed7953"
             ],
             [
              0.7777777777777778,
              "#fb9f3a"
             ],
             [
              0.8888888888888888,
              "#fdca26"
             ],
             [
              1,
              "#f0f921"
             ]
            ],
            "type": "surface"
           }
          ],
          "table": [
           {
            "cells": {
             "fill": {
              "color": "#EBF0F8"
             },
             "line": {
              "color": "white"
             }
            },
            "header": {
             "fill": {
              "color": "#C8D4E3"
             },
             "line": {
              "color": "white"
             }
            },
            "type": "table"
           }
          ]
         },
         "layout": {
          "annotationdefaults": {
           "arrowcolor": "#2a3f5f",
           "arrowhead": 0,
           "arrowwidth": 1
          },
          "autotypenumbers": "strict",
          "coloraxis": {
           "colorbar": {
            "outlinewidth": 0,
            "ticks": ""
           }
          },
          "colorscale": {
           "diverging": [
            [
             0,
             "#8e0152"
            ],
            [
             0.1,
             "#c51b7d"
            ],
            [
             0.2,
             "#de77ae"
            ],
            [
             0.3,
             "#f1b6da"
            ],
            [
             0.4,
             "#fde0ef"
            ],
            [
             0.5,
             "#f7f7f7"
            ],
            [
             0.6,
             "#e6f5d0"
            ],
            [
             0.7,
             "#b8e186"
            ],
            [
             0.8,
             "#7fbc41"
            ],
            [
             0.9,
             "#4d9221"
            ],
            [
             1,
             "#276419"
            ]
           ],
           "sequential": [
            [
             0,
             "#0d0887"
            ],
            [
             0.1111111111111111,
             "#46039f"
            ],
            [
             0.2222222222222222,
             "#7201a8"
            ],
            [
             0.3333333333333333,
             "#9c179e"
            ],
            [
             0.4444444444444444,
             "#bd3786"
            ],
            [
             0.5555555555555556,
             "#d8576b"
            ],
            [
             0.6666666666666666,
             "#ed7953"
            ],
            [
             0.7777777777777778,
             "#fb9f3a"
            ],
            [
             0.8888888888888888,
             "#fdca26"
            ],
            [
             1,
             "#f0f921"
            ]
           ],
           "sequentialminus": [
            [
             0,
             "#0d0887"
            ],
            [
             0.1111111111111111,
             "#46039f"
            ],
            [
             0.2222222222222222,
             "#7201a8"
            ],
            [
             0.3333333333333333,
             "#9c179e"
            ],
            [
             0.4444444444444444,
             "#bd3786"
            ],
            [
             0.5555555555555556,
             "#d8576b"
            ],
            [
             0.6666666666666666,
             "#ed7953"
            ],
            [
             0.7777777777777778,
             "#fb9f3a"
            ],
            [
             0.8888888888888888,
             "#fdca26"
            ],
            [
             1,
             "#f0f921"
            ]
           ]
          },
          "colorway": [
           "#636efa",
           "#EF553B",
           "#00cc96",
           "#ab63fa",
           "#FFA15A",
           "#19d3f3",
           "#FF6692",
           "#B6E880",
           "#FF97FF",
           "#FECB52"
          ],
          "font": {
           "color": "#2a3f5f"
          },
          "geo": {
           "bgcolor": "white",
           "lakecolor": "white",
           "landcolor": "#E5ECF6",
           "showlakes": true,
           "showland": true,
           "subunitcolor": "white"
          },
          "hoverlabel": {
           "align": "left"
          },
          "hovermode": "closest",
          "mapbox": {
           "style": "light"
          },
          "paper_bgcolor": "white",
          "plot_bgcolor": "#E5ECF6",
          "polar": {
           "angularaxis": {
            "gridcolor": "white",
            "linecolor": "white",
            "ticks": ""
           },
           "bgcolor": "#E5ECF6",
           "radialaxis": {
            "gridcolor": "white",
            "linecolor": "white",
            "ticks": ""
           }
          },
          "scene": {
           "xaxis": {
            "backgroundcolor": "#E5ECF6",
            "gridcolor": "white",
            "gridwidth": 2,
            "linecolor": "white",
            "showbackground": true,
            "ticks": "",
            "zerolinecolor": "white"
           },
           "yaxis": {
            "backgroundcolor": "#E5ECF6",
            "gridcolor": "white",
            "gridwidth": 2,
            "linecolor": "white",
            "showbackground": true,
            "ticks": "",
            "zerolinecolor": "white"
           },
           "zaxis": {
            "backgroundcolor": "#E5ECF6",
            "gridcolor": "white",
            "gridwidth": 2,
            "linecolor": "white",
            "showbackground": true,
            "ticks": "",
            "zerolinecolor": "white"
           }
          },
          "shapedefaults": {
           "line": {
            "color": "#2a3f5f"
           }
          },
          "ternary": {
           "aaxis": {
            "gridcolor": "white",
            "linecolor": "white",
            "ticks": ""
           },
           "baxis": {
            "gridcolor": "white",
            "linecolor": "white",
            "ticks": ""
           },
           "bgcolor": "#E5ECF6",
           "caxis": {
            "gridcolor": "white",
            "linecolor": "white",
            "ticks": ""
           }
          },
          "title": {
           "x": 0.05
          },
          "xaxis": {
           "automargin": true,
           "gridcolor": "white",
           "linecolor": "white",
           "ticks": "",
           "title": {
            "standoff": 15
           },
           "zerolinecolor": "white",
           "zerolinewidth": 2
          },
          "yaxis": {
           "automargin": true,
           "gridcolor": "white",
           "linecolor": "white",
           "ticks": "",
           "title": {
            "standoff": 15
           },
           "zerolinecolor": "white",
           "zerolinewidth": 2
          }
         }
        },
        "title": {
         "text": "Using different datasets to train umap (train/test = same)<br>Circles = same dataset, X = different dataset"
        },
        "xaxis": {
         "title": {
          "text": "Number of experiments"
         }
        },
        "yaxis": {
         "title": {
          "text": "Accuracy (best classifier and umap <= 10 components)"
         }
        }
       }
      }
     },
     "metadata": {},
     "output_type": "display_data"
    }
   ],
   "source": [
    "df = results.copy()\n",
    "df = filter_domain_fft_only(df)\n",
    "df = filter_features_all(df)\n",
    "df = filter_reducer_over_all(df)\n",
    "df = filter_scaler_none(df)\n",
    "df = filter_view_standardized_inter_balanced(df)\n",
    "# df = pd.concat([filter_only_reducer_dataset_diferent_from_train(df), filter_only_reducer_dataset_equals_train_dataset(df)])\n",
    "# df = filter_only_reducer_dataset_diferent_from_train(df)\n",
    "df = filter_same_train_test(df)\n",
    "df = df[(df[\"umap components\"] > 0) & (df[\"umap components\"] <= 10)]\n",
    "df = best_of_each_estimator_and_umap(df)\n",
    "\n",
    "fig = go.Figure()\n",
    "\n",
    "for i, dset in enumerate(datasets):\n",
    "    x = df[df[\"train_datasets\"] == dset].sort_values(by=\"accuracy (mean)\")\n",
    "    xs = list(range(len(x)))\n",
    "    ys = []\n",
    "    the_markers = []\n",
    "    names = []\n",
    "    for row_idx, row in x.iterrows():\n",
    "        ys.append(row[\"accuracy (mean)\"])\n",
    "        the_markers.append(\"circle\" if dset in row[\"reducer_datasets\"] else \"x\")\n",
    "        name = f'{row[\"reducer_datasets\"]} ({row[\"umap components\"]} components)'\n",
    "        names.append(name)\n",
    "        \n",
    "    fig.add_trace(\n",
    "        go.Scatter(\n",
    "            x=xs,\n",
    "            y=ys,\n",
    "            marker=dict(\n",
    "                symbol=the_markers,\n",
    "                size=10,\n",
    "                color=colors[i]\n",
    "            ),\n",
    "            hovertext=names,\n",
    "            name=dset,\n",
    "        )\n",
    "    )\n",
    "    \n",
    "fig.update_layout(\n",
    "    title=\"Using different datasets to train umap (train/test = same)<br>Circles = same dataset, X = different dataset\",\n",
    "    xaxis_title=\"Number of experiments\",\n",
    "    yaxis_title=\"Accuracy (best classifier and umap <= 10 components)\",\n",
    "    legend_title=\"Train/Test dataset\",\n",
    ")\n",
    "\n",
    "fig.show()"
   ]
  },
  {
   "cell_type": "code",
   "execution_count": 50,
   "metadata": {},
   "outputs": [
    {
     "data": {
      "application/vnd.plotly.v1+json": {
       "config": {
        "plotlyServerURL": "https://plot.ly"
       },
       "data": [
        {
         "coloraxis": "coloraxis",
         "hovertemplate": "x: %{x}<br>y: %{y}<br>color: %{z}<extra></extra>",
         "name": "0",
         "texttemplate": "%{z}",
         "type": "heatmap",
         "x": [
          "kuhar",
          "kuhar, motionsense",
          "kuhar, uci",
          "kuhar, wisdm",
          "motionsense",
          "motionsense, uci",
          "motionsense, wisdm",
          "uci",
          "uci, wisdm",
          "wisdm"
         ],
         "xaxis": "x",
         "y": [
          "kuhar",
          "motionsense",
          "uci",
          "wisdm"
         ],
         "yaxis": "y",
         "z": [
          [
           0.8402777777777779,
           0.8451388888888889,
           0.8402777777777779,
           0.8354166666666668,
           0.6041666666666667,
           0.6666666666666667,
           0.7083333333333333,
           0.6666666666666667,
           0.6423611111111113,
           0.6805555555555556
          ],
          [
           0.7430555555555556,
           0.8979166666666668,
           0.7708333333333333,
           0.8472222222222221,
           0.8958333333333334,
           0.9041666666666666,
           0.9118055555555556,
           0.7888888888888889,
           0.8520833333333334,
           0.8541666666666666
          ],
          [
           0.7675000000000001,
           0.7558333333333334,
           0.8166666666666667,
           0.75,
           0.6783333333333332,
           0.7916666666666667,
           0.7249999999999999,
           0.805,
           0.7941666666666667,
           0.7333333333333333
          ],
          [
           0.7333333333333333,
           0.825,
           0.7783333333333333,
           0.875,
           0.825,
           0.8424999999999999,
           0.8833333333333332,
           0.7491666666666668,
           0.8566666666666667,
           0.8424999999999999
          ]
         ]
        }
       ],
       "layout": {
        "coloraxis": {
         "colorscale": [
          [
           0,
           "#0d0887"
          ],
          [
           0.1111111111111111,
           "#46039f"
          ],
          [
           0.2222222222222222,
           "#7201a8"
          ],
          [
           0.3333333333333333,
           "#9c179e"
          ],
          [
           0.4444444444444444,
           "#bd3786"
          ],
          [
           0.5555555555555556,
           "#d8576b"
          ],
          [
           0.6666666666666666,
           "#ed7953"
          ],
          [
           0.7777777777777778,
           "#fb9f3a"
          ],
          [
           0.8888888888888888,
           "#fdca26"
          ],
          [
           1,
           "#f0f921"
          ]
         ]
        },
        "margin": {
         "t": 60
        },
        "template": {
         "data": {
          "bar": [
           {
            "error_x": {
             "color": "#2a3f5f"
            },
            "error_y": {
             "color": "#2a3f5f"
            },
            "marker": {
             "line": {
              "color": "#E5ECF6",
              "width": 0.5
             },
             "pattern": {
              "fillmode": "overlay",
              "size": 10,
              "solidity": 0.2
             }
            },
            "type": "bar"
           }
          ],
          "barpolar": [
           {
            "marker": {
             "line": {
              "color": "#E5ECF6",
              "width": 0.5
             },
             "pattern": {
              "fillmode": "overlay",
              "size": 10,
              "solidity": 0.2
             }
            },
            "type": "barpolar"
           }
          ],
          "carpet": [
           {
            "aaxis": {
             "endlinecolor": "#2a3f5f",
             "gridcolor": "white",
             "linecolor": "white",
             "minorgridcolor": "white",
             "startlinecolor": "#2a3f5f"
            },
            "baxis": {
             "endlinecolor": "#2a3f5f",
             "gridcolor": "white",
             "linecolor": "white",
             "minorgridcolor": "white",
             "startlinecolor": "#2a3f5f"
            },
            "type": "carpet"
           }
          ],
          "choropleth": [
           {
            "colorbar": {
             "outlinewidth": 0,
             "ticks": ""
            },
            "type": "choropleth"
           }
          ],
          "contour": [
           {
            "colorbar": {
             "outlinewidth": 0,
             "ticks": ""
            },
            "colorscale": [
             [
              0,
              "#0d0887"
             ],
             [
              0.1111111111111111,
              "#46039f"
             ],
             [
              0.2222222222222222,
              "#7201a8"
             ],
             [
              0.3333333333333333,
              "#9c179e"
             ],
             [
              0.4444444444444444,
              "#bd3786"
             ],
             [
              0.5555555555555556,
              "#d8576b"
             ],
             [
              0.6666666666666666,
              "#ed7953"
             ],
             [
              0.7777777777777778,
              "#fb9f3a"
             ],
             [
              0.8888888888888888,
              "#fdca26"
             ],
             [
              1,
              "#f0f921"
             ]
            ],
            "type": "contour"
           }
          ],
          "contourcarpet": [
           {
            "colorbar": {
             "outlinewidth": 0,
             "ticks": ""
            },
            "type": "contourcarpet"
           }
          ],
          "heatmap": [
           {
            "colorbar": {
             "outlinewidth": 0,
             "ticks": ""
            },
            "colorscale": [
             [
              0,
              "#0d0887"
             ],
             [
              0.1111111111111111,
              "#46039f"
             ],
             [
              0.2222222222222222,
              "#7201a8"
             ],
             [
              0.3333333333333333,
              "#9c179e"
             ],
             [
              0.4444444444444444,
              "#bd3786"
             ],
             [
              0.5555555555555556,
              "#d8576b"
             ],
             [
              0.6666666666666666,
              "#ed7953"
             ],
             [
              0.7777777777777778,
              "#fb9f3a"
             ],
             [
              0.8888888888888888,
              "#fdca26"
             ],
             [
              1,
              "#f0f921"
             ]
            ],
            "type": "heatmap"
           }
          ],
          "heatmapgl": [
           {
            "colorbar": {
             "outlinewidth": 0,
             "ticks": ""
            },
            "colorscale": [
             [
              0,
              "#0d0887"
             ],
             [
              0.1111111111111111,
              "#46039f"
             ],
             [
              0.2222222222222222,
              "#7201a8"
             ],
             [
              0.3333333333333333,
              "#9c179e"
             ],
             [
              0.4444444444444444,
              "#bd3786"
             ],
             [
              0.5555555555555556,
              "#d8576b"
             ],
             [
              0.6666666666666666,
              "#ed7953"
             ],
             [
              0.7777777777777778,
              "#fb9f3a"
             ],
             [
              0.8888888888888888,
              "#fdca26"
             ],
             [
              1,
              "#f0f921"
             ]
            ],
            "type": "heatmapgl"
           }
          ],
          "histogram": [
           {
            "marker": {
             "pattern": {
              "fillmode": "overlay",
              "size": 10,
              "solidity": 0.2
             }
            },
            "type": "histogram"
           }
          ],
          "histogram2d": [
           {
            "colorbar": {
             "outlinewidth": 0,
             "ticks": ""
            },
            "colorscale": [
             [
              0,
              "#0d0887"
             ],
             [
              0.1111111111111111,
              "#46039f"
             ],
             [
              0.2222222222222222,
              "#7201a8"
             ],
             [
              0.3333333333333333,
              "#9c179e"
             ],
             [
              0.4444444444444444,
              "#bd3786"
             ],
             [
              0.5555555555555556,
              "#d8576b"
             ],
             [
              0.6666666666666666,
              "#ed7953"
             ],
             [
              0.7777777777777778,
              "#fb9f3a"
             ],
             [
              0.8888888888888888,
              "#fdca26"
             ],
             [
              1,
              "#f0f921"
             ]
            ],
            "type": "histogram2d"
           }
          ],
          "histogram2dcontour": [
           {
            "colorbar": {
             "outlinewidth": 0,
             "ticks": ""
            },
            "colorscale": [
             [
              0,
              "#0d0887"
             ],
             [
              0.1111111111111111,
              "#46039f"
             ],
             [
              0.2222222222222222,
              "#7201a8"
             ],
             [
              0.3333333333333333,
              "#9c179e"
             ],
             [
              0.4444444444444444,
              "#bd3786"
             ],
             [
              0.5555555555555556,
              "#d8576b"
             ],
             [
              0.6666666666666666,
              "#ed7953"
             ],
             [
              0.7777777777777778,
              "#fb9f3a"
             ],
             [
              0.8888888888888888,
              "#fdca26"
             ],
             [
              1,
              "#f0f921"
             ]
            ],
            "type": "histogram2dcontour"
           }
          ],
          "mesh3d": [
           {
            "colorbar": {
             "outlinewidth": 0,
             "ticks": ""
            },
            "type": "mesh3d"
           }
          ],
          "parcoords": [
           {
            "line": {
             "colorbar": {
              "outlinewidth": 0,
              "ticks": ""
             }
            },
            "type": "parcoords"
           }
          ],
          "pie": [
           {
            "automargin": true,
            "type": "pie"
           }
          ],
          "scatter": [
           {
            "fillpattern": {
             "fillmode": "overlay",
             "size": 10,
             "solidity": 0.2
            },
            "type": "scatter"
           }
          ],
          "scatter3d": [
           {
            "line": {
             "colorbar": {
              "outlinewidth": 0,
              "ticks": ""
             }
            },
            "marker": {
             "colorbar": {
              "outlinewidth": 0,
              "ticks": ""
             }
            },
            "type": "scatter3d"
           }
          ],
          "scattercarpet": [
           {
            "marker": {
             "colorbar": {
              "outlinewidth": 0,
              "ticks": ""
             }
            },
            "type": "scattercarpet"
           }
          ],
          "scattergeo": [
           {
            "marker": {
             "colorbar": {
              "outlinewidth": 0,
              "ticks": ""
             }
            },
            "type": "scattergeo"
           }
          ],
          "scattergl": [
           {
            "marker": {
             "colorbar": {
              "outlinewidth": 0,
              "ticks": ""
             }
            },
            "type": "scattergl"
           }
          ],
          "scattermapbox": [
           {
            "marker": {
             "colorbar": {
              "outlinewidth": 0,
              "ticks": ""
             }
            },
            "type": "scattermapbox"
           }
          ],
          "scatterpolar": [
           {
            "marker": {
             "colorbar": {
              "outlinewidth": 0,
              "ticks": ""
             }
            },
            "type": "scatterpolar"
           }
          ],
          "scatterpolargl": [
           {
            "marker": {
             "colorbar": {
              "outlinewidth": 0,
              "ticks": ""
             }
            },
            "type": "scatterpolargl"
           }
          ],
          "scatterternary": [
           {
            "marker": {
             "colorbar": {
              "outlinewidth": 0,
              "ticks": ""
             }
            },
            "type": "scatterternary"
           }
          ],
          "surface": [
           {
            "colorbar": {
             "outlinewidth": 0,
             "ticks": ""
            },
            "colorscale": [
             [
              0,
              "#0d0887"
             ],
             [
              0.1111111111111111,
              "#46039f"
             ],
             [
              0.2222222222222222,
              "#7201a8"
             ],
             [
              0.3333333333333333,
              "#9c179e"
             ],
             [
              0.4444444444444444,
              "#bd3786"
             ],
             [
              0.5555555555555556,
              "#d8576b"
             ],
             [
              0.6666666666666666,
              "#ed7953"
             ],
             [
              0.7777777777777778,
              "#fb9f3a"
             ],
             [
              0.8888888888888888,
              "#fdca26"
             ],
             [
              1,
              "#f0f921"
             ]
            ],
            "type": "surface"
           }
          ],
          "table": [
           {
            "cells": {
             "fill": {
              "color": "#EBF0F8"
             },
             "line": {
              "color": "white"
             }
            },
            "header": {
             "fill": {
              "color": "#C8D4E3"
             },
             "line": {
              "color": "white"
             }
            },
            "type": "table"
           }
          ]
         },
         "layout": {
          "annotationdefaults": {
           "arrowcolor": "#2a3f5f",
           "arrowhead": 0,
           "arrowwidth": 1
          },
          "autotypenumbers": "strict",
          "coloraxis": {
           "colorbar": {
            "outlinewidth": 0,
            "ticks": ""
           }
          },
          "colorscale": {
           "diverging": [
            [
             0,
             "#8e0152"
            ],
            [
             0.1,
             "#c51b7d"
            ],
            [
             0.2,
             "#de77ae"
            ],
            [
             0.3,
             "#f1b6da"
            ],
            [
             0.4,
             "#fde0ef"
            ],
            [
             0.5,
             "#f7f7f7"
            ],
            [
             0.6,
             "#e6f5d0"
            ],
            [
             0.7,
             "#b8e186"
            ],
            [
             0.8,
             "#7fbc41"
            ],
            [
             0.9,
             "#4d9221"
            ],
            [
             1,
             "#276419"
            ]
           ],
           "sequential": [
            [
             0,
             "#0d0887"
            ],
            [
             0.1111111111111111,
             "#46039f"
            ],
            [
             0.2222222222222222,
             "#7201a8"
            ],
            [
             0.3333333333333333,
             "#9c179e"
            ],
            [
             0.4444444444444444,
             "#bd3786"
            ],
            [
             0.5555555555555556,
             "#d8576b"
            ],
            [
             0.6666666666666666,
             "#ed7953"
            ],
            [
             0.7777777777777778,
             "#fb9f3a"
            ],
            [
             0.8888888888888888,
             "#fdca26"
            ],
            [
             1,
             "#f0f921"
            ]
           ],
           "sequentialminus": [
            [
             0,
             "#0d0887"
            ],
            [
             0.1111111111111111,
             "#46039f"
            ],
            [
             0.2222222222222222,
             "#7201a8"
            ],
            [
             0.3333333333333333,
             "#9c179e"
            ],
            [
             0.4444444444444444,
             "#bd3786"
            ],
            [
             0.5555555555555556,
             "#d8576b"
            ],
            [
             0.6666666666666666,
             "#ed7953"
            ],
            [
             0.7777777777777778,
             "#fb9f3a"
            ],
            [
             0.8888888888888888,
             "#fdca26"
            ],
            [
             1,
             "#f0f921"
            ]
           ]
          },
          "colorway": [
           "#636efa",
           "#EF553B",
           "#00cc96",
           "#ab63fa",
           "#FFA15A",
           "#19d3f3",
           "#FF6692",
           "#B6E880",
           "#FF97FF",
           "#FECB52"
          ],
          "font": {
           "color": "#2a3f5f"
          },
          "geo": {
           "bgcolor": "white",
           "lakecolor": "white",
           "landcolor": "#E5ECF6",
           "showlakes": true,
           "showland": true,
           "subunitcolor": "white"
          },
          "hoverlabel": {
           "align": "left"
          },
          "hovermode": "closest",
          "mapbox": {
           "style": "light"
          },
          "paper_bgcolor": "white",
          "plot_bgcolor": "#E5ECF6",
          "polar": {
           "angularaxis": {
            "gridcolor": "white",
            "linecolor": "white",
            "ticks": ""
           },
           "bgcolor": "#E5ECF6",
           "radialaxis": {
            "gridcolor": "white",
            "linecolor": "white",
            "ticks": ""
           }
          },
          "scene": {
           "xaxis": {
            "backgroundcolor": "#E5ECF6",
            "gridcolor": "white",
            "gridwidth": 2,
            "linecolor": "white",
            "showbackground": true,
            "ticks": "",
            "zerolinecolor": "white"
           },
           "yaxis": {
            "backgroundcolor": "#E5ECF6",
            "gridcolor": "white",
            "gridwidth": 2,
            "linecolor": "white",
            "showbackground": true,
            "ticks": "",
            "zerolinecolor": "white"
           },
           "zaxis": {
            "backgroundcolor": "#E5ECF6",
            "gridcolor": "white",
            "gridwidth": 2,
            "linecolor": "white",
            "showbackground": true,
            "ticks": "",
            "zerolinecolor": "white"
           }
          },
          "shapedefaults": {
           "line": {
            "color": "#2a3f5f"
           }
          },
          "ternary": {
           "aaxis": {
            "gridcolor": "white",
            "linecolor": "white",
            "ticks": ""
           },
           "baxis": {
            "gridcolor": "white",
            "linecolor": "white",
            "ticks": ""
           },
           "bgcolor": "#E5ECF6",
           "caxis": {
            "gridcolor": "white",
            "linecolor": "white",
            "ticks": ""
           }
          },
          "title": {
           "x": 0.05
          },
          "xaxis": {
           "automargin": true,
           "gridcolor": "white",
           "linecolor": "white",
           "ticks": "",
           "title": {
            "standoff": 15
           },
           "zerolinecolor": "white",
           "zerolinewidth": 2
          },
          "yaxis": {
           "automargin": true,
           "gridcolor": "white",
           "linecolor": "white",
           "ticks": "",
           "title": {
            "standoff": 15
           },
           "zerolinecolor": "white",
           "zerolinewidth": 2
          }
         }
        },
        "title": {
         "text": "Heatmap between datasets to train UMAP and train classifier<br>The color indicates the accuracy using the best classifier and UMAP <= 10"
        },
        "xaxis": {
         "anchor": "y",
         "constrain": "domain",
         "domain": [
          0,
          1
         ],
         "scaleanchor": "y",
         "title": {
          "text": "Dataset(s) used to train UMAP"
         }
        },
        "yaxis": {
         "anchor": "x",
         "autorange": "reversed",
         "constrain": "domain",
         "domain": [
          0,
          1
         ],
         "title": {
          "text": "Datasets used to train classifier"
         }
        }
       }
      }
     },
     "metadata": {},
     "output_type": "display_data"
    }
   ],
   "source": [
    "df = results.copy()\n",
    "df = filter_domain_fft_only(df)\n",
    "df = filter_features_all(df)\n",
    "df = filter_reducer_over_all(df)\n",
    "df = filter_scaler_none(df)\n",
    "df = filter_view_standardized_inter_balanced(df)\n",
    "# df = pd.concat([filter_only_reducer_dataset_diferent_from_train(df), filter_only_reducer_dataset_equals_train_dataset(df)])\n",
    "# df = filter_only_reducer_dataset_diferent_from_train(df)\n",
    "df = filter_same_train_test(df)\n",
    "df = df[(df[\"umap components\"] > 0) & (df[\"umap components\"] <= 10)]\n",
    "df = best_of_each_estimator_and_umap(df)\n",
    "\n",
    "matrix = []\n",
    "reducer_datasets = df[\"reducer_datasets\"].unique()\n",
    "\n",
    "the_datasets = datasets.copy()\n",
    "the_datasets.remove(\"realworld\")\n",
    "\n",
    "for i, dset in enumerate(the_datasets):\n",
    "    lines = [0] * len(reducer_datasets)\n",
    "    for j, r_dset in enumerate(reducer_datasets):\n",
    "        acc = df.loc[(df[\"reducer_datasets\"] == r_dset) & (df[\"train_datasets\"] == dset), \"accuracy (mean)\"].sort_values()\n",
    "        if len(acc) == 0:\n",
    "            continue\n",
    "        else:\n",
    "            lines[j] = acc.iloc[-1]\n",
    "    matrix.append(lines)\n",
    "    \n",
    "matrix = np.array(matrix)\n",
    "\n",
    "fig = px.imshow(matrix, text_auto=True, x=reducer_datasets, y=the_datasets)\n",
    "fig.update_layout(\n",
    "    title=\"Heatmap between datasets to train UMAP and train classifier<br>The color indicates the accuracy using the best classifier and UMAP <= 10\",\n",
    "    xaxis_title=\"Dataset(s) used to train UMAP\",\n",
    "    yaxis_title=\"Datasets used to train classifier\"\n",
    ")\n",
    "fig.show()\n",
    "\n",
    "\n",
    "# fig.show()"
   ]
  },
  {
   "cell_type": "code",
   "execution_count": 51,
   "metadata": {},
   "outputs": [
    {
     "data": {
      "application/vnd.plotly.v1+json": {
       "config": {
        "plotlyServerURL": "https://plot.ly"
       },
       "data": [
        {
         "hovertext": [
          "motionsense (15 components)",
          "uci, wisdm (15 components)",
          "motionsense, uci (5 components)",
          "uci (36 components)",
          "wisdm (27 components)",
          "motionsense, wisdm (20 components)",
          "kuhar, wisdm (8 components)",
          "kuhar, uci (9 components)",
          "kuhar, motionsense (9 components)",
          "kuhar (24 components)"
         ],
         "marker": {
          "color": "#636EFA",
          "size": 10,
          "symbol": [
           "x",
           "x",
           "x",
           "x",
           "x",
           "x",
           "circle",
           "circle",
           "circle",
           "circle"
          ]
         },
         "name": "kuhar",
         "type": "scatter",
         "x": [
          0,
          1,
          2,
          3,
          4,
          5,
          6,
          7,
          8,
          9
         ],
         "y": [
          0.638888888888889,
          0.648611111111111,
          0.6666666666666667,
          0.6937499999999999,
          0.6958333333333334,
          0.7222222222222222,
          0.8354166666666668,
          0.8402777777777779,
          0.8451388888888889,
          0.8541666666666666
         ]
        },
        {
         "hovertext": [
          "kuhar (15 components)",
          "kuhar, uci (4 components)",
          "uci (9 components)",
          "kuhar, wisdm (7 components)",
          "uci, wisdm (7 components)",
          "wisdm (33 components)",
          "kuhar, motionsense (15 components)",
          "motionsense, uci (6 components)",
          "motionsense (60 components)",
          "motionsense, wisdm (7 components)"
         ],
         "marker": {
          "color": "#00CC96",
          "size": 10,
          "symbol": [
           "x",
           "x",
           "x",
           "x",
           "x",
           "x",
           "circle",
           "circle",
           "circle",
           "circle"
          ]
         },
         "name": "motionsense",
         "type": "scatter",
         "x": [
          0,
          1,
          2,
          3,
          4,
          5,
          6,
          7,
          8,
          9
         ],
         "y": [
          0.7576388888888889,
          0.7708333333333333,
          0.7888888888888889,
          0.8472222222222221,
          0.8520833333333334,
          0.8548611111111111,
          0.902777777777778,
          0.9041666666666666,
          0.9097222222222224,
          0.9118055555555556
         ]
        },
        {
         "hovertext": [
          "motionsense (20 components)",
          "motionsense, wisdm (7 components)",
          "wisdm (6 components)",
          "kuhar, wisdm (6 components)",
          "kuhar, motionsense (6 components)",
          "kuhar (10 components)",
          "motionsense, uci (15 components)",
          "uci, wisdm (9 components)",
          "uci (10 components)",
          "kuhar, uci (9 components)"
         ],
         "marker": {
          "color": "#AB63FA",
          "size": 10,
          "symbol": [
           "x",
           "x",
           "x",
           "x",
           "x",
           "x",
           "circle",
           "circle",
           "circle",
           "circle"
          ]
         },
         "name": "uci",
         "type": "scatter",
         "x": [
          0,
          1,
          2,
          3,
          4,
          5,
          6,
          7,
          8,
          9
         ],
         "y": [
          0.6991666666666667,
          0.7249999999999999,
          0.7333333333333333,
          0.75,
          0.7558333333333334,
          0.7675000000000001,
          0.7916666666666667,
          0.7941666666666667,
          0.805,
          0.8166666666666667
         ]
        },
        {
         "hovertext": [
          "kuhar (48 components)",
          "uci (15 components)",
          "kuhar, uci (9 components)",
          "kuhar, motionsense (7 components)",
          "motionsense (33 components)",
          "motionsense, uci (7 components)",
          "uci, wisdm (7 components)",
          "wisdm (30 components)",
          "kuhar, wisdm (7 components)",
          "motionsense, wisdm (5 components)"
         ],
         "marker": {
          "color": "#FFA15A",
          "size": 10,
          "symbol": [
           "x",
           "x",
           "x",
           "x",
           "x",
           "x",
           "circle",
           "circle",
           "circle",
           "circle"
          ]
         },
         "name": "wisdm",
         "type": "scatter",
         "x": [
          0,
          1,
          2,
          3,
          4,
          5,
          6,
          7,
          8,
          9
         ],
         "y": [
          0.7441666666666666,
          0.7541666666666667,
          0.7783333333333333,
          0.825,
          0.8333333333333334,
          0.8424999999999999,
          0.8566666666666667,
          0.8691666666666666,
          0.875,
          0.8833333333333332
         ]
        },
        {
         "hovertext": [
          "realworld (90 components)"
         ],
         "marker": {
          "color": "#19D3F3",
          "size": 10,
          "symbol": [
           "circle"
          ]
         },
         "name": "realworld",
         "type": "scatter",
         "x": [
          0
         ],
         "y": [
          0.638888888888889
         ]
        }
       ],
       "layout": {
        "legend": {
         "title": {
          "text": "Train/Test dataset"
         }
        },
        "template": {
         "data": {
          "bar": [
           {
            "error_x": {
             "color": "#2a3f5f"
            },
            "error_y": {
             "color": "#2a3f5f"
            },
            "marker": {
             "line": {
              "color": "#E5ECF6",
              "width": 0.5
             },
             "pattern": {
              "fillmode": "overlay",
              "size": 10,
              "solidity": 0.2
             }
            },
            "type": "bar"
           }
          ],
          "barpolar": [
           {
            "marker": {
             "line": {
              "color": "#E5ECF6",
              "width": 0.5
             },
             "pattern": {
              "fillmode": "overlay",
              "size": 10,
              "solidity": 0.2
             }
            },
            "type": "barpolar"
           }
          ],
          "carpet": [
           {
            "aaxis": {
             "endlinecolor": "#2a3f5f",
             "gridcolor": "white",
             "linecolor": "white",
             "minorgridcolor": "white",
             "startlinecolor": "#2a3f5f"
            },
            "baxis": {
             "endlinecolor": "#2a3f5f",
             "gridcolor": "white",
             "linecolor": "white",
             "minorgridcolor": "white",
             "startlinecolor": "#2a3f5f"
            },
            "type": "carpet"
           }
          ],
          "choropleth": [
           {
            "colorbar": {
             "outlinewidth": 0,
             "ticks": ""
            },
            "type": "choropleth"
           }
          ],
          "contour": [
           {
            "colorbar": {
             "outlinewidth": 0,
             "ticks": ""
            },
            "colorscale": [
             [
              0,
              "#0d0887"
             ],
             [
              0.1111111111111111,
              "#46039f"
             ],
             [
              0.2222222222222222,
              "#7201a8"
             ],
             [
              0.3333333333333333,
              "#9c179e"
             ],
             [
              0.4444444444444444,
              "#bd3786"
             ],
             [
              0.5555555555555556,
              "#d8576b"
             ],
             [
              0.6666666666666666,
              "#ed7953"
             ],
             [
              0.7777777777777778,
              "#fb9f3a"
             ],
             [
              0.8888888888888888,
              "#fdca26"
             ],
             [
              1,
              "#f0f921"
             ]
            ],
            "type": "contour"
           }
          ],
          "contourcarpet": [
           {
            "colorbar": {
             "outlinewidth": 0,
             "ticks": ""
            },
            "type": "contourcarpet"
           }
          ],
          "heatmap": [
           {
            "colorbar": {
             "outlinewidth": 0,
             "ticks": ""
            },
            "colorscale": [
             [
              0,
              "#0d0887"
             ],
             [
              0.1111111111111111,
              "#46039f"
             ],
             [
              0.2222222222222222,
              "#7201a8"
             ],
             [
              0.3333333333333333,
              "#9c179e"
             ],
             [
              0.4444444444444444,
              "#bd3786"
             ],
             [
              0.5555555555555556,
              "#d8576b"
             ],
             [
              0.6666666666666666,
              "#ed7953"
             ],
             [
              0.7777777777777778,
              "#fb9f3a"
             ],
             [
              0.8888888888888888,
              "#fdca26"
             ],
             [
              1,
              "#f0f921"
             ]
            ],
            "type": "heatmap"
           }
          ],
          "heatmapgl": [
           {
            "colorbar": {
             "outlinewidth": 0,
             "ticks": ""
            },
            "colorscale": [
             [
              0,
              "#0d0887"
             ],
             [
              0.1111111111111111,
              "#46039f"
             ],
             [
              0.2222222222222222,
              "#7201a8"
             ],
             [
              0.3333333333333333,
              "#9c179e"
             ],
             [
              0.4444444444444444,
              "#bd3786"
             ],
             [
              0.5555555555555556,
              "#d8576b"
             ],
             [
              0.6666666666666666,
              "#ed7953"
             ],
             [
              0.7777777777777778,
              "#fb9f3a"
             ],
             [
              0.8888888888888888,
              "#fdca26"
             ],
             [
              1,
              "#f0f921"
             ]
            ],
            "type": "heatmapgl"
           }
          ],
          "histogram": [
           {
            "marker": {
             "pattern": {
              "fillmode": "overlay",
              "size": 10,
              "solidity": 0.2
             }
            },
            "type": "histogram"
           }
          ],
          "histogram2d": [
           {
            "colorbar": {
             "outlinewidth": 0,
             "ticks": ""
            },
            "colorscale": [
             [
              0,
              "#0d0887"
             ],
             [
              0.1111111111111111,
              "#46039f"
             ],
             [
              0.2222222222222222,
              "#7201a8"
             ],
             [
              0.3333333333333333,
              "#9c179e"
             ],
             [
              0.4444444444444444,
              "#bd3786"
             ],
             [
              0.5555555555555556,
              "#d8576b"
             ],
             [
              0.6666666666666666,
              "#ed7953"
             ],
             [
              0.7777777777777778,
              "#fb9f3a"
             ],
             [
              0.8888888888888888,
              "#fdca26"
             ],
             [
              1,
              "#f0f921"
             ]
            ],
            "type": "histogram2d"
           }
          ],
          "histogram2dcontour": [
           {
            "colorbar": {
             "outlinewidth": 0,
             "ticks": ""
            },
            "colorscale": [
             [
              0,
              "#0d0887"
             ],
             [
              0.1111111111111111,
              "#46039f"
             ],
             [
              0.2222222222222222,
              "#7201a8"
             ],
             [
              0.3333333333333333,
              "#9c179e"
             ],
             [
              0.4444444444444444,
              "#bd3786"
             ],
             [
              0.5555555555555556,
              "#d8576b"
             ],
             [
              0.6666666666666666,
              "#ed7953"
             ],
             [
              0.7777777777777778,
              "#fb9f3a"
             ],
             [
              0.8888888888888888,
              "#fdca26"
             ],
             [
              1,
              "#f0f921"
             ]
            ],
            "type": "histogram2dcontour"
           }
          ],
          "mesh3d": [
           {
            "colorbar": {
             "outlinewidth": 0,
             "ticks": ""
            },
            "type": "mesh3d"
           }
          ],
          "parcoords": [
           {
            "line": {
             "colorbar": {
              "outlinewidth": 0,
              "ticks": ""
             }
            },
            "type": "parcoords"
           }
          ],
          "pie": [
           {
            "automargin": true,
            "type": "pie"
           }
          ],
          "scatter": [
           {
            "fillpattern": {
             "fillmode": "overlay",
             "size": 10,
             "solidity": 0.2
            },
            "type": "scatter"
           }
          ],
          "scatter3d": [
           {
            "line": {
             "colorbar": {
              "outlinewidth": 0,
              "ticks": ""
             }
            },
            "marker": {
             "colorbar": {
              "outlinewidth": 0,
              "ticks": ""
             }
            },
            "type": "scatter3d"
           }
          ],
          "scattercarpet": [
           {
            "marker": {
             "colorbar": {
              "outlinewidth": 0,
              "ticks": ""
             }
            },
            "type": "scattercarpet"
           }
          ],
          "scattergeo": [
           {
            "marker": {
             "colorbar": {
              "outlinewidth": 0,
              "ticks": ""
             }
            },
            "type": "scattergeo"
           }
          ],
          "scattergl": [
           {
            "marker": {
             "colorbar": {
              "outlinewidth": 0,
              "ticks": ""
             }
            },
            "type": "scattergl"
           }
          ],
          "scattermapbox": [
           {
            "marker": {
             "colorbar": {
              "outlinewidth": 0,
              "ticks": ""
             }
            },
            "type": "scattermapbox"
           }
          ],
          "scatterpolar": [
           {
            "marker": {
             "colorbar": {
              "outlinewidth": 0,
              "ticks": ""
             }
            },
            "type": "scatterpolar"
           }
          ],
          "scatterpolargl": [
           {
            "marker": {
             "colorbar": {
              "outlinewidth": 0,
              "ticks": ""
             }
            },
            "type": "scatterpolargl"
           }
          ],
          "scatterternary": [
           {
            "marker": {
             "colorbar": {
              "outlinewidth": 0,
              "ticks": ""
             }
            },
            "type": "scatterternary"
           }
          ],
          "surface": [
           {
            "colorbar": {
             "outlinewidth": 0,
             "ticks": ""
            },
            "colorscale": [
             [
              0,
              "#0d0887"
             ],
             [
              0.1111111111111111,
              "#46039f"
             ],
             [
              0.2222222222222222,
              "#7201a8"
             ],
             [
              0.3333333333333333,
              "#9c179e"
             ],
             [
              0.4444444444444444,
              "#bd3786"
             ],
             [
              0.5555555555555556,
              "#d8576b"
             ],
             [
              0.6666666666666666,
              "#ed7953"
             ],
             [
              0.7777777777777778,
              "#fb9f3a"
             ],
             [
              0.8888888888888888,
              "#fdca26"
             ],
             [
              1,
              "#f0f921"
             ]
            ],
            "type": "surface"
           }
          ],
          "table": [
           {
            "cells": {
             "fill": {
              "color": "#EBF0F8"
             },
             "line": {
              "color": "white"
             }
            },
            "header": {
             "fill": {
              "color": "#C8D4E3"
             },
             "line": {
              "color": "white"
             }
            },
            "type": "table"
           }
          ]
         },
         "layout": {
          "annotationdefaults": {
           "arrowcolor": "#2a3f5f",
           "arrowhead": 0,
           "arrowwidth": 1
          },
          "autotypenumbers": "strict",
          "coloraxis": {
           "colorbar": {
            "outlinewidth": 0,
            "ticks": ""
           }
          },
          "colorscale": {
           "diverging": [
            [
             0,
             "#8e0152"
            ],
            [
             0.1,
             "#c51b7d"
            ],
            [
             0.2,
             "#de77ae"
            ],
            [
             0.3,
             "#f1b6da"
            ],
            [
             0.4,
             "#fde0ef"
            ],
            [
             0.5,
             "#f7f7f7"
            ],
            [
             0.6,
             "#e6f5d0"
            ],
            [
             0.7,
             "#b8e186"
            ],
            [
             0.8,
             "#7fbc41"
            ],
            [
             0.9,
             "#4d9221"
            ],
            [
             1,
             "#276419"
            ]
           ],
           "sequential": [
            [
             0,
             "#0d0887"
            ],
            [
             0.1111111111111111,
             "#46039f"
            ],
            [
             0.2222222222222222,
             "#7201a8"
            ],
            [
             0.3333333333333333,
             "#9c179e"
            ],
            [
             0.4444444444444444,
             "#bd3786"
            ],
            [
             0.5555555555555556,
             "#d8576b"
            ],
            [
             0.6666666666666666,
             "#ed7953"
            ],
            [
             0.7777777777777778,
             "#fb9f3a"
            ],
            [
             0.8888888888888888,
             "#fdca26"
            ],
            [
             1,
             "#f0f921"
            ]
           ],
           "sequentialminus": [
            [
             0,
             "#0d0887"
            ],
            [
             0.1111111111111111,
             "#46039f"
            ],
            [
             0.2222222222222222,
             "#7201a8"
            ],
            [
             0.3333333333333333,
             "#9c179e"
            ],
            [
             0.4444444444444444,
             "#bd3786"
            ],
            [
             0.5555555555555556,
             "#d8576b"
            ],
            [
             0.6666666666666666,
             "#ed7953"
            ],
            [
             0.7777777777777778,
             "#fb9f3a"
            ],
            [
             0.8888888888888888,
             "#fdca26"
            ],
            [
             1,
             "#f0f921"
            ]
           ]
          },
          "colorway": [
           "#636efa",
           "#EF553B",
           "#00cc96",
           "#ab63fa",
           "#FFA15A",
           "#19d3f3",
           "#FF6692",
           "#B6E880",
           "#FF97FF",
           "#FECB52"
          ],
          "font": {
           "color": "#2a3f5f"
          },
          "geo": {
           "bgcolor": "white",
           "lakecolor": "white",
           "landcolor": "#E5ECF6",
           "showlakes": true,
           "showland": true,
           "subunitcolor": "white"
          },
          "hoverlabel": {
           "align": "left"
          },
          "hovermode": "closest",
          "mapbox": {
           "style": "light"
          },
          "paper_bgcolor": "white",
          "plot_bgcolor": "#E5ECF6",
          "polar": {
           "angularaxis": {
            "gridcolor": "white",
            "linecolor": "white",
            "ticks": ""
           },
           "bgcolor": "#E5ECF6",
           "radialaxis": {
            "gridcolor": "white",
            "linecolor": "white",
            "ticks": ""
           }
          },
          "scene": {
           "xaxis": {
            "backgroundcolor": "#E5ECF6",
            "gridcolor": "white",
            "gridwidth": 2,
            "linecolor": "white",
            "showbackground": true,
            "ticks": "",
            "zerolinecolor": "white"
           },
           "yaxis": {
            "backgroundcolor": "#E5ECF6",
            "gridcolor": "white",
            "gridwidth": 2,
            "linecolor": "white",
            "showbackground": true,
            "ticks": "",
            "zerolinecolor": "white"
           },
           "zaxis": {
            "backgroundcolor": "#E5ECF6",
            "gridcolor": "white",
            "gridwidth": 2,
            "linecolor": "white",
            "showbackground": true,
            "ticks": "",
            "zerolinecolor": "white"
           }
          },
          "shapedefaults": {
           "line": {
            "color": "#2a3f5f"
           }
          },
          "ternary": {
           "aaxis": {
            "gridcolor": "white",
            "linecolor": "white",
            "ticks": ""
           },
           "baxis": {
            "gridcolor": "white",
            "linecolor": "white",
            "ticks": ""
           },
           "bgcolor": "#E5ECF6",
           "caxis": {
            "gridcolor": "white",
            "linecolor": "white",
            "ticks": ""
           }
          },
          "title": {
           "x": 0.05
          },
          "xaxis": {
           "automargin": true,
           "gridcolor": "white",
           "linecolor": "white",
           "ticks": "",
           "title": {
            "standoff": 15
           },
           "zerolinecolor": "white",
           "zerolinewidth": 2
          },
          "yaxis": {
           "automargin": true,
           "gridcolor": "white",
           "linecolor": "white",
           "ticks": "",
           "title": {
            "standoff": 15
           },
           "zerolinecolor": "white",
           "zerolinewidth": 2
          }
         }
        },
        "title": {
         "text": "Using different datasets to train umap (train/test = same)<br>Circles = same dataset, X = different dataset"
        },
        "xaxis": {
         "title": {
          "text": "Number of experiments"
         }
        },
        "yaxis": {
         "title": {
          "text": "Accuracy (best classifier)"
         }
        }
       }
      }
     },
     "metadata": {},
     "output_type": "display_data"
    }
   ],
   "source": [
    "df = results.copy()\n",
    "df = filter_domain_fft_only(df)\n",
    "df = filter_features_all(df)\n",
    "df = filter_reducer_over_all(df)\n",
    "df = filter_scaler_none(df)\n",
    "df = filter_view_standardized_inter_balanced(df)\n",
    "# df = pd.concat([filter_only_reducer_dataset_diferent_from_train(df), filter_only_reducer_dataset_equals_train_dataset(df)])\n",
    "# df = filter_only_reducer_dataset_diferent_from_train(df)\n",
    "df = filter_same_train_test(df)\n",
    "df = df[(df[\"umap components\"] > 0)]\n",
    "df = best_of_each_estimator_and_umap(df)\n",
    "\n",
    "fig = go.Figure()\n",
    "\n",
    "for i, dset in enumerate(datasets):\n",
    "    x = df[df[\"train_datasets\"] == dset].sort_values(by=\"accuracy (mean)\")\n",
    "    xs = list(range(len(x)))\n",
    "    ys = []\n",
    "    the_markers = []\n",
    "    names = []\n",
    "    for row_idx, row in x.iterrows():\n",
    "        ys.append(row[\"accuracy (mean)\"])\n",
    "        the_markers.append(\"circle\" if dset in row[\"reducer_datasets\"] else \"x\")\n",
    "        name = f'{row[\"reducer_datasets\"]} ({row[\"umap components\"]} components)'\n",
    "        names.append(name)\n",
    "        \n",
    "    fig.add_trace(\n",
    "        go.Scatter(\n",
    "            x=xs,\n",
    "            y=ys,\n",
    "            marker=dict(\n",
    "                symbol=the_markers,\n",
    "                size=10,\n",
    "                color=colors[i]\n",
    "            ),\n",
    "            hovertext=names,\n",
    "            name=dset,\n",
    "        )\n",
    "    )\n",
    "    \n",
    "fig.update_layout(\n",
    "    title=\"Using different datasets to train umap (train/test = same)<br>Circles = same dataset, X = different dataset\",\n",
    "    xaxis_title=\"Number of experiments\",\n",
    "    yaxis_title=\"Accuracy (best classifier)\",\n",
    "    legend_title=\"Train/Test dataset\",\n",
    ")\n",
    "\n",
    "fig.show()"
   ]
  },
  {
   "cell_type": "code",
   "execution_count": 64,
   "metadata": {},
   "outputs": [
    {
     "data": {
      "application/vnd.plotly.v1+json": {
       "config": {
        "plotlyServerURL": "https://plot.ly"
       },
       "data": [
        {
         "coloraxis": "coloraxis",
         "hovertemplate": "x: %{x}<br>y: %{y}<br>color: %{z}<extra></extra>",
         "name": "0",
         "texttemplate": "%{z}",
         "type": "heatmap",
         "x": [
          "kuhar",
          "kuhar, motionsense",
          "kuhar, uci",
          "kuhar, wisdm",
          "motionsense",
          "motionsense, uci",
          "motionsense, wisdm",
          "uci",
          "uci, wisdm",
          "wisdm"
         ],
         "xaxis": "x",
         "y": [
          "kuhar",
          "motionsense",
          "uci",
          "wisdm"
         ],
         "yaxis": "y",
         "z": [
          [
           0.8541666666666666,
           0.8451388888888889,
           0.8402777777777779,
           0.8354166666666668,
           0.638888888888889,
           0.6666666666666667,
           0.7222222222222222,
           0.6937499999999999,
           0.648611111111111,
           0.6958333333333334
          ],
          [
           0.7576388888888889,
           0.902777777777778,
           0.7708333333333333,
           0.8472222222222221,
           0.9097222222222224,
           0.9041666666666666,
           0.9118055555555556,
           0.7888888888888889,
           0.8520833333333334,
           0.8548611111111111
          ],
          [
           0.7675000000000001,
           0.7558333333333334,
           0.8166666666666667,
           0.75,
           0.6991666666666667,
           0.7916666666666667,
           0.7249999999999999,
           0.805,
           0.7941666666666667,
           0.7333333333333333
          ],
          [
           0.7441666666666666,
           0.825,
           0.7783333333333333,
           0.875,
           0.8333333333333334,
           0.8424999999999999,
           0.8833333333333332,
           0.7541666666666667,
           0.8566666666666667,
           0.8691666666666666
          ]
         ]
        }
       ],
       "layout": {
        "coloraxis": {
         "colorscale": [
          [
           0,
           "#0d0887"
          ],
          [
           0.1111111111111111,
           "#46039f"
          ],
          [
           0.2222222222222222,
           "#7201a8"
          ],
          [
           0.3333333333333333,
           "#9c179e"
          ],
          [
           0.4444444444444444,
           "#bd3786"
          ],
          [
           0.5555555555555556,
           "#d8576b"
          ],
          [
           0.6666666666666666,
           "#ed7953"
          ],
          [
           0.7777777777777778,
           "#fb9f3a"
          ],
          [
           0.8888888888888888,
           "#fdca26"
          ],
          [
           1,
           "#f0f921"
          ]
         ]
        },
        "margin": {
         "t": 60
        },
        "template": {
         "data": {
          "bar": [
           {
            "error_x": {
             "color": "#2a3f5f"
            },
            "error_y": {
             "color": "#2a3f5f"
            },
            "marker": {
             "line": {
              "color": "#E5ECF6",
              "width": 0.5
             },
             "pattern": {
              "fillmode": "overlay",
              "size": 10,
              "solidity": 0.2
             }
            },
            "type": "bar"
           }
          ],
          "barpolar": [
           {
            "marker": {
             "line": {
              "color": "#E5ECF6",
              "width": 0.5
             },
             "pattern": {
              "fillmode": "overlay",
              "size": 10,
              "solidity": 0.2
             }
            },
            "type": "barpolar"
           }
          ],
          "carpet": [
           {
            "aaxis": {
             "endlinecolor": "#2a3f5f",
             "gridcolor": "white",
             "linecolor": "white",
             "minorgridcolor": "white",
             "startlinecolor": "#2a3f5f"
            },
            "baxis": {
             "endlinecolor": "#2a3f5f",
             "gridcolor": "white",
             "linecolor": "white",
             "minorgridcolor": "white",
             "startlinecolor": "#2a3f5f"
            },
            "type": "carpet"
           }
          ],
          "choropleth": [
           {
            "colorbar": {
             "outlinewidth": 0,
             "ticks": ""
            },
            "type": "choropleth"
           }
          ],
          "contour": [
           {
            "colorbar": {
             "outlinewidth": 0,
             "ticks": ""
            },
            "colorscale": [
             [
              0,
              "#0d0887"
             ],
             [
              0.1111111111111111,
              "#46039f"
             ],
             [
              0.2222222222222222,
              "#7201a8"
             ],
             [
              0.3333333333333333,
              "#9c179e"
             ],
             [
              0.4444444444444444,
              "#bd3786"
             ],
             [
              0.5555555555555556,
              "#d8576b"
             ],
             [
              0.6666666666666666,
              "#ed7953"
             ],
             [
              0.7777777777777778,
              "#fb9f3a"
             ],
             [
              0.8888888888888888,
              "#fdca26"
             ],
             [
              1,
              "#f0f921"
             ]
            ],
            "type": "contour"
           }
          ],
          "contourcarpet": [
           {
            "colorbar": {
             "outlinewidth": 0,
             "ticks": ""
            },
            "type": "contourcarpet"
           }
          ],
          "heatmap": [
           {
            "colorbar": {
             "outlinewidth": 0,
             "ticks": ""
            },
            "colorscale": [
             [
              0,
              "#0d0887"
             ],
             [
              0.1111111111111111,
              "#46039f"
             ],
             [
              0.2222222222222222,
              "#7201a8"
             ],
             [
              0.3333333333333333,
              "#9c179e"
             ],
             [
              0.4444444444444444,
              "#bd3786"
             ],
             [
              0.5555555555555556,
              "#d8576b"
             ],
             [
              0.6666666666666666,
              "#ed7953"
             ],
             [
              0.7777777777777778,
              "#fb9f3a"
             ],
             [
              0.8888888888888888,
              "#fdca26"
             ],
             [
              1,
              "#f0f921"
             ]
            ],
            "type": "heatmap"
           }
          ],
          "heatmapgl": [
           {
            "colorbar": {
             "outlinewidth": 0,
             "ticks": ""
            },
            "colorscale": [
             [
              0,
              "#0d0887"
             ],
             [
              0.1111111111111111,
              "#46039f"
             ],
             [
              0.2222222222222222,
              "#7201a8"
             ],
             [
              0.3333333333333333,
              "#9c179e"
             ],
             [
              0.4444444444444444,
              "#bd3786"
             ],
             [
              0.5555555555555556,
              "#d8576b"
             ],
             [
              0.6666666666666666,
              "#ed7953"
             ],
             [
              0.7777777777777778,
              "#fb9f3a"
             ],
             [
              0.8888888888888888,
              "#fdca26"
             ],
             [
              1,
              "#f0f921"
             ]
            ],
            "type": "heatmapgl"
           }
          ],
          "histogram": [
           {
            "marker": {
             "pattern": {
              "fillmode": "overlay",
              "size": 10,
              "solidity": 0.2
             }
            },
            "type": "histogram"
           }
          ],
          "histogram2d": [
           {
            "colorbar": {
             "outlinewidth": 0,
             "ticks": ""
            },
            "colorscale": [
             [
              0,
              "#0d0887"
             ],
             [
              0.1111111111111111,
              "#46039f"
             ],
             [
              0.2222222222222222,
              "#7201a8"
             ],
             [
              0.3333333333333333,
              "#9c179e"
             ],
             [
              0.4444444444444444,
              "#bd3786"
             ],
             [
              0.5555555555555556,
              "#d8576b"
             ],
             [
              0.6666666666666666,
              "#ed7953"
             ],
             [
              0.7777777777777778,
              "#fb9f3a"
             ],
             [
              0.8888888888888888,
              "#fdca26"
             ],
             [
              1,
              "#f0f921"
             ]
            ],
            "type": "histogram2d"
           }
          ],
          "histogram2dcontour": [
           {
            "colorbar": {
             "outlinewidth": 0,
             "ticks": ""
            },
            "colorscale": [
             [
              0,
              "#0d0887"
             ],
             [
              0.1111111111111111,
              "#46039f"
             ],
             [
              0.2222222222222222,
              "#7201a8"
             ],
             [
              0.3333333333333333,
              "#9c179e"
             ],
             [
              0.4444444444444444,
              "#bd3786"
             ],
             [
              0.5555555555555556,
              "#d8576b"
             ],
             [
              0.6666666666666666,
              "#ed7953"
             ],
             [
              0.7777777777777778,
              "#fb9f3a"
             ],
             [
              0.8888888888888888,
              "#fdca26"
             ],
             [
              1,
              "#f0f921"
             ]
            ],
            "type": "histogram2dcontour"
           }
          ],
          "mesh3d": [
           {
            "colorbar": {
             "outlinewidth": 0,
             "ticks": ""
            },
            "type": "mesh3d"
           }
          ],
          "parcoords": [
           {
            "line": {
             "colorbar": {
              "outlinewidth": 0,
              "ticks": ""
             }
            },
            "type": "parcoords"
           }
          ],
          "pie": [
           {
            "automargin": true,
            "type": "pie"
           }
          ],
          "scatter": [
           {
            "fillpattern": {
             "fillmode": "overlay",
             "size": 10,
             "solidity": 0.2
            },
            "type": "scatter"
           }
          ],
          "scatter3d": [
           {
            "line": {
             "colorbar": {
              "outlinewidth": 0,
              "ticks": ""
             }
            },
            "marker": {
             "colorbar": {
              "outlinewidth": 0,
              "ticks": ""
             }
            },
            "type": "scatter3d"
           }
          ],
          "scattercarpet": [
           {
            "marker": {
             "colorbar": {
              "outlinewidth": 0,
              "ticks": ""
             }
            },
            "type": "scattercarpet"
           }
          ],
          "scattergeo": [
           {
            "marker": {
             "colorbar": {
              "outlinewidth": 0,
              "ticks": ""
             }
            },
            "type": "scattergeo"
           }
          ],
          "scattergl": [
           {
            "marker": {
             "colorbar": {
              "outlinewidth": 0,
              "ticks": ""
             }
            },
            "type": "scattergl"
           }
          ],
          "scattermapbox": [
           {
            "marker": {
             "colorbar": {
              "outlinewidth": 0,
              "ticks": ""
             }
            },
            "type": "scattermapbox"
           }
          ],
          "scatterpolar": [
           {
            "marker": {
             "colorbar": {
              "outlinewidth": 0,
              "ticks": ""
             }
            },
            "type": "scatterpolar"
           }
          ],
          "scatterpolargl": [
           {
            "marker": {
             "colorbar": {
              "outlinewidth": 0,
              "ticks": ""
             }
            },
            "type": "scatterpolargl"
           }
          ],
          "scatterternary": [
           {
            "marker": {
             "colorbar": {
              "outlinewidth": 0,
              "ticks": ""
             }
            },
            "type": "scatterternary"
           }
          ],
          "surface": [
           {
            "colorbar": {
             "outlinewidth": 0,
             "ticks": ""
            },
            "colorscale": [
             [
              0,
              "#0d0887"
             ],
             [
              0.1111111111111111,
              "#46039f"
             ],
             [
              0.2222222222222222,
              "#7201a8"
             ],
             [
              0.3333333333333333,
              "#9c179e"
             ],
             [
              0.4444444444444444,
              "#bd3786"
             ],
             [
              0.5555555555555556,
              "#d8576b"
             ],
             [
              0.6666666666666666,
              "#ed7953"
             ],
             [
              0.7777777777777778,
              "#fb9f3a"
             ],
             [
              0.8888888888888888,
              "#fdca26"
             ],
             [
              1,
              "#f0f921"
             ]
            ],
            "type": "surface"
           }
          ],
          "table": [
           {
            "cells": {
             "fill": {
              "color": "#EBF0F8"
             },
             "line": {
              "color": "white"
             }
            },
            "header": {
             "fill": {
              "color": "#C8D4E3"
             },
             "line": {
              "color": "white"
             }
            },
            "type": "table"
           }
          ]
         },
         "layout": {
          "annotationdefaults": {
           "arrowcolor": "#2a3f5f",
           "arrowhead": 0,
           "arrowwidth": 1
          },
          "autotypenumbers": "strict",
          "coloraxis": {
           "colorbar": {
            "outlinewidth": 0,
            "ticks": ""
           }
          },
          "colorscale": {
           "diverging": [
            [
             0,
             "#8e0152"
            ],
            [
             0.1,
             "#c51b7d"
            ],
            [
             0.2,
             "#de77ae"
            ],
            [
             0.3,
             "#f1b6da"
            ],
            [
             0.4,
             "#fde0ef"
            ],
            [
             0.5,
             "#f7f7f7"
            ],
            [
             0.6,
             "#e6f5d0"
            ],
            [
             0.7,
             "#b8e186"
            ],
            [
             0.8,
             "#7fbc41"
            ],
            [
             0.9,
             "#4d9221"
            ],
            [
             1,
             "#276419"
            ]
           ],
           "sequential": [
            [
             0,
             "#0d0887"
            ],
            [
             0.1111111111111111,
             "#46039f"
            ],
            [
             0.2222222222222222,
             "#7201a8"
            ],
            [
             0.3333333333333333,
             "#9c179e"
            ],
            [
             0.4444444444444444,
             "#bd3786"
            ],
            [
             0.5555555555555556,
             "#d8576b"
            ],
            [
             0.6666666666666666,
             "#ed7953"
            ],
            [
             0.7777777777777778,
             "#fb9f3a"
            ],
            [
             0.8888888888888888,
             "#fdca26"
            ],
            [
             1,
             "#f0f921"
            ]
           ],
           "sequentialminus": [
            [
             0,
             "#0d0887"
            ],
            [
             0.1111111111111111,
             "#46039f"
            ],
            [
             0.2222222222222222,
             "#7201a8"
            ],
            [
             0.3333333333333333,
             "#9c179e"
            ],
            [
             0.4444444444444444,
             "#bd3786"
            ],
            [
             0.5555555555555556,
             "#d8576b"
            ],
            [
             0.6666666666666666,
             "#ed7953"
            ],
            [
             0.7777777777777778,
             "#fb9f3a"
            ],
            [
             0.8888888888888888,
             "#fdca26"
            ],
            [
             1,
             "#f0f921"
            ]
           ]
          },
          "colorway": [
           "#636efa",
           "#EF553B",
           "#00cc96",
           "#ab63fa",
           "#FFA15A",
           "#19d3f3",
           "#FF6692",
           "#B6E880",
           "#FF97FF",
           "#FECB52"
          ],
          "font": {
           "color": "#2a3f5f"
          },
          "geo": {
           "bgcolor": "white",
           "lakecolor": "white",
           "landcolor": "#E5ECF6",
           "showlakes": true,
           "showland": true,
           "subunitcolor": "white"
          },
          "hoverlabel": {
           "align": "left"
          },
          "hovermode": "closest",
          "mapbox": {
           "style": "light"
          },
          "paper_bgcolor": "white",
          "plot_bgcolor": "#E5ECF6",
          "polar": {
           "angularaxis": {
            "gridcolor": "white",
            "linecolor": "white",
            "ticks": ""
           },
           "bgcolor": "#E5ECF6",
           "radialaxis": {
            "gridcolor": "white",
            "linecolor": "white",
            "ticks": ""
           }
          },
          "scene": {
           "xaxis": {
            "backgroundcolor": "#E5ECF6",
            "gridcolor": "white",
            "gridwidth": 2,
            "linecolor": "white",
            "showbackground": true,
            "ticks": "",
            "zerolinecolor": "white"
           },
           "yaxis": {
            "backgroundcolor": "#E5ECF6",
            "gridcolor": "white",
            "gridwidth": 2,
            "linecolor": "white",
            "showbackground": true,
            "ticks": "",
            "zerolinecolor": "white"
           },
           "zaxis": {
            "backgroundcolor": "#E5ECF6",
            "gridcolor": "white",
            "gridwidth": 2,
            "linecolor": "white",
            "showbackground": true,
            "ticks": "",
            "zerolinecolor": "white"
           }
          },
          "shapedefaults": {
           "line": {
            "color": "#2a3f5f"
           }
          },
          "ternary": {
           "aaxis": {
            "gridcolor": "white",
            "linecolor": "white",
            "ticks": ""
           },
           "baxis": {
            "gridcolor": "white",
            "linecolor": "white",
            "ticks": ""
           },
           "bgcolor": "#E5ECF6",
           "caxis": {
            "gridcolor": "white",
            "linecolor": "white",
            "ticks": ""
           }
          },
          "title": {
           "x": 0.05
          },
          "xaxis": {
           "automargin": true,
           "gridcolor": "white",
           "linecolor": "white",
           "ticks": "",
           "title": {
            "standoff": 15
           },
           "zerolinecolor": "white",
           "zerolinewidth": 2
          },
          "yaxis": {
           "automargin": true,
           "gridcolor": "white",
           "linecolor": "white",
           "ticks": "",
           "title": {
            "standoff": 15
           },
           "zerolinecolor": "white",
           "zerolinewidth": 2
          }
         }
        },
        "title": {
         "text": "Heatmap between datasets to train UMAP and train classifier<br>The color indicates the accuracy using the best classifier"
        },
        "xaxis": {
         "anchor": "y",
         "constrain": "domain",
         "domain": [
          0,
          1
         ],
         "scaleanchor": "y",
         "title": {
          "text": "Dataset(s) used to train UMAP"
         }
        },
        "yaxis": {
         "anchor": "x",
         "autorange": "reversed",
         "constrain": "domain",
         "domain": [
          0,
          1
         ],
         "title": {
          "text": "Datasets used to train classifier"
         }
        }
       }
      }
     },
     "metadata": {},
     "output_type": "display_data"
    }
   ],
   "source": [
    "df = results.copy()\n",
    "df = filter_domain_fft_only(df)\n",
    "df = filter_features_all(df)\n",
    "df = filter_reducer_over_all(df)\n",
    "df = filter_scaler_none(df)\n",
    "df = filter_view_standardized_inter_balanced(df)\n",
    "# df = pd.concat([filter_only_reducer_dataset_diferent_from_train(df), filter_only_reducer_dataset_equals_train_dataset(df)])\n",
    "# df = filter_only_reducer_dataset_diferent_from_train(df)\n",
    "df = filter_same_train_test(df)\n",
    "df = df[(df[\"umap components\"] > 0)]\n",
    "df = best_of_each_estimator_and_umap(df)\n",
    "\n",
    "matrix = []\n",
    "reducer_datasets = df[\"reducer_datasets\"].unique().tolist()\n",
    "\n",
    "the_datasets = datasets.copy()\n",
    "the_datasets.remove(\"realworld\")\n",
    "reducer_datasets.remove(\"realworld\")\n",
    "\n",
    "for i, dset in enumerate(the_datasets):\n",
    "    lines = [0] * len(reducer_datasets)\n",
    "    for j, r_dset in enumerate(reducer_datasets):\n",
    "        acc = df.loc[(df[\"reducer_datasets\"] == r_dset) & (df[\"train_datasets\"] == dset), \"accuracy (mean)\"].sort_values()\n",
    "        if len(acc) == 0:\n",
    "            continue\n",
    "        else:\n",
    "            lines[j] = acc.iloc[-1]\n",
    "    matrix.append(lines)\n",
    "    \n",
    "matrix = np.array(matrix)\n",
    "\n",
    "fig = px.imshow(matrix, text_auto=True, x=reducer_datasets, y=the_datasets)\n",
    "fig.update_layout(\n",
    "    title=\"Heatmap between datasets to train UMAP and train classifier<br>The color indicates the accuracy using the best classifier\",\n",
    "    xaxis_title=\"Dataset(s) used to train UMAP\",\n",
    "    yaxis_title=\"Datasets used to train classifier\"\n",
    ")\n",
    "fig.show()\n",
    "\n",
    "\n",
    "# fig.show()"
   ]
  },
  {
   "attachments": {},
   "cell_type": "markdown",
   "metadata": {},
   "source": [
    "## Pergunta 3"
   ]
  },
  {
   "cell_type": "code",
   "execution_count": null,
   "metadata": {},
   "outputs": [],
   "source": []
  },
  {
   "attachments": {},
   "cell_type": "markdown",
   "metadata": {},
   "source": [
    "## Pergunta 4"
   ]
  },
  {
   "cell_type": "code",
   "execution_count": null,
   "metadata": {},
   "outputs": [],
   "source": []
  },
  {
   "attachments": {},
   "cell_type": "markdown",
   "metadata": {},
   "source": [
    "## Pergunta 5\n",
    "\n",
    "É mais vantajoso reduzir a dimensionalidade dos dados dos sensores de forma individual (aplicando o UMAP a um sensor, ou eixo, por vez) ou de forma agregada (como estamos fazendo)?"
   ]
  },
  {
   "cell_type": "code",
   "execution_count": 53,
   "metadata": {},
   "outputs": [],
   "source": [
    "def get_reduce_on_improvement(df):\n",
    "    experiment_uniq = [c for c in unique_exp_columns if c not in [\"reduce_on\", \"umap components\"]]\n",
    "\n",
    "    all_values = {}\n",
    "    for _, subdf in df[df[\"reduce_on\"] == \"all\"].iterrows():\n",
    "        all_values[tuple(subdf[experiment_uniq].values.tolist())] = subdf[\"accuracy (mean)\"]\n",
    "\n",
    "    df[\"umap improvement\"] = df.apply(lambda x: x[\"accuracy (mean)\"] / all_values.get(tuple(x[experiment_uniq].values.tolist()), np.nan), axis=1)\n",
    "    df = df.dropna(subset=[\"umap improvement\"], inplace=False)\n",
    "    df = df[df[\"reduce_on\"] != \"all\"]\n",
    "    lines = [subdf[subdf[\"umap improvement\"] == subdf[\"umap improvement\"].max()].iloc[0] for _, subdf in df.groupby(experiment_uniq)]\n",
    "    df = pd.DataFrame(lines)\n",
    "    return df\n",
    "\n",
    "# results = add_umap_improvement(results)\n",
    "#df = only_standardized_view(no_scaler(using_all_features(only_fft(only_reduce_on_all(only_reducer_equals_train(df))))))"
   ]
  },
  {
   "cell_type": "code",
   "execution_count": 54,
   "metadata": {},
   "outputs": [
    {
     "data": {
      "application/vnd.plotly.v1+json": {
       "config": {
        "plotlyServerURL": "https://plot.ly"
       },
       "data": [
        {
         "hovertext": [
          "18 components",
          "30 components",
          "36 components",
          "42 components",
          "48 components",
          "54 components",
          "60 components"
         ],
         "legendgroup": "kuhar",
         "marker": {
          "color": "#636EFA"
         },
         "name": "kuhar",
         "type": "scatter",
         "x": [
          3,
          5,
          6,
          7,
          8,
          9,
          10
         ],
         "xaxis": "x",
         "y": [
          0.8125,
          0.8375,
          0.8055555555555556,
          0.8326388888888887,
          0.826388888888889,
          0.8097222222222221,
          0.8555555555555555
         ],
         "yaxis": "y"
        },
        {
         "hovertext": [
          "18 components",
          "30 components",
          "36 components",
          "42 components",
          "48 components",
          "54 components",
          "60 components"
         ],
         "legendgroup": "motionsense",
         "marker": {
          "color": "#00CC96"
         },
         "name": "motionsense",
         "type": "scatter",
         "x": [
          3,
          5,
          6,
          7,
          8,
          9,
          10
         ],
         "xaxis": "x",
         "y": [
          0.9144067796610168,
          0.9205273069679848,
          0.9171374764595104,
          0.9142184557438794,
          0.9166666666666666,
          0.9129001883239172,
          0.9181732580037664
         ],
         "yaxis": "y"
        },
        {
         "hovertext": [
          "18 components",
          "30 components",
          "36 components",
          "42 components",
          "48 components",
          "54 components",
          "60 components"
         ],
         "legendgroup": "uci",
         "marker": {
          "color": "#AB63FA"
         },
         "name": "uci",
         "type": "scatter",
         "x": [
          3,
          5,
          6,
          7,
          8,
          9,
          10
         ],
         "xaxis": "x",
         "y": [
          0.8115942028985508,
          0.8101449275362318,
          0.8160869565217391,
          0.8191304347826087,
          0.8256521739130435,
          0.8201449275362318,
          0.8095652173913044
         ],
         "yaxis": "y"
        },
        {
         "hovertext": [
          "18 components",
          "30 components",
          "36 components",
          "42 components",
          "48 components",
          "54 components",
          "60 components"
         ],
         "legendgroup": "wisdm",
         "marker": {
          "color": "#FFA15A"
         },
         "name": "wisdm",
         "type": "scatter",
         "x": [
          3,
          5,
          6,
          7,
          8,
          9,
          10
         ],
         "xaxis": "x",
         "y": [
          0.8527272727272728,
          0.8533436055469952,
          0.8541140215716487,
          0.8566101694915254,
          0.8511864406779661,
          0.8512172573189523,
          0.8436671802773498
         ],
         "yaxis": "y"
        },
        {
         "hovertext": [
          "18 components",
          "30 components",
          "36 components",
          "42 components",
          "48 components",
          "54 components",
          "60 components"
         ],
         "legendgroup": "realworld",
         "marker": {
          "color": "#19D3F3"
         },
         "name": "realworld",
         "type": "scatter",
         "x": [
          3,
          5,
          6,
          7,
          8,
          9,
          10
         ],
         "xaxis": "x",
         "y": [
          0.6773211567732116,
          0.7123287671232876,
          0.6799847792998478,
          0.704337899543379,
          0.687214611872146,
          0.697869101978691,
          0.6704718417047184
         ],
         "yaxis": "y"
        },
        {
         "hovertext": [
          "9 components",
          "15 components",
          "18 components",
          "21 components",
          "24 components",
          "27 components",
          "30 components"
         ],
         "legendgroup": "kuhar",
         "marker": {
          "color": "#636EFA"
         },
         "name": "kuhar",
         "type": "scatter",
         "x": [
          3,
          5,
          6,
          7,
          8,
          9,
          10
         ],
         "xaxis": "x2",
         "y": [
          0.8034722222222224,
          0.8381944444444445,
          0.8125,
          0.8451388888888889,
          0.8069444444444445,
          0.8347222222222221,
          0.8375
         ],
         "yaxis": "y2"
        },
        {
         "hovertext": [
          "9 components",
          "15 components",
          "18 components",
          "21 components",
          "24 components",
          "27 components",
          "30 components"
         ],
         "legendgroup": "motionsense",
         "marker": {
          "color": "#00CC96"
         },
         "name": "motionsense",
         "type": "scatter",
         "x": [
          3,
          5,
          6,
          7,
          8,
          9,
          10
         ],
         "xaxis": "x2",
         "y": [
          0.9119585687382298,
          0.913747645951036,
          0.9144067796610168,
          0.9240112994350282,
          0.9146892655367233,
          0.9163841807909604,
          0.9205273069679848
         ],
         "yaxis": "y2"
        },
        {
         "hovertext": [
          "9 components",
          "15 components",
          "18 components",
          "21 components",
          "24 components",
          "27 components",
          "30 components"
         ],
         "legendgroup": "uci",
         "marker": {
          "color": "#AB63FA"
         },
         "name": "uci",
         "type": "scatter",
         "x": [
          3,
          5,
          6,
          7,
          8,
          9,
          10
         ],
         "xaxis": "x2",
         "y": [
          0.7971014492753623,
          0.8217391304347826,
          0.8115942028985508,
          0.7979710144927535,
          0.8043478260869567,
          0.8272463768115943,
          0.8101449275362318
         ],
         "yaxis": "y2"
        },
        {
         "hovertext": [
          "9 components",
          "15 components",
          "18 components",
          "21 components",
          "24 components",
          "27 components",
          "30 components"
         ],
         "legendgroup": "wisdm",
         "marker": {
          "color": "#FFA15A"
         },
         "name": "wisdm",
         "type": "scatter",
         "x": [
          3,
          5,
          6,
          7,
          8,
          9,
          10
         ],
         "xaxis": "x2",
         "y": [
          0.842804314329738,
          0.8558705701078584,
          0.8527272727272728,
          0.849060092449923,
          0.851617873651772,
          0.8463790446841294,
          0.8533436055469952
         ],
         "yaxis": "y2"
        },
        {
         "hovertext": [
          "9 components",
          "15 components",
          "18 components",
          "21 components",
          "24 components",
          "27 components",
          "30 components"
         ],
         "legendgroup": "realworld",
         "marker": {
          "color": "#19D3F3"
         },
         "name": "realworld",
         "type": "scatter",
         "x": [
          3,
          5,
          6,
          7,
          8,
          9,
          10
         ],
         "xaxis": "x2",
         "y": [
          0.6788432267884322,
          0.6468797564687975,
          0.6773211567732116,
          0.723744292237443,
          0.6826484018264839,
          0.6982496194824962,
          0.7123287671232876
         ],
         "yaxis": "y2"
        },
        {
         "hovertext": [
          "3 components",
          "5 components",
          "6 components",
          "7 components",
          "8 components",
          "9 components",
          "10 components"
         ],
         "legendgroup": "kuhar",
         "marker": {
          "color": "#636EFA"
         },
         "name": "kuhar",
         "type": "scatter",
         "x": [
          3,
          5,
          6,
          7,
          8,
          9,
          10
         ],
         "xaxis": "x3",
         "y": [
          0.8118055555555556,
          0.8305555555555555,
          0.8291666666666666,
          0.8111111111111111,
          0.8145833333333334,
          0.8034722222222224,
          0.8472222222222221
         ],
         "yaxis": "y3"
        },
        {
         "hovertext": [
          "3 components",
          "5 components",
          "6 components",
          "7 components",
          "8 components",
          "9 components",
          "10 components"
         ],
         "legendgroup": "motionsense",
         "marker": {
          "color": "#00CC96"
         },
         "name": "motionsense",
         "type": "scatter",
         "x": [
          3,
          5,
          6,
          7,
          8,
          9,
          10
         ],
         "xaxis": "x3",
         "y": [
          0.907909604519774,
          0.9124293785310732,
          0.911487758945386,
          0.9119585687382298,
          0.907909604519774,
          0.9119585687382298,
          0.913276836158192
         ],
         "yaxis": "y3"
        },
        {
         "hovertext": [
          "3 components",
          "5 components",
          "6 components",
          "7 components",
          "8 components",
          "9 components",
          "10 components"
         ],
         "legendgroup": "uci",
         "marker": {
          "color": "#AB63FA"
         },
         "name": "uci",
         "type": "scatter",
         "x": [
          3,
          5,
          6,
          7,
          8,
          9,
          10
         ],
         "xaxis": "x3",
         "y": [
          0.7963768115942029,
          0.8218840579710145,
          0.8189855072463768,
          0.8102898550724638,
          0.8081159420289856,
          0.7971014492753623,
          0.8108695652173914
         ],
         "yaxis": "y3"
        },
        {
         "hovertext": [
          "3 components",
          "5 components",
          "6 components",
          "7 components",
          "8 components",
          "9 components",
          "10 components"
         ],
         "legendgroup": "wisdm",
         "marker": {
          "color": "#FFA15A"
         },
         "name": "wisdm",
         "type": "scatter",
         "x": [
          3,
          5,
          6,
          7,
          8,
          9,
          10
         ],
         "xaxis": "x3",
         "y": [
          0.8183975346687212,
          0.8488751926040061,
          0.8453004622496147,
          0.845824345146379,
          0.8468104776579353,
          0.842804314329738,
          0.8491833590138673
         ],
         "yaxis": "y3"
        },
        {
         "hovertext": [
          "3 components",
          "5 components",
          "6 components",
          "7 components",
          "8 components",
          "9 components",
          "10 components"
         ],
         "legendgroup": "realworld",
         "marker": {
          "color": "#19D3F3"
         },
         "name": "realworld",
         "type": "scatter",
         "x": [
          3,
          5,
          6,
          7,
          8,
          9,
          10
         ],
         "xaxis": "x3",
         "y": [
          0.7336377473363774,
          0.6670471841704718,
          0.6529680365296804,
          0.6582952815829529,
          0.6579147640791476,
          0.6788432267884322,
          0.6636225266362252
         ],
         "yaxis": "y3"
        }
       ],
       "layout": {
        "annotations": [
         {
          "font": {
           "size": 16
          },
          "showarrow": false,
          "text": "Umap using all features",
          "x": 0.14444444444444446,
          "xanchor": "center",
          "xref": "paper",
          "y": 1,
          "yanchor": "bottom",
          "yref": "paper"
         },
         {
          "font": {
           "size": 16
          },
          "showarrow": false,
          "text": "Per-sensor UMAP",
          "x": 0.5,
          "xanchor": "center",
          "xref": "paper",
          "y": 1,
          "yanchor": "bottom",
          "yref": "paper"
         },
         {
          "font": {
           "size": 16
          },
          "showarrow": false,
          "text": "Per-sensor-axis umap",
          "x": 0.8555555555555556,
          "xanchor": "center",
          "xref": "paper",
          "y": 1,
          "yanchor": "bottom",
          "yref": "paper"
         }
        ],
        "legend": {
         "title": {
          "text": "Dataset"
         }
        },
        "template": {
         "data": {
          "bar": [
           {
            "error_x": {
             "color": "#2a3f5f"
            },
            "error_y": {
             "color": "#2a3f5f"
            },
            "marker": {
             "line": {
              "color": "#E5ECF6",
              "width": 0.5
             },
             "pattern": {
              "fillmode": "overlay",
              "size": 10,
              "solidity": 0.2
             }
            },
            "type": "bar"
           }
          ],
          "barpolar": [
           {
            "marker": {
             "line": {
              "color": "#E5ECF6",
              "width": 0.5
             },
             "pattern": {
              "fillmode": "overlay",
              "size": 10,
              "solidity": 0.2
             }
            },
            "type": "barpolar"
           }
          ],
          "carpet": [
           {
            "aaxis": {
             "endlinecolor": "#2a3f5f",
             "gridcolor": "white",
             "linecolor": "white",
             "minorgridcolor": "white",
             "startlinecolor": "#2a3f5f"
            },
            "baxis": {
             "endlinecolor": "#2a3f5f",
             "gridcolor": "white",
             "linecolor": "white",
             "minorgridcolor": "white",
             "startlinecolor": "#2a3f5f"
            },
            "type": "carpet"
           }
          ],
          "choropleth": [
           {
            "colorbar": {
             "outlinewidth": 0,
             "ticks": ""
            },
            "type": "choropleth"
           }
          ],
          "contour": [
           {
            "colorbar": {
             "outlinewidth": 0,
             "ticks": ""
            },
            "colorscale": [
             [
              0,
              "#0d0887"
             ],
             [
              0.1111111111111111,
              "#46039f"
             ],
             [
              0.2222222222222222,
              "#7201a8"
             ],
             [
              0.3333333333333333,
              "#9c179e"
             ],
             [
              0.4444444444444444,
              "#bd3786"
             ],
             [
              0.5555555555555556,
              "#d8576b"
             ],
             [
              0.6666666666666666,
              "#ed7953"
             ],
             [
              0.7777777777777778,
              "#fb9f3a"
             ],
             [
              0.8888888888888888,
              "#fdca26"
             ],
             [
              1,
              "#f0f921"
             ]
            ],
            "type": "contour"
           }
          ],
          "contourcarpet": [
           {
            "colorbar": {
             "outlinewidth": 0,
             "ticks": ""
            },
            "type": "contourcarpet"
           }
          ],
          "heatmap": [
           {
            "colorbar": {
             "outlinewidth": 0,
             "ticks": ""
            },
            "colorscale": [
             [
              0,
              "#0d0887"
             ],
             [
              0.1111111111111111,
              "#46039f"
             ],
             [
              0.2222222222222222,
              "#7201a8"
             ],
             [
              0.3333333333333333,
              "#9c179e"
             ],
             [
              0.4444444444444444,
              "#bd3786"
             ],
             [
              0.5555555555555556,
              "#d8576b"
             ],
             [
              0.6666666666666666,
              "#ed7953"
             ],
             [
              0.7777777777777778,
              "#fb9f3a"
             ],
             [
              0.8888888888888888,
              "#fdca26"
             ],
             [
              1,
              "#f0f921"
             ]
            ],
            "type": "heatmap"
           }
          ],
          "heatmapgl": [
           {
            "colorbar": {
             "outlinewidth": 0,
             "ticks": ""
            },
            "colorscale": [
             [
              0,
              "#0d0887"
             ],
             [
              0.1111111111111111,
              "#46039f"
             ],
             [
              0.2222222222222222,
              "#7201a8"
             ],
             [
              0.3333333333333333,
              "#9c179e"
             ],
             [
              0.4444444444444444,
              "#bd3786"
             ],
             [
              0.5555555555555556,
              "#d8576b"
             ],
             [
              0.6666666666666666,
              "#ed7953"
             ],
             [
              0.7777777777777778,
              "#fb9f3a"
             ],
             [
              0.8888888888888888,
              "#fdca26"
             ],
             [
              1,
              "#f0f921"
             ]
            ],
            "type": "heatmapgl"
           }
          ],
          "histogram": [
           {
            "marker": {
             "pattern": {
              "fillmode": "overlay",
              "size": 10,
              "solidity": 0.2
             }
            },
            "type": "histogram"
           }
          ],
          "histogram2d": [
           {
            "colorbar": {
             "outlinewidth": 0,
             "ticks": ""
            },
            "colorscale": [
             [
              0,
              "#0d0887"
             ],
             [
              0.1111111111111111,
              "#46039f"
             ],
             [
              0.2222222222222222,
              "#7201a8"
             ],
             [
              0.3333333333333333,
              "#9c179e"
             ],
             [
              0.4444444444444444,
              "#bd3786"
             ],
             [
              0.5555555555555556,
              "#d8576b"
             ],
             [
              0.6666666666666666,
              "#ed7953"
             ],
             [
              0.7777777777777778,
              "#fb9f3a"
             ],
             [
              0.8888888888888888,
              "#fdca26"
             ],
             [
              1,
              "#f0f921"
             ]
            ],
            "type": "histogram2d"
           }
          ],
          "histogram2dcontour": [
           {
            "colorbar": {
             "outlinewidth": 0,
             "ticks": ""
            },
            "colorscale": [
             [
              0,
              "#0d0887"
             ],
             [
              0.1111111111111111,
              "#46039f"
             ],
             [
              0.2222222222222222,
              "#7201a8"
             ],
             [
              0.3333333333333333,
              "#9c179e"
             ],
             [
              0.4444444444444444,
              "#bd3786"
             ],
             [
              0.5555555555555556,
              "#d8576b"
             ],
             [
              0.6666666666666666,
              "#ed7953"
             ],
             [
              0.7777777777777778,
              "#fb9f3a"
             ],
             [
              0.8888888888888888,
              "#fdca26"
             ],
             [
              1,
              "#f0f921"
             ]
            ],
            "type": "histogram2dcontour"
           }
          ],
          "mesh3d": [
           {
            "colorbar": {
             "outlinewidth": 0,
             "ticks": ""
            },
            "type": "mesh3d"
           }
          ],
          "parcoords": [
           {
            "line": {
             "colorbar": {
              "outlinewidth": 0,
              "ticks": ""
             }
            },
            "type": "parcoords"
           }
          ],
          "pie": [
           {
            "automargin": true,
            "type": "pie"
           }
          ],
          "scatter": [
           {
            "fillpattern": {
             "fillmode": "overlay",
             "size": 10,
             "solidity": 0.2
            },
            "type": "scatter"
           }
          ],
          "scatter3d": [
           {
            "line": {
             "colorbar": {
              "outlinewidth": 0,
              "ticks": ""
             }
            },
            "marker": {
             "colorbar": {
              "outlinewidth": 0,
              "ticks": ""
             }
            },
            "type": "scatter3d"
           }
          ],
          "scattercarpet": [
           {
            "marker": {
             "colorbar": {
              "outlinewidth": 0,
              "ticks": ""
             }
            },
            "type": "scattercarpet"
           }
          ],
          "scattergeo": [
           {
            "marker": {
             "colorbar": {
              "outlinewidth": 0,
              "ticks": ""
             }
            },
            "type": "scattergeo"
           }
          ],
          "scattergl": [
           {
            "marker": {
             "colorbar": {
              "outlinewidth": 0,
              "ticks": ""
             }
            },
            "type": "scattergl"
           }
          ],
          "scattermapbox": [
           {
            "marker": {
             "colorbar": {
              "outlinewidth": 0,
              "ticks": ""
             }
            },
            "type": "scattermapbox"
           }
          ],
          "scatterpolar": [
           {
            "marker": {
             "colorbar": {
              "outlinewidth": 0,
              "ticks": ""
             }
            },
            "type": "scatterpolar"
           }
          ],
          "scatterpolargl": [
           {
            "marker": {
             "colorbar": {
              "outlinewidth": 0,
              "ticks": ""
             }
            },
            "type": "scatterpolargl"
           }
          ],
          "scatterternary": [
           {
            "marker": {
             "colorbar": {
              "outlinewidth": 0,
              "ticks": ""
             }
            },
            "type": "scatterternary"
           }
          ],
          "surface": [
           {
            "colorbar": {
             "outlinewidth": 0,
             "ticks": ""
            },
            "colorscale": [
             [
              0,
              "#0d0887"
             ],
             [
              0.1111111111111111,
              "#46039f"
             ],
             [
              0.2222222222222222,
              "#7201a8"
             ],
             [
              0.3333333333333333,
              "#9c179e"
             ],
             [
              0.4444444444444444,
              "#bd3786"
             ],
             [
              0.5555555555555556,
              "#d8576b"
             ],
             [
              0.6666666666666666,
              "#ed7953"
             ],
             [
              0.7777777777777778,
              "#fb9f3a"
             ],
             [
              0.8888888888888888,
              "#fdca26"
             ],
             [
              1,
              "#f0f921"
             ]
            ],
            "type": "surface"
           }
          ],
          "table": [
           {
            "cells": {
             "fill": {
              "color": "#EBF0F8"
             },
             "line": {
              "color": "white"
             }
            },
            "header": {
             "fill": {
              "color": "#C8D4E3"
             },
             "line": {
              "color": "white"
             }
            },
            "type": "table"
           }
          ]
         },
         "layout": {
          "annotationdefaults": {
           "arrowcolor": "#2a3f5f",
           "arrowhead": 0,
           "arrowwidth": 1
          },
          "autotypenumbers": "strict",
          "coloraxis": {
           "colorbar": {
            "outlinewidth": 0,
            "ticks": ""
           }
          },
          "colorscale": {
           "diverging": [
            [
             0,
             "#8e0152"
            ],
            [
             0.1,
             "#c51b7d"
            ],
            [
             0.2,
             "#de77ae"
            ],
            [
             0.3,
             "#f1b6da"
            ],
            [
             0.4,
             "#fde0ef"
            ],
            [
             0.5,
             "#f7f7f7"
            ],
            [
             0.6,
             "#e6f5d0"
            ],
            [
             0.7,
             "#b8e186"
            ],
            [
             0.8,
             "#7fbc41"
            ],
            [
             0.9,
             "#4d9221"
            ],
            [
             1,
             "#276419"
            ]
           ],
           "sequential": [
            [
             0,
             "#0d0887"
            ],
            [
             0.1111111111111111,
             "#46039f"
            ],
            [
             0.2222222222222222,
             "#7201a8"
            ],
            [
             0.3333333333333333,
             "#9c179e"
            ],
            [
             0.4444444444444444,
             "#bd3786"
            ],
            [
             0.5555555555555556,
             "#d8576b"
            ],
            [
             0.6666666666666666,
             "#ed7953"
            ],
            [
             0.7777777777777778,
             "#fb9f3a"
            ],
            [
             0.8888888888888888,
             "#fdca26"
            ],
            [
             1,
             "#f0f921"
            ]
           ],
           "sequentialminus": [
            [
             0,
             "#0d0887"
            ],
            [
             0.1111111111111111,
             "#46039f"
            ],
            [
             0.2222222222222222,
             "#7201a8"
            ],
            [
             0.3333333333333333,
             "#9c179e"
            ],
            [
             0.4444444444444444,
             "#bd3786"
            ],
            [
             0.5555555555555556,
             "#d8576b"
            ],
            [
             0.6666666666666666,
             "#ed7953"
            ],
            [
             0.7777777777777778,
             "#fb9f3a"
            ],
            [
             0.8888888888888888,
             "#fdca26"
            ],
            [
             1,
             "#f0f921"
            ]
           ]
          },
          "colorway": [
           "#636efa",
           "#EF553B",
           "#00cc96",
           "#ab63fa",
           "#FFA15A",
           "#19d3f3",
           "#FF6692",
           "#B6E880",
           "#FF97FF",
           "#FECB52"
          ],
          "font": {
           "color": "#2a3f5f"
          },
          "geo": {
           "bgcolor": "white",
           "lakecolor": "white",
           "landcolor": "#E5ECF6",
           "showlakes": true,
           "showland": true,
           "subunitcolor": "white"
          },
          "hoverlabel": {
           "align": "left"
          },
          "hovermode": "closest",
          "mapbox": {
           "style": "light"
          },
          "paper_bgcolor": "white",
          "plot_bgcolor": "#E5ECF6",
          "polar": {
           "angularaxis": {
            "gridcolor": "white",
            "linecolor": "white",
            "ticks": ""
           },
           "bgcolor": "#E5ECF6",
           "radialaxis": {
            "gridcolor": "white",
            "linecolor": "white",
            "ticks": ""
           }
          },
          "scene": {
           "xaxis": {
            "backgroundcolor": "#E5ECF6",
            "gridcolor": "white",
            "gridwidth": 2,
            "linecolor": "white",
            "showbackground": true,
            "ticks": "",
            "zerolinecolor": "white"
           },
           "yaxis": {
            "backgroundcolor": "#E5ECF6",
            "gridcolor": "white",
            "gridwidth": 2,
            "linecolor": "white",
            "showbackground": true,
            "ticks": "",
            "zerolinecolor": "white"
           },
           "zaxis": {
            "backgroundcolor": "#E5ECF6",
            "gridcolor": "white",
            "gridwidth": 2,
            "linecolor": "white",
            "showbackground": true,
            "ticks": "",
            "zerolinecolor": "white"
           }
          },
          "shapedefaults": {
           "line": {
            "color": "#2a3f5f"
           }
          },
          "ternary": {
           "aaxis": {
            "gridcolor": "white",
            "linecolor": "white",
            "ticks": ""
           },
           "baxis": {
            "gridcolor": "white",
            "linecolor": "white",
            "ticks": ""
           },
           "bgcolor": "#E5ECF6",
           "caxis": {
            "gridcolor": "white",
            "linecolor": "white",
            "ticks": ""
           }
          },
          "title": {
           "x": 0.05
          },
          "xaxis": {
           "automargin": true,
           "gridcolor": "white",
           "linecolor": "white",
           "ticks": "",
           "title": {
            "standoff": 15
           },
           "zerolinecolor": "white",
           "zerolinewidth": 2
          },
          "yaxis": {
           "automargin": true,
           "gridcolor": "white",
           "linecolor": "white",
           "ticks": "",
           "title": {
            "standoff": 15
           },
           "zerolinecolor": "white",
           "zerolinewidth": 2
          }
         }
        },
        "title": {
         "text": "UMAP applied to train per sensor and per axis and using all features"
        },
        "xaxis": {
         "anchor": "y",
         "domain": [
          0,
          0.2888888888888889
         ],
         "tickmode": "linear",
         "title": {
          "text": "UMAP components (x6)"
         }
        },
        "xaxis2": {
         "anchor": "y2",
         "domain": [
          0.35555555555555557,
          0.6444444444444445
         ],
         "tickmode": "linear",
         "title": {
          "text": "UMAP components (x3)"
         }
        },
        "xaxis3": {
         "anchor": "y3",
         "domain": [
          0.7111111111111111,
          1
         ],
         "tickmode": "linear",
         "title": {
          "text": "UMAP components (x1)"
         }
        },
        "yaxis": {
         "anchor": "x",
         "domain": [
          0,
          1
         ],
         "range": [
          0.6,
          1
         ],
         "title": {
          "text": "Accuracy (best classifier)"
         }
        },
        "yaxis2": {
         "anchor": "x2",
         "domain": [
          0,
          1
         ],
         "range": [
          0.6,
          1
         ],
         "title": {
          "text": "Accuracy (best classifier)"
         }
        },
        "yaxis3": {
         "anchor": "x3",
         "domain": [
          0,
          1
         ],
         "range": [
          0.6,
          1
         ],
         "title": {
          "text": "Accuracy (best classifier)"
         }
        }
       }
      }
     },
     "metadata": {},
     "output_type": "display_data"
    }
   ],
   "source": [
    "df = results.copy()\n",
    "df = filter_domain_fft_only(df)\n",
    "df = filter_features_all(df)\n",
    "# df = filter_reducer_over_all(df)\n",
    "df = filter_scaler_none(df)\n",
    "df = filter_view_standardized_balanced(df)\n",
    "df = best_of_each_estimator(df)\n",
    "df = filter_only_reducer_dataset_equals_train_dataset(df)\n",
    "\n",
    "fig = make_subplots(rows=1, cols=3, shared_yaxes=False, column_titles=[\"Umap using all features\", \"Per-sensor UMAP\", \"Per-sensor-axis umap\"])\n",
    "\n",
    "xs = [3, 5, 6, 7, 8, 9, 10]\n",
    "all_df = filter_reducer_over_all(df.copy())\n",
    "sensor_df = filter_reducer_over_sensor(df.copy())\n",
    "axis_df = filter_reducer_over_axis(df.copy())\n",
    "\n",
    "vals = [\n",
    "    (all_df,    [18, 30, 36, 42, 48, 54, 60 ]),\n",
    "    (sensor_df, [9, 15, 18, 21, 24, 27, 30]),\n",
    "    (axis_df,   [3, 5, 6, 7, 8, 9, 10])\n",
    "]\n",
    "\n",
    "for col_no, (df, the_range) in enumerate(vals):\n",
    "    for d, dset in enumerate(datasets):\n",
    "        ys = []\n",
    "        for i in the_range:\n",
    "            best_acc = all_df.loc[(all_df[\"umap components\"] == i) & (all_df[\"train_datasets\"] == dset), \"accuracy (mean)\"].sort_values().iloc[-1]\n",
    "            ys.append(best_acc)\n",
    "            \n",
    "        fig.add_trace(\n",
    "            go.Scatter(\n",
    "                x=xs,\n",
    "                y=ys,\n",
    "                name=dset,\n",
    "                hovertext=[f\"{r} components\" for r in the_range],\n",
    "                legendgroup=dset,\n",
    "                marker=dict(\n",
    "                    color=colors[d]\n",
    "                )\n",
    "            ),\n",
    "            row=1,\n",
    "            col=col_no+1\n",
    "        )\n",
    "        \n",
    "fig[\"layout\"][\"xaxis1\"].update(title=f\"UMAP components (x6)\", tickmode=\"linear\")\n",
    "fig[\"layout\"][\"xaxis2\"].update(title=f\"UMAP components (x3)\", tickmode=\"linear\")\n",
    "fig[\"layout\"][\"xaxis3\"].update(title=f\"UMAP components (x1)\", tickmode=\"linear\")\n",
    "fig[\"layout\"][\"yaxis1\"].update(title=\"Accuracy (best classifier)\", range=[0.6, 1])\n",
    "fig[\"layout\"][\"yaxis2\"].update(title=\"Accuracy (best classifier)\", range=[0.6, 1])\n",
    "fig[\"layout\"][\"yaxis3\"].update(title=\"Accuracy (best classifier)\", range=[0.6, 1])\n",
    "fig.update_layout(\n",
    "    title=\"UMAP applied to train per sensor and per axis and using all features\",\n",
    "    legend_title=\"Dataset\",\n",
    "    # xaxis=dict(tickmode=\"linear\"),\n",
    ")\n",
    "\n",
    "\n",
    "fig.show()\n"
   ]
  },
  {
   "attachments": {},
   "cell_type": "markdown",
   "metadata": {},
   "source": [
    "## Pergunta 6\n",
    "\n",
    "Há uma mudança significativa entre os diferentes classificadores?"
   ]
  },
  {
   "cell_type": "code",
   "execution_count": 55,
   "metadata": {},
   "outputs": [],
   "source": [
    "# def get_estimator_improvement(df):\n",
    "#     experiment_uniq = [c for c in unique_exp_columns if c not in [\"estimator\"]]\n",
    "#     df = df[df[\"umap components\"] > 0]\n",
    "\n",
    "#     all_values = {}\n",
    "#     for _, subdf in df[df[\"reduce_on\"] == \"all\"].iterrows():\n",
    "#         all_values[tuple(subdf[experiment_uniq].values.tolist())] = subdf[\"accuracy (mean)\"]\n",
    "\n",
    "#     df[\"umap improvement\"] = df.apply(lambda x: x[\"accuracy (mean)\"] / all_values.get(tuple(x[experiment_uniq].values.tolist()), np.nan), axis=1)\n",
    "#     df = df.dropna(subset=[\"umap improvement\"], inplace=False)\n",
    "#     df = df[df[\"reduce_on\"] != \"all\"]\n",
    "#     lines = [subdf[subdf[\"umap improvement\"] == subdf[\"umap improvement\"].max()].iloc[0] for _, subdf in df.groupby(experiment_uniq)]\n",
    "#     df = pd.DataFrame(lines)\n",
    "#     return df\n",
    "\n",
    "# # results = add_umap_improvement(results)\n",
    "# #df = only_standardized_view(no_scaler(using_all_features(only_fft(only_reduce_on_all(only_reducer_equals_train(df))))))"
   ]
  },
  {
   "attachments": {},
   "cell_type": "markdown",
   "metadata": {},
   "source": [
    "## Pergunta 7\n",
    "\n",
    "Melhor no domínio da frequência ou tempo (condicionada à abordagem - manifold learning com UMAP)? (ou wavelet?)\n",
    "\n",
    "- Usar barras de sobreposição\n",
    "- Sem UMAP (tempo e frequencia)\n",
    "- Best(<20) vs UMAP 10"
   ]
  },
  {
   "cell_type": "code",
   "execution_count": 56,
   "metadata": {},
   "outputs": [
    {
     "data": {
      "application/vnd.plotly.v1+json": {
       "config": {
        "plotlyServerURL": "https://plot.ly"
       },
       "data": [
        {
         "marker": {
          "color": "#636EFA"
         },
         "name": "FFT",
         "type": "bar",
         "x": [
          "kuhar",
          "motionsense",
          "uci",
          "wisdm",
          "realworld"
         ],
         "y": [
          0.8555555555555555,
          0.9300376647834276,
          0.9247826086956522,
          0.8566101694915254,
          0.8025494672754947
         ]
        },
        {
         "marker": {
          "color": "#00CC96"
         },
         "name": "TIME",
         "type": "bar",
         "width": [
          0.5,
          0.5,
          0.5,
          0.5,
          0.5
         ],
         "x": [
          "kuhar",
          "motionsense",
          "uci",
          "wisdm",
          "realworld"
         ],
         "y": [
          0.8027777777777777,
          0.8849340866290019,
          0.8865217391304349,
          0.769522342064715,
          0.6101217656012177
         ]
        }
       ],
       "layout": {
        "barmode": "overlay",
        "template": {
         "data": {
          "bar": [
           {
            "error_x": {
             "color": "#2a3f5f"
            },
            "error_y": {
             "color": "#2a3f5f"
            },
            "marker": {
             "line": {
              "color": "#E5ECF6",
              "width": 0.5
             },
             "pattern": {
              "fillmode": "overlay",
              "size": 10,
              "solidity": 0.2
             }
            },
            "type": "bar"
           }
          ],
          "barpolar": [
           {
            "marker": {
             "line": {
              "color": "#E5ECF6",
              "width": 0.5
             },
             "pattern": {
              "fillmode": "overlay",
              "size": 10,
              "solidity": 0.2
             }
            },
            "type": "barpolar"
           }
          ],
          "carpet": [
           {
            "aaxis": {
             "endlinecolor": "#2a3f5f",
             "gridcolor": "white",
             "linecolor": "white",
             "minorgridcolor": "white",
             "startlinecolor": "#2a3f5f"
            },
            "baxis": {
             "endlinecolor": "#2a3f5f",
             "gridcolor": "white",
             "linecolor": "white",
             "minorgridcolor": "white",
             "startlinecolor": "#2a3f5f"
            },
            "type": "carpet"
           }
          ],
          "choropleth": [
           {
            "colorbar": {
             "outlinewidth": 0,
             "ticks": ""
            },
            "type": "choropleth"
           }
          ],
          "contour": [
           {
            "colorbar": {
             "outlinewidth": 0,
             "ticks": ""
            },
            "colorscale": [
             [
              0,
              "#0d0887"
             ],
             [
              0.1111111111111111,
              "#46039f"
             ],
             [
              0.2222222222222222,
              "#7201a8"
             ],
             [
              0.3333333333333333,
              "#9c179e"
             ],
             [
              0.4444444444444444,
              "#bd3786"
             ],
             [
              0.5555555555555556,
              "#d8576b"
             ],
             [
              0.6666666666666666,
              "#ed7953"
             ],
             [
              0.7777777777777778,
              "#fb9f3a"
             ],
             [
              0.8888888888888888,
              "#fdca26"
             ],
             [
              1,
              "#f0f921"
             ]
            ],
            "type": "contour"
           }
          ],
          "contourcarpet": [
           {
            "colorbar": {
             "outlinewidth": 0,
             "ticks": ""
            },
            "type": "contourcarpet"
           }
          ],
          "heatmap": [
           {
            "colorbar": {
             "outlinewidth": 0,
             "ticks": ""
            },
            "colorscale": [
             [
              0,
              "#0d0887"
             ],
             [
              0.1111111111111111,
              "#46039f"
             ],
             [
              0.2222222222222222,
              "#7201a8"
             ],
             [
              0.3333333333333333,
              "#9c179e"
             ],
             [
              0.4444444444444444,
              "#bd3786"
             ],
             [
              0.5555555555555556,
              "#d8576b"
             ],
             [
              0.6666666666666666,
              "#ed7953"
             ],
             [
              0.7777777777777778,
              "#fb9f3a"
             ],
             [
              0.8888888888888888,
              "#fdca26"
             ],
             [
              1,
              "#f0f921"
             ]
            ],
            "type": "heatmap"
           }
          ],
          "heatmapgl": [
           {
            "colorbar": {
             "outlinewidth": 0,
             "ticks": ""
            },
            "colorscale": [
             [
              0,
              "#0d0887"
             ],
             [
              0.1111111111111111,
              "#46039f"
             ],
             [
              0.2222222222222222,
              "#7201a8"
             ],
             [
              0.3333333333333333,
              "#9c179e"
             ],
             [
              0.4444444444444444,
              "#bd3786"
             ],
             [
              0.5555555555555556,
              "#d8576b"
             ],
             [
              0.6666666666666666,
              "#ed7953"
             ],
             [
              0.7777777777777778,
              "#fb9f3a"
             ],
             [
              0.8888888888888888,
              "#fdca26"
             ],
             [
              1,
              "#f0f921"
             ]
            ],
            "type": "heatmapgl"
           }
          ],
          "histogram": [
           {
            "marker": {
             "pattern": {
              "fillmode": "overlay",
              "size": 10,
              "solidity": 0.2
             }
            },
            "type": "histogram"
           }
          ],
          "histogram2d": [
           {
            "colorbar": {
             "outlinewidth": 0,
             "ticks": ""
            },
            "colorscale": [
             [
              0,
              "#0d0887"
             ],
             [
              0.1111111111111111,
              "#46039f"
             ],
             [
              0.2222222222222222,
              "#7201a8"
             ],
             [
              0.3333333333333333,
              "#9c179e"
             ],
             [
              0.4444444444444444,
              "#bd3786"
             ],
             [
              0.5555555555555556,
              "#d8576b"
             ],
             [
              0.6666666666666666,
              "#ed7953"
             ],
             [
              0.7777777777777778,
              "#fb9f3a"
             ],
             [
              0.8888888888888888,
              "#fdca26"
             ],
             [
              1,
              "#f0f921"
             ]
            ],
            "type": "histogram2d"
           }
          ],
          "histogram2dcontour": [
           {
            "colorbar": {
             "outlinewidth": 0,
             "ticks": ""
            },
            "colorscale": [
             [
              0,
              "#0d0887"
             ],
             [
              0.1111111111111111,
              "#46039f"
             ],
             [
              0.2222222222222222,
              "#7201a8"
             ],
             [
              0.3333333333333333,
              "#9c179e"
             ],
             [
              0.4444444444444444,
              "#bd3786"
             ],
             [
              0.5555555555555556,
              "#d8576b"
             ],
             [
              0.6666666666666666,
              "#ed7953"
             ],
             [
              0.7777777777777778,
              "#fb9f3a"
             ],
             [
              0.8888888888888888,
              "#fdca26"
             ],
             [
              1,
              "#f0f921"
             ]
            ],
            "type": "histogram2dcontour"
           }
          ],
          "mesh3d": [
           {
            "colorbar": {
             "outlinewidth": 0,
             "ticks": ""
            },
            "type": "mesh3d"
           }
          ],
          "parcoords": [
           {
            "line": {
             "colorbar": {
              "outlinewidth": 0,
              "ticks": ""
             }
            },
            "type": "parcoords"
           }
          ],
          "pie": [
           {
            "automargin": true,
            "type": "pie"
           }
          ],
          "scatter": [
           {
            "fillpattern": {
             "fillmode": "overlay",
             "size": 10,
             "solidity": 0.2
            },
            "type": "scatter"
           }
          ],
          "scatter3d": [
           {
            "line": {
             "colorbar": {
              "outlinewidth": 0,
              "ticks": ""
             }
            },
            "marker": {
             "colorbar": {
              "outlinewidth": 0,
              "ticks": ""
             }
            },
            "type": "scatter3d"
           }
          ],
          "scattercarpet": [
           {
            "marker": {
             "colorbar": {
              "outlinewidth": 0,
              "ticks": ""
             }
            },
            "type": "scattercarpet"
           }
          ],
          "scattergeo": [
           {
            "marker": {
             "colorbar": {
              "outlinewidth": 0,
              "ticks": ""
             }
            },
            "type": "scattergeo"
           }
          ],
          "scattergl": [
           {
            "marker": {
             "colorbar": {
              "outlinewidth": 0,
              "ticks": ""
             }
            },
            "type": "scattergl"
           }
          ],
          "scattermapbox": [
           {
            "marker": {
             "colorbar": {
              "outlinewidth": 0,
              "ticks": ""
             }
            },
            "type": "scattermapbox"
           }
          ],
          "scatterpolar": [
           {
            "marker": {
             "colorbar": {
              "outlinewidth": 0,
              "ticks": ""
             }
            },
            "type": "scatterpolar"
           }
          ],
          "scatterpolargl": [
           {
            "marker": {
             "colorbar": {
              "outlinewidth": 0,
              "ticks": ""
             }
            },
            "type": "scatterpolargl"
           }
          ],
          "scatterternary": [
           {
            "marker": {
             "colorbar": {
              "outlinewidth": 0,
              "ticks": ""
             }
            },
            "type": "scatterternary"
           }
          ],
          "surface": [
           {
            "colorbar": {
             "outlinewidth": 0,
             "ticks": ""
            },
            "colorscale": [
             [
              0,
              "#0d0887"
             ],
             [
              0.1111111111111111,
              "#46039f"
             ],
             [
              0.2222222222222222,
              "#7201a8"
             ],
             [
              0.3333333333333333,
              "#9c179e"
             ],
             [
              0.4444444444444444,
              "#bd3786"
             ],
             [
              0.5555555555555556,
              "#d8576b"
             ],
             [
              0.6666666666666666,
              "#ed7953"
             ],
             [
              0.7777777777777778,
              "#fb9f3a"
             ],
             [
              0.8888888888888888,
              "#fdca26"
             ],
             [
              1,
              "#f0f921"
             ]
            ],
            "type": "surface"
           }
          ],
          "table": [
           {
            "cells": {
             "fill": {
              "color": "#EBF0F8"
             },
             "line": {
              "color": "white"
             }
            },
            "header": {
             "fill": {
              "color": "#C8D4E3"
             },
             "line": {
              "color": "white"
             }
            },
            "type": "table"
           }
          ]
         },
         "layout": {
          "annotationdefaults": {
           "arrowcolor": "#2a3f5f",
           "arrowhead": 0,
           "arrowwidth": 1
          },
          "autotypenumbers": "strict",
          "coloraxis": {
           "colorbar": {
            "outlinewidth": 0,
            "ticks": ""
           }
          },
          "colorscale": {
           "diverging": [
            [
             0,
             "#8e0152"
            ],
            [
             0.1,
             "#c51b7d"
            ],
            [
             0.2,
             "#de77ae"
            ],
            [
             0.3,
             "#f1b6da"
            ],
            [
             0.4,
             "#fde0ef"
            ],
            [
             0.5,
             "#f7f7f7"
            ],
            [
             0.6,
             "#e6f5d0"
            ],
            [
             0.7,
             "#b8e186"
            ],
            [
             0.8,
             "#7fbc41"
            ],
            [
             0.9,
             "#4d9221"
            ],
            [
             1,
             "#276419"
            ]
           ],
           "sequential": [
            [
             0,
             "#0d0887"
            ],
            [
             0.1111111111111111,
             "#46039f"
            ],
            [
             0.2222222222222222,
             "#7201a8"
            ],
            [
             0.3333333333333333,
             "#9c179e"
            ],
            [
             0.4444444444444444,
             "#bd3786"
            ],
            [
             0.5555555555555556,
             "#d8576b"
            ],
            [
             0.6666666666666666,
             "#ed7953"
            ],
            [
             0.7777777777777778,
             "#fb9f3a"
            ],
            [
             0.8888888888888888,
             "#fdca26"
            ],
            [
             1,
             "#f0f921"
            ]
           ],
           "sequentialminus": [
            [
             0,
             "#0d0887"
            ],
            [
             0.1111111111111111,
             "#46039f"
            ],
            [
             0.2222222222222222,
             "#7201a8"
            ],
            [
             0.3333333333333333,
             "#9c179e"
            ],
            [
             0.4444444444444444,
             "#bd3786"
            ],
            [
             0.5555555555555556,
             "#d8576b"
            ],
            [
             0.6666666666666666,
             "#ed7953"
            ],
            [
             0.7777777777777778,
             "#fb9f3a"
            ],
            [
             0.8888888888888888,
             "#fdca26"
            ],
            [
             1,
             "#f0f921"
            ]
           ]
          },
          "colorway": [
           "#636efa",
           "#EF553B",
           "#00cc96",
           "#ab63fa",
           "#FFA15A",
           "#19d3f3",
           "#FF6692",
           "#B6E880",
           "#FF97FF",
           "#FECB52"
          ],
          "font": {
           "color": "#2a3f5f"
          },
          "geo": {
           "bgcolor": "white",
           "lakecolor": "white",
           "landcolor": "#E5ECF6",
           "showlakes": true,
           "showland": true,
           "subunitcolor": "white"
          },
          "hoverlabel": {
           "align": "left"
          },
          "hovermode": "closest",
          "mapbox": {
           "style": "light"
          },
          "paper_bgcolor": "white",
          "plot_bgcolor": "#E5ECF6",
          "polar": {
           "angularaxis": {
            "gridcolor": "white",
            "linecolor": "white",
            "ticks": ""
           },
           "bgcolor": "#E5ECF6",
           "radialaxis": {
            "gridcolor": "white",
            "linecolor": "white",
            "ticks": ""
           }
          },
          "scene": {
           "xaxis": {
            "backgroundcolor": "#E5ECF6",
            "gridcolor": "white",
            "gridwidth": 2,
            "linecolor": "white",
            "showbackground": true,
            "ticks": "",
            "zerolinecolor": "white"
           },
           "yaxis": {
            "backgroundcolor": "#E5ECF6",
            "gridcolor": "white",
            "gridwidth": 2,
            "linecolor": "white",
            "showbackground": true,
            "ticks": "",
            "zerolinecolor": "white"
           },
           "zaxis": {
            "backgroundcolor": "#E5ECF6",
            "gridcolor": "white",
            "gridwidth": 2,
            "linecolor": "white",
            "showbackground": true,
            "ticks": "",
            "zerolinecolor": "white"
           }
          },
          "shapedefaults": {
           "line": {
            "color": "#2a3f5f"
           }
          },
          "ternary": {
           "aaxis": {
            "gridcolor": "white",
            "linecolor": "white",
            "ticks": ""
           },
           "baxis": {
            "gridcolor": "white",
            "linecolor": "white",
            "ticks": ""
           },
           "bgcolor": "#E5ECF6",
           "caxis": {
            "gridcolor": "white",
            "linecolor": "white",
            "ticks": ""
           }
          },
          "title": {
           "x": 0.05
          },
          "xaxis": {
           "automargin": true,
           "gridcolor": "white",
           "linecolor": "white",
           "ticks": "",
           "title": {
            "standoff": 15
           },
           "zerolinecolor": "white",
           "zerolinewidth": 2
          },
          "yaxis": {
           "automargin": true,
           "gridcolor": "white",
           "linecolor": "white",
           "ticks": "",
           "title": {
            "standoff": 15
           },
           "zerolinecolor": "white",
           "zerolinewidth": 2
          }
         }
        },
        "title": {
         "text": "Accuracy using different non-parametric transforms"
        },
        "xaxis": {
         "title": {
          "text": "Dataset"
         }
        },
        "yaxis": {
         "title": {
          "text": "Accuracy (best classifier/umap)"
         }
        }
       }
      }
     },
     "metadata": {},
     "output_type": "display_data"
    }
   ],
   "source": [
    "df = results.copy()\n",
    "# df = filter_domain_fft_only(df)\n",
    "df = filter_features_all(df)\n",
    "df = filter_reducer_over_all(df)\n",
    "df = filter_scaler_none(df)\n",
    "df = filter_view_standardized_balanced(df)\n",
    "df = filter_only_reducer_dataset_equals_train_dataset_or_no_reducer(df)\n",
    "\n",
    "fft_df = filter_domain_fft_only(df.copy())\n",
    "fft_df = best_of_each_umap(fft_df)\n",
    "\n",
    "time_df = filter_domain_time_only(df.copy())\n",
    "time_df = best_of_each_umap(time_df)\n",
    "\n",
    "estimators = [\"KNN-5\", \"SVM-rbf-C1.0\", \"randomforest-100\"]\n",
    "\n",
    "fig = go.Figure()\n",
    "xs = datasets\n",
    "\n",
    "ys_fft = []\n",
    "ys_time = []\n",
    "for dset in datasets:\n",
    "    best_acc = fft_df.loc[(fft_df[\"train_datasets\"] == dset) & (fft_df[\"estimator\"] == estimator), \"accuracy (mean)\"].sort_values().iloc[-1]\n",
    "    ys_fft.append(best_acc)\n",
    "    best_acc = time_df.loc[(time_df[\"train_datasets\"] == dset) & (time_df[\"estimator\"] == estimator), \"accuracy (mean)\"].sort_values().iloc[-1]\n",
    "    ys_time.append(best_acc)\n",
    "fig.add_trace(\n",
    "    go.Bar(\n",
    "        x=xs,\n",
    "        y=ys_fft,\n",
    "        name=f\"FFT\",\n",
    "        marker=dict(color=colors[0])\n",
    "    )\n",
    ")\n",
    "fig.add_trace(\n",
    "    go.Bar(\n",
    "        x=xs,\n",
    "        y=ys_time,\n",
    "        name=f\"TIME\",\n",
    "        width=[0.5, 0.5, 0.5, 0.5, 0.5],\n",
    "        marker=dict(color=colors[1])\n",
    "    )\n",
    ")\n",
    "    \n",
    "    \n",
    "\n",
    "# df = get_umap_improvement_over_no_umap(df)\n",
    "\n",
    "\n",
    "\n",
    "# fig = chart_bar_with_side_by_side(df, improvement_col=\"accuracy (mean)\", groupby=\"estimator\", inner_group=\"train_datasets\")\n",
    "# # fig.add_hline(y=1.0, line_dash=\"dash\", line_color=\"magenta\")\n",
    "# fig.update_layout(\n",
    "#     title=\"Accuracy using FFT\",\n",
    "#     xaxis_title=\"Dataset\",\n",
    "#     yaxis_title=\"Accuracy (mean)\",\n",
    "#     legend_title=\"Estimator\",\n",
    "#     width=800,\n",
    "#     height=600\n",
    "# )\n",
    "fig.update_layout(\n",
    "    title=\"Accuracy using different non-parametric transforms\",\n",
    "    xaxis_title=\"Dataset\",\n",
    "    yaxis_title=\"Accuracy (best classifier/umap)\",\n",
    "    barmode=\"overlay\"\n",
    ")\n",
    "\n",
    "fig.show()"
   ]
  },
  {
   "cell_type": "code",
   "execution_count": 57,
   "metadata": {},
   "outputs": [
    {
     "data": {
      "application/vnd.plotly.v1+json": {
       "config": {
        "plotlyServerURL": "https://plot.ly"
       },
       "data": [
        {
         "marker": {
          "color": "#636EFA"
         },
         "name": "KNN-5",
         "type": "bar",
         "x": [
          "kuhar",
          "motionsense",
          "realworld",
          "uci",
          "wisdm"
         ],
         "y": [
          0.888888888888889,
          0.909604519774011,
          0.6464992389649924,
          0.8231884057971014,
          0.8628659476117104
         ]
        },
        {
         "marker": {
          "color": "#00CC96"
         },
         "name": "SVM-rbf-C1.0",
         "type": "bar",
         "x": [
          "kuhar",
          "motionsense",
          "realworld",
          "uci",
          "wisdm"
         ],
         "y": [
          0.7222222222222222,
          0.8305084745762713,
          0.7549467275494672,
          0.7956521739130434,
          0.8043143297380585
         ]
        },
        {
         "marker": {
          "color": "#AB63FA"
         },
         "name": "randomforest-100",
         "type": "bar",
         "x": [
          "kuhar",
          "motionsense",
          "realworld",
          "uci",
          "wisdm"
         ],
         "y": [
          0.8395833333333333,
          0.9300376647834276,
          0.8025494672754947,
          0.9247826086956522,
          0.8538058551617874
         ]
        }
       ],
       "layout": {
        "height": 600,
        "legend": {
         "title": {
          "text": "Estimator"
         }
        },
        "template": {
         "data": {
          "bar": [
           {
            "error_x": {
             "color": "#2a3f5f"
            },
            "error_y": {
             "color": "#2a3f5f"
            },
            "marker": {
             "line": {
              "color": "#E5ECF6",
              "width": 0.5
             },
             "pattern": {
              "fillmode": "overlay",
              "size": 10,
              "solidity": 0.2
             }
            },
            "type": "bar"
           }
          ],
          "barpolar": [
           {
            "marker": {
             "line": {
              "color": "#E5ECF6",
              "width": 0.5
             },
             "pattern": {
              "fillmode": "overlay",
              "size": 10,
              "solidity": 0.2
             }
            },
            "type": "barpolar"
           }
          ],
          "carpet": [
           {
            "aaxis": {
             "endlinecolor": "#2a3f5f",
             "gridcolor": "white",
             "linecolor": "white",
             "minorgridcolor": "white",
             "startlinecolor": "#2a3f5f"
            },
            "baxis": {
             "endlinecolor": "#2a3f5f",
             "gridcolor": "white",
             "linecolor": "white",
             "minorgridcolor": "white",
             "startlinecolor": "#2a3f5f"
            },
            "type": "carpet"
           }
          ],
          "choropleth": [
           {
            "colorbar": {
             "outlinewidth": 0,
             "ticks": ""
            },
            "type": "choropleth"
           }
          ],
          "contour": [
           {
            "colorbar": {
             "outlinewidth": 0,
             "ticks": ""
            },
            "colorscale": [
             [
              0,
              "#0d0887"
             ],
             [
              0.1111111111111111,
              "#46039f"
             ],
             [
              0.2222222222222222,
              "#7201a8"
             ],
             [
              0.3333333333333333,
              "#9c179e"
             ],
             [
              0.4444444444444444,
              "#bd3786"
             ],
             [
              0.5555555555555556,
              "#d8576b"
             ],
             [
              0.6666666666666666,
              "#ed7953"
             ],
             [
              0.7777777777777778,
              "#fb9f3a"
             ],
             [
              0.8888888888888888,
              "#fdca26"
             ],
             [
              1,
              "#f0f921"
             ]
            ],
            "type": "contour"
           }
          ],
          "contourcarpet": [
           {
            "colorbar": {
             "outlinewidth": 0,
             "ticks": ""
            },
            "type": "contourcarpet"
           }
          ],
          "heatmap": [
           {
            "colorbar": {
             "outlinewidth": 0,
             "ticks": ""
            },
            "colorscale": [
             [
              0,
              "#0d0887"
             ],
             [
              0.1111111111111111,
              "#46039f"
             ],
             [
              0.2222222222222222,
              "#7201a8"
             ],
             [
              0.3333333333333333,
              "#9c179e"
             ],
             [
              0.4444444444444444,
              "#bd3786"
             ],
             [
              0.5555555555555556,
              "#d8576b"
             ],
             [
              0.6666666666666666,
              "#ed7953"
             ],
             [
              0.7777777777777778,
              "#fb9f3a"
             ],
             [
              0.8888888888888888,
              "#fdca26"
             ],
             [
              1,
              "#f0f921"
             ]
            ],
            "type": "heatmap"
           }
          ],
          "heatmapgl": [
           {
            "colorbar": {
             "outlinewidth": 0,
             "ticks": ""
            },
            "colorscale": [
             [
              0,
              "#0d0887"
             ],
             [
              0.1111111111111111,
              "#46039f"
             ],
             [
              0.2222222222222222,
              "#7201a8"
             ],
             [
              0.3333333333333333,
              "#9c179e"
             ],
             [
              0.4444444444444444,
              "#bd3786"
             ],
             [
              0.5555555555555556,
              "#d8576b"
             ],
             [
              0.6666666666666666,
              "#ed7953"
             ],
             [
              0.7777777777777778,
              "#fb9f3a"
             ],
             [
              0.8888888888888888,
              "#fdca26"
             ],
             [
              1,
              "#f0f921"
             ]
            ],
            "type": "heatmapgl"
           }
          ],
          "histogram": [
           {
            "marker": {
             "pattern": {
              "fillmode": "overlay",
              "size": 10,
              "solidity": 0.2
             }
            },
            "type": "histogram"
           }
          ],
          "histogram2d": [
           {
            "colorbar": {
             "outlinewidth": 0,
             "ticks": ""
            },
            "colorscale": [
             [
              0,
              "#0d0887"
             ],
             [
              0.1111111111111111,
              "#46039f"
             ],
             [
              0.2222222222222222,
              "#7201a8"
             ],
             [
              0.3333333333333333,
              "#9c179e"
             ],
             [
              0.4444444444444444,
              "#bd3786"
             ],
             [
              0.5555555555555556,
              "#d8576b"
             ],
             [
              0.6666666666666666,
              "#ed7953"
             ],
             [
              0.7777777777777778,
              "#fb9f3a"
             ],
             [
              0.8888888888888888,
              "#fdca26"
             ],
             [
              1,
              "#f0f921"
             ]
            ],
            "type": "histogram2d"
           }
          ],
          "histogram2dcontour": [
           {
            "colorbar": {
             "outlinewidth": 0,
             "ticks": ""
            },
            "colorscale": [
             [
              0,
              "#0d0887"
             ],
             [
              0.1111111111111111,
              "#46039f"
             ],
             [
              0.2222222222222222,
              "#7201a8"
             ],
             [
              0.3333333333333333,
              "#9c179e"
             ],
             [
              0.4444444444444444,
              "#bd3786"
             ],
             [
              0.5555555555555556,
              "#d8576b"
             ],
             [
              0.6666666666666666,
              "#ed7953"
             ],
             [
              0.7777777777777778,
              "#fb9f3a"
             ],
             [
              0.8888888888888888,
              "#fdca26"
             ],
             [
              1,
              "#f0f921"
             ]
            ],
            "type": "histogram2dcontour"
           }
          ],
          "mesh3d": [
           {
            "colorbar": {
             "outlinewidth": 0,
             "ticks": ""
            },
            "type": "mesh3d"
           }
          ],
          "parcoords": [
           {
            "line": {
             "colorbar": {
              "outlinewidth": 0,
              "ticks": ""
             }
            },
            "type": "parcoords"
           }
          ],
          "pie": [
           {
            "automargin": true,
            "type": "pie"
           }
          ],
          "scatter": [
           {
            "fillpattern": {
             "fillmode": "overlay",
             "size": 10,
             "solidity": 0.2
            },
            "type": "scatter"
           }
          ],
          "scatter3d": [
           {
            "line": {
             "colorbar": {
              "outlinewidth": 0,
              "ticks": ""
             }
            },
            "marker": {
             "colorbar": {
              "outlinewidth": 0,
              "ticks": ""
             }
            },
            "type": "scatter3d"
           }
          ],
          "scattercarpet": [
           {
            "marker": {
             "colorbar": {
              "outlinewidth": 0,
              "ticks": ""
             }
            },
            "type": "scattercarpet"
           }
          ],
          "scattergeo": [
           {
            "marker": {
             "colorbar": {
              "outlinewidth": 0,
              "ticks": ""
             }
            },
            "type": "scattergeo"
           }
          ],
          "scattergl": [
           {
            "marker": {
             "colorbar": {
              "outlinewidth": 0,
              "ticks": ""
             }
            },
            "type": "scattergl"
           }
          ],
          "scattermapbox": [
           {
            "marker": {
             "colorbar": {
              "outlinewidth": 0,
              "ticks": ""
             }
            },
            "type": "scattermapbox"
           }
          ],
          "scatterpolar": [
           {
            "marker": {
             "colorbar": {
              "outlinewidth": 0,
              "ticks": ""
             }
            },
            "type": "scatterpolar"
           }
          ],
          "scatterpolargl": [
           {
            "marker": {
             "colorbar": {
              "outlinewidth": 0,
              "ticks": ""
             }
            },
            "type": "scatterpolargl"
           }
          ],
          "scatterternary": [
           {
            "marker": {
             "colorbar": {
              "outlinewidth": 0,
              "ticks": ""
             }
            },
            "type": "scatterternary"
           }
          ],
          "surface": [
           {
            "colorbar": {
             "outlinewidth": 0,
             "ticks": ""
            },
            "colorscale": [
             [
              0,
              "#0d0887"
             ],
             [
              0.1111111111111111,
              "#46039f"
             ],
             [
              0.2222222222222222,
              "#7201a8"
             ],
             [
              0.3333333333333333,
              "#9c179e"
             ],
             [
              0.4444444444444444,
              "#bd3786"
             ],
             [
              0.5555555555555556,
              "#d8576b"
             ],
             [
              0.6666666666666666,
              "#ed7953"
             ],
             [
              0.7777777777777778,
              "#fb9f3a"
             ],
             [
              0.8888888888888888,
              "#fdca26"
             ],
             [
              1,
              "#f0f921"
             ]
            ],
            "type": "surface"
           }
          ],
          "table": [
           {
            "cells": {
             "fill": {
              "color": "#EBF0F8"
             },
             "line": {
              "color": "white"
             }
            },
            "header": {
             "fill": {
              "color": "#C8D4E3"
             },
             "line": {
              "color": "white"
             }
            },
            "type": "table"
           }
          ]
         },
         "layout": {
          "annotationdefaults": {
           "arrowcolor": "#2a3f5f",
           "arrowhead": 0,
           "arrowwidth": 1
          },
          "autotypenumbers": "strict",
          "coloraxis": {
           "colorbar": {
            "outlinewidth": 0,
            "ticks": ""
           }
          },
          "colorscale": {
           "diverging": [
            [
             0,
             "#8e0152"
            ],
            [
             0.1,
             "#c51b7d"
            ],
            [
             0.2,
             "#de77ae"
            ],
            [
             0.3,
             "#f1b6da"
            ],
            [
             0.4,
             "#fde0ef"
            ],
            [
             0.5,
             "#f7f7f7"
            ],
            [
             0.6,
             "#e6f5d0"
            ],
            [
             0.7,
             "#b8e186"
            ],
            [
             0.8,
             "#7fbc41"
            ],
            [
             0.9,
             "#4d9221"
            ],
            [
             1,
             "#276419"
            ]
           ],
           "sequential": [
            [
             0,
             "#0d0887"
            ],
            [
             0.1111111111111111,
             "#46039f"
            ],
            [
             0.2222222222222222,
             "#7201a8"
            ],
            [
             0.3333333333333333,
             "#9c179e"
            ],
            [
             0.4444444444444444,
             "#bd3786"
            ],
            [
             0.5555555555555556,
             "#d8576b"
            ],
            [
             0.6666666666666666,
             "#ed7953"
            ],
            [
             0.7777777777777778,
             "#fb9f3a"
            ],
            [
             0.8888888888888888,
             "#fdca26"
            ],
            [
             1,
             "#f0f921"
            ]
           ],
           "sequentialminus": [
            [
             0,
             "#0d0887"
            ],
            [
             0.1111111111111111,
             "#46039f"
            ],
            [
             0.2222222222222222,
             "#7201a8"
            ],
            [
             0.3333333333333333,
             "#9c179e"
            ],
            [
             0.4444444444444444,
             "#bd3786"
            ],
            [
             0.5555555555555556,
             "#d8576b"
            ],
            [
             0.6666666666666666,
             "#ed7953"
            ],
            [
             0.7777777777777778,
             "#fb9f3a"
            ],
            [
             0.8888888888888888,
             "#fdca26"
            ],
            [
             1,
             "#f0f921"
            ]
           ]
          },
          "colorway": [
           "#636efa",
           "#EF553B",
           "#00cc96",
           "#ab63fa",
           "#FFA15A",
           "#19d3f3",
           "#FF6692",
           "#B6E880",
           "#FF97FF",
           "#FECB52"
          ],
          "font": {
           "color": "#2a3f5f"
          },
          "geo": {
           "bgcolor": "white",
           "lakecolor": "white",
           "landcolor": "#E5ECF6",
           "showlakes": true,
           "showland": true,
           "subunitcolor": "white"
          },
          "hoverlabel": {
           "align": "left"
          },
          "hovermode": "closest",
          "mapbox": {
           "style": "light"
          },
          "paper_bgcolor": "white",
          "plot_bgcolor": "#E5ECF6",
          "polar": {
           "angularaxis": {
            "gridcolor": "white",
            "linecolor": "white",
            "ticks": ""
           },
           "bgcolor": "#E5ECF6",
           "radialaxis": {
            "gridcolor": "white",
            "linecolor": "white",
            "ticks": ""
           }
          },
          "scene": {
           "xaxis": {
            "backgroundcolor": "#E5ECF6",
            "gridcolor": "white",
            "gridwidth": 2,
            "linecolor": "white",
            "showbackground": true,
            "ticks": "",
            "zerolinecolor": "white"
           },
           "yaxis": {
            "backgroundcolor": "#E5ECF6",
            "gridcolor": "white",
            "gridwidth": 2,
            "linecolor": "white",
            "showbackground": true,
            "ticks": "",
            "zerolinecolor": "white"
           },
           "zaxis": {
            "backgroundcolor": "#E5ECF6",
            "gridcolor": "white",
            "gridwidth": 2,
            "linecolor": "white",
            "showbackground": true,
            "ticks": "",
            "zerolinecolor": "white"
           }
          },
          "shapedefaults": {
           "line": {
            "color": "#2a3f5f"
           }
          },
          "ternary": {
           "aaxis": {
            "gridcolor": "white",
            "linecolor": "white",
            "ticks": ""
           },
           "baxis": {
            "gridcolor": "white",
            "linecolor": "white",
            "ticks": ""
           },
           "bgcolor": "#E5ECF6",
           "caxis": {
            "gridcolor": "white",
            "linecolor": "white",
            "ticks": ""
           }
          },
          "title": {
           "x": 0.05
          },
          "xaxis": {
           "automargin": true,
           "gridcolor": "white",
           "linecolor": "white",
           "ticks": "",
           "title": {
            "standoff": 15
           },
           "zerolinecolor": "white",
           "zerolinewidth": 2
          },
          "yaxis": {
           "automargin": true,
           "gridcolor": "white",
           "linecolor": "white",
           "ticks": "",
           "title": {
            "standoff": 15
           },
           "zerolinecolor": "white",
           "zerolinewidth": 2
          }
         }
        },
        "title": {
         "text": "Accuracy using FFT"
        },
        "width": 800,
        "xaxis": {
         "title": {
          "text": "Dataset"
         }
        },
        "yaxis": {
         "title": {
          "text": "Accuracy (best umap)"
         }
        }
       }
      }
     },
     "metadata": {},
     "output_type": "display_data"
    }
   ],
   "source": [
    "df = results.copy()\n",
    "df = filter_domain_fft_only(df)\n",
    "df = filter_features_all(df)\n",
    "df = filter_reducer_over_all(df)\n",
    "df = filter_scaler_none(df)\n",
    "df = filter_view_standardized_balanced(df)\n",
    "df = filter_only_reducer_dataset_equals_train_dataset_or_no_reducer(df)\n",
    "# df = get_umap_improvement_over_no_umap(df)\n",
    "df = best_of_each_umap(df)\n",
    "\n",
    "fig = chart_bar_with_side_by_side(df, improvement_col=\"accuracy (mean)\", groupby=\"estimator\", inner_group=\"train_datasets\")\n",
    "# fig.add_hline(y=1.0, line_dash=\"dash\", line_color=\"magenta\")\n",
    "fig.update_layout(\n",
    "    title=\"Accuracy using FFT\",\n",
    "    xaxis_title=\"Dataset\",\n",
    "    yaxis_title=\"Accuracy (best umap)\",\n",
    "    legend_title=\"Estimator\",\n",
    "    width=800,\n",
    "    height=600\n",
    ")\n",
    "fig.show()"
   ]
  },
  {
   "cell_type": "code",
   "execution_count": 58,
   "metadata": {},
   "outputs": [
    {
     "data": {
      "application/vnd.plotly.v1+json": {
       "config": {
        "plotlyServerURL": "https://plot.ly"
       },
       "data": [
        {
         "marker": {
          "color": "#636EFA"
         },
         "name": "KNN-5",
         "type": "bar",
         "x": [
          "kuhar",
          "motionsense",
          "realworld",
          "uci",
          "wisdm"
         ],
         "y": [
          0.4930555555555555,
          0.6657250470809792,
          0.4577625570776256,
          0.6782608695652173,
          0.5115562403697996
         ]
        },
        {
         "marker": {
          "color": "#00CC96"
         },
         "name": "SVM-rbf-C1.0",
         "type": "bar",
         "x": [
          "kuhar",
          "motionsense",
          "realworld",
          "uci",
          "wisdm"
         ],
         "y": [
          0.6180555555555556,
          0.7711864406779662,
          0.7191780821917808,
          0.7855072463768116,
          0.6798151001540831
         ]
        },
        {
         "marker": {
          "color": "#AB63FA"
         },
         "name": "randomforest-100",
         "type": "bar",
         "x": [
          "kuhar",
          "motionsense",
          "realworld",
          "uci",
          "wisdm"
         ],
         "y": [
          0.8027777777777777,
          0.8849340866290019,
          0.6101217656012177,
          0.8865217391304349,
          0.769522342064715
         ]
        }
       ],
       "layout": {
        "height": 600,
        "legend": {
         "title": {
          "text": "Estimator"
         }
        },
        "template": {
         "data": {
          "bar": [
           {
            "error_x": {
             "color": "#2a3f5f"
            },
            "error_y": {
             "color": "#2a3f5f"
            },
            "marker": {
             "line": {
              "color": "#E5ECF6",
              "width": 0.5
             },
             "pattern": {
              "fillmode": "overlay",
              "size": 10,
              "solidity": 0.2
             }
            },
            "type": "bar"
           }
          ],
          "barpolar": [
           {
            "marker": {
             "line": {
              "color": "#E5ECF6",
              "width": 0.5
             },
             "pattern": {
              "fillmode": "overlay",
              "size": 10,
              "solidity": 0.2
             }
            },
            "type": "barpolar"
           }
          ],
          "carpet": [
           {
            "aaxis": {
             "endlinecolor": "#2a3f5f",
             "gridcolor": "white",
             "linecolor": "white",
             "minorgridcolor": "white",
             "startlinecolor": "#2a3f5f"
            },
            "baxis": {
             "endlinecolor": "#2a3f5f",
             "gridcolor": "white",
             "linecolor": "white",
             "minorgridcolor": "white",
             "startlinecolor": "#2a3f5f"
            },
            "type": "carpet"
           }
          ],
          "choropleth": [
           {
            "colorbar": {
             "outlinewidth": 0,
             "ticks": ""
            },
            "type": "choropleth"
           }
          ],
          "contour": [
           {
            "colorbar": {
             "outlinewidth": 0,
             "ticks": ""
            },
            "colorscale": [
             [
              0,
              "#0d0887"
             ],
             [
              0.1111111111111111,
              "#46039f"
             ],
             [
              0.2222222222222222,
              "#7201a8"
             ],
             [
              0.3333333333333333,
              "#9c179e"
             ],
             [
              0.4444444444444444,
              "#bd3786"
             ],
             [
              0.5555555555555556,
              "#d8576b"
             ],
             [
              0.6666666666666666,
              "#ed7953"
             ],
             [
              0.7777777777777778,
              "#fb9f3a"
             ],
             [
              0.8888888888888888,
              "#fdca26"
             ],
             [
              1,
              "#f0f921"
             ]
            ],
            "type": "contour"
           }
          ],
          "contourcarpet": [
           {
            "colorbar": {
             "outlinewidth": 0,
             "ticks": ""
            },
            "type": "contourcarpet"
           }
          ],
          "heatmap": [
           {
            "colorbar": {
             "outlinewidth": 0,
             "ticks": ""
            },
            "colorscale": [
             [
              0,
              "#0d0887"
             ],
             [
              0.1111111111111111,
              "#46039f"
             ],
             [
              0.2222222222222222,
              "#7201a8"
             ],
             [
              0.3333333333333333,
              "#9c179e"
             ],
             [
              0.4444444444444444,
              "#bd3786"
             ],
             [
              0.5555555555555556,
              "#d8576b"
             ],
             [
              0.6666666666666666,
              "#ed7953"
             ],
             [
              0.7777777777777778,
              "#fb9f3a"
             ],
             [
              0.8888888888888888,
              "#fdca26"
             ],
             [
              1,
              "#f0f921"
             ]
            ],
            "type": "heatmap"
           }
          ],
          "heatmapgl": [
           {
            "colorbar": {
             "outlinewidth": 0,
             "ticks": ""
            },
            "colorscale": [
             [
              0,
              "#0d0887"
             ],
             [
              0.1111111111111111,
              "#46039f"
             ],
             [
              0.2222222222222222,
              "#7201a8"
             ],
             [
              0.3333333333333333,
              "#9c179e"
             ],
             [
              0.4444444444444444,
              "#bd3786"
             ],
             [
              0.5555555555555556,
              "#d8576b"
             ],
             [
              0.6666666666666666,
              "#ed7953"
             ],
             [
              0.7777777777777778,
              "#fb9f3a"
             ],
             [
              0.8888888888888888,
              "#fdca26"
             ],
             [
              1,
              "#f0f921"
             ]
            ],
            "type": "heatmapgl"
           }
          ],
          "histogram": [
           {
            "marker": {
             "pattern": {
              "fillmode": "overlay",
              "size": 10,
              "solidity": 0.2
             }
            },
            "type": "histogram"
           }
          ],
          "histogram2d": [
           {
            "colorbar": {
             "outlinewidth": 0,
             "ticks": ""
            },
            "colorscale": [
             [
              0,
              "#0d0887"
             ],
             [
              0.1111111111111111,
              "#46039f"
             ],
             [
              0.2222222222222222,
              "#7201a8"
             ],
             [
              0.3333333333333333,
              "#9c179e"
             ],
             [
              0.4444444444444444,
              "#bd3786"
             ],
             [
              0.5555555555555556,
              "#d8576b"
             ],
             [
              0.6666666666666666,
              "#ed7953"
             ],
             [
              0.7777777777777778,
              "#fb9f3a"
             ],
             [
              0.8888888888888888,
              "#fdca26"
             ],
             [
              1,
              "#f0f921"
             ]
            ],
            "type": "histogram2d"
           }
          ],
          "histogram2dcontour": [
           {
            "colorbar": {
             "outlinewidth": 0,
             "ticks": ""
            },
            "colorscale": [
             [
              0,
              "#0d0887"
             ],
             [
              0.1111111111111111,
              "#46039f"
             ],
             [
              0.2222222222222222,
              "#7201a8"
             ],
             [
              0.3333333333333333,
              "#9c179e"
             ],
             [
              0.4444444444444444,
              "#bd3786"
             ],
             [
              0.5555555555555556,
              "#d8576b"
             ],
             [
              0.6666666666666666,
              "#ed7953"
             ],
             [
              0.7777777777777778,
              "#fb9f3a"
             ],
             [
              0.8888888888888888,
              "#fdca26"
             ],
             [
              1,
              "#f0f921"
             ]
            ],
            "type": "histogram2dcontour"
           }
          ],
          "mesh3d": [
           {
            "colorbar": {
             "outlinewidth": 0,
             "ticks": ""
            },
            "type": "mesh3d"
           }
          ],
          "parcoords": [
           {
            "line": {
             "colorbar": {
              "outlinewidth": 0,
              "ticks": ""
             }
            },
            "type": "parcoords"
           }
          ],
          "pie": [
           {
            "automargin": true,
            "type": "pie"
           }
          ],
          "scatter": [
           {
            "fillpattern": {
             "fillmode": "overlay",
             "size": 10,
             "solidity": 0.2
            },
            "type": "scatter"
           }
          ],
          "scatter3d": [
           {
            "line": {
             "colorbar": {
              "outlinewidth": 0,
              "ticks": ""
             }
            },
            "marker": {
             "colorbar": {
              "outlinewidth": 0,
              "ticks": ""
             }
            },
            "type": "scatter3d"
           }
          ],
          "scattercarpet": [
           {
            "marker": {
             "colorbar": {
              "outlinewidth": 0,
              "ticks": ""
             }
            },
            "type": "scattercarpet"
           }
          ],
          "scattergeo": [
           {
            "marker": {
             "colorbar": {
              "outlinewidth": 0,
              "ticks": ""
             }
            },
            "type": "scattergeo"
           }
          ],
          "scattergl": [
           {
            "marker": {
             "colorbar": {
              "outlinewidth": 0,
              "ticks": ""
             }
            },
            "type": "scattergl"
           }
          ],
          "scattermapbox": [
           {
            "marker": {
             "colorbar": {
              "outlinewidth": 0,
              "ticks": ""
             }
            },
            "type": "scattermapbox"
           }
          ],
          "scatterpolar": [
           {
            "marker": {
             "colorbar": {
              "outlinewidth": 0,
              "ticks": ""
             }
            },
            "type": "scatterpolar"
           }
          ],
          "scatterpolargl": [
           {
            "marker": {
             "colorbar": {
              "outlinewidth": 0,
              "ticks": ""
             }
            },
            "type": "scatterpolargl"
           }
          ],
          "scatterternary": [
           {
            "marker": {
             "colorbar": {
              "outlinewidth": 0,
              "ticks": ""
             }
            },
            "type": "scatterternary"
           }
          ],
          "surface": [
           {
            "colorbar": {
             "outlinewidth": 0,
             "ticks": ""
            },
            "colorscale": [
             [
              0,
              "#0d0887"
             ],
             [
              0.1111111111111111,
              "#46039f"
             ],
             [
              0.2222222222222222,
              "#7201a8"
             ],
             [
              0.3333333333333333,
              "#9c179e"
             ],
             [
              0.4444444444444444,
              "#bd3786"
             ],
             [
              0.5555555555555556,
              "#d8576b"
             ],
             [
              0.6666666666666666,
              "#ed7953"
             ],
             [
              0.7777777777777778,
              "#fb9f3a"
             ],
             [
              0.8888888888888888,
              "#fdca26"
             ],
             [
              1,
              "#f0f921"
             ]
            ],
            "type": "surface"
           }
          ],
          "table": [
           {
            "cells": {
             "fill": {
              "color": "#EBF0F8"
             },
             "line": {
              "color": "white"
             }
            },
            "header": {
             "fill": {
              "color": "#C8D4E3"
             },
             "line": {
              "color": "white"
             }
            },
            "type": "table"
           }
          ]
         },
         "layout": {
          "annotationdefaults": {
           "arrowcolor": "#2a3f5f",
           "arrowhead": 0,
           "arrowwidth": 1
          },
          "autotypenumbers": "strict",
          "coloraxis": {
           "colorbar": {
            "outlinewidth": 0,
            "ticks": ""
           }
          },
          "colorscale": {
           "diverging": [
            [
             0,
             "#8e0152"
            ],
            [
             0.1,
             "#c51b7d"
            ],
            [
             0.2,
             "#de77ae"
            ],
            [
             0.3,
             "#f1b6da"
            ],
            [
             0.4,
             "#fde0ef"
            ],
            [
             0.5,
             "#f7f7f7"
            ],
            [
             0.6,
             "#e6f5d0"
            ],
            [
             0.7,
             "#b8e186"
            ],
            [
             0.8,
             "#7fbc41"
            ],
            [
             0.9,
             "#4d9221"
            ],
            [
             1,
             "#276419"
            ]
           ],
           "sequential": [
            [
             0,
             "#0d0887"
            ],
            [
             0.1111111111111111,
             "#46039f"
            ],
            [
             0.2222222222222222,
             "#7201a8"
            ],
            [
             0.3333333333333333,
             "#9c179e"
            ],
            [
             0.4444444444444444,
             "#bd3786"
            ],
            [
             0.5555555555555556,
             "#d8576b"
            ],
            [
             0.6666666666666666,
             "#ed7953"
            ],
            [
             0.7777777777777778,
             "#fb9f3a"
            ],
            [
             0.8888888888888888,
             "#fdca26"
            ],
            [
             1,
             "#f0f921"
            ]
           ],
           "sequentialminus": [
            [
             0,
             "#0d0887"
            ],
            [
             0.1111111111111111,
             "#46039f"
            ],
            [
             0.2222222222222222,
             "#7201a8"
            ],
            [
             0.3333333333333333,
             "#9c179e"
            ],
            [
             0.4444444444444444,
             "#bd3786"
            ],
            [
             0.5555555555555556,
             "#d8576b"
            ],
            [
             0.6666666666666666,
             "#ed7953"
            ],
            [
             0.7777777777777778,
             "#fb9f3a"
            ],
            [
             0.8888888888888888,
             "#fdca26"
            ],
            [
             1,
             "#f0f921"
            ]
           ]
          },
          "colorway": [
           "#636efa",
           "#EF553B",
           "#00cc96",
           "#ab63fa",
           "#FFA15A",
           "#19d3f3",
           "#FF6692",
           "#B6E880",
           "#FF97FF",
           "#FECB52"
          ],
          "font": {
           "color": "#2a3f5f"
          },
          "geo": {
           "bgcolor": "white",
           "lakecolor": "white",
           "landcolor": "#E5ECF6",
           "showlakes": true,
           "showland": true,
           "subunitcolor": "white"
          },
          "hoverlabel": {
           "align": "left"
          },
          "hovermode": "closest",
          "mapbox": {
           "style": "light"
          },
          "paper_bgcolor": "white",
          "plot_bgcolor": "#E5ECF6",
          "polar": {
           "angularaxis": {
            "gridcolor": "white",
            "linecolor": "white",
            "ticks": ""
           },
           "bgcolor": "#E5ECF6",
           "radialaxis": {
            "gridcolor": "white",
            "linecolor": "white",
            "ticks": ""
           }
          },
          "scene": {
           "xaxis": {
            "backgroundcolor": "#E5ECF6",
            "gridcolor": "white",
            "gridwidth": 2,
            "linecolor": "white",
            "showbackground": true,
            "ticks": "",
            "zerolinecolor": "white"
           },
           "yaxis": {
            "backgroundcolor": "#E5ECF6",
            "gridcolor": "white",
            "gridwidth": 2,
            "linecolor": "white",
            "showbackground": true,
            "ticks": "",
            "zerolinecolor": "white"
           },
           "zaxis": {
            "backgroundcolor": "#E5ECF6",
            "gridcolor": "white",
            "gridwidth": 2,
            "linecolor": "white",
            "showbackground": true,
            "ticks": "",
            "zerolinecolor": "white"
           }
          },
          "shapedefaults": {
           "line": {
            "color": "#2a3f5f"
           }
          },
          "ternary": {
           "aaxis": {
            "gridcolor": "white",
            "linecolor": "white",
            "ticks": ""
           },
           "baxis": {
            "gridcolor": "white",
            "linecolor": "white",
            "ticks": ""
           },
           "bgcolor": "#E5ECF6",
           "caxis": {
            "gridcolor": "white",
            "linecolor": "white",
            "ticks": ""
           }
          },
          "title": {
           "x": 0.05
          },
          "xaxis": {
           "automargin": true,
           "gridcolor": "white",
           "linecolor": "white",
           "ticks": "",
           "title": {
            "standoff": 15
           },
           "zerolinecolor": "white",
           "zerolinewidth": 2
          },
          "yaxis": {
           "automargin": true,
           "gridcolor": "white",
           "linecolor": "white",
           "ticks": "",
           "title": {
            "standoff": 15
           },
           "zerolinecolor": "white",
           "zerolinewidth": 2
          }
         }
        },
        "title": {
         "text": "Accuracy using TIME"
        },
        "width": 800,
        "xaxis": {
         "title": {
          "text": "Dataset"
         }
        },
        "yaxis": {
         "title": {
          "text": "Accuracy (best umap)"
         }
        }
       }
      }
     },
     "metadata": {},
     "output_type": "display_data"
    }
   ],
   "source": [
    "df = results.copy()\n",
    "df = filter_domain_time_only(df)\n",
    "df = filter_features_all(df)\n",
    "df = filter_reducer_over_all(df)\n",
    "df = filter_scaler_none(df)\n",
    "df = filter_view_standardized_balanced(df)\n",
    "df = filter_only_reducer_dataset_equals_train_dataset_or_no_reducer(df)\n",
    "# df = get_umap_improvement_over_no_umap(df)\n",
    "df = best_of_each_umap(df)\n",
    "\n",
    "fig = chart_bar_with_side_by_side(df, improvement_col=\"accuracy (mean)\", groupby=\"estimator\", inner_group=\"train_datasets\")\n",
    "# fig.add_hline(y=1.0, line_dash=\"dash\", line_color=\"magenta\")\n",
    "fig.update_layout(\n",
    "    title=\"Accuracy using TIME\",\n",
    "    xaxis_title=\"Dataset\",\n",
    "    yaxis_title=\"Accuracy (best umap)\",\n",
    "    legend_title=\"Estimator\",\n",
    "    width=800,\n",
    "    height=600\n",
    ")\n",
    "fig.show()"
   ]
  },
  {
   "attachments": {},
   "cell_type": "markdown",
   "metadata": {},
   "source": [
    "## Pergunta 8"
   ]
  },
  {
   "cell_type": "code",
   "execution_count": 83,
   "metadata": {},
   "outputs": [
    {
     "data": {
      "application/vnd.plotly.v1+json": {
       "config": {
        "plotlyServerURL": "https://plot.ly"
       },
       "data": [
        {
         "hovertext": [
          "wisdm (180 components)",
          "realworld (180 components)",
          "motionsense (90 components)",
          "uci (180 components)",
          "kuhar (24 components)"
         ],
         "marker": {
          "color": "#636EFA",
          "size": 10,
          "symbol": [
           "x",
           "x",
           "x",
           "x",
           "circle"
          ]
         },
         "name": "kuhar",
         "type": "scatter",
         "x": [
          0,
          1,
          2,
          3,
          4
         ],
         "y": [
          0.2916666666666666,
          0.4625,
          0.5194444444444445,
          0.5525,
          0.8541666666666666
         ]
        },
        {
         "hovertext": [
          "uci (90 components)",
          "kuhar (90 components)",
          "wisdm (360 components)",
          "realworld (90 components)",
          "motionsense (60 components)"
         ],
         "marker": {
          "color": "#00CC96",
          "size": 10,
          "symbol": [
           "x",
           "x",
           "x",
           "x",
           "circle"
          ]
         },
         "name": "motionsense",
         "type": "scatter",
         "x": [
          0,
          1,
          2,
          3,
          4
         ],
         "y": [
          0.5133333333333334,
          0.5347222222222222,
          0.595,
          0.6986111111111111,
          0.9097222222222224
         ]
        },
        {
         "hovertext": [
          "wisdm (90 components)",
          "motionsense (360 components)",
          "kuhar (360 components)",
          "realworld (360 components)",
          "uci (10 components)"
         ],
         "marker": {
          "color": "#AB63FA",
          "size": 10,
          "symbol": [
           "x",
           "x",
           "x",
           "x",
           "circle"
          ]
         },
         "name": "uci",
         "type": "scatter",
         "x": [
          0,
          1,
          2,
          3,
          4
         ],
         "y": [
          0.375,
          0.4375,
          0.4652777777777778,
          0.4930555555555555,
          0.805
         ]
        },
        {
         "hovertext": [
          "uci (360 components)",
          "kuhar (180 components)",
          "realworld (90 components)",
          "motionsense (180 components)",
          "wisdm (30 components)"
         ],
         "marker": {
          "color": "#FFA15A",
          "size": 10,
          "symbol": [
           "x",
           "x",
           "x",
           "x",
           "circle"
          ]
         },
         "name": "wisdm",
         "type": "scatter",
         "x": [
          0,
          1,
          2,
          3,
          4
         ],
         "y": [
          0.3083333333333334,
          0.4652777777777778,
          0.5416666666666667,
          0.5979166666666667,
          0.8691666666666666
         ]
        },
        {
         "hovertext": [
          "kuhar (360 components)",
          "uci (90 components)",
          "wisdm (180 components)",
          "realworld (90 components)",
          "motionsense (180 components)"
         ],
         "marker": {
          "color": "#19D3F3",
          "size": 10,
          "symbol": [
           "x",
           "x",
           "x",
           "circle",
           "x"
          ]
         },
         "name": "realworld",
         "type": "scatter",
         "x": [
          0,
          1,
          2,
          3,
          4
         ],
         "y": [
          0.4791666666666667,
          0.5083333333333332,
          0.5416666666666667,
          0.638888888888889,
          0.7972222222222222
         ]
        }
       ],
       "layout": {
        "legend": {
         "title": {
          "text": "Train/Test dataset"
         }
        },
        "template": {
         "data": {
          "bar": [
           {
            "error_x": {
             "color": "#2a3f5f"
            },
            "error_y": {
             "color": "#2a3f5f"
            },
            "marker": {
             "line": {
              "color": "#E5ECF6",
              "width": 0.5
             },
             "pattern": {
              "fillmode": "overlay",
              "size": 10,
              "solidity": 0.2
             }
            },
            "type": "bar"
           }
          ],
          "barpolar": [
           {
            "marker": {
             "line": {
              "color": "#E5ECF6",
              "width": 0.5
             },
             "pattern": {
              "fillmode": "overlay",
              "size": 10,
              "solidity": 0.2
             }
            },
            "type": "barpolar"
           }
          ],
          "carpet": [
           {
            "aaxis": {
             "endlinecolor": "#2a3f5f",
             "gridcolor": "white",
             "linecolor": "white",
             "minorgridcolor": "white",
             "startlinecolor": "#2a3f5f"
            },
            "baxis": {
             "endlinecolor": "#2a3f5f",
             "gridcolor": "white",
             "linecolor": "white",
             "minorgridcolor": "white",
             "startlinecolor": "#2a3f5f"
            },
            "type": "carpet"
           }
          ],
          "choropleth": [
           {
            "colorbar": {
             "outlinewidth": 0,
             "ticks": ""
            },
            "type": "choropleth"
           }
          ],
          "contour": [
           {
            "colorbar": {
             "outlinewidth": 0,
             "ticks": ""
            },
            "colorscale": [
             [
              0,
              "#0d0887"
             ],
             [
              0.1111111111111111,
              "#46039f"
             ],
             [
              0.2222222222222222,
              "#7201a8"
             ],
             [
              0.3333333333333333,
              "#9c179e"
             ],
             [
              0.4444444444444444,
              "#bd3786"
             ],
             [
              0.5555555555555556,
              "#d8576b"
             ],
             [
              0.6666666666666666,
              "#ed7953"
             ],
             [
              0.7777777777777778,
              "#fb9f3a"
             ],
             [
              0.8888888888888888,
              "#fdca26"
             ],
             [
              1,
              "#f0f921"
             ]
            ],
            "type": "contour"
           }
          ],
          "contourcarpet": [
           {
            "colorbar": {
             "outlinewidth": 0,
             "ticks": ""
            },
            "type": "contourcarpet"
           }
          ],
          "heatmap": [
           {
            "colorbar": {
             "outlinewidth": 0,
             "ticks": ""
            },
            "colorscale": [
             [
              0,
              "#0d0887"
             ],
             [
              0.1111111111111111,
              "#46039f"
             ],
             [
              0.2222222222222222,
              "#7201a8"
             ],
             [
              0.3333333333333333,
              "#9c179e"
             ],
             [
              0.4444444444444444,
              "#bd3786"
             ],
             [
              0.5555555555555556,
              "#d8576b"
             ],
             [
              0.6666666666666666,
              "#ed7953"
             ],
             [
              0.7777777777777778,
              "#fb9f3a"
             ],
             [
              0.8888888888888888,
              "#fdca26"
             ],
             [
              1,
              "#f0f921"
             ]
            ],
            "type": "heatmap"
           }
          ],
          "heatmapgl": [
           {
            "colorbar": {
             "outlinewidth": 0,
             "ticks": ""
            },
            "colorscale": [
             [
              0,
              "#0d0887"
             ],
             [
              0.1111111111111111,
              "#46039f"
             ],
             [
              0.2222222222222222,
              "#7201a8"
             ],
             [
              0.3333333333333333,
              "#9c179e"
             ],
             [
              0.4444444444444444,
              "#bd3786"
             ],
             [
              0.5555555555555556,
              "#d8576b"
             ],
             [
              0.6666666666666666,
              "#ed7953"
             ],
             [
              0.7777777777777778,
              "#fb9f3a"
             ],
             [
              0.8888888888888888,
              "#fdca26"
             ],
             [
              1,
              "#f0f921"
             ]
            ],
            "type": "heatmapgl"
           }
          ],
          "histogram": [
           {
            "marker": {
             "pattern": {
              "fillmode": "overlay",
              "size": 10,
              "solidity": 0.2
             }
            },
            "type": "histogram"
           }
          ],
          "histogram2d": [
           {
            "colorbar": {
             "outlinewidth": 0,
             "ticks": ""
            },
            "colorscale": [
             [
              0,
              "#0d0887"
             ],
             [
              0.1111111111111111,
              "#46039f"
             ],
             [
              0.2222222222222222,
              "#7201a8"
             ],
             [
              0.3333333333333333,
              "#9c179e"
             ],
             [
              0.4444444444444444,
              "#bd3786"
             ],
             [
              0.5555555555555556,
              "#d8576b"
             ],
             [
              0.6666666666666666,
              "#ed7953"
             ],
             [
              0.7777777777777778,
              "#fb9f3a"
             ],
             [
              0.8888888888888888,
              "#fdca26"
             ],
             [
              1,
              "#f0f921"
             ]
            ],
            "type": "histogram2d"
           }
          ],
          "histogram2dcontour": [
           {
            "colorbar": {
             "outlinewidth": 0,
             "ticks": ""
            },
            "colorscale": [
             [
              0,
              "#0d0887"
             ],
             [
              0.1111111111111111,
              "#46039f"
             ],
             [
              0.2222222222222222,
              "#7201a8"
             ],
             [
              0.3333333333333333,
              "#9c179e"
             ],
             [
              0.4444444444444444,
              "#bd3786"
             ],
             [
              0.5555555555555556,
              "#d8576b"
             ],
             [
              0.6666666666666666,
              "#ed7953"
             ],
             [
              0.7777777777777778,
              "#fb9f3a"
             ],
             [
              0.8888888888888888,
              "#fdca26"
             ],
             [
              1,
              "#f0f921"
             ]
            ],
            "type": "histogram2dcontour"
           }
          ],
          "mesh3d": [
           {
            "colorbar": {
             "outlinewidth": 0,
             "ticks": ""
            },
            "type": "mesh3d"
           }
          ],
          "parcoords": [
           {
            "line": {
             "colorbar": {
              "outlinewidth": 0,
              "ticks": ""
             }
            },
            "type": "parcoords"
           }
          ],
          "pie": [
           {
            "automargin": true,
            "type": "pie"
           }
          ],
          "scatter": [
           {
            "fillpattern": {
             "fillmode": "overlay",
             "size": 10,
             "solidity": 0.2
            },
            "type": "scatter"
           }
          ],
          "scatter3d": [
           {
            "line": {
             "colorbar": {
              "outlinewidth": 0,
              "ticks": ""
             }
            },
            "marker": {
             "colorbar": {
              "outlinewidth": 0,
              "ticks": ""
             }
            },
            "type": "scatter3d"
           }
          ],
          "scattercarpet": [
           {
            "marker": {
             "colorbar": {
              "outlinewidth": 0,
              "ticks": ""
             }
            },
            "type": "scattercarpet"
           }
          ],
          "scattergeo": [
           {
            "marker": {
             "colorbar": {
              "outlinewidth": 0,
              "ticks": ""
             }
            },
            "type": "scattergeo"
           }
          ],
          "scattergl": [
           {
            "marker": {
             "colorbar": {
              "outlinewidth": 0,
              "ticks": ""
             }
            },
            "type": "scattergl"
           }
          ],
          "scattermapbox": [
           {
            "marker": {
             "colorbar": {
              "outlinewidth": 0,
              "ticks": ""
             }
            },
            "type": "scattermapbox"
           }
          ],
          "scatterpolar": [
           {
            "marker": {
             "colorbar": {
              "outlinewidth": 0,
              "ticks": ""
             }
            },
            "type": "scatterpolar"
           }
          ],
          "scatterpolargl": [
           {
            "marker": {
             "colorbar": {
              "outlinewidth": 0,
              "ticks": ""
             }
            },
            "type": "scatterpolargl"
           }
          ],
          "scatterternary": [
           {
            "marker": {
             "colorbar": {
              "outlinewidth": 0,
              "ticks": ""
             }
            },
            "type": "scatterternary"
           }
          ],
          "surface": [
           {
            "colorbar": {
             "outlinewidth": 0,
             "ticks": ""
            },
            "colorscale": [
             [
              0,
              "#0d0887"
             ],
             [
              0.1111111111111111,
              "#46039f"
             ],
             [
              0.2222222222222222,
              "#7201a8"
             ],
             [
              0.3333333333333333,
              "#9c179e"
             ],
             [
              0.4444444444444444,
              "#bd3786"
             ],
             [
              0.5555555555555556,
              "#d8576b"
             ],
             [
              0.6666666666666666,
              "#ed7953"
             ],
             [
              0.7777777777777778,
              "#fb9f3a"
             ],
             [
              0.8888888888888888,
              "#fdca26"
             ],
             [
              1,
              "#f0f921"
             ]
            ],
            "type": "surface"
           }
          ],
          "table": [
           {
            "cells": {
             "fill": {
              "color": "#EBF0F8"
             },
             "line": {
              "color": "white"
             }
            },
            "header": {
             "fill": {
              "color": "#C8D4E3"
             },
             "line": {
              "color": "white"
             }
            },
            "type": "table"
           }
          ]
         },
         "layout": {
          "annotationdefaults": {
           "arrowcolor": "#2a3f5f",
           "arrowhead": 0,
           "arrowwidth": 1
          },
          "autotypenumbers": "strict",
          "coloraxis": {
           "colorbar": {
            "outlinewidth": 0,
            "ticks": ""
           }
          },
          "colorscale": {
           "diverging": [
            [
             0,
             "#8e0152"
            ],
            [
             0.1,
             "#c51b7d"
            ],
            [
             0.2,
             "#de77ae"
            ],
            [
             0.3,
             "#f1b6da"
            ],
            [
             0.4,
             "#fde0ef"
            ],
            [
             0.5,
             "#f7f7f7"
            ],
            [
             0.6,
             "#e6f5d0"
            ],
            [
             0.7,
             "#b8e186"
            ],
            [
             0.8,
             "#7fbc41"
            ],
            [
             0.9,
             "#4d9221"
            ],
            [
             1,
             "#276419"
            ]
           ],
           "sequential": [
            [
             0,
             "#0d0887"
            ],
            [
             0.1111111111111111,
             "#46039f"
            ],
            [
             0.2222222222222222,
             "#7201a8"
            ],
            [
             0.3333333333333333,
             "#9c179e"
            ],
            [
             0.4444444444444444,
             "#bd3786"
            ],
            [
             0.5555555555555556,
             "#d8576b"
            ],
            [
             0.6666666666666666,
             "#ed7953"
            ],
            [
             0.7777777777777778,
             "#fb9f3a"
            ],
            [
             0.8888888888888888,
             "#fdca26"
            ],
            [
             1,
             "#f0f921"
            ]
           ],
           "sequentialminus": [
            [
             0,
             "#0d0887"
            ],
            [
             0.1111111111111111,
             "#46039f"
            ],
            [
             0.2222222222222222,
             "#7201a8"
            ],
            [
             0.3333333333333333,
             "#9c179e"
            ],
            [
             0.4444444444444444,
             "#bd3786"
            ],
            [
             0.5555555555555556,
             "#d8576b"
            ],
            [
             0.6666666666666666,
             "#ed7953"
            ],
            [
             0.7777777777777778,
             "#fb9f3a"
            ],
            [
             0.8888888888888888,
             "#fdca26"
            ],
            [
             1,
             "#f0f921"
            ]
           ]
          },
          "colorway": [
           "#636efa",
           "#EF553B",
           "#00cc96",
           "#ab63fa",
           "#FFA15A",
           "#19d3f3",
           "#FF6692",
           "#B6E880",
           "#FF97FF",
           "#FECB52"
          ],
          "font": {
           "color": "#2a3f5f"
          },
          "geo": {
           "bgcolor": "white",
           "lakecolor": "white",
           "landcolor": "#E5ECF6",
           "showlakes": true,
           "showland": true,
           "subunitcolor": "white"
          },
          "hoverlabel": {
           "align": "left"
          },
          "hovermode": "closest",
          "mapbox": {
           "style": "light"
          },
          "paper_bgcolor": "white",
          "plot_bgcolor": "#E5ECF6",
          "polar": {
           "angularaxis": {
            "gridcolor": "white",
            "linecolor": "white",
            "ticks": ""
           },
           "bgcolor": "#E5ECF6",
           "radialaxis": {
            "gridcolor": "white",
            "linecolor": "white",
            "ticks": ""
           }
          },
          "scene": {
           "xaxis": {
            "backgroundcolor": "#E5ECF6",
            "gridcolor": "white",
            "gridwidth": 2,
            "linecolor": "white",
            "showbackground": true,
            "ticks": "",
            "zerolinecolor": "white"
           },
           "yaxis": {
            "backgroundcolor": "#E5ECF6",
            "gridcolor": "white",
            "gridwidth": 2,
            "linecolor": "white",
            "showbackground": true,
            "ticks": "",
            "zerolinecolor": "white"
           },
           "zaxis": {
            "backgroundcolor": "#E5ECF6",
            "gridcolor": "white",
            "gridwidth": 2,
            "linecolor": "white",
            "showbackground": true,
            "ticks": "",
            "zerolinecolor": "white"
           }
          },
          "shapedefaults": {
           "line": {
            "color": "#2a3f5f"
           }
          },
          "ternary": {
           "aaxis": {
            "gridcolor": "white",
            "linecolor": "white",
            "ticks": ""
           },
           "baxis": {
            "gridcolor": "white",
            "linecolor": "white",
            "ticks": ""
           },
           "bgcolor": "#E5ECF6",
           "caxis": {
            "gridcolor": "white",
            "linecolor": "white",
            "ticks": ""
           }
          },
          "title": {
           "x": 0.05
          },
          "xaxis": {
           "automargin": true,
           "gridcolor": "white",
           "linecolor": "white",
           "ticks": "",
           "title": {
            "standoff": 15
           },
           "zerolinecolor": "white",
           "zerolinewidth": 2
          },
          "yaxis": {
           "automargin": true,
           "gridcolor": "white",
           "linecolor": "white",
           "ticks": "",
           "title": {
            "standoff": 15
           },
           "zerolinecolor": "white",
           "zerolinewidth": 2
          }
         }
        },
        "title": {
         "text": "Using different datasets to train and test (UMAP applyied in dataset same as training)<br>Circles: same dataset to test, X: different dataset to test"
        },
        "xaxis": {
         "title": {
          "text": "Number of experiments"
         }
        },
        "yaxis": {
         "title": {
          "text": "Accuracy (best classifier and best UMAP)"
         }
        }
       }
      }
     },
     "metadata": {},
     "output_type": "display_data"
    }
   ],
   "source": [
    "df = results.copy()\n",
    "df = filter_domain_fft_only(df)\n",
    "df = filter_features_all(df)\n",
    "df = filter_reducer_over_all(df)\n",
    "df = filter_scaler_none(df)\n",
    "df = filter_view_standardized_inter_balanced(df)\n",
    "# df = pd.concat([filter_only_reducer_dataset_diferent_from_train(df), filter_only_reducer_dataset_equals_train_dataset(df)])\n",
    "# df = filter_only_reducer_dataset_diferent_from_train(df)\n",
    "df = pd.concat([filter_different_train_test(df), filter_only_reducer_dataset_equals_train_dataset(filter_same_train_test(df))])\n",
    "df = df[(df[\"umap components\"] > 0) ]\n",
    "df = best_of_each_estimator_and_umap(df)\n",
    "\n",
    "fig = go.Figure()\n",
    "\n",
    "for i, dset in enumerate(datasets):\n",
    "    x = df[df[\"train_datasets\"] == dset].sort_values(by=\"accuracy (mean)\")\n",
    "    xs = list(range(len(x)))\n",
    "    ys = []\n",
    "    the_markers = []\n",
    "    names = []\n",
    "    for row_idx, row in x.iterrows():\n",
    "        ys.append(row[\"accuracy (mean)\"])\n",
    "        the_markers.append(\"circle\" if dset in row[\"test_datasets\"] else \"x\")\n",
    "        name = f'{row[\"test_datasets\"]} ({row[\"umap components\"]} components)'\n",
    "        names.append(name)\n",
    "        \n",
    "    fig.add_trace(\n",
    "        go.Scatter(\n",
    "            x=xs,\n",
    "            y=ys,\n",
    "            marker=dict(\n",
    "                symbol=the_markers,\n",
    "                size=10,\n",
    "                color=colors[i]\n",
    "            ),\n",
    "            hovertext=names,\n",
    "            name=dset,\n",
    "        )\n",
    "    )\n",
    "    \n",
    "fig.update_layout(\n",
    "    title=\"Using different datasets to train and test (UMAP applyied in dataset same as training)<br>Circles: same dataset to test, X: different dataset to test\",\n",
    "    xaxis_title=\"Number of experiments\",\n",
    "    yaxis_title=\"Accuracy (best classifier and best UMAP)\",\n",
    "    legend_title=\"Train/Test dataset\",\n",
    ")\n",
    "\n",
    "fig.show()"
   ]
  },
  {
   "cell_type": "code",
   "execution_count": 89,
   "metadata": {},
   "outputs": [
    {
     "data": {
      "application/vnd.plotly.v1+json": {
       "config": {
        "plotlyServerURL": "https://plot.ly"
       },
       "data": [
        {
         "coloraxis": "coloraxis",
         "hovertemplate": "x: %{x}<br>y: %{y}<br>color: %{z}<extra></extra>",
         "name": "0",
         "texttemplate": "%{z}",
         "type": "heatmap",
         "x": [
          "kuhar",
          "motionsense",
          "realworld",
          "uci",
          "wisdm"
         ],
         "xaxis": "x",
         "y": [
          "kuhar",
          "motionsense",
          "realworld",
          "uci",
          "wisdm"
         ],
         "yaxis": "y",
         "z": [
          [
           0.8541666666666666,
           0.5194444444444445,
           0.4625,
           0.5525,
           0.2916666666666666
          ],
          [
           0.5347222222222222,
           0.9097222222222224,
           0.6986111111111111,
           0.5133333333333334,
           0.595
          ],
          [
           0.4791666666666667,
           0.7972222222222222,
           0.638888888888889,
           0.5083333333333332,
           0.5416666666666667
          ],
          [
           0.4652777777777778,
           0.4375,
           0.4930555555555555,
           0.805,
           0.375
          ],
          [
           0.4652777777777778,
           0.5979166666666667,
           0.5416666666666667,
           0.3083333333333334,
           0.8691666666666666
          ]
         ]
        }
       ],
       "layout": {
        "coloraxis": {
         "colorscale": [
          [
           0,
           "#0d0887"
          ],
          [
           0.1111111111111111,
           "#46039f"
          ],
          [
           0.2222222222222222,
           "#7201a8"
          ],
          [
           0.3333333333333333,
           "#9c179e"
          ],
          [
           0.4444444444444444,
           "#bd3786"
          ],
          [
           0.5555555555555556,
           "#d8576b"
          ],
          [
           0.6666666666666666,
           "#ed7953"
          ],
          [
           0.7777777777777778,
           "#fb9f3a"
          ],
          [
           0.8888888888888888,
           "#fdca26"
          ],
          [
           1,
           "#f0f921"
          ]
         ]
        },
        "margin": {
         "t": 60
        },
        "template": {
         "data": {
          "bar": [
           {
            "error_x": {
             "color": "#2a3f5f"
            },
            "error_y": {
             "color": "#2a3f5f"
            },
            "marker": {
             "line": {
              "color": "#E5ECF6",
              "width": 0.5
             },
             "pattern": {
              "fillmode": "overlay",
              "size": 10,
              "solidity": 0.2
             }
            },
            "type": "bar"
           }
          ],
          "barpolar": [
           {
            "marker": {
             "line": {
              "color": "#E5ECF6",
              "width": 0.5
             },
             "pattern": {
              "fillmode": "overlay",
              "size": 10,
              "solidity": 0.2
             }
            },
            "type": "barpolar"
           }
          ],
          "carpet": [
           {
            "aaxis": {
             "endlinecolor": "#2a3f5f",
             "gridcolor": "white",
             "linecolor": "white",
             "minorgridcolor": "white",
             "startlinecolor": "#2a3f5f"
            },
            "baxis": {
             "endlinecolor": "#2a3f5f",
             "gridcolor": "white",
             "linecolor": "white",
             "minorgridcolor": "white",
             "startlinecolor": "#2a3f5f"
            },
            "type": "carpet"
           }
          ],
          "choropleth": [
           {
            "colorbar": {
             "outlinewidth": 0,
             "ticks": ""
            },
            "type": "choropleth"
           }
          ],
          "contour": [
           {
            "colorbar": {
             "outlinewidth": 0,
             "ticks": ""
            },
            "colorscale": [
             [
              0,
              "#0d0887"
             ],
             [
              0.1111111111111111,
              "#46039f"
             ],
             [
              0.2222222222222222,
              "#7201a8"
             ],
             [
              0.3333333333333333,
              "#9c179e"
             ],
             [
              0.4444444444444444,
              "#bd3786"
             ],
             [
              0.5555555555555556,
              "#d8576b"
             ],
             [
              0.6666666666666666,
              "#ed7953"
             ],
             [
              0.7777777777777778,
              "#fb9f3a"
             ],
             [
              0.8888888888888888,
              "#fdca26"
             ],
             [
              1,
              "#f0f921"
             ]
            ],
            "type": "contour"
           }
          ],
          "contourcarpet": [
           {
            "colorbar": {
             "outlinewidth": 0,
             "ticks": ""
            },
            "type": "contourcarpet"
           }
          ],
          "heatmap": [
           {
            "colorbar": {
             "outlinewidth": 0,
             "ticks": ""
            },
            "colorscale": [
             [
              0,
              "#0d0887"
             ],
             [
              0.1111111111111111,
              "#46039f"
             ],
             [
              0.2222222222222222,
              "#7201a8"
             ],
             [
              0.3333333333333333,
              "#9c179e"
             ],
             [
              0.4444444444444444,
              "#bd3786"
             ],
             [
              0.5555555555555556,
              "#d8576b"
             ],
             [
              0.6666666666666666,
              "#ed7953"
             ],
             [
              0.7777777777777778,
              "#fb9f3a"
             ],
             [
              0.8888888888888888,
              "#fdca26"
             ],
             [
              1,
              "#f0f921"
             ]
            ],
            "type": "heatmap"
           }
          ],
          "heatmapgl": [
           {
            "colorbar": {
             "outlinewidth": 0,
             "ticks": ""
            },
            "colorscale": [
             [
              0,
              "#0d0887"
             ],
             [
              0.1111111111111111,
              "#46039f"
             ],
             [
              0.2222222222222222,
              "#7201a8"
             ],
             [
              0.3333333333333333,
              "#9c179e"
             ],
             [
              0.4444444444444444,
              "#bd3786"
             ],
             [
              0.5555555555555556,
              "#d8576b"
             ],
             [
              0.6666666666666666,
              "#ed7953"
             ],
             [
              0.7777777777777778,
              "#fb9f3a"
             ],
             [
              0.8888888888888888,
              "#fdca26"
             ],
             [
              1,
              "#f0f921"
             ]
            ],
            "type": "heatmapgl"
           }
          ],
          "histogram": [
           {
            "marker": {
             "pattern": {
              "fillmode": "overlay",
              "size": 10,
              "solidity": 0.2
             }
            },
            "type": "histogram"
           }
          ],
          "histogram2d": [
           {
            "colorbar": {
             "outlinewidth": 0,
             "ticks": ""
            },
            "colorscale": [
             [
              0,
              "#0d0887"
             ],
             [
              0.1111111111111111,
              "#46039f"
             ],
             [
              0.2222222222222222,
              "#7201a8"
             ],
             [
              0.3333333333333333,
              "#9c179e"
             ],
             [
              0.4444444444444444,
              "#bd3786"
             ],
             [
              0.5555555555555556,
              "#d8576b"
             ],
             [
              0.6666666666666666,
              "#ed7953"
             ],
             [
              0.7777777777777778,
              "#fb9f3a"
             ],
             [
              0.8888888888888888,
              "#fdca26"
             ],
             [
              1,
              "#f0f921"
             ]
            ],
            "type": "histogram2d"
           }
          ],
          "histogram2dcontour": [
           {
            "colorbar": {
             "outlinewidth": 0,
             "ticks": ""
            },
            "colorscale": [
             [
              0,
              "#0d0887"
             ],
             [
              0.1111111111111111,
              "#46039f"
             ],
             [
              0.2222222222222222,
              "#7201a8"
             ],
             [
              0.3333333333333333,
              "#9c179e"
             ],
             [
              0.4444444444444444,
              "#bd3786"
             ],
             [
              0.5555555555555556,
              "#d8576b"
             ],
             [
              0.6666666666666666,
              "#ed7953"
             ],
             [
              0.7777777777777778,
              "#fb9f3a"
             ],
             [
              0.8888888888888888,
              "#fdca26"
             ],
             [
              1,
              "#f0f921"
             ]
            ],
            "type": "histogram2dcontour"
           }
          ],
          "mesh3d": [
           {
            "colorbar": {
             "outlinewidth": 0,
             "ticks": ""
            },
            "type": "mesh3d"
           }
          ],
          "parcoords": [
           {
            "line": {
             "colorbar": {
              "outlinewidth": 0,
              "ticks": ""
             }
            },
            "type": "parcoords"
           }
          ],
          "pie": [
           {
            "automargin": true,
            "type": "pie"
           }
          ],
          "scatter": [
           {
            "fillpattern": {
             "fillmode": "overlay",
             "size": 10,
             "solidity": 0.2
            },
            "type": "scatter"
           }
          ],
          "scatter3d": [
           {
            "line": {
             "colorbar": {
              "outlinewidth": 0,
              "ticks": ""
             }
            },
            "marker": {
             "colorbar": {
              "outlinewidth": 0,
              "ticks": ""
             }
            },
            "type": "scatter3d"
           }
          ],
          "scattercarpet": [
           {
            "marker": {
             "colorbar": {
              "outlinewidth": 0,
              "ticks": ""
             }
            },
            "type": "scattercarpet"
           }
          ],
          "scattergeo": [
           {
            "marker": {
             "colorbar": {
              "outlinewidth": 0,
              "ticks": ""
             }
            },
            "type": "scattergeo"
           }
          ],
          "scattergl": [
           {
            "marker": {
             "colorbar": {
              "outlinewidth": 0,
              "ticks": ""
             }
            },
            "type": "scattergl"
           }
          ],
          "scattermapbox": [
           {
            "marker": {
             "colorbar": {
              "outlinewidth": 0,
              "ticks": ""
             }
            },
            "type": "scattermapbox"
           }
          ],
          "scatterpolar": [
           {
            "marker": {
             "colorbar": {
              "outlinewidth": 0,
              "ticks": ""
             }
            },
            "type": "scatterpolar"
           }
          ],
          "scatterpolargl": [
           {
            "marker": {
             "colorbar": {
              "outlinewidth": 0,
              "ticks": ""
             }
            },
            "type": "scatterpolargl"
           }
          ],
          "scatterternary": [
           {
            "marker": {
             "colorbar": {
              "outlinewidth": 0,
              "ticks": ""
             }
            },
            "type": "scatterternary"
           }
          ],
          "surface": [
           {
            "colorbar": {
             "outlinewidth": 0,
             "ticks": ""
            },
            "colorscale": [
             [
              0,
              "#0d0887"
             ],
             [
              0.1111111111111111,
              "#46039f"
             ],
             [
              0.2222222222222222,
              "#7201a8"
             ],
             [
              0.3333333333333333,
              "#9c179e"
             ],
             [
              0.4444444444444444,
              "#bd3786"
             ],
             [
              0.5555555555555556,
              "#d8576b"
             ],
             [
              0.6666666666666666,
              "#ed7953"
             ],
             [
              0.7777777777777778,
              "#fb9f3a"
             ],
             [
              0.8888888888888888,
              "#fdca26"
             ],
             [
              1,
              "#f0f921"
             ]
            ],
            "type": "surface"
           }
          ],
          "table": [
           {
            "cells": {
             "fill": {
              "color": "#EBF0F8"
             },
             "line": {
              "color": "white"
             }
            },
            "header": {
             "fill": {
              "color": "#C8D4E3"
             },
             "line": {
              "color": "white"
             }
            },
            "type": "table"
           }
          ]
         },
         "layout": {
          "annotationdefaults": {
           "arrowcolor": "#2a3f5f",
           "arrowhead": 0,
           "arrowwidth": 1
          },
          "autotypenumbers": "strict",
          "coloraxis": {
           "colorbar": {
            "outlinewidth": 0,
            "ticks": ""
           }
          },
          "colorscale": {
           "diverging": [
            [
             0,
             "#8e0152"
            ],
            [
             0.1,
             "#c51b7d"
            ],
            [
             0.2,
             "#de77ae"
            ],
            [
             0.3,
             "#f1b6da"
            ],
            [
             0.4,
             "#fde0ef"
            ],
            [
             0.5,
             "#f7f7f7"
            ],
            [
             0.6,
             "#e6f5d0"
            ],
            [
             0.7,
             "#b8e186"
            ],
            [
             0.8,
             "#7fbc41"
            ],
            [
             0.9,
             "#4d9221"
            ],
            [
             1,
             "#276419"
            ]
           ],
           "sequential": [
            [
             0,
             "#0d0887"
            ],
            [
             0.1111111111111111,
             "#46039f"
            ],
            [
             0.2222222222222222,
             "#7201a8"
            ],
            [
             0.3333333333333333,
             "#9c179e"
            ],
            [
             0.4444444444444444,
             "#bd3786"
            ],
            [
             0.5555555555555556,
             "#d8576b"
            ],
            [
             0.6666666666666666,
             "#ed7953"
            ],
            [
             0.7777777777777778,
             "#fb9f3a"
            ],
            [
             0.8888888888888888,
             "#fdca26"
            ],
            [
             1,
             "#f0f921"
            ]
           ],
           "sequentialminus": [
            [
             0,
             "#0d0887"
            ],
            [
             0.1111111111111111,
             "#46039f"
            ],
            [
             0.2222222222222222,
             "#7201a8"
            ],
            [
             0.3333333333333333,
             "#9c179e"
            ],
            [
             0.4444444444444444,
             "#bd3786"
            ],
            [
             0.5555555555555556,
             "#d8576b"
            ],
            [
             0.6666666666666666,
             "#ed7953"
            ],
            [
             0.7777777777777778,
             "#fb9f3a"
            ],
            [
             0.8888888888888888,
             "#fdca26"
            ],
            [
             1,
             "#f0f921"
            ]
           ]
          },
          "colorway": [
           "#636efa",
           "#EF553B",
           "#00cc96",
           "#ab63fa",
           "#FFA15A",
           "#19d3f3",
           "#FF6692",
           "#B6E880",
           "#FF97FF",
           "#FECB52"
          ],
          "font": {
           "color": "#2a3f5f"
          },
          "geo": {
           "bgcolor": "white",
           "lakecolor": "white",
           "landcolor": "#E5ECF6",
           "showlakes": true,
           "showland": true,
           "subunitcolor": "white"
          },
          "hoverlabel": {
           "align": "left"
          },
          "hovermode": "closest",
          "mapbox": {
           "style": "light"
          },
          "paper_bgcolor": "white",
          "plot_bgcolor": "#E5ECF6",
          "polar": {
           "angularaxis": {
            "gridcolor": "white",
            "linecolor": "white",
            "ticks": ""
           },
           "bgcolor": "#E5ECF6",
           "radialaxis": {
            "gridcolor": "white",
            "linecolor": "white",
            "ticks": ""
           }
          },
          "scene": {
           "xaxis": {
            "backgroundcolor": "#E5ECF6",
            "gridcolor": "white",
            "gridwidth": 2,
            "linecolor": "white",
            "showbackground": true,
            "ticks": "",
            "zerolinecolor": "white"
           },
           "yaxis": {
            "backgroundcolor": "#E5ECF6",
            "gridcolor": "white",
            "gridwidth": 2,
            "linecolor": "white",
            "showbackground": true,
            "ticks": "",
            "zerolinecolor": "white"
           },
           "zaxis": {
            "backgroundcolor": "#E5ECF6",
            "gridcolor": "white",
            "gridwidth": 2,
            "linecolor": "white",
            "showbackground": true,
            "ticks": "",
            "zerolinecolor": "white"
           }
          },
          "shapedefaults": {
           "line": {
            "color": "#2a3f5f"
           }
          },
          "ternary": {
           "aaxis": {
            "gridcolor": "white",
            "linecolor": "white",
            "ticks": ""
           },
           "baxis": {
            "gridcolor": "white",
            "linecolor": "white",
            "ticks": ""
           },
           "bgcolor": "#E5ECF6",
           "caxis": {
            "gridcolor": "white",
            "linecolor": "white",
            "ticks": ""
           }
          },
          "title": {
           "x": 0.05
          },
          "xaxis": {
           "automargin": true,
           "gridcolor": "white",
           "linecolor": "white",
           "ticks": "",
           "title": {
            "standoff": 15
           },
           "zerolinecolor": "white",
           "zerolinewidth": 2
          },
          "yaxis": {
           "automargin": true,
           "gridcolor": "white",
           "linecolor": "white",
           "ticks": "",
           "title": {
            "standoff": 15
           },
           "zerolinecolor": "white",
           "zerolinewidth": 2
          }
         }
        },
        "title": {
         "text": "Heatmap between datasets to train UMAP and train classifier<br>The color indicates the accuracy using the best classifier"
        },
        "xaxis": {
         "anchor": "y",
         "constrain": "domain",
         "domain": [
          0,
          1
         ],
         "scaleanchor": "y",
         "title": {
          "text": "Dataset(s) used to train"
         }
        },
        "yaxis": {
         "anchor": "x",
         "autorange": "reversed",
         "constrain": "domain",
         "domain": [
          0,
          1
         ],
         "title": {
          "text": "Datasets used to test"
         }
        }
       }
      }
     },
     "metadata": {},
     "output_type": "display_data"
    }
   ],
   "source": [
    "df = results.copy()\n",
    "df = filter_domain_fft_only(df)\n",
    "df = filter_features_all(df)\n",
    "df = filter_reducer_over_all(df)\n",
    "df = filter_scaler_none(df)\n",
    "df = filter_view_standardized_inter_balanced(df)\n",
    "# df = pd.concat([filter_only_reducer_dataset_diferent_from_train(df), filter_only_reducer_dataset_equals_train_dataset(df)])\n",
    "# df = filter_only_reducer_dataset_diferent_from_train(df)\n",
    "df = pd.concat([filter_different_train_test(df), filter_only_reducer_dataset_equals_train_dataset(filter_same_train_test(df))])\n",
    "df = df[(df[\"umap components\"] > 0) ]\n",
    "df = best_of_each_estimator_and_umap(df)\n",
    "\n",
    "matrix = []\n",
    "the_datasets = sorted(datasets.copy())\n",
    "test_datasets = sorted(df[\"test_datasets\"].unique().tolist())\n",
    "\n",
    "for i, dset in enumerate(the_datasets):\n",
    "    lines = [0] * len(test_datasets)\n",
    "    for j, t_dset in enumerate(test_datasets):\n",
    "        acc = df.loc[(df[\"test_datasets\"] == t_dset) & (df[\"train_datasets\"] == dset), \"accuracy (mean)\"].sort_values()\n",
    "        if len(acc) == 0:\n",
    "            print(f\"Missing {dset} {t_dset}\")\n",
    "        else:\n",
    "            lines[j] = acc.iloc[-1]\n",
    "    matrix.append(lines)\n",
    "    \n",
    "matrix = np.array(matrix)\n",
    "\n",
    "fig = px.imshow(matrix, text_auto=True, x=test_datasets, y=the_datasets)\n",
    "fig.update_layout(\n",
    "    title=\"Heatmap between datasets to train UMAP and train classifier<br>The color indicates the accuracy using the best classifier\",\n",
    "    xaxis_title=\"Dataset(s) used to train\",\n",
    "    yaxis_title=\"Datasets used to test\"\n",
    ")\n",
    "fig.show()\n",
    "\n",
    "\n",
    "# fig.show()"
   ]
  },
  {
   "attachments": {},
   "cell_type": "markdown",
   "metadata": {},
   "source": [
    "## Pergunta 9\n",
    "\n",
    "Normalização traz mais benefícios?"
   ]
  },
  {
   "cell_type": "code",
   "execution_count": 59,
   "metadata": {},
   "outputs": [],
   "source": [
    "def get_scaler_improvement(df):\n",
    "    experiment_uniq = [c for c in unique_exp_columns if c not in [\"scaler\"]]\n",
    "\n",
    "    all_values = {}\n",
    "    for _, subdf in df[df[\"scaler\"] == \"no scaler\"].iterrows():\n",
    "        all_values[tuple(subdf[experiment_uniq].values.tolist())] = subdf[\"accuracy (mean)\"]\n",
    "\n",
    "    df[\"umap improvement\"] = df.apply(lambda x: x[\"accuracy (mean)\"] / all_values.get(tuple(x[experiment_uniq].values.tolist()), np.nan), axis=1)\n",
    "    df = df.dropna(subset=[\"umap improvement\"], inplace=False)\n",
    "    df = df[df[\"scaler\"] != \"no scaler\"]\n",
    "    \n",
    "    lines = []\n",
    "    for _, subdf in df.groupby([\"train_datasets\", \"estimator\", \"scaler\"]):\n",
    "        lines.append(subdf.sort_values(by=\"accuracy (mean)\").iloc[-1])\n",
    "    \n",
    "    # lines = [df[df[\"umap improvement\"] == df[\"umap improvement\"].max()].iloc[0] for _, subdf in df.groupby(experiment_uniq)]1\n",
    "    df = pd.DataFrame(lines)\n",
    "    return df"
   ]
  },
  {
   "cell_type": "code",
   "execution_count": 60,
   "metadata": {},
   "outputs": [
    {
     "data": {
      "application/vnd.plotly.v1+json": {
       "config": {
        "plotlyServerURL": "https://plot.ly"
       },
       "data": [
        {
         "marker": {
          "color": "#636EFA"
         },
         "name": "KNN-5",
         "type": "bar",
         "x": [
          "('kuhar', 'MinMaxScaler')",
          "('kuhar', 'StandardScaler')",
          "('motionsense', 'MinMaxScaler')",
          "('motionsense', 'StandardScaler')",
          "('realworld', 'MinMaxScaler')",
          "('realworld', 'StandardScaler')",
          "('uci', 'MinMaxScaler')",
          "('uci', 'StandardScaler')",
          "('wisdm', 'MinMaxScaler')",
          "('wisdm', 'StandardScaler')"
         ],
         "y": [
          1.0168067226890758,
          1.0695652173913044,
          1.0010266940451746,
          1.013555787278415,
          1.0839832033593282,
          1.06189111747851,
          1.0270758122743682,
          1.0215827338129495,
          1.0166790214974053,
          1.025900900900901
         ]
        },
        {
         "marker": {
          "color": "#00CC96"
         },
         "name": "SVM-rbf-C1.0",
         "type": "bar",
         "x": [
          "('kuhar', 'MinMaxScaler')",
          "('kuhar', 'StandardScaler')",
          "('motionsense', 'MinMaxScaler')",
          "('motionsense', 'StandardScaler')",
          "('realworld', 'MinMaxScaler')",
          "('realworld', 'StandardScaler')",
          "('uci', 'MinMaxScaler')",
          "('uci', 'StandardScaler')",
          "('wisdm', 'MinMaxScaler')",
          "('wisdm', 'StandardScaler')"
         ],
         "y": [
          1.0727272727272725,
          1.1,
          1.017875920084122,
          1.0178571428571426,
          1.0934416715031923,
          1.0462653288740247,
          1.112676056338028,
          1.154786150712831,
          1.0183688464364438,
          1.0201983106867427
         ]
        },
        {
         "marker": {
          "color": "#AB63FA"
         },
         "name": "randomforest-100",
         "type": "bar",
         "x": [
          "('kuhar', 'MinMaxScaler')",
          "('kuhar', 'StandardScaler')",
          "('motionsense', 'MinMaxScaler')",
          "('motionsense', 'StandardScaler')",
          "('realworld', 'MinMaxScaler')",
          "('realworld', 'StandardScaler')",
          "('uci', 'MinMaxScaler')",
          "('uci', 'StandardScaler')",
          "('wisdm', 'MinMaxScaler')",
          "('wisdm', 'StandardScaler')"
         ],
         "y": [
          1.0166527893422148,
          1.0358056265984654,
          1.0065891073818594,
          1.0091714756801318,
          1.071936056838366,
          1.0578992314261315,
          1.01573958147022,
          1.017531305903399,
          1.0028864193967384,
          1.0024917843342604
         ]
        }
       ],
       "layout": {
        "height": 600,
        "legend": {
         "title": {
          "text": "Estimator"
         }
        },
        "shapes": [
         {
          "line": {
           "color": "red",
           "dash": "dash"
          },
          "type": "line",
          "x0": 0,
          "x1": 1,
          "xref": "x domain",
          "y0": 1,
          "y1": 1,
          "yref": "y"
         }
        ],
        "template": {
         "data": {
          "bar": [
           {
            "error_x": {
             "color": "#2a3f5f"
            },
            "error_y": {
             "color": "#2a3f5f"
            },
            "marker": {
             "line": {
              "color": "#E5ECF6",
              "width": 0.5
             },
             "pattern": {
              "fillmode": "overlay",
              "size": 10,
              "solidity": 0.2
             }
            },
            "type": "bar"
           }
          ],
          "barpolar": [
           {
            "marker": {
             "line": {
              "color": "#E5ECF6",
              "width": 0.5
             },
             "pattern": {
              "fillmode": "overlay",
              "size": 10,
              "solidity": 0.2
             }
            },
            "type": "barpolar"
           }
          ],
          "carpet": [
           {
            "aaxis": {
             "endlinecolor": "#2a3f5f",
             "gridcolor": "white",
             "linecolor": "white",
             "minorgridcolor": "white",
             "startlinecolor": "#2a3f5f"
            },
            "baxis": {
             "endlinecolor": "#2a3f5f",
             "gridcolor": "white",
             "linecolor": "white",
             "minorgridcolor": "white",
             "startlinecolor": "#2a3f5f"
            },
            "type": "carpet"
           }
          ],
          "choropleth": [
           {
            "colorbar": {
             "outlinewidth": 0,
             "ticks": ""
            },
            "type": "choropleth"
           }
          ],
          "contour": [
           {
            "colorbar": {
             "outlinewidth": 0,
             "ticks": ""
            },
            "colorscale": [
             [
              0,
              "#0d0887"
             ],
             [
              0.1111111111111111,
              "#46039f"
             ],
             [
              0.2222222222222222,
              "#7201a8"
             ],
             [
              0.3333333333333333,
              "#9c179e"
             ],
             [
              0.4444444444444444,
              "#bd3786"
             ],
             [
              0.5555555555555556,
              "#d8576b"
             ],
             [
              0.6666666666666666,
              "#ed7953"
             ],
             [
              0.7777777777777778,
              "#fb9f3a"
             ],
             [
              0.8888888888888888,
              "#fdca26"
             ],
             [
              1,
              "#f0f921"
             ]
            ],
            "type": "contour"
           }
          ],
          "contourcarpet": [
           {
            "colorbar": {
             "outlinewidth": 0,
             "ticks": ""
            },
            "type": "contourcarpet"
           }
          ],
          "heatmap": [
           {
            "colorbar": {
             "outlinewidth": 0,
             "ticks": ""
            },
            "colorscale": [
             [
              0,
              "#0d0887"
             ],
             [
              0.1111111111111111,
              "#46039f"
             ],
             [
              0.2222222222222222,
              "#7201a8"
             ],
             [
              0.3333333333333333,
              "#9c179e"
             ],
             [
              0.4444444444444444,
              "#bd3786"
             ],
             [
              0.5555555555555556,
              "#d8576b"
             ],
             [
              0.6666666666666666,
              "#ed7953"
             ],
             [
              0.7777777777777778,
              "#fb9f3a"
             ],
             [
              0.8888888888888888,
              "#fdca26"
             ],
             [
              1,
              "#f0f921"
             ]
            ],
            "type": "heatmap"
           }
          ],
          "heatmapgl": [
           {
            "colorbar": {
             "outlinewidth": 0,
             "ticks": ""
            },
            "colorscale": [
             [
              0,
              "#0d0887"
             ],
             [
              0.1111111111111111,
              "#46039f"
             ],
             [
              0.2222222222222222,
              "#7201a8"
             ],
             [
              0.3333333333333333,
              "#9c179e"
             ],
             [
              0.4444444444444444,
              "#bd3786"
             ],
             [
              0.5555555555555556,
              "#d8576b"
             ],
             [
              0.6666666666666666,
              "#ed7953"
             ],
             [
              0.7777777777777778,
              "#fb9f3a"
             ],
             [
              0.8888888888888888,
              "#fdca26"
             ],
             [
              1,
              "#f0f921"
             ]
            ],
            "type": "heatmapgl"
           }
          ],
          "histogram": [
           {
            "marker": {
             "pattern": {
              "fillmode": "overlay",
              "size": 10,
              "solidity": 0.2
             }
            },
            "type": "histogram"
           }
          ],
          "histogram2d": [
           {
            "colorbar": {
             "outlinewidth": 0,
             "ticks": ""
            },
            "colorscale": [
             [
              0,
              "#0d0887"
             ],
             [
              0.1111111111111111,
              "#46039f"
             ],
             [
              0.2222222222222222,
              "#7201a8"
             ],
             [
              0.3333333333333333,
              "#9c179e"
             ],
             [
              0.4444444444444444,
              "#bd3786"
             ],
             [
              0.5555555555555556,
              "#d8576b"
             ],
             [
              0.6666666666666666,
              "#ed7953"
             ],
             [
              0.7777777777777778,
              "#fb9f3a"
             ],
             [
              0.8888888888888888,
              "#fdca26"
             ],
             [
              1,
              "#f0f921"
             ]
            ],
            "type": "histogram2d"
           }
          ],
          "histogram2dcontour": [
           {
            "colorbar": {
             "outlinewidth": 0,
             "ticks": ""
            },
            "colorscale": [
             [
              0,
              "#0d0887"
             ],
             [
              0.1111111111111111,
              "#46039f"
             ],
             [
              0.2222222222222222,
              "#7201a8"
             ],
             [
              0.3333333333333333,
              "#9c179e"
             ],
             [
              0.4444444444444444,
              "#bd3786"
             ],
             [
              0.5555555555555556,
              "#d8576b"
             ],
             [
              0.6666666666666666,
              "#ed7953"
             ],
             [
              0.7777777777777778,
              "#fb9f3a"
             ],
             [
              0.8888888888888888,
              "#fdca26"
             ],
             [
              1,
              "#f0f921"
             ]
            ],
            "type": "histogram2dcontour"
           }
          ],
          "mesh3d": [
           {
            "colorbar": {
             "outlinewidth": 0,
             "ticks": ""
            },
            "type": "mesh3d"
           }
          ],
          "parcoords": [
           {
            "line": {
             "colorbar": {
              "outlinewidth": 0,
              "ticks": ""
             }
            },
            "type": "parcoords"
           }
          ],
          "pie": [
           {
            "automargin": true,
            "type": "pie"
           }
          ],
          "scatter": [
           {
            "fillpattern": {
             "fillmode": "overlay",
             "size": 10,
             "solidity": 0.2
            },
            "type": "scatter"
           }
          ],
          "scatter3d": [
           {
            "line": {
             "colorbar": {
              "outlinewidth": 0,
              "ticks": ""
             }
            },
            "marker": {
             "colorbar": {
              "outlinewidth": 0,
              "ticks": ""
             }
            },
            "type": "scatter3d"
           }
          ],
          "scattercarpet": [
           {
            "marker": {
             "colorbar": {
              "outlinewidth": 0,
              "ticks": ""
             }
            },
            "type": "scattercarpet"
           }
          ],
          "scattergeo": [
           {
            "marker": {
             "colorbar": {
              "outlinewidth": 0,
              "ticks": ""
             }
            },
            "type": "scattergeo"
           }
          ],
          "scattergl": [
           {
            "marker": {
             "colorbar": {
              "outlinewidth": 0,
              "ticks": ""
             }
            },
            "type": "scattergl"
           }
          ],
          "scattermapbox": [
           {
            "marker": {
             "colorbar": {
              "outlinewidth": 0,
              "ticks": ""
             }
            },
            "type": "scattermapbox"
           }
          ],
          "scatterpolar": [
           {
            "marker": {
             "colorbar": {
              "outlinewidth": 0,
              "ticks": ""
             }
            },
            "type": "scatterpolar"
           }
          ],
          "scatterpolargl": [
           {
            "marker": {
             "colorbar": {
              "outlinewidth": 0,
              "ticks": ""
             }
            },
            "type": "scatterpolargl"
           }
          ],
          "scatterternary": [
           {
            "marker": {
             "colorbar": {
              "outlinewidth": 0,
              "ticks": ""
             }
            },
            "type": "scatterternary"
           }
          ],
          "surface": [
           {
            "colorbar": {
             "outlinewidth": 0,
             "ticks": ""
            },
            "colorscale": [
             [
              0,
              "#0d0887"
             ],
             [
              0.1111111111111111,
              "#46039f"
             ],
             [
              0.2222222222222222,
              "#7201a8"
             ],
             [
              0.3333333333333333,
              "#9c179e"
             ],
             [
              0.4444444444444444,
              "#bd3786"
             ],
             [
              0.5555555555555556,
              "#d8576b"
             ],
             [
              0.6666666666666666,
              "#ed7953"
             ],
             [
              0.7777777777777778,
              "#fb9f3a"
             ],
             [
              0.8888888888888888,
              "#fdca26"
             ],
             [
              1,
              "#f0f921"
             ]
            ],
            "type": "surface"
           }
          ],
          "table": [
           {
            "cells": {
             "fill": {
              "color": "#EBF0F8"
             },
             "line": {
              "color": "white"
             }
            },
            "header": {
             "fill": {
              "color": "#C8D4E3"
             },
             "line": {
              "color": "white"
             }
            },
            "type": "table"
           }
          ]
         },
         "layout": {
          "annotationdefaults": {
           "arrowcolor": "#2a3f5f",
           "arrowhead": 0,
           "arrowwidth": 1
          },
          "autotypenumbers": "strict",
          "coloraxis": {
           "colorbar": {
            "outlinewidth": 0,
            "ticks": ""
           }
          },
          "colorscale": {
           "diverging": [
            [
             0,
             "#8e0152"
            ],
            [
             0.1,
             "#c51b7d"
            ],
            [
             0.2,
             "#de77ae"
            ],
            [
             0.3,
             "#f1b6da"
            ],
            [
             0.4,
             "#fde0ef"
            ],
            [
             0.5,
             "#f7f7f7"
            ],
            [
             0.6,
             "#e6f5d0"
            ],
            [
             0.7,
             "#b8e186"
            ],
            [
             0.8,
             "#7fbc41"
            ],
            [
             0.9,
             "#4d9221"
            ],
            [
             1,
             "#276419"
            ]
           ],
           "sequential": [
            [
             0,
             "#0d0887"
            ],
            [
             0.1111111111111111,
             "#46039f"
            ],
            [
             0.2222222222222222,
             "#7201a8"
            ],
            [
             0.3333333333333333,
             "#9c179e"
            ],
            [
             0.4444444444444444,
             "#bd3786"
            ],
            [
             0.5555555555555556,
             "#d8576b"
            ],
            [
             0.6666666666666666,
             "#ed7953"
            ],
            [
             0.7777777777777778,
             "#fb9f3a"
            ],
            [
             0.8888888888888888,
             "#fdca26"
            ],
            [
             1,
             "#f0f921"
            ]
           ],
           "sequentialminus": [
            [
             0,
             "#0d0887"
            ],
            [
             0.1111111111111111,
             "#46039f"
            ],
            [
             0.2222222222222222,
             "#7201a8"
            ],
            [
             0.3333333333333333,
             "#9c179e"
            ],
            [
             0.4444444444444444,
             "#bd3786"
            ],
            [
             0.5555555555555556,
             "#d8576b"
            ],
            [
             0.6666666666666666,
             "#ed7953"
            ],
            [
             0.7777777777777778,
             "#fb9f3a"
            ],
            [
             0.8888888888888888,
             "#fdca26"
            ],
            [
             1,
             "#f0f921"
            ]
           ]
          },
          "colorway": [
           "#636efa",
           "#EF553B",
           "#00cc96",
           "#ab63fa",
           "#FFA15A",
           "#19d3f3",
           "#FF6692",
           "#B6E880",
           "#FF97FF",
           "#FECB52"
          ],
          "font": {
           "color": "#2a3f5f"
          },
          "geo": {
           "bgcolor": "white",
           "lakecolor": "white",
           "landcolor": "#E5ECF6",
           "showlakes": true,
           "showland": true,
           "subunitcolor": "white"
          },
          "hoverlabel": {
           "align": "left"
          },
          "hovermode": "closest",
          "mapbox": {
           "style": "light"
          },
          "paper_bgcolor": "white",
          "plot_bgcolor": "#E5ECF6",
          "polar": {
           "angularaxis": {
            "gridcolor": "white",
            "linecolor": "white",
            "ticks": ""
           },
           "bgcolor": "#E5ECF6",
           "radialaxis": {
            "gridcolor": "white",
            "linecolor": "white",
            "ticks": ""
           }
          },
          "scene": {
           "xaxis": {
            "backgroundcolor": "#E5ECF6",
            "gridcolor": "white",
            "gridwidth": 2,
            "linecolor": "white",
            "showbackground": true,
            "ticks": "",
            "zerolinecolor": "white"
           },
           "yaxis": {
            "backgroundcolor": "#E5ECF6",
            "gridcolor": "white",
            "gridwidth": 2,
            "linecolor": "white",
            "showbackground": true,
            "ticks": "",
            "zerolinecolor": "white"
           },
           "zaxis": {
            "backgroundcolor": "#E5ECF6",
            "gridcolor": "white",
            "gridwidth": 2,
            "linecolor": "white",
            "showbackground": true,
            "ticks": "",
            "zerolinecolor": "white"
           }
          },
          "shapedefaults": {
           "line": {
            "color": "#2a3f5f"
           }
          },
          "ternary": {
           "aaxis": {
            "gridcolor": "white",
            "linecolor": "white",
            "ticks": ""
           },
           "baxis": {
            "gridcolor": "white",
            "linecolor": "white",
            "ticks": ""
           },
           "bgcolor": "#E5ECF6",
           "caxis": {
            "gridcolor": "white",
            "linecolor": "white",
            "ticks": ""
           }
          },
          "title": {
           "x": 0.05
          },
          "xaxis": {
           "automargin": true,
           "gridcolor": "white",
           "linecolor": "white",
           "ticks": "",
           "title": {
            "standoff": 15
           },
           "zerolinecolor": "white",
           "zerolinewidth": 2
          },
          "yaxis": {
           "automargin": true,
           "gridcolor": "white",
           "linecolor": "white",
           "ticks": "",
           "title": {
            "standoff": 15
           },
           "zerolinecolor": "white",
           "zerolinewidth": 2
          }
         }
        },
        "title": {
         "text": "Improvement using different scalers"
        },
        "width": 1200,
        "xaxis": {
         "title": {
          "text": "dataset / scaler"
         }
        },
        "yaxis": {
         "title": {
          "text": "Improvement over using no scaler"
         }
        }
       }
      }
     },
     "metadata": {},
     "output_type": "display_data"
    }
   ],
   "source": [
    "df = results.copy()\n",
    "df = filter_domain_fft_only(df)\n",
    "df = filter_features_all(df)\n",
    "df = filter_reducer_over_all(df)\n",
    "# df = filter_scaler_none(df)\n",
    "df = filter_view_standardized_balanced(df)\n",
    "# df = best_of_each_umap(df)\n",
    "df = filter_only_reducer_dataset_equals_train_dataset(df)\n",
    "df = get_scaler_improvement(df)\n",
    "\n",
    "fig = chart_bar_with_side_by_side(df, improvement_col=\"umap improvement\", groupby=\"estimator\", inner_group=[\"train_datasets\", \"scaler\"])\n",
    "fig.add_hline(y=1.0, line_dash=\"dash\", line_color=\"red\")\n",
    "fig.update_layout(\n",
    "    title=\"Improvement using different scalers\",\n",
    "    xaxis_title=\"dataset / scaler\",\n",
    "    yaxis_title=\"Improvement over using no scaler\",\n",
    "    legend_title=\"Estimator\",\n",
    "    width=1200,\n",
    "    height=600\n",
    ")\n",
    "fig.show()\n"
   ]
  },
  {
   "attachments": {},
   "cell_type": "markdown",
   "metadata": {},
   "source": [
    "## Pergunta 10\n",
    "\n",
    "Quais os sensores que ajudam mais: acelerômetro, giroscópio, ambos?\n"
   ]
  },
  {
   "cell_type": "code",
   "execution_count": 61,
   "metadata": {},
   "outputs": [],
   "source": [
    "def get_in_use_features_improvement(df):\n",
    "    experiment_uniq = [c for c in unique_exp_columns if c not in [\"in_use_features\"]]\n",
    "\n",
    "    all_values = {}\n",
    "    for _, subdf in df[df[\"in_use_features\"] == \"accel-x, accel-y, accel-z, gyro-x, gyro-y, gyro-z\"].iterrows():\n",
    "        all_values[tuple(subdf[experiment_uniq].values.tolist())] = subdf[\"accuracy (mean)\"]\n",
    "\n",
    "    df[\"umap improvement\"] = df.apply(lambda x: x[\"accuracy (mean)\"] / all_values.get(tuple(x[experiment_uniq].values.tolist()), np.nan), axis=1)\n",
    "    df = df.dropna(subset=[\"umap improvement\"], inplace=False)\n",
    "    df = df[df[\"in_use_features\"] != \"accel-x, accel-y, accel-z, gyro-x, gyro-y, gyro-z\"]\n",
    "    \n",
    "    lines = []\n",
    "    for _, subdf in df.groupby([\"train_datasets\", \"estimator\", \"in_use_features\"]):\n",
    "        lines.append(subdf.sort_values(by=\"accuracy (mean)\").iloc[-1])\n",
    "    \n",
    "    # lines = [df[df[\"umap improvement\"] == df[\"umap improvement\"].max()].iloc[0] for _, subdf in df.groupby(experiment_uniq)]1\n",
    "    df = pd.DataFrame(lines)\n",
    "    return df"
   ]
  },
  {
   "cell_type": "code",
   "execution_count": 62,
   "metadata": {},
   "outputs": [
    {
     "data": {
      "application/vnd.plotly.v1+json": {
       "config": {
        "plotlyServerURL": "https://plot.ly"
       },
       "data": [
        {
         "marker": {
          "color": "#636EFA"
         },
         "name": "KNN-5",
         "type": "bar",
         "x": [
          "('kuhar', 'accel-x, accel-y, accel-z')",
          "('kuhar', 'gyro-x, gyro-y, gyro-z')",
          "('motionsense', 'accel-x, accel-y, accel-z')",
          "('motionsense', 'gyro-x, gyro-y, gyro-z')",
          "('realworld', 'accel-x, accel-y, accel-z')",
          "('realworld', 'gyro-x, gyro-y, gyro-z')",
          "('uci', 'accel-x, accel-y, accel-z')",
          "('uci', 'gyro-x, gyro-y, gyro-z')",
          "('wisdm', 'accel-x, accel-y, accel-z')",
          "('wisdm', 'gyro-x, gyro-y, gyro-z')"
         ],
         "y": [
          1,
          1.0789473684210524,
          0.9793388429752067,
          0.9447340980187696,
          1.209735576923077,
          0.807495741056218,
          0.9784172661870502,
          1.0335689045936396,
          0.9863569321533924,
          0.9551140544518029
         ]
        },
        {
         "marker": {
          "color": "#00CC96"
         },
         "name": "SVM-rbf-C1.0",
         "type": "bar",
         "x": [
          "('kuhar', 'accel-x, accel-y, accel-z')",
          "('kuhar', 'gyro-x, gyro-y, gyro-z')",
          "('motionsense', 'accel-x, accel-y, accel-z')",
          "('motionsense', 'gyro-x, gyro-y, gyro-z')",
          "('realworld', 'accel-x, accel-y, accel-z')",
          "('realworld', 'gyro-x, gyro-y, gyro-z')",
          "('uci', 'accel-x, accel-y, accel-z')",
          "('uci', 'gyro-x, gyro-y, gyro-z')",
          "('wisdm', 'accel-x, accel-y, accel-z')",
          "('wisdm', 'gyro-x, gyro-y, gyro-z')"
         ],
         "y": [
          0.954954954954955,
          1.0909090909090908,
          0.9747102212855636,
          0.940563086548488,
          1.1084468664850136,
          0.7997811816192562,
          0.9642857142857143,
          1.148809523809524,
          0.9787312064539787,
          0.9558131111915973
         ]
        },
        {
         "marker": {
          "color": "#AB63FA"
         },
         "name": "randomforest-100",
         "type": "bar",
         "x": [
          "('kuhar', 'accel-x, accel-y, accel-z')",
          "('kuhar', 'gyro-x, gyro-y, gyro-z')",
          "('motionsense', 'accel-x, accel-y, accel-z')",
          "('motionsense', 'gyro-x, gyro-y, gyro-z')",
          "('realworld', 'accel-x, accel-y, accel-z')",
          "('realworld', 'gyro-x, gyro-y, gyro-z')",
          "('uci', 'accel-x, accel-y, accel-z')",
          "('uci', 'gyro-x, gyro-y, gyro-z')",
          "('wisdm', 'accel-x, accel-y, accel-z')",
          "('wisdm', 'gyro-x, gyro-y, gyro-z')"
         ],
         "y": [
          0.9934264585045192,
          1.0651801029159522,
          0.9950305414639199,
          0.9364507158306726,
          1.1786483497293208,
          0.8400187386543304,
          0.9650686152201035,
          1.0506172839506172,
          0.9825520739648163,
          0.9445983379501387
         ]
        }
       ],
       "layout": {
        "height": 600,
        "legend": {
         "title": {
          "text": "Estimator"
         }
        },
        "shapes": [
         {
          "line": {
           "color": "red",
           "dash": "dash"
          },
          "type": "line",
          "x0": 0,
          "x1": 1,
          "xref": "x domain",
          "y0": 1,
          "y1": 1,
          "yref": "y"
         }
        ],
        "template": {
         "data": {
          "bar": [
           {
            "error_x": {
             "color": "#2a3f5f"
            },
            "error_y": {
             "color": "#2a3f5f"
            },
            "marker": {
             "line": {
              "color": "#E5ECF6",
              "width": 0.5
             },
             "pattern": {
              "fillmode": "overlay",
              "size": 10,
              "solidity": 0.2
             }
            },
            "type": "bar"
           }
          ],
          "barpolar": [
           {
            "marker": {
             "line": {
              "color": "#E5ECF6",
              "width": 0.5
             },
             "pattern": {
              "fillmode": "overlay",
              "size": 10,
              "solidity": 0.2
             }
            },
            "type": "barpolar"
           }
          ],
          "carpet": [
           {
            "aaxis": {
             "endlinecolor": "#2a3f5f",
             "gridcolor": "white",
             "linecolor": "white",
             "minorgridcolor": "white",
             "startlinecolor": "#2a3f5f"
            },
            "baxis": {
             "endlinecolor": "#2a3f5f",
             "gridcolor": "white",
             "linecolor": "white",
             "minorgridcolor": "white",
             "startlinecolor": "#2a3f5f"
            },
            "type": "carpet"
           }
          ],
          "choropleth": [
           {
            "colorbar": {
             "outlinewidth": 0,
             "ticks": ""
            },
            "type": "choropleth"
           }
          ],
          "contour": [
           {
            "colorbar": {
             "outlinewidth": 0,
             "ticks": ""
            },
            "colorscale": [
             [
              0,
              "#0d0887"
             ],
             [
              0.1111111111111111,
              "#46039f"
             ],
             [
              0.2222222222222222,
              "#7201a8"
             ],
             [
              0.3333333333333333,
              "#9c179e"
             ],
             [
              0.4444444444444444,
              "#bd3786"
             ],
             [
              0.5555555555555556,
              "#d8576b"
             ],
             [
              0.6666666666666666,
              "#ed7953"
             ],
             [
              0.7777777777777778,
              "#fb9f3a"
             ],
             [
              0.8888888888888888,
              "#fdca26"
             ],
             [
              1,
              "#f0f921"
             ]
            ],
            "type": "contour"
           }
          ],
          "contourcarpet": [
           {
            "colorbar": {
             "outlinewidth": 0,
             "ticks": ""
            },
            "type": "contourcarpet"
           }
          ],
          "heatmap": [
           {
            "colorbar": {
             "outlinewidth": 0,
             "ticks": ""
            },
            "colorscale": [
             [
              0,
              "#0d0887"
             ],
             [
              0.1111111111111111,
              "#46039f"
             ],
             [
              0.2222222222222222,
              "#7201a8"
             ],
             [
              0.3333333333333333,
              "#9c179e"
             ],
             [
              0.4444444444444444,
              "#bd3786"
             ],
             [
              0.5555555555555556,
              "#d8576b"
             ],
             [
              0.6666666666666666,
              "#ed7953"
             ],
             [
              0.7777777777777778,
              "#fb9f3a"
             ],
             [
              0.8888888888888888,
              "#fdca26"
             ],
             [
              1,
              "#f0f921"
             ]
            ],
            "type": "heatmap"
           }
          ],
          "heatmapgl": [
           {
            "colorbar": {
             "outlinewidth": 0,
             "ticks": ""
            },
            "colorscale": [
             [
              0,
              "#0d0887"
             ],
             [
              0.1111111111111111,
              "#46039f"
             ],
             [
              0.2222222222222222,
              "#7201a8"
             ],
             [
              0.3333333333333333,
              "#9c179e"
             ],
             [
              0.4444444444444444,
              "#bd3786"
             ],
             [
              0.5555555555555556,
              "#d8576b"
             ],
             [
              0.6666666666666666,
              "#ed7953"
             ],
             [
              0.7777777777777778,
              "#fb9f3a"
             ],
             [
              0.8888888888888888,
              "#fdca26"
             ],
             [
              1,
              "#f0f921"
             ]
            ],
            "type": "heatmapgl"
           }
          ],
          "histogram": [
           {
            "marker": {
             "pattern": {
              "fillmode": "overlay",
              "size": 10,
              "solidity": 0.2
             }
            },
            "type": "histogram"
           }
          ],
          "histogram2d": [
           {
            "colorbar": {
             "outlinewidth": 0,
             "ticks": ""
            },
            "colorscale": [
             [
              0,
              "#0d0887"
             ],
             [
              0.1111111111111111,
              "#46039f"
             ],
             [
              0.2222222222222222,
              "#7201a8"
             ],
             [
              0.3333333333333333,
              "#9c179e"
             ],
             [
              0.4444444444444444,
              "#bd3786"
             ],
             [
              0.5555555555555556,
              "#d8576b"
             ],
             [
              0.6666666666666666,
              "#ed7953"
             ],
             [
              0.7777777777777778,
              "#fb9f3a"
             ],
             [
              0.8888888888888888,
              "#fdca26"
             ],
             [
              1,
              "#f0f921"
             ]
            ],
            "type": "histogram2d"
           }
          ],
          "histogram2dcontour": [
           {
            "colorbar": {
             "outlinewidth": 0,
             "ticks": ""
            },
            "colorscale": [
             [
              0,
              "#0d0887"
             ],
             [
              0.1111111111111111,
              "#46039f"
             ],
             [
              0.2222222222222222,
              "#7201a8"
             ],
             [
              0.3333333333333333,
              "#9c179e"
             ],
             [
              0.4444444444444444,
              "#bd3786"
             ],
             [
              0.5555555555555556,
              "#d8576b"
             ],
             [
              0.6666666666666666,
              "#ed7953"
             ],
             [
              0.7777777777777778,
              "#fb9f3a"
             ],
             [
              0.8888888888888888,
              "#fdca26"
             ],
             [
              1,
              "#f0f921"
             ]
            ],
            "type": "histogram2dcontour"
           }
          ],
          "mesh3d": [
           {
            "colorbar": {
             "outlinewidth": 0,
             "ticks": ""
            },
            "type": "mesh3d"
           }
          ],
          "parcoords": [
           {
            "line": {
             "colorbar": {
              "outlinewidth": 0,
              "ticks": ""
             }
            },
            "type": "parcoords"
           }
          ],
          "pie": [
           {
            "automargin": true,
            "type": "pie"
           }
          ],
          "scatter": [
           {
            "fillpattern": {
             "fillmode": "overlay",
             "size": 10,
             "solidity": 0.2
            },
            "type": "scatter"
           }
          ],
          "scatter3d": [
           {
            "line": {
             "colorbar": {
              "outlinewidth": 0,
              "ticks": ""
             }
            },
            "marker": {
             "colorbar": {
              "outlinewidth": 0,
              "ticks": ""
             }
            },
            "type": "scatter3d"
           }
          ],
          "scattercarpet": [
           {
            "marker": {
             "colorbar": {
              "outlinewidth": 0,
              "ticks": ""
             }
            },
            "type": "scattercarpet"
           }
          ],
          "scattergeo": [
           {
            "marker": {
             "colorbar": {
              "outlinewidth": 0,
              "ticks": ""
             }
            },
            "type": "scattergeo"
           }
          ],
          "scattergl": [
           {
            "marker": {
             "colorbar": {
              "outlinewidth": 0,
              "ticks": ""
             }
            },
            "type": "scattergl"
           }
          ],
          "scattermapbox": [
           {
            "marker": {
             "colorbar": {
              "outlinewidth": 0,
              "ticks": ""
             }
            },
            "type": "scattermapbox"
           }
          ],
          "scatterpolar": [
           {
            "marker": {
             "colorbar": {
              "outlinewidth": 0,
              "ticks": ""
             }
            },
            "type": "scatterpolar"
           }
          ],
          "scatterpolargl": [
           {
            "marker": {
             "colorbar": {
              "outlinewidth": 0,
              "ticks": ""
             }
            },
            "type": "scatterpolargl"
           }
          ],
          "scatterternary": [
           {
            "marker": {
             "colorbar": {
              "outlinewidth": 0,
              "ticks": ""
             }
            },
            "type": "scatterternary"
           }
          ],
          "surface": [
           {
            "colorbar": {
             "outlinewidth": 0,
             "ticks": ""
            },
            "colorscale": [
             [
              0,
              "#0d0887"
             ],
             [
              0.1111111111111111,
              "#46039f"
             ],
             [
              0.2222222222222222,
              "#7201a8"
             ],
             [
              0.3333333333333333,
              "#9c179e"
             ],
             [
              0.4444444444444444,
              "#bd3786"
             ],
             [
              0.5555555555555556,
              "#d8576b"
             ],
             [
              0.6666666666666666,
              "#ed7953"
             ],
             [
              0.7777777777777778,
              "#fb9f3a"
             ],
             [
              0.8888888888888888,
              "#fdca26"
             ],
             [
              1,
              "#f0f921"
             ]
            ],
            "type": "surface"
           }
          ],
          "table": [
           {
            "cells": {
             "fill": {
              "color": "#EBF0F8"
             },
             "line": {
              "color": "white"
             }
            },
            "header": {
             "fill": {
              "color": "#C8D4E3"
             },
             "line": {
              "color": "white"
             }
            },
            "type": "table"
           }
          ]
         },
         "layout": {
          "annotationdefaults": {
           "arrowcolor": "#2a3f5f",
           "arrowhead": 0,
           "arrowwidth": 1
          },
          "autotypenumbers": "strict",
          "coloraxis": {
           "colorbar": {
            "outlinewidth": 0,
            "ticks": ""
           }
          },
          "colorscale": {
           "diverging": [
            [
             0,
             "#8e0152"
            ],
            [
             0.1,
             "#c51b7d"
            ],
            [
             0.2,
             "#de77ae"
            ],
            [
             0.3,
             "#f1b6da"
            ],
            [
             0.4,
             "#fde0ef"
            ],
            [
             0.5,
             "#f7f7f7"
            ],
            [
             0.6,
             "#e6f5d0"
            ],
            [
             0.7,
             "#b8e186"
            ],
            [
             0.8,
             "#7fbc41"
            ],
            [
             0.9,
             "#4d9221"
            ],
            [
             1,
             "#276419"
            ]
           ],
           "sequential": [
            [
             0,
             "#0d0887"
            ],
            [
             0.1111111111111111,
             "#46039f"
            ],
            [
             0.2222222222222222,
             "#7201a8"
            ],
            [
             0.3333333333333333,
             "#9c179e"
            ],
            [
             0.4444444444444444,
             "#bd3786"
            ],
            [
             0.5555555555555556,
             "#d8576b"
            ],
            [
             0.6666666666666666,
             "#ed7953"
            ],
            [
             0.7777777777777778,
             "#fb9f3a"
            ],
            [
             0.8888888888888888,
             "#fdca26"
            ],
            [
             1,
             "#f0f921"
            ]
           ],
           "sequentialminus": [
            [
             0,
             "#0d0887"
            ],
            [
             0.1111111111111111,
             "#46039f"
            ],
            [
             0.2222222222222222,
             "#7201a8"
            ],
            [
             0.3333333333333333,
             "#9c179e"
            ],
            [
             0.4444444444444444,
             "#bd3786"
            ],
            [
             0.5555555555555556,
             "#d8576b"
            ],
            [
             0.6666666666666666,
             "#ed7953"
            ],
            [
             0.7777777777777778,
             "#fb9f3a"
            ],
            [
             0.8888888888888888,
             "#fdca26"
            ],
            [
             1,
             "#f0f921"
            ]
           ]
          },
          "colorway": [
           "#636efa",
           "#EF553B",
           "#00cc96",
           "#ab63fa",
           "#FFA15A",
           "#19d3f3",
           "#FF6692",
           "#B6E880",
           "#FF97FF",
           "#FECB52"
          ],
          "font": {
           "color": "#2a3f5f"
          },
          "geo": {
           "bgcolor": "white",
           "lakecolor": "white",
           "landcolor": "#E5ECF6",
           "showlakes": true,
           "showland": true,
           "subunitcolor": "white"
          },
          "hoverlabel": {
           "align": "left"
          },
          "hovermode": "closest",
          "mapbox": {
           "style": "light"
          },
          "paper_bgcolor": "white",
          "plot_bgcolor": "#E5ECF6",
          "polar": {
           "angularaxis": {
            "gridcolor": "white",
            "linecolor": "white",
            "ticks": ""
           },
           "bgcolor": "#E5ECF6",
           "radialaxis": {
            "gridcolor": "white",
            "linecolor": "white",
            "ticks": ""
           }
          },
          "scene": {
           "xaxis": {
            "backgroundcolor": "#E5ECF6",
            "gridcolor": "white",
            "gridwidth": 2,
            "linecolor": "white",
            "showbackground": true,
            "ticks": "",
            "zerolinecolor": "white"
           },
           "yaxis": {
            "backgroundcolor": "#E5ECF6",
            "gridcolor": "white",
            "gridwidth": 2,
            "linecolor": "white",
            "showbackground": true,
            "ticks": "",
            "zerolinecolor": "white"
           },
           "zaxis": {
            "backgroundcolor": "#E5ECF6",
            "gridcolor": "white",
            "gridwidth": 2,
            "linecolor": "white",
            "showbackground": true,
            "ticks": "",
            "zerolinecolor": "white"
           }
          },
          "shapedefaults": {
           "line": {
            "color": "#2a3f5f"
           }
          },
          "ternary": {
           "aaxis": {
            "gridcolor": "white",
            "linecolor": "white",
            "ticks": ""
           },
           "baxis": {
            "gridcolor": "white",
            "linecolor": "white",
            "ticks": ""
           },
           "bgcolor": "#E5ECF6",
           "caxis": {
            "gridcolor": "white",
            "linecolor": "white",
            "ticks": ""
           }
          },
          "title": {
           "x": 0.05
          },
          "xaxis": {
           "automargin": true,
           "gridcolor": "white",
           "linecolor": "white",
           "ticks": "",
           "title": {
            "standoff": 15
           },
           "zerolinecolor": "white",
           "zerolinewidth": 2
          },
          "yaxis": {
           "automargin": true,
           "gridcolor": "white",
           "linecolor": "white",
           "ticks": "",
           "title": {
            "standoff": 15
           },
           "zerolinecolor": "white",
           "zerolinewidth": 2
          }
         }
        },
        "title": {
         "text": "Improvement using different features"
        },
        "width": 1200,
        "xaxis": {
         "title": {
          "text": "dataset /  features"
         }
        },
        "yaxis": {
         "title": {
          "text": "Improvement over using all features"
         }
        }
       }
      }
     },
     "metadata": {},
     "output_type": "display_data"
    }
   ],
   "source": [
    "df = results.copy()\n",
    "df = filter_domain_fft_only(df)\n",
    "# df = filter_features_all(df)\n",
    "df = filter_reducer_over_all(df)\n",
    "df = filter_scaler_none(df)\n",
    "df = filter_view_standardized_balanced(df)\n",
    "# df = best_of_each_umap(df)\n",
    "df = filter_only_reducer_dataset_equals_train_dataset(df)\n",
    "df = get_in_use_features_improvement(df)\n",
    "df[\"in_use_features\"].value_counts()\n",
    "\n",
    "fig = chart_bar_with_side_by_side(df, improvement_col=\"umap improvement\", groupby=\"estimator\", inner_group=[\"train_datasets\", \"in_use_features\"])\n",
    "fig.add_hline(y=1.0, line_dash=\"dash\", line_color=\"red\")\n",
    "fig.update_layout(\n",
    "    title=\"Improvement using different features\",\n",
    "    xaxis_title=\"dataset /  features\",\n",
    "    yaxis_title=\"Improvement over using all features\",\n",
    "    legend_title=\"Estimator\",\n",
    "    width=1200,\n",
    "    height=600\n",
    ")\n",
    "fig.show()"
   ]
  }
 ],
 "metadata": {
  "kernelspec": {
   "display_name": ".librep-venv",
   "language": "python",
   "name": "python3"
  },
  "language_info": {
   "codemirror_mode": {
    "name": "ipython",
    "version": 3
   },
   "file_extension": ".py",
   "mimetype": "text/x-python",
   "name": "python",
   "nbconvert_exporter": "python",
   "pygments_lexer": "ipython3",
   "version": "3.10.6"
  },
  "orig_nbformat": 4,
  "vscode": {
   "interpreter": {
    "hash": "e57cbd9857f73b6186314efc0497b85fc81e429910d4dfbf03f56c852bfb6a26"
   }
  }
 },
 "nbformat": 4,
 "nbformat_minor": 2
}
